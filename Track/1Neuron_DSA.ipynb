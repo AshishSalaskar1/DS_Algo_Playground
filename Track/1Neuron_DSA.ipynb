{
 "cells": [
  {
   "cell_type": "code",
   "execution_count": 1,
   "id": "e40b4518",
   "metadata": {},
   "outputs": [],
   "source": [
    "import numpy as np\n",
    "import pandas as pd"
   ]
  },
  {
   "cell_type": "markdown",
   "id": "dde8453c-8f77-4c1d-bf5f-77aae9c02c6d",
   "metadata": {
    "tags": []
   },
   "source": [
    "## Array Based"
   ]
  },
  {
   "cell_type": "markdown",
   "id": "13d34d9f",
   "metadata": {},
   "source": [
    "### Sort array of 0,1\n"
   ]
  },
  {
   "cell_type": "code",
   "execution_count": 20,
   "id": "bba27229-051e-4418-a7dd-1e056c393110",
   "metadata": {},
   "outputs": [],
   "source": [
    "def sort_01(arr):\n",
    "    lo = 0\n",
    "    hi = len(arr)-1\n",
    "\n",
    "    while lo <= hi:\n",
    "        while arr[lo] == 0:  # find 1 from l->R\n",
    "            lo += 1            \n",
    "        while arr[hi] == 1: # find 0 from R<-L\n",
    "            hi -= 1\n",
    "\n",
    "        if lo >= hi:\n",
    "            break\n",
    "        arr[lo],arr[hi] = arr[hi],arr[lo]\n",
    "        lo += 1\n",
    "        hi -= 1\n",
    "        # print(arr,lo,hi)\n",
    "\n",
    "    return arr"
   ]
  },
  {
   "cell_type": "code",
   "execution_count": 21,
   "id": "c1b3f5b3",
   "metadata": {},
   "outputs": [
    {
     "name": "stdout",
     "output_type": "stream",
     "text": [
      "[0, 0, 0, 0, 0, 0, 1, 1, 1, 1, 1]\n"
     ]
    }
   ],
   "source": [
    "arr = [1,0,0,1,1,0,1,0,0,0,1]\n",
    "print(sort_01(arr))"
   ]
  },
  {
   "cell_type": "markdown",
   "metadata": {},
   "source": [
    "### Sort array of 0,1,2 : Dutch National Flag Algorithm"
   ]
  },
  {
   "cell_type": "code",
   "execution_count": 47,
   "id": "6da35817",
   "metadata": {},
   "outputs": [],
   "source": [
    "def DNF(arr):\n",
    "    '''\n",
    "    lo, mid, hi <- mid iterates and swaps...\n",
    "    0s in between : 0<->lo\n",
    "    2s in between : hi<->N\n",
    "    1s get auto-filles betwwen lo<->hi\n",
    "    At any points.. i<lo : 0s filled, i>hi : 2s filled\n",
    "    '''\n",
    "\n",
    "    lo = mid = 0\n",
    "    hi = len(arr)-1\n",
    "\n",
    "    while mid <= hi: # mid>hi, stop(everything after hi is already 2)\n",
    "        if arr[mid] == 0:\n",
    "            arr[lo],arr[mid] = arr[mid], arr[lo]\n",
    "            lo += 1\n",
    "            mid += 1\n",
    "        elif arr[mid] == 2:\n",
    "            arr[mid],arr[hi] = arr[hi], arr[mid]\n",
    "            hi -= 1\n",
    "        else:\n",
    "            mid += 1\n",
    "    return arr\n"
   ]
  },
  {
   "cell_type": "code",
   "execution_count": 48,
   "id": "014f31a9",
   "metadata": {},
   "outputs": [
    {
     "name": "stdout",
     "output_type": "stream",
     "text": [
      "[0, 0, 0, 0, 0, 1, 1, 2, 2, 2]\n"
     ]
    }
   ],
   "source": [
    "arr = [0,2,1,2,1,0,0,0,0,2]\n",
    "print(DNF(arr))"
   ]
  },
  {
   "cell_type": "code",
   "execution_count": 43,
   "id": "a47bee64",
   "metadata": {},
   "outputs": [
    {
     "data": {
      "text/plain": [
       "'\\nQ> Why swap(hi--,mid), swap(lo++,mid++) \\n-> Say ny default last ele = 2, then hi=2\\n   [0,lo,mid=2,1,1,1,0,1,1,hi=2]\\n   if swap(mid++,hi--) -> [0,lo=2,mid=2,2,1,0,1,hi=1,2] \\n   Here 2 at index 1 gets stuck, as mid doesnt ever come back. So dont increment mid for this case\\n\\n   Say a[0] = lo = 0\\n   in this case, initially lo=mid=0, so lo and mid are swapped and incremented so lo will never be 0\\n'"
      ]
     },
     "execution_count": 43,
     "metadata": {},
     "output_type": "execute_result"
    }
   ],
   "source": [
    "'''\n",
    "Q> Why swap(hi--,mid), swap(lo++,mid++) \n",
    "-> Say ny default last ele = 2, then hi=2\n",
    "   [0,lo,mid=2,1,1,1,0,1,1,hi=2]\n",
    "   if swap(mid++,hi--) -> [0,lo=2,mid=2,2,1,0,1,hi=1,2] \n",
    "   Here 2 at index 1 gets stuck, as mid doesnt ever come back. So dont increment mid for this case\n",
    "\n",
    "   Say a[0] = lo = 0\n",
    "   in this case, initially lo=mid=0, so lo and mid are swapped and incremented so lo will never be 0\n",
    "'''"
   ]
  },
  {
   "cell_type": "code",
   "execution_count": 41,
   "id": "18962391-075d-4130-a192-05856e0e9f0c",
   "metadata": {},
   "outputs": [
    {
     "name": "stdout",
     "output_type": "stream",
     "text": [
      "[0, 0, 0, 0, 1, 1, 0, 2, 2, 2]\n"
     ]
    }
   ],
   "source": []
  },
  {
   "cell_type": "code",
   "execution_count": null,
   "id": "ef005c85-0f13-4916-a06a-1a4ab71f7541",
   "metadata": {},
   "outputs": [],
   "source": []
  },
  {
   "cell_type": "code",
   "execution_count": null,
   "id": "0c57d434-408c-47c8-a4f3-8c34d54c64de",
   "metadata": {},
   "outputs": [],
   "source": []
  },
  {
   "cell_type": "code",
   "execution_count": null,
   "id": "6fd6894f-548e-4c5a-a410-b126cfff3244",
   "metadata": {},
   "outputs": [],
   "source": []
  },
  {
   "cell_type": "markdown",
   "id": "078985b4-3f12-4494-8e7c-e8869990189a",
   "metadata": {
    "tags": []
   },
   "source": [
    "## Stacks"
   ]
  },
  {
   "cell_type": "code",
   "execution_count": null,
   "id": "76e23842-04e6-401a-b817-dde2a9f695a5",
   "metadata": {},
   "outputs": [],
   "source": []
  },
  {
   "cell_type": "markdown",
   "id": "81c629fa-1775-4b8d-9f8a-94acafa6aa49",
   "metadata": {
    "tags": []
   },
   "source": [
    "## Queues"
   ]
  },
  {
   "cell_type": "code",
   "execution_count": null,
   "id": "f5103eb6-f511-4be2-9171-66990994f975",
   "metadata": {},
   "outputs": [],
   "source": []
  },
  {
   "cell_type": "markdown",
   "id": "0c382576",
   "metadata": {},
   "source": [
    "## Linked Lists"
   ]
  },
  {
   "cell_type": "markdown",
   "id": "860bc1cf",
   "metadata": {},
   "source": [
    "### Reverse LL"
   ]
  },
  {
   "cell_type": "code",
   "execution_count": 9,
   "id": "71ce5031",
   "metadata": {},
   "outputs": [],
   "source": [
    "def reverseList(self, head):\n",
    "    prev = None\n",
    "    next = None\n",
    "    cur = head\n",
    "\n",
    "    while cur is not None:\n",
    "        next = cur.next\n",
    "        cur.next = prev\n",
    "        prev = cur\n",
    "        cur = next\n",
    "    return prev"
   ]
  },
  {
   "cell_type": "markdown",
   "id": "20d2c803",
   "metadata": {},
   "source": [
    "### Mid in Linked List"
   ]
  },
  {
   "cell_type": "code",
   "execution_count": null,
   "id": "ff13dcdc",
   "metadata": {},
   "outputs": [],
   "source": [
    "def middleNode(self, head):\n",
    "    slow = head\n",
    "    fast = head\n",
    "\n",
    "    while fast and fast.next:\n",
    "        slow = slow.next\n",
    "        fast = fast.next.next\n",
    "\n",
    "    return slow\n"
   ]
  },
  {
   "cell_type": "markdown",
   "id": "686d965b-e5cc-4ad4-9ff3-b07b6ecf8cba",
   "metadata": {
    "tags": []
   },
   "source": [
    "## Graphs"
   ]
  },
  {
   "cell_type": "code",
   "execution_count": null,
   "id": "813e03dc-128d-4481-bdb9-6df5c1b30ad7",
   "metadata": {},
   "outputs": [],
   "source": []
  },
  {
   "cell_type": "markdown",
   "id": "5e60f42b-5705-48b7-aec6-96b2debfb38b",
   "metadata": {
    "tags": []
   },
   "source": [
    "## Tree"
   ]
  },
  {
   "cell_type": "code",
   "execution_count": null,
   "id": "c4b0de15-be1d-4616-a9d6-0069b5fda2cc",
   "metadata": {},
   "outputs": [],
   "source": []
  },
  {
   "cell_type": "markdown",
   "id": "8ba58d2b-a5f8-42a5-92c2-b9173dfb7452",
   "metadata": {
    "tags": []
   },
   "source": [
    "## Recursion + DP"
   ]
  },
  {
   "cell_type": "code",
   "execution_count": null,
   "id": "a658f9ce-0ba8-46f5-a525-81046ff66af8",
   "metadata": {},
   "outputs": [],
   "source": []
  },
  {
   "cell_type": "markdown",
   "id": "68de3bf7-9958-4343-9f09-97d193c64b6e",
   "metadata": {
    "tags": []
   },
   "source": [
    "## Math"
   ]
  },
  {
   "cell_type": "code",
   "execution_count": null,
   "id": "7480c79c-37c0-4ab1-a5d6-6d3125969418",
   "metadata": {},
   "outputs": [],
   "source": []
  }
 ],
 "metadata": {
  "kernelspec": {
   "display_name": "Python 3 (ipykernel)",
   "language": "python",
   "name": "python3"
  },
  "language_info": {
   "codemirror_mode": {
    "name": "ipython",
    "version": 3
   },
   "file_extension": ".py",
   "mimetype": "text/x-python",
   "name": "python",
   "nbconvert_exporter": "python",
   "pygments_lexer": "ipython3",
   "version": "3.9.7"
  }
 },
 "nbformat": 4,
 "nbformat_minor": 5
}
