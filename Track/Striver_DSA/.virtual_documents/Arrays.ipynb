# EXTENSION: https://github.com/krassowski/jupyterlab-lsp
# AUTOCOMPLETION: https://github.com/python-lsp/python-lsp-server/issues/37
# DISABLE LINTING: https://github.com/python-lsp/python-lsp-server/issues/37


def findSecondLargest(arr):
    max_ele, sec_max = float("-inf"), float("-inf")
    for x in arr:
        # in case new max is found, udpate and make older max as second_max
        if x > max_ele:
            sec_max = max_ele
            max_ele = x
        # x > sec but not smaller than max (Also handle duplicates)
        elif x>sec_max and x!=max_ele:
            sec_max = x
    
    return sec_max if sec_max!=float("-inf") else -1


arr = [1,2,3]
findSecondLargest(arr)



def removeDuplicates(arr,n):
    if n==1:
        return 1

    unique_ptr = 0
    for i in range(1,n):
        # if x==unique_ptr (its a duplicate of last seen unique number)
        # just skip, we dont want to replace anything
        if arr[i] == arr[unique_ptr]:
            continue
        # we got a unique num, unique_ptr++ and replace 
        else:
            unique_ptr += 1
            arr[unique_ptr] = arr[i]

    return unique_ptr+1


arr = [1 ,2 ,2 ,3 ,3 ,3 ,4 ,4 ,5,5 ]
k = removeDuplicates(arr,10) # ANS=5
print(k, arr)


def reverse(arr, i, j):
    """
    reverse given range in array 
    i, j are inclusive
    """
    lo, hi = i,j
    while lo<hi:
        arr[lo], arr[hi] = arr[hi], arr[lo]
        lo += 1
        hi -= 1

def rotate_by_k(arr,n,k):
    k = k%n
    reverse(arr, 0, k-1)
    reverse(arr, k,n-1)
    reverse(arr, 0,n-1)

    print(arr)




arr,k = [1,2,3,4,5,6,7],3
rotate_by_k(arr,len(arr),k)

arr,k = [3,7,8,9,10,11],2
rotate_by_k(arr,len(arr),k)



def move_zeros(arr, n):
    """
    TC: O(n^2)
    SC: O(1)
    """
    for i in range(n):
        # if 0 is found, replace it with next non zero element
        if arr[i] == 0: 
            for j in range(i+1,n):
                if arr[j]!=0:
                    arr[i], arr[j] = arr[j], arr[i]
                    break
    print(arr)


def move_zeros_v2(arr, n):
    """
    TC: O(n)
    SC: O(1)
    """
    zero_ptr = -1
    # find location of first zero
    for i in range(n):
        if arr[i]==0:
            zero_ptr = i
            break

    if zero_ptr == -1: #no zeros found
        return arr
    
    cur_ptr = zero_ptr+1
    while cur_ptr<n and zero_ptr<n:
        if arr[cur_ptr] != 0:
            arr[cur_ptr], arr[zero_ptr] = arr[zero_ptr], arr[cur_ptr]
            zero_ptr += 1
        
        # in case cur is also zero -> just cur_ptr++
        cur_ptr += 1

    return arr



arr = [1 ,0 ,2 ,3 ,0 ,4 ,0 ,1]
move_zeros(arr,len(arr))

arr = [1 ,0 ,2 ,3 ,0 ,4 ,0 ,1]
move_zeros_v2(arr,len(arr))


def intersetion_arrays(arr1, arr2):
    n1 = len(arr1)
    n2 = len(arr2)
    res = []

    i,j = 0,0
    while i<n1 and j<n2:
        if arr1[i] == arr2[j]:
            res.append(arr1[i])
            i += 1
            j += 1
        # ele in arr1 in smaller and you want bigger one to make both equal
        elif arr1[i]<arr2[j]: 
            i += 1
        # ele in arr2 is smaller and you want arr2 ele bigger so that they become equal
        else:
            j += 1
    
    return res


# arr1 = [1, 2, 2, 2, 3, 4]
# arr2 = [2, 2, 3, 3]
# res  = [2, 2, 3]

arr1 = [1, 2, 2, 2, 3, 4]
arr2 = [2, 2, 3, 3]
print(intersetion_arrays(arr1, arr2))


def merge_sorted_arrays(arr,arr2):
    """
    NOT OPTIMAL SOLUTION
    Optimal Sol: https://www.codingninjas.com/codestudio/problem-details/ninja-and-sorted-arrays_1214628
    """
    arr1 = [x for x in arr if x!=0]
    n1 = len(arr1)
    n2 = len(arr2)
    res = []

    i,j = 0,0

    while i<n1 and j<n2:
        if arr1[i] < arr2[j]:
            res.append(arr1[i])
            i += 1
        else:
            res.append(arr2[j])
            j += 1


    # one is used another remaining
    if i<n1:
        for x in range(i,n1):
            res.append(arr1[x])
    if j<n2:
         for x in range(j,n2):
            res.append(arr2[x])
    
    return res


arr1 = [1,2,3,4,5,6,7,8,9,10]
arr2 = [2,3,4,4,5,11,12]
print(merge_sorted_arrays(arr1,arr2))


def longest_subarray_sum(arr, n, k):
    """
    only return L -> length of max subarray with sum=k
    """
    hmap = {} # csum -> index
    psum = 0 # prefix sum
    max_len = 0
    
    for i,x in enumerate(arr):
        psum += x
        
        # subarray with sum found [start:i]
        if psum == k:
            max_len = max(max_len, i+1)
        
        # subarray sum
        req_seen_sum = psum-k
        if req_seen_sum in hmap:
            max_len = max(max_len, i-hmap[req_seen_sum])
        # add current psum in hmap
        if psum not in hmap: 
            hmap[psum] = i
               
            
    return max_len   
    


arr, k  = [7,1,6,0], 7 # Length of the longest subarray with sum K is 3
print(longest_subarray_sum(arr, len(arr),k))
      
arr, k  = [2,3,5,1,9], 10 # Length of the longest subarray with sum K is 3
print(longest_subarray_sum(arr, len(arr),k))


def count_subarray_sum(arr, n, k):
    hmap = {} # csum -> count
    csum = 0
    count = 0
    
    for i,x in enumerate(arr):
        csum += x
        
        if csum == k:
            count += 1
        
        rem_target = csum-k
        if rem_target in hmap:
            count += hmap[rem_target]
            
        # if this csum is already seen before
        # it means two ways are there to get this csum (one now, n one before)
        hmap[csum] = hmap.get(csum,0) + 1
    
    return count
    


arr, k = [3,1,2,4], 6 # res=2
print(count_subarray_sum(arr, len(arr),k))

arr, k = [6,9,3,2], 9 # res=1
print(count_subarray_sum(arr, len(arr),k))


def pair_sum(arr, n, target):
    arr = sorted(arr)
    lo, hi = 0, n-1
    
    while lo < hi:
        psum = arr[lo] + arr[hi]
        
        if psum == target:
            return True
        elif psum > target:
            hi -= 1 
        else:
            lo += 1
            
    return False
 


arr, target = [4, 1, 2, 3, 1], 5
print(pair_sum(arr, len(arr), target))


def count_pair_sum(arr, n, target):
    arr = sorted(arr)
    lo, hi = 0, n-1
    
    while lo < hi:
        psum = arr[lo] + arr[hi]
        
        if psum == target:
            return True
        elif psum > target:
            hi -= 1 
        else:
            lo += 1
            
    return False
 


arr, target = [2,8,10,5,-2,5], 10 # res =2 















