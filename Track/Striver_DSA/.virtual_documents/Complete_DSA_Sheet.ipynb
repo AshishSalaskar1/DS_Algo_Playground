import numpy as np
import pandas as pd
from IPython.display import Image, display



def printList(arr):
    print("DP ARRAY",*arr, sep="\n")
    
def printImage(path):
    display(Image(filename=path),)

def test():
  return None


def uniqueOccurrences( arr):
    hmap = {}
    hset = {}
    
    for num in arr:
        hmap[num] = hmap.get(num,0) + 1
    
    # find if all occurences are unique
    occurences = list(hmap.values())
    
    return len(occurences) == len(set(occurences))
    


def findDuplicates(arr):
    n = len(arr)
    
    for idx in range(n):
        i = idx
        if arr[i] == i+1:
            continue 
        else:
            while i != arr[i]-1 and arr[i] != arr[arr[i]-1]:
                arr[arr[i]-1], arr[i] = arr[i], arr[arr[i]-1]
                # arr[i], arr[arr[i]-1] =  arr[arr[i]-1], arr[i] -> GIVES TLE? RIght hand side is cached
                
    duplicates = []
    for i in range(n):
        if arr[i] != i+1 :
            duplicates.append(arr[i])

    return duplicates
                



findDuplicates([4,3,2,7,8,2,3,1])


def pascals_triangle(N):
    arr = []
    for i in range(1,N+1):
        arr.append([1]*i)
        if i>2:
            for j in range(1,i-1):
                arr[-1][j] = arr[-2][j] + arr[-2][j-1]
                
    return arr



printList(pascals_triangle(5))


def sort_01(arr):
    n = len(arr)
    zero_ptr = 0
    one_ptr = n-1
    cur = 0

    while cur < one_ptr:
        if arr[cur] == 1:
            arr[cur], arr[one_ptr] = arr[one_ptr], arr[cur] 
            one_ptr -= 1
        else:
            cur += 1
    return arr


arr = [1,0,0,1,0,1,0,0,0]
print(sort_01(arr))

arr = [1,1,1,1,0,0,0,0]
print(sort_01(arr))

arr = [0,0,0,0,1,1,1]
print(sort_01(arr))


def DNF(arr):
    '''
    lo, cur, hi <- cur iterates and swaps...
    0s in between : 0<->lo
    2s in between : hi<->N
    1s get auto-filles betwwen lo<->hi
    At any points.. i<lo : 0s filled, i>hi : 2s filled
    '''

    lo = cur = 0
    hi = len(arr)-1

    while cur <= hi: # mid>hi, stop(everything after hi is already 2)
        if arr[cur] == 0:
            arr[lo],arr[cur] = arr[cur], arr[lo]
            lo += 1
            cur += 1
        elif arr[cur] == 2:
            arr[cur],arr[hi] = arr[hi], arr[cur]
            hi -= 1 # dont increment cur. Why? -> you dont know what hi holds [Becuase like lo we cant be sure it is 0]
        else:
            cur += 1
    return arr



arr = [0,2,1,2,1,0,0,0,0,2]
arr = [0,0,0,0,0,0,1,1,1,1]
print(DNF(arr))


def kadanes_algorithm_with_DP(arr):
    n = len(arr)
    dp = [arr[0]]
    cur_max = arr[0]
    max_till_now = arr[0]

    for x in arr[1:]:
        cur_max = max(cur_max+x, x)
        max_till_now = max(max_till_now, cur_max)
        dp.append(cur_max)

    print(*dp,sep=" ")
    return max_till_now


def kadanes(arr):
    n = len(arr)
    res = arr[0]
    c_sum = 0

    for cur in arr:
        c_sum += cur
        res = max(res, c_sum)    
        if c_sum < 0:
            c_sum = 0
    return res


nums = [-2,1,-3,4,-1,2,1,-5,4] # res  = 6
kadanes(nums)


def flipBits(arr, n): 
    total_ones = 0
    all_ones = True
    for i, x in enumerate(arr):
        if x == 0:
            arr[i] = 1
            all_ones =False
        else:
            total_ones +=1
            arr[i] = -1
            
    if all_ones:
        return n
    
    # KADANES ALGORITHM
    res = arr[0]
    cur = arr[0]
    
    for x in arr[1:]:
        cur = max(cur+x,x)
        res = max(res, cur)
        
    return res + total_ones
     
     


def maxSubSumKConcat(arr, n, k):
    arr_sum = sum(arr)
    if k<=1:
        return kadanes(arr)
    elif arr_sum<0:
        return kadanes(arr*2)
    else:
        return kadanes(arr*2) + ((k-2)*arr_sum)


def power(x,n):
    res = 1
    base = x

    while n>0:
        if n%2 == 0: # even power
            n = n//2
            base = base ** 2
        else:   # odd power
            res = res * base
            n = n-1
    return res


power(2,15)


def findDuplicate(nums):
    res = 0
    for i,x in enumerate(nums):
        if i>0:
            res = res^i
        res = res^x
    return res


findDuplicate([1,2,3,4,4])


def longest_sb_zero_sum(arr):
  n = len(arr)
  csum = 0
  max_len = 0
  hmap = {}

  for i,x in enumerate(arr):
    csum += x
    
    if csum == 0:
      max_len = max(max_len, i+1)
    elif csum in hmap:
      max_len = max(max_len, i-hmap[csum])
    else:
      hmap[csum] = i
  
  return max_len




arr = [1,3,-1,4,-4]
print(arr, longest_sb_zero_sum(arr))

arr = [1,-1,2,-2 ]
print(arr, longest_sb_zero_sum(arr))

arr = [4,-5,1]
print(arr, longest_sb_zero_sum(arr))

arr = [1,2,1,-2]
print(arr, longest_sb_zero_sum(arr))



def squares_sorted_array(arr):
        n = len(arr)

        start = 0
        end = n-1
        res_index = n-1 # in each step you compare the extremes -> take the max one and out it in the last index and dccrement that index
        res = [0]*n

        while start <= end: 
            if arr[start]**2 > arr[end]**2: # You picked the first element as max
                res[res_index] = arr[start]**2
                start += 1
            else: # you picked the last element as max
                res[res_index]  = arr[end]**2
                end -=1 
            
            res_index -=1 


        return res


arr = [-10,-3,1,2,4]
squares_sorted_array(arr)


def reverse_array(arr, start=None, end=None):
    n = len(arr)
    lo = start if start else 0
    hi = end-1 if end else n-1
    while lo < hi:
        arr[lo], arr[hi] = arr[hi], arr[lo]
        lo += 1
        hi -= 1
    return arr

def rotate_array(arr, k):
    n = len(arr)
    k = k%n # if k>n
    res = reverse_array(arr[:n-k]) + reverse_array(arr[k+1:])
    return reverse_array(res)



arr = [1,2,3,4,5,6,7]
k =3 

rotate_array(arr, k)



def rotate_left(arr):
    """
    Do not return anything, modify matrix in-place instead.
    """
    n = len(arr)

    # flip horizontally
    for row in range(n//2):
        for col in range(n):
            arr[row][col], arr[n-1-row][col] = arr[n-1-row][col], arr[row][col]

    # flip diagonally
    for row in range(n):
        for col in range(row+1,n):
            arr[row][col], arr[col][row] = arr[col][row],arr[row][col]

    return arr


arr = [[1,2,3],[4,5,6],[7,8,9]]
printList(arr)
print("AFTER ROTATION")
arr = rotate_left(arr)
printList(arr)



def move_zeros(arr):
    n = len(arr)
    zero_ptr = 0

    for i in range(n):
        if arr[i] != 0:
            arr[i], arr[zero_ptr] = arr[zero_ptr], arr[i]
            zero_ptr += 1
    
    for i in range(zero_ptr,n):
        arr[i] = 0

    return arr


def moveZeroes(arr):
    n = len(arr)
    for i in range(n):
        if arr[i] == 0: # find next non zero element and swap if found
            for j in range(i+1,n):
                if arr[j] != 0:
                    arr[i], arr[j] = arr[j], arr[i]
                    break
                
                if i==n-1: # if there is no non-zero left on right -> Completed
                    return


arr = [0,1,0,2,4,67]
print(move_zeros(arr))
arr = [4,1,0,2,0,10]
print(move_zeros(arr))


def two_sum_sorted(arr, target):
    n = len(arr)
    lo = 0 
    hi = n-1

    while lo<hi:
        cSum = arr[lo]+arr[hi]

        if cSum == target:
            return lo,hi
        elif cSum > target:
            hi -= 1
        else:
            lo += 1
    return -1,-1


arr = [2,7,11,15]
two_sum_sorted(arr, 9)


class FF:
    def __init__(self, arr, i, j, fill_color):
        self.arr = arr
        self.nr = len(arr)
        self.nc = len(arr[0])
        self.vis = [[False for _ in range(self.nc)] for _ in range(self.nr)]
        
        self.flood_fill(i, j, arr[i][j], fill_color)
        printList(self.arr)
    
    def isValid(self, i, j):
        return i>=0 and i<self.nr and j>=0 and j<self.nc   

    def flood_fill(self, i,j,old_color, new_color):
        if self.isValid(i,j) and not self.vis[i][j] and self.arr[i][j] == old_color:
            self.arr[i][j] = new_color
            self.vis[i][j] = True
        
            # Explore all four directions
            self.flood_fill(i+1,j,old_color, new_color)
            self.flood_fill(i-1,j,old_color, new_color)
            self.flood_fill(i,j+1,old_color, new_color)
            self.flood_fill(i,j-1,old_color, new_color)
            


arr = [
    [1,1,1],
    [1,1,0],
    [1,0,1]
]

arr = [[0,0,0],[0,1,1]]

FF(arr, 1,1,1)


# BRUTE FORCE O(N*N)

def longestCommonPrefix(strs):
        prev_word = strs[0]
        
        if len(strs) == 1:
            return strs[0]
        
        for word in strs[1:]:
            i,j = 0, 0
            prefix = ""
            while i<len(word) and j<len(prev_word) and word[i]==prev_word[j]:
                prefix += word[i]
                i += 1
                j += 1
            prev_word = prefix
                
        return prefix


# O(N*logN) + N

def longestCommonPrefix(strs):
    strs = sorted(strs)
    
    first = strs[0]
    last = strs[-1]
    
    res = ""
    for i in range(len(first)):
        if first[i] == last[i]:
            res += first[i]
        else:
            break
    return res
        
            
        


arr = ["flower","flow","flowight"]
print(longestCommonPrefix(arr))

arr = ["dog","racecar","car"]
print(longestCommonPrefix(arr))

arr = ["flower","flow","flight"]
print(longestCommonPrefix(arr))



def max_subarray_sum(arr):
    max_so_far = arr[0]
    max_ending_here = arr[0]

    for x in arr[1:]:
        max_ending_here = max(max_ending_here+x,x) # either include this ele or take only this ele
        max_so_far = max(max_so_far, max_ending_here)
    
    return max_so_far


arr = [-2, -3, 4, -1, -2, 1, 5, -3]
print(max_subarray_sum(arr))

arr = [-2, -3, -4, -1, -2, -11, -5, -3]
print(max_subarray_sum(arr))


def max_even_odd_subarray(arr):
    n = len(arr)
    res = 1
    cur_len = 1

    for i in range(n):
        # check if cur element can be added to older sequence
        if (arr[i]%2 == 0 and arr[i-1]%2 != 0) or (arr[i]%2 != 0 and arr[i-1]%2 == 0): # can be added
            cur_len += 1
            res = max(res, cur_len)
        else: #start new subarray from here
            cur_len = 1
    return res



arr = [5, 10, 20, 6, 3, 8]
print(max_even_odd_subarray(arr))


def max_subarray_sum(arr):
    max_so_far = arr[0]
    max_ending_here = arr[0]

    for x in arr[1:]:
        max_ending_here = max(max_ending_here+x,x) # either include this ele or take only this ele
        max_so_far = max(max_so_far, max_ending_here)
    
    return max_so_far 
    
def min_subarray_sum(arr):
    min_till_now = arr[0]
    cur_min = arr[0]

    for x in arr[1:]:
        cur_min = min(cur_min+x, x)
        min_till_now = min(cur_min, min_till_now)
        
    return min_till_now

arr = [1,2,-2,4,5]
min_subarray_sum(arr)


def max_circular_subarray_sum(arr):
    max_normal = max_subarray_sum(arr)

    min_sum = min_subarray_sum(arr)
    max_circular = sum(arr) - min_sum

    # if circular = 0, means it picked all ele as min_sub_array (you need to pick interior min and circular join outer ones which isnt possible here)
    if max_circular == 0: 
        return max_normal

    return max(max_normal, max_circular)


arr = [1,2,-2,4,5] # In this case we get better result by rotating array -> [|4,5,1,2|-2]
print(arr, max_circular_subarray_sum(arr))

arr = [-1,2,10,4,-5] # in this case we get better result from normal array instead of circular one -> [-1,|2,10,4|,-5]
print(arr, max_circular_subarray_sum(arr))


arr = [-12, -14] #max_circular_sum = 0
print(arr, max_circular_subarray_sum(arr))



def threeSum(arr):
    n = len(arr)
    target = 0
    arr = sorted(arr)
    res = set()
    
    for i in range(n-2):
        val = arr[i]
        
        lo =  i+1
        hi = n-1
        while lo<hi:
            c_sum = val + arr[lo] + arr[hi]
            if c_sum == target:
                res.add((val, arr[lo], arr[hi]))
                lo += 1
                hi -=1
            elif c_sum > target:
                hi -= 1
            else:
                lo += 1
    return res


arr = [-1,0,1,2,-1,-4]
threeSum(arr)



def threeSum(arr):
    n = len(arr)
    target = 0
    arr = sorted(arr)
    res = []
    
    #  [-1,0,1,2,-1,-4] -> [-4, -1, -1, 0, 1, 2]
    
    for i in range(n-2):
        if i!=0 and arr[i]==arr[i-1]: # if same ele was seen before ignore (why i-1? sorted array)
            continue
        val = arr[i]
        
        lo =  i+1
        hi = n-1
        while lo<hi:
            c_sum = val + arr[lo] + arr[hi]
            if c_sum == target:
                res.append((val, arr[lo], arr[hi]))
                
                # [0,1,lo=2,2,2,3,4,5,6,hi=6,7] let say you got needed ans=6, then next you need lo=3, hi=5
                while lo<hi and arr[lo]==arr[lo+1]: # increment until lo is not same as ans
                    lo += 1
                while lo<hi and arr[hi]==arr[hi-1]: # increment until hi is not same as ans
                    hi -= 1
                
                lo += 1
                hi -=1
            elif c_sum > target:
                hi -= 1
            else:
                lo += 1
    return res


arr = [-1,0,1,2,-1,-4]
threeSum(arr)


class FourSolution:
    def threeSum(self, arr, target):
        n = len(arr)
        res = set()
        
        for i in range(n-2):
            val = arr[i]
            
            lo =  i+1
            hi = n-1
            while lo<hi:
                c_sum = val + arr[lo] + arr[hi]
                if c_sum == target:
                    res.add((val, arr[lo], arr[hi]))
                    lo += 1
                    hi -=1
                elif c_sum > target:
                    hi -= 1
                else:
                    lo += 1
        return res
        
    def fourSum(self, arr, target):
        res = set()
        arr = sorted(arr)
        
        for i in range(len(arr)-3):
            x = arr[i]
            rem_target = target-x
            temp_res = self.threeSum(arr[i+1:], rem_target)
            
            for tup in temp_res:
                res.add((x,*tup))
        return res
        


arr = [1,0,-1,0,-2,2]
print(FourSolution().fourSum(arr,target=0))

arr = [2,2,2,2,2]
print(FourSolution().fourSum(arr,target=8))


def min_group_flips(arr):
    counts = [0,0]
    counts[arr[0]] = 1

    for i in range(1,len(arr)):
        if arr[i] == arr[i-1]:
            continue
        else:
            counts[arr[i]] += 1
    return min(counts)



def min_group_flips_with_index(arr):
    n = len(arr)
    flips = {0:[], 1:[]}
    
    cur_ele = arr[0]
    cur_start_index = 0

    for i in range(1,n):
        if arr[i] == arr[i-1]:
            continue
        else: # old streak broken | start new streak 
            flips[cur_ele].append((cur_start_index,i-1))
            cur_start_index = i # reset index
            cur_ele = arr[i] # reset curEle
            
    flips[cur_ele].append((cur_start_index,n-1))

    count_flips = [len(flips[key]) for key in [0,1]]
    result = 0 if count_flips[0] < count_flips[1] else 1
    
    return (result, count_flips[result], flips[result])


    


arr = [1,1,0,0,0,1] # res = 1 [2:4]
print(min_group_flips(arr))
print(min_group_flips_with_index(arr))

arr = [1,0,0,0,1,0,0,1,1,1,1] # res = 2 [1:3, 5:6]
print(min_group_flips(arr))
print(min_group_flips_with_index(arr))



def checkRotatedAndSorted(arr,n):
    sort_err = 0
    reverse_sort_err = 0
    
    for i in range(1,n):
        if arr[i-1] > arr[i]:
            sort_err += 1
        elif arr[i-1] < arr[i]:
            reverse_sort_err += 1
            
    # print(sort_err, reverse_sort_err, arr)
    if sort_err==1 or reverse_sort_err==1:
        if arr[0] < arr[-1]:# proper sorting error
            sort_err += 1
        else:
            reverse_sort_err += 1
        
        if sort_err==1 or reverse_sort_err==1:
            return True
    return False


display(Image(filename='src/max_len_subarray_sum.jpg'))


def longest_subarray_target(arr, target):
    n = len(arr)
    cSum = maxLen = 0
    hmap = {}
    resIndex = [0,0]

    for i, x in enumerate(arr):
        cSum += x
        findHmap = cSum-target
        if cSum == target: # [0 ... i] = target
            newLen = i+1
            if newLen > maxLen:
                maxLen = newLen
                resIndex[0], resIndex[1] = 0, i
        elif findHmap in hmap: # Target found
            newLen = i-hmap[findHmap]
            if newLen > maxLen:
                maxLen = newLen
                resIndex[0], resIndex[1] = hmap[findHmap]+1, i
        elif cSum not in hmap:  # why dont always add? [We need left most index -> longest subarray, so if a sum is already there dont add newwer one]
            hmap[cSum] = i
            
    return (maxLen, resIndex)




arr = [5,6,-5,5,3,5,3,-2,0]
print(longest_subarray_target(arr, 8))

arr = [5,5,-5,-5,2]
print(longest_subarray_target(arr, 2))


def count_subarray_sum_target(arr, target):
    hmap = {0:1} # consider initial csum as 0
    count = 0
    csum = 0
    
    for x in arr:
        csum += x
        
        if csum-target in hmap:
            count += hmap[csum-target]
        
        # If you have already seen this cur_sum ,that means
        # there are 2 ways to form sum in case any result uses cur_sum
        hmap[csum] = hmap.get(csum,0)+1
        
        # in longest_subarray_target we dont include csum if already seen. Why?
        # because we need longest, n earliest seen csum, longer the answer subarray
        
    return count
            


arr, target = [1,-1,0], 0
print(count_subarray_sum_target(arr, target))

arr, target = [1,2,1,2,1], 3
print(count_subarray_sum_target(arr, target))

arr, target = [1,2,3], 3
print(count_subarray_sum_target(arr, target))


display(Image(filename='src/subarray_sum_0.jpg'))


def check_zero_sum(arr):
    '''
    Return [start_index, end_index] which has subarray sum = 0
    '''
    n = len(arr)
    curSum = 0
    hist = {}

    curSum = 0
    for i,x in enumerate(arr):
        curSum += x
        if x in hist:
            return (hist[x]+1,i)
        elif curSum == 0:
            return (0,i)
        else:
            hist[curSum] = i
    return None



arr = [10, 20, -30, 1, 6]
check_zero_sum(arr)


display(Image(filename='src/Equilibrium_Point.jpg'))



def equilibrium(arr):
    '''
    Return equilibrium point
    '''
    n = len(arr)
    lSum = [0]*n

    cSum = 0
    for i in range(n):  # L->R Sum
        cSum += arr[i]
        lSum[i] = cSum

    cSum = 0
    for i in reversed(range(n)):  # L<-R Sum
        cSum += arr[i]
        if cSum == lSum[i]:
            return i
    return None
    
    
arr = [-3,5,-4,-2,3,1]
equilibrium(arr)


arr = [-3,5,-4,-2,3,1]
equilibrium(arr)


def productExceptSelf(arr) :
    n = len(arr)
    lsum, rsum, res  = [], [], []

    # arr:  1  2   3   4
    # lsum: 1  2   6  24
    # rsum: 1 24  12   4

    cs = 1
    for x in arr:
        cs *= x
        lsum.append(cs)
    cs = 1
    for x in arr[::-1]:
        cs *= x
        rsum.insert(0,cs)

    for i in range(n):
        if i==0: # first ele
            res.append(rsum[i+1])
        elif i==n-1: # last ele
            res.append(lsum[i-1])
        else:
            res.append(lsum[i-1]*rsum[i+1])

    return res


arr = [1,2,3,4]
print(arr," -> ",productExceptSelf(arr))

arr =  [-1,1,0,-3,3]
print(arr," -> ",productExceptSelf(arr))


def maxOccured(L,R,N,maxx):
        arr = [0 for _ in range(maxx+2)]
        
        for i in range(N):
            arr[L[i]] += 1
            arr[R[i]+1] -= 1
        
        # calculate prefix sums
        csum = arr[0]
        for i in range(1,len(arr)):
            arr[i] += arr[i-1]

        res, max_count = 0, arr[0]
        for i in range(1,len(arr)):
            if arr[i] > max_count:
                res = i
                max_count = arr[i]

        return res


L = [1,4,3,1]
R = [15,8,5,4]
maxOccured(L, R, 4, 15)


# https://leetcode.com/problems/merge-intervals/
def merge_intervals( intervals):
    intervals = sorted(intervals, key=lambda x:x[0])
    n = len(intervals)

    res = [intervals[0]]

    for x in intervals[1:]:
        start, end = x[0],  x[1]
        prev_start, prev_end = res[-1][0], res[-1][1]

        # merge
        if start <= prev_end:
            # you need to increase end_time of last time
            res[-1][1] = max(prev_end, end)
        else:
            res.append(x)

    return res




intervals = [[1,3],[2,6],[8,10],[15,18]]

print(intervals,"-->",merge_intervals(intervals))


def setZeroes(arr):
    zero_rows = []
    zero_cols = []

    n = len(arr[0])
    m = len(arr)

    for i in range(m):
        for j in range(n):
            if arr[i][j] == 0:
                zero_rows.append(i)
                zero_cols.append(j)

    for row in range(m):
        for col in range(n):
            if row in zero_rows or col in zero_cols:
                arr[row][col] = 0

    return arr


matrix = [[0,1,2,0],[3,4,5,2],[1,3,1,5]]
print(*setZeroes(matrix), sep="\n")


def pascals_traingle(numRows):
    res = [[1],[1,1],[1,2,1]]

    if numRows < 3:
        return res[:numRows]

    numRows = numRows - 3
    for _ in range(numRows):
        cur = [1]
        for i in range(1,len(res[-1])):
            cur.append(res[-1][i-1] + res[-1][i])
        cur.append(1)

        res.append(cur)

    return res


print(*pascals_traingle(5),sep="\n")


class Solution:
    def reverse(self, arr, lo, hi):
        hi -= 1
        while lo < hi:
            arr[lo], arr[hi] = arr[hi], arr[lo]
            hi -= 1
            lo += 1
        return arr
    
    def nextPermutation(self, arr):
        """
        Do not return anything, modify nums in-place instead.
        """
        n = len(arr)
        
        # search from back, first (a,b) => a>b 
        # pivot = a
        for i in reversed(range(n-1)):
            if arr[i]<arr[i+1]: 
                pivot = i
                # L <- R, find first ele > pivot
                for j in reversed(range(pivot+1,n)):
                    if arr[j] > arr[pivot]:
                        arr[j], arr[pivot] = arr[pivot], arr[j]
                        arr =  self.reverse(arr,pivot+1,n)
                        return 
                
                # pivot but no ele < pivot after pivot+1 index
                arr= self.reverse(arr,pivot+1,n)
                return 
        
        # no pivot found
        arr =  self.reverse(arr,0,n)
        return 


def searchMatrix(arr, target):
    nr = len(arr)
    nc = len(arr[0])

    row,col = 0,nc-1
    while row>=0 and row<nr and col>=0 and col<nc:
        ele = arr[row][col]

        if ele == target:
            return True, (row,col)
        elif ele > target:
            col -= 1
        else:
            row += 1

    return False



matrix = [[1,3,5,7],[10,11,16,20],[23,30,34,60]]
target =  3

searchMatrix(matrix, target)



def removeDuplicates(arr):
    start =  0 
    for i in range(1,len(arr)):
        if arr[i] != arr[start]:
            start += 1
            arr[start] = arr[i]

    return start+1 


def cyclic_sort(arr):
  n = len(arr)
  for i in range(n):
    while arr[i] != (i+1):
      correct_index = arr[i]-1 # actual index where current element must be placed in
      arr[correct_index], arr[i] = arr[i], arr[correct_index] # replace current element with where it is supposed to be placed
  return arr


arr = [5,1,3,2,4]

arr = [5,1,2,3,4]
cyclic_sort(arr)



def missing_number(arr):
  n = len(arr)

  for i in range(n):
    while arr[i] != i:
      actual_index = arr[i]
      if actual_index >= n:
        break
      arr[actual_index], arr[i] = arr[i], arr[actual_index]

  for i in range(n):
    if arr[i] != i:
      return i

  return n


nums = [3,0,1]
print(missing_number(nums) )

nums = [0,1]
print(missing_number(nums) )


def findDisappearedNumbers(arr):
  n = len(arr)
  for i in range(n):
      while arr[i] != (i+1):
          actual = arr[i]-1
          # check if actual index(>=n) or actual index already filled(duplicate)
          if actual >= n or arr[actual]==arr[i]:
              break
          arr[actual], arr[i] = arr[i], arr[actual]
  res = []
  for i in range(n):
      if arr[i] != (i+1):
          res.append(i+1)
          
  return res
  


nums = [4,3,2,7,8,2,3,1]
findDisappearedNumbers(nums)


def majorityElement(arr):
  n = len(arr)
  count = 0
  maj_ele = 0
  
  for x in arr:
      if count == 0: # some other ele occurs >= current maj_ele
          maj_ele = x
          count = 1
      elif x == maj_ele: # same ele as maj_ele
          count += 1
      else: # some different element
          count -= 1
  
  maj_count = 0
  for x in arr:
      if x == maj_ele:
          maj_count += 1

  return maj_ele if maj_count > (n//2) else -1
  


nums = [2,2,1,1,1,2,2]

print(majorityElement(nums))

print(majorityElement([1,2,3,4,5]))


def swap(a,b):
    return b,a


def find_pivot(arr, lo, hi):
    pivot = arr[hi] # take last ele as pivot
    pivotIndex = lo
    
    for i in range(lo,hi+1):
        if arr[i] < pivot:
            arr[i], arr[pivotIndex] = arr[pivotIndex], arr[i]
            pivotIndex += 1
    arr[pivotIndex], arr[hi] = arr[hi], arr[pivotIndex]
    return pivotIndex
            


def quicksort(arr,low,high):
    while low < high:
        pivot = find_pivot(arr,low,high)
        quicksort(arr, low, pivot-1)
        quicksort(arr,pivot+1, high)
    return
        


arr = [1,2,3,4,5,3]
quicksort(arr, 0, len(arr)-1)

print(arr)


def spiral(arr):
    nr = len(arr) - 1
    nc = len(arr[0]) - 1

    rStart, rEnd = 0, nr
    cStart, cEnd = 0, nc

    res = []
    
    while rStart<=rEnd and cStart<=cEnd:
        for i in range(cStart, cEnd+1):
            res.append(arr[rStart][i])
        rStart += 1
        
        for i in range(rStart, rEnd+1):
            res.append(arr[i][cEnd])
        cEnd -= 1
        
        if rStart <= rEnd:
            for i in reversed(range(cStart, cEnd+1)):
                res.append(arr[rEnd][i])
            rEnd -= 1
        
        if cStart <= cEnd:
            for i in reversed(range(rStart, rEnd+1)):
                res.append(arr[i][cStart])
            
            cStart += 1
    return res

            



arr = [
    [1, 2, 3],
    [4, 5, 6],
    [7, 8, 9]
]

arr1 = [
    [1, 2, 3,14],
    [4, 5, 6, 34],
    [7, 8, 9, 34]
]


print(spiral(arr))
print(spiral(arr1))



def generate_spiral_matrix(n):
    fill_ele = 1
    arr = [[0 for _ in range(n)] for _ in range(n)]
    
    nr = len(arr) - 1
    nc = len(arr[0]) - 1

    rStart, rEnd = 0, nr
    cStart, cEnd = 0, nc

    res = []

    while rStart<=rEnd and cStart<=cEnd:
        for i in range(cStart, cEnd+1):
            arr[rStart][i] = fill_ele
            fill_ele += 1
        rStart += 1

        for i in range(rStart, rEnd+1):
            arr[i][cEnd] = fill_ele
            fill_ele += 1
        cEnd -= 1

        if rStart <= rEnd:
            for i in reversed(range(cStart, cEnd+1)):
                arr[rEnd][i] = fill_ele
                fill_ele += 1
            rEnd -= 1

        if cStart <= cEnd:
            for i in reversed(range(rStart, rEnd+1)):
                arr[i][cStart] = fill_ele
                fill_ele += 1

            cStart += 1
    return arr

    


res = generate_spiral_matrix(n=4)
print(*res, sep="\n")





def toh(n, fromm, to, aux):
    if n==0:
        return
    
    toh(n-1,fromm,aux,to)
    print(f"move disk {n} from rod {fromm} to {to}")
    toh(n-1,aux,to,fromm)


toh(3,'A','C','B')


def subset_sum(arr, n, target): # start n-1 : last index (dont have to store len explicitly)
    if target == 0:
        return 1    
    if n==0: # exhausted all elements till now
        return 0

 
    if arr[n-1] > target:
        return subset_sum(arr, n-1, target)

    return subset_sum(arr, n-1, target) + subset_sum(arr, n-1, target -arr[n-1])

def dp_subset_sum(arr, target):
    n = len(arr)

    dp = [[0 for x in range(target+1)] for x in range(n+1)]

    for i in range(n+1): # number of elements left
        for j in range(target+1): # target sum left
            if j==0:
                dp[i][j] = 1
            elif i==0:
                dp[i][j] = 0
            elif arr[i-1] > j:
                dp[i][j] = dp[i-1][j]
            else:
                dp[i][j] = dp[i-1][j] + dp[i-1][j-arr[i-1]]

    # printList(dp)
    return dp[n][target] 
            
            
    


arr = [3, 34, 4, 12, 5, 2] # ANS=2
target = 9

print(subset_sum(arr, len(arr), target))
print(dp_subset_sum(arr, target))


def findWays(arr, target):
    n = len(arr)
    dp = [[0 for _ in range(target+1)] for _ in range(n)]

    for i in range(n):
        for j in range(target+1):
            if j == 0:
                dp[i][j] = 1
            elif i == 0:
                dp[i][j] = (1 if arr[0] == j else 0)
            elif arr[i] > j:
                dp[i][j] = dp[i-1][j]
            else:
                dp[i][j] = dp[i-1][j] + dp[i-1][j-arr[i]]

    return dp[n-1][target]



arr = [3, 34, 4, 12, 5, 2] # ANS=2
target = 9
print(findWays(arr, target))


def count_subset_plus(arr, target):
    n = len(arr)
    dp = [[0 for _ in range(target+1)] for _ in range(n)]

    for i in range(n):
        for j in range(target+1):
            if i == 0:
                if arr[i] == 0 and j==0:
                    dp[i][j] = 2
                elif arr[i] == j or j==0:
                    dp[i][j] = 1
                else:
                    dp[i][j] = 0
            elif arr[i] > j:
                dp[i][j] = dp[i-1][j]
            else:
                dp[i][j] = dp[i-1][j] + dp[i-1][j-arr[i]]

    printList(dp)
    return dp[n-1][target]



arr = [0,0,1]

print(count_subset_plus(arr,1))


def subset_sum_tf(n, k, arr, return_dp=False):
    dp = [[False for _ in range(k+1)] for _ in range(n)]

    for i in range(n):
        for j in range(k+1):
            if j == 0:
                dp[i][j] = True
            elif i == 0:
                dp[i][j] = (arr[i] == j)
            else:
                if arr[i] > j:
                    dp[i][j] = dp[i-1][j]
                else:
                    dp[i][j] = dp[i-1][j] or dp[i-1][j-arr[i]]
	
    if return_dp:
        return dp

    return dp[n-1][k]



def minSubsetSumDifference(arr, n):
    totalSum = sum(arr)
    minAbsSum = float('inf')

    dp = subset_sum_tf(n, totalSum, arr, True)

    for i in range(0, totalSum+1):
        s1 = dp[-1][i] # True|False -> Can you make or not
        if s1:
            curDiff = abs(i-(totalSum-i))
            minAbsSum = min(minAbsSum, curDiff)

    return 0 if minAbsSum == float('inf') else minAbsSum



arr = [1,2,3,4]
print(arr, minSubsetSumDifference(arr, len(arr)))

arr = [int(x) for x in "10 20 30 70".split(" ")]
print(arr, minSubsetSumDifference(arr, len(arr)))

arr = [int(x) for x in "0 0 0 0".split(" ")]
print(arr, minSubsetSumDifference(arr, len(arr)))

arr = [int(x) for x in "10 21".split(" ")]
print(arr, minSubsetSumDifference(arr, len(arr)))



def get_partition_sums(arr, diff):
    csum = sum(arr)
    s1 = (csum+diff)/2

    return s1, abs(csum-s1)

def check_if_int(n):
    return int(n) == n



def can_partition_with_diff(arr, diff):
    s1, s2 = get_partition_sums(arr, diff)
    print(s1, s2)

    if not check_if_int(s1):
        return False

    n = len(arr)
    countSubsets = dp_subset_sum(arr, int(s1))
    
    return True if countSubsets>0 else False


arr = [1,1,2,3]
diff = 1

can_partition_with_diff(arr, diff)



def bounded_knapsack(arr, weights, W, n ):
    if n==0 or W==0:
        return 0

    if weights[n-1] > W: #dont pick
        return bounded_knapsack(arr, weights, W, n-1)

    return max(
        arr[n-1] + bounded_knapsack(arr, weights, W-weights[n-1], n-1),
        bounded_knapsack(arr, weights, W, n-1)
    )
    



def dp_bounded_knapsack(arr, weights, W):
    n = len(arr)
    dp = [[0 for _ in range(W+1)] for _ in range(n+1)]

    for i in range(n+1): # current element  index
        for j in range(W+1): # cur max_capacity remaining
            if j==0 or i==0:
                dp[i][j] = 0
            elif weights[i-1] > j: # dont pick current ele
                dp[i][j] = dp[i-1][j]
            else:
                dp[i][j] = max(arr[i-1] + dp[i-1][j-weights[i-1]], dp[i-1][j-1])
    
    # printList(dp)
    return dp[n][W]


def dp_bounded_knapsack_zero_index(arr, weights, W):
    n = len(arr)
    dp = [[0 for _ in range(W+1)] for _ in range(n)]

    for i in range(n): # current element  index
        for j in range(W+1): # cur_capacity remaining
            if j==0: # capacity=0
                dp[i][j] = 0
            elif i==0: #last item
                if weights[0] > j: # last item has W<cur_capacity
                    dp[i][j] = 0
                else:
                    dp[i][j] = arr[0] # last item can be picked -> so profit is arr[0] (you cant pick anything else as this is the first element)
            elif weights[i] > j:
                dp[i][j] = dp[i-1][j]
            else:
                dp[i][j] = max(arr[i]+dp[i-1][j-weights[i]],dp[i-1][j])
            
            
    
    return dp[n-1][W]


weights = [10, 20, 30]
costs = [60, 100, 120]
capacity = 50 
# RESULT = 220 pick 20+30 = 50, total = 100+120

# print(bounded_knapsack(costs, weights, capacity, len(costs)))
print(dp_bounded_knapsack(costs, weights, capacity))
print(dp_bounded_knapsack_zero_index(costs, weights, capacity))



class Solution:
    dp = {}

    def target_sum(self, arr, n, cur_sum):
        if (n,cur_sum) in self.dp:
            return self.dp[(n,cur_sum)]

        if n==0:
            return 1 if cur_sum==0 else 0
        cur_ele = arr[n-1]
        res = self.target_sum(arr, n-1, cur_sum-cur_ele) + self.target_sum(arr,n-1, cur_sum+cur_ele)

        self.dp[(n,cur_sum)] = res
        return res
    



nums = [1,1,1,1,1]
target = 3
# result = 5 (5 ways to assign +/- to nums to get answer as 3)
 
print(Solution().target_sum(nums, len(nums), target))

nums = [0,0,0,0,0,0,0,0,1]
target = 1

print(Solution().target_sum(nums, len(nums), target))



def longest_common_seq(s1, s2, m, n):
    if m==0 or n==0:
        return 0
    if s1[m-1] == s2[n-1]:
        return 1+longest_common_seq(s1,s2,m-1,n-1)
    else:
        return max(longest_common_seq(s1,s2,m-1,n),longest_common_seq(s1,s2,m,n-1))


def lcs_dp(s1,s2, return_dp=False):
    m = len(s1)
    n = len(s2)
    dp = [[0 for _ in range(n+1)] for _ in range(m+1)]

    for i in range(m+1):
        for j in range(n+1):
            if i==0 or j==0:
                dp[i][j] = 0
            elif s1[i-1] == s2[j-1]:
                dp[i][j] = 1+dp[i-1][j-1]
            else:
                dp[i][j] = max(dp[i-1][j],dp[i][j-1])
    printList(dp)
    if return_dp:
        return dp
    return dp[m-1][n-1]
                
            


s1, s2 = "abcde", "abc" #3
print(longest_common_seq(s1,s2,len(s1), len(s2)))
print(lcs_dp(s1,s2),"\n")

s1, s2 = "abcdgh", "aedfhr" #3
print(longest_common_seq(s1,s2,len(s1)-1, len(s2)-1))
print(lcs_dp(s1,s2),"\n")

s1, s2 = "bl", "yby" #3
print(longest_common_seq(s1,s2,len(s1)-1, len(s2)-1))
print(lcs_dp(s1,s2),"\n")


def print_lcs(s1,s2):
    dp = lcs_dp(s1,s2)
    m = len(s1)
    n = len(s2)
    
    res = ""
    
    i,j = m, n
    while i!=0 and j!=0:
        # print(i,j,s1[i-1],s2[j-1])
        # same char -> move diagonally up
        if s1[i-1] == s2[j-1]:
            res = s1[i-1] + res
            i -= 1
            j -= 1
        else:
            # top > right
            if dp[i-1][j] > dp[i][j-1]:
                i -= 1
            else:
                j -= 1
    
    return res
                
                


s1, s2 = "abcde", "abc" #3
print(print_lcs(s1,s2),"\n")

s1, s2 = "abcdgh", "aedfhr" #3
print(print_lcs(s1,s2))



def shortest_common_subsequence(s1, s2):
    m = len(s1)
    n = len(s2)
    
    
    
    


s1,s2 = "abcd", "xycd" # res = 6 (abxycd)

s1,s2 = "efgh", "jghi" # res = 6 (ejfghi)


class SCS_Solution:
    def lcs(self,s1,s2):
        m = len(s1)
        n = len(s2)
        
        dp = [[0 for _ in range(n+1)] for _ in range(m+1)]
        
        for i in range(m+1):
            for j in range(n+1):
                if i==0 or j==0:
                    dp[i][j] = 0
                elif s1[i-1] == s2[j-1]:
                    dp[i][j] = 1+dp[i-1][j-1]
                else:
                    dp[i][j] = max(dp[i-1][j], dp[i][j-1])
        return dp
    
    
    def SCS(self,s1,s2):
        dp = self.lcs(s1,s2)
        m = len(dp)
        n = len(dp[0])
        
        i,j = len(s1), len(s2)
        lcs = ""
        while i>0 and j>0:
            if s1[i-1] == s2[j-1]:
                lcs = s1[i-1]+lcs
                i -= 1
                j -= 1
            elif dp[i-1][j] > dp[i][j-1]: # GO UP
                lcs = s1[i-1] +  lcs # print left char
                i -= 1
            else: # GO LEFT
                lcs = s2[j-1] +  lcs # print upper char
                j -= 1
                
        # Either one of these 2 will be empty (i or j is 0)
        s1_rem = s1[:i].strip()
        s2_rem = s2[:j].strip()
        return s1_rem+s2_rem+lcs
        


s1,s2 = "cab", "abac" # res = cabac
print(SCS_Solution().SCS(s1,s2))

s1,s2 = "xcab", "yabac" # res = xycabac
print(SCS_Solution().SCS(s1,s2))


def climbStairs(n):
    if n<2:
            return 1
            
    dp = [0 for _ in range(n+1)]
    dp[0] = 1
    dp[1] = 1

    for i in range(2,n+1):
        dp[i] = dp[i-1]+dp[i-2]
    return dp[i]


climbStairs(3) 


# DP[i] = min steps to reach i from start -> res = dp[n-1]
def min_steps(arr):
    n = len(arr)
    dp = [float('inf') for _ in range(n)]
    dp[0] = 0
        
    for i in range(1,n):
        for j in range(i):
            step = j+arr[j]
            if step >= i:
                if dp[j]!=float('inf'): # check if there is way to reach that previous position
                    dp[i] = min(dp[i],1+dp[j])
    print(dp)
    return dp[n-1]
            


def jump(self, arr: List[int]) -> int:
    n = len(arr)
    dp = [float('inf') for _ in range(n)]

    dp[n-1] = 0
    for i in reversed(range(n-1)):
        if arr[i] == 0:
            dp[i] = float('inf')
            continue
        max_jump = i+arr[i] #max index you can reach from index i
        if max_jump >= n-1: # you can directly jump to last one
            dp[i] = 1
        else:
            dp[i] = float('inf')
            for j in range(i+1,max_jump+1):
                dp[i] = min(dp[i], 1+dp[j])

    return dp[0]



arr = [3,4,2,1,2,1] #2
print(min_steps(arr))

arr = [4,1,5,3,1,3,2,1,8] #3
print(min_steps(arr))


def canJump(self, arr) :
    n = len(arr)
    if n==1:
        return True
    max_reach_index  = 0 + arr[0] #store max reachable index

    for i in range(1,n):
         # if you cant reach this index then you cant move forward 
        if max_reach_index < i: #max_res<i means from all indices<i, you can never cross i (Remember you are saving MAX_REACH)
            return False

        max_reach_index = max(max_reach_index, i+arr[i])

        if max_reach_index >= n-1:
            return True

    return False


def max_rod_cut(n, a, b, c):
    if n<0:
        return -1 # not possible
    if n==0:
        return 0
    res = max([max_rod_cut(n-a,a,b,c),
                    max_rod_cut(n-b,a,b,c),
                    max_rod_cut(n-c,a,b,c)])
    if res == -1: #not possible
        return -1
    else:
        return 1+res


def max_rod_cut_dp(n,a,b,c):
    dp = [0 for _ in range(n+1)]
    
    dp[0] = 0
    for i in range(1,n+1):
        dp[i] = -1
        for x in [a,b,c]:
            if i-x >= 0:
                dp[i] = max(dp[i],dp[i-x])
        if dp[i] != -1:
            dp[i] += 1
            
    return dp[n]
        


n = 23
a,b,c = 11,12,13
print(max_rod_cut(n,a,b,c))
print(max_rod_cut_dp(n,a,b,c),"\n")

n = 5
a,b,c = 1,2,3

print(max_rod_cut(n,a,b,c))
print(max_rod_cut_dp(n,a,b,c))


def frogJump(n: int, arr):
    dp = [0 for _ in range(n+1)]
    dp[0] = 0
    dp[1] = abs(arr[1]-arr[0])
    for i in range(2,n):
        dp[i] = min(dp[i-1]+abs(arr[i]-arr[i-1]), dp[i-2]+abs(arr[i]-arr[i-2]))     
    return dp[n-1]



frogJump(4, [10,20,30,10])


def maximumNonAdjacentSum(arr, n):    
    if n<0:
        return 0
    
    if n==0:
        return arr[0]
    
    return max(
        arr[n-1] + maximumNonAdjacentSum(arr,n-2),
        maximumNonAdjacentSum(arr, n-1)
    )


def dp_maximumNonAdjacentSum(arr,n=None):
    n = len(arr)
    if n == 1:
        return arr[0]
    dp = [0 for _ in range(n)]

    # at 0 u can only pick a[0]
    # at 1 you 2 options -> pick a[1] or a[0] as if cant pick both
    dp[0] = arr[0]
    dp[1] = max(arr[1], arr[0]) # this is not needed in recursive -> f(-ve index) will return as 0, in case of tabular index cant be negative

    for i in range(2,n):
        dp[i] = max(dp[i-1], arr[i]+dp[i-2])
        
    return dp[n-1]



arr = [1,2,3,5,4] # res=9
print(dp_maximumNonAdjacentSum(arr, len(arr)))

arr = [1,2,3,1,3,5,8,1,9]
print(dp_maximumNonAdjacentSum(arr, len(arr)))

arr = [8,8]
print(dp_maximumNonAdjacentSum(arr))
maximumNonAdjacentSum(arr, len(arr)-1)


def houses_2(arr):
    n = len(arr)
    return max(
        dp_maximumNonAdjacentSum(arr[1:]),
        dp_maximumNonAdjacentSum(arr[:-1])
    )


nums = [1,2,3,1]
print(houses_2(nums))

nums = [2,3,2]
print(houses_2(nums))



def ninja_training(arr):
    n = len(arr)
    n_sports = len(arr[0])

    dp = [[0 for _ in range(n_sports)] for _ in range(n)]

    for i in range(n):
        for j in range(n_sports):
            if i==0:
                dp[i][j] = arr[i][j]
            else:
                for k in range(n_sports): # if j=0, then take previous 1 and 2 (n_sports=3)
                    if k == j:
                        continue
                    dp[i][j] = max(dp[i][j], arr[i][j]+dp[i-1][k] )
    
    return max(dp[n-1])


## FOR n_sports=3 ##
#
# if i==0:
#     dp[i][j] = arr[i][j]
# elif j==0:
#     dp[i][j] = arr[i][j] + max(dp[i-1][1], dp[i-1][2])
# elif j==1:
#     dp[i][j] = arr[i][j] + max(dp[i-1][0], dp[i-1][2])
# else:
#     dp[i][j] = arr[i][j] + max(dp[i-1][0], dp[i-1][1]
#


arr = [
    [1,2,5],
    [3,1,1],
    [3,3,3]
]
# EXPECTED RES = 11
print(ninja_training(arr))

arr = [
    [10,40,70],
    [20,50,80],
    [30,60,90]
]
# EXPECTED RES = 210
print(ninja_training(arr))

arr = [[18,11,19],[4,13,7],[1,8,13]]
print(ninja_training(arr)) # 45

arr = [[10,50,1],[5,100,11]]
print(ninja_training(arr)) # 110


def uniquePaths( m: int, n: int) -> int:
    grid = [[0 for _ in range(n)] for _ in range(m)]
    
    for i in range(m):
        for j in range(n):
            if i==0 and j==0:
                grid[i][j] = 1
            elif i==0 or j==0: # you are on top row or left most row(you can reach 0,0 in only 1 way i.e move all left/up)
                grid[i][j] = 1
            else:
                grid[i][j] = grid[i-1][j] + grid[i][j-1]
    print(*grid, sep="\n")
    return grid[m-1][n-1]
            
    


uniquePaths(3,7) # RES=28



def uniquePathsWithObstacles(obstacleGrid):
    m = len(obstacleGrid)
    n = len(obstacleGrid[0])
    grid = [[0 for _ in range(n)] for _ in range(m)]

        
    if obstacleGrid[0][0]==1 or obstacleGrid[m-1][n-1]==1:
        return 0
    
    for i in range(m):
        for j in range(n):
            if obstacleGrid[i][j] == 1:
                grid[i][j] = 0
            elif i==0 and j==0:
                grid[i][j] = 1
            # elif i==0 or j==0: You cant say you can move all lefts/ups as there may be obstacles in between
            #     grid[i][j] = 1
            else:
                grid[i][j] = grid[i-1][j] + grid[i][j-1]
    return grid[m-1][n-1]



print(uniquePathsWithObstacles([[0,0,0],[0,1,0],[0,0,0]])) # RES = 2

print(uniquePathsWithObstacles([[0,0],[1,1],[0,0]])) # RES=0



def minPathSum(grid) -> int:
    nr = len(grid)
    nc = len(grid[0])
    
    dp = [[0 for _ in range(nc)] for _ in range(nr)]
    
    for i in range(nr):
        for j in range(nc):
            if i==0 and j==0:
                dp[i][j] = grid[i][j]
            elif j==0: # upward movement is possible
                dp[i][j] = grid[i][j] + dp[i-1][j]
            elif i==0: # only left movement is possible
                dp[i][j] = grid[i][j] + dp[i][j-1]
            else: # both up and left are possible
                dp[i][j] = grid[i][j] + min(dp[i-1][j], dp[i][j-1])
    print(*dp, sep="\n")
    
    return dp[nr-1][nc-1]


arr = [[1,3,1],[1,5,1],[4,2,1]] # res = 7
minPathSum(arr)


def traingle_minimum_total(triangle) -> int:
    n = len(triangle)
    
    dp = [[0 for _ in range(x+1)] for x in range(n)]
    dp[0][0] = triangle[0][0]
    
    for i in range(1,n):
        prev_row_len = len(dp[i-1])
        for j in range(len(dp[i])):
            prev_res1 = float('inf')
            prev_res2 = float('inf')
            if j >= 0 and j < prev_row_len:
                prev_res1 = dp[i-1][j]
            if j-1 >= 0 and j-1 < prev_row_len:
                prev_res2 = dp[i-1][j-1]
            dp[i][j] = triangle[i][j] + min(prev_res1, prev_res2)
    
    print(*dp, sep="\n")
    return min(dp[-1])
            
            


arr = [[2],[3,4],[6,5,7],[4,1,8,3]] # Res = 11

traingle_minimum_total(arr)


def minFallingPathSum( matrix) -> int:
    n = len(matrix)
    dp = [[0 for _ in range(n)] for _ in range(n)]
    dp[0] = matrix[0]
    
    for i in range(1,n):
        for j in range(n):
            # up direction is gauranteed, but diagonal up-left/right may overflow
            diag1 = float('inf')
            diag2 = float('inf')
            
            if (j-1) >= 0 and (j-1) < n:
                diag1 = dp[i-1][j-1]
            if (j+1) >= 0 and (j+1) < n:
                diag2 = dp[i-1][j+1]
            
            dp[i][j] = matrix[i][j] + min([dp[i-1][j], diag1, diag2])
            
    return min(dp[-1])
    


print(minFallingPathSum([[2,1,3],[6,5,4],[7,8,9]])) # res=13

print(minFallingPathSum([[-48]])) # res = -48


def subsetSumToK(n, k, arr):
    dp = [[False for _ in range(k+1)] for _ in range(n)]

    for i in range(n):
        for j in range(k+1):
            if j == 0:
                dp[i][j] = True
            elif i == 0:
                dp[i][j] = (arr[i] == j)
            else:
                if arr[i] > j:
                    dp[i][j] = dp[i-1][j]
                else:
                    dp[i][j] = dp[i-1][j] or dp[i-1][j-arr[i]]

    # printList(dp)
    return dp[n-1][k]



arr = [4,3,2,1]
subsetSumToK(len(arr),5,arr)


def dice_rolls(n, k, target):
    # print(n,target)
    idx = (n,target)
    if n==1: # you have only 1 roll n can get [1..k]
        return 1 if target <= k else 0

    roll_count = 0
    for i in range(1,k+1):
        rem_target = target-i
        if rem_target > 0: # tar<0:Cant Pick | tar==0: you reached without all throws (Not correct as you need to use all throws)
            roll_count += dice_rolls(n-1, k, rem_target)
    return roll_count



class Solution:
    dp = {}
    
    def __init__(self):
        self.dp = {}

    def dice_rolls(self, n, k, target):
        idx = (n,target)
        if idx in self.dp:
            return self.dp[idx]

        if n==1: # you have only 1 roll n can get [1..k]
            res =  1 if target <= k else 0
            self.dp[idx] = res
            return res

        roll_count = 0
        for i in range(1,k+1):
            rem_target = target-i
            if rem_target > 0: # tar<0:Cant Pick | tar==0: you reached without all throws (Not correct as you need to use all throws)
                roll_count += self.dice_rolls(n-1, k, rem_target)  % ((10**9)+7)
                
        roll_count = roll_count % ((10**9)+7)
        self.dp[idx] = roll_count
        return roll_count



def dice_roll_tabular(n,k,target):
    dp = [[0 for _ in range(target+1)] for _ in range(n+1)]

    for i in range(1,n+1):
        for j in range(target+1):
            if i==1:
                dp[i][j] = 1 if j <= k else 0
            else:
                r_count = 0
                for x in range(1,k+1):
                    if (j-x) > 0:
                        r_count += (dp[i-1][j-x])% (10**9+7)
                        r_count = r_count % (10**9+7)
                dp[i][j] = r_count 

    return dp[n][target]


print(dice_rolls(2,6,7))
print(Solution().dice_rolls(2,6,7))
print(dice_roll_tabular(2,6,7))


print(dice_rolls(2,5,10))
print(Solution().dice_rolls(2,5,10))
print(dice_roll_tabular(2,5,10))


# TODO


def min_coin_change(coins, amount):
    n = len(coins) 
    dp = [float('inf') for _ in range(amount+1)] # initially we asume we need INF coins to make amount
    dp[0] = 0

    for cur_amount in range(1,amount+1):
        for coin in coins:
            if coin > cur_amount: # make sure coins is sorted | else iterate all elements
                break
            rem_amount = cur_amount - coin
            if dp[rem_amount] != float('inf'):
                dp[cur_amount] = min(dp[cur_amount], 1+dp[rem_amount])
    
    return dp[amount] if dp[amount] != float('inf') else -1



arr = [1,2,5]
target = 11 # res = 3

min_coin_change(arr, target)


def numberOfWays(coins,n,target):
    dp = [[0 for _ in range(target+1)] for _ in range(n)]
    
    for i in range(0,n):
        for j in range(target+1):
            if j==0:
                dp[i][j] = 1
            elif i==0: # if you can pick only first coin, then 1 if you can get target usning n nos of that coin
                dp[i][j] = 1 if j%coins[0] == 0 else 0
            elif coins[i] > j:
                dp[i][j] = dp[i-1][j]
            else:
                dp[i][j] = dp[i-1][j] + dp[i][j-coins[i]]
                
    print(*dp,sep="\n")
    return dp[n-1][target]


coins = [1,2,3]
target = 4

print(numberOfWays(coins, len(coins), target))

coins = [2,5,3,6]
target = 10
print(numberOfWays(coins, len(coins), target))


def edit_distance(s1, s2, m, n):
    if m == 0: # s1 is empty, then ED = len(s2)
        return n
    elif n==0:
        return m
    
    if s1[m-1] == s2[n-1]: # no ops needed as they are sma
        return edit_distance(s1,s2,m-1,n-1)
    else:
        # +1 as in all case you perform 1 operation(insert/delete/replace)
        return 1 + min([
            edit_distance(s1,s2,m,n-1), # insert char in s1 to match s2 ending
            edit_distance(s1,s2,m-1,n), # delete char from s1
            edit_distance(s1,s2,m-1,n-1) # replace last char in s1 with matching one of s2
        ])


def edit_distance_dp(s1,s2):
    m = len(s1)
    n = len(s2)
    
    dp = [[0 for _ in range(n+1)] for _ in range(m+1)]
    
    for i in range(m+1):
        for j in range(n+1):
            if i==0:
                dp[i][j] = j
            elif j==0:
                dp[i][j] = i
            elif s1[i-1] == s2[j-1]:
                dp[i][j] = dp[i-1][j-1]
            else:
                dp[i][j] =  1 + min([
                    dp[i-1][j], # delete
                    dp[i][j-1], # insert
                    dp[i-1][j-1] # replace
                ])
    return dp[m][n]


def edit_dist_dp_1_index(s1,s2):
    m = len(s1)
    n = len(s2)
    dp = [[0 for _ in range(n)] for _ in range(m)]
    
    for i in range(m):
        for j in range(n):
            if i==0 and j==0: # if only 1 char left in both
                dp[i][j] = 0 if s1[i]==s2[j] else 1
            elif i==0 or j==0: # one has 1 char n other has more than 1
                res = 0 if s1[i]==s2[j] else 1 # if last char are same, then dp = left chars in longer string
                dp[i][j] = res + (max(i,j))
            elif s1[i] == s2[j]:
                dp[i][j] = dp[i-1][j-1]
            else:
                dp[i][j] = 1 + min(dp[i][j-1],dp[i-1][j],dp[i-1][j-1])
    return dp[m-1][n-1]


word1,word2  = "horse","ros"
print(edit_distance(word1, word2, len(word1), len(word2)))
print(edit_dist_dp_1_index(word1, word2))
print(edit_distance_dp(word1, word2),"\n")

word1,word2  = "intention","execution"
print(edit_distance(word1, word2, len(word1), len(word2)))
print(edit_dist_dp_1_index(word1, word2))
print(edit_distance_dp(word1, word2),"\n")


def LIS(arr):
    n = len(arr)
    dp = [0 for _ in range(n)]

    # DP[i] -> maximum length of LIS ending at index i
    dp[0] = 1

    for i in range(1,n):
        ele = arr[i]
        cur_len = 1
        for j in range(i):
            if arr[j] < ele: # you can only take nos before arr[i] (increasing subsequence)
                cur_len = max(cur_len, 1+dp[j])
        dp[i] = cur_len


    return max(dp)


arr = [1,3,6,7,9,4,10,5,6]
print(LIS(arr))



def LPS(str):
    n = len(str)
    dp = [[False for _ in range(n)] for _ in range(n)]
    
    i = 0 # fill str with len == 1
    while i<n:
        dp[i][i] = True
        i +=1

    i=1 # fill str with len==2
    while i<n:
        if str[i-1] == str[i]:
            dp[i-1][i] = True
        i += 1

    k = 3
    for k in range(3,n):
        for startIndex in range(0,n-k+1):
            endIndex = startIndex + k -1
            if str[startIndex] == str[endIndex] and dp[startIndex+1][endIndex-1]:
                dp[startIndex][endIndex] = True


    
    print(*dp,sep="\n")


str = "forgeeksskeegfor"
str = "xwowy"
LPS(str)


def LIS_sum(arr):
    n = len(arr)
    dp = [0 for _ in range(n)]
    dp[0] = arr[0]
    
    for i in range(1,n):
        cur_ele = arr[i]
        for j in range(i):
            if arr[j]<arr[i]:
                dp[i] = max(dp[i],cur_ele+dp[j])
    print(dp)
    return max(dp)


arr = [1, 101, 2, 3, 100, 4, 5] # res = 106
print(LIS_sum(arr))



def longest_consecutive(arr):
    hset = set(arr)
    max_len = 0
    
    for x in arr:
        #check if x is head of sequence -> x-1 shouldnt be in arr
        if x-1 not in hset:
            cur_len = 1 # head is included
            while x+1 in hset:
                cur_len += 1
                x += 1
            max_len = max(max_len, cur_len)

    return max_len



arr =  [100,4,200,1,3,2]

print(longest_consecutive(arr))


def egg_drop(self, E, F): 
    """_summary_

    Args:
        E : No of eggs
        F : No of floors

    """
    
    dp = [[0 for _ in range(F+1)] for _ in range(E+1)]
    
    for e in range(2,E+1):
        for f in range(2,F+1):
            if e==0:
                dp[e][f] = 0
                continue
            elif e==1:
                dp[e][f] = f
                continue
            elif f<=1:
                dp[e][f] = f
                continue
                
            min_moves = float('inf')
            for cur_f in range(1,f+1): # check all places you can drop first egg from [1..k]
                worst_case = 1 + max( 
                    dp[e-1][cur_f-1], # breaks -> check below part
                    dp[e][f-cur_f] # doesnt break -> check top part above cur_f
                )
                min_moves = min(min_moves, worst_case)
            dp[e][f] = min_moves
    # print(*dp,"\n",sep="\n")
    return dp[E][F]





class ListNode:
    def __init__(self, val=0, next=None):
        self.val = val
        self.next = next
    
    def __str__(self):
        return str(self.val)

def printLL(head):
    while head:
        print(head.val,end="->")
        head = head.next
    print()




def middleNode(head):
    slow = head
    fast = head
    
    while fast and fast.next:
        slow = slow.next
        fast = fast.next.next
    
    return slow
        
        


head = ListNode(1)
head.next = ListNode(2)
head.next.next = ListNode(3)
head.next.next.next = ListNode(4)
head.next.next.next.next = ListNode(5)

printLL(head)

print(middleNode(head))



def removeNthFromEnd(self, head, n):
    slow = head
    fast = head
    
    
    for _ in range(n):
        fast = fast.next
    
    if not fast: # [1,2,3] n=3 -> fast will be at None, that means slow is already at (N-n)th position
        return head.next
    
    while fast and fast.next:
        slow = slow.next
        fast = fast.next
    
    
    slow.next = slow.next.next
    return head
        



def reverseList(self, head):
    prev = None
    cur = head 
    
    while cur:
        next_node = cur.next
        cur.next = prev
        prev = cur
        cur = next_node
        
    return prev


def reverse_list_recursive(head):
    if not head.next:
        return head
    
    res = reverse_list_recursive(head.next)
    res.next = head
    head.next = None

    return head




class Solution:
    def deleteDuplicates(self, head):
        HEAD = head
        node = head
        
        if not node:
            return node
        
        while node and node.next:
            if node.val == node.next.val: # even if you find duplicate it will get next in next iteration
                node.next = node.next.next
            else: # MAIN PART -> 
                node = node.next
        
        return HEAD


class Solution:
        
    def mergeTwoLists(self, head1, head2):
        resHead = ListNode(0)
        res_root = resHead
        
        while head1 and head2:
            if head1.val <= head2.val:
                resHead.next = ListNode(head1.val)
                head1 = head1.next
            else:
                resHead.next = ListNode(head2.val)
                head2 = head2.next
            
            
            resHead = resHead.next
        
        if head1 and head2: # both lists exhausted
            return res_root.next
        
        if head1: # only one list exhausted another one remains
            resHead.next = head1
        else:
            resHead.next = head2
            
        return res_root.next


def hasCycle(head):
    slow = head
    fast = head
    
    while fast and fast.next:
        slow = slow.next
        fast = fast.next.next
        
        if slow == fast:
            return True
    return False
    


class Solution:
    def get_cycle_length(self, head):
        slow = head
        fast = head
        cycle_len = 1
        
        while fast and fast.next:
            slow = slow.next
            fast = fast.next.next
            
            if slow == fast: # loop found
                fast = fast.next
                while slow != fast:
                    fast = fast.next
                    cycle_len += 1
                    
                return cycle_len
            
        return cycle_len
                
    def detectCycle(self, head):
        slow = head
        fast = head
        
        cycle_len = self.get_cycle_length(head) 
        if cycle_len == -1:
            return None
        
        x, y = head, head
        
        # move x by cycle_length times
        for i in range(cycle_len):
            x = x.next
        
        while True:
            if x==y:
                return x
            
            x = x.next
            y = y.next
        


class Solution:              
    def detectCycle(self, head):
        if not head or not head.next:
            return None
        
        slow = head
        fast = head
        
        while fast and fast.next:
            slow = slow.next
            fast = fast.next.next
            
            if slow==fast:
                slow = head
                while slow != fast:
                    fast = fast.next
                    slow = slow.next
                return slow
        
        return None


def bin_search(arr, target, start=None, end=None) -> int:
    n = len(arr)
    lo = start if start else 0
    hi = end if end else n-1

    if hi == lo and arr[hi]==target: # IMPORTANT -> [5], [4] 
        return lo

    while lo <= hi: # IMPORTANT -> (use <= if key lies first or last index)
        mid = lo + ((hi-lo)//2)
        if arr[mid] == target:
            return mid
        elif arr[mid] > target:
            hi = mid-1
        else:
            lo = mid+1
    return -1



arr = [2,5]
bin_search(arr,2)


arr = [1,2,3,40,50,99,100]
bin_search(arr, 100)


def first_occurence(arr, target):
    n = len(arr)
    lo = 0
    hi = n-1
    firstOcc = -1

    while lo<=hi:
        mid = lo + ((hi-lo)//2)
        if arr[mid]==target: # if same store and move left-side
            firstOcc = mid
            hi = mid-1
        elif arr[mid] > target:
            hi = mid-1
        else:
            lo = mid+1

    return firstOcc


def last_occurence(arr, target):
    n = len(arr)
    lo = 0
    hi = n-1
    lastOcc = -1

    while lo<hi:
        mid = lo + ((hi-lo)//2)
        if arr[mid]==target: # if same store and move right-side
            lastOcc = mid
            lo = mid+1
        elif arr[mid] > target:
            hi = mid-1
        else:
            lo = mid+1

    return lastOcc



arr = [2,2,2,3,3,3,3,3,3,5,5,5,5]
# arr = [2,2,3,3,3,5,5]
print(first_occurence(arr,2))
print(first_occurence(arr,3))
print(first_occurence(arr,5),"\n")

print(last_occurence(arr,2))
print(last_occurence(arr,3))
print(last_occurence(arr,5))


def get_square_root(n):
    lo = 0
    hi = n//2

    n_iters = 0

    while lo <= hi:
        n_iters += 1
        mid = lo + ((hi-lo)//2)

        if mid**2 == n:
            print("Iterations: ",n_iters,end=" | -> Answer:")
            return mid
        elif mid**2 > n:
            hi = mid-1
        else:
            lo = mid+1

    
    return -1



print(get_square_root(144))
print(get_square_root(2500))


## LOGIC : if you plot both segments a[0] will alwaysbe greater than 'PIVOT' element
def get_pivot_index(arr):
    n = len(arr)
    lo = 0
    hi = n-1

    while lo<hi:
        mid = lo + ((hi-lo)//2)
        if arr[mid] >= arr[0]:
            lo = mid+1
        else:
            hi = mid #cur ele can be res, or some elements may be in left side

    return lo

def binary_seach_rotated(arr, key):
    n = len(arr)
    pivot_index = get_pivot_index(arr)

    res1 = bin_search(arr[:pivot_index], key)
    res2 = bin_search(arr[pivot_index:], key)

    if res1 != -1:
        return res1
    elif res2 != -1:
        return res2
    return -1


arr = [3,4,5,1,2] # pivot = 1

res_index = binary_seach_rotated(arr, 4)
print(res_index,"->", arr[res_index])



def binsearch_best(arr, target):
    n = len(arr)
    lo, hi = 0, n-1
    n_less_than_ele = 0
    
    while lo<=hi:
        mid = lo + ((hi-lo)//2)
        if arr[mid] == target:
            return mid
        elif arr[mid] < target:
            lo = mid+1
        else:
            hi = mid-1   
    return lo


arr = [1,2,6,8,10]

print(binsearch_best(arr,5))
print(binsearch_best(arr,11))


def elements_less_than_key(arr, target):
    n = len(arr)
    lo, hi = 0, n-1
    n_less_than_ele = 0
    
    while lo<=hi:
        mid = lo + ((hi-lo)//2)
        if arr[mid] <= target: # there are (mid+1) ele < target for sure. Maybe more so search right subspace
            n_less_than_ele = mid + 1
            lo = mid + 1
        else:
            hi = mid-1
    return n_less_than_ele


arr = [1,2,3,5,10,20,50,60,80]
elements_less_than_key(arr, 35)


# check if you can allocate to two students and get score as `score`
# minimum of Max(partition_sum1, partition_sum2)

def check_if_possible(arr, score, n_students):
    """
    Check if you can give atmost score pages to each person
    Why atmost? Because you take maximum of both the partitions
    """
    count = 1
    cur_score = 0
    for i in range(len(arr)):
        if cur_score + arr[i] <= score: # you can allocate this
            cur_score += arr[i]
        else:
            count += 1
            # more than 2 needed, or cur ele > score (you cant pick that only n you need to include all in answer)
            if count>n_students or arr[i]>score:
                return False
            cur_score = arr[i]
    return True

            

def allocate_books(arr, n_students=2):
    if n_students == 1:
        return sum(arr)
    n = len(arr)
    lo = 0 # min result
    hi = sum(arr) # max result -> both min and max are not possible

    temp_res = 0
    while lo < hi:
        mid = lo + ((hi-lo)//2)

        if check_if_possible(arr, mid, n_students=n_students):
            temp_res = mid
            hi = mid
        else:
            lo = mid+1

    return temp_res




arr = [10, 20, 30, 40] 
# res = 60 -> 10,20,30|40 -> max(60|40)

allocate_books([12 ,9, 3, 3, 15, 10, 2, 11,4 ], n_students = 5)


print(allocate_books([4,5,10], 1))

print(allocate_books([3,1,10,6,5], 1))

print(allocate_books([8,2,6,8], 3))



def firstBadVersion(self, n: int) -> int:
    lo = 1
    hi = n
    
    if n == 1:
        return 1
    
    while lo <= hi:
        mid = lo + ((hi-lo)//2) 
        
        if isBadVersion(mid): # if bad -> There may also be bad ones at the left
            if not isBadVersion(mid-1):
                return mid
            hi = mid-1
        else: # if not bad move right 
            lo = mid+1
    


printImage('src/graph0.png')


adj = [
    [0, 1, 1, 0, 0, 0, 0, 0],
    [0, 0, 0, 0, 1, 0, 0, 1],
    [0, 0, 0, 1, 0, 0, 0, 0],
    [0, 1, 0, 0, 1, 0, 1, 0],
    [0, 0, 0, 0, 0, 1, 0, 0],
    [0, 0, 0, 1, 0, 0, 0, 0],
    [0, 0, 0, 0, 0, 0, 0, 0],
    [0, 0, 0, 0, 0, 0, 0, 0]
]


# Use QUEUE
def BFS(adj, src):
    n = len(adj[0]) # nodes = (0, n-1)
    queue = []
    queue.append(src)
    vis = [False]*n

    vis[src] = True
    while len(queue) != 0:
        cur_node = queue.pop(0)
        for node in range(n): # visit all nbrs of Node
            if adj[cur_node][node] == 1 and not vis[node]:
                queue.append(node)
                vis[node] = True
        print(cur_node,"->",end="")
    
    print()


BFS(adj,0)


# Use STACK
def DFS(adj, src):
    n = len(adj[0]) # nodes = (0, n-1)
    queue = []
    queue.append(src)
    vis = [False]*n

    vis[src] = True
    while len(queue) != 0:
        cur_node = queue.pop()
        for node in range(n): # visit all nbrs of Node
            if adj[cur_node][node] == 1 and not vis[node]:
                queue.append(node)
                vis[node] = True
        print(cur_node,"->",end="")
    
    print()

# Use STACK
vis = []
def DFS_calls(src,adj):
    global vis
    print(src,"->",end="")
    vis[src] = True

    for node in range(len(adj[0])):
        if adj[src][node] != 0 and not vis[node]:
            DFS_calls(node,adj)




DFS(adj,0)

vis = [False]*(len(adj[0]))
DFS(adj,0)


printImage("src/Graph_Djikstra.png")


class Djikstra:
    def __init__(self, adj, src) :
        '''
        adj : adjacency list
        vis : track if node is visited
        dist : min_distance from src to all nodes
        '''
        self.adj = adj
        self.vis = { key:False for key in self.adj.keys() }
        self.dist = { key:float('inf') for key in self.adj.keys() }
        self.src = src
        self.dist[self.src] = 0
    
    def get_vertex_priority(self):
        '''
        Return Node which hasnt been visited and has smallest min_dist
        '''
        min_dist = float('inf')
        sel_node = None
        for node, dist in self.dist.items():
            if not self.vis[node] and dist<min_dist:
                min_dist = dist
                sel_node = node
        return sel_node


    def run(self):
        for _ in range(len(self.adj.keys())):
            node = self.get_vertex_priority()
            self.vis[node] = True
            print("Visited node :",node,"| Distances: ",self.dist)
            
            for nbr,wt in self.adj[node].items(): # Visit all nbrs of [NODE]
                if not self.vis[nbr]:
                    new_dist = self.dist[node] + self.adj[node][nbr]
                    self.dist[nbr] = min(new_dist, self.dist[nbr])

        print("Shortest Distances: ",self.dist)




adj = {
    'A':{'B':1,'C':3},
    'B':{'A':1,'C':7,'D':2},
    'C':{'A':3,'B':7,'D':5,'E':1},
    'D':{'B':2,'C':5,'E':7},
    'E':{'C':1,'D':7}
}
dj = Djikstra(adj, 'B')
dj.run()
dj.dist



class NumberIslands:
    def __init__(self, arr):
        self.arr = arr
        self.nr = len(arr)
        self.nc = len(arr[0])
        self.vis = [[False for _ in range(self.nc)] for _ in range(self.nr)]
        
    def get_max_island(self):
        maxLen = 0
        for i in range(self.nr):
            for j in range(self.nc):
                if self.arr[i][j] == 1:
                    islandLen = self.flood_fill(i,j)
                    maxLen = max(maxLen, islandLen)
        return maxLen

    
    def isValid(self, i, j):
        return i>=0 and i<self.nr and j>=0 and j<self.nc   

    def flood_fill(self, i,j, length=0):
        if self.isValid(i,j) and self.arr[i][j]==1:
            self.arr[i][j] = 0
        
            # Explore all four directions
            return 1+ self.flood_fill(i+1,j) + self.flood_fill(i-1,j) +self.flood_fill(i,j+1) + self.flood_fill(i,j-1)
        return 0
            


grid = [
    [0,0,1,0,0,0,0,1,0,0,0,0,0],
    [0,0,0,0,0,0,0,1,1,1,0,0,0],
    [0,1,1,0,1,0,0,0,0,0,0,0,0],
    [0,1,0,0,1,1,0,0,1,0,1,0,0],
    [0,1,0,0,1,1,0,0,1,1,1,0,0],
    [0,0,0,0,0,0,0,0,0,0,1,0,0],
    [0,0,0,0,0,0,0,1,1,1,0,0,0],
    [0,0,0,0,0,0,0,1,1,0,0,0,0]
] # SOL = 6

NumberIslands(grid).get_max_island()


class SolutionZeroOneMatrix:
    def is_valid(self,i,j):
        return i>=0 and i<self.nr and j>=0 and j<self.nc
    
    def updateMatrix(self, mat):
        
        self.nr = len(mat)
        self.nc = len(mat[0])
        dist = [[-1 for _ in range(self.nc)] for _ in range(self.nr)]
        q = []
        
        # Add all zeros to Q and mark distance as 0, d=-1 for 1's
        for i in range(self.nr):
            for j in range(self.nc):
                if mat[i][j] == 0:
                    dist[i][j] = 0
                    q.append((i,j))
        
        dx = [0,1,0,-1]
        dy = [1,0,-1,0]
        while q:
            node = q.pop(0)
            for i in range(4): # all 4 directions
                x = node[0] + dx[i]
                y = node[1] + dy[i]
                if self.is_valid(x,y) and dist[x][y] == -1:
                    dist[x][y] = 1 + dist[node[0]][node[1]]
                    q.append((x,y))
                
        return dist
        
                    
        


class Solution:
    
    dx = [0,1,0,-1]
    dy = [1,0,-1,0]
    
    def is_valid(self,i,j):
        return i>=0 and i<self.nr and j>=0 and j<self.nc
    
                
    
    def orangesRotting(self, grid) -> int:
        self.nr = len(grid)
        self.nc = len(grid[0])
        self.arr = grid
        freshCount = 0
        vis = [[False for _ in range(self.nc)] for _ in range(self.nr)]
        n_rotten = 0
        
        q = []
        
        for i in range(self.nr):
            for j in range(self.nc):
                if grid[i][j] == 2:
                    n_rotten += 1
                    q.append((i,j))
                elif grid[i][j] == 1:
                    freshCount += 1
        
        # BFS with Multiple Sources/Rotten oranges
        time = 0
        while q and freshCount>0:
            time += 1
            for i in range(len(q)):
                node = q.pop(0)
                vis[node[0]][node[1]] = True
                
                for t in range(4):
                    next_x = node[0]+self.dx[t]
                    next_y = node[1]+self.dy[t]
                    
                    if self.is_valid(next_x,next_y):
                        if grid[next_x][next_y] == 1 and not vis[next_x][next_y]:
                            q.append((next_x, next_y))
                            grid[next_x][next_y] = 2
                            freshCount -= 1
                            
            # print(freshCount)
            # print(*grid, sep="\n", end="\n\n")
        
        return time if freshCount == 0 else -1
        
        
        
        


def remove_from_map_before(hMap, idx):

    for key,val in list(hMap.items()):
        if val <= idx:
            del hMap[key]
    return hMap

def longest_substr(s):
    arr = list(s)
    n = len(arr)
    hashmap = {}
    maxLen = 0

    for idx, x in enumerate(arr):
        if x in hashmap:
            maxLen = max(maxLen, len(hashmap))
            hashmap = remove_from_map_before(hashmap, hashmap[x])

        hashmap[x] = idx

    return  max(maxLen, len(hashmap))



def longest_distint_substr_optimal(s):
    arr = list(s)
    n = len(arr)

    startIndex = 0
    seenChars = {}
    maxLen = 0

    for i,x in enumerate(arr):
        if x not in seenChars:
            maxLen = max(maxLen, i-startIndex+1)
        else:
            if seenChars[x] < startIndex:
                maxLen = max(maxLen, i-startIndex+1)
            else:
                startIndex = seenChars[x]+1

        seenChars[x] = i
    
    return maxLen


print(longest_substr("abcabcbb"))
print(longest_substr("bbbbb"))
print(longest_substr("pwwkew"))
print(longest_substr("aab"))
print(longest_substr("dvdf"),"\n------>")

print(longest_distint_substr_optimal("abcabcbb"))
print(longest_distint_substr_optimal("bbbbb"))
print(longest_distint_substr_optimal("pwwkew"))
print(longest_distint_substr_optimal("aab"))
print(longest_distint_substr_optimal("dvdf"))


def check_perm(s, charMap):
    # print(s)
    for ch in s:
        if ch not in charMap:
            return False
        charMap[ch] -= 1

    for x in charMap.values():
        if x != 0:
            return False
    return True


def check_permute(s1, s2):
    s1 = list(s1)
    s2 = list(s2)
    n1 = len(s1)
    n2 = len(s2)

    strMap = dict()
    for ch in s1:
        strMap[ch] = strMap.get(ch, 0) + 1

    for i, x in enumerate(s2):
        if x in strMap and ((i+n1) <= n2):
            if check_perm(s2[i:i+n1], strMap.copy()):
                return True

    return False



check_permute("ab","akkkkbkjkjkab")


class TreeNode:
    def __init__(self,val = 0, left=None, right=None):
        self.left = left
        self.right = right
        self.val = val


'''
      1
  2      3
 4 5    6 7
'''
n4 = TreeNode(4)
n5 = TreeNode(5)
n6 = TreeNode(6)
n7 = TreeNode(7)

n2 = TreeNode(2,n4,n5)
n3 = TreeNode(3,n6,n7)

root_node = TreeNode(1,n2,n3)


def dfs_postorder(root):
    if root == None:
        return 
    dfs_postorder(root.left)
    dfs_postorder(root.right)
    print(root.val,end=" -> ")


def bfs(root):
    q = []
    q.append(root)

    while q:
        node = q.pop(0)
        print(node.val, end=" -> ")
        if node.left:
            q.append(node.left)
        if node.right:
            q.append(node.right)

    


print(dfs_postorder(root_node))
print(bfs(root_node))


arr = [1]
type(arr)


class Solution:
    def mergeTrees(self, root1, root2):
        if not root1:
            return root2
        if not root2:
            return root1
        
        root1.val += root2.val
        root1.left = self.mergeTrees(root2.left, root1.left)
        root1.right = self.mergeTrees(root2.right, root1.right)
        
        return root1
        


def level_order_traversal(self, root):
    res = []
    if root is None:
        return res
    
    q = [root]
    while len(q)>0:
        lvl_list = []
        for i in range(len(q)):
            node = q.pop(0)
            lvl_list.append(node.val)
            if node.left is not None:
                q.append(node.left)
            if node.right is not None:
                q.append(node.right)

        res.append(lvl_list)
    return res



def zigzagLevelOrder(self, root):
    res = []
    if root is None:
        return res

    lvl_index = 0
    q = [root]
    while len(q)>0:
        lvl_list = []
        lvl_index += 1
        for i in range(len(q)):
            node = q.pop(0)
            lvl_list.append(node.val)
            if node.left is not None:
                q.append(node.left)
            if node.right is not None:
                q.append(node.right)

        if lvl_index%2 == 0: #even level
            res.append(lvl_list[::-1])
        else:
            res.append(lvl_list)
    return res




url = 'https://assets.leetcode.com/uploads/2019/02/14/116_sample.png'
Disp.Image(requests.get(url).content, width=600, height=200)



def connect(self, root):
    if not root:
        return
    
    q = [root]
    while q:
        lvl_len = len(q)
        for idx in range(lvl_len):

            node = q.pop(0)            
            if node.left:
                q.append(node.left)
            if node.right:
                q.append(node.right)
            
            if idx == (lvl_len-1): # last node in current level
                node.next = None
            else:
                node.next = q[0] # non-last node -> q[0] (Because you pop cur_node hence next will at position 0)
                print(node.val, "->", q[0].val)
                
    return root
    


float('inf') in [float('inf'),2,3]





url = 'https://assets.leetcode.com/uploads/2021/02/19/tree.jpg'
Disp.Image(requests.get(url).content, width=200, height=200)



class Solution:
    def search_list(self, arr, val):
        # returns index of val
        for i,x in enumerate(arr):
            if val == x:
                return i
        return -1
    
    def build_subtree(self, in_start, in_end):
        if in_start > in_end:
            return None
        
        # find root from preorder
        cur_root = TreeNode(self.preorder[self.pre_start_index])
        self.pre_start_index += 1
        
        # check if only node left in inorder
        if in_start == in_end:
            return cur_root
                      
        # Get the index of cur_root in inorder -> to split the array
        cur_root_index = self.search_list(self.inorder, cur_root.val)
        # build sub-trees
        cur_root.left = self.build_subtree(in_start, cur_root_index-1)
        cur_root.right = self.build_subtree(cur_root_index+1, in_end)
                      
        return cur_root
        
    def buildTree(self, preorder, inorder):
        self.inorder = inorder
        self.preorder = preorder
        self.pre_start_index = 0 # GLOBAL
                      
        return self.build_subtree(0,len(inorder)-1)
        



class Solution:
    def search_list(self, arr, val):
        # returns index of val
        for i,x in enumerate(arr):
            if val == x:
                return i
        return -1
    
    def build_subtree(self, in_start, in_end):
        if in_start > in_end:
            return None
        
        # find root from preorder
        cur_root = TreeNode(self.postorder[self.post_start_index])
        self.post_start_index += 1
        
        # check if only node left in inorder
        if in_start == in_end:
            return cur_root
                      
        # Get the index of cur_root in inorder -> to split the array
        cur_root_index = self.search_list(self.inorder, cur_root.val)
        # build sub-trees
        cur_root.right = self.build_subtree(cur_root_index+1, in_end)
        cur_root.left = self.build_subtree(in_start, cur_root_index-1)
        
                      
        return cur_root
    
    def buildTree(self, inorder, postorder):
        self.inorder = inorder
        self.postorder = list(reversed(postorder))
        self.post_start_index = 0 # GLOBAL
                      
        return self.build_subtree(0,len(inorder)-1)
        



    def rightSideView(self, root):
        if root is None:
            return []
        elif root.left is None and root.right is None:
            return [root.val]
        
        q = []
        q.append(root)
        right_view = []
        
        while q:
            cur_lvl_len = len(q)
            for i in range(cur_lvl_len):
                node = q.pop(0)
                if node.left:
                    q.append(node.left)
                if node.right:
                    q.append(node.right)
                    
                if i == cur_lvl_len-1:
                    right_view.append(node.val)
        
        return right_view
        
        


class Solution:
    
    def check_valid(self, root, min_bound, max_bound):
        if root is None:
            return True
        
        cur_val = root.val
        if root.val >= max_bound or root.val <= min_bound:
            return False
        
        return self.check_valid(root.left, min_bound, cur_val) and self.check_valid(root.right, cur_val, max_bound)
            
        
    def isValidBST(self, root) -> bool:
        return self.check_valid(root, float('-inf'), float('inf'))


# NAIVE APPROACH
class Solution:
    def check_height(self, root):
        if root is None:
            return 0
        return 1 + max(self.check_height(root.left),self.check_height(root.right))
    
    def isBalanced(self, root):
        if root is None:
            return True
        if abs(self.check_height(root.left)-self.check_height(root.right)) >= 2:
            return False
        
        return self.isBalanced(root.left) and self.isBalanced(root.right)
        



class Solution:
    cur_max = 0
    def find_diameter(self, node):
        if node is None:
            return 0
        
        left_diameter = self.find_diameter(node.left)
        right_diameter = self.find_diameter(node.right)
        
        # check what if you include current node as well (l->cur->r = len = 2)
        self.cur_max = max(self.cur_max, left_diameter+right_diameter)
        
        # returns the max height till this node
        return 1+ max(left_diameter, right_diameter)
    
    def diameterOfBinaryTree(self, root) -> int:
        self.find_diameter(root)
        return self.cur_max
        
        


def trimBST(root, low: int, high: int):
    if root is None:
        return None
    
    # prune
    if root.val<low: # if val<min -> left subtree will also be < min 
        return trimBST(root.right, low, high) 
    elif root.val>high: # if val<max -> right subtree will also be > max
        return trimBST(root.left, low, high)
    else:
        root.left = trimBST(root.left, low, high)
        root.right = trimBST(root.right,low, high)
        return root
    



class Solution:
    suffix_sum = 0
    
    def fill_bst(self, node):
        if node: #not None
            self.fill_bst(node.right)
            node.val += self.suffix_sum
            self.suffix_sum = node.val
            self.fill_bst(node.left)
            
        
    def convertBST(self, root):
        self.fill_bst(root)
        return root
        


class Solution:
    #Function to connect nodes at same level.
    def connect(self, root):
        if root is None:
            return 
        q = [root]
        
        while len(q) > 0:
            lvl_len = len(q) # Store first element as prev
            prev_node = q.pop(0)
            
            if prev_node.left is not None:
                q.append(prev_node.left)
            if prev_node.right is not None:
                q.append(prev_node.right)
                
            cur_node = ""
            for i in range(lvl_len-1): # iterate remaining nodes
                cur_node = q.pop(0)
                if cur_node.left is not None:
                    q.append(cur_node.left)
                if cur_node.right is not None:
                    q.append(cur_node.right)
                prev_node.nextRight=cur_node
                prev_node = cur_node
            
            prev_node.nextRight = None # last node in level -> None
        return root


class Solution:
    count = 0
    ans = 0

    # INORDER TRAVERSAL VISITS IN SORTED ORDER
    def inorder(self, node, k):
        if node is None:
            return 
        
        self.inorder(node.left, k)
        self.count += 1
        if self.count == k:
            self.ans = node.val
            return
        self.inorder(node.right, k)
        
    def kthSmallest(self, root, k):
        self.count = 0
        self.inorder(root, k)
        return self.ans
        


class Solution:
    #Function to check if two trees are identical.
    def isIdentical(self,root1, root2):
        # Code here
        if root1 is None and root2 is None:
            return True
        if root1 is None or root2 is None:
            return False
        
        return (root1.val == root2.val) and self.isIdentical(root1.left,root2.left) and self.isIdentical(root1.right,root2.right)


class TrieNode:
    def __init__(self):
        self.child = {}
        self.isEnd = False
        
    def __str__(self):
        return f"{self.child.keys()}, {self.isEnd}"

class Trie:
    def __init__(self):
        self.root = TrieNode()

    def insert(self, word):
        cur_node = self.root
        for ch in word: 
            if ch not in cur_node.child: # if ch is not a child add it
                cur_node.child[ch] = TrieNode()
            cur_node = cur_node.child[ch] # move to next char and node

        cur_node.isEnd = True # last visited char|node isEnd

    def search(self, word): # exact match of word
        cur_node = self.root
        for ch in word:
            if ch not in cur_node.child: # char not in tree_path
                return False
            cur_node = cur_node.child[ch]
        
        return cur_node.isEnd # We need exact match not substring
        # ex: word to search "real" and in our tree we have "reality", 
        # Here although "real" is substring of "reality" but we did not add word "real" in our Trie

    def print_words_from_node(self, node, cur_word=""):
        for ch, tNode in node.child.items(): # iterate all the nodes
            self.print_words_from_node(tNode, cur_word+ch)

        if node.isEnd: # only print in case 
            self.prefixes.append(cur_word)
        
    def prefix_search(self, prefix_key): # return all words starting with given key
        cur = self.root
        self.prefixes = []
        for i, ch in enumerate(prefix_key): # traverse prefix_key first
            if i == len(prefix_key)-1 and cur.isEnd:  # if prefix itself is a word
                self.prefixes.append(prefix_key)
                
            if ch not in cur.child: # in case prefix doesnt exist
                return []
            cur = cur.child[ch]
        
        self.print_words_from_node(cur,cur_word=prefix_key)
        return self.prefixes
     


trie = Trie()

trie.insert("ash")
trie.insert("ashish")
trie.insert("ashley")
trie.insert("amber")
trie.insert("bat")

print(trie.search("ashish"))
print(trie.search("ash"))
print(trie.search("amber"))
print(trie.search("leetcode"))

print("ash -> ",trie.prefix_search("ash"))
print("p -> ",trie.prefix_search("p"))
print("am -> ",trie.prefix_search("am"))


# (trie.root.child)
print(trie.root.child)


print(trie.root.child['a'].child['s'].child['h'])
print(trie.root.child['a'].child['s'].child['h'].child['l'])


class TrieNode: 
    def __init__(self): 
        self.children = [None]*26
        self.isEndOfWord = False
        
class Trie:    
    def __init__(self): 
        self.root =TrieNode()
        
    def insert(self,key):
        cur_node = self.root
        for ch in key:
            asci = ord(ch)-ord('a')
            if cur_node.children[asci] is None:
                cur_node.children[asci] = TrieNode()
            cur_node = cur_node.children[asci]
        cur_node.isEndOfWord = True

    def search(self, key):
        cur_node = self.root
        for ch in key:
            asci = ord(ch)-ord('a')
            if cur_node.children[asci] is None:
                return False
            cur_node = cur_node.children[asci]
        return cur_node.isEndOfWord




class TrieNode:
    def __init__(self):
        self.isEnd = False
        self.child = {}
        
class Trie:
    def __init__(self):
        self.root = TrieNode()
        
    def insert(self, word):
        cur = self.root
        for ch in word:
            if ch not in cur.child:
                cur.child[ch] = TrieNode()
            cur = cur.child[ch]
        cur.isEnd = True
            
    def print_from_node(self, node, cur_word):
        for ch, tNode in node.child.items():
            self.print_from_node(tNode, cur_word+ch)
        
        if node.isEnd:
            self.prefixes.append(cur_word)
            
    def prefix_search(self, prefix):
        self.prefixes = []
        cur = self.root
        
        for i,ch in enumerate(prefix):
            if i == len(prefix)-1 and cur.isEnd:
                self.prefixes.append(prefix)
                
            if ch not in cur.child:
                return []
            cur = cur.child[ch]
 
        self.print_from_node(cur, cur_word=prefix)
        return self.prefixes
        
class Solution:
    def suggestedProducts(self, products, searchWord):
        # return top3 lexographically
        trie = Trie()
        for prod in products:
            trie.insert(prod)
        
        res = []
        for i in range(len(searchWord)):
            cur_typed_word = searchWord[:i+1]
            res.append(sorted(trie.prefix_search(cur_typed_word))[:3])
        
        return res
        


cities = ["shimla","safari","jammu","delhi","jammu","dehradun"]
# res = [s, sa, j, d, jammu 2, deh]
# station_name = smallest prefix till now + (some_chars) = unique smallest prefix


class TrieNode:
    def __init__(self):
        self.child = {}
        self.isEnd = False
        
    def __str__(self):
        return f"{self.child.keys()}, {self.isEnd}"

class TrieRenameCities:
    def __init__(self):
        self.root = TrieNode()

    def insert(self, word):
        cur_node = self.root
        for ch in word: 
            if ch not in cur_node.child: 
                cur_node.child[ch] = TrieNode()
            cur_node = cur_node.child[ch]

        cur_node.isEnd = True
    
    def longest_common_prefix(self, key):
        cur = self.root
        prefix = ""
        for ch in key:
            print(ch)
            if key not in cur.child:
                return prefix
            cur = cur.child[ch]
            prefix = prefix+ch
        
        return prefix


rename_cities = TrieRenameCities()
print(cities)
res = [cities[0][0]]
rename_cities.insert(cities[0])
print(res)



rename_cities.longest_common_prefix(cities[1])


def has_no_children(self, node): # check is node as no further children (last node in path)
        for child in node.child.values():
            if child is not None:
                return False
        return True 
    
def delete_util(self, root, word, i):
    # print(f'{word} -> {i}')
    if root is None:
        return None

    if i == len(word): # char is last in word
        print(f'LAST {root}',self.has_no_children(root))
        root.isEnd = True
        if self.has_no_children(root): # no more chars further
            root = None
        return root


    ch = word[i]
    print(f'MID Before {word}-> {word[i]} -> {root.child}')
    root.child[ch] = self.delete_util(root.child[ch], word, i+1)
    print("MID",word[i], root.child,self.has_no_children(root),not root.isEnd)

    if self.has_no_children(root) and not root.isEnd: # check if cur_node after deletion is not needed (no children and its not last of any other word)
        del roo
    return root

def delete(self,word):
    # print("START:", self.root)
    self.root = self.delete_util(self.root, word,0)
    print(self.root.child)
    # print("END: ",self.delete_util(self.root, word,0))
    # print("END:", self.root)


def substring(processed, unprocessed):
    if len(unprocessed) == 0:
        print(processed, end=" -> ")
        return 
    
    fChar = unprocessed[0]
    unprocessed = unprocessed[1:]
    substring(processed+fChar, unprocessed)
    substring(processed, unprocessed)


substring("","abc")


res = []

def permute(p, up):
    global res

    if len(up) == 0:
        res.append(p)
        return
    
    ch = up[0]
    up = up[1:]

    # ABC ch=X
    permute(ch+p, up) # XABC
    for i in range(len(p)):
        permute(p[:i+1] + ch + p[i+1:], up)
    permute(p+ch, up) # ABCX




permute("","abcd")

print(len(res))


n_map = {
    "2": [ch for ch in "abc"],
    "3": [ch for ch in "def"],
    "4": [ch for ch in "ghi"],
    "5": [ch for ch in "jkl"],
    "6": [ch for ch in "mno"],
    "7": [ch for ch in "pqrs"],
    "8": [ch for ch in "tuv"],
    "9": [ch for ch in "wxyz"]
}

def phone_comb(p, up, n_map):
    if len(up) == 0:
        print(p)
        return
    
    cur_num = up[0]
    up = up[1:]

    for ch in n_map[cur_num]:
        phone_comb(p+ch, up, n_map)



# RETURN ALL COMBINATIONS AS LIST
def phone_comb_iter(p, up, n_map):
    if len(up) == 0:
        return [p] if p!="" else []
    
    cur_num = up[0]
    up = up[1:]

    res = []
    for ch in n_map[cur_num]:
        res.extend(phone_comb_iter(p+ch, up, n_map))

    return res


phone_comb_iter("","23",n_map)


# res = set()

def subsets_2(p, up):
    if len(up) == 0:
        print(p)
        # res.add(p)
        return

    ch = up[0]
    up = up[1:]

    subsets_2(p,up)
    subsets_2([*p, ch],up)


arr = [1,2,3]

subsets_2([],[1,2,2])


class Solution:
    def is_valid(self, row, col, board):
        nr = len(board)
        nc = len(board[0])

        # Check top only previous rows
        for i in range(row):
            if board[i][col]:
                return False
            
        # Check right-top diagonals"
        i = row-1
        j = col+1
        while j<nc:
            # print(i,j)
            if board[i][j]:
                return False
            i = i-1
            j = j+1
        
        # Check left-top diagonals
        i = row-1
        j = col-1
        while j>=0:
            # print(i,j)
            if board[i][j]:
                return False
            i = i-1
            j = j-1
            
        return True

    
    def n_queen(self, row, board):
        nr = len(board)
        nc = len(board[0])

        if row == nr:
            print(*board,"\n\n", sep="\n")
            return
        
        # place in all cells of row and check
        for j in range(nc):
            if self.is_valid(row, j, board):
                board[row][j] = True # mark as vis
                self.n_queen(row+1,board)  # try to place in next row
                board[row][j] = False # unmark after exploring
        
        return
    
    def solve_n_queen(self, n):
        board = [[False for _ in range(n)] for _ in range(n)]
        self.n_queen(0, board)



Solution().solve_n_queen(1)


import math

class SudokuSolution:
    def __init__(self):
        # ideally empty cells have '0' and all nos are in string format
        pass

    def find_first_slot(self, board):
        for i in range(len(board)):
            for j in range(len(board)):
                if board[i][j] == '0':
                    return (i,j)
        return (None, None)
    
    def is_safe(self, row, col, num, board):
        n = len(board)

        for i in range(n): # CHECK ROW + COL
            if board[row][i] == num or board[i][col]==num:
                return False

        # check sub_square
        k = int(math.sqrt(n))
        sRow = (row//k)*k
        sCol = (col//k)*k

        for i in range(sRow, sRow+k):
            for j in range(sCol, sCol+k):
                if board[i][j] == num:
                    return False
                
        return True

    def print_solution(self, board):
        print(*board,"\n", sep="\n")


    def solve(self, board):
        n = len(board)
        sRow, sCol = self.find_first_slot(board)   # find first Non-Empty cell
        if not sRow and not sCol: # no slots -> Solved
            self.print_solution(board)
            return True

        for fill_num in range(1,n+1):
            fill_num  = str(fill_num)
            if self.is_safe(sRow, sCol, fill_num, board):

                board[sRow][sCol] = fill_num
                if self.solve(board):
                    return True
                board[sRow][sCol] = '0'
        return False



def print_first_palindrome(n):
    while n==0:
        for i in range(10):
            print(i)


def bfs(graph, src):
    vis = []
    vis.append(src)

    #mark all the unvisited nodes and then visit them one by one
    while vis:
        node = vis.pop()
        


board = [
   ["5","3","0","0","7","0","0","0","0"],
   ["6","0","0","1","9","5","0","0","0"],
   ["0","9","8","0","0","0","0","6","0"],
   ["8","0","0","0","6","0","0","0","3"],
   ["4","0","0","8","0","3","0","0","1"],
   ["7","0","0","0","2","0","0","0","6"],
   ["0","6","0","0","0","0","2","8","0"],
   ["0","0","0","4","1","9","0","0","5"],
   ["0","0","0","0","8","0","0","7","9"]
]

SudokuSolution().solve(board)



class UnionFind:
    def __init__(self,n):
        self.parent = [i for i in range(n)]
    
    def find(self, x):
        if self.parent[x] == x:
            return x
        else:
            return self.find(self.parent[x])
        
    def union(self, x,y): # make x as parent of y
        x_root = self.find(x)
        y_root = self.find(y)
        
        if x_root != y_root: # both are alredy not in same set
            self.parent[y_root] = x_root
    
    def are_same_group(self,x,y):
        return self.find(x) == self.find(y)
        


uf = UnionFind(5)
make_friends = [(0,1),(3,4),(1,3)]
check_friends = [(0,4),(2,3)]

for x,y in make_friends:
    uf.union(x,y)
for x,y in check_friends:
    print(f"{x} {y} {uf.are_same_group(x,y)}")



class UnionFindRank:
    def __init__(self,n):
        self.parent = [i for i in range(n)]
        self.rank = [0 for _ in range(n)]
    
    def find(self, x):
        if self.parent[x] == x:
            return x
        else:
            return self.find(self.parent[x])
        
    def union(self, x,y): # make x as parent of y
        x_root = self.find(x)
        y_root = self.find(y)
        
        print(x_root, y_root)
        
        if x_root != y_root: # both are alredy not in same set
            if self.rank[x_root] == self.rank[y_root]:
                self.parent[y_root] = x_root
                self.rank[x_root] += 1 #height of parent_tree+1
            elif self.rank[x_root] > self.rank[y_root]:
                self.parent[y_root] = x_root
            else:
                self.parent[x_root] = y_root
    
    def are_same_group(self,x,y):
        return self.find(x) == self.find(y)
        


uf = UnionFindRank(5)
make_friends = [(0,1),(3,4),(1,3)]
check_friends = [(0,4),(2,3)]

for x,y in make_friends:
    uf.union(x,y)
for x,y in check_friends:
    print(f"{x} {y} {uf.are_same_group(x,y)}")

    
print("Ranks/Heights: ",uf.rank)


class UnionFindCompressed:
    def __init__(self,n):
        self.parent = [i for i in range(n)]
        self.rank = [0 for _ in range(n)]
    
    def find(self, x):
        if self.parent[x] == x:
            return x
        self.parent[x] = self.find(self.parent[x])
        return self.parent[x]
    
    def union(self, x,y): # make x as parent of y
        x_root = self.find(x)
        y_root = self.find(y)
        
        if x_root != y_root: # both are alredy not in same set
            if self.rank[x_root] == self.rank[y_root]:
                self.parent[y_root] = x_root
                self.rank[x_root] += 1 #height of parent_tree+1
            elif self.rank[x_root] > self.rank[y_root]:
                self.parent[y_root] = x_root
            else:
                self.parent[x_root] = y_root
    
    def are_same_group(self,x,y):
        return self.find(x) == self.find(y)
        


uf = UnionFindCompressed(5)
make_friends = [(0,1),(3,4),(1,3)]
check_friends = [(0,4),(2,3)]

for x,y in make_friends:
    uf.union(x,y)
for x,y in check_friends:
    print(f"{x} {y} {uf.are_same_group(x,y)}")

    
print("Ranks/Heights: ",uf.rank)


printImage("./src/MST.png")


edges = [
    (0,1,4),(0,7,8),(1,7,11),(1,2,8),(7,6,1),(7,8,7),(6,8,8),(2,8,2),
    (2,3,7),(2,5,4),(6,5,2),(3,5,14),(3,4,9),(4,5,10)
]


class MST:
    def __init__(self, n, edges):
        self.uf = UnionFindCompressed(n)
        self.edges = sorted(edges, key=lambda x:x[2])
    
    def solve(self):
        mst_wts = 0
        mst_edges = []
        for src, dest, wt in self.edges:
            # Edge doesnt form cycle
            if not self.uf.are_same_group(src, dest):
                mst_wts += wt
                mst_edges.append((src,dest))
                self.uf.union(src,dest)
        return mst_wts, mst_edges
        


mst = MST(9, edges)
mst.solve()


def detectCycle(V, adj):
    """
    V : no of Vertices
    adj: [vertex_number: [nodes_list]]
    """
    if V<=2: # if only 2 nodes are there cycle cant exist
        return False
    
    uf = UnionFindCompressed(V)
    for src in range(len(adj)):
        for dest in adj[src]:
            if uf.are_same_group(src, dest):
                return True
            uf.union(src, dest)
    return False

















def minCostClimbingStairs(cost):
    n = len(cost)
    dp = [0 for _ in range(n)]

    # DP[i] = min cost to reach index i
    dp[0] = cost[0]
    dp[1] = cost[1]

    for i in range(2,n):
        dp[i] = cost[i] + min(dp[i-1],dp[i-2])

    # why last 2? You can jump to top(n+1) from either n or (n-1)th stair
    return  min(dp[-1],dp[-2])
        


cost = [1,100,1,1,1,100,1,1,100,1] # 6
minCostClimbingStairs(cost)























def largestAndSecondLargest(arr):

        res = arr[0]
        second_res = -1
    
        for x in arr[1:]:
            if x > res:
                second_res = res
                res = x
            elif x<res:
                if second_res == -1:
                    second_res = x
                elif x > second_res:
                    second_res = x
                    
        return res,second_res


arr = [1,2,3,4,5]
print(largestAndSecondLargest(arr))

arr = [2,2,2,0,2,1]
print(largestAndSecondLargest(arr))

arr = [2,2,2,1,2,0]
print(largestAndSecondLargest(arr))

arr = [2,2,2,2,2,2]
print(largestAndSecondLargest(arr))



def trappingWater(arr,n):
    left = [0 for _ in range(n)]
    right = [0 for _ in range(n)]
    
    left[0] = arr[0]
    for i in range(1,n):
        left[i] = max(left[i-1],arr[i])
        
    right[-1] = arr[-1]
    for i in reversed(range(0,n-1)):
        right[i] = max(right[i+1],arr[i])
        
    total_water = 0
    for i in range(n):
        total_water += min(left[i],right[i])-arr[i]
    
    return total_water


trappingWater([7,4,0,9],4)


class Solution:
    result = []
    key_chars = {
        2 : list("abc"), 
        3 : list("def"),
        4 : list("ghi"),
        5 : list("jkl"),
        6 : list("mno"),
        7 : list("pqrs"),
        8 : list("tuv"),
        9 : list("wxyz")
    }
    
    def get_possible_ways(self, up,p):
        # up -> list, p -> String initially empty
        if len(up) == 0:
            self.result.append(p)
            return
        
        cur_n = up[0]
        up = up[1:]
        
        for ch in self.key_chars[cur_n]:
            self.get_possible_ways(up,p+ch)
        
        
    #Function to find list of all words possible by pressing given numbers.
    def possibleWords(self,a,N):
        self.get_possible_ways(a,"")
        return self.result


arr = [2,2,4]
print(*Solution().possibleWords(arr, len(arr)),sep=" ")


# Basically L-> Iteration | You either include cur_index or dont in result | Print once all indices are visited (Either picked or not doesnt matter)
def powerSet(S, cur_pick_index, cur_string):
    if cur_pick_index == len(S):
        print(cur_string)
        return 
    
    powerSet(S, cur_pick_index+1, cur_string+ S[cur_pick_index])
    powerSet(S, cur_pick_index+1, cur_string)




s = "xxyzz" # a ab abc ac b bc c
s = "abc"

powerSet(s, 0,"")


def maxIndexDiff(arr):
    arr = list(enumerate(arr)) # [index,val]
    print(arr)
    arr = sorted(arr, key=lambda x : x[1])
    print(arr)

    min_index = float('inf')
    max_diff = -1

    for index, val in arr:
        min_index = min(min_index,index)
        max_diff = max(max_diff, index-min_index)
    
    return max_diff



arr = [34, 8, 10, 3, 2, 80, 30, 33, 1]
maxIndexDiff(arr)


def kadanes_I(arr):
    n = len(arr)
    dp = [arr[0]]
    cur_max = arr[0]
    max_till_now = arr[0]

    for x in arr[1:]:
        cur_max = max(cur_max+x, x)
        max_till_now = max(max_till_now, cur_max)
        dp.append(cur_max)

    print(*dp,sep=" ")
    return max_till_now


arr = [5,-2,-3,32,-5,65] # 5 3 0 32 27 92 -> 92
print(kadanes_I(arr))

arr = [-9,-8,8,3,-4] # -9 -8 8 11 7 -> 11
print(kadanes_I(arr))


#Function to return the maximum sum without adding adjacent elements.
def kadanes_II(arr):
    n = len(arr)
    res = 0
    max_include = [0 for _ in range(n)]
    max_exclude = [0 for _ in range(n)]

    max_include[0] = arr[0]
    max_exclude[0] = float('-inf')

    for i in range(1,n):
        # if you include i, then obvioiusly you cant include i-1
        max_include[i] = max(max_exclude[i-1]+arr[i], arr[i])
        # if you dont include i, then results are max upto i-1
        max_exclude[i] =max(max_exclude[i-1]+arr[i], arr[i])
        res = max(max_include[i], max_exclude[i])

    return res



arr = [int(x) for x in "6 4 7 8 4 7 1 7 3 6".split()]
print(kadanes_II(arr))


def sort_even_odd(arr):
    n = len(arr)
    lo = 0
    hi = n-1
    
    while lo<hi:
        print(arr)
        if arr[lo]%2 == 0: # left is even
            lo += 1
        else: # left is odd
            arr[lo], arr[hi] = arr[hi], arr[lo]
            hi -=1 
    
    return arr
    


arr =  [4, 10, 2, 3, 7, 7, 8, 2, 1, 1]

print("Result:",sort_even_odd(arr))















