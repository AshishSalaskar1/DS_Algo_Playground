{
 "cells": [
  {
   "attachments": {},
   "cell_type": "markdown",
   "metadata": {},
   "source": [
    "#### Second Largest Element in Array"
   ]
  },
  {
   "cell_type": "code",
   "execution_count": 1,
   "metadata": {},
   "outputs": [],
   "source": [
    "def findSecondLargest(arr):\n",
    "    max_ele, sec_max = float(\"-inf\"),float(\"-inf\")\n",
    "    for x in arr:\n",
    "        # in case new max is found, udpate and make older max as second_max\n",
    "        if x>max_ele:\n",
    "            sec_max = max_ele\n",
    "            max_ele = x\n",
    "        # x > sec but not smaller than max (Also handle duplicates)\n",
    "        elif x>sec_max and x!=max_ele:\n",
    "            sec_max = x\n",
    "    \n",
    "    return sec_max if sec_max!=float(\"-inf\") else -1"
   ]
  },
  {
   "attachments": {},
   "cell_type": "markdown",
   "metadata": {},
   "source": [
    "##### Remove Duplicates from Sorted Array"
   ]
  },
  {
   "attachments": {},
   "cell_type": "markdown",
   "metadata": {},
   "source": [
    "- [1,1,2,2,2,3,3] -> output(k)=3 [[1,2,3,_,_,_,_]\n",
    "- If there are k elements after removing the duplicates,then first k elements of the arr must be final result. \n",
    "- It does not matter what you leave beyond the first k elements."
   ]
  },
  {
   "cell_type": "code",
   "execution_count": 2,
   "metadata": {},
   "outputs": [],
   "source": [
    "\n",
    "def removeDuplicates(arr,n):\n",
    "    if n==1:\n",
    "        return 1\n",
    "\n",
    "    unique_ptr = 0\n",
    "    for i in range(1,n):\n",
    "        # if x==unique_ptr (its a duplicate of last seen unique number)\n",
    "        # just skip, we dont want to replace anything\n",
    "        if arr[i] == arr[unique_ptr]:\n",
    "            continue\n",
    "        # we got a unique num, unique_ptr++ and replace \n",
    "        else:\n",
    "            unique_ptr += 1\n",
    "            arr[unique_ptr] = arr[i]\n",
    "\n",
    "    return unique_ptr+1"
   ]
  },
  {
   "cell_type": "code",
   "execution_count": 3,
   "metadata": {},
   "outputs": [
    {
     "name": "stdout",
     "output_type": "stream",
     "text": [
      "5 [1, 2, 3, 4, 5, 3, 4, 4, 5, 5]\n"
     ]
    }
   ],
   "source": [
    "arr = [1 ,2 ,2 ,3 ,3 ,3 ,4 ,4 ,5,5 ]\n",
    "k = removeDuplicates(arr,10) # ANS=5\n",
    "print(k, arr)"
   ]
  },
  {
   "attachments": {},
   "cell_type": "markdown",
   "metadata": {},
   "source": [
    "##### Left Rotate Array"
   ]
  },
  {
   "attachments": {},
   "cell_type": "markdown",
   "metadata": {},
   "source": [
    "**Algorithm**\n",
    "- LEFT ROTATE <br>\n",
    "    1. reverse 0,k\n",
    "    2. reverse k+1,n\n",
    "    3. reverse 0,n\n",
    "- RIGHT ROTATE\n",
    "    1. reverse 0,n-k\n",
    "    2. reverse n-k+1,n\n",
    "    3. reverse 0,n"
   ]
  },
  {
   "cell_type": "code",
   "execution_count": 4,
   "metadata": {},
   "outputs": [],
   "source": [
    "def reverse(arr, i, j):\n",
    "    \"\"\"\n",
    "    reverse given range in array \n",
    "    i, j are inclusive\n",
    "    \"\"\"\n",
    "    lo, hi = i,j\n",
    "    while lo<hi:\n",
    "        arr[lo], arr[hi] = arr[hi], arr[lo]\n",
    "        lo += 1\n",
    "        hi -= 1\n",
    "\n",
    "def rotate_by_k(arr,n,k):\n",
    "    k = k%n\n",
    "    reverse(arr, 0, k-1)\n",
    "    reverse(arr, k,n-1)\n",
    "    reverse(arr, 0,n-1)\n",
    "\n",
    "    print(arr)\n"
   ]
  },
  {
   "cell_type": "code",
   "execution_count": 5,
   "metadata": {},
   "outputs": [
    {
     "name": "stdout",
     "output_type": "stream",
     "text": [
      "[4, 5, 6, 7, 1, 2, 3]\n",
      "[8, 9, 10, 11, 3, 7]\n"
     ]
    }
   ],
   "source": [
    "\n",
    "arr,k = [1,2,3,4,5,6,7],3\n",
    "rotate_by_k(arr,len(arr),k)\n",
    "\n",
    "arr,k = [3,7,8,9,10,11],2\n",
    "rotate_by_k(arr,len(arr),k)"
   ]
  },
  {
   "attachments": {},
   "cell_type": "markdown",
   "metadata": {},
   "source": [
    "##### Move zeros to end"
   ]
  },
  {
   "attachments": {},
   "cell_type": "markdown",
   "metadata": {},
   "source": [
    "Optimal Algorithm\n",
    " - Start traversing from the first occurrence index of Zero \n",
    " - Take 2 variables (i,j), i will be at the first occurrence of zero and j is at i+1 \n",
    " - If element at j index is not zero then swap elements at i,j and increment i,j\n",
    " - If the element at j index is zero then only increment j."
   ]
  },
  {
   "cell_type": "code",
   "execution_count": 9,
   "metadata": {},
   "outputs": [],
   "source": [
    "\n",
    "def move_zeros(arr, n):\n",
    "    \"\"\"\n",
    "    TC: O(n^2)\n",
    "    SC: O(1)\n",
    "    \"\"\"\n",
    "    for i in range(n):\n",
    "        # if 0 is found, replace it with next non zero element\n",
    "        if arr[i] == 0: \n",
    "            for j in range(i+1,n):\n",
    "                if arr[j]!=0:\n",
    "                    arr[i], arr[j] = arr[j], arr[i]\n",
    "                    break\n",
    "    print(arr)\n",
    "\n",
    "\n",
    "def move_zeros_v2(arr, n):\n",
    "    \"\"\"\n",
    "    TC: O(n)\n",
    "    SC: O(1)\n",
    "    \"\"\"\n",
    "    zero_ptr = -1\n",
    "    # find location of first zero\n",
    "    for i in range(n):\n",
    "        if arr[i]==0:\n",
    "            zero_ptr = i\n",
    "            break\n",
    "\n",
    "    if zero_ptr == -1: #no zeros found\n",
    "        return arr\n",
    "    \n",
    "    cur_ptr = zero_ptr+1\n",
    "    while cur_ptr<n and zero_ptr<n:\n",
    "        if arr[cur_ptr] != 0:\n",
    "            arr[cur_ptr], arr[zero_ptr] = arr[zero_ptr], arr[cur_ptr]\n",
    "            zero_ptr += 1\n",
    "        \n",
    "        # in case cur is also zero -> just cur_ptr++\n",
    "        cur_ptr += 1\n",
    "\n",
    "    return arr"
   ]
  },
  {
   "cell_type": "code",
   "execution_count": 10,
   "metadata": {},
   "outputs": [
    {
     "name": "stdout",
     "output_type": "stream",
     "text": [
      "[1, 2, 3, 4, 1, 0, 0, 0]\n"
     ]
    },
    {
     "data": {
      "text/plain": [
       "[1, 2, 3, 4, 1, 0, 0, 0]"
      ]
     },
     "execution_count": 10,
     "metadata": {},
     "output_type": "execute_result"
    }
   ],
   "source": [
    "\n",
    "arr = [1 ,0 ,2 ,3 ,0 ,4 ,0 ,1]\n",
    "move_zeros(arr,len(arr))\n",
    "\n",
    "arr = [1 ,0 ,2 ,3 ,0 ,4 ,0 ,1]\n",
    "move_zeros_v2(arr,len(arr))"
   ]
  },
  {
   "attachments": {},
   "cell_type": "markdown",
   "metadata": {},
   "source": [
    "#### Intersection of sorted Arrays"
   ]
  },
  {
   "cell_type": "code",
   "execution_count": 12,
   "metadata": {},
   "outputs": [],
   "source": [
    "def intersetion_arrays(arr1, arr2):\n",
    "    n1 = len(arr1)\n",
    "    n2 = len(arr2)\n",
    "    res = []\n",
    "\n",
    "    i,j = 0,0\n",
    "    while i<n1 and j<n2:\n",
    "        if arr1[i] == arr2[j]:\n",
    "            res.append(arr1[i])\n",
    "            i += 1\n",
    "            j += 1\n",
    "        # ele in arr1 in smaller and you want bigger one to make both equal\n",
    "        elif arr1[i]<arr2[j]: \n",
    "            i += 1\n",
    "        # ele in arr2 is smaller and you want arr2 ele bigger so that they become equal\n",
    "        else:\n",
    "            j += 1\n",
    "    \n",
    "    return res"
   ]
  },
  {
   "cell_type": "code",
   "execution_count": 13,
   "metadata": {},
   "outputs": [
    {
     "name": "stdout",
     "output_type": "stream",
     "text": [
      "[2, 2, 3]\n"
     ]
    }
   ],
   "source": [
    "# arr1 = [1, 2, 2, 2, 3, 4]\n",
    "# arr2 = [2, 2, 3, 3]\n",
    "# res  = [2, 2, 3]\n",
    "\n",
    "arr1 = [1, 2, 2, 2, 3, 4]\n",
    "arr2 = [2, 2, 3, 3]\n",
    "print(intersetion_arrays(arr1, arr2))"
   ]
  },
  {
   "attachments": {},
   "cell_type": "markdown",
   "metadata": {},
   "source": [
    "#### Merge Sorted Arrays - Keep Duplicates"
   ]
  },
  {
   "attachments": {},
   "cell_type": "markdown",
   "metadata": {},
   "source": [
    "DONT KEEP DUPLICATES <br>\n",
    "-> extra conditions\n",
    "1. if arr1[i] == arr2[j] -> only insert one\n",
    "2. for every insert into res also check is previously_inserted_ele == cur_to_be_inserted\n"
   ]
  },
  {
   "cell_type": "code",
   "execution_count": 18,
   "metadata": {},
   "outputs": [],
   "source": [
    "def merge_sorted_arrays(arr,arr2):\n",
    "    \"\"\"\n",
    "    NOT OPTIMAL SOLUTION\n",
    "    Optimal Sol: https://www.codingninjas.com/codestudio/problem-details/ninja-and-sorted-arrays_1214628\n",
    "    \"\"\"\n",
    "    arr1 = [x for x in arr if x!=0]\n",
    "    n1 = len(arr1)\n",
    "    n2 = len(arr2)\n",
    "    res = []\n",
    "\n",
    "    i,j = 0,0\n",
    "\n",
    "    while i<n1 and j<n2:\n",
    "        if arr1[i] < arr2[j]:\n",
    "            res.append(arr1[i])\n",
    "            i += 1\n",
    "        else:\n",
    "            res.append(arr2[j])\n",
    "            j += 1\n",
    "\n",
    "\n",
    "    # one is used another remaining\n",
    "    if i<n1:\n",
    "        for x in range(i,n1):\n",
    "            res.append(arr1[x])\n",
    "    if j<n2:\n",
    "         for x in range(j,n2):\n",
    "            res.append(arr2[x])\n",
    "    \n",
    "    return res"
   ]
  },
  {
   "cell_type": "code",
   "execution_count": 19,
   "metadata": {},
   "outputs": [
    {
     "name": "stdout",
     "output_type": "stream",
     "text": [
      "[1, 2, 2, 3, 3, 4, 4, 4, 5, 5, 6, 7, 8, 9, 10, 11, 12]\n"
     ]
    }
   ],
   "source": [
    "arr1 = [1,2,3,4,5,6,7,8,9,10]\n",
    "arr2 = [2,3,4,4,5,11,12]\n",
    "print(merge_sorted_arrays(arr1,arr2))"
   ]
  },
  {
   "cell_type": "code",
   "execution_count": null,
   "metadata": {},
   "outputs": [],
   "source": []
  }
 ],
 "metadata": {
  "kernelspec": {
   "display_name": "Python 3",
   "language": "python",
   "name": "python3"
  },
  "language_info": {
   "codemirror_mode": {
    "name": "ipython",
    "version": 3
   },
   "file_extension": ".py",
   "mimetype": "text/x-python",
   "name": "python",
   "nbconvert_exporter": "python",
   "pygments_lexer": "ipython3",
   "version": "3.9.7"
  },
  "orig_nbformat": 4
 },
 "nbformat": 4,
 "nbformat_minor": 2
}
