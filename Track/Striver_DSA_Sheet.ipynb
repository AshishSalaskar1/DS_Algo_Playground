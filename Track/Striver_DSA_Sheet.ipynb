{
 "cells": [
  {
   "cell_type": "code",
   "execution_count": 1,
   "id": "c2d5730b-0725-4267-9bf0-cd2eef711567",
   "metadata": {},
   "outputs": [],
   "source": [
    "import numpy as np"
   ]
  },
  {
   "cell_type": "markdown",
   "id": "6a782f99",
   "metadata": {},
   "source": [
    "#### Utils"
   ]
  },
  {
   "cell_type": "code",
   "execution_count": 10,
   "id": "416fe34d",
   "metadata": {},
   "outputs": [],
   "source": [
    "def printList(arr):\n",
    "    print(\"DP ARRAY\",*arr, sep=\"\\n\")"
   ]
  },
  {
   "cell_type": "markdown",
   "id": "01b92841",
   "metadata": {},
   "source": [
    "## Arrays"
   ]
  },
  {
   "cell_type": "markdown",
   "id": "12af02ec",
   "metadata": {},
   "source": [
    "#### Pascals Triangle"
   ]
  },
  {
   "cell_type": "code",
   "execution_count": 54,
   "id": "8441a1bf",
   "metadata": {},
   "outputs": [],
   "source": [
    "def pascals_triangle(N):\n",
    "    arr = []\n",
    "    for i in range(1,N+1):\n",
    "        arr.append([1]*i)\n",
    "        if i>2:\n",
    "            for j in range(1,i-1):\n",
    "                arr[-1][j] = arr[-2][j] + arr[-2][j-1]\n",
    "                \n",
    "    return arr\n"
   ]
  },
  {
   "cell_type": "code",
   "execution_count": 55,
   "id": "05f6ef6c",
   "metadata": {},
   "outputs": [
    {
     "name": "stdout",
     "output_type": "stream",
     "text": [
      "DP ARRAY\n",
      "[1]\n",
      "[1, 1]\n",
      "[1, 2, 1]\n",
      "[1, 3, 3, 1]\n",
      "[1, 4, 6, 4, 1]\n"
     ]
    }
   ],
   "source": [
    "printList(pascals_triangle(5))"
   ]
  },
  {
   "cell_type": "markdown",
   "id": "d18eaf65",
   "metadata": {},
   "source": [
    "#### Dutch National Flag / Sort 0,1,2"
   ]
  },
  {
   "cell_type": "code",
   "execution_count": 101,
   "id": "ece5fdc8",
   "metadata": {},
   "outputs": [],
   "source": [
    "def DNF(arr):\n",
    "    '''\n",
    "    lo, cur, hi <- cur iterates and swaps...\n",
    "    0s in between : 0<->lo\n",
    "    2s in between : hi<->N\n",
    "    1s get auto-filles betwwen lo<->hi\n",
    "    At any points.. i<lo : 0s filled, i>hi : 2s filled\n",
    "    '''\n",
    "\n",
    "    lo = cur = 0\n",
    "    hi = len(arr)-1\n",
    "\n",
    "    while cur <= hi: # mid>hi, stop(everything after hi is already 2)\n",
    "        if arr[cur] == 0:\n",
    "            arr[lo],arr[cur] = arr[cur], arr[lo]\n",
    "            lo += 1\n",
    "            cur += 1\n",
    "        elif arr[cur] == 2:\n",
    "            arr[cur],arr[hi] = arr[hi], arr[cur]\n",
    "            hi -= 1\n",
    "        else:\n",
    "            cur += 1\n",
    "    return arr\n"
   ]
  },
  {
   "cell_type": "code",
   "execution_count": 103,
   "id": "2108f371",
   "metadata": {},
   "outputs": [
    {
     "name": "stdout",
     "output_type": "stream",
     "text": [
      "[0, 0, 0, 0, 0, 1, 1, 2, 2, 2]\n"
     ]
    }
   ],
   "source": [
    "arr = [0,2,1,2,1,0,0,0,0,2]\n",
    "print(DNF(arr))"
   ]
  },
  {
   "cell_type": "markdown",
   "id": "51b778bb",
   "metadata": {},
   "source": [
    "#### Kadanes Algorithm / Maximum Subarray"
   ]
  },
  {
   "cell_type": "code",
   "execution_count": 6,
   "id": "369800ce",
   "metadata": {},
   "outputs": [],
   "source": [
    "def kadanes(arr):\n",
    "    n = len(arr)\n",
    "    res = arr[0]\n",
    "    c_sum = 0\n",
    "\n",
    "    for cur in arr:\n",
    "        c_sum += cur\n",
    "        res = max(res, c_sum)    \n",
    "        if c_sum < 0:\n",
    "            c_sum = 0\n",
    "    return res"
   ]
  },
  {
   "cell_type": "code",
   "execution_count": 7,
   "id": "82830f35",
   "metadata": {},
   "outputs": [
    {
     "data": {
      "text/plain": [
       "6"
      ]
     },
     "execution_count": 7,
     "metadata": {},
     "output_type": "execute_result"
    }
   ],
   "source": [
    "nums = [-2,1,-3,4,-1,2,1,-5,4] # res  = 6\n",
    "kadanes(nums)"
   ]
  },
  {
   "cell_type": "markdown",
   "id": "c7b0641e",
   "metadata": {},
   "source": [
    "#### POW(X,n)"
   ]
  },
  {
   "cell_type": "code",
   "execution_count": 8,
   "id": "850d258a",
   "metadata": {},
   "outputs": [],
   "source": [
    "def power(x,n):\n",
    "    res = 1\n",
    "    base = x\n",
    "\n",
    "    while n>0:\n",
    "        if n%2 == 0: # even power\n",
    "            n = n//2\n",
    "            base = base ** 2\n",
    "        else:   # odd power\n",
    "            res = res * base\n",
    "            n = n-1\n",
    "    return res"
   ]
  },
  {
   "cell_type": "code",
   "execution_count": 12,
   "id": "9f8ccf63",
   "metadata": {},
   "outputs": [
    {
     "data": {
      "text/plain": [
       "32768"
      ]
     },
     "execution_count": 12,
     "metadata": {},
     "output_type": "execute_result"
    }
   ],
   "source": [
    "power(2,15)"
   ]
  },
  {
   "cell_type": "markdown",
   "id": "d4ebd9e3",
   "metadata": {},
   "source": [
    "#### Find the Duplicate Number in N+1"
   ]
  },
  {
   "cell_type": "markdown",
   "id": "79660cb2",
   "metadata": {},
   "source": [
    "https://leetcode.com/problems/find-the-duplicate-number/"
   ]
  },
  {
   "cell_type": "code",
   "execution_count": 17,
   "id": "df39988c",
   "metadata": {},
   "outputs": [],
   "source": [
    "def findDuplicate(nums):\n",
    "    res = 0\n",
    "    for i,x in enumerate(nums):\n",
    "        if i>0:\n",
    "            res = res^i\n",
    "        res = res^x\n",
    "    return res"
   ]
  },
  {
   "cell_type": "code",
   "execution_count": 18,
   "id": "c612c9a1",
   "metadata": {},
   "outputs": [
    {
     "data": {
      "text/plain": [
       "4"
      ]
     },
     "execution_count": 18,
     "metadata": {},
     "output_type": "execute_result"
    }
   ],
   "source": [
    "findDuplicate([1,2,3,4,4])"
   ]
  },
  {
   "cell_type": "markdown",
   "id": "fbc41b15",
   "metadata": {},
   "source": [
    "#### Longest Subarray with 0 sum"
   ]
  },
  {
   "cell_type": "markdown",
   "id": "f5d652f3",
   "metadata": {},
   "source": [
    "https://bit.ly/31UHoeM <br>\n",
    "https://practice.geeksforgeeks.org/problems/largest-subarray-with-0-sum/1"
   ]
  },
  {
   "cell_type": "code",
   "execution_count": null,
   "id": "b7d6611e",
   "metadata": {},
   "outputs": [],
   "source": []
  },
  {
   "cell_type": "markdown",
   "id": "879016a3",
   "metadata": {},
   "source": [
    "#### Squares of sorted array"
   ]
  },
  {
   "cell_type": "markdown",
   "id": "db5ea70f",
   "metadata": {},
   "source": [
    "https://leetcode.com/problems/squares-of-a-sorted-array/"
   ]
  },
  {
   "cell_type": "code",
   "execution_count": 30,
   "id": "2c0bc521",
   "metadata": {},
   "outputs": [],
   "source": [
    "def squares_sorted_array(arr):\n",
    "        n = len(arr)\n",
    "\n",
    "        start = 0\n",
    "        end = n-1\n",
    "        res_index = n-1 # in each step you compare the extremes -> take the max one and out it in the last index and dccrement that index\n",
    "        res = [0]*n\n",
    "\n",
    "        while start <= end: \n",
    "            if arr[start]**2 > arr[end]**2: # You picked the first element as max\n",
    "                res[res_index] = arr[start]**2\n",
    "                start += 1\n",
    "            else: # you picked the last element as max\n",
    "                res[res_index]  = arr[end]**2\n",
    "                end -=1 \n",
    "            \n",
    "            res_index -=1 \n",
    "\n",
    "\n",
    "        return res"
   ]
  },
  {
   "cell_type": "code",
   "execution_count": 31,
   "id": "38c1458f",
   "metadata": {},
   "outputs": [
    {
     "data": {
      "text/plain": [
       "[1, 4, 9, 16, 100]"
      ]
     },
     "execution_count": 31,
     "metadata": {},
     "output_type": "execute_result"
    }
   ],
   "source": [
    "arr = [-10,-3,1,2,4]\n",
    "squares_sorted_array(arr)"
   ]
  },
  {
   "cell_type": "markdown",
   "id": "e387a462",
   "metadata": {},
   "source": [
    "#### Rotate Array"
   ]
  },
  {
   "cell_type": "code",
   "execution_count": 59,
   "id": "19f8b776",
   "metadata": {},
   "outputs": [],
   "source": [
    "def reverse_array(arr, start=None, end=None):\n",
    "    n = len(arr)\n",
    "    lo = start if start else 0\n",
    "    hi = end-1 if end else n-1\n",
    "    while lo < hi:\n",
    "        arr[lo], arr[hi] = arr[hi], arr[lo]\n",
    "        lo += 1\n",
    "        hi -= 1\n",
    "    return arr\n",
    "\n",
    "def rotate_array(arr, k):\n",
    "    n = len(arr)\n",
    "    k = k%n # if k>n\n",
    "    res = reverse_array(arr[:n-k]) + reverse_array(arr[k+1:])\n",
    "    return reverse_array(res)\n"
   ]
  },
  {
   "cell_type": "code",
   "execution_count": 60,
   "id": "c2139aa6",
   "metadata": {},
   "outputs": [
    {
     "data": {
      "text/plain": [
       "[5, 6, 7, 1, 2, 3, 4]"
      ]
     },
     "execution_count": 60,
     "metadata": {},
     "output_type": "execute_result"
    }
   ],
   "source": [
    "arr = [1,2,3,4,5,6,7]\n",
    "k =3 \n",
    "\n",
    "rotate_array(arr, k)\n"
   ]
  },
  {
   "cell_type": "markdown",
   "id": "26bce432",
   "metadata": {},
   "source": [
    "#### Move Zeros"
   ]
  },
  {
   "cell_type": "markdown",
   "id": "807875d1",
   "metadata": {},
   "source": [
    "Move all zeros to end -> Can you do it in INPLACE + O(N) TC and O(1) SC"
   ]
  },
  {
   "cell_type": "code",
   "execution_count": 62,
   "id": "3fbbea37",
   "metadata": {},
   "outputs": [],
   "source": [
    "def move_zeros(arr):\n",
    "    n = len(arr)\n",
    "    zero_ptr = 0\n",
    "\n",
    "    for i in range(n):\n",
    "        if arr[i] != 0:\n",
    "            arr[i], arr[zero_ptr] = arr[zero_ptr], arr[i]\n",
    "            zero_ptr += 1\n",
    "    \n",
    "    for i in range(zero_ptr,n):\n",
    "        arr[i] = 0\n",
    "\n",
    "    return arr"
   ]
  },
  {
   "cell_type": "code",
   "execution_count": 64,
   "id": "74379c6c",
   "metadata": {},
   "outputs": [
    {
     "name": "stdout",
     "output_type": "stream",
     "text": [
      "[1, 2, 4, 67, 0, 0]\n",
      "[4, 1, 2, 10, 0, 0]\n"
     ]
    }
   ],
   "source": [
    "arr = [0,1,0,2,4,67]\n",
    "print(move_zeros(arr))\n",
    "arr = [4,1,0,2,0,10]\n",
    "print(move_zeros(arr))"
   ]
  },
  {
   "cell_type": "markdown",
   "id": "fe2bb9ab",
   "metadata": {},
   "source": [
    "#### Two Sum in sorted array"
   ]
  },
  {
   "cell_type": "markdown",
   "id": "355be89f",
   "metadata": {},
   "source": [
    "https://leetcode.com/problems/two-sum-ii-input-array-is-sorted/"
   ]
  },
  {
   "cell_type": "code",
   "execution_count": 67,
   "id": "074454fe",
   "metadata": {},
   "outputs": [],
   "source": [
    "def two_sum_sorted(arr, target):\n",
    "    n = len(arr)\n",
    "    lo = 0 \n",
    "    hi = n-1\n",
    "\n",
    "    while lo<hi:\n",
    "        cSum = arr[lo]+arr[hi]\n",
    "\n",
    "        if cSum == target:\n",
    "            return lo,hi\n",
    "        elif cSum > target:\n",
    "            hi -= 1\n",
    "        else:\n",
    "            lo += 1\n",
    "    return -1,-1"
   ]
  },
  {
   "cell_type": "code",
   "execution_count": 68,
   "id": "e1e494f7",
   "metadata": {},
   "outputs": [
    {
     "data": {
      "text/plain": [
       "(0, 1)"
      ]
     },
     "execution_count": 68,
     "metadata": {},
     "output_type": "execute_result"
    }
   ],
   "source": [
    "arr = [2,7,11,15]\n",
    "two_sum_sorted(arr, 9)"
   ]
  },
  {
   "cell_type": "markdown",
   "id": "f32da118",
   "metadata": {},
   "source": [
    "#### Flood Fill"
   ]
  },
  {
   "cell_type": "markdown",
   "id": "b3a96290",
   "metadata": {},
   "source": [
    "Given a new color, fill all pixeks connected with same color [4 way directions]"
   ]
  },
  {
   "cell_type": "code",
   "execution_count": 11,
   "id": "b062b277",
   "metadata": {},
   "outputs": [],
   "source": [
    "class FF:\n",
    "    def __init__(self, arr, i, j, fill_color):\n",
    "        self.arr = arr\n",
    "        self.nr = len(arr)\n",
    "        self.nc = len(arr[0])\n",
    "        self.vis = [[False for _ in range(self.nc)] for _ in range(self.nr)]\n",
    "        \n",
    "        self.flood_fill(i, j, arr[i][j], fill_color)\n",
    "        printList(self.arr)\n",
    "    \n",
    "    def isValid(self, i, j):\n",
    "        return i>=0 and i<self.nr and j>=0 and j<self.nc   \n",
    "\n",
    "    def flood_fill(self, i,j,old_color, new_color):\n",
    "        if self.isValid(i,j) and not self.vis[i][j] and self.arr[i][j] == old_color:\n",
    "            self.arr[i][j] = new_color\n",
    "            self.vis[i][j] = True\n",
    "        \n",
    "            # Explore all four directions\n",
    "            self.flood_fill(i+1,j,old_color, new_color)\n",
    "            self.flood_fill(i-1,j,old_color, new_color)\n",
    "            self.flood_fill(i,j+1,old_color, new_color)\n",
    "            self.flood_fill(i,j-1,old_color, new_color)\n",
    "            "
   ]
  },
  {
   "cell_type": "code",
   "execution_count": 13,
   "id": "284e82e0",
   "metadata": {},
   "outputs": [
    {
     "name": "stdout",
     "output_type": "stream",
     "text": [
      "DP ARRAY\n",
      "[0, 0, 0]\n",
      "[0, 1, 1]\n"
     ]
    },
    {
     "data": {
      "text/plain": [
       "<__main__.FF at 0x179e21ac7f0>"
      ]
     },
     "execution_count": 13,
     "metadata": {},
     "output_type": "execute_result"
    }
   ],
   "source": [
    "arr = [\n",
    "    [1,1,1],\n",
    "    [1,1,0],\n",
    "    [1,0,1]\n",
    "]\n",
    "\n",
    "arr = [[0,0,0],[0,1,1]]\n",
    "\n",
    "FF(arr, 1,1,1)"
   ]
  },
  {
   "cell_type": "markdown",
   "id": "9e1a7c01",
   "metadata": {},
   "source": [
    "## Dynamic Programming\n"
   ]
  },
  {
   "cell_type": "markdown",
   "id": "3f41348a",
   "metadata": {},
   "source": [
    "https://leetcode.com/discuss/general-discussion/458695/dynamic-programming-patterns"
   ]
  },
  {
   "cell_type": "markdown",
   "id": "585fa1c0",
   "metadata": {},
   "source": [
    "#### Subset Sum Problem"
   ]
  },
  {
   "cell_type": "markdown",
   "id": "a9f6af3c",
   "metadata": {},
   "source": [
    "Given an array check if subset sum = target (Subset doesnt need to be in order) <br>\n",
    "-> Also count how many ways it can be done <br>\n",
    "-> Assumption : ONLY POSITIVE ELEMENTS"
   ]
  },
  {
   "cell_type": "code",
   "execution_count": 133,
   "id": "4fdeea92",
   "metadata": {},
   "outputs": [],
   "source": [
    "def subset_sum(arr, n, target): # start n-1 : last index (dont have to store len explicitly)\n",
    "    if target == 0:\n",
    "        return 1    \n",
    "    if n==0: # exhausted all elements till now\n",
    "        return 0\n",
    "\n",
    " \n",
    "    if arr[n-1] > target:\n",
    "        return subset_sum(arr, n-1, target)\n",
    "\n",
    "    return subset_sum(arr, n-1, target) + subset_sum(arr, n-1, target -arr[n-1])\n",
    "\n",
    "def dp_subset_sum(arr, target):\n",
    "    n = len(arr)\n",
    "\n",
    "    dp = [[0 for x in range(target+1)] for x in range(n+1)]\n",
    "\n",
    "    for i in range(n+1): # number of elements left\n",
    "        for j in range(target+1): # target sum left\n",
    "            if j==0:\n",
    "                dp[i][j] = 1\n",
    "            elif i==0:\n",
    "                dp[i][j] = 0\n",
    "            elif arr[i-1] > j:\n",
    "                dp[i][j] = dp[i-1][j]\n",
    "            else:\n",
    "                dp[i][j] = dp[i-1][j] + dp[i-1][j-arr[i-1]]\n",
    "\n",
    "    # printList(dp)\n",
    "    return dp[n][target] \n",
    "            \n",
    "            \n",
    "    "
   ]
  },
  {
   "cell_type": "code",
   "execution_count": 135,
   "id": "cb492b78",
   "metadata": {},
   "outputs": [
    {
     "name": "stdout",
     "output_type": "stream",
     "text": [
      "2\n",
      "2\n"
     ]
    }
   ],
   "source": [
    "arr = [3, 34, 4, 12, 5, 2] # ANS=2\n",
    "target = 9\n",
    "\n",
    "print(subset_sum(arr, len(arr), target))\n",
    "print(dp_subset_sum(arr, target))"
   ]
  },
  {
   "cell_type": "markdown",
   "id": "12f69d02",
   "metadata": {},
   "source": [
    "#### Partition into 2 subsets with given difference"
   ]
  },
  {
   "cell_type": "markdown",
   "id": "65819a1d",
   "metadata": {},
   "source": [
    "- All elements must belong one of the 2 partitioned subsets\n",
    "- Print true or false (done or cant be done)\n",
    "- arr = [1, 1, 2, 3], diff = [1] <br>\n",
    "    True [1,1,3] and [2,3]"
   ]
  },
  {
   "cell_type": "code",
   "execution_count": 44,
   "id": "a0d684b1",
   "metadata": {},
   "outputs": [],
   "source": [
    "def get_partition_sums(arr, diff):\n",
    "    csum = sum(arr)\n",
    "    s1 = (csum+diff)/2\n",
    "\n",
    "    return s1, abs(csum-s1)\n",
    "\n",
    "def check_if_int(n):\n",
    "    return int(n) == n\n"
   ]
  },
  {
   "cell_type": "code",
   "execution_count": 51,
   "id": "a617ccbd",
   "metadata": {},
   "outputs": [],
   "source": [
    "def can_partition_with_diff(arr, diff):\n",
    "    s1, s2 = get_partition_sums(arr, diff)\n",
    "    print(s1, s2)\n",
    "\n",
    "    if not check_if_int(s1):\n",
    "        return False\n",
    "\n",
    "    n = len(arr)\n",
    "    countSubsets = dp_subset_sum(arr, int(s1))\n",
    "    \n",
    "    return True if countSubsets>0 else False"
   ]
  },
  {
   "cell_type": "code",
   "execution_count": 54,
   "id": "a000622e",
   "metadata": {},
   "outputs": [
    {
     "name": "stdout",
     "output_type": "stream",
     "text": [
      "4.0 3.0\n"
     ]
    },
    {
     "data": {
      "text/plain": [
       "True"
      ]
     },
     "execution_count": 54,
     "metadata": {},
     "output_type": "execute_result"
    }
   ],
   "source": [
    "arr = [1,1,2,3]\n",
    "diff = 1\n",
    "\n",
    "can_partition_with_diff(arr, diff)\n"
   ]
  },
  {
   "cell_type": "markdown",
   "id": "4a2e5c55",
   "metadata": {},
   "source": [
    "#### Knapsack - Bounded (0-1 Knapsack)"
   ]
  },
  {
   "cell_type": "markdown",
   "id": "efa005f1",
   "metadata": {},
   "source": [
    "Given Weights and costs of items, and max_capacity of bag <br>\n",
    "Task : You can either pick/not pick an item <br>\n",
    "<br>\n",
    "Give the items you will pick which give max/min cost and also fit in the max_capacity"
   ]
  },
  {
   "cell_type": "code",
   "execution_count": 5,
   "id": "b17cdee2",
   "metadata": {},
   "outputs": [],
   "source": [
    "def bounded_knapsack(arr, weights, W, n ):\n",
    "    if n==0 or W==0:\n",
    "        return 0\n",
    "\n",
    "    if weights[n-1] > W: #dont pick\n",
    "        return bounded_knapsack(arr, weights, W, n-1)\n",
    "\n",
    "    return max(\n",
    "        arr[n-1] + bounded_knapsack(arr, weights, W-weights[n-1], n-1),\n",
    "        bounded_knapsack(arr, weights, W, n-1)\n",
    "    )\n",
    "    \n"
   ]
  },
  {
   "cell_type": "code",
   "execution_count": 15,
   "id": "a7124452",
   "metadata": {},
   "outputs": [],
   "source": [
    "def dp_bounded_knapsack(arr, weights, W):\n",
    "    n = len(arr)\n",
    "    dp = [[0 for _ in range(W+1)] for _ in range(n+1)]\n",
    "\n",
    "    for i in range(n+1): # current element  index\n",
    "        for j in range(W+1): # cur max_capacity remaining\n",
    "            if j==0 or i==0:\n",
    "                dp[i][j] = 0\n",
    "            elif weights[i-1] > j: # dont pick current ele\n",
    "                dp[i][j] = dp[i-1][j]\n",
    "            else:\n",
    "                dp[i][j] = max(arr[i-1] + dp[i-1][j-weights[i-1]], dp[i-1][j-1])\n",
    "    \n",
    "    # printList(dp)\n",
    "    return dp[n][W]"
   ]
  },
  {
   "cell_type": "code",
   "execution_count": 46,
   "id": "3c363ca4",
   "metadata": {},
   "outputs": [
    {
     "name": "stdout",
     "output_type": "stream",
     "text": [
      "220\n",
      "220\n"
     ]
    }
   ],
   "source": [
    "weights = [10, 20, 30]\n",
    "costs = [60, 100, 120]\n",
    "capacity = 50 \n",
    "# RESULT = 220 pick 20+30 = 50, total = 100+120\n",
    "\n",
    "print(bounded_knapsack(costs, weights, capacity, len(costs)))\n",
    "print(dp_bounded_knapsack(costs, weights, capacity))"
   ]
  },
  {
   "cell_type": "markdown",
   "id": "6a7e6160",
   "metadata": {},
   "source": [
    "#### Target Sum "
   ]
  },
  {
   "cell_type": "markdown",
   "id": "c930c14f",
   "metadata": {},
   "source": [
    "You want to build an expression out of nums by adding one of the symbols '+' and '-' before each integer in nums and then concatenate all the integers.\n",
    "\n",
    "For example, if nums = [2, 1], you can add a '+' before 2 and a '-' before 1 and concatenate them to build the expression \"+2-1\".\n",
    "\n",
    "**Task** : Return the number of different expressions that you can build, which evaluates to target <br>\n",
    "**Solution** : https://leetcode.com/problems/target-sum/discuss/455024/DP-IS-EASY!-5-Steps-to-Think-Through-DP-Questions."
   ]
  },
  {
   "cell_type": "code",
   "execution_count": 61,
   "id": "6db4fb90",
   "metadata": {},
   "outputs": [],
   "source": [
    "class Solution:\n",
    "    dp = {}\n",
    "\n",
    "    def target_sum(self, arr, n, cur_sum):\n",
    "        if (n,cur_sum) in self.dp:\n",
    "            return self.dp[(n,cur_sum)]\n",
    "\n",
    "        if n==0:\n",
    "            return 1 if cur_sum==0 else 0\n",
    "        cur_ele = arr[n-1]\n",
    "        res = self.target_sum(arr, n-1, cur_sum-cur_ele) + self.target_sum(arr,n-1, cur_sum+cur_ele)\n",
    "\n",
    "        self.dp[(n,cur_sum)] = res\n",
    "        return res\n",
    "    \n"
   ]
  },
  {
   "cell_type": "code",
   "execution_count": 62,
   "id": "c96a2649",
   "metadata": {},
   "outputs": [
    {
     "name": "stdout",
     "output_type": "stream",
     "text": [
      "5\n",
      "192\n"
     ]
    }
   ],
   "source": [
    "nums = [1,1,1,1,1]\n",
    "target = 3\n",
    "# result = 5 (5 ways to assign +/- to nums to get answer as 3)\n",
    " \n",
    "print(Solution().target_sum(nums, len(nums), target))\n",
    "\n",
    "nums = [0,0,0,0,0,0,0,0,1]\n",
    "target = 1\n",
    "\n",
    "print(Solution().target_sum(nums, len(nums), target))\n"
   ]
  },
  {
   "cell_type": "markdown",
   "id": "1f2f1da4",
   "metadata": {},
   "source": [
    "#### Climbing Stairs"
   ]
  },
  {
   "cell_type": "markdown",
   "id": "813ec816",
   "metadata": {},
   "source": [
    "You can climb 1 or steps at time. <br>\n",
    "Given there are `n` stairs, in how many ways can you reach `nth` stair starting from base"
   ]
  },
  {
   "cell_type": "code",
   "execution_count": 2,
   "id": "61d94c20",
   "metadata": {},
   "outputs": [],
   "source": [
    "def climbStairs(n):\n",
    "    if n<2:\n",
    "            return 1\n",
    "            \n",
    "    dp = [0 for _ in range(n+1)]\n",
    "    dp[0] = 1\n",
    "    dp[1] = 1\n",
    "\n",
    "    for i in range(2,n+1):\n",
    "        dp[i] = dp[i-1]+dp[i-2]\n",
    "    return dp[i]"
   ]
  },
  {
   "cell_type": "code",
   "execution_count": 5,
   "id": "87b72006",
   "metadata": {},
   "outputs": [
    {
     "data": {
      "text/plain": [
       "3"
      ]
     },
     "execution_count": 5,
     "metadata": {},
     "output_type": "execute_result"
    }
   ],
   "source": [
    "climbStairs(3)"
   ]
  },
  {
   "cell_type": "markdown",
   "id": "c61b397a",
   "metadata": {},
   "source": [
    "#### Frog Jump - Easy"
   ]
  },
  {
   "cell_type": "markdown",
   "id": "bfefecb5",
   "metadata": {},
   "source": [
    "https://www.codingninjas.com/codestudio/problems/frog-jump_3621012?source=youtube&campaign=striver_dp_videos&utm_source=youtube&utm_medium=affiliate&utm_campaign=striver_dp_videos"
   ]
  },
  {
   "cell_type": "code",
   "execution_count": 6,
   "id": "55e02d7b",
   "metadata": {},
   "outputs": [],
   "source": [
    "def frogJump(n: int, arr):\n",
    "    dp = [0 for _ in range(n+1)]\n",
    "    dp[0] = 0\n",
    "    dp[1] = abs(arr[1]-arr[0])\n",
    "    for i in range(2,n):\n",
    "        dp[i] = min(dp[i-1]+abs(arr[i]-arr[i-1]), dp[i-2]+abs(arr[i]-arr[i-2]))     \n",
    "    return dp[n-1]\n"
   ]
  },
  {
   "cell_type": "code",
   "execution_count": 8,
   "id": "0978aa57",
   "metadata": {},
   "outputs": [
    {
     "data": {
      "text/plain": [
       "20"
      ]
     },
     "execution_count": 8,
     "metadata": {},
     "output_type": "execute_result"
    }
   ],
   "source": [
    "frogJump(4, [10,20,30,10])"
   ]
  },
  {
   "cell_type": "markdown",
   "id": "169728ca",
   "metadata": {},
   "source": [
    "#### Maximum Sum of non adjancent elements | House Robber-I"
   ]
  },
  {
   "cell_type": "markdown",
   "id": "13cc40c3",
   "metadata": {},
   "source": [
    "https://www.codingninjas.com/codestudio/problems/maximum-sum-of-non-adjacent-elements_843261 <br>\n",
    "https://leetcode.com/problems/house-robber/ <br>\n",
    "\n",
    "You are given an array/list of ‘N’ integers. You are supposed to return the maximum sum of the subsequence \n",
    "with the constraint that no two elements are adjacent in the given array/list"
   ]
  },
  {
   "cell_type": "code",
   "execution_count": 136,
   "id": "89826070",
   "metadata": {},
   "outputs": [],
   "source": [
    "def maximumNonAdjacentSum(arr, n):    \n",
    "    if n<0:\n",
    "        return 0\n",
    "    \n",
    "    if n==0:\n",
    "        return arr[0]\n",
    "    \n",
    "    return max(\n",
    "        arr[n-1] + maximumNonAdjacentSum(arr,n-2),\n",
    "        maximumNonAdjacentSum(arr, n-1)\n",
    "    )"
   ]
  },
  {
   "cell_type": "code",
   "execution_count": 171,
   "id": "3d237c5a",
   "metadata": {},
   "outputs": [],
   "source": [
    "def dp_maximumNonAdjacentSum(arr,n=None):\n",
    "    n = len(arr)\n",
    "    if n == 1:\n",
    "        return arr[0]\n",
    "    dp = [0 for _ in range(n)]\n",
    "\n",
    "    # at 0 u can only pick a[0]\n",
    "    # at 1 you 2 options -> pick a[1] or a[0] as if cant pick both\n",
    "    dp[0] = arr[0]\n",
    "    dp[1] = max(arr[1], arr[0]) # this is not needed in recursive -> f(-ve index) will return as 0, in case of tabular index cant be negative\n",
    "\n",
    "    for i in range(2,n):\n",
    "        dp[i] = max(dp[i-1], arr[i]+dp[i-2])\n",
    "        \n",
    "    return dp[n-1]\n"
   ]
  },
  {
   "cell_type": "code",
   "execution_count": 172,
   "id": "d837ccf5",
   "metadata": {},
   "outputs": [
    {
     "name": "stdout",
     "output_type": "stream",
     "text": [
      "8\n",
      "24\n",
      "8\n"
     ]
    },
    {
     "data": {
      "text/plain": [
       "8"
      ]
     },
     "execution_count": 172,
     "metadata": {},
     "output_type": "execute_result"
    }
   ],
   "source": [
    "arr = [1,2,3,5,4] # res=9\n",
    "print(dp_maximumNonAdjacentSum(arr, len(arr)))\n",
    "\n",
    "arr = [1,2,3,1,3,5,8,1,9]\n",
    "print(dp_maximumNonAdjacentSum(arr, len(arr)))\n",
    "\n",
    "arr = [8,8]\n",
    "print(dp_maximumNonAdjacentSum(arr))\n",
    "maximumNonAdjacentSum(arr, len(arr)-1)"
   ]
  },
  {
   "cell_type": "markdown",
   "id": "c2d062a9",
   "metadata": {},
   "source": [
    "#### House Robber II\n"
   ]
  },
  {
   "cell_type": "markdown",
   "id": "c6031688",
   "metadata": {},
   "source": [
    "https://leetcode.com/problems/house-robber-ii/ <br>\n",
    "Maximize sum by picking Non-adjacent elements but first and last element are considered to be adjacent <br>\n",
    "Added Logic : You cant consider arr[0] and arr[-1] <br><br>\n",
    "**Solution**<br><br>\n",
    "U cant pick first and last, so in our solution we are sure that both cant be considered <br>\n",
    "**max(** maximumNonAdjacentSum(arr[first:]), maximumNonAdjacentSum(arr[:last]) **)**"
   ]
  },
  {
   "cell_type": "code",
   "execution_count": 176,
   "id": "5bcbaaf0",
   "metadata": {},
   "outputs": [],
   "source": [
    "def houses_2(arr):\n",
    "    n = len(arr)\n",
    "    return max(\n",
    "        dp_maximumNonAdjacentSum(arr[1:]),\n",
    "        dp_maximumNonAdjacentSum(arr[:-1])\n",
    "    )"
   ]
  },
  {
   "cell_type": "code",
   "execution_count": 177,
   "id": "9e791ba1",
   "metadata": {},
   "outputs": [
    {
     "name": "stdout",
     "output_type": "stream",
     "text": [
      "4\n",
      "3\n"
     ]
    }
   ],
   "source": [
    "nums = [1,2,3,1]\n",
    "print(houses_2(nums))\n",
    "\n",
    "nums = [2,3,2]\n",
    "print(houses_2(nums))\n"
   ]
  },
  {
   "cell_type": "markdown",
   "id": "53276bd9",
   "metadata": {},
   "source": [
    "#### Ninja Training <br>"
   ]
  },
  {
   "cell_type": "markdown",
   "id": "1831509a",
   "metadata": {},
   "source": [
    "https://www.codingninjas.com/codestudio/problems/ninja-s-training_3621003 <br>\n",
    "\n",
    "Given `n` days and `k` types of activities you can do each day to earn points. <br>\n",
    "Give max points you can earn at end of `n` days, but you cant do same acticity consecutively"
   ]
  },
  {
   "cell_type": "code",
   "execution_count": 220,
   "id": "858ee7f3",
   "metadata": {},
   "outputs": [],
   "source": [
    "def ninja_training(arr):\n",
    "    n = len(arr)\n",
    "    n_sports = len(arr[0])\n",
    "\n",
    "    dp = [[0 for _ in range(n_sports)] for _ in range(n)]\n",
    "\n",
    "    for i in range(n):\n",
    "        for j in range(n_sports):\n",
    "            if i==0:\n",
    "                dp[i][j] = arr[i][j]\n",
    "            else:\n",
    "                for k in range(n_sports): # if j=0, then take previous 1 and 2 (n_sports=3)\n",
    "                    if k == j:\n",
    "                        continue\n",
    "                    dp[i][j] = max(dp[i][j], arr[i][j]+dp[i-1][k] )\n",
    "    \n",
    "    return max(dp[n-1])\n",
    "\n",
    "\n",
    "## FOR n_sports=3 ##\n",
    "#\n",
    "# if i==0:\n",
    "#     dp[i][j] = arr[i][j]\n",
    "# elif j==0:\n",
    "#     dp[i][j] = arr[i][j] + max(dp[i-1][1], dp[i-1][2])\n",
    "# elif j==1:\n",
    "#     dp[i][j] = arr[i][j] + max(dp[i-1][0], dp[i-1][2])\n",
    "# else:\n",
    "#     dp[i][j] = arr[i][j] + max(dp[i-1][0], dp[i-1][1]\n",
    "#"
   ]
  },
  {
   "cell_type": "code",
   "execution_count": 221,
   "id": "25405710",
   "metadata": {},
   "outputs": [
    {
     "name": "stdout",
     "output_type": "stream",
     "text": [
      "11\n",
      "210\n",
      "45\n",
      "110\n"
     ]
    }
   ],
   "source": [
    "arr = [\n",
    "    [1,2,5],\n",
    "    [3,1,1],\n",
    "    [3,3,3]\n",
    "]\n",
    "# EXPECTED RES = 11\n",
    "print(ninja_training(arr))\n",
    "\n",
    "arr = [\n",
    "    [10,40,70],\n",
    "    [20,50,80],\n",
    "    [30,60,90]\n",
    "]\n",
    "# EXPECTED RES = 210\n",
    "print(ninja_training(arr))\n",
    "\n",
    "arr = [[18,11,19],[4,13,7],[1,8,13]]\n",
    "print(ninja_training(arr)) # 45\n",
    "\n",
    "arr = [[10,50,1],[5,100,11]]\n",
    "print(ninja_training(arr)) # 110"
   ]
  },
  {
   "cell_type": "markdown",
   "id": "1d62a972",
   "metadata": {},
   "source": [
    "#### Unique Paths"
   ]
  },
  {
   "cell_type": "code",
   "execution_count": 6,
   "id": "fb09b4cb",
   "metadata": {},
   "outputs": [],
   "source": [
    "def uniquePaths( m: int, n: int) -> int:\n",
    "    grid = [[0 for _ in range(n)] for _ in range(m)]\n",
    "    \n",
    "    for i in range(m):\n",
    "        for j in range(n):\n",
    "            if i==0 and j==0:\n",
    "                grid[i][j] = 1\n",
    "            elif i==0 or j==0: # you are on top row or left most row(you can reach 0,0 in only 1 way i.e move all left/up)\n",
    "                grid[i][j] = 1\n",
    "            else:\n",
    "                grid[i][j] = grid[i-1][j] + grid[i][j-1]\n",
    "    print(*grid, sep=\"\\n\")\n",
    "    return grid[m-1][n-1]\n",
    "            \n",
    "    "
   ]
  },
  {
   "cell_type": "code",
   "execution_count": 7,
   "id": "0be48e76",
   "metadata": {},
   "outputs": [
    {
     "name": "stdout",
     "output_type": "stream",
     "text": [
      "[1, 1, 1, 1, 1, 1, 1]\n",
      "[1, 2, 3, 4, 5, 6, 7]\n",
      "[1, 3, 6, 10, 15, 21, 28]\n"
     ]
    },
    {
     "data": {
      "text/plain": [
       "28"
      ]
     },
     "execution_count": 7,
     "metadata": {},
     "output_type": "execute_result"
    }
   ],
   "source": [
    "uniquePaths(3,7) # RES=28"
   ]
  },
  {
   "cell_type": "markdown",
   "id": "3eefc5e9",
   "metadata": {},
   "source": [
    "#### Unique Paths II (With Obstacles)"
   ]
  },
  {
   "cell_type": "code",
   "execution_count": 13,
   "id": "2d819653",
   "metadata": {},
   "outputs": [],
   "source": [
    "\n",
    "def uniquePathsWithObstacles(obstacleGrid):\n",
    "    m = len(obstacleGrid)\n",
    "    n = len(obstacleGrid[0])\n",
    "    grid = [[0 for _ in range(n)] for _ in range(m)]\n",
    "\n",
    "        \n",
    "    if obstacleGrid[0][0]==1 or obstacleGrid[m-1][n-1]==1:\n",
    "        return 0\n",
    "    \n",
    "    for i in range(m):\n",
    "        for j in range(n):\n",
    "            if obstacleGrid[i][j] == 1:\n",
    "                grid[i][j] = 0\n",
    "            elif i==0 and j==0:\n",
    "                grid[i][j] = 1\n",
    "            # elif i==0 or j==0: You cant say you can move all lefts/ups as there may be obstacles in between\n",
    "            #     grid[i][j] = 1\n",
    "            else:\n",
    "                grid[i][j] = grid[i-1][j] + grid[i][j-1]\n",
    "    return grid[m-1][n-1]\n"
   ]
  },
  {
   "cell_type": "code",
   "execution_count": 17,
   "id": "ec9416ad",
   "metadata": {},
   "outputs": [
    {
     "name": "stdout",
     "output_type": "stream",
     "text": [
      "2\n",
      "0\n"
     ]
    }
   ],
   "source": [
    "print(uniquePathsWithObstacles([[0,0,0],[0,1,0],[0,0,0]])) # RES = 2\n",
    "\n",
    "print(uniquePathsWithObstacles([[0,0],[1,1],[0,0]])) # RES=0"
   ]
  },
  {
   "cell_type": "markdown",
   "id": "1427b302",
   "metadata": {},
   "source": [
    "#### Minimum Path Sum"
   ]
  },
  {
   "cell_type": "code",
   "execution_count": 18,
   "id": "88a12ec0",
   "metadata": {},
   "outputs": [],
   "source": [
    "\n",
    "def minPathSum(grid) -> int:\n",
    "    nr = len(grid)\n",
    "    nc = len(grid[0])\n",
    "    \n",
    "    dp = [[0 for _ in range(nc)] for _ in range(nr)]\n",
    "    \n",
    "    for i in range(nr):\n",
    "        for j in range(nc):\n",
    "            if i==0 and j==0:\n",
    "                dp[i][j] = grid[i][j]\n",
    "            elif j==0: # upward movement is possible\n",
    "                dp[i][j] = grid[i][j] + dp[i-1][j]\n",
    "            elif i==0: # only left movement is possible\n",
    "                dp[i][j] = grid[i][j] + dp[i][j-1]\n",
    "            else: # both up and left are possible\n",
    "                dp[i][j] = grid[i][j] + min(dp[i-1][j], dp[i][j-1])\n",
    "    print(*dp, sep=\"\\n\")\n",
    "    \n",
    "    return dp[nr-1][nc-1]"
   ]
  },
  {
   "cell_type": "code",
   "execution_count": 19,
   "id": "107bb8d9",
   "metadata": {},
   "outputs": [
    {
     "name": "stdout",
     "output_type": "stream",
     "text": [
      "[1, 4, 5]\n",
      "[2, 7, 6]\n",
      "[6, 8, 7]\n"
     ]
    },
    {
     "data": {
      "text/plain": [
       "7"
      ]
     },
     "execution_count": 19,
     "metadata": {},
     "output_type": "execute_result"
    }
   ],
   "source": [
    "arr = [[1,3,1],[1,5,1],[4,2,1]] # res = 7\n",
    "minPathSum(arr)"
   ]
  },
  {
   "cell_type": "markdown",
   "id": "75c251fe",
   "metadata": {},
   "source": [
    "#### Triangle Min Sum path (Fixed Start, Variable End)"
   ]
  },
  {
   "cell_type": "code",
   "execution_count": 26,
   "id": "71d41d75",
   "metadata": {},
   "outputs": [],
   "source": [
    "def traingle_minimum_total(triangle) -> int:\n",
    "    n = len(triangle)\n",
    "    \n",
    "    dp = [[0 for _ in range(x+1)] for x in range(n)]\n",
    "    dp[0][0] = triangle[0][0]\n",
    "    \n",
    "    for i in range(1,n):\n",
    "        prev_row_len = len(dp[i-1])\n",
    "        for j in range(len(dp[i])):\n",
    "            prev_res1 = float('inf')\n",
    "            prev_res2 = float('inf')\n",
    "            if j >= 0 and j < prev_row_len:\n",
    "                prev_res1 = dp[i-1][j]\n",
    "            if j-1 >= 0 and j-1 < prev_row_len:\n",
    "                prev_res2 = dp[i-1][j-1]\n",
    "            dp[i][j] = triangle[i][j] + min(prev_res1, prev_res2)\n",
    "    \n",
    "    print(*dp, sep=\"\\n\")\n",
    "    return min(dp[-1])\n",
    "            \n",
    "            "
   ]
  },
  {
   "cell_type": "code",
   "execution_count": 27,
   "id": "f9ee879a",
   "metadata": {},
   "outputs": [
    {
     "name": "stdout",
     "output_type": "stream",
     "text": [
      "[2]\n",
      "[5, 6]\n",
      "[11, 10, 13]\n",
      "[15, 11, 18, 16]\n"
     ]
    },
    {
     "data": {
      "text/plain": [
       "11"
      ]
     },
     "execution_count": 27,
     "metadata": {},
     "output_type": "execute_result"
    }
   ],
   "source": [
    "arr = [[2],[3,4],[6,5,7],[4,1,8,3]] # Res = 11\n",
    "\n",
    "traingle_minimum_total(arr)"
   ]
  },
  {
   "cell_type": "markdown",
   "id": "cad72a35",
   "metadata": {},
   "source": [
    "#### Min Falling Path Sum (Variable start,end)\n"
   ]
  },
  {
   "cell_type": "code",
   "execution_count": 30,
   "id": "3b2e478f",
   "metadata": {},
   "outputs": [],
   "source": [
    "def minFallingPathSum( matrix) -> int:\n",
    "    n = len(matrix)\n",
    "    dp = [[0 for _ in range(n)] for _ in range(n)]\n",
    "    dp[0] = matrix[0]\n",
    "    \n",
    "    for i in range(1,n):\n",
    "        for j in range(n):\n",
    "            # up direction is gauranteed, but diagonal up-left/right may overflow\n",
    "            diag1 = float('inf')\n",
    "            diag2 = float('inf')\n",
    "            \n",
    "            if (j-1) >= 0 and (j-1) < n:\n",
    "                diag1 = dp[i-1][j-1]\n",
    "            if (j+1) >= 0 and (j+1) < n:\n",
    "                diag2 = dp[i-1][j+1]\n",
    "            \n",
    "            dp[i][j] = matrix[i][j] + min([dp[i-1][j], diag1, diag2])\n",
    "            \n",
    "    return min(dp[-1])\n",
    "    "
   ]
  },
  {
   "cell_type": "code",
   "execution_count": 31,
   "id": "3fa89ec1",
   "metadata": {},
   "outputs": [
    {
     "name": "stdout",
     "output_type": "stream",
     "text": [
      "13\n",
      "-48\n"
     ]
    }
   ],
   "source": [
    "print(minFallingPathSum([[2,1,3],[6,5,4],[7,8,9]])) # res=13\n",
    "\n",
    "print(minFallingPathSum([[-48]])) # res = -48"
   ]
  },
  {
   "cell_type": "markdown",
   "id": "8bcc6e9a",
   "metadata": {},
   "source": [
    "## Linked List"
   ]
  },
  {
   "cell_type": "code",
   "execution_count": 94,
   "id": "0e243d69",
   "metadata": {},
   "outputs": [],
   "source": [
    "class ListNode:\n",
    "    def __init__(self, val=0, next=None):\n",
    "        self.val = val\n",
    "        self.next = next\n",
    "    \n",
    "    def __str__(self):\n",
    "        return str(self.val)\n",
    "\n",
    "def printLL(head):\n",
    "    while head:\n",
    "        print(head.val,end=\"->\")\n",
    "        head = head.next\n",
    "    print()\n"
   ]
  },
  {
   "cell_type": "markdown",
   "id": "d87d320c",
   "metadata": {},
   "source": [
    "#### Middle of linkedlist"
   ]
  },
  {
   "cell_type": "code",
   "execution_count": 91,
   "id": "1558b3c9",
   "metadata": {},
   "outputs": [],
   "source": [
    "\n",
    "def middleNode(head):\n",
    "    slow = head\n",
    "    fast = head\n",
    "    \n",
    "    while fast and fast.next:\n",
    "        slow = slow.next\n",
    "        fast = fast.next.next\n",
    "    \n",
    "    return slow\n",
    "        \n",
    "        "
   ]
  },
  {
   "cell_type": "code",
   "execution_count": 93,
   "id": "0b501686",
   "metadata": {},
   "outputs": [
    {
     "name": "stdout",
     "output_type": "stream",
     "text": [
      "1->2->3->4->5->\n",
      "3\n"
     ]
    }
   ],
   "source": [
    "head = ListNode(1)\n",
    "head.next = ListNode(2)\n",
    "head.next.next = ListNode(3)\n",
    "head.next.next.next = ListNode(4)\n",
    "head.next.next.next.next = ListNode(5)\n",
    "\n",
    "printLL(head)\n",
    "\n",
    "print(middleNode(head))"
   ]
  },
  {
   "cell_type": "markdown",
   "id": "9d92c4b8",
   "metadata": {},
   "source": [
    "#### Remove Nth node from last"
   ]
  },
  {
   "cell_type": "markdown",
   "id": "ead84d81",
   "metadata": {},
   "source": [
    "**Logic**\n",
    "**Solution 1** : find len(LL) -> iterate to N-nth node <br>\n",
    "**Solution 2** : <br>\n",
    "INIT slow = head<br>\n",
    "INIT fast = head -> move fast n times<br>\n",
    "iterate slow and fast normally (increment by 1)<br>\n",
    "When fast reaches end -> slow = answer<br><br>\n",
    "\n",
    "**Logic**\n",
    "You init `fast` by `n` steps ahead of head, that means `slow` is `n` steps behind `fast` i.e fast-n<br>\n",
    "Then u increment both. When `fast` reaches end, `slow` will have reached `end-n` since it was lagging by `n` steps when we had started"
   ]
  },
  {
   "cell_type": "code",
   "execution_count": null,
   "id": "6d31ac04",
   "metadata": {},
   "outputs": [],
   "source": [
    "\n",
    "def removeNthFromEnd(self, head, n):\n",
    "    slow = head\n",
    "    fast = head\n",
    "    \n",
    "    \n",
    "    for _ in range(n):\n",
    "        fast = fast.next\n",
    "    \n",
    "    if not fast: # [1,2,3] n=3 -> fast will be at None, that means slow is already at (N-n)th position\n",
    "        return head.next\n",
    "    \n",
    "    while fast and fast.next:\n",
    "        slow = slow.next\n",
    "        fast = fast.next\n",
    "    \n",
    "    \n",
    "    slow.next = slow.next.next\n",
    "    return head\n",
    "        "
   ]
  },
  {
   "cell_type": "markdown",
   "id": "2008d588",
   "metadata": {},
   "source": [
    "## Searching / Sorting"
   ]
  },
  {
   "cell_type": "markdown",
   "id": "e9193b62",
   "metadata": {},
   "source": [
    "#### Binary Search"
   ]
  },
  {
   "cell_type": "code",
   "execution_count": 222,
   "id": "612b2ffb",
   "metadata": {},
   "outputs": [],
   "source": [
    "def bin_search(arr, target, start=None, end=None) -> int:\n",
    "    n = len(arr)\n",
    "    lo = start if start else 0\n",
    "    hi = end if end else n-1\n",
    "\n",
    "    if hi == lo and arr[hi]==target: # IMPORTANT -> [5], [4] \n",
    "        return lo\n",
    "\n",
    "    while lo <= hi: # IMPORTANT -> (use <= if key lies first or last index)\n",
    "        mid = lo + ((hi-lo)//2)\n",
    "        if arr[mid] == target:\n",
    "            return mid\n",
    "        elif arr[mid] > target:\n",
    "            hi = mid-1\n",
    "        else:\n",
    "            lo = mid+1\n",
    "    return -1\n"
   ]
  },
  {
   "cell_type": "code",
   "execution_count": null,
   "id": "b874b95e",
   "metadata": {},
   "outputs": [
    {
     "data": {
      "text/plain": [
       "0"
      ]
     },
     "metadata": {},
     "output_type": "display_data"
    }
   ],
   "source": [
    "arr = [2,5]\n",
    "bin_search(arr,2)"
   ]
  },
  {
   "cell_type": "code",
   "execution_count": null,
   "id": "6f79a36c",
   "metadata": {},
   "outputs": [
    {
     "data": {
      "text/plain": [
       "6"
      ]
     },
     "metadata": {},
     "output_type": "display_data"
    }
   ],
   "source": [
    "arr = [1,2,3,40,50,99,100]\n",
    "bin_search(arr, 100)"
   ]
  },
  {
   "cell_type": "markdown",
   "id": "d9206c99",
   "metadata": {},
   "source": [
    "#### First/Last Occurence in sorted array"
   ]
  },
  {
   "cell_type": "code",
   "execution_count": null,
   "id": "aa9bcaec",
   "metadata": {},
   "outputs": [],
   "source": [
    "def first_occurence(arr, target):\n",
    "    n = len(arr)\n",
    "    lo = 0\n",
    "    hi = n-1\n",
    "    firstOcc = -1\n",
    "\n",
    "    while lo<=hi:\n",
    "        mid = lo + ((hi-lo)//2)\n",
    "        if arr[mid]==target: # if same store and move left-side\n",
    "            firstOcc = mid\n",
    "            hi = mid-1\n",
    "        elif arr[mid] > target:\n",
    "            hi = mid-1\n",
    "        else:\n",
    "            lo = mid+1\n",
    "\n",
    "    return firstOcc\n",
    "\n",
    "\n",
    "def last_occurence(arr, target):\n",
    "    n = len(arr)\n",
    "    lo = 0\n",
    "    hi = n-1\n",
    "    lastOcc = -1\n",
    "\n",
    "    while lo<hi:\n",
    "        mid = lo + ((hi-lo)//2)\n",
    "        if arr[mid]==target: # if same store and move right-side\n",
    "            lastOcc = mid\n",
    "            lo = mid+1\n",
    "        elif arr[mid] > target:\n",
    "            hi = mid-1\n",
    "        else:\n",
    "            lo = mid+1\n",
    "\n",
    "    return lastOcc\n"
   ]
  },
  {
   "cell_type": "code",
   "execution_count": null,
   "id": "06fe319f",
   "metadata": {},
   "outputs": [
    {
     "name": "stdout",
     "output_type": "stream",
     "text": [
      "0\n",
      "3\n",
      "9 \n",
      "\n",
      "2\n",
      "7\n",
      "11\n"
     ]
    }
   ],
   "source": [
    "arr = [2,2,2,3,3,3,3,3,3,5,5,5,5]\n",
    "# arr = [2,2,3,3,3,5,5]\n",
    "print(first_occurence(arr,2))\n",
    "print(first_occurence(arr,3))\n",
    "print(first_occurence(arr,5),\"\\n\")\n",
    "\n",
    "print(last_occurence(arr,2))\n",
    "print(last_occurence(arr,3))\n",
    "print(last_occurence(arr,5))"
   ]
  },
  {
   "cell_type": "markdown",
   "id": "1607af97",
   "metadata": {},
   "source": [
    "#### Find Square root using BinSearch (Given exists)"
   ]
  },
  {
   "cell_type": "code",
   "execution_count": null,
   "id": "492c905d",
   "metadata": {},
   "outputs": [],
   "source": [
    "def get_square_root(n):\n",
    "    lo = 0\n",
    "    hi = n//2\n",
    "\n",
    "    n_iters = 0\n",
    "\n",
    "    while lo <= hi:\n",
    "        n_iters += 1\n",
    "        mid = lo + ((hi-lo)//2)\n",
    "\n",
    "        if mid**2 == n:\n",
    "            print(\"Iterations: \",n_iters,end=\" | -> Answer:\")\n",
    "            return mid\n",
    "        elif mid**2 > n:\n",
    "            hi = mid-1\n",
    "        else:\n",
    "            lo = mid+1\n",
    "\n",
    "    \n",
    "    return -1\n"
   ]
  },
  {
   "cell_type": "code",
   "execution_count": null,
   "id": "7b0480a6",
   "metadata": {},
   "outputs": [
    {
     "name": "stdout",
     "output_type": "stream",
     "text": [
      "Iterations:  4 | -> Answer:12\n",
      "Iterations:  10 | -> Answer:50\n"
     ]
    }
   ],
   "source": [
    "print(get_square_root(144))\n",
    "print(get_square_root(2500))"
   ]
  },
  {
   "cell_type": "markdown",
   "id": "2ded9579",
   "metadata": {},
   "source": [
    "#### Search in Rotate Sorted array\n"
   ]
  },
  {
   "cell_type": "markdown",
   "id": "539730b9",
   "metadata": {},
   "source": [
    "Steps : Find Pivot (Use Binary Search) -> Binary Search on left and right parts (which are already sorted)\n",
    "\n",
    "Pivot Ele : First element of right sorted array\n",
    "[4,5,6,1,2,3] pivot = 1"
   ]
  },
  {
   "cell_type": "code",
   "execution_count": null,
   "id": "00109a96",
   "metadata": {},
   "outputs": [],
   "source": []
  },
  {
   "cell_type": "code",
   "execution_count": 9,
   "id": "66d3b901",
   "metadata": {},
   "outputs": [],
   "source": [
    "arr = [3,4,5,1,2] # pivot = 5\n",
    "\n",
    "# get_pivot_index(arr)\n",
    "\n"
   ]
  },
  {
   "cell_type": "markdown",
   "id": "0259694a",
   "metadata": {},
   "source": [
    "#### First Bad Version"
   ]
  },
  {
   "cell_type": "markdown",
   "id": "27a761a5",
   "metadata": {},
   "source": [
    "[Leetcode Link](https://leetcode.com/problems/first-bad-version)\n",
    "- If one version is bad all versions following it will be bad\n",
    "- Suppose you have n versions [1, 2, ..., n] and you want to find out the first bad one, which causes all the following ones to be bad.\n",
    "- You are given an API bool isBadVersion(version) which returns whether version is bad. Implement a function to find the first bad version. You should minimize the number of calls to the API."
   ]
  },
  {
   "cell_type": "code",
   "execution_count": 1,
   "id": "2e45cb54",
   "metadata": {},
   "outputs": [],
   "source": [
    "\n",
    "def firstBadVersion(self, n: int) -> int:\n",
    "    lo = 1\n",
    "    hi = n\n",
    "    \n",
    "    if n == 1:\n",
    "        return 1\n",
    "    \n",
    "    while lo <= hi:\n",
    "        mid = lo + ((hi-lo)//2) \n",
    "        \n",
    "        if isBadVersion(mid): # if bad -> There may also be bad ones at the left\n",
    "            if not isBadVersion(mid-1):\n",
    "                return mid\n",
    "            hi = mid-1\n",
    "        else: # if not bad move right \n",
    "            lo = mid+1\n",
    "    "
   ]
  },
  {
   "cell_type": "markdown",
   "id": "e9c36b58",
   "metadata": {},
   "source": [
    "## Graphs"
   ]
  },
  {
   "cell_type": "markdown",
   "id": "8071bd2f",
   "metadata": {},
   "source": [
    "#### Max area of Islands"
   ]
  },
  {
   "cell_type": "markdown",
   "id": "0997e268",
   "metadata": {},
   "source": [
    "https://leetcode.com/problems/max-area-of-island/"
   ]
  },
  {
   "cell_type": "code",
   "execution_count": 59,
   "id": "1b0f2013",
   "metadata": {},
   "outputs": [],
   "source": [
    "class NumberIslands:\n",
    "    def __init__(self, arr):\n",
    "        self.arr = arr\n",
    "        self.nr = len(arr)\n",
    "        self.nc = len(arr[0])\n",
    "        self.vis = [[False for _ in range(self.nc)] for _ in range(self.nr)]\n",
    "        \n",
    "    def get_max_island(self):\n",
    "        maxLen = 0\n",
    "        for i in range(self.nr):\n",
    "            for j in range(self.nc):\n",
    "                if self.arr[i][j] == 1:\n",
    "                    islandLen = self.flood_fill(i,j)\n",
    "                    maxLen = max(maxLen, islandLen)\n",
    "        return maxLen\n",
    "\n",
    "    \n",
    "    def isValid(self, i, j):\n",
    "        return i>=0 and i<self.nr and j>=0 and j<self.nc   \n",
    "\n",
    "    def flood_fill(self, i,j, length=0):\n",
    "        if self.isValid(i,j) and self.arr[i][j]==1:\n",
    "            self.arr[i][j] = 0\n",
    "        \n",
    "            # Explore all four directions\n",
    "            return 1+ self.flood_fill(i+1,j) + self.flood_fill(i-1,j) +self.flood_fill(i,j+1) + self.flood_fill(i,j-1)\n",
    "        return 0\n",
    "            "
   ]
  },
  {
   "cell_type": "code",
   "execution_count": 60,
   "id": "c09275b4",
   "metadata": {},
   "outputs": [
    {
     "data": {
      "text/plain": [
       "6"
      ]
     },
     "execution_count": 60,
     "metadata": {},
     "output_type": "execute_result"
    }
   ],
   "source": [
    "grid = [\n",
    "    [0,0,1,0,0,0,0,1,0,0,0,0,0],\n",
    "    [0,0,0,0,0,0,0,1,1,1,0,0,0],\n",
    "    [0,1,1,0,1,0,0,0,0,0,0,0,0],\n",
    "    [0,1,0,0,1,1,0,0,1,0,1,0,0],\n",
    "    [0,1,0,0,1,1,0,0,1,1,1,0,0],\n",
    "    [0,0,0,0,0,0,0,0,0,0,1,0,0],\n",
    "    [0,0,0,0,0,0,0,1,1,1,0,0,0],\n",
    "    [0,0,0,0,0,0,0,1,1,0,0,0,0]\n",
    "] # SOL = 6\n",
    "\n",
    "NumberIslands(grid).get_max_island()"
   ]
  },
  {
   "cell_type": "markdown",
   "id": "d6591122",
   "metadata": {},
   "source": [
    "## Sliding Window"
   ]
  },
  {
   "cell_type": "markdown",
   "id": "35b1444f",
   "metadata": {},
   "source": [
    "#### Longest Substring Without Repeating Characters"
   ]
  },
  {
   "cell_type": "markdown",
   "id": "b258b48f",
   "metadata": {},
   "source": [
    "https://leetcode.com/problems/longest-substring-without-repeating-characters/"
   ]
  },
  {
   "cell_type": "code",
   "execution_count": 16,
   "id": "fb5e7650",
   "metadata": {},
   "outputs": [],
   "source": [
    "def remove_from_map_before(hMap, idx):\n",
    "\n",
    "    for key,val in list(hMap.items()):\n",
    "        if val <= idx:\n",
    "            del hMap[key]\n",
    "    return hMap\n",
    "\n",
    "def longest_substr(s):\n",
    "    arr = list(s)\n",
    "    n = len(arr)\n",
    "    hashmap = {}\n",
    "    maxLen = 0\n",
    "\n",
    "    for idx, x in enumerate(arr):\n",
    "        if x in hashmap:\n",
    "            maxLen = max(maxLen, len(hashmap))\n",
    "            hashmap = remove_from_map_before(hashmap, hashmap[x])\n",
    "\n",
    "        hashmap[x] = idx\n",
    "\n",
    "    return  max(maxLen, len(hashmap))\n"
   ]
  },
  {
   "cell_type": "code",
   "execution_count": 17,
   "id": "472c6f22",
   "metadata": {},
   "outputs": [],
   "source": [
    "def longest_distint_substr_optimal(s):\n",
    "    arr = list(s)\n",
    "    n = len(arr)\n",
    "\n",
    "    startIndex = 0\n",
    "    seenChars = {}\n",
    "    maxLen = 0\n",
    "\n",
    "    for i,x in enumerate(arr):\n",
    "        if x not in seenChars:\n",
    "            maxLen = max(maxLen, i-startIndex+1)\n",
    "        else:\n",
    "            if seenChars[x] < startIndex:\n",
    "                maxLen = max(maxLen, i-startIndex+1)\n",
    "            else:\n",
    "                startIndex = seenChars[x]+1\n",
    "\n",
    "        seenChars[x] = i\n",
    "    \n",
    "    return maxLen"
   ]
  },
  {
   "cell_type": "code",
   "execution_count": 22,
   "id": "8d7f57e1",
   "metadata": {},
   "outputs": [
    {
     "name": "stdout",
     "output_type": "stream",
     "text": [
      "3\n",
      "1\n",
      "3\n",
      "2\n",
      "3 \n",
      "------>\n",
      "3\n",
      "1\n",
      "3\n",
      "2\n",
      "3\n"
     ]
    }
   ],
   "source": [
    "print(longest_substr(\"abcabcbb\"))\n",
    "print(longest_substr(\"bbbbb\"))\n",
    "print(longest_substr(\"pwwkew\"))\n",
    "print(longest_substr(\"aab\"))\n",
    "print(longest_substr(\"dvdf\"),\"\\n------>\")\n",
    "\n",
    "print(longest_distint_substr_optimal(\"abcabcbb\"))\n",
    "print(longest_distint_substr_optimal(\"bbbbb\"))\n",
    "print(longest_distint_substr_optimal(\"pwwkew\"))\n",
    "print(longest_distint_substr_optimal(\"aab\"))\n",
    "print(longest_distint_substr_optimal(\"dvdf\"))"
   ]
  },
  {
   "cell_type": "markdown",
   "id": "7501aca8",
   "metadata": {},
   "source": [
    "#### Permutation in String"
   ]
  },
  {
   "cell_type": "markdown",
   "id": "3034c906",
   "metadata": {},
   "source": [
    "https://leetcode.com/problems/permutation-in-string/ <br>\n",
    "Check if `S2` contains a permutaion of `S1` <br><br>\n",
    "**Greedy Solution Idea** : if you find any char which is in `s1`, then check if string[i:i+len(s2)] is palindrome of s1 <br><br>\n",
    "**Sliding Window Idea** : we know `len(s1)`, so take sliding window of size `len(s1)` and slide it on `s2`. <br>\n",
    "At each window compare frequency of elements with `s1` to check if its palindrome"
   ]
  },
  {
   "cell_type": "code",
   "execution_count": 51,
   "id": "06f0c41f",
   "metadata": {},
   "outputs": [],
   "source": [
    "def check_perm(s, charMap):\n",
    "    # print(s)\n",
    "    for ch in s:\n",
    "        if ch not in charMap:\n",
    "            return False\n",
    "        charMap[ch] -= 1\n",
    "\n",
    "    for x in charMap.values():\n",
    "        if x != 0:\n",
    "            return False\n",
    "    return True\n",
    "\n",
    "\n",
    "def check_permute(s1, s2):\n",
    "    s1 = list(s1)\n",
    "    s2 = list(s2)\n",
    "    n1 = len(s1)\n",
    "    n2 = len(s2)\n",
    "\n",
    "    strMap = dict()\n",
    "    for ch in s1:\n",
    "        strMap[ch] = strMap.get(ch, 0) + 1\n",
    "\n",
    "    for i, x in enumerate(s2):\n",
    "        if x in strMap and ((i+n1) <= n2):\n",
    "            if check_perm(s2[i:i+n1], strMap.copy()):\n",
    "                return True\n",
    "\n",
    "    return False\n"
   ]
  },
  {
   "cell_type": "code",
   "execution_count": 52,
   "id": "46985308",
   "metadata": {},
   "outputs": [
    {
     "name": "stdout",
     "output_type": "stream",
     "text": [
      "['a', 'k']\n",
      "['b', 'k']\n",
      "['a', 'b']\n"
     ]
    },
    {
     "data": {
      "text/plain": [
       "True"
      ]
     },
     "execution_count": 52,
     "metadata": {},
     "output_type": "execute_result"
    }
   ],
   "source": [
    "check_permute(\"ab\",\"akkkkbkjkjkab\")"
   ]
  },
  {
   "cell_type": "markdown",
   "id": "9c28a351",
   "metadata": {},
   "source": [
    "## Trees\n"
   ]
  },
  {
   "cell_type": "markdown",
   "id": "08e3a9ac",
   "metadata": {},
   "source": [
    "#### Merge 2 binary trees"
   ]
  },
  {
   "cell_type": "markdown",
   "id": "6d5f33d4",
   "metadata": {},
   "source": [
    "https://leetcode.com/problems/merge-two-binary-trees/"
   ]
  },
  {
   "cell_type": "code",
   "execution_count": null,
   "id": "053db0dc",
   "metadata": {},
   "outputs": [],
   "source": []
  }
 ],
 "metadata": {
  "kernelspec": {
   "display_name": "Python 3 (ipykernel)",
   "language": "python",
   "name": "python3"
  },
  "language_info": {
   "codemirror_mode": {
    "name": "ipython",
    "version": 3
   },
   "file_extension": ".py",
   "mimetype": "text/x-python",
   "name": "python",
   "nbconvert_exporter": "python",
   "pygments_lexer": "ipython3",
   "version": "3.9.7"
  }
 },
 "nbformat": 4,
 "nbformat_minor": 5
}
