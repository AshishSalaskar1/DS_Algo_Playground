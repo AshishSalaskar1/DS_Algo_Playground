{
 "cells": [
  {
   "cell_type": "code",
   "execution_count": 1,
   "id": "e40b4518",
   "metadata": {},
   "outputs": [],
   "source": [
    "import numpy as np"
   ]
  },
  {
   "cell_type": "markdown",
   "id": "dde8453c-8f77-4c1d-bf5f-77aae9c02c6d",
   "metadata": {
    "tags": []
   },
   "source": [
    "# Array \n"
   ]
  },
  {
   "cell_type": "markdown",
   "id": "3802c932",
   "metadata": {},
   "source": [
    "## Dutch National Flag Algo"
   ]
  },
  {
   "cell_type": "markdown",
   "id": "f7ad3364",
   "metadata": {},
   "source": [
    "### Normal DNF"
   ]
  },
  {
   "cell_type": "code",
   "execution_count": 2,
   "id": "76788e14",
   "metadata": {},
   "outputs": [],
   "source": [
    "def sort012(arr, n) :\n",
    "    lo = 0\n",
    "    hi = n-1\n",
    "    cur = 0\n",
    "    \n",
    "    while cur <= hi:      \n",
    "        if arr[cur] == 1:\n",
    "            cur += 1\n",
    "        elif arr[cur] == 0:\n",
    "            arr[lo], arr[cur] = arr[cur], arr[lo]\n",
    "            lo += 1\n",
    "            cur += 1\n",
    "        elif arr[cur] == 2:\n",
    "            arr[cur], arr[hi] = arr[hi], arr[cur]\n",
    "            hi -= 1\n",
    "    return arr"
   ]
  },
  {
   "cell_type": "markdown",
   "id": "1476f0d5",
   "metadata": {},
   "source": [
    "### Quicksort"
   ]
  },
  {
   "cell_type": "code",
   "execution_count": 3,
   "id": "5985d3e6",
   "metadata": {},
   "outputs": [],
   "source": [
    "# link : https://www.programiz.com/dsa/quick-sort"
   ]
  },
  {
   "cell_type": "code",
   "execution_count": 1,
   "id": "a5dc5a33",
   "metadata": {},
   "outputs": [],
   "source": [
    "# def partition(start, end, arr):\n",
    "#     pivot = arr[end] # pick pivot as rightmost index\n",
    "#     smallestIndex = start # elements on left of smallestIndex are always less than pivot\n",
    "\n",
    "#     while start < end:\n",
    "#         print(\"temp -> \",arr)\n",
    "#         if arr[start] < pivot: # current ele less than pivot\n",
    "#             # swap cur with smallestIndex (Always elements < smallestIndex are less than pivot)\n",
    "#             arr[start], arr[smallestIndex] = arr[smallestIndex], arr[start]\n",
    "#             smallestIndex += 1\n",
    "\n",
    "#         start += 1\n",
    "    \n",
    "#     return smallestIndex, arr\n",
    "\n",
    "# def quicksort(start, end, arr):\n",
    "#     p, arr = partition(start, end, arr)\n",
    "#     print(p,arr)\n",
    "#     arr = quicksort(start, p-1, arr)\n",
    "#     arr = quicksort(p+1, end, arr)\n",
    "\n",
    "#     return arr\n",
    "\n"
   ]
  },
  {
   "cell_type": "code",
   "execution_count": 1,
   "id": "3bc88f68",
   "metadata": {},
   "outputs": [],
   "source": [
    "# arr = [5,10,4,7,9]\n",
    "# arr = [5,4,3,2,1]\n",
    "# arr = [1,2,3,4,5]\n",
    "# partition(0, len(arr)-1, arr)\n",
    "\n",
    "# quicksort(0, len(arr)-1, arr)"
   ]
  },
  {
   "cell_type": "markdown",
   "id": "43ef3130",
   "metadata": {},
   "source": [
    "### QuickSort using DNF"
   ]
  },
  {
   "cell_type": "code",
   "execution_count": null,
   "id": "ef005c85-0f13-4916-a06a-1a4ab71f7541",
   "metadata": {},
   "outputs": [],
   "source": []
  },
  {
   "cell_type": "code",
   "execution_count": null,
   "id": "0c57d434-408c-47c8-a4f3-8c34d54c64de",
   "metadata": {},
   "outputs": [],
   "source": []
  },
  {
   "cell_type": "code",
   "execution_count": null,
   "id": "6fd6894f-548e-4c5a-a410-b126cfff3244",
   "metadata": {},
   "outputs": [],
   "source": []
  },
  {
   "cell_type": "code",
   "execution_count": null,
   "id": "76e23842-04e6-401a-b817-dde2a9f695a5",
   "metadata": {},
   "outputs": [],
   "source": []
  },
  {
   "cell_type": "code",
   "execution_count": null,
   "id": "f5103eb6-f511-4be2-9171-66990994f975",
   "metadata": {},
   "outputs": [],
   "source": []
  },
  {
   "cell_type": "code",
   "execution_count": null,
   "id": "813e03dc-128d-4481-bdb9-6df5c1b30ad7",
   "metadata": {},
   "outputs": [],
   "source": []
  },
  {
   "cell_type": "code",
   "execution_count": null,
   "id": "c4b0de15-be1d-4616-a9d6-0069b5fda2cc",
   "metadata": {},
   "outputs": [],
   "source": []
  },
  {
   "cell_type": "code",
   "execution_count": null,
   "id": "a658f9ce-0ba8-46f5-a525-81046ff66af8",
   "metadata": {},
   "outputs": [],
   "source": []
  },
  {
   "cell_type": "code",
   "execution_count": null,
   "id": "7480c79c-37c0-4ab1-a5d6-6d3125969418",
   "metadata": {},
   "outputs": [],
   "source": []
  }
 ],
 "metadata": {
  "kernelspec": {
   "display_name": "Python 3 (ipykernel)",
   "language": "python",
   "name": "python3"
  },
  "language_info": {
   "codemirror_mode": {
    "name": "ipython",
    "version": 3
   },
   "file_extension": ".py",
   "mimetype": "text/x-python",
   "name": "python",
   "nbconvert_exporter": "python",
   "pygments_lexer": "ipython3",
   "version": "3.9.7"
  }
 },
 "nbformat": 4,
 "nbformat_minor": 5
}
