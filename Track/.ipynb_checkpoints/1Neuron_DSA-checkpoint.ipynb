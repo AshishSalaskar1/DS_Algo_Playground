{
 "cells": [
  {
   "cell_type": "code",
   "execution_count": 1,
   "id": "e40b4518",
   "metadata": {},
   "outputs": [],
   "source": [
    "import numpy as np\n",
    "import pandas as pd"
   ]
  },
  {
   "cell_type": "markdown",
   "id": "dde8453c-8f77-4c1d-bf5f-77aae9c02c6d",
   "metadata": {
    "tags": []
   },
   "source": [
    "# Array Based"
   ]
  },
  {
   "cell_type": "markdown",
   "id": "13d34d9f",
   "metadata": {},
   "source": [
    "### Sort array of 0,1\n"
   ]
  },
  {
   "cell_type": "code",
   "execution_count": 20,
   "id": "bba27229-051e-4418-a7dd-1e056c393110",
   "metadata": {},
   "outputs": [],
   "source": [
    "def sort_01(arr):\n",
    "    lo = 0\n",
    "    hi = len(arr)-1\n",
    "\n",
    "    while lo <= hi:\n",
    "        while arr[lo] == 0:  # find 1 from l->R\n",
    "            lo += 1            \n",
    "        while arr[hi] == 1: # find 0 from R<-L\n",
    "            hi -= 1\n",
    "\n",
    "        if lo >= hi:\n",
    "            break\n",
    "        arr[lo],arr[hi] = arr[hi],arr[lo]\n",
    "        lo += 1\n",
    "        hi -= 1\n",
    "        # print(arr,lo,hi)\n",
    "\n",
    "    return arr"
   ]
  },
  {
   "cell_type": "code",
   "execution_count": 21,
   "id": "c1b3f5b3",
   "metadata": {},
   "outputs": [
    {
     "name": "stdout",
     "output_type": "stream",
     "text": [
      "[0, 0, 0, 0, 0, 0, 1, 1, 1, 1, 1]\n"
     ]
    }
   ],
   "source": [
    "arr = [1,0,0,1,1,0,1,0,0,0,1]\n",
    "print(sort_01(arr))"
   ]
  },
  {
   "cell_type": "markdown",
   "id": "b49ed01b",
   "metadata": {},
   "source": [
    "### Sort array of 0,1,2 : Dutch National Flag Algorithm"
   ]
  },
  {
   "cell_type": "code",
   "execution_count": 2,
   "id": "6da35817",
   "metadata": {},
   "outputs": [],
   "source": [
    "def DNF(arr):\n",
    "    '''\n",
    "    lo, cur, hi <- cur iterates and swaps...\n",
    "    0s in between : 0<->lo\n",
    "    2s in between : hi<->N\n",
    "    1s get auto-filles betwwen lo<->hi\n",
    "    At any points.. i<lo : 0s filled, i>hi : 2s filled\n",
    "    '''\n",
    "\n",
    "    lo = cur = 0\n",
    "    hi = len(arr)-1\n",
    "\n",
    "    while cur <= hi: # mid>hi, stop(everything after hi is already 2)\n",
    "        if arr[cur] == 0:\n",
    "            arr[lo],arr[cur] = arr[cur], arr[lo]\n",
    "            lo += 1\n",
    "            cur += 1\n",
    "        elif arr[cur] == 2:\n",
    "            arr[cur],arr[hi] = arr[hi], arr[cur]\n",
    "            hi -= 1\n",
    "        else:\n",
    "            cur += 1\n",
    "    return arr\n"
   ]
  },
  {
   "cell_type": "code",
   "execution_count": 4,
   "id": "014f31a9",
   "metadata": {},
   "outputs": [
    {
     "name": "stdout",
     "output_type": "stream",
     "text": [
      "[0, 1, 2]\n"
     ]
    }
   ],
   "source": [
    "arr = [0,2,1,2,1,0,0,0,0,2]\n",
    "print(DNF([2,0,1]))"
   ]
  },
  {
   "cell_type": "code",
   "execution_count": 1,
   "id": "a47bee64",
   "metadata": {},
   "outputs": [
    {
     "data": {
      "text/plain": [
       "'\\nQ> Why swap(hi--,mid), swap(lo++,mid++) \\n-> hi = {0,1,2}\\n2,1 -> no problem\\nif its 0, then if u increment mid -> It will move ahead\\n\\nBUT, always mid > low, so everything before mid is already in place [0 or 1]\\n'"
      ]
     },
     "execution_count": 1,
     "metadata": {},
     "output_type": "execute_result"
    }
   ],
   "source": [
    "'''\n",
    "Q> Why swap(hi--,cur), swap(lo++,cur++) \n",
    "-> hi = {0,1,2}\n",
    "2,1 -> no problem\n",
    "if its 0, then if u increment mid -> It will move ahead\n",
    "\n",
    "BUT, always cur > low, so everything before mid is already in place [0 or 1]\n",
    "'''"
   ]
  },
  {
   "cell_type": "markdown",
   "id": "e2a9a507",
   "metadata": {},
   "source": [
    "### Subarray Sum = 0"
   ]
  },
  {
   "cell_type": "markdown",
   "id": "5a337d4d",
   "metadata": {},
   "source": [
    "![Subarray_Sum_0](\"src/subarray_sum_0.png)"
   ]
  },
  {
   "cell_type": "markdown",
   "id": "65bf4d8f",
   "metadata": {},
   "source": [
    "Solution\n",
    "1. Calculate Prefix sum\n",
    "2. While calculating prefix sum array, \n",
    "    - if `cur_sum` was previously seen\n",
    "        - THEN, arr[`last_seen_sum_index`+1 : `cur_sum_index`] = 0  \n",
    "    - if `cur_sum` = 0,\n",
    "        - then, arr[0 : `cur_sum_index`] = 0\n"
   ]
  },
  {
   "cell_type": "code",
   "execution_count": 10,
   "id": "18962391-075d-4130-a192-05856e0e9f0c",
   "metadata": {},
   "outputs": [],
   "source": [
    "def check_zero_sum(arr):\n",
    "    '''\n",
    "    Return [start_index, end_index] which has subarray sum = 0\n",
    "    '''\n",
    "    n = len(arr)\n",
    "    curSum = 0\n",
    "    hist = {}\n",
    "\n",
    "    curSum = 0\n",
    "    for i,x in enumerate(arr):\n",
    "        curSum += x\n",
    "        if x in hist:\n",
    "            return (hist[x]+1,i)\n",
    "        elif curSum == 0:\n",
    "            return (0,i)\n",
    "        else:\n",
    "            hist[curSum] = i\n",
    "    return None\n"
   ]
  },
  {
   "cell_type": "code",
   "execution_count": 11,
   "id": "ef005c85-0f13-4916-a06a-1a4ab71f7541",
   "metadata": {},
   "outputs": [
    {
     "data": {
      "text/plain": [
       "(0, 2)"
      ]
     },
     "execution_count": 11,
     "metadata": {},
     "output_type": "execute_result"
    }
   ],
   "source": [
    "arr = [10, 20, -30, 1, 6]\n",
    "check_zero_sum(arr)"
   ]
  },
  {
   "cell_type": "markdown",
   "id": "a2e7f14e",
   "metadata": {},
   "source": [
    "### Max Subarray Sum - Kadanes\n",
    "( Doesnt give length or exact elements )"
   ]
  },
  {
   "cell_type": "code",
   "execution_count": 36,
   "id": "1085f8c7",
   "metadata": {},
   "outputs": [],
   "source": [
    "def kadanes(arr):\n",
    "    '''\n",
    "    Return maximum subarary sum (only sum not indices)\n",
    "    '''\n",
    "    max_res = 0\n",
    "    curSum = 0\n",
    "    startIndex = endIndex = 0\n",
    "    for idx, x in enumerate(arr):\n",
    "        curSum += x\n",
    "        if curSum < 0:\n",
    "            curSum = 0\n",
    "        else:\n",
    "            max_res = max(max_res, curSum)\n",
    "    print(startIndex, endIndex)\n",
    "    return max_res"
   ]
  },
  {
   "cell_type": "code",
   "execution_count": 39,
   "id": "1f0c1888",
   "metadata": {},
   "outputs": [
    {
     "name": "stdout",
     "output_type": "stream",
     "text": [
      "0 0\n",
      "7\n"
     ]
    }
   ],
   "source": [
    "arr = [-2, -3, 4, -1, -2, 1, 5, -3]\n",
    "print(kadanes(arr))"
   ]
  },
  {
   "cell_type": "markdown",
   "id": "2d00a98f",
   "metadata": {},
   "source": [
    "### Two Sum"
   ]
  },
  {
   "cell_type": "code",
   "execution_count": 46,
   "id": "138f25cc",
   "metadata": {},
   "outputs": [],
   "source": [
    "def two_sum(arr, target):\n",
    "    '''\n",
    "    Return (x,y) E arr, x+y = target\n",
    "    '''\n",
    "    hmap = set()\n",
    "    for x in arr:\n",
    "        remSum = target-x\n",
    "        if remSum in hmap:\n",
    "            return (remSum,x)\n",
    "        else:\n",
    "            hmap.add(x)\n",
    "    return None\n",
    "    "
   ]
  },
  {
   "cell_type": "code",
   "execution_count": 50,
   "id": "a9781aca",
   "metadata": {},
   "outputs": [],
   "source": [
    "def three_sum(arr, target):\n",
    "    n = len(arr)\n",
    "    for i, x in enumerate(arr[:-1]):\n",
    "        twoSumRes = two_sum(arr[i:], target-x)\n",
    "        if twoSumRes is not None:\n",
    "            return (twoSumRes[0], twoSumRes[1], x)\n",
    "    return None\n",
    "\n",
    "        "
   ]
  },
  {
   "cell_type": "code",
   "execution_count": 52,
   "id": "eab5b002",
   "metadata": {},
   "outputs": [
    {
     "data": {
      "text/plain": [
       "(12, 40, 11)"
      ]
     },
     "execution_count": 52,
     "metadata": {},
     "output_type": "execute_result"
    }
   ],
   "source": [
    "arr = [11,2,8,12,-7,23,40,10]\n",
    "three_sum(arr,63)\n"
   ]
  },
  {
   "cell_type": "markdown",
   "id": "0e0968c4",
   "metadata": {},
   "source": [
    "### Max Length Subarray Sum with given Target \n",
    "( Prefix Method : Gives exact elements and one giving max length ) "
   ]
  },
  {
   "cell_type": "markdown",
   "id": "260843d8",
   "metadata": {},
   "source": [
    "![Subarray_Sum_0](\"./src/max_len_subarray_sum.png\")"
   ]
  },
  {
   "cell_type": "code",
   "execution_count": 108,
   "id": "5e233d98",
   "metadata": {},
   "outputs": [],
   "source": [
    "def longest_subarray_target(arr, target):\n",
    "    n = len(arr)\n",
    "    cSum = maxLen = 0\n",
    "    hmap = {}\n",
    "    resIndex = [0,0]\n",
    "\n",
    "    for i, x in enumerate(arr):\n",
    "        cSum += x\n",
    "        findHmap = cSum-target\n",
    "        if cSum == target:\n",
    "            newLen = i+1\n",
    "            if newLen > maxLen:\n",
    "                maxLen = newLen\n",
    "                resIndex[0], resIndex[1] = 0, i\n",
    "        elif findHmap in hmap: # Target found\n",
    "            newLen = i-hmap[findHmap]\n",
    "            if newLen > maxLen:\n",
    "                maxLen = newLen\n",
    "                resIndex[0], resIndex[1] = hmap[findHmap]+1, i\n",
    "        elif cSum not in hmap:  # why always add? [We need left most index -> longest subarray, so if a sum is already there dont add newwer one]\n",
    "            hmap[cSum] = i\n",
    "            \n",
    "    return (maxLen, resIndex)"
   ]
  },
  {
   "cell_type": "code",
   "execution_count": 109,
   "id": "c2463f2d",
   "metadata": {},
   "outputs": [
    {
     "data": {
      "text/plain": [
       "(5, [0, 4])"
      ]
     },
     "execution_count": 109,
     "metadata": {},
     "output_type": "execute_result"
    }
   ],
   "source": [
    "arr = [5,6,-5,5,3,5,3,-2,0]\n",
    "arr = [5,5,-5,-5,2]\n",
    "# longest_subarray_target(arr, 8)\n",
    "longest_subarray_target(arr, 2)"
   ]
  },
  {
   "cell_type": "markdown",
   "id": "5985f5f6",
   "metadata": {},
   "source": [
    "### Equilibrium Point"
   ]
  },
  {
   "cell_type": "markdown",
   "id": "fbfa18c6",
   "metadata": {},
   "source": [
    "![Equilibrium_Point](\"./src/Equilibrium_Point.png\")"
   ]
  },
  {
   "cell_type": "code",
   "execution_count": 128,
   "id": "c16acd09",
   "metadata": {},
   "outputs": [],
   "source": [
    "def equilibrium(arr):\n",
    "    '''\n",
    "    Return equilibrium point\n",
    "    '''\n",
    "    n = len(arr)\n",
    "    lSum = [0]*n\n",
    "\n",
    "    cSum = 0\n",
    "    for i in range(n):  # L->R Sum\n",
    "        cSum += arr[i]\n",
    "        lSum[i] = cSum\n",
    "\n",
    "    cSum = 0\n",
    "    for i in reversed(range(n)):  # L<-R Sum\n",
    "        cSum += arr[i]\n",
    "        if cSum == lSum[i]:\n",
    "            return i\n",
    "    return None\n",
    "    \n",
    "    "
   ]
  },
  {
   "cell_type": "code",
   "execution_count": 129,
   "id": "87347870",
   "metadata": {},
   "outputs": [
    {
     "data": {
      "text/plain": [
       "2"
      ]
     },
     "execution_count": 129,
     "metadata": {},
     "output_type": "execute_result"
    }
   ],
   "source": [
    "arr = [-3,5,-4,-2,3,1]\n",
    "equilibrium(arr)"
   ]
  },
  {
   "cell_type": "markdown",
   "id": "078985b4-3f12-4494-8e7c-e8869990189a",
   "metadata": {
    "tags": []
   },
   "source": [
    "## Stacks"
   ]
  },
  {
   "cell_type": "code",
   "execution_count": 31,
   "id": "76e23842-04e6-401a-b817-dde2a9f695a5",
   "metadata": {},
   "outputs": [
    {
     "data": {
      "text/plain": [
       "1"
      ]
     },
     "execution_count": 31,
     "metadata": {},
     "output_type": "execute_result"
    }
   ],
   "source": []
  },
  {
   "cell_type": "markdown",
   "id": "81c629fa-1775-4b8d-9f8a-94acafa6aa49",
   "metadata": {
    "tags": []
   },
   "source": [
    "## Queues"
   ]
  },
  {
   "cell_type": "code",
   "execution_count": null,
   "id": "f5103eb6-f511-4be2-9171-66990994f975",
   "metadata": {},
   "outputs": [],
   "source": []
  },
  {
   "cell_type": "markdown",
   "id": "0c382576",
   "metadata": {},
   "source": [
    "## Linked Lists"
   ]
  },
  {
   "cell_type": "markdown",
   "id": "860bc1cf",
   "metadata": {},
   "source": [
    "#### Reverse LL"
   ]
  },
  {
   "cell_type": "code",
   "execution_count": 9,
   "id": "71ce5031",
   "metadata": {},
   "outputs": [],
   "source": [
    "def reverseList(self, head):\n",
    "    prev = None\n",
    "    next = None\n",
    "    cur = head\n",
    "\n",
    "    while cur is not None:\n",
    "        next = cur.next\n",
    "        cur.next = prev\n",
    "        prev = cur\n",
    "        cur = next\n",
    "    return prev"
   ]
  },
  {
   "cell_type": "markdown",
   "id": "20d2c803",
   "metadata": {},
   "source": [
    "#### Mid in Linked List"
   ]
  },
  {
   "cell_type": "code",
   "execution_count": null,
   "id": "ff13dcdc",
   "metadata": {},
   "outputs": [],
   "source": [
    "def middleNode(self, head):\n",
    "    slow = head\n",
    "    fast = head\n",
    "\n",
    "    while fast and fast.next:\n",
    "        slow = slow.next\n",
    "        fast = fast.next.next\n",
    "\n",
    "    return slow\n"
   ]
  },
  {
   "cell_type": "markdown",
   "id": "686d965b-e5cc-4ad4-9ff3-b07b6ecf8cba",
   "metadata": {
    "tags": []
   },
   "source": [
    "## Graphs"
   ]
  },
  {
   "cell_type": "code",
   "execution_count": null,
   "id": "813e03dc-128d-4481-bdb9-6df5c1b30ad7",
   "metadata": {},
   "outputs": [],
   "source": []
  },
  {
   "cell_type": "markdown",
   "id": "5e60f42b-5705-48b7-aec6-96b2debfb38b",
   "metadata": {
    "tags": []
   },
   "source": [
    "## Tree"
   ]
  },
  {
   "cell_type": "code",
   "execution_count": null,
   "id": "c4b0de15-be1d-4616-a9d6-0069b5fda2cc",
   "metadata": {},
   "outputs": [],
   "source": []
  },
  {
   "cell_type": "markdown",
   "id": "8ba58d2b-a5f8-42a5-92c2-b9173dfb7452",
   "metadata": {
    "tags": []
   },
   "source": [
    "## Recursion + DP"
   ]
  },
  {
   "cell_type": "code",
   "execution_count": null,
   "id": "a658f9ce-0ba8-46f5-a525-81046ff66af8",
   "metadata": {},
   "outputs": [],
   "source": []
  },
  {
   "cell_type": "markdown",
   "id": "68de3bf7-9958-4343-9f09-97d193c64b6e",
   "metadata": {
    "tags": []
   },
   "source": [
    "## Math"
   ]
  },
  {
   "cell_type": "code",
   "execution_count": null,
   "id": "7480c79c-37c0-4ab1-a5d6-6d3125969418",
   "metadata": {},
   "outputs": [],
   "source": []
  }
 ],
 "metadata": {
  "kernelspec": {
   "display_name": "Python 3 (ipykernel)",
   "language": "python",
   "name": "python3"
  },
  "language_info": {
   "codemirror_mode": {
    "name": "ipython",
    "version": 3
   },
   "file_extension": ".py",
   "mimetype": "text/x-python",
   "name": "python",
   "nbconvert_exporter": "python",
   "pygments_lexer": "ipython3",
   "version": "3.9.7"
  }
 },
 "nbformat": 4,
 "nbformat_minor": 5
}
