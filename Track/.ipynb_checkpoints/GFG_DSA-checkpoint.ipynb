{
 "cells": [
  {
   "cell_type": "code",
   "execution_count": 57,
   "id": "c2d5730b-0725-4267-9bf0-cd2eef711567",
   "metadata": {},
   "outputs": [],
   "source": [
    "import numpy as np\n",
    "import pandas as pd\n",
    "from IPython.display import Image, display\n"
   ]
  },
  {
   "cell_type": "code",
   "execution_count": 94,
   "id": "0f80d71b",
   "metadata": {},
   "outputs": [],
   "source": [
    "def f(arr):\n",
    "    res = arr[0]\n",
    "    second_res = -1\n",
    "\n",
    "    for x in arr[1:]:\n",
    "        print(x, res, second_res)\n",
    "        if x > res:\n",
    "            second_res = res\n",
    "            res = x\n",
    "        elif x<res:\n",
    "            if second_res == -1:\n",
    "                second_res = x\n",
    "            elif x > second_res:\n",
    "                second_res = x\n",
    "    return res, second_res\n"
   ]
  },
  {
   "cell_type": "code",
   "execution_count": 97,
   "id": "97c1edca",
   "metadata": {},
   "outputs": [
    {
     "name": "stdout",
     "output_type": "stream",
     "text": [
      "2 2 -1\n",
      "1 2 -1\n",
      "2 2 1\n",
      "0 2 1\n",
      "2 2 1\n",
      "2 2 1\n"
     ]
    },
    {
     "data": {
      "text/plain": [
       "(2, 1)"
      ]
     },
     "execution_count": 97,
     "metadata": {},
     "output_type": "execute_result"
    }
   ],
   "source": [
    "arr = [1,1,0,1,1]\n",
    "arr = [2,2,1,2,0,2,2]\n",
    "f(arr)"
   ]
  },
  {
   "cell_type": "markdown",
   "id": "ae6e8ffa",
   "metadata": {
    "toc-hr-collapsed": true
   },
   "source": [
    "## Arrays"
   ]
  },
  {
   "cell_type": "markdown",
   "id": "f93c7d61",
   "metadata": {},
   "source": [
    "#### Maximum Subarray Sum"
   ]
  },
  {
   "cell_type": "markdown",
   "id": "ca43196e",
   "metadata": {},
   "source": [
    "Cant use Kadanes, as it gives min sum as 0 and doesnt take into consideration negative sums <br>\n",
    "This handles even when all elements are -ve -> max_sum also wud be negative"
   ]
  },
  {
   "cell_type": "code",
   "execution_count": 17,
   "id": "ae4acae7",
   "metadata": {},
   "outputs": [],
   "source": [
    "def max_subarray_sum(arr):\n",
    "    max_so_far = arr[0]\n",
    "    max_ending_here = arr[0]\n",
    "\n",
    "    for x in arr[1:]:\n",
    "        max_ending_here = max(max_ending_here+x,x) # either include this ele or take only this ele\n",
    "        max_so_far = max(max_so_far, max_ending_here)\n",
    "    \n",
    "    return max_so_far"
   ]
  },
  {
   "cell_type": "code",
   "execution_count": 3,
   "id": "531ae4db",
   "metadata": {},
   "outputs": [
    {
     "name": "stdout",
     "output_type": "stream",
     "text": [
      "7\n",
      "-1\n"
     ]
    }
   ],
   "source": [
    "arr = [-2, -3, 4, -1, -2, 1, 5, -3]\n",
    "print(max_subarray_sum(arr))\n",
    "\n",
    "arr = [-2, -3, -4, -1, -2, -11, -5, -3]\n",
    "print(max_subarray_sum(arr))"
   ]
  },
  {
   "cell_type": "markdown",
   "id": "6d83c82b",
   "metadata": {},
   "source": [
    "#### Maximum Length Even Odd subarray"
   ]
  },
  {
   "cell_type": "markdown",
   "id": "d04eaa95",
   "metadata": {},
   "source": [
    "Same approach as Kadanes, <br>\n",
    "At each step check if you can continue the previous subarray (even odd length), <br>\n",
    "If you cant do so, then reset length and start the new Even-Odd subarray from current position <br"
   ]
  },
  {
   "cell_type": "code",
   "execution_count": 18,
   "id": "6659edc9",
   "metadata": {},
   "outputs": [],
   "source": [
    "def max_even_odd_subarray(arr):\n",
    "    n = len(arr)\n",
    "    res = 1\n",
    "    cur_len = 1\n",
    "\n",
    "    for i in range(n):\n",
    "        # check if cur element can be added to older sequence\n",
    "        if (arr[i]%2 == 0 and arr[i-1]%2 != 0) or (arr[i]%2 != 0 and arr[i-1]%2 == 0): # can be added\n",
    "            cur_len += 1\n",
    "            res = max(res, cur_len)\n",
    "        else: #start new subarray from here\n",
    "            cur_len = 1\n",
    "    return res\n"
   ]
  },
  {
   "cell_type": "code",
   "execution_count": 5,
   "id": "c1a9dce1",
   "metadata": {},
   "outputs": [
    {
     "name": "stdout",
     "output_type": "stream",
     "text": [
      "3\n"
     ]
    }
   ],
   "source": [
    "arr = [5, 10, 20, 6, 3, 8]\n",
    "print(max_even_odd_subarray(arr))"
   ]
  },
  {
   "cell_type": "markdown",
   "id": "1a1dbc64",
   "metadata": {},
   "source": [
    "#### Maximum Circular Subarray Sum"
   ]
  },
  {
   "cell_type": "markdown",
   "id": "f81de893",
   "metadata": {},
   "source": [
    "arr = [1,2,-2,4,5] -> you can use join last and first -> [4,5,1,2,-2] <br>\n",
    "Max = MAX(Max of normal array, max of circular subarray)<br>\n",
    "\n",
    "`max of circular subarray` = `SUM` - `min_value_subarray in between`<br>\n",
    "\n",
    "[1,2,-2,4,5] -> min is -2 -> [1,2] -2 [4,5] -> you can reverse and add [5,4,1,2] <br>\n",
    "[1,2,-4,2,-6,4,5] -> min = [-2, 2, -6] = -8 -> [1,2][-4,2,-6][4,5] -> [5,4,1,2,] <br><br>\n",
    "In some case you get better sum in normal subarray, (so we take max of both)<br>\n",
    "[-2,4,4,4,4,-8] <br>\n",
    "In this case our circular sum would fail -> min would be [-8] <br>\n",
    "But in this case our normal sum would work and handle this case <br>"
   ]
  },
  {
   "cell_type": "code",
   "execution_count": 60,
   "id": "54473eed",
   "metadata": {},
   "outputs": [
    {
     "data": {
      "text/plain": [
       "-2"
      ]
     },
     "execution_count": 60,
     "metadata": {},
     "output_type": "execute_result"
    }
   ],
   "source": [
    "def max_subarray_sum(arr):\n",
    "    max_so_far = arr[0]\n",
    "    max_ending_here = arr[0]\n",
    "\n",
    "    for x in arr[1:]:\n",
    "        max_ending_here = max(max_ending_here+x,x) # either include this ele or take only this ele\n",
    "        max_so_far = max(max_so_far, max_ending_here)\n",
    "    \n",
    "    return max_so_far \n",
    "    \n",
    "def min_subarray_sum(arr):\n",
    "    min_till_now = arr[0]\n",
    "    cur_min = arr[0]\n",
    "\n",
    "    for x in arr[1:]:\n",
    "        cur_min = min(cur_min+x, x)\n",
    "        min_till_now = min(cur_min, min_till_now)\n",
    "        \n",
    "    return min_till_now\n",
    "\n",
    "arr = [1,2,-2,4,5]\n",
    "min_subarray_sum(arr)"
   ]
  },
  {
   "cell_type": "code",
   "execution_count": 61,
   "id": "c51d91f4",
   "metadata": {},
   "outputs": [],
   "source": [
    "def min_circular_subarray_sum(arr):\n",
    "    max_normal = max_subarray_sum(arr)\n",
    "\n",
    "    min_sum = min_subarray_sum(arr)\n",
    "    max_circular = sum(arr) - min_sum\n",
    "\n",
    "    # if circular = 0, means it picked all ele as min_sub_array (you need to pick interior min and circular join outer ones which isnt possible here)\n",
    "    if max_circular == 0: \n",
    "        return max_normal\n",
    "\n",
    "    return max(max_normal, max_circular)"
   ]
  },
  {
   "cell_type": "code",
   "execution_count": 63,
   "id": "4d49c0bf",
   "metadata": {},
   "outputs": [
    {
     "name": "stdout",
     "output_type": "stream",
     "text": [
      "[1, 2, -2, 4, 5] 12\n",
      "[-1, 2, 10, 4, -5] 16\n",
      "[-12, -14] -12\n"
     ]
    }
   ],
   "source": [
    "arr = [1,2,-2,4,5] # In this case we get better result by rotating array -> [|4,5,1,2|-2]\n",
    "print(arr, min_circular_subarray_sum(arr))\n",
    "\n",
    "arr = [-1,2,10,4,-5] # in this case we get better result from normal array instead of circular one -> [-1,|2,10,4|,-5]\n",
    "print(arr, min_circular_subarray_sum(arr))\n",
    "\n",
    "\n",
    "arr = [-12, -14] \n",
    "print(arr, min_circular_subarray_sum(arr))"
   ]
  },
  {
   "cell_type": "markdown",
   "id": "60eda840",
   "metadata": {},
   "source": [
    "#### 3-Sum No Duplicates"
   ]
  },
  {
   "cell_type": "markdown",
   "id": "c4f61b5b",
   "metadata": {},
   "source": [
    "No duplicate triplets are allowed <br>\n",
    "Duplicate elements if present in array can be used <br>"
   ]
  },
  {
   "cell_type": "markdown",
   "id": "6ef04733",
   "metadata": {},
   "source": [
    "##### Using HashSet to remove duplicates"
   ]
  },
  {
   "cell_type": "code",
   "execution_count": 20,
   "id": "23d660b1",
   "metadata": {},
   "outputs": [],
   "source": [
    "\n",
    "def threeSum(arr):\n",
    "    n = len(arr)\n",
    "    target = 0\n",
    "    arr = sorted(arr)\n",
    "    res = set()\n",
    "    \n",
    "    for i in range(n-2):\n",
    "        val = arr[i]\n",
    "        \n",
    "        lo =  i+1\n",
    "        hi = n-1\n",
    "        while lo<hi:\n",
    "            c_sum = val + arr[lo] + arr[hi]\n",
    "            if c_sum == target:\n",
    "                res.add((val, arr[lo], arr[hi]))\n",
    "                lo += 1\n",
    "                hi -=1\n",
    "            elif c_sum > target:\n",
    "                hi -= 1\n",
    "            else:\n",
    "                lo += 1\n",
    "    return res"
   ]
  },
  {
   "cell_type": "code",
   "execution_count": 21,
   "id": "fd38109f",
   "metadata": {},
   "outputs": [
    {
     "data": {
      "text/plain": [
       "{(-1, -1, 2), (-1, 0, 1)}"
      ]
     },
     "execution_count": 21,
     "metadata": {},
     "output_type": "execute_result"
    }
   ],
   "source": [
    "arr = [-1,0,1,2,-1,-4]\n",
    "threeSum(arr)"
   ]
  },
  {
   "cell_type": "markdown",
   "id": "365893a2",
   "metadata": {},
   "source": [
    "##### Without using Hashset -> Handle implicitly in code"
   ]
  },
  {
   "cell_type": "code",
   "execution_count": 22,
   "id": "275727dc",
   "metadata": {},
   "outputs": [],
   "source": [
    "\n",
    "def threeSum(arr):\n",
    "    n = len(arr)\n",
    "    target = 0\n",
    "    arr = sorted(arr)\n",
    "    res = []\n",
    "    \n",
    "    #  [-1,0,1,2,-1,-4] -> [-4, -1, -1, 0, 1, 2]\n",
    "    \n",
    "    for i in range(n-2):\n",
    "        if i!=0 and arr[i]==arr[i-1]: # if same ele was seen before ignore (why i-1? sorted array)\n",
    "            continue\n",
    "        val = arr[i]\n",
    "        \n",
    "        lo =  i+1\n",
    "        hi = n-1\n",
    "        while lo<hi:\n",
    "            c_sum = val + arr[lo] + arr[hi]\n",
    "            if c_sum == target:\n",
    "                res.append((val, arr[lo], arr[hi]))\n",
    "                \n",
    "                # [0,1,lo=2,2,2,3,4,5,6,hi=6,7] let say you got needed ans=6, then next you need lo=3, hi=5\n",
    "                while lo<hi and arr[lo]==arr[lo+1]: # increment until lo is not same as ans\n",
    "                    lo += 1\n",
    "                while lo<hi and arr[hi]==arr[hi-1]: # increment until hi is not same as ans\n",
    "                    hi -= 1\n",
    "                \n",
    "                lo += 1\n",
    "                hi -=1\n",
    "            elif c_sum > target:\n",
    "                hi -= 1\n",
    "            else:\n",
    "                lo += 1\n",
    "    return res"
   ]
  },
  {
   "cell_type": "code",
   "execution_count": 23,
   "id": "b9bd3c8d",
   "metadata": {},
   "outputs": [
    {
     "data": {
      "text/plain": [
       "[(-1, -1, 2), (-1, 0, 1)]"
      ]
     },
     "execution_count": 23,
     "metadata": {},
     "output_type": "execute_result"
    }
   ],
   "source": [
    "arr = [-1,0,1,2,-1,-4]\n",
    "threeSum(arr)"
   ]
  },
  {
   "cell_type": "markdown",
   "id": "37a70987",
   "metadata": {},
   "source": [
    "#### 4-Sum No duplicates <br>"
   ]
  },
  {
   "cell_type": "markdown",
   "id": "6e71b91b",
   "metadata": {},
   "source": [
    "No duplicate indices are allowed but elements with different index but same value are fine <br>\n",
    "[2,2,2,2,2] target=8 | result = [2,2,2,2] <br>\n",
    "\n",
    "`USE HASHSET APPROACH ONLY`"
   ]
  },
  {
   "cell_type": "markdown",
   "id": "76a1c50d",
   "metadata": {},
   "source": [
    "##### Using HashSet"
   ]
  },
  {
   "cell_type": "code",
   "execution_count": 18,
   "id": "483b5bd0",
   "metadata": {},
   "outputs": [],
   "source": [
    "class FourSolution:\n",
    "    def threeSum(self, arr, target):\n",
    "        n = len(arr)\n",
    "        res = set()\n",
    "        \n",
    "        for i in range(n-2):\n",
    "            val = arr[i]\n",
    "            \n",
    "            lo =  i+1\n",
    "            hi = n-1\n",
    "            while lo<hi:\n",
    "                c_sum = val + arr[lo] + arr[hi]\n",
    "                if c_sum == target:\n",
    "                    res.add((val, arr[lo], arr[hi]))\n",
    "                    lo += 1\n",
    "                    hi -=1\n",
    "                elif c_sum > target:\n",
    "                    hi -= 1\n",
    "                else:\n",
    "                    lo += 1\n",
    "        return res\n",
    "        \n",
    "    def fourSum(self, arr, target):\n",
    "        res = set()\n",
    "        arr = sorted(arr)\n",
    "        \n",
    "        for i in range(len(arr)-3):\n",
    "            x = arr[i]\n",
    "            rem_target = target-x\n",
    "            temp_res = self.threeSum(arr[i+1:], rem_target)\n",
    "            \n",
    "            for tup in temp_res:\n",
    "                res.add((x,*tup))\n",
    "        return res\n",
    "        "
   ]
  },
  {
   "cell_type": "code",
   "execution_count": 19,
   "id": "79e1f87b",
   "metadata": {},
   "outputs": [
    {
     "name": "stdout",
     "output_type": "stream",
     "text": [
      "{(-2, -1, 1, 2), (-1, 0, 0, 1), (-2, 0, 0, 2)}\n",
      "{(2, 2, 2, 2)}\n"
     ]
    }
   ],
   "source": [
    "arr = [1,0,-1,0,-2,2]\n",
    "print(FourSolution().fourSum(arr,target=0))\n",
    "\n",
    "arr = [2,2,2,2,2]\n",
    "print(FourSolution().fourSum(arr,target=8))"
   ]
  },
  {
   "cell_type": "markdown",
   "id": "cdcab6cd",
   "metadata": {},
   "source": [
    "#### Minimum Group Flips to make Same [Binary Array]"
   ]
  },
  {
   "cell_type": "markdown",
   "id": "c3cf96fe",
   "metadata": {},
   "source": [
    "**Direct Answer Trick** <br>\n",
    "1. **Lowest flip group** -> element that occurs second (0 or 1) <br>\n",
    "So just check which elements appears second n print all its groups \n",
    "2. abs((no of groups of `0`) - (no of groups of `1`)) = `0` or `1`\n"
   ]
  },
  {
   "cell_type": "code",
   "execution_count": 42,
   "id": "90af7a22",
   "metadata": {},
   "outputs": [],
   "source": [
    "def min_group_flips(arr):\n",
    "    counts = [0,0]\n",
    "    counts[arr[0]] = 1\n",
    "\n",
    "    for i in range(1,len(arr)):\n",
    "        if arr[i] == arr[i-1]:\n",
    "            continue\n",
    "        else:\n",
    "            counts[arr[i]] += 1\n",
    "    return min(counts)\n"
   ]
  },
  {
   "cell_type": "code",
   "execution_count": 43,
   "id": "1a9b34c4",
   "metadata": {},
   "outputs": [],
   "source": [
    "def min_group_flips_with_index(arr):\n",
    "    n = len(arr)\n",
    "    flips = {0:[], 1:[]}\n",
    "    \n",
    "    cur_ele = arr[0]\n",
    "    cur_start_index = 0\n",
    "\n",
    "    for i in range(1,n):\n",
    "        if arr[i] == arr[i-1]:\n",
    "            continue\n",
    "        else: # old streak broken | start new streak \n",
    "            flips[cur_ele].append((cur_start_index,i-1))\n",
    "            cur_start_index = i # reset index\n",
    "            cur_ele = arr[i] # reset curEle\n",
    "            \n",
    "    flips[cur_ele].append((cur_start_index,n-1))\n",
    "\n",
    "    count_flips = [len(flips[key]) for key in [0,1]]\n",
    "    result = 0 if count_flips[0] < count_flips[1] else 1\n",
    "    \n",
    "    return (result, count_flips[result], flips[result])\n",
    "\n",
    "\n",
    "    "
   ]
  },
  {
   "cell_type": "code",
   "execution_count": 41,
   "id": "d9f4237d",
   "metadata": {},
   "outputs": [
    {
     "name": "stdout",
     "output_type": "stream",
     "text": [
      "1\n",
      "(0, 1, [(2, 4)])\n",
      "2\n",
      "(0, 2, [(1, 3), (5, 6)])\n"
     ]
    }
   ],
   "source": [
    "arr = [1,1,0,0,0,1] # res = 1 [2:4]\n",
    "print(min_group_flips(arr))\n",
    "print(min_group_flips_with_index(arr))\n",
    "\n",
    "arr = [1,0,0,0,1,0,0,1,1,1,1] # res = 2 [1:3, 5:6]\n",
    "print(min_group_flips(arr))\n",
    "print(min_group_flips_with_index(arr))\n"
   ]
  },
  {
   "cell_type": "markdown",
   "id": "50b18bd8",
   "metadata": {},
   "source": [
    "#### Check if array is sorted and rotated"
   ]
  },
  {
   "cell_type": "markdown",
   "id": "8a1816c9",
   "metadata": {},
   "source": [
    "https://practice.geeksforgeeks.org/problems/check-if-array-is-sorted-and-rotated-clockwise <br>\n",
    "Here return True iff array is sorted(increasing or decreasing) AND rotated<br><br>\n",
    "\n",
    "**Logic**<br>\n",
    "If array is sorted(normal/reverse) and rotated then, we know that there will be only one error/mismatch (at point of rotation)<br>\n",
    "1. In proper sort -> at one place you will have `a[i]`>`a[i-1]`<br>\n",
    "2. In reverse sort -> at one place you will have `a[i]`<`a[i-1]`<br>\n",
    "\n",
    "if either of (1) or (2) == 0 -> Array is sorted but not rotated<br>\n",
    "if both (1) and (2) > 1 -> rotated but not sorted<br>\n",
    "Only if either (1) or (2) == 1 -> Sorted and rotated<br>\n",
    "\n",
    "**Note**: Since we have sorted + rotated array you also need to check if first and last element are in order<br>"
   ]
  },
  {
   "cell_type": "code",
   "execution_count": 67,
   "id": "be052181",
   "metadata": {},
   "outputs": [],
   "source": [
    "def checkRotatedAndSorted(arr,n):\n",
    "    sort_err = 0\n",
    "    reverse_sort_err = 0\n",
    "    \n",
    "    for i in range(1,n):\n",
    "        if arr[i-1] > arr[i]:\n",
    "            sort_err += 1\n",
    "        elif arr[i-1] < arr[i]:\n",
    "            reverse_sort_err += 1\n",
    "            \n",
    "    # print(sort_err, reverse_sort_err, arr)\n",
    "    if sort_err==1 or reverse_sort_err==1:\n",
    "        if arr[0] < arr[-1]:# proper sorting error\n",
    "            sort_err += 1\n",
    "        else:\n",
    "            reverse_sort_err += 1\n",
    "        \n",
    "        if sort_err==1 or reverse_sort_err==1:\n",
    "            return True\n",
    "    return False"
   ]
  },
  {
   "cell_type": "markdown",
   "id": "c3055bcf",
   "metadata": {},
   "source": [
    "#### Subarray with Target Sum (Non-Negative Nos)"
   ]
  },
  {
   "cell_type": "markdown",
   "id": "e8788e70",
   "metadata": {},
   "source": [
    "Using Sliding Window Method"
   ]
  },
  {
   "cell_type": "code",
   "execution_count": 47,
   "id": "908ac2ee",
   "metadata": {},
   "outputs": [],
   "source": [
    "def target_subarray_sum(arr, target):\n",
    "    n = len(arr)\n",
    "    start = 0\n",
    "    end = 0\n",
    "    cur_sum = arr[0] # inititially the window size is 1\n",
    "\n",
    "    while start<=end and start<n and end<n:\n",
    "        if cur_sum == target:\n",
    "            return (start, end)\n",
    "\n",
    "        if cur_sum < target: # increase window size -> add ele from right\n",
    "            end += 1\n",
    "            cur_sum += arr[end]\n",
    "        elif cur_sum > target: # reduce window size -> remove ele from left\n",
    "            cur_sum -= arr[start]\n",
    "            start += 1\n",
    "    return -1\n"
   ]
  },
  {
   "cell_type": "code",
   "execution_count": 48,
   "id": "f90214aa",
   "metadata": {},
   "outputs": [
    {
     "data": {
      "text/plain": [
       "(2, 4)"
      ]
     },
     "execution_count": 48,
     "metadata": {},
     "output_type": "execute_result"
    }
   ],
   "source": [
    "arr = [1,4,20,3,10,5] \n",
    "target = 33 # [20,3,10]\n",
    "\n",
    "target_subarray_sum(arr, target)\n"
   ]
  },
  {
   "cell_type": "markdown",
   "id": "8936e31c",
   "metadata": {},
   "source": [
    "#### Prefix Sum Problems"
   ]
  },
  {
   "cell_type": "markdown",
   "id": "8fe4a242",
   "metadata": {},
   "source": [
    "##### Max Subarray with Given Target (Positive + Negative Nos)"
   ]
  },
  {
   "cell_type": "code",
   "execution_count": 62,
   "id": "606d3871",
   "metadata": {},
   "outputs": [
    {
     "data": {
      "image/jpeg": "[encoded data removed]",
      "text/plain": [
       "<IPython.core.display.Image object>"
      ]
     },
     "metadata": {},
     "output_type": "display_data"
    }
   ],
   "source": [
    "display(Image(filename='src/max_len_subarray_sum.jpg'))"
   ]
  },
  {
   "cell_type": "code",
   "execution_count": 63,
   "id": "f7afabd0",
   "metadata": {},
   "outputs": [],
   "source": [
    "def longest_subarray_target(arr, target):\n",
    "    n = len(arr)\n",
    "    cSum = maxLen = 0\n",
    "    hmap = {}\n",
    "    resIndex = [0,0]\n",
    "\n",
    "    for i, x in enumerate(arr):\n",
    "        cSum += x\n",
    "        findHmap = cSum-target\n",
    "        if cSum == target: # [0 ... i] = target\n",
    "            newLen = i+1\n",
    "            if newLen > maxLen:\n",
    "                maxLen = newLen\n",
    "                resIndex[0], resIndex[1] = 0, i\n",
    "        elif findHmap in hmap: # Target found\n",
    "            newLen = i-hmap[findHmap]\n",
    "            if newLen > maxLen:\n",
    "                maxLen = newLen\n",
    "                resIndex[0], resIndex[1] = hmap[findHmap]+1, i\n",
    "        elif cSum not in hmap:  # why dont always add? [We need left most index -> longest subarray, so if a sum is already there dont add newwer one]\n",
    "            hmap[cSum] = i\n",
    "            \n",
    "    return (maxLen, resIndex)\n",
    "\n"
   ]
  },
  {
   "cell_type": "code",
   "execution_count": 64,
   "id": "62a70885",
   "metadata": {},
   "outputs": [
    {
     "name": "stdout",
     "output_type": "stream",
     "text": [
      "(4, [2, 5])\n",
      "(5, [0, 4])\n"
     ]
    }
   ],
   "source": [
    "arr = [5,6,-5,5,3,5,3,-2,0]\n",
    "print(longest_subarray_target(arr, 8))\n",
    "\n",
    "arr = [5,5,-5,-5,2]\n",
    "print(longest_subarray_target(arr, 2))"
   ]
  },
  {
   "cell_type": "markdown",
   "id": "d6f6bfbf",
   "metadata": {},
   "source": [
    "##### Count all Subarrays with sum as Target"
   ]
  },
  {
   "cell_type": "code",
   "execution_count": 6,
   "id": "b252d4a6",
   "metadata": {},
   "outputs": [],
   "source": [
    "def count_subarray_sum_target(arr, target):\n",
    "    hmap = {0:1} # consider initial csum as 0\n",
    "    count = 0\n",
    "    csum = 0\n",
    "    \n",
    "    for x in arr:\n",
    "        csum += x\n",
    "        \n",
    "        if csum-target in hmap:\n",
    "            count += hmap[csum-target]\n",
    "        \n",
    "        # If you have already seen this cur_sum ,that means\n",
    "        # there are 2 ways to form sum in case any result uses cur_sum\n",
    "        hmap[csum] = hmap.get(csum,0)+1\n",
    "        \n",
    "        # in longest_subarray_target we dont include csum if already seen. Why?\n",
    "        # because we need longest, n earliest seen csum, longer the answer subarray\n",
    "        \n",
    "    return count\n",
    "            "
   ]
  },
  {
   "cell_type": "code",
   "execution_count": 7,
   "id": "f60437bd",
   "metadata": {},
   "outputs": [
    {
     "name": "stdout",
     "output_type": "stream",
     "text": [
      "3\n",
      "4\n",
      "2\n"
     ]
    }
   ],
   "source": [
    "arr, target = [1,-1,0], 0\n",
    "print(count_subarray_sum_target(arr, target))\n",
    "\n",
    "arr, target = [1,2,1,2,1], 3\n",
    "print(count_subarray_sum_target(arr, target))\n",
    "\n",
    "arr, target = [1,2,3], 3\n",
    "print(count_subarray_sum_target(arr, target))"
   ]
  },
  {
   "cell_type": "markdown",
   "id": "b3bef847",
   "metadata": {},
   "source": [
    "##### Subarray sum equals Zero"
   ]
  },
  {
   "cell_type": "code",
   "execution_count": 69,
   "id": "920b5aa4",
   "metadata": {},
   "outputs": [
    {
     "data": {
      "image/jpeg": "[encoded data removed]",
      "text/plain": [
       "<IPython.core.display.Image object>"
      ]
     },
     "metadata": {},
     "output_type": "display_data"
    }
   ],
   "source": [
    "display(Image(filename='src/subarray_sum_0.jpg'))"
   ]
  },
  {
   "cell_type": "markdown",
   "id": "e01d384b",
   "metadata": {},
   "source": [
    "Solution\n",
    "1. Calculate Prefix sum\n",
    "2. While calculating prefix sum array, \n",
    "    - if `cur_sum` was previously seen\n",
    "        - THEN, arr[`last_seen_sum_index`+1 : `cur_sum_index`] = 0  \n",
    "    - if `cur_sum` = 0,\n",
    "        - then, arr[0 : `cur_sum_index`] = 0\n"
   ]
  },
  {
   "cell_type": "code",
   "execution_count": 72,
   "id": "751082d1",
   "metadata": {},
   "outputs": [],
   "source": [
    "def check_zero_sum(arr):\n",
    "    '''\n",
    "    Return [start_index, end_index] which has subarray sum = 0\n",
    "    '''\n",
    "    n = len(arr)\n",
    "    curSum = 0\n",
    "    hist = {}\n",
    "\n",
    "    curSum = 0\n",
    "    for i,x in enumerate(arr):\n",
    "        curSum += x\n",
    "        if x in hist:\n",
    "            return (hist[x]+1,i)\n",
    "        elif curSum == 0:\n",
    "            return (0,i)\n",
    "        else:\n",
    "            hist[curSum] = i\n",
    "    return None\n"
   ]
  },
  {
   "cell_type": "code",
   "execution_count": 73,
   "id": "0bfbe2e4",
   "metadata": {},
   "outputs": [
    {
     "data": {
      "text/plain": [
       "(0, 2)"
      ]
     },
     "execution_count": 73,
     "metadata": {},
     "output_type": "execute_result"
    }
   ],
   "source": [
    "arr = [10, 20, -30, 1, 6]\n",
    "check_zero_sum(arr)"
   ]
  },
  {
   "cell_type": "markdown",
   "id": "70079800",
   "metadata": {},
   "source": [
    "##### Equilibrium Point"
   ]
  },
  {
   "cell_type": "code",
   "execution_count": 66,
   "id": "73efd64f",
   "metadata": {},
   "outputs": [
    {
     "data": {
      "image/jpeg": "[encoded data removed]",
      "text/plain": [
       "<IPython.core.display.Image object>"
      ]
     },
     "metadata": {},
     "output_type": "display_data"
    }
   ],
   "source": [
    "\n",
    "display(Image(filename='src/Equilibrium_Point.jpg'))"
   ]
  },
  {
   "cell_type": "code",
   "execution_count": 67,
   "id": "2fa5e24e",
   "metadata": {},
   "outputs": [
    {
     "data": {
      "text/plain": [
       "2"
      ]
     },
     "execution_count": 67,
     "metadata": {},
     "output_type": "execute_result"
    }
   ],
   "source": [
    "\n",
    "def equilibrium(arr):\n",
    "    '''\n",
    "    Return equilibrium point\n",
    "    '''\n",
    "    n = len(arr)\n",
    "    lSum = [0]*n\n",
    "\n",
    "    cSum = 0\n",
    "    for i in range(n):  # L->R Sum\n",
    "        cSum += arr[i]\n",
    "        lSum[i] = cSum\n",
    "\n",
    "    cSum = 0\n",
    "    for i in reversed(range(n)):  # L<-R Sum\n",
    "        cSum += arr[i]\n",
    "        if cSum == lSum[i]:\n",
    "            return i\n",
    "    return None\n",
    "    \n",
    "    \n",
    "arr = [-3,5,-4,-2,3,1]\n",
    "equilibrium(arr)"
   ]
  },
  {
   "cell_type": "code",
   "execution_count": 68,
   "id": "ffa4e0f6",
   "metadata": {},
   "outputs": [
    {
     "data": {
      "text/plain": [
       "2"
      ]
     },
     "execution_count": 68,
     "metadata": {},
     "output_type": "execute_result"
    }
   ],
   "source": [
    "arr = [-3,5,-4,-2,3,1]\n",
    "equilibrium(arr)"
   ]
  },
  {
   "cell_type": "markdown",
   "id": "4525c25e",
   "metadata": {},
   "source": [
    "#### Maximum Occuring number in given ranges"
   ]
  },
  {
   "cell_type": "markdown",
   "id": "3ec9ffa3",
   "metadata": {},
   "source": [
    "https://practice.geeksforgeeks.org/problems/maximum-occured-integer4602/\n",
    "\n",
    "Solution works only when we know max_range else calculate frequencies using hashmap and do it\n"
   ]
  },
  {
   "cell_type": "code",
   "execution_count": 15,
   "id": "b39bd714",
   "metadata": {},
   "outputs": [],
   "source": [
    "def maxOccured(L,R,N,maxx):\n",
    "        arr = [0 for _ in range(maxx+2)]\n",
    "        \n",
    "        for i in range(N):\n",
    "            arr[L[i]] += 1\n",
    "            arr[R[i]+1] -= 1\n",
    "        \n",
    "        # calculate prefix sums\n",
    "        csum = arr[0]\n",
    "        for i in range(1,len(arr)):\n",
    "            arr[i] += arr[i-1]\n",
    "\n",
    "        res, max_count = 0, arr[0]\n",
    "        for i in range(1,len(arr)):\n",
    "            if arr[i] > max_count:\n",
    "                res = i\n",
    "                max_count = arr[i]\n",
    "\n",
    "        return res"
   ]
  },
  {
   "cell_type": "code",
   "execution_count": 16,
   "id": "e8fb47c2",
   "metadata": {},
   "outputs": [
    {
     "data": {
      "text/plain": [
       "4"
      ]
     },
     "execution_count": 16,
     "metadata": {},
     "output_type": "execute_result"
    }
   ],
   "source": [
    "L = [1,4,3,1]\n",
    "R = [15,8,5,4]\n",
    "maxOccured(L, R, 4, 15)"
   ]
  },
  {
   "cell_type": "markdown",
   "id": "327c1443",
   "metadata": {
    "toc-hr-collapsed": true
   },
   "source": [
    "## Matrix"
   ]
  },
  {
   "cell_type": "markdown",
   "id": "1a2d9a52",
   "metadata": {},
   "source": [
    "#### Spiral Matrix"
   ]
  },
  {
   "cell_type": "code",
   "execution_count": 27,
   "id": "8bc31139",
   "metadata": {},
   "outputs": [],
   "source": [
    "def spiral(arr):\n",
    "    nr = len(arr) - 1\n",
    "    nc = len(arr[0]) - 1\n",
    "\n",
    "    rStart, rEnd = 0, nr\n",
    "    cStart, cEnd = 0, nc\n",
    "\n",
    "    res = []\n",
    "    \n",
    "    while rStart<=rEnd and cStart<=cEnd:\n",
    "        for i in range(cStart, cEnd+1):\n",
    "            res.append(arr[rStart][i])\n",
    "        rStart += 1\n",
    "        \n",
    "        for i in range(rStart, rEnd+1):\n",
    "            res.append(arr[i][cEnd])\n",
    "        cEnd -= 1\n",
    "        \n",
    "        if rStart <= rEnd:\n",
    "            for i in reversed(range(cStart, cEnd+1)):\n",
    "                res.append(arr[rEnd][i])\n",
    "            rEnd -= 1\n",
    "        \n",
    "        if cStart <= cEnd:\n",
    "            for i in reversed(range(rStart, rEnd+1)):\n",
    "                res.append(arr[i][cStart])\n",
    "            \n",
    "            cStart += 1\n",
    "    return res\n",
    "\n",
    "            \n"
   ]
  },
  {
   "cell_type": "code",
   "execution_count": 29,
   "id": "cd81b517",
   "metadata": {},
   "outputs": [
    {
     "name": "stdout",
     "output_type": "stream",
     "text": [
      "[1, 2, 3, 6, 9, 8, 7, 4, 5]\n",
      "[1, 2, 3, 14, 34, 34, 9, 8, 7, 4, 5, 6]\n"
     ]
    }
   ],
   "source": [
    "arr = [\n",
    "    [1, 2, 3],\n",
    "    [4, 5, 6],\n",
    "    [7, 8, 9]\n",
    "]\n",
    "\n",
    "arr1 = [\n",
    "    [1, 2, 3,14],\n",
    "    [4, 5, 6, 34],\n",
    "    [7, 8, 9, 34]\n",
    "]\n",
    "\n",
    "\n",
    "print(spiral(arr))\n",
    "print(spiral(arr1))"
   ]
  },
  {
   "cell_type": "markdown",
   "id": "a582582b",
   "metadata": {},
   "source": [
    "#### Spiral Matrix II"
   ]
  },
  {
   "cell_type": "markdown",
   "id": "93f55172",
   "metadata": {},
   "source": [
    "Given `n` -> fill a `nxn` matrix spirally from 1 to n*n"
   ]
  },
  {
   "cell_type": "code",
   "execution_count": 32,
   "id": "e9006650",
   "metadata": {},
   "outputs": [],
   "source": [
    "\n",
    "def generate_spiral_matrix(n):\n",
    "    fill_ele = 1\n",
    "    arr = [[0 for _ in range(n)] for _ in range(n)]\n",
    "    \n",
    "    nr = len(arr) - 1\n",
    "    nc = len(arr[0]) - 1\n",
    "\n",
    "    rStart, rEnd = 0, nr\n",
    "    cStart, cEnd = 0, nc\n",
    "\n",
    "    res = []\n",
    "\n",
    "    while rStart<=rEnd and cStart<=cEnd:\n",
    "        for i in range(cStart, cEnd+1):\n",
    "            arr[rStart][i] = fill_ele\n",
    "            fill_ele += 1\n",
    "        rStart += 1\n",
    "\n",
    "        for i in range(rStart, rEnd+1):\n",
    "            arr[i][cEnd] = fill_ele\n",
    "            fill_ele += 1\n",
    "        cEnd -= 1\n",
    "\n",
    "        if rStart <= rEnd:\n",
    "            for i in reversed(range(cStart, cEnd+1)):\n",
    "                arr[rEnd][i] = fill_ele\n",
    "                fill_ele += 1\n",
    "            rEnd -= 1\n",
    "\n",
    "        if cStart <= cEnd:\n",
    "            for i in reversed(range(rStart, rEnd+1)):\n",
    "                arr[i][cStart] = fill_ele\n",
    "                fill_ele += 1\n",
    "\n",
    "            cStart += 1\n",
    "    return arr\n",
    "\n",
    "    "
   ]
  },
  {
   "cell_type": "code",
   "execution_count": 37,
   "id": "2c5e4524",
   "metadata": {},
   "outputs": [
    {
     "name": "stdout",
     "output_type": "stream",
     "text": [
      "[1, 2, 3, 4]\n",
      "[12, 13, 14, 5]\n",
      "[11, 16, 15, 6]\n",
      "[10, 9, 8, 7]\n"
     ]
    }
   ],
   "source": [
    "res = generate_spiral_matrix(n=4)\n",
    "print(*res, sep=\"\\n\")"
   ]
  },
  {
   "cell_type": "markdown",
   "id": "edbd4044",
   "metadata": {},
   "source": [
    "## Recursion"
   ]
  },
  {
   "cell_type": "markdown",
   "id": "c4f63288",
   "metadata": {},
   "source": [
    "#### Tower of Hanoi"
   ]
  },
  {
   "cell_type": "code",
   "execution_count": 16,
   "id": "62045922",
   "metadata": {},
   "outputs": [],
   "source": [
    "def toh(n, fromm, to, aux):\n",
    "    if n==0:\n",
    "        return\n",
    "    \n",
    "    toh(n-1,fromm,aux,to)\n",
    "    print(f\"move disk {n} from rod {fromm} to {to}\")\n",
    "    toh(n-1,aux,to,fromm)"
   ]
  },
  {
   "cell_type": "code",
   "execution_count": 17,
   "id": "b24d696c",
   "metadata": {},
   "outputs": [
    {
     "name": "stdout",
     "output_type": "stream",
     "text": [
      "move disk 1 from rod A to C\n",
      "move disk 2 from rod A to B\n",
      "move disk 1 from rod C to B\n",
      "move disk 3 from rod A to C\n",
      "move disk 1 from rod B to A\n",
      "move disk 2 from rod B to C\n",
      "move disk 1 from rod A to C\n"
     ]
    }
   ],
   "source": [
    "toh(3,'A','C','B')"
   ]
  },
  {
   "cell_type": "markdown",
   "id": "d70e6229",
   "metadata": {},
   "source": [
    "## Dynamic Programming"
   ]
  },
  {
   "cell_type": "markdown",
   "id": "569064b6",
   "metadata": {},
   "source": [
    "#### Longest Palindrome Substring"
   ]
  },
  {
   "cell_type": "markdown",
   "id": "d3e4fee3",
   "metadata": {},
   "source": [
    "- https://www.youtube.com/watch?v=UflHuQj6MVA\n",
    "- https://www.geeksforgeeks.org/longest-palindrome-substring-set-1/\n",
    " <br>\n",
    "1. if len(str) == 1, then its a palindrome <br>\n",
    "2. if len(str) == 2, & str[start] == str[end] => then its palindrome <br>\n",
    "3. len(str) > 2, (str[start]==str[end]) && is_palindrome(str[start+1:end-1])  <br>\n",
    "ababa -> a==a and is_palindrome(bab) <br> <br>\n",
    "Here, in our DP table -> i=startIndex, j=endIndex\n",
    "- We first fill dp[i][j] where i==j with 1 [Len == 1]\n",
    "- Then fill dp[i][j] where (j-i)=1 [Len == 2]\n",
    "- Fill remaining Lengths"
   ]
  },
  {
   "cell_type": "code",
   "execution_count": null,
   "id": "2b5ee31e",
   "metadata": {},
   "outputs": [],
   "source": []
  },
  {
   "cell_type": "code",
   "execution_count": 30,
   "id": "dfff848b",
   "metadata": {},
   "outputs": [],
   "source": [
    "def LPS(str):\n",
    "    n = len(str)\n",
    "    dp = [[False for _ in range(n)] for _ in range(n)]\n",
    "    \n",
    "    i = 0 # fill str with len == 1\n",
    "    while i<n:\n",
    "        dp[i][i] = True\n",
    "        i +=1\n",
    "\n",
    "    i=1 # fill str with len==2\n",
    "    while i<n:\n",
    "        if str[i-1] == str[i]:\n",
    "            dp[i-1][i] = True\n",
    "        i += 1\n",
    "\n",
    "    k = 3\n",
    "    for k in range(3,n):\n",
    "        for startIndex in range(0,n-k+1):\n",
    "            endIndex = startIndex + k -1\n",
    "            if str[startIndex] == str[endIndex] and dp[startIndex+1][endIndex-1]:\n",
    "                dp[startIndex][endIndex] = True\n",
    "\n",
    "\n",
    "    \n",
    "    print(*dp,sep=\"\\n\")"
   ]
  },
  {
   "cell_type": "code",
   "execution_count": 31,
   "id": "85d0bf8b",
   "metadata": {},
   "outputs": [],
   "source": [
    "# 0 1 2 3 4 5 6\n",
    "k = 3"
   ]
  },
  {
   "cell_type": "code",
   "execution_count": 32,
   "id": "20e09961",
   "metadata": {},
   "outputs": [
    {
     "name": "stdout",
     "output_type": "stream",
     "text": [
      "[True, False, False, False, False]\n",
      "[False, True, False, True, False]\n",
      "[False, False, True, False, False]\n",
      "[False, False, False, True, False]\n",
      "[False, False, False, False, True]\n"
     ]
    }
   ],
   "source": [
    "str = \"forgeeksskeegfor\"\n",
    "str = \"xwowy\"\n",
    "LPS(str)"
   ]
  },
  {
   "cell_type": "markdown",
   "id": "6a417f1d",
   "metadata": {},
   "source": [
    "## Practice Problems"
   ]
  },
  {
   "cell_type": "markdown",
   "id": "32e1eec4",
   "metadata": {},
   "source": [
    "#### Return Largest & Second Largest Element in O(N)"
   ]
  },
  {
   "cell_type": "code",
   "execution_count": 101,
   "id": "fcce5687",
   "metadata": {},
   "outputs": [],
   "source": [
    "def largestAndSecondLargest(arr):\n",
    "\n",
    "        res = arr[0]\n",
    "        second_res = -1\n",
    "    \n",
    "        for x in arr[1:]:\n",
    "            if x > res:\n",
    "                second_res = res\n",
    "                res = x\n",
    "            elif x<res:\n",
    "                if second_res == -1:\n",
    "                    second_res = x\n",
    "                elif x > second_res:\n",
    "                    second_res = x\n",
    "                    \n",
    "        return res,second_res"
   ]
  },
  {
   "cell_type": "code",
   "execution_count": 103,
   "id": "aa672ab5",
   "metadata": {},
   "outputs": [
    {
     "name": "stdout",
     "output_type": "stream",
     "text": [
      "(5, 4)\n",
      "(2, 1)\n",
      "(2, 1)\n",
      "(2, -1)\n"
     ]
    }
   ],
   "source": [
    "arr = [1,2,3,4,5]\n",
    "print(largestAndSecondLargest(arr))\n",
    "\n",
    "arr = [2,2,2,0,2,1]\n",
    "print(largestAndSecondLargest(arr))\n",
    "\n",
    "arr = [2,2,2,1,2,0]\n",
    "print(largestAndSecondLargest(arr))\n",
    "\n",
    "arr = [2,2,2,2,2,2]\n",
    "print(largestAndSecondLargest(arr))\n"
   ]
  },
  {
   "cell_type": "markdown",
   "id": "0586cb72",
   "metadata": {},
   "source": [
    "#### Trap Rainwater"
   ]
  },
  {
   "cell_type": "code",
   "execution_count": 120,
   "id": "538ecc66",
   "metadata": {},
   "outputs": [],
   "source": [
    "def trappingWater(arr,n):\n",
    "    left = [0 for _ in range(n)]\n",
    "    right = [0 for _ in range(n)]\n",
    "    \n",
    "    left[0] = arr[0]\n",
    "    for i in range(1,n):\n",
    "        left[i] = max(left[i-1],arr[i])\n",
    "        \n",
    "    right[-1] = arr[-1]\n",
    "    for i in reversed(range(0,n-1)):\n",
    "        right[i] = max(right[i+1],arr[i])\n",
    "        \n",
    "    total_water = 0\n",
    "    for i in range(n):\n",
    "        total_water += min(left[i],right[i])-arr[i]\n",
    "    \n",
    "    return total_water"
   ]
  },
  {
   "cell_type": "code",
   "execution_count": 121,
   "id": "8f446c11",
   "metadata": {},
   "outputs": [
    {
     "data": {
      "text/plain": [
       "10"
      ]
     },
     "execution_count": 121,
     "metadata": {},
     "output_type": "execute_result"
    }
   ],
   "source": [
    "trappingWater([7,4,0,9],4)"
   ]
  },
  {
   "cell_type": "markdown",
   "id": "69fa212c",
   "metadata": {},
   "source": [
    "#### Phone Keypad Dialing"
   ]
  },
  {
   "cell_type": "code",
   "execution_count": null,
   "id": "42b48867",
   "metadata": {},
   "outputs": [],
   "source": [
    "class Solution:\n",
    "    result = []\n",
    "    key_chars = {\n",
    "        2 : list(\"abc\"), \n",
    "        3 : list(\"def\"),\n",
    "        4 : list(\"ghi\"),\n",
    "        5 : list(\"jkl\"),\n",
    "        6 : list(\"mno\"),\n",
    "        7 : list(\"pqrs\"),\n",
    "        8 : list(\"tuv\"),\n",
    "        9 : list(\"wxyz\")\n",
    "    }\n",
    "    \n",
    "    def get_possible_ways(self, up,p):\n",
    "        # up -> list, p -> String initially empty\n",
    "        if len(up) == 0:\n",
    "            self.result.append(p)\n",
    "            return\n",
    "        \n",
    "        cur_n = up[0]\n",
    "        up = up[1:]\n",
    "        \n",
    "        for ch in self.key_chars[cur_n]:\n",
    "            self.get_possible_ways(up,p+ch)\n",
    "        \n",
    "        \n",
    "    #Function to find list of all words possible by pressing given numbers.\n",
    "    def possibleWords(self,a,N):\n",
    "        self.get_possible_ways(a,\"\")\n",
    "        return self.result"
   ]
  },
  {
   "cell_type": "code",
   "execution_count": null,
   "id": "fea448a8",
   "metadata": {},
   "outputs": [
    {
     "name": "stdout",
     "output_type": "stream",
     "text": [
      "aag aah aai abg abh abi acg ach aci bag bah bai bbg bbh bbi bcg bch bci cag cah cai cbg cbh cbi ccg cch cci aag aah aai abg abh abi acg ach aci bag bah bai bbg bbh bbi bcg bch bci cag cah cai cbg cbh cbi ccg cch cci\n"
     ]
    }
   ],
   "source": [
    "arr = [2,2,4]\n",
    "print(*Solution().possibleWords(arr, len(arr)),sep=\" \")"
   ]
  },
  {
   "cell_type": "markdown",
   "id": "8af87887",
   "metadata": {},
   "source": [
    "#### Print Powerset of String (lexographically ordered)"
   ]
  },
  {
   "cell_type": "markdown",
   "id": "14964276",
   "metadata": {},
   "source": [
    "Not same as SUBSTRING (Here we dont repeat indices but elememts may repeat)"
   ]
  },
  {
   "cell_type": "code",
   "execution_count": 1,
   "id": "c418aa60",
   "metadata": {},
   "outputs": [],
   "source": [
    "# Basically L-> Iteration | You either include cur_index or dont in result | Print once all indices are visited (Either picked or not doesnt matter)\n",
    "def powerSet(S, cur_pick_index, cur_string):\n",
    "    if cur_pick_index == len(S):\n",
    "        print(cur_string)\n",
    "        return \n",
    "    \n",
    "    powerSet(S, cur_pick_index+1, cur_string+ S[cur_pick_index])\n",
    "    powerSet(S, cur_pick_index+1, cur_string)\n",
    "\n"
   ]
  },
  {
   "cell_type": "code",
   "execution_count": 2,
   "id": "057c4ce4",
   "metadata": {},
   "outputs": [],
   "source": [
    "s = \"xxyzz\" # a ab abc ac b bc c\n",
    "\n",
    "powerSet(s, 0,\"\")"
   ]
  },
  {
   "cell_type": "code",
   "execution_count": 57,
   "id": "80465ca4",
   "metadata": {},
   "outputs": [],
   "source": [
    "def powerSet(string , index , curr):\n",
    "     \n",
    "    # string : Stores input string\n",
    "    # curr : Stores current subset\n",
    "    # index : Index in current subset, curr\n",
    "    if index == len(string):\n",
    "        print(curr)\n",
    "        return\n",
    "     \n",
    "    powerSet(string, index + 1,\n",
    "             curr + string[index])\n",
    "    powerSet(string, index + 1, curr)\n",
    "     "
   ]
  },
  {
   "cell_type": "code",
   "execution_count": 3,
   "id": "60845d4b",
   "metadata": {},
   "outputs": [],
   "source": [
    "powerSet(\"xxyzz\",0,\"\")"
   ]
  },
  {
   "cell_type": "markdown",
   "id": "da36e250",
   "metadata": {},
   "source": [
    "#### Maximize Index Distance"
   ]
  },
  {
   "cell_type": "markdown",
   "id": "7d599edb",
   "metadata": {},
   "source": [
    "Given an array A[] of N positive integers. The task is to find the maximum of j - i subjected to the constraint of A[i] < A[j] and i < j.\n",
    "\n",
    "**Solution**\n",
    "1. Sort array based on val n store (idx,val); [(index,val),.......] <br>\n",
    "2. Now automatically the first condition is fulfilled i.e all elements before `x` are less than `x` since we sorted it <br>\n",
    "3. Now traverse this sorted array, n check which index pair gives max distance <br>\n",
    "   At index `i` max_len = cur_index - smallest index before `i` or till `i` <br>"
   ]
  },
  {
   "cell_type": "markdown",
   "id": "374a1d58",
   "metadata": {},
   "source": [
    "DRY RUN\n",
    "1. arr = [34, 8, 10, 3, 2, 80, 30, 33, 1]\n",
    "2. arr = [(0, 34), (1, 8), (2, 10), (3, 3), (4, 2), (5, 80), (6, 30), (7, 33), (8, 1)]\n",
    "3. Sorting acc to values : [(8, 1), (4, 2), (3, 3), (1, 8), (2, 10), (6, 30), (7, 33), (0, 34), (5, 80)]\n",
    "4. Indices : [8, 4, 3, 1, 2, 6, 7, 0, 5]\n",
    "\n",
    "Now in indices find `i,j` such that `j-i` in maximized which is same as <br>\n",
    "For each index `j` find an index before it and lowest -> `j`-`lowest_index_before_j` <br>\n",
    "Here we for sure know that `arr[i]`<=`arr[j]` because array is sorted acc to values first"
   ]
  },
  {
   "cell_type": "code",
   "execution_count": 135,
   "id": "8f915e39",
   "metadata": {},
   "outputs": [],
   "source": [
    "def maxIndexDiff(arr):\n",
    "    arr = list(enumerate(arr)) # [index,val]\n",
    "    print(arr)\n",
    "    arr = sorted(arr, key=lambda x : x[1])\n",
    "    print(arr)\n",
    "\n",
    "    min_index = float('inf')\n",
    "    max_diff = -1\n",
    "\n",
    "    for index, val in arr:\n",
    "        min_index = min(min_index,index)\n",
    "        max_diff = max(max_diff, index-min_index)\n",
    "    \n",
    "    return max_diff\n"
   ]
  },
  {
   "cell_type": "code",
   "execution_count": 136,
   "id": "e2cdecb8",
   "metadata": {},
   "outputs": [
    {
     "name": "stdout",
     "output_type": "stream",
     "text": [
      "[(0, 34), (1, 8), (2, 10), (3, 3), (4, 2), (5, 80), (6, 30), (7, 33), (8, 1)]\n",
      "[(8, 1), (4, 2), (3, 3), (1, 8), (2, 10), (6, 30), (7, 33), (0, 34), (5, 80)]\n"
     ]
    },
    {
     "data": {
      "text/plain": [
       "6"
      ]
     },
     "execution_count": 136,
     "metadata": {},
     "output_type": "execute_result"
    }
   ],
   "source": [
    "arr = [34, 8, 10, 3, 2, 80, 30, 33, 1]\n",
    "maxIndexDiff(arr)"
   ]
  },
  {
   "cell_type": "code",
   "execution_count": 36,
   "id": "764b5e34",
   "metadata": {},
   "outputs": [],
   "source": [
    "def numberOfWays(coins,n,target):\n",
    "    dp = [[0 for _ in range(target+1)] for _ in range(n)]\n",
    "    \n",
    "    for i in range(n):\n",
    "        for j in range(target+1):\n",
    "            if j==0:\n",
    "                dp[i][j] = 1\n",
    "            elif i==0: # only first coin is available -> either same or divisible by coins[0]\n",
    "                dp[i][j] = 1 if coins[0] == j or j%coins[0] == 0 else 0\n",
    "            elif coins[i] > j:\n",
    "                dp[i][j] = dp[i-1][j]\n",
    "            else:\n",
    "                dp[i][j] = dp[i-1][j] + dp[i][j-coins[i]]\n",
    "                \n",
    "    print(*dp,sep=\"\\n\")\n",
    "    return dp[n-1][target]"
   ]
  },
  {
   "cell_type": "code",
   "execution_count": 39,
   "id": "3289156e",
   "metadata": {},
   "outputs": [
    {
     "name": "stdout",
     "output_type": "stream",
     "text": [
      "[1, 1, 1]\n",
      "[1, 1, 2]\n",
      "2\n"
     ]
    }
   ],
   "source": [
    "coins = [1,2]\n",
    "target = 2\n",
    "\n",
    "print(numberOfWays(coins, len(coins), target))\n"
   ]
  },
  {
   "cell_type": "code",
   "execution_count": null,
   "id": "8a3e5234",
   "metadata": {},
   "outputs": [],
   "source": []
  }
 ],
 "metadata": {
  "kernelspec": {
   "display_name": "Python 3 (ipykernel)",
   "language": "python",
   "name": "python3"
  },
  "language_info": {
   "codemirror_mode": {
    "name": "ipython",
    "version": 3
   },
   "file_extension": ".py",
   "mimetype": "text/x-python",
   "name": "python",
   "nbconvert_exporter": "python",
   "pygments_lexer": "ipython3",
   "version": "3.9.7"
  }
 },
 "nbformat": 4,
 "nbformat_minor": 5
}
