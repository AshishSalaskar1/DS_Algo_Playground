{
 "cells": [
  {
   "cell_type": "code",
   "execution_count": 1,
   "id": "c2d5730b-0725-4267-9bf0-cd2eef711567",
   "metadata": {},
   "outputs": [],
   "source": [
    "import numpy as np\n",
    "import pandas as pd\n",
    "from IPython.display import Image, display\n"
   ]
  },
  {
   "cell_type": "markdown",
   "id": "6a782f99",
   "metadata": {},
   "source": [
    "#### Utils"
   ]
  },
  {
   "cell_type": "code",
   "execution_count": 2,
   "id": "416fe34d",
   "metadata": {},
   "outputs": [],
   "source": [
    "def printList(arr):\n",
    "    print(\"DP ARRAY\",*arr, sep=\"\\n\")"
   ]
  },
  {
   "cell_type": "markdown",
   "id": "01b92841",
   "metadata": {
    "tags": [],
    "toc-hr-collapsed": true
   },
   "source": [
    "## Arrays"
   ]
  },
  {
   "cell_type": "markdown",
   "id": "9226da8f",
   "metadata": {},
   "source": [
    "#### Unique No of occurences"
   ]
  },
  {
   "cell_type": "code",
   "execution_count": 10,
   "id": "1b0549ff",
   "metadata": {},
   "outputs": [],
   "source": [
    "def uniqueOccurrences( arr):\n",
    "    hmap = {}\n",
    "    hset = {}\n",
    "    \n",
    "    for num in arr:\n",
    "        hmap[num] = hmap.get(num,0) + 1\n",
    "    \n",
    "    # find if all occurences are unique\n",
    "    occurences = list(hmap.values())\n",
    "    \n",
    "    return len(occurences) == len(set(occurences))\n",
    "    "
   ]
  },
  {
   "cell_type": "markdown",
   "id": "e81bdd47",
   "metadata": {},
   "source": [
    "#### Find all duplicates in array"
   ]
  },
  {
   "cell_type": "markdown",
   "id": "f12c9d73",
   "metadata": {},
   "source": [
    "https://leetcode.com/problems/find-all-duplicates-in-an-array/ <br><br>\n",
    "Given an integer array nums of length n where all the integers of nums are in the range [1, n] and each integer appears once or twice, return an array of all the integers that appears twice. <br>\n",
    "You must write an algorithm that runs in O(n) time and uses only constant extra space. <br><br>\n",
    "**Solution: Use variation of cycle sort** <br>\n",
    "https://leetcode.com/problems/find-all-duplicates-in-an-array/discuss/775738/Python-2-solutions-with-O(n)-timeO(1)-space-explained <br>\n",
    "- You know that list can have number from 1 to N, that means ideal place of each number `N` is `arr[N-1]`(0 based indexing) <br>\n",
    "\n",
    "1. Iterate each ele n check if its in correct place. If else keep on swapping until you are swapping an element which is already present.\n",
    "2. In ideal case, since all nos are unique if you find that num is already in its correct place means its done. But here since we have duplicates we just stop and go to the next.\n",
    "3. Once one iteration is done, iterate once more to check how many items are still not in place (arr[i] = i+1). These are the duplciates"
   ]
  },
  {
   "cell_type": "code",
   "execution_count": 9,
   "id": "e1184ec5",
   "metadata": {},
   "outputs": [],
   "source": [
    "def findDuplicates(arr):\n",
    "    n = len(arr)\n",
    "    \n",
    "    for idx in range(n):\n",
    "        i = idx\n",
    "        if arr[i] == i+1:\n",
    "            continue \n",
    "        else:\n",
    "            while i != arr[i]-1 and arr[i] != arr[arr[i]-1]:\n",
    "                arr[arr[i]-1], arr[i] = arr[i], arr[arr[i]-1]\n",
    "                # arr[i], arr[arr[i]-1] =  arr[arr[i]-1], arr[i] -> GIVES TLE? RIght hand side is cached\n",
    "                \n",
    "    duplicates = []\n",
    "    for i in range(n):\n",
    "        if arr[i] != i+1 :\n",
    "            duplicates.append(arr[i])\n",
    "\n",
    "    return duplicates\n",
    "                \n"
   ]
  },
  {
   "cell_type": "code",
   "execution_count": 12,
   "id": "6e17d046",
   "metadata": {},
   "outputs": [
    {
     "data": {
      "text/plain": [
       "[3, 2]"
      ]
     },
     "execution_count": 12,
     "metadata": {},
     "output_type": "execute_result"
    }
   ],
   "source": [
    "findDuplicates([4,3,2,7,8,2,3,1])"
   ]
  },
  {
   "cell_type": "markdown",
   "id": "12af02ec",
   "metadata": {},
   "source": [
    "#### Pascals Triangle"
   ]
  },
  {
   "cell_type": "code",
   "execution_count": 54,
   "id": "8441a1bf",
   "metadata": {},
   "outputs": [],
   "source": [
    "def pascals_triangle(N):\n",
    "    arr = []\n",
    "    for i in range(1,N+1):\n",
    "        arr.append([1]*i)\n",
    "        if i>2:\n",
    "            for j in range(1,i-1):\n",
    "                arr[-1][j] = arr[-2][j] + arr[-2][j-1]\n",
    "                \n",
    "    return arr\n"
   ]
  },
  {
   "cell_type": "code",
   "execution_count": 55,
   "id": "05f6ef6c",
   "metadata": {},
   "outputs": [
    {
     "name": "stdout",
     "output_type": "stream",
     "text": [
      "DP ARRAY\n",
      "[1]\n",
      "[1, 1]\n",
      "[1, 2, 1]\n",
      "[1, 3, 3, 1]\n",
      "[1, 4, 6, 4, 1]\n"
     ]
    }
   ],
   "source": [
    "printList(pascals_triangle(5))"
   ]
  },
  {
   "cell_type": "markdown",
   "id": "fa31b42c",
   "metadata": {},
   "source": [
    "#### Sort 0 & 1"
   ]
  },
  {
   "cell_type": "code",
   "execution_count": 4,
   "id": "c7904455",
   "metadata": {},
   "outputs": [],
   "source": [
    "def sort_01(arr):\n",
    "    n = len(arr)\n",
    "    zero_ptr = 0\n",
    "    one_ptr = n-1\n",
    "    cur = 0\n",
    "\n",
    "    while cur < one_ptr:\n",
    "        if arr[cur] == 1:\n",
    "            arr[cur], arr[one_ptr] = arr[one_ptr], arr[cur] \n",
    "            one_ptr -= 1\n",
    "        else:\n",
    "            cur += 1\n",
    "    return arr"
   ]
  },
  {
   "cell_type": "code",
   "execution_count": 6,
   "id": "d7c0badb",
   "metadata": {},
   "outputs": [
    {
     "name": "stdout",
     "output_type": "stream",
     "text": [
      "[0, 0, 0, 0, 0, 0, 1, 1, 1]\n",
      "[0, 0, 0, 0, 1, 1, 1, 1]\n",
      "[0, 0, 0, 0, 1, 1, 1]\n"
     ]
    }
   ],
   "source": [
    "arr = [1,0,0,1,0,1,0,0,0]\n",
    "print(sort_01(arr))\n",
    "\n",
    "arr = [1,1,1,1,0,0,0,0]\n",
    "print(sort_01(arr))\n",
    "\n",
    "arr = [0,0,0,0,1,1,1]\n",
    "print(sort_01(arr))"
   ]
  },
  {
   "cell_type": "markdown",
   "id": "d18eaf65",
   "metadata": {},
   "source": [
    "#### Dutch National Flag / Sort 0,1,2"
   ]
  },
  {
   "cell_type": "code",
   "execution_count": 101,
   "id": "ece5fdc8",
   "metadata": {},
   "outputs": [],
   "source": [
    "def DNF(arr):\n",
    "    '''\n",
    "    lo, cur, hi <- cur iterates and swaps...\n",
    "    0s in between : 0<->lo\n",
    "    2s in between : hi<->N\n",
    "    1s get auto-filles betwwen lo<->hi\n",
    "    At any points.. i<lo : 0s filled, i>hi : 2s filled\n",
    "    '''\n",
    "\n",
    "    lo = cur = 0\n",
    "    hi = len(arr)-1\n",
    "\n",
    "    while cur <= hi: # mid>hi, stop(everything after hi is already 2)\n",
    "        if arr[cur] == 0:\n",
    "            arr[lo],arr[cur] = arr[cur], arr[lo]\n",
    "            lo += 1\n",
    "            cur += 1\n",
    "        elif arr[cur] == 2:\n",
    "            arr[cur],arr[hi] = arr[hi], arr[cur]\n",
    "            hi -= 1 # dont increment cur. Why? -> you dont know what hi holds [Becuase like lo we cant be sure it is 0]\n",
    "        else:\n",
    "            cur += 1\n",
    "    return arr\n"
   ]
  },
  {
   "cell_type": "code",
   "execution_count": 103,
   "id": "2108f371",
   "metadata": {},
   "outputs": [
    {
     "name": "stdout",
     "output_type": "stream",
     "text": [
      "[0, 0, 0, 0, 0, 1, 1, 2, 2, 2]\n"
     ]
    }
   ],
   "source": [
    "arr = [0,2,1,2,1,0,0,0,0,2]\n",
    "print(DNF(arr))"
   ]
  },
  {
   "cell_type": "markdown",
   "id": "51b778bb",
   "metadata": {},
   "source": [
    "#### Kadanes Algorithm / Maximum Subarray"
   ]
  },
  {
   "cell_type": "code",
   "execution_count": 6,
   "id": "369800ce",
   "metadata": {},
   "outputs": [],
   "source": [
    "def kadanes(arr):\n",
    "    n = len(arr)\n",
    "    res = arr[0]\n",
    "    c_sum = 0\n",
    "\n",
    "    for cur in arr:\n",
    "        c_sum += cur\n",
    "        res = max(res, c_sum)    \n",
    "        if c_sum < 0:\n",
    "            c_sum = 0\n",
    "    return res"
   ]
  },
  {
   "cell_type": "code",
   "execution_count": 7,
   "id": "82830f35",
   "metadata": {},
   "outputs": [
    {
     "data": {
      "text/plain": [
       "6"
      ]
     },
     "execution_count": 7,
     "metadata": {},
     "output_type": "execute_result"
    }
   ],
   "source": [
    "nums = [-2,1,-3,4,-1,2,1,-5,4] # res  = 6\n",
    "kadanes(nums)"
   ]
  },
  {
   "cell_type": "markdown",
   "id": "c7b0641e",
   "metadata": {},
   "source": [
    "#### POW(X,n)"
   ]
  },
  {
   "cell_type": "code",
   "execution_count": 8,
   "id": "850d258a",
   "metadata": {},
   "outputs": [],
   "source": [
    "def power(x,n):\n",
    "    res = 1\n",
    "    base = x\n",
    "\n",
    "    while n>0:\n",
    "        if n%2 == 0: # even power\n",
    "            n = n//2\n",
    "            base = base ** 2\n",
    "        else:   # odd power\n",
    "            res = res * base\n",
    "            n = n-1\n",
    "    return res"
   ]
  },
  {
   "cell_type": "code",
   "execution_count": 12,
   "id": "9f8ccf63",
   "metadata": {},
   "outputs": [
    {
     "data": {
      "text/plain": [
       "32768"
      ]
     },
     "execution_count": 12,
     "metadata": {},
     "output_type": "execute_result"
    }
   ],
   "source": [
    "power(2,15)"
   ]
  },
  {
   "cell_type": "markdown",
   "id": "d4ebd9e3",
   "metadata": {},
   "source": [
    "#### Find the Duplicate Number in N+1"
   ]
  },
  {
   "cell_type": "markdown",
   "id": "79660cb2",
   "metadata": {},
   "source": [
    "https://leetcode.com/problems/find-the-duplicate-number/"
   ]
  },
  {
   "cell_type": "code",
   "execution_count": 17,
   "id": "df39988c",
   "metadata": {},
   "outputs": [],
   "source": [
    "def findDuplicate(nums):\n",
    "    res = 0\n",
    "    for i,x in enumerate(nums):\n",
    "        if i>0:\n",
    "            res = res^i\n",
    "        res = res^x\n",
    "    return res"
   ]
  },
  {
   "cell_type": "code",
   "execution_count": 18,
   "id": "c612c9a1",
   "metadata": {},
   "outputs": [
    {
     "data": {
      "text/plain": [
       "4"
      ]
     },
     "execution_count": 18,
     "metadata": {},
     "output_type": "execute_result"
    }
   ],
   "source": [
    "findDuplicate([1,2,3,4,4])"
   ]
  },
  {
   "cell_type": "markdown",
   "id": "fbc41b15",
   "metadata": {},
   "source": [
    "#### Longest Subarray with 0 sum"
   ]
  },
  {
   "cell_type": "markdown",
   "id": "f5d652f3",
   "metadata": {},
   "source": [
    "https://bit.ly/31UHoeM <br>\n",
    "https://practice.geeksforgeeks.org/problems/largest-subarray-with-0-sum/1"
   ]
  },
  {
   "cell_type": "code",
   "execution_count": null,
   "id": "b7d6611e",
   "metadata": {},
   "outputs": [],
   "source": []
  },
  {
   "cell_type": "markdown",
   "id": "879016a3",
   "metadata": {},
   "source": [
    "#### Squares of sorted array"
   ]
  },
  {
   "cell_type": "markdown",
   "id": "db5ea70f",
   "metadata": {},
   "source": [
    "https://leetcode.com/problems/squares-of-a-sorted-array/"
   ]
  },
  {
   "cell_type": "code",
   "execution_count": 30,
   "id": "2c0bc521",
   "metadata": {},
   "outputs": [],
   "source": [
    "def squares_sorted_array(arr):\n",
    "        n = len(arr)\n",
    "\n",
    "        start = 0\n",
    "        end = n-1\n",
    "        res_index = n-1 # in each step you compare the extremes -> take the max one and out it in the last index and dccrement that index\n",
    "        res = [0]*n\n",
    "\n",
    "        while start <= end: \n",
    "            if arr[start]**2 > arr[end]**2: # You picked the first element as max\n",
    "                res[res_index] = arr[start]**2\n",
    "                start += 1\n",
    "            else: # you picked the last element as max\n",
    "                res[res_index]  = arr[end]**2\n",
    "                end -=1 \n",
    "            \n",
    "            res_index -=1 \n",
    "\n",
    "\n",
    "        return res"
   ]
  },
  {
   "cell_type": "code",
   "execution_count": 31,
   "id": "38c1458f",
   "metadata": {},
   "outputs": [
    {
     "data": {
      "text/plain": [
       "[1, 4, 9, 16, 100]"
      ]
     },
     "execution_count": 31,
     "metadata": {},
     "output_type": "execute_result"
    }
   ],
   "source": [
    "arr = [-10,-3,1,2,4]\n",
    "squares_sorted_array(arr)"
   ]
  },
  {
   "cell_type": "markdown",
   "id": "e387a462",
   "metadata": {},
   "source": [
    "#### Rotate Array"
   ]
  },
  {
   "cell_type": "code",
   "execution_count": 59,
   "id": "19f8b776",
   "metadata": {},
   "outputs": [],
   "source": [
    "def reverse_array(arr, start=None, end=None):\n",
    "    n = len(arr)\n",
    "    lo = start if start else 0\n",
    "    hi = end-1 if end else n-1\n",
    "    while lo < hi:\n",
    "        arr[lo], arr[hi] = arr[hi], arr[lo]\n",
    "        lo += 1\n",
    "        hi -= 1\n",
    "    return arr\n",
    "\n",
    "def rotate_array(arr, k):\n",
    "    n = len(arr)\n",
    "    k = k%n # if k>n\n",
    "    res = reverse_array(arr[:n-k]) + reverse_array(arr[k+1:])\n",
    "    return reverse_array(res)\n"
   ]
  },
  {
   "cell_type": "code",
   "execution_count": 60,
   "id": "c2139aa6",
   "metadata": {},
   "outputs": [
    {
     "data": {
      "text/plain": [
       "[5, 6, 7, 1, 2, 3, 4]"
      ]
     },
     "execution_count": 60,
     "metadata": {},
     "output_type": "execute_result"
    }
   ],
   "source": [
    "arr = [1,2,3,4,5,6,7]\n",
    "k =3 \n",
    "\n",
    "rotate_array(arr, k)\n"
   ]
  },
  {
   "cell_type": "markdown",
   "id": "26bce432",
   "metadata": {},
   "source": [
    "#### Move Zeros"
   ]
  },
  {
   "cell_type": "markdown",
   "id": "807875d1",
   "metadata": {},
   "source": [
    "Move all zeros to end -> Can you do it in INPLACE + O(N) TC and O(1) SC"
   ]
  },
  {
   "cell_type": "code",
   "execution_count": 62,
   "id": "3fbbea37",
   "metadata": {},
   "outputs": [],
   "source": [
    "def move_zeros(arr):\n",
    "    n = len(arr)\n",
    "    zero_ptr = 0\n",
    "\n",
    "    for i in range(n):\n",
    "        if arr[i] != 0:\n",
    "            arr[i], arr[zero_ptr] = arr[zero_ptr], arr[i]\n",
    "            zero_ptr += 1\n",
    "    \n",
    "    for i in range(zero_ptr,n):\n",
    "        arr[i] = 0\n",
    "\n",
    "    return arr"
   ]
  },
  {
   "cell_type": "code",
   "execution_count": 64,
   "id": "74379c6c",
   "metadata": {},
   "outputs": [
    {
     "name": "stdout",
     "output_type": "stream",
     "text": [
      "[1, 2, 4, 67, 0, 0]\n",
      "[4, 1, 2, 10, 0, 0]\n"
     ]
    }
   ],
   "source": [
    "arr = [0,1,0,2,4,67]\n",
    "print(move_zeros(arr))\n",
    "arr = [4,1,0,2,0,10]\n",
    "print(move_zeros(arr))"
   ]
  },
  {
   "cell_type": "markdown",
   "id": "fe2bb9ab",
   "metadata": {},
   "source": [
    "#### Two Sum in sorted array"
   ]
  },
  {
   "cell_type": "markdown",
   "id": "355be89f",
   "metadata": {},
   "source": [
    "https://leetcode.com/problems/two-sum-ii-input-array-is-sorted/"
   ]
  },
  {
   "cell_type": "code",
   "execution_count": 67,
   "id": "074454fe",
   "metadata": {},
   "outputs": [],
   "source": [
    "def two_sum_sorted(arr, target):\n",
    "    n = len(arr)\n",
    "    lo = 0 \n",
    "    hi = n-1\n",
    "\n",
    "    while lo<hi:\n",
    "        cSum = arr[lo]+arr[hi]\n",
    "\n",
    "        if cSum == target:\n",
    "            return lo,hi\n",
    "        elif cSum > target:\n",
    "            hi -= 1\n",
    "        else:\n",
    "            lo += 1\n",
    "    return -1,-1"
   ]
  },
  {
   "cell_type": "code",
   "execution_count": 68,
   "id": "e1e494f7",
   "metadata": {},
   "outputs": [
    {
     "data": {
      "text/plain": [
       "(0, 1)"
      ]
     },
     "execution_count": 68,
     "metadata": {},
     "output_type": "execute_result"
    }
   ],
   "source": [
    "arr = [2,7,11,15]\n",
    "two_sum_sorted(arr, 9)"
   ]
  },
  {
   "cell_type": "markdown",
   "id": "f32da118",
   "metadata": {},
   "source": [
    "#### Flood Fill"
   ]
  },
  {
   "cell_type": "markdown",
   "id": "b3a96290",
   "metadata": {},
   "source": [
    "Given a new color, fill all pixeks connected with same color [4 way directions]"
   ]
  },
  {
   "cell_type": "code",
   "execution_count": 11,
   "id": "b062b277",
   "metadata": {},
   "outputs": [],
   "source": [
    "class FF:\n",
    "    def __init__(self, arr, i, j, fill_color):\n",
    "        self.arr = arr\n",
    "        self.nr = len(arr)\n",
    "        self.nc = len(arr[0])\n",
    "        self.vis = [[False for _ in range(self.nc)] for _ in range(self.nr)]\n",
    "        \n",
    "        self.flood_fill(i, j, arr[i][j], fill_color)\n",
    "        printList(self.arr)\n",
    "    \n",
    "    def isValid(self, i, j):\n",
    "        return i>=0 and i<self.nr and j>=0 and j<self.nc   \n",
    "\n",
    "    def flood_fill(self, i,j,old_color, new_color):\n",
    "        if self.isValid(i,j) and not self.vis[i][j] and self.arr[i][j] == old_color:\n",
    "            self.arr[i][j] = new_color\n",
    "            self.vis[i][j] = True\n",
    "        \n",
    "            # Explore all four directions\n",
    "            self.flood_fill(i+1,j,old_color, new_color)\n",
    "            self.flood_fill(i-1,j,old_color, new_color)\n",
    "            self.flood_fill(i,j+1,old_color, new_color)\n",
    "            self.flood_fill(i,j-1,old_color, new_color)\n",
    "            "
   ]
  },
  {
   "cell_type": "code",
   "execution_count": 13,
   "id": "284e82e0",
   "metadata": {},
   "outputs": [
    {
     "name": "stdout",
     "output_type": "stream",
     "text": [
      "DP ARRAY\n",
      "[0, 0, 0]\n",
      "[0, 1, 1]\n"
     ]
    },
    {
     "data": {
      "text/plain": [
       "<__main__.FF at 0x179e21ac7f0>"
      ]
     },
     "execution_count": 13,
     "metadata": {},
     "output_type": "execute_result"
    }
   ],
   "source": [
    "arr = [\n",
    "    [1,1,1],\n",
    "    [1,1,0],\n",
    "    [1,0,1]\n",
    "]\n",
    "\n",
    "arr = [[0,0,0],[0,1,1]]\n",
    "\n",
    "FF(arr, 1,1,1)"
   ]
  },
  {
   "cell_type": "markdown",
   "id": "9a612db9",
   "metadata": {},
   "source": [
    "#### Longest Common Prefix"
   ]
  },
  {
   "cell_type": "markdown",
   "id": "23a46a44",
   "metadata": {},
   "source": [
    "https://leetcode.com/problems/longest-common-prefix/submissions/"
   ]
  },
  {
   "cell_type": "code",
   "execution_count": 14,
   "id": "bb30fb2d",
   "metadata": {},
   "outputs": [],
   "source": [
    "# BRUTE FORCE O(N*N)\n",
    "\n",
    "def longestCommonPrefix(strs):\n",
    "        prev_word = strs[0]\n",
    "        \n",
    "        if len(strs) == 1:\n",
    "            return strs[0]\n",
    "        \n",
    "        for word in strs[1:]:\n",
    "            i,j = 0, 0\n",
    "            prefix = \"\"\n",
    "            while i<len(word) and j<len(prev_word) and word[i]==prev_word[j]:\n",
    "                prefix += word[i]\n",
    "                i += 1\n",
    "                j += 1\n",
    "            prev_word = prefix\n",
    "                \n",
    "        return prefix"
   ]
  },
  {
   "cell_type": "code",
   "execution_count": 15,
   "id": "31edb8ef",
   "metadata": {},
   "outputs": [],
   "source": [
    "# O(N*logN) + N\n",
    "\n",
    "def longestCommonPrefix(strs):\n",
    "    strs = sorted(strs)\n",
    "    \n",
    "    first = strs[0]\n",
    "    last = strs[-1]\n",
    "    \n",
    "    res = \"\"\n",
    "    for i in range(len(first)):\n",
    "        if first[i] == last[i]:\n",
    "            res += first[i]\n",
    "        else:\n",
    "            break\n",
    "    return res\n",
    "        \n",
    "            \n",
    "        "
   ]
  },
  {
   "cell_type": "code",
   "execution_count": 16,
   "id": "4330ba6d",
   "metadata": {},
   "outputs": [
    {
     "name": "stdout",
     "output_type": "stream",
     "text": [
      "flow\n",
      "\n",
      "fl\n"
     ]
    }
   ],
   "source": [
    "arr = [\"flower\",\"flow\",\"flowight\"]\n",
    "print(longestCommonPrefix(arr))\n",
    "\n",
    "arr = [\"dog\",\"racecar\",\"car\"]\n",
    "print(longestCommonPrefix(arr))\n",
    "\n",
    "arr = [\"flower\",\"flow\",\"flight\"]\n",
    "print(longestCommonPrefix(arr))\n"
   ]
  },
  {
   "cell_type": "markdown",
   "id": "d279db98",
   "metadata": {},
   "source": [
    "#### Max Subarray Sum"
   ]
  },
  {
   "cell_type": "markdown",
   "id": "dd489eda",
   "metadata": {},
   "source": [
    "Cant use Kadanes, as it gives min sum as 0 and doesnt take into consideration negative sums <br>\n",
    "This handles even when all elements are -ve -> max_sum also wud be negative"
   ]
  },
  {
   "cell_type": "code",
   "execution_count": 1,
   "id": "6b0c4ae1",
   "metadata": {},
   "outputs": [],
   "source": [
    "def max_subarray_sum(arr):\n",
    "    max_so_far = arr[0]\n",
    "    max_ending_here = arr[0]\n",
    "\n",
    "    for x in arr[1:]:\n",
    "        max_ending_here = max(max_ending_here+x,x) # either include this ele or take only this ele\n",
    "        max_so_far = max(max_so_far, max_ending_here)\n",
    "    \n",
    "    return max_so_far"
   ]
  },
  {
   "cell_type": "code",
   "execution_count": 2,
   "id": "5063521d",
   "metadata": {},
   "outputs": [
    {
     "name": "stdout",
     "output_type": "stream",
     "text": [
      "7\n",
      "-1\n"
     ]
    }
   ],
   "source": [
    "arr = [-2, -3, 4, -1, -2, 1, 5, -3]\n",
    "print(max_subarray_sum(arr))\n",
    "\n",
    "arr = [-2, -3, -4, -1, -2, -11, -5, -3]\n",
    "print(max_subarray_sum(arr))"
   ]
  },
  {
   "cell_type": "markdown",
   "id": "c76dc6a0",
   "metadata": {},
   "source": [
    "#### Maximum Length Even Odd subarray"
   ]
  },
  {
   "cell_type": "markdown",
   "id": "b3c02a12",
   "metadata": {},
   "source": [
    "Same approach as Kadanes,\n",
    "At each step check if you can continue the previous subarray (even odd length),\n",
    "If you cant do so, then reset length and start the new Even-Odd subarray from current position "
   ]
  },
  {
   "cell_type": "code",
   "execution_count": 3,
   "id": "0cfb7d31",
   "metadata": {},
   "outputs": [],
   "source": [
    "def max_even_odd_subarray(arr):\n",
    "    n = len(arr)\n",
    "    res = 1\n",
    "    cur_len = 1\n",
    "\n",
    "    for i in range(n):\n",
    "        # check if cur element can be added to older sequence\n",
    "        if (arr[i]%2 == 0 and arr[i-1]%2 != 0) or (arr[i]%2 != 0 and arr[i-1]%2 == 0): # can be added\n",
    "            cur_len += 1\n",
    "            res = max(res, cur_len)\n",
    "        else: #start new subarray from here\n",
    "            cur_len = 1\n",
    "    return res\n"
   ]
  },
  {
   "cell_type": "code",
   "execution_count": 4,
   "id": "366f7b9a",
   "metadata": {},
   "outputs": [
    {
     "name": "stdout",
     "output_type": "stream",
     "text": [
      "3\n"
     ]
    }
   ],
   "source": [
    "arr = [5, 10, 20, 6, 3, 8]\n",
    "print(max_even_odd_subarray(arr))"
   ]
  },
  {
   "cell_type": "markdown",
   "id": "8f496a08",
   "metadata": {},
   "source": [
    "#### Maximum Circular Subarray Sum"
   ]
  },
  {
   "cell_type": "markdown",
   "id": "e7c1d5a1",
   "metadata": {},
   "source": [
    "arr = [1,2,-2,4,5] -> you can use join last and first -> [4,5,1,2,-2] <br>\n",
    "Max = MAX(Max of normal array, max of circular subarray)<br>\n",
    "\n",
    "`max of circular subarray` = `SUM` - `min_value_subarray in between`<br>\n",
    "\n",
    "[1,2,-2,4,5] -> min is -2 -> [1,2] -2 [4,5] -> you can reverse and add [5,4,1,2] <br>\n",
    "[1,2,-4,2,-6,4,5] -> min = [-2, 2, -6] = -8 -> [1,2][-4,2,-6][4,5] -> [5,4,1,2,] <br><br>\n",
    "In some case you get better sum in normal subarray, (so we take max of both)<br>\n",
    "[-2,4,4,4,4,-8] <br>\n",
    "In this case our circular sum would fail -> min would be [-8] <br>\n",
    "But in this case our normal sum would work and handle this case <br>"
   ]
  },
  {
   "cell_type": "code",
   "execution_count": 5,
   "id": "9806c52d",
   "metadata": {},
   "outputs": [
    {
     "data": {
      "text/plain": [
       "-2"
      ]
     },
     "execution_count": 5,
     "metadata": {},
     "output_type": "execute_result"
    }
   ],
   "source": [
    "def max_subarray_sum(arr):\n",
    "    max_so_far = arr[0]\n",
    "    max_ending_here = arr[0]\n",
    "\n",
    "    for x in arr[1:]:\n",
    "        max_ending_here = max(max_ending_here+x,x) # either include this ele or take only this ele\n",
    "        max_so_far = max(max_so_far, max_ending_here)\n",
    "    \n",
    "    return max_so_far \n",
    "    \n",
    "def min_subarray_sum(arr):\n",
    "    min_till_now = arr[0]\n",
    "    cur_min = arr[0]\n",
    "\n",
    "    for x in arr[1:]:\n",
    "        cur_min = min(cur_min+x, x)\n",
    "        min_till_now = min(cur_min, min_till_now)\n",
    "        \n",
    "    return min_till_now\n",
    "\n",
    "arr = [1,2,-2,4,5]\n",
    "min_subarray_sum(arr)"
   ]
  },
  {
   "cell_type": "code",
   "execution_count": 6,
   "id": "67649b79",
   "metadata": {},
   "outputs": [],
   "source": [
    "def min_circular_subarray_sum(arr):\n",
    "    max_normal = max_subarray_sum(arr)\n",
    "\n",
    "    min_sum = min_subarray_sum(arr)\n",
    "    max_circular = sum(arr) - min_sum\n",
    "\n",
    "    # if circular = 0, means it picked all ele as min_sub_array (you need to pick interior min and circular join outer ones which isnt possible here)\n",
    "    if max_circular == 0: \n",
    "        return max_normal\n",
    "\n",
    "    return max(max_normal, max_circular)"
   ]
  },
  {
   "cell_type": "code",
   "execution_count": 7,
   "id": "c51b72ac",
   "metadata": {},
   "outputs": [
    {
     "name": "stdout",
     "output_type": "stream",
     "text": [
      "[1, 2, -2, 4, 5] 12\n",
      "[-1, 2, 10, 4, -5] 16\n",
      "[-12, -14] -12\n"
     ]
    }
   ],
   "source": [
    "arr = [1,2,-2,4,5] # In this case we get better result by rotating array -> [|4,5,1,2|-2]\n",
    "print(arr, min_circular_subarray_sum(arr))\n",
    "\n",
    "arr = [-1,2,10,4,-5] # in this case we get better result from normal array instead of circular one -> [-1,|2,10,4|,-5]\n",
    "print(arr, min_circular_subarray_sum(arr))\n",
    "\n",
    "\n",
    "arr = [-12, -14] \n",
    "print(arr, min_circular_subarray_sum(arr))"
   ]
  },
  {
   "cell_type": "markdown",
   "id": "f93d2856",
   "metadata": {},
   "source": [
    "#### 3-Sum No Duplicates"
   ]
  },
  {
   "cell_type": "markdown",
   "id": "40d8020c",
   "metadata": {},
   "source": [
    "No duplicate triplets are allowed <Br>\n",
    "Duplicate elements if present in array can be used"
   ]
  },
  {
   "cell_type": "markdown",
   "id": "24629972",
   "metadata": {},
   "source": [
    "#####  HashSet to remove duplicates"
   ]
  },
  {
   "cell_type": "code",
   "execution_count": 8,
   "id": "ecdd7f14",
   "metadata": {},
   "outputs": [],
   "source": [
    "\n",
    "def threeSum(arr):\n",
    "    n = len(arr)\n",
    "    target = 0\n",
    "    arr = sorted(arr)\n",
    "    res = set()\n",
    "    \n",
    "    for i in range(n-2):\n",
    "        val = arr[i]\n",
    "        \n",
    "        lo =  i+1\n",
    "        hi = n-1\n",
    "        while lo<hi:\n",
    "            c_sum = val + arr[lo] + arr[hi]\n",
    "            if c_sum == target:\n",
    "                res.add((val, arr[lo], arr[hi]))\n",
    "                lo += 1\n",
    "                hi -=1\n",
    "            elif c_sum > target:\n",
    "                hi -= 1\n",
    "            else:\n",
    "                lo += 1\n",
    "    return res"
   ]
  },
  {
   "cell_type": "code",
   "execution_count": 9,
   "id": "9edd76cc",
   "metadata": {},
   "outputs": [
    {
     "data": {
      "text/plain": [
       "{(-1, -1, 2), (-1, 0, 1)}"
      ]
     },
     "execution_count": 9,
     "metadata": {},
     "output_type": "execute_result"
    }
   ],
   "source": [
    "arr = [-1,0,1,2,-1,-4]\n",
    "threeSum(arr)"
   ]
  },
  {
   "cell_type": "markdown",
   "id": "e312d5ee",
   "metadata": {},
   "source": [
    "##### Without using Hashset -> Handle implicitly in code"
   ]
  },
  {
   "cell_type": "code",
   "execution_count": null,
   "id": "ed3333d9",
   "metadata": {},
   "outputs": [],
   "source": [
    "\n",
    "def threeSum(arr):\n",
    "    n = len(arr)\n",
    "    target = 0\n",
    "    arr = sorted(arr)\n",
    "    res = []\n",
    "    \n",
    "    #  [-1,0,1,2,-1,-4] -> [-4, -1, -1, 0, 1, 2]\n",
    "    \n",
    "    for i in range(n-2):\n",
    "        if i!=0 and arr[i]==arr[i-1]: # if same ele was seen before ignore (why i-1? sorted array)\n",
    "            continue\n",
    "        val = arr[i]\n",
    "        \n",
    "        lo =  i+1\n",
    "        hi = n-1\n",
    "        while lo<hi:\n",
    "            c_sum = val + arr[lo] + arr[hi]\n",
    "            if c_sum == target:\n",
    "                res.append((val, arr[lo], arr[hi]))\n",
    "                \n",
    "                # [0,1,lo=2,2,2,3,4,5,6,hi=6,7] let say you got needed ans=6, then next you need lo=3, hi=5\n",
    "                while lo<hi and arr[lo]==arr[lo+1]: # increment until lo is not same as ans\n",
    "                    lo += 1\n",
    "                while lo<hi and arr[hi]==arr[hi-1]: # increment until hi is not same as ans\n",
    "                    hi -= 1\n",
    "                \n",
    "                lo += 1\n",
    "                hi -=1\n",
    "            elif c_sum > target:\n",
    "                hi -= 1\n",
    "            else:\n",
    "                lo += 1\n",
    "    return res"
   ]
  },
  {
   "cell_type": "code",
   "execution_count": 10,
   "id": "855f3aa3",
   "metadata": {},
   "outputs": [
    {
     "data": {
      "text/plain": [
       "{(-1, -1, 2), (-1, 0, 1)}"
      ]
     },
     "execution_count": 10,
     "metadata": {},
     "output_type": "execute_result"
    }
   ],
   "source": [
    "arr = [-1,0,1,2,-1,-4]\n",
    "threeSum(arr)"
   ]
  },
  {
   "cell_type": "markdown",
   "id": "85115d10",
   "metadata": {},
   "source": [
    "#### 4-Sum No duplicates"
   ]
  },
  {
   "cell_type": "markdown",
   "id": "dd8d3509",
   "metadata": {},
   "source": [
    "No duplicate indices are allowed but elements with different index but same value are fine <br>\n",
    "[2,2,2,2,2] target=8 | result = [2,2,2,2] <br>\n",
    "\n",
    "`USE HASHSET APPROACH ONLY`"
   ]
  },
  {
   "cell_type": "markdown",
   "id": "9523a338",
   "metadata": {},
   "source": [
    "##### Using Hashset"
   ]
  },
  {
   "cell_type": "code",
   "execution_count": 11,
   "id": "4be5f6d3",
   "metadata": {},
   "outputs": [],
   "source": [
    "class FourSolution:\n",
    "    def threeSum(self, arr, target):\n",
    "        n = len(arr)\n",
    "        res = set()\n",
    "        \n",
    "        for i in range(n-2):\n",
    "            val = arr[i]\n",
    "            \n",
    "            lo =  i+1\n",
    "            hi = n-1\n",
    "            while lo<hi:\n",
    "                c_sum = val + arr[lo] + arr[hi]\n",
    "                if c_sum == target:\n",
    "                    res.add((val, arr[lo], arr[hi]))\n",
    "                    lo += 1\n",
    "                    hi -=1\n",
    "                elif c_sum > target:\n",
    "                    hi -= 1\n",
    "                else:\n",
    "                    lo += 1\n",
    "        return res\n",
    "        \n",
    "    def fourSum(self, arr, target):\n",
    "        res = set()\n",
    "        arr = sorted(arr)\n",
    "        \n",
    "        for i in range(len(arr)-3):\n",
    "            x = arr[i]\n",
    "            rem_target = target-x\n",
    "            temp_res = self.threeSum(arr[i+1:], rem_target)\n",
    "            \n",
    "            for tup in temp_res:\n",
    "                res.add((x,*tup))\n",
    "        return res\n",
    "        "
   ]
  },
  {
   "cell_type": "code",
   "execution_count": 12,
   "id": "8b99eb12",
   "metadata": {},
   "outputs": [
    {
     "name": "stdout",
     "output_type": "stream",
     "text": [
      "{(-2, -1, 1, 2), (-1, 0, 0, 1), (-2, 0, 0, 2)}\n",
      "{(2, 2, 2, 2)}\n"
     ]
    }
   ],
   "source": [
    "arr = [1,0,-1,0,-2,2]\n",
    "print(FourSolution().fourSum(arr,target=0))\n",
    "\n",
    "arr = [2,2,2,2,2]\n",
    "print(FourSolution().fourSum(arr,target=8))"
   ]
  },
  {
   "cell_type": "markdown",
   "id": "7bcd4d13",
   "metadata": {},
   "source": [
    "#### Minimum Group Flips to make Same [Binary Array]"
   ]
  },
  {
   "cell_type": "markdown",
   "id": "4fd4f8d9",
   "metadata": {},
   "source": [
    "**Direct Answer Trick** <br>\n",
    "1. **Lowest flip group** -> element that occurs second (0 or 1) <br>\n",
    "So just check which elements appears second n print all its groups \n",
    "2. abs((no of groups of `0`) - (no of groups of `1`)) = `0` or `1`\n"
   ]
  },
  {
   "cell_type": "code",
   "execution_count": 13,
   "id": "ca31ebec",
   "metadata": {},
   "outputs": [],
   "source": [
    "def min_group_flips(arr):\n",
    "    counts = [0,0]\n",
    "    counts[arr[0]] = 1\n",
    "\n",
    "    for i in range(1,len(arr)):\n",
    "        if arr[i] == arr[i-1]:\n",
    "            continue\n",
    "        else:\n",
    "            counts[arr[i]] += 1\n",
    "    return min(counts)\n"
   ]
  },
  {
   "cell_type": "code",
   "execution_count": 14,
   "id": "2a6369fa",
   "metadata": {},
   "outputs": [],
   "source": [
    "def min_group_flips_with_index(arr):\n",
    "    n = len(arr)\n",
    "    flips = {0:[], 1:[]}\n",
    "    \n",
    "    cur_ele = arr[0]\n",
    "    cur_start_index = 0\n",
    "\n",
    "    for i in range(1,n):\n",
    "        if arr[i] == arr[i-1]:\n",
    "            continue\n",
    "        else: # old streak broken | start new streak \n",
    "            flips[cur_ele].append((cur_start_index,i-1))\n",
    "            cur_start_index = i # reset index\n",
    "            cur_ele = arr[i] # reset curEle\n",
    "            \n",
    "    flips[cur_ele].append((cur_start_index,n-1))\n",
    "\n",
    "    count_flips = [len(flips[key]) for key in [0,1]]\n",
    "    result = 0 if count_flips[0] < count_flips[1] else 1\n",
    "    \n",
    "    return (result, count_flips[result], flips[result])\n",
    "\n",
    "\n",
    "    "
   ]
  },
  {
   "cell_type": "code",
   "execution_count": 15,
   "id": "ac970a1f",
   "metadata": {},
   "outputs": [
    {
     "name": "stdout",
     "output_type": "stream",
     "text": [
      "1\n",
      "(0, 1, [(2, 4)])\n",
      "2\n",
      "(0, 2, [(1, 3), (5, 6)])\n"
     ]
    }
   ],
   "source": [
    "arr = [1,1,0,0,0,1] # res = 1 [2:4]\n",
    "print(min_group_flips(arr))\n",
    "print(min_group_flips_with_index(arr))\n",
    "\n",
    "arr = [1,0,0,0,1,0,0,1,1,1,1] # res = 2 [1:3, 5:6]\n",
    "print(min_group_flips(arr))\n",
    "print(min_group_flips_with_index(arr))\n"
   ]
  },
  {
   "cell_type": "markdown",
   "id": "c3d435cf",
   "metadata": {},
   "source": [
    "#### Check if array is sorted and rotated"
   ]
  },
  {
   "cell_type": "markdown",
   "id": "e400aaa2",
   "metadata": {},
   "source": [
    "https://practice.geeksforgeeks.org/problems/check-if-array-is-sorted-and-rotated-clockwise <br>\n",
    "Here return True iff array is sorted(increasing or decreasing) AND rotated<br><br>\n",
    "\n",
    "**Logic**<br>\n",
    "If array is sorted(normal/reverse) and rotated then, we know that there will be only one error/mismatch (at point of rotation)<br>\n",
    "1. In proper sort -> at one place you will have `a[i]`>`a[i-1]`<br>\n",
    "2. In reverse sort -> at one place you will have `a[i]`<`a[i-1]`<br>\n",
    "\n",
    "if either of (1) or (2) == 0 -> Array is sorted but not rotated<br>\n",
    "if both (1) and (2) > 1 -> rotated but not sorted<br>\n",
    "Only if either (1) or (2) == 1 -> Sorted and rotated<br>\n",
    "\n",
    "**Note**: Since we have sorted + rotated array you also need to check if first and last element are in order<br>"
   ]
  },
  {
   "cell_type": "code",
   "execution_count": 16,
   "id": "0f8d0369",
   "metadata": {},
   "outputs": [],
   "source": [
    "def checkRotatedAndSorted(arr,n):\n",
    "    sort_err = 0\n",
    "    reverse_sort_err = 0\n",
    "    \n",
    "    for i in range(1,n):\n",
    "        if arr[i-1] > arr[i]:\n",
    "            sort_err += 1\n",
    "        elif arr[i-1] < arr[i]:\n",
    "            reverse_sort_err += 1\n",
    "            \n",
    "    # print(sort_err, reverse_sort_err, arr)\n",
    "    if sort_err==1 or reverse_sort_err==1:\n",
    "        if arr[0] < arr[-1]:# proper sorting error\n",
    "            sort_err += 1\n",
    "        else:\n",
    "            reverse_sort_err += 1\n",
    "        \n",
    "        if sort_err==1 or reverse_sort_err==1:\n",
    "            return True\n",
    "    return False"
   ]
  },
  {
   "cell_type": "markdown",
   "id": "a8cb9f19",
   "metadata": {},
   "source": [
    "#### Prefix Sum Problems"
   ]
  },
  {
   "cell_type": "markdown",
   "id": "1bc96c7e",
   "metadata": {},
   "source": [
    "##### Max Subarray with Given Target (Positive + Negative Nos)"
   ]
  },
  {
   "cell_type": "code",
   "execution_count": 25,
   "id": "eaae367f",
   "metadata": {},
   "outputs": [
    {
     "data": {
      "image/jpeg": "[encoded data removed]",
      "text/plain": [
       "<IPython.core.display.Image object>"
      ]
     },
     "metadata": {},
     "output_type": "display_data"
    }
   ],
   "source": [
    "display(Image(filename='src/max_len_subarray_sum.jpg'))"
   ]
  },
  {
   "cell_type": "code",
   "execution_count": 26,
   "id": "9440951f",
   "metadata": {},
   "outputs": [],
   "source": [
    "def longest_subarray_target(arr, target):\n",
    "    n = len(arr)\n",
    "    cSum = maxLen = 0\n",
    "    hmap = {}\n",
    "    resIndex = [0,0]\n",
    "\n",
    "    for i, x in enumerate(arr):\n",
    "        cSum += x\n",
    "        findHmap = cSum-target\n",
    "        if cSum == target: # [0 ... i] = target\n",
    "            newLen = i+1\n",
    "            if newLen > maxLen:\n",
    "                maxLen = newLen\n",
    "                resIndex[0], resIndex[1] = 0, i\n",
    "        elif findHmap in hmap: # Target found\n",
    "            newLen = i-hmap[findHmap]\n",
    "            if newLen > maxLen:\n",
    "                maxLen = newLen\n",
    "                resIndex[0], resIndex[1] = hmap[findHmap]+1, i\n",
    "        elif cSum not in hmap:  # why dont always add? [We need left most index -> longest subarray, so if a sum is already there dont add newwer one]\n",
    "            hmap[cSum] = i\n",
    "            \n",
    "    return (maxLen, resIndex)\n",
    "\n"
   ]
  },
  {
   "cell_type": "code",
   "execution_count": 27,
   "id": "da0715ad",
   "metadata": {},
   "outputs": [
    {
     "name": "stdout",
     "output_type": "stream",
     "text": [
      "(4, [2, 5])\n",
      "(5, [0, 4])\n"
     ]
    }
   ],
   "source": [
    "arr = [5,6,-5,5,3,5,3,-2,0]\n",
    "print(longest_subarray_target(arr, 8))\n",
    "\n",
    "arr = [5,5,-5,-5,2]\n",
    "print(longest_subarray_target(arr, 2))"
   ]
  },
  {
   "cell_type": "markdown",
   "id": "b75901fb",
   "metadata": {},
   "source": [
    "##### Count all subarrays with given target"
   ]
  },
  {
   "cell_type": "code",
   "execution_count": 28,
   "id": "f85e84ae",
   "metadata": {},
   "outputs": [],
   "source": [
    "def count_subarray_sum_target(arr, target):\n",
    "    hmap = {0:1} # consider initial csum as 0\n",
    "    count = 0\n",
    "    csum = 0\n",
    "    \n",
    "    for x in arr:\n",
    "        csum += x\n",
    "        \n",
    "        if csum-target in hmap:\n",
    "            count += hmap[csum-target]\n",
    "        \n",
    "        # If you have already seen this cur_sum ,that means\n",
    "        # there are 2 ways to form sum in case any result uses cur_sum\n",
    "        hmap[csum] = hmap.get(csum,0)+1\n",
    "        \n",
    "        # in longest_subarray_target we dont include csum if already seen. Why?\n",
    "        # because we need longest, n earliest seen csum, longer the answer subarray\n",
    "        \n",
    "    return count\n",
    "            "
   ]
  },
  {
   "cell_type": "code",
   "execution_count": 29,
   "id": "3a3e3517",
   "metadata": {},
   "outputs": [
    {
     "name": "stdout",
     "output_type": "stream",
     "text": [
      "3\n",
      "4\n",
      "2\n"
     ]
    }
   ],
   "source": [
    "arr, target = [1,-1,0], 0\n",
    "print(count_subarray_sum_target(arr, target))\n",
    "\n",
    "arr, target = [1,2,1,2,1], 3\n",
    "print(count_subarray_sum_target(arr, target))\n",
    "\n",
    "arr, target = [1,2,3], 3\n",
    "print(count_subarray_sum_target(arr, target))"
   ]
  },
  {
   "cell_type": "markdown",
   "id": "111392d1",
   "metadata": {},
   "source": [
    "##### Subarray sum equals Zero"
   ]
  },
  {
   "cell_type": "code",
   "execution_count": 30,
   "id": "6d08b427",
   "metadata": {},
   "outputs": [
    {
     "data": {
      "image/jpeg": "[encoded data removed]",
      "text/plain": [
       "<IPython.core.display.Image object>"
      ]
     },
     "metadata": {},
     "output_type": "display_data"
    }
   ],
   "source": [
    "display(Image(filename='src/subarray_sum_0.jpg'))"
   ]
  },
  {
   "cell_type": "markdown",
   "id": "9d454721",
   "metadata": {},
   "source": [
    "Solution\n",
    "1. Calculate Prefix sum\n",
    "2. While calculating prefix sum array, \n",
    "    - if `cur_sum` was previously seen\n",
    "        - THEN, arr[`last_seen_sum_index`+1 : `cur_sum_index`] = 0  \n",
    "    - if `cur_sum` = 0,\n",
    "        - then, arr[0 : `cur_sum_index`] = 0\n"
   ]
  },
  {
   "cell_type": "code",
   "execution_count": 31,
   "id": "2dee19d7",
   "metadata": {},
   "outputs": [],
   "source": [
    "def check_zero_sum(arr):\n",
    "    '''\n",
    "    Return [start_index, end_index] which has subarray sum = 0\n",
    "    '''\n",
    "    n = len(arr)\n",
    "    curSum = 0\n",
    "    hist = {}\n",
    "\n",
    "    curSum = 0\n",
    "    for i,x in enumerate(arr):\n",
    "        curSum += x\n",
    "        if x in hist:\n",
    "            return (hist[x]+1,i)\n",
    "        elif curSum == 0:\n",
    "            return (0,i)\n",
    "        else:\n",
    "            hist[curSum] = i\n",
    "    return None\n"
   ]
  },
  {
   "cell_type": "code",
   "execution_count": 32,
   "id": "2fc0e98c",
   "metadata": {},
   "outputs": [
    {
     "data": {
      "text/plain": [
       "(0, 2)"
      ]
     },
     "execution_count": 32,
     "metadata": {},
     "output_type": "execute_result"
    }
   ],
   "source": [
    "arr = [10, 20, -30, 1, 6]\n",
    "check_zero_sum(arr)"
   ]
  },
  {
   "cell_type": "markdown",
   "id": "f2ea43d8",
   "metadata": {},
   "source": [
    "##### Equilibrium Point"
   ]
  },
  {
   "cell_type": "code",
   "execution_count": 33,
   "id": "9d85d7bb",
   "metadata": {},
   "outputs": [
    {
     "data": {
      "image/jpeg": "[encoded data removed]",
      "text/plain": [
       "<IPython.core.display.Image object>"
      ]
     },
     "metadata": {},
     "output_type": "display_data"
    }
   ],
   "source": [
    "display(Image(filename='src/Equilibrium_Point.jpg'))"
   ]
  },
  {
   "cell_type": "code",
   "execution_count": 34,
   "id": "2a17a80b",
   "metadata": {},
   "outputs": [
    {
     "data": {
      "text/plain": [
       "2"
      ]
     },
     "execution_count": 34,
     "metadata": {},
     "output_type": "execute_result"
    }
   ],
   "source": [
    "\n",
    "def equilibrium(arr):\n",
    "    '''\n",
    "    Return equilibrium point\n",
    "    '''\n",
    "    n = len(arr)\n",
    "    lSum = [0]*n\n",
    "\n",
    "    cSum = 0\n",
    "    for i in range(n):  # L->R Sum\n",
    "        cSum += arr[i]\n",
    "        lSum[i] = cSum\n",
    "\n",
    "    cSum = 0\n",
    "    for i in reversed(range(n)):  # L<-R Sum\n",
    "        cSum += arr[i]\n",
    "        if cSum == lSum[i]:\n",
    "            return i\n",
    "    return None\n",
    "    \n",
    "    \n",
    "arr = [-3,5,-4,-2,3,1]\n",
    "equilibrium(arr)"
   ]
  },
  {
   "cell_type": "code",
   "execution_count": 35,
   "id": "ace0b6a7",
   "metadata": {},
   "outputs": [
    {
     "data": {
      "text/plain": [
       "2"
      ]
     },
     "execution_count": 35,
     "metadata": {},
     "output_type": "execute_result"
    }
   ],
   "source": [
    "arr = [-3,5,-4,-2,3,1]\n",
    "equilibrium(arr)"
   ]
  },
  {
   "cell_type": "markdown",
   "id": "4f35293f",
   "metadata": {},
   "source": [
    "#### Maximum Occuring number in given ranges"
   ]
  },
  {
   "cell_type": "markdown",
   "id": "8d8117de",
   "metadata": {},
   "source": [
    "https://practice.geeksforgeeks.org/problems/maximum-occured-integer4602/\n",
    "\n",
    "Solution works only when we know max_range else calculate frequencies using hashmap and do it\n"
   ]
  },
  {
   "cell_type": "code",
   "execution_count": 36,
   "id": "77022c34",
   "metadata": {},
   "outputs": [],
   "source": [
    "def maxOccured(L,R,N,maxx):\n",
    "        arr = [0 for _ in range(maxx+2)]\n",
    "        \n",
    "        for i in range(N):\n",
    "            arr[L[i]] += 1\n",
    "            arr[R[i]+1] -= 1\n",
    "        \n",
    "        # calculate prefix sums\n",
    "        csum = arr[0]\n",
    "        for i in range(1,len(arr)):\n",
    "            arr[i] += arr[i-1]\n",
    "\n",
    "        res, max_count = 0, arr[0]\n",
    "        for i in range(1,len(arr)):\n",
    "            if arr[i] > max_count:\n",
    "                res = i\n",
    "                max_count = arr[i]\n",
    "\n",
    "        return res"
   ]
  },
  {
   "cell_type": "code",
   "execution_count": 37,
   "id": "a836d969",
   "metadata": {},
   "outputs": [
    {
     "data": {
      "text/plain": [
       "4"
      ]
     },
     "execution_count": 37,
     "metadata": {},
     "output_type": "execute_result"
    }
   ],
   "source": [
    "L = [1,4,3,1]\n",
    "R = [15,8,5,4]\n",
    "maxOccured(L, R, 4, 15)"
   ]
  },
  {
   "cell_type": "markdown",
   "id": "3bf52f18",
   "metadata": {
    "toc-hr-collapsed": true
   },
   "source": [
    "## Matrix Problems"
   ]
  },
  {
   "cell_type": "markdown",
   "id": "62821217",
   "metadata": {},
   "source": [
    "#### Spiral Matrix"
   ]
  },
  {
   "cell_type": "code",
   "execution_count": 38,
   "id": "5182da69",
   "metadata": {},
   "outputs": [],
   "source": [
    "def spiral(arr):\n",
    "    nr = len(arr) - 1\n",
    "    nc = len(arr[0]) - 1\n",
    "\n",
    "    rStart, rEnd = 0, nr\n",
    "    cStart, cEnd = 0, nc\n",
    "\n",
    "    res = []\n",
    "    \n",
    "    while rStart<=rEnd and cStart<=cEnd:\n",
    "        for i in range(cStart, cEnd+1):\n",
    "            res.append(arr[rStart][i])\n",
    "        rStart += 1\n",
    "        \n",
    "        for i in range(rStart, rEnd+1):\n",
    "            res.append(arr[i][cEnd])\n",
    "        cEnd -= 1\n",
    "        \n",
    "        if rStart <= rEnd:\n",
    "            for i in reversed(range(cStart, cEnd+1)):\n",
    "                res.append(arr[rEnd][i])\n",
    "            rEnd -= 1\n",
    "        \n",
    "        if cStart <= cEnd:\n",
    "            for i in reversed(range(rStart, rEnd+1)):\n",
    "                res.append(arr[i][cStart])\n",
    "            \n",
    "            cStart += 1\n",
    "    return res\n",
    "\n",
    "            \n"
   ]
  },
  {
   "cell_type": "code",
   "execution_count": 39,
   "id": "d0cd24f9",
   "metadata": {},
   "outputs": [
    {
     "name": "stdout",
     "output_type": "stream",
     "text": [
      "[1, 2, 3, 6, 9, 8, 7, 4, 5]\n",
      "[1, 2, 3, 14, 34, 34, 9, 8, 7, 4, 5, 6]\n"
     ]
    }
   ],
   "source": [
    "arr = [\n",
    "    [1, 2, 3],\n",
    "    [4, 5, 6],\n",
    "    [7, 8, 9]\n",
    "]\n",
    "\n",
    "arr1 = [\n",
    "    [1, 2, 3,14],\n",
    "    [4, 5, 6, 34],\n",
    "    [7, 8, 9, 34]\n",
    "]\n",
    "\n",
    "\n",
    "print(spiral(arr))\n",
    "print(spiral(arr1))"
   ]
  },
  {
   "cell_type": "markdown",
   "id": "34d370be",
   "metadata": {},
   "source": [
    "#### Spiral Matrix II"
   ]
  },
  {
   "cell_type": "markdown",
   "id": "a3321f24",
   "metadata": {},
   "source": [
    "Given `n` -> fill a `nxn` matrix spirally from 1 to n*n"
   ]
  },
  {
   "cell_type": "code",
   "execution_count": 40,
   "id": "c82c673e",
   "metadata": {},
   "outputs": [],
   "source": [
    "\n",
    "def generate_spiral_matrix(n):\n",
    "    fill_ele = 1\n",
    "    arr = [[0 for _ in range(n)] for _ in range(n)]\n",
    "    \n",
    "    nr = len(arr) - 1\n",
    "    nc = len(arr[0]) - 1\n",
    "\n",
    "    rStart, rEnd = 0, nr\n",
    "    cStart, cEnd = 0, nc\n",
    "\n",
    "    res = []\n",
    "\n",
    "    while rStart<=rEnd and cStart<=cEnd:\n",
    "        for i in range(cStart, cEnd+1):\n",
    "            arr[rStart][i] = fill_ele\n",
    "            fill_ele += 1\n",
    "        rStart += 1\n",
    "\n",
    "        for i in range(rStart, rEnd+1):\n",
    "            arr[i][cEnd] = fill_ele\n",
    "            fill_ele += 1\n",
    "        cEnd -= 1\n",
    "\n",
    "        if rStart <= rEnd:\n",
    "            for i in reversed(range(cStart, cEnd+1)):\n",
    "                arr[rEnd][i] = fill_ele\n",
    "                fill_ele += 1\n",
    "            rEnd -= 1\n",
    "\n",
    "        if cStart <= cEnd:\n",
    "            for i in reversed(range(rStart, rEnd+1)):\n",
    "                arr[i][cStart] = fill_ele\n",
    "                fill_ele += 1\n",
    "\n",
    "            cStart += 1\n",
    "    return arr\n",
    "\n",
    "    "
   ]
  },
  {
   "cell_type": "code",
   "execution_count": 41,
   "id": "271e6e95",
   "metadata": {},
   "outputs": [
    {
     "name": "stdout",
     "output_type": "stream",
     "text": [
      "[1, 2, 3, 4]\n",
      "[12, 13, 14, 5]\n",
      "[11, 16, 15, 6]\n",
      "[10, 9, 8, 7]\n"
     ]
    }
   ],
   "source": [
    "res = generate_spiral_matrix(n=4)\n",
    "print(*res, sep=\"\\n\")"
   ]
  },
  {
   "cell_type": "code",
   "execution_count": null,
   "id": "0725e412",
   "metadata": {},
   "outputs": [],
   "source": []
  },
  {
   "cell_type": "code",
   "execution_count": null,
   "id": "a81282ca",
   "metadata": {},
   "outputs": [],
   "source": []
  },
  {
   "cell_type": "code",
   "execution_count": null,
   "id": "ef924912",
   "metadata": {},
   "outputs": [],
   "source": []
  },
  {
   "cell_type": "markdown",
   "id": "9e1a7c01",
   "metadata": {},
   "source": [
    "## Dynamic Programming\n"
   ]
  },
  {
   "cell_type": "markdown",
   "id": "3f41348a",
   "metadata": {},
   "source": [
    "https://leetcode.com/discuss/general-discussion/458695/dynamic-programming-patterns"
   ]
  },
  {
   "cell_type": "markdown",
   "id": "5ae7e8d2",
   "metadata": {},
   "source": [
    "#### Tower of Hanoi"
   ]
  },
  {
   "cell_type": "code",
   "execution_count": 42,
   "id": "66b1d4bd",
   "metadata": {},
   "outputs": [],
   "source": [
    "def toh(n, fromm, to, aux):\n",
    "    if n==0:\n",
    "        return\n",
    "    \n",
    "    toh(n-1,fromm,aux,to)\n",
    "    print(f\"move disk {n} from rod {fromm} to {to}\")\n",
    "    toh(n-1,aux,to,fromm)"
   ]
  },
  {
   "cell_type": "code",
   "execution_count": 43,
   "id": "80f90cb2",
   "metadata": {},
   "outputs": [
    {
     "name": "stdout",
     "output_type": "stream",
     "text": [
      "move disk 1 from rod A to C\n",
      "move disk 2 from rod A to B\n",
      "move disk 1 from rod C to B\n",
      "move disk 3 from rod A to C\n",
      "move disk 1 from rod B to A\n",
      "move disk 2 from rod B to C\n",
      "move disk 1 from rod A to C\n"
     ]
    }
   ],
   "source": [
    "toh(3,'A','C','B')"
   ]
  },
  {
   "cell_type": "markdown",
   "id": "585fa1c0",
   "metadata": {},
   "source": [
    "#### Subset Sum Problem ( arr[i] > 0)"
   ]
  },
  {
   "cell_type": "markdown",
   "id": "4914edf0",
   "metadata": {},
   "source": [
    "**Why dont use 0-based indexing instead of `n-1`?** <br>\n",
    "-> In case the index or sum go negative i.e <0 in Recursive solution you can easily return 0 <br>\n",
    "But in tabulation for it will give `negative index error`, hence you need to add additional checks to check if index is less than zero causing extra overload"
   ]
  },
  {
   "cell_type": "markdown",
   "id": "a9f6af3c",
   "metadata": {},
   "source": [
    "Given an array check if subset sum = target (Subset doesnt need to be in order) <br>\n",
    "-> Also count how many ways it can be done <br>\n",
    "-> Assumption : ONLY POSITIVE ELEMENTS"
   ]
  },
  {
   "cell_type": "code",
   "execution_count": 133,
   "id": "4fdeea92",
   "metadata": {},
   "outputs": [],
   "source": [
    "def subset_sum(arr, n, target): # start n-1 : last index (dont have to store len explicitly)\n",
    "    if target == 0:\n",
    "        return 1    \n",
    "    if n==0: # exhausted all elements till now\n",
    "        return 0\n",
    "\n",
    " \n",
    "    if arr[n-1] > target:\n",
    "        return subset_sum(arr, n-1, target)\n",
    "\n",
    "    return subset_sum(arr, n-1, target) + subset_sum(arr, n-1, target -arr[n-1])\n",
    "\n",
    "def dp_subset_sum(arr, target):\n",
    "    n = len(arr)\n",
    "\n",
    "    dp = [[0 for x in range(target+1)] for x in range(n+1)]\n",
    "\n",
    "    for i in range(n+1): # number of elements left\n",
    "        for j in range(target+1): # target sum left\n",
    "            if j==0:\n",
    "                dp[i][j] = 1\n",
    "            elif i==0:\n",
    "                dp[i][j] = 0\n",
    "            elif arr[i-1] > j:\n",
    "                dp[i][j] = dp[i-1][j]\n",
    "            else:\n",
    "                dp[i][j] = dp[i-1][j] + dp[i-1][j-arr[i-1]]\n",
    "\n",
    "    # printList(dp)\n",
    "    return dp[n][target] \n",
    "            \n",
    "            \n",
    "    "
   ]
  },
  {
   "cell_type": "code",
   "execution_count": 135,
   "id": "cb492b78",
   "metadata": {},
   "outputs": [
    {
     "name": "stdout",
     "output_type": "stream",
     "text": [
      "2\n",
      "2\n"
     ]
    }
   ],
   "source": [
    "arr = [3, 34, 4, 12, 5, 2] # ANS=2\n",
    "target = 9\n",
    "\n",
    "print(subset_sum(arr, len(arr), target))\n",
    "print(dp_subset_sum(arr, target))"
   ]
  },
  {
   "cell_type": "markdown",
   "id": "bdbd0ff4",
   "metadata": {},
   "source": [
    "#### Subset Sum -> Count using 0-based indexing"
   ]
  },
  {
   "cell_type": "code",
   "execution_count": 96,
   "id": "ddd1cd28",
   "metadata": {},
   "outputs": [],
   "source": [
    "def findWays(arr, target):\n",
    "    n = len(arr)\n",
    "    dp = [[0 for _ in range(target+1)] for _ in range(n)]\n",
    "\n",
    "    for i in range(n):\n",
    "        for j in range(target+1):\n",
    "            if j == 0:\n",
    "                dp[i][j] = 1\n",
    "            elif i == 0:\n",
    "                dp[i][j] = (1 if arr[0] == j else 0)\n",
    "            elif arr[i] > j:\n",
    "                dp[i][j] = dp[i-1][j]\n",
    "            else:\n",
    "                dp[i][j] = dp[i-1][j] + dp[i-1][j-arr[i]]\n",
    "\n",
    "    return dp[n-1][target]\n"
   ]
  },
  {
   "cell_type": "code",
   "execution_count": 97,
   "id": "64bcaa03",
   "metadata": {},
   "outputs": [
    {
     "name": "stdout",
     "output_type": "stream",
     "text": [
      "2\n"
     ]
    }
   ],
   "source": [
    "arr = [3, 34, 4, 12, 5, 2] # ANS=2\n",
    "target = 9\n",
    "print(findWays(arr, target))"
   ]
  },
  {
   "cell_type": "markdown",
   "id": "6aef60cf",
   "metadata": {},
   "source": [
    "#### Subset Sum Problem ( arr[i] >= 0)"
   ]
  },
  {
   "cell_type": "markdown",
   "id": "539005a5",
   "metadata": {},
   "source": [
    "arr = [0,0,1], target=1 <br>\n",
    "answer_from_previous = 1 -> [1]<br>\n",
    "Correct Answer = 3 -> [0,0,1], [0,1], [1] <br><br>\n",
    "**Why?** When you `see cur_sum`/`j` == 0, you return/count 1<br>\n",
    "But even after cur_sum=0, there can still be zeros on left. <br><br>\n",
    "**Solution** : Even if u see j==0, you need to check left side of the array"
   ]
  },
  {
   "cell_type": "code",
   "execution_count": 103,
   "id": "f0e05e9a",
   "metadata": {},
   "outputs": [],
   "source": [
    "def count_subset_plus(arr, target):\n",
    "    n = len(arr)\n",
    "    dp = [[0 for _ in range(target+1)] for _ in range(n)]\n",
    "\n",
    "    for i in range(n):\n",
    "        for j in range(target+1):\n",
    "            if i == 0:\n",
    "                if arr[i] == 0 and j==0:\n",
    "                    dp[i][j] = 2\n",
    "                elif arr[i] == j or j==0:\n",
    "                    dp[i][j] = 1\n",
    "                else:\n",
    "                    dp[i][j] = 0\n",
    "            elif arr[i] > j:\n",
    "                dp[i][j] = dp[i-1][j]\n",
    "            else:\n",
    "                dp[i][j] = dp[i-1][j] + dp[i-1][j-arr[i]]\n",
    "\n",
    "    printList(dp)\n",
    "    return dp[n-1][target]\n"
   ]
  },
  {
   "cell_type": "code",
   "execution_count": 107,
   "id": "4662d5e3",
   "metadata": {},
   "outputs": [
    {
     "name": "stdout",
     "output_type": "stream",
     "text": [
      "DP ARRAY\n",
      "[2, 0]\n",
      "[4, 0]\n",
      "[4, 4]\n",
      "4\n"
     ]
    }
   ],
   "source": [
    "arr = [0,0,1]\n",
    "\n",
    "print(count_subset_plus(arr,1))"
   ]
  },
  {
   "cell_type": "markdown",
   "id": "b6d928d3",
   "metadata": {},
   "source": [
    "#### Subset Sum - True/False only"
   ]
  },
  {
   "cell_type": "code",
   "execution_count": 37,
   "id": "79deab31",
   "metadata": {},
   "outputs": [],
   "source": [
    "def subset_sum_tf(n, k, arr, return_dp=False):\n",
    "    dp = [[False for _ in range(k+1)] for _ in range(n)]\n",
    "\n",
    "    for i in range(n):\n",
    "        for j in range(k+1):\n",
    "            if j == 0:\n",
    "                dp[i][j] = True\n",
    "            elif i == 0:\n",
    "                dp[i][j] = (arr[i] == j)\n",
    "            else:\n",
    "                if arr[i] > j:\n",
    "                    dp[i][j] = dp[i-1][j]\n",
    "                else:\n",
    "                    dp[i][j] = dp[i-1][j] or dp[i-1][j-arr[i]]\n",
    "\t\n",
    "    if return_dp:\n",
    "        return dp\n",
    "\n",
    "    return dp[n-1][k]\n"
   ]
  },
  {
   "cell_type": "markdown",
   "id": "58b9fd3d",
   "metadata": {},
   "source": [
    "#### Partition array into 2 Subsets such that absolute difference is minimal"
   ]
  },
  {
   "cell_type": "markdown",
   "id": "f0cef330",
   "metadata": {},
   "source": [
    "https://www.codingninjas.com/codestudio/problems/partition-a-set-into-two-subsets-such-that-the-difference-of-subset-sums-is-minimum_842494\n",
    "\n",
    "`NOTE` : Only Non-Zero integers [Else it will not solvable using DP]"
   ]
  },
  {
   "cell_type": "markdown",
   "id": "5ba842ce",
   "metadata": {},
   "source": [
    "**General Idea** <br>\n",
    "- S1, S2 => S1, (Sum-S1) <br>\n",
    "- When we create DP Table (n+1 x target+1), we take last cell as output `n-1, target+1` <br>\n",
    "- **Interpretation of Last row in DP:** Can you find a subset using `n` elements and give `target` as sum? True|False <br><br>\n",
    "\n",
    "**In this case**\n",
    "1. Iterate the last row.\n",
    "2. Wherever you get True (you can form subset which gives this target) -> Calculate |S1 - (sum-s1)| and give the minimum sum as answer"
   ]
  },
  {
   "cell_type": "code",
   "execution_count": 67,
   "id": "c361cd40",
   "metadata": {},
   "outputs": [],
   "source": [
    "def minSubsetSumDifference(arr, n):\n",
    "    totalSum = sum(arr)\n",
    "    minAbsSum = float('inf')\n",
    "\n",
    "    dp = subset_sum_tf(n, totalSum, arr, True)\n",
    "\n",
    "    for i in range(0, totalSum+1):\n",
    "        s1 = dp[-1][i] # True|False -> Can you make or not\n",
    "        if s1:\n",
    "            curDiff = abs(i-(totalSum-i))\n",
    "            minAbsSum = min(minAbsSum, curDiff)\n",
    "\n",
    "    return 0 if minAbsSum == float('inf') else minAbsSum\n"
   ]
  },
  {
   "cell_type": "code",
   "execution_count": 70,
   "id": "30f0a008",
   "metadata": {},
   "outputs": [
    {
     "name": "stdout",
     "output_type": "stream",
     "text": [
      "[1, 2, 3, 4] 0\n",
      "[10, 20, 30, 70] 10\n",
      "[0, 0, 0, 0] 0\n",
      "[10, 21] 11\n"
     ]
    }
   ],
   "source": [
    "arr = [1,2,3,4]\n",
    "print(arr, minSubsetSumDifference(arr, len(arr)))\n",
    "\n",
    "arr = [int(x) for x in \"10 20 30 70\".split(\" \")]\n",
    "print(arr, minSubsetSumDifference(arr, len(arr)))\n",
    "\n",
    "arr = [int(x) for x in \"0 0 0 0\".split(\" \")]\n",
    "print(arr, minSubsetSumDifference(arr, len(arr)))\n",
    "\n",
    "arr = [int(x) for x in \"10 21\".split(\" \")]\n",
    "print(arr, minSubsetSumDifference(arr, len(arr)))\n"
   ]
  },
  {
   "cell_type": "markdown",
   "id": "12f69d02",
   "metadata": {},
   "source": [
    "#### Partition into 2 subsets with given difference"
   ]
  },
  {
   "cell_type": "markdown",
   "id": "65819a1d",
   "metadata": {},
   "source": [
    "- All elements must belong one of the 2 partitioned subsets\n",
    "- Print true or false (done or cant be done)\n",
    "- arr = [1, 1, 2, 3], diff = [1] <br>\n",
    "    True [1,1,3] and [2,3]"
   ]
  },
  {
   "cell_type": "code",
   "execution_count": 44,
   "id": "a0d684b1",
   "metadata": {},
   "outputs": [],
   "source": [
    "def get_partition_sums(arr, diff):\n",
    "    csum = sum(arr)\n",
    "    s1 = (csum+diff)/2\n",
    "\n",
    "    return s1, abs(csum-s1)\n",
    "\n",
    "def check_if_int(n):\n",
    "    return int(n) == n\n"
   ]
  },
  {
   "cell_type": "code",
   "execution_count": 51,
   "id": "a617ccbd",
   "metadata": {},
   "outputs": [],
   "source": [
    "def can_partition_with_diff(arr, diff):\n",
    "    s1, s2 = get_partition_sums(arr, diff)\n",
    "    print(s1, s2)\n",
    "\n",
    "    if not check_if_int(s1):\n",
    "        return False\n",
    "\n",
    "    n = len(arr)\n",
    "    countSubsets = dp_subset_sum(arr, int(s1))\n",
    "    \n",
    "    return True if countSubsets>0 else False"
   ]
  },
  {
   "cell_type": "code",
   "execution_count": 54,
   "id": "a000622e",
   "metadata": {},
   "outputs": [
    {
     "name": "stdout",
     "output_type": "stream",
     "text": [
      "4.0 3.0\n"
     ]
    },
    {
     "data": {
      "text/plain": [
       "True"
      ]
     },
     "execution_count": 54,
     "metadata": {},
     "output_type": "execute_result"
    }
   ],
   "source": [
    "arr = [1,1,2,3]\n",
    "diff = 1\n",
    "\n",
    "can_partition_with_diff(arr, diff)\n"
   ]
  },
  {
   "cell_type": "markdown",
   "id": "4a2e5c55",
   "metadata": {},
   "source": [
    "#### Knapsack - Bounded (0-1 Knapsack)"
   ]
  },
  {
   "cell_type": "markdown",
   "id": "efa005f1",
   "metadata": {},
   "source": [
    "Given Weights and costs of items, and max_capacity of bag <br>\n",
    "Task : You can either pick/not pick an item <br>\n",
    "<br>\n",
    "Give the items you will pick which give max/min cost and also fit in the max_capacity"
   ]
  },
  {
   "cell_type": "code",
   "execution_count": 114,
   "id": "b17cdee2",
   "metadata": {},
   "outputs": [],
   "source": [
    "def bounded_knapsack(arr, weights, W, n ):\n",
    "    if n==0 or W==0:\n",
    "        return 0\n",
    "\n",
    "    if weights[n-1] > W: #dont pick\n",
    "        return bounded_knapsack(arr, weights, W, n-1)\n",
    "\n",
    "    return max(\n",
    "        arr[n-1] + bounded_knapsack(arr, weights, W-weights[n-1], n-1),\n",
    "        bounded_knapsack(arr, weights, W, n-1)\n",
    "    )\n",
    "    \n"
   ]
  },
  {
   "cell_type": "code",
   "execution_count": 127,
   "id": "a7124452",
   "metadata": {},
   "outputs": [],
   "source": [
    "def dp_bounded_knapsack(arr, weights, W):\n",
    "    n = len(arr)\n",
    "    dp = [[0 for _ in range(W+1)] for _ in range(n+1)]\n",
    "\n",
    "    for i in range(n+1): # current element  index\n",
    "        for j in range(W+1): # cur max_capacity remaining\n",
    "            if j==0 or i==0:\n",
    "                dp[i][j] = 0\n",
    "            elif weights[i-1] > j: # dont pick current ele\n",
    "                dp[i][j] = dp[i-1][j]\n",
    "            else:\n",
    "                dp[i][j] = max(arr[i-1] + dp[i-1][j-weights[i-1]], dp[i-1][j-1])\n",
    "    \n",
    "    # printList(dp)\n",
    "    return dp[n][W]"
   ]
  },
  {
   "cell_type": "code",
   "execution_count": 142,
   "id": "ad1e635c",
   "metadata": {},
   "outputs": [],
   "source": [
    "def dp_bounded_knapsack_zero_index(arr, weights, W):\n",
    "    n = len(arr)\n",
    "    dp = [[0 for _ in range(W+1)] for _ in range(n)]\n",
    "\n",
    "    for i in range(n): # current element  index\n",
    "        for j in range(W+1): # cur_capacity remaining\n",
    "            if j==0: # capacity=0\n",
    "                dp[i][j] = 0\n",
    "            elif i==0: #last item\n",
    "                if weights[0] > j: # last item has W<cur_capacity\n",
    "                    dp[i][j] = 0\n",
    "                else:\n",
    "                    dp[i][j] = arr[0] # last item can be picked -> so profit is arr[0] (you cant pick anything else as this is the first element)\n",
    "            elif weights[i] > j:\n",
    "                dp[i][j] = dp[i-1][j]\n",
    "            else:\n",
    "                dp[i][j] = max(arr[i]+dp[i-1][j-weights[i]],dp[i-1][j])\n",
    "            \n",
    "            \n",
    "    \n",
    "    return dp[n-1][W]"
   ]
  },
  {
   "cell_type": "code",
   "execution_count": 143,
   "id": "3c363ca4",
   "metadata": {},
   "outputs": [
    {
     "name": "stdout",
     "output_type": "stream",
     "text": [
      "220\n",
      "220\n"
     ]
    }
   ],
   "source": [
    "weights = [10, 20, 30]\n",
    "costs = [60, 100, 120]\n",
    "capacity = 50 \n",
    "# RESULT = 220 pick 20+30 = 50, total = 100+120\n",
    "\n",
    "# print(bounded_knapsack(costs, weights, capacity, len(costs)))\n",
    "print(dp_bounded_knapsack(costs, weights, capacity))\n",
    "print(dp_bounded_knapsack_zero_index(costs, weights, capacity))\n"
   ]
  },
  {
   "cell_type": "markdown",
   "id": "6a7e6160",
   "metadata": {},
   "source": [
    "#### Target Sum "
   ]
  },
  {
   "cell_type": "markdown",
   "id": "c930c14f",
   "metadata": {},
   "source": [
    "You want to build an expression out of nums by adding one of the symbols '+' and '-' before each integer in nums and then concatenate all the integers.\n",
    "\n",
    "For example, if nums = [2, 1], you can add a '+' before 2 and a '-' before 1 and concatenate them to build the expression \"+2-1\".\n",
    "\n",
    "**Task** : Return the number of different expressions that you can build, which evaluates to target <br>\n",
    "**Solution** : https://leetcode.com/problems/target-sum/discuss/455024/DP-IS-EASY!-5-Steps-to-Think-Through-DP-Questions."
   ]
  },
  {
   "cell_type": "code",
   "execution_count": 8,
   "id": "6db4fb90",
   "metadata": {},
   "outputs": [],
   "source": [
    "class Solution:\n",
    "    dp = {}\n",
    "\n",
    "    def target_sum(self, arr, n, cur_sum):\n",
    "        if (n,cur_sum) in self.dp:\n",
    "            return self.dp[(n,cur_sum)]\n",
    "\n",
    "        if n==0:\n",
    "            return 1 if cur_sum==0 else 0\n",
    "        cur_ele = arr[n-1]\n",
    "        res = self.target_sum(arr, n-1, cur_sum-cur_ele) + self.target_sum(arr,n-1, cur_sum+cur_ele)\n",
    "\n",
    "        self.dp[(n,cur_sum)] = res\n",
    "        return res\n",
    "    \n"
   ]
  },
  {
   "cell_type": "code",
   "execution_count": 9,
   "id": "c96a2649",
   "metadata": {},
   "outputs": [
    {
     "name": "stdout",
     "output_type": "stream",
     "text": [
      "5\n",
      "192\n"
     ]
    }
   ],
   "source": [
    "nums = [1,1,1,1,1]\n",
    "target = 3\n",
    "# result = 5 (5 ways to assign +/- to nums to get answer as 3)\n",
    " \n",
    "print(Solution().target_sum(nums, len(nums), target))\n",
    "\n",
    "nums = [0,0,0,0,0,0,0,0,1]\n",
    "target = 1\n",
    "\n",
    "print(Solution().target_sum(nums, len(nums), target))\n"
   ]
  },
  {
   "cell_type": "markdown",
   "id": "c8d78a77",
   "metadata": {
    "tags": []
   },
   "source": [
    "#### Longest Common Subsequence"
   ]
  },
  {
   "cell_type": "markdown",
   "id": "8ed6f1fc-2d66-4622-9514-2b240c4ed126",
   "metadata": {},
   "source": [
    "**Variations**\n",
    "1. Longest Palindromic Subsequence -> LCS(str, reverse(str)\n",
    "2. Min num of insertions or deletion to make string s1=s2\n",
    "    - l = LCS(s1,s2)\n",
    "    - Min Deletions -> len(s1)-l\n",
    "    - Min Insertions -> len(s2)-l\n",
    "3. Shortest Common Subsequence\n",
    "    - Given 2 strings, create another string such that it has both the srting as subsequence and is as short as possible\n",
    "    - LCS = LCS(str1,str2)\n",
    "    - res = LCS + Add missing chars from str1 and str2 in res in order (Such that str1/2 subseq can be formed from res)"
   ]
  },
  {
   "cell_type": "code",
   "execution_count": 21,
   "id": "ccd267d3",
   "metadata": {},
   "outputs": [],
   "source": [
    "def longest_common_seq(s1, s2, m, n):\n",
    "    if m==0 or n==0:\n",
    "        return 0\n",
    "    if s1[m-1] == s2[n-1]:\n",
    "        return 1+longest_common_seq(s1,s2,m-1,n-1)\n",
    "    else:\n",
    "        return max(longest_common_seq(s1,s2,m-1,n),longest_common_seq(s1,s2,m,n-1))"
   ]
  },
  {
   "cell_type": "code",
   "execution_count": 34,
   "id": "086c0f20",
   "metadata": {},
   "outputs": [],
   "source": [
    "def lcs_dp(s1,s2, return_dp=False):\n",
    "    m = len(s1)\n",
    "    n = len(s2)\n",
    "    dp = [[0 for _ in range(n+1)] for _ in range(m+1)]\n",
    "\n",
    "    for i in range(m+1):\n",
    "        for j in range(n+1):\n",
    "            if i==0 or j==0:\n",
    "                dp[i][j] = 0\n",
    "            elif s1[i-1] == s2[j-1]:\n",
    "                dp[i][j] = 1+dp[i-1][j-1]\n",
    "            else:\n",
    "                dp[i][j] = max(dp[i-1][j],dp[i][j-1])\n",
    "    printList(dp)\n",
    "    if return_dp:\n",
    "        return dp\n",
    "    return dp[m-1][n-1]\n",
    "                \n",
    "            "
   ]
  },
  {
   "cell_type": "code",
   "execution_count": 35,
   "id": "e504b9ec",
   "metadata": {},
   "outputs": [
    {
     "name": "stdout",
     "output_type": "stream",
     "text": [
      "3\n",
      "DP ARRAY\n",
      "[0, 0, 0, 0]\n",
      "[0, 1, 1, 1]\n",
      "[0, 1, 2, 2]\n",
      "[0, 1, 2, 3]\n",
      "[0, 1, 2, 3]\n",
      "[0, 1, 2, 3]\n",
      "2 \n",
      "\n",
      "2\n",
      "DP ARRAY\n",
      "[0, 0, 0, 0, 0, 0, 0]\n",
      "[0, 1, 1, 1, 1, 1, 1]\n",
      "[0, 1, 1, 1, 1, 1, 1]\n",
      "[0, 1, 1, 1, 1, 1, 1]\n",
      "[0, 1, 1, 2, 2, 2, 2]\n",
      "[0, 1, 1, 2, 2, 2, 2]\n",
      "[0, 1, 1, 2, 2, 3, 3]\n",
      "2 \n",
      "\n",
      "1\n",
      "DP ARRAY\n",
      "[0, 0, 0, 0]\n",
      "[0, 0, 1, 1]\n",
      "[0, 0, 1, 1]\n",
      "1 \n",
      "\n"
     ]
    }
   ],
   "source": [
    "s1, s2 = \"abcde\", \"abc\" #3\n",
    "print(longest_common_seq(s1,s2,len(s1), len(s2)))\n",
    "print(lcs_dp(s1,s2),\"\\n\")\n",
    "\n",
    "s1, s2 = \"abcdgh\", \"aedfhr\" #3\n",
    "print(longest_common_seq(s1,s2,len(s1)-1, len(s2)-1))\n",
    "print(lcs_dp(s1,s2),\"\\n\")\n",
    "\n",
    "s1, s2 = \"bl\", \"yby\" #3\n",
    "print(longest_common_seq(s1,s2,len(s1)-1, len(s2)-1))\n",
    "print(lcs_dp(s1,s2),\"\\n\")"
   ]
  },
  {
   "cell_type": "markdown",
   "id": "4f2bafd6-38de-4faa-8faa-86d72ac3c95c",
   "metadata": {
    "tags": []
   },
   "source": [
    "#### Printing LCS"
   ]
  },
  {
   "cell_type": "code",
   "execution_count": 65,
   "id": "d0dfed56-451b-44fb-a26a-e5e9c1030ccd",
   "metadata": {},
   "outputs": [],
   "source": [
    "def print_lcs(s1,s2, dp):\n",
    "    m = len(s1)\n",
    "    n = len(s2)\n",
    "    \n",
    "    res = \"\"\n",
    "    \n",
    "    i,j = m, n\n",
    "    while i!=0 and j!=0:\n",
    "        # print(i,j,s1[i-1],s2[j-1])\n",
    "        # same char -> move diagonally up\n",
    "        if s1[i-1] == s2[j-1]:\n",
    "            res = s1[i-1] + res\n",
    "            i -= 1\n",
    "            j -= 1\n",
    "        else:\n",
    "            # top > right\n",
    "            if dp[i-1][j] > dp[i][j-1]:\n",
    "                i -= 1\n",
    "            else:\n",
    "                j -= 1\n",
    "    \n",
    "    return res\n",
    "                \n",
    "                "
   ]
  },
  {
   "cell_type": "code",
   "execution_count": 70,
   "id": "1fd7a40f-3f5b-4f51-ab53-6dcc804d7ed0",
   "metadata": {},
   "outputs": [
    {
     "name": "stdout",
     "output_type": "stream",
     "text": [
      "DP ARRAY\n",
      "[0, 0, 0, 0]\n",
      "[0, 1, 1, 1]\n",
      "[0, 1, 2, 2]\n",
      "[0, 1, 2, 3]\n",
      "[0, 1, 2, 3]\n",
      "[0, 1, 2, 3]\n",
      "abc \n",
      "\n",
      "DP ARRAY\n",
      "[0, 0, 0, 0, 0, 0, 0]\n",
      "[0, 1, 1, 1, 1, 1, 1]\n",
      "[0, 1, 1, 1, 1, 1, 1]\n",
      "[0, 1, 1, 1, 1, 1, 1]\n",
      "[0, 1, 1, 2, 2, 2, 2]\n",
      "[0, 1, 1, 2, 2, 2, 2]\n",
      "[0, 1, 1, 2, 2, 3, 3]\n",
      "adh\n"
     ]
    }
   ],
   "source": [
    "s1, s2 = \"abcde\", \"abc\" #3\n",
    "dp = lcs_dp(s1,s2,True)\n",
    "print(print_lcs(s1,s2,dp),\"\\n\")\n",
    "\n",
    "s1, s2 = \"abcdgh\", \"aedfhr\" #3\n",
    "dp = lcs_dp(s1,s2,True)\n",
    "print(print_lcs(s1,s2,dp))\n"
   ]
  },
  {
   "cell_type": "markdown",
   "id": "1f2f1da4",
   "metadata": {},
   "source": [
    "#### Climbing Stairs"
   ]
  },
  {
   "cell_type": "markdown",
   "id": "813ec816",
   "metadata": {},
   "source": [
    "You can climb 1 or steps at time. <br>\n",
    "Given there are `n` stairs, in how many ways can you reach `nth` stair starting from base"
   ]
  },
  {
   "cell_type": "code",
   "execution_count": 2,
   "id": "61d94c20",
   "metadata": {},
   "outputs": [],
   "source": [
    "def climbStairs(n):\n",
    "    if n<2:\n",
    "            return 1\n",
    "            \n",
    "    dp = [0 for _ in range(n+1)]\n",
    "    dp[0] = 1\n",
    "    dp[1] = 1\n",
    "\n",
    "    for i in range(2,n+1):\n",
    "        dp[i] = dp[i-1]+dp[i-2]\n",
    "    return dp[i]"
   ]
  },
  {
   "cell_type": "code",
   "execution_count": 5,
   "id": "87b72006",
   "metadata": {},
   "outputs": [
    {
     "data": {
      "text/plain": [
       "3"
      ]
     },
     "execution_count": 5,
     "metadata": {},
     "output_type": "execute_result"
    }
   ],
   "source": [
    "climbStairs(3) "
   ]
  },
  {
   "cell_type": "markdown",
   "id": "01504f96-9b76-4dbf-99b7-826093d1bd20",
   "metadata": {
    "toc-hr-collapsed": true
   },
   "source": [
    "#### Minimum Steps to reach end"
   ]
  },
  {
   "cell_type": "markdown",
   "id": "e95d71a3-5980-4f22-92c1-11583e3a6b41",
   "metadata": {},
   "source": [
    "##### O(N*2) Solution"
   ]
  },
  {
   "cell_type": "code",
   "execution_count": 73,
   "id": "b477ccac-98cf-4835-9088-ddb2cb104a3f",
   "metadata": {},
   "outputs": [],
   "source": [
    "# DP[i] = min steps to reach i from start -> res = dp[n-1]\n",
    "def min_steps(arr):\n",
    "    n = len(arr)\n",
    "    dp = [float('inf') for _ in range(n)]\n",
    "    dp[0] = 0\n",
    "        \n",
    "    for i in range(1,n):\n",
    "        for j in range(i):\n",
    "            step = j+arr[j]\n",
    "            if step >= i:\n",
    "                if dp[j]!=float('inf'): # check if there is way to reach that previous position\n",
    "                    dp[i] = min(dp[i],1+dp[j])\n",
    "    print(dp)\n",
    "    return dp[n-1]\n",
    "            "
   ]
  },
  {
   "cell_type": "markdown",
   "id": "6c6256c6-7167-4f00-a56e-0bd5f6a81cb5",
   "metadata": {},
   "source": [
    "##### Better than O(N*2)"
   ]
  },
  {
   "cell_type": "code",
   "execution_count": null,
   "id": "9a8e99d0-0431-478f-af95-121a0cdf7aad",
   "metadata": {},
   "outputs": [],
   "source": [
    "def jump(self, arr: List[int]) -> int:\n",
    "    n = len(arr)\n",
    "    dp = [float('inf') for _ in range(n)]\n",
    "\n",
    "    dp[n-1] = 0\n",
    "    for i in reversed(range(n-1)):\n",
    "        if arr[i] == 0:\n",
    "            dp[i] = float('inf')\n",
    "            continue\n",
    "        max_jump = i+arr[i] #max index you can reach from index i\n",
    "        if max_jump >= n-1: # you can directly jump to last one\n",
    "            dp[i] = 1\n",
    "        else:\n",
    "            dp[i] = float('inf')\n",
    "            for j in range(i+1,max_jump+1):\n",
    "                dp[i] = min(dp[i], 1+dp[j])\n",
    "\n",
    "    return dp[0]\n"
   ]
  },
  {
   "cell_type": "code",
   "execution_count": 74,
   "id": "6cec9859-500a-49c9-ae5e-a547167c5e46",
   "metadata": {},
   "outputs": [
    {
     "name": "stdout",
     "output_type": "stream",
     "text": [
      "[0, 1, 1, 1, 2, 2]\n",
      "2\n",
      "[0, 1, 1, 1, 1, 2, 2, 2, 3]\n",
      "3\n"
     ]
    }
   ],
   "source": [
    "arr = [3,4,2,1,2,1] #2\n",
    "print(min_steps(arr))\n",
    "\n",
    "arr = [4,1,5,3,1,3,2,1,8] #3\n",
    "print(min_steps(arr))"
   ]
  },
  {
   "cell_type": "markdown",
   "id": "5cd2fdd5-3852-42e9-8003-a650b65cf41c",
   "metadata": {},
   "source": [
    "##### Can you reach last step or Not? Return True|False\n",
    "O(N) solution<br>\n",
    "https://leetcode.com/problems/jump-game/discuss/452807/Python-DP-O(n)-with-explanation"
   ]
  },
  {
   "cell_type": "code",
   "execution_count": 6,
   "id": "b27a2356-57b8-479a-b880-83e6e303c00e",
   "metadata": {},
   "outputs": [],
   "source": [
    "def canJump(self, arr) :\n",
    "    n = len(arr)\n",
    "    if n==1:\n",
    "        return True\n",
    "    max_reach_index  = 0 + arr[0] #store max reachable index\n",
    "\n",
    "    for i in range(1,n):\n",
    "         # if you cant reach this index then you cant move forward \n",
    "        if max_reach_index < i: #max_res<i means from all indices<i, you can never cross i (Remember you are saving MAX_REACH)\n",
    "            return False\n",
    "\n",
    "        max_reach_index = max(max_reach_index, i+arr[i])\n",
    "\n",
    "        if max_reach_index >= n-1:\n",
    "            return True\n",
    "\n",
    "    return False"
   ]
  },
  {
   "cell_type": "markdown",
   "id": "a73ba3f9-aaaf-4c78-a7da-d76c4936dace",
   "metadata": {},
   "source": [
    "#### Maximum Rod Cuts"
   ]
  },
  {
   "cell_type": "markdown",
   "id": "5f4c860d-5f37-427f-a2ae-5f031f97900e",
   "metadata": {},
   "source": [
    "Given a rod of length `n`, you can it in pieces of size `a`,`b` or `c`. Find max ways in ways you cut the rod into pieces."
   ]
  },
  {
   "cell_type": "code",
   "execution_count": 36,
   "id": "159dff14-4420-44d1-b0bb-3cd797978bed",
   "metadata": {},
   "outputs": [],
   "source": [
    "def max_rod_cut(n, a, b, c):\n",
    "    if n<0:\n",
    "        return -1 # not possible\n",
    "    if n==0:\n",
    "        return 0\n",
    "    res = max([max_rod_cut(n-a,a,b,c),\n",
    "                    max_rod_cut(n-b,a,b,c),\n",
    "                    max_rod_cut(n-c,a,b,c)])\n",
    "    if res == -1: #not possible\n",
    "        return -1\n",
    "    else:\n",
    "        return 1+res"
   ]
  },
  {
   "cell_type": "code",
   "execution_count": 52,
   "id": "0a34b1f8-d18a-4f9e-b822-ef6d380cb61a",
   "metadata": {},
   "outputs": [],
   "source": [
    "def max_rod_cut_dp(n,a,b,c):\n",
    "    dp = [0 for _ in range(n+1)]\n",
    "    \n",
    "    dp[0] = 0\n",
    "    for i in range(1,n+1):\n",
    "        dp[i] = -1\n",
    "        for x in [a,b,c]:\n",
    "            if i-x >= 0:\n",
    "                dp[i] = max(dp[i],dp[i-x])\n",
    "        if dp[i] != -1:\n",
    "            dp[i] += 1\n",
    "            \n",
    "    return dp[n]\n",
    "        "
   ]
  },
  {
   "cell_type": "code",
   "execution_count": 53,
   "id": "c120dd13-ec23-4ee9-bb1b-e249e802b86b",
   "metadata": {},
   "outputs": [
    {
     "name": "stdout",
     "output_type": "stream",
     "text": [
      "2\n",
      "2 \n",
      "\n",
      "5\n",
      "5\n"
     ]
    }
   ],
   "source": [
    "n = 23\n",
    "a,b,c = 11,12,13\n",
    "print(max_rod_cut(n,a,b,c))\n",
    "print(max_rod_cut_dp(n,a,b,c),\"\\n\")\n",
    "\n",
    "n = 5\n",
    "a,b,c = 1,2,3\n",
    "\n",
    "print(max_rod_cut(n,a,b,c))\n",
    "print(max_rod_cut_dp(n,a,b,c))"
   ]
  },
  {
   "cell_type": "markdown",
   "id": "c61b397a",
   "metadata": {},
   "source": [
    "#### Frog Jump - Easy"
   ]
  },
  {
   "cell_type": "markdown",
   "id": "bfefecb5",
   "metadata": {},
   "source": [
    "https://www.codingninjas.com/codestudio/problems/frog-jump_3621012?source=youtube&campaign=striver_dp_videos&utm_source=youtube&utm_medium=affiliate&utm_campaign=striver_dp_videos"
   ]
  },
  {
   "cell_type": "code",
   "execution_count": 6,
   "id": "55e02d7b",
   "metadata": {},
   "outputs": [],
   "source": [
    "def frogJump(n: int, arr):\n",
    "    dp = [0 for _ in range(n+1)]\n",
    "    dp[0] = 0\n",
    "    dp[1] = abs(arr[1]-arr[0])\n",
    "    for i in range(2,n):\n",
    "        dp[i] = min(dp[i-1]+abs(arr[i]-arr[i-1]), dp[i-2]+abs(arr[i]-arr[i-2]))     \n",
    "    return dp[n-1]\n"
   ]
  },
  {
   "cell_type": "code",
   "execution_count": 8,
   "id": "0978aa57",
   "metadata": {},
   "outputs": [
    {
     "data": {
      "text/plain": [
       "20"
      ]
     },
     "execution_count": 8,
     "metadata": {},
     "output_type": "execute_result"
    }
   ],
   "source": [
    "frogJump(4, [10,20,30,10])"
   ]
  },
  {
   "cell_type": "markdown",
   "id": "169728ca",
   "metadata": {},
   "source": [
    "#### Maximum Sum of non adjancent elements | House Robber-I"
   ]
  },
  {
   "cell_type": "markdown",
   "id": "13cc40c3",
   "metadata": {},
   "source": [
    "https://www.codingninjas.com/codestudio/problems/maximum-sum-of-non-adjacent-elements_843261 <br>\n",
    "https://leetcode.com/problems/house-robber/ <br>\n",
    "\n",
    "You are given an array/list of ‘N’ integers. You are supposed to return the maximum sum of the subsequence \n",
    "with the constraint that no two elements are adjacent in the given array/list"
   ]
  },
  {
   "cell_type": "code",
   "execution_count": 136,
   "id": "89826070",
   "metadata": {},
   "outputs": [],
   "source": [
    "def maximumNonAdjacentSum(arr, n):    \n",
    "    if n<0:\n",
    "        return 0\n",
    "    \n",
    "    if n==0:\n",
    "        return arr[0]\n",
    "    \n",
    "    return max(\n",
    "        arr[n-1] + maximumNonAdjacentSum(arr,n-2),\n",
    "        maximumNonAdjacentSum(arr, n-1)\n",
    "    )"
   ]
  },
  {
   "cell_type": "code",
   "execution_count": 171,
   "id": "3d237c5a",
   "metadata": {},
   "outputs": [],
   "source": [
    "def dp_maximumNonAdjacentSum(arr,n=None):\n",
    "    n = len(arr)\n",
    "    if n == 1:\n",
    "        return arr[0]\n",
    "    dp = [0 for _ in range(n)]\n",
    "\n",
    "    # at 0 u can only pick a[0]\n",
    "    # at 1 you 2 options -> pick a[1] or a[0] as if cant pick both\n",
    "    dp[0] = arr[0]\n",
    "    dp[1] = max(arr[1], arr[0]) # this is not needed in recursive -> f(-ve index) will return as 0, in case of tabular index cant be negative\n",
    "\n",
    "    for i in range(2,n):\n",
    "        dp[i] = max(dp[i-1], arr[i]+dp[i-2])\n",
    "        \n",
    "    return dp[n-1]\n"
   ]
  },
  {
   "cell_type": "code",
   "execution_count": 172,
   "id": "d837ccf5",
   "metadata": {},
   "outputs": [
    {
     "name": "stdout",
     "output_type": "stream",
     "text": [
      "8\n",
      "24\n",
      "8\n"
     ]
    },
    {
     "data": {
      "text/plain": [
       "8"
      ]
     },
     "execution_count": 172,
     "metadata": {},
     "output_type": "execute_result"
    }
   ],
   "source": [
    "arr = [1,2,3,5,4] # res=9\n",
    "print(dp_maximumNonAdjacentSum(arr, len(arr)))\n",
    "\n",
    "arr = [1,2,3,1,3,5,8,1,9]\n",
    "print(dp_maximumNonAdjacentSum(arr, len(arr)))\n",
    "\n",
    "arr = [8,8]\n",
    "print(dp_maximumNonAdjacentSum(arr))\n",
    "maximumNonAdjacentSum(arr, len(arr)-1)"
   ]
  },
  {
   "cell_type": "markdown",
   "id": "c2d062a9",
   "metadata": {},
   "source": [
    "#### House Robber II\n"
   ]
  },
  {
   "cell_type": "markdown",
   "id": "c6031688",
   "metadata": {},
   "source": [
    "https://leetcode.com/problems/house-robber-ii/ <br>\n",
    "Maximize sum by picking Non-adjacent elements but first and last element are considered to be adjacent <br>\n",
    "Added Logic : You cant consider arr[0] and arr[-1] <br><br>\n",
    "**Solution**<br><br>\n",
    "U cant pick first and last, so in our solution we are sure that both cant be considered <br>\n",
    "**max(** maximumNonAdjacentSum(arr[first:]), maximumNonAdjacentSum(arr[:last]) **)**"
   ]
  },
  {
   "cell_type": "code",
   "execution_count": 176,
   "id": "5bcbaaf0",
   "metadata": {},
   "outputs": [],
   "source": [
    "def houses_2(arr):\n",
    "    n = len(arr)\n",
    "    return max(\n",
    "        dp_maximumNonAdjacentSum(arr[1:]),\n",
    "        dp_maximumNonAdjacentSum(arr[:-1])\n",
    "    )"
   ]
  },
  {
   "cell_type": "code",
   "execution_count": 177,
   "id": "9e791ba1",
   "metadata": {},
   "outputs": [
    {
     "name": "stdout",
     "output_type": "stream",
     "text": [
      "4\n",
      "3\n"
     ]
    }
   ],
   "source": [
    "nums = [1,2,3,1]\n",
    "print(houses_2(nums))\n",
    "\n",
    "nums = [2,3,2]\n",
    "print(houses_2(nums))\n"
   ]
  },
  {
   "cell_type": "markdown",
   "id": "53276bd9",
   "metadata": {},
   "source": [
    "#### Ninja Training <br>"
   ]
  },
  {
   "cell_type": "markdown",
   "id": "1831509a",
   "metadata": {},
   "source": [
    "https://www.codingninjas.com/codestudio/problems/ninja-s-training_3621003 <br>\n",
    "\n",
    "Given `n` days and `k` types of activities you can do each day to earn points. <br>\n",
    "Give max points you can earn at end of `n` days, but you cant do same acticity consecutively"
   ]
  },
  {
   "cell_type": "code",
   "execution_count": 220,
   "id": "858ee7f3",
   "metadata": {},
   "outputs": [],
   "source": [
    "def ninja_training(arr):\n",
    "    n = len(arr)\n",
    "    n_sports = len(arr[0])\n",
    "\n",
    "    dp = [[0 for _ in range(n_sports)] for _ in range(n)]\n",
    "\n",
    "    for i in range(n):\n",
    "        for j in range(n_sports):\n",
    "            if i==0:\n",
    "                dp[i][j] = arr[i][j]\n",
    "            else:\n",
    "                for k in range(n_sports): # if j=0, then take previous 1 and 2 (n_sports=3)\n",
    "                    if k == j:\n",
    "                        continue\n",
    "                    dp[i][j] = max(dp[i][j], arr[i][j]+dp[i-1][k] )\n",
    "    \n",
    "    return max(dp[n-1])\n",
    "\n",
    "\n",
    "## FOR n_sports=3 ##\n",
    "#\n",
    "# if i==0:\n",
    "#     dp[i][j] = arr[i][j]\n",
    "# elif j==0:\n",
    "#     dp[i][j] = arr[i][j] + max(dp[i-1][1], dp[i-1][2])\n",
    "# elif j==1:\n",
    "#     dp[i][j] = arr[i][j] + max(dp[i-1][0], dp[i-1][2])\n",
    "# else:\n",
    "#     dp[i][j] = arr[i][j] + max(dp[i-1][0], dp[i-1][1]\n",
    "#"
   ]
  },
  {
   "cell_type": "code",
   "execution_count": 221,
   "id": "25405710",
   "metadata": {},
   "outputs": [
    {
     "name": "stdout",
     "output_type": "stream",
     "text": [
      "11\n",
      "210\n",
      "45\n",
      "110\n"
     ]
    }
   ],
   "source": [
    "arr = [\n",
    "    [1,2,5],\n",
    "    [3,1,1],\n",
    "    [3,3,3]\n",
    "]\n",
    "# EXPECTED RES = 11\n",
    "print(ninja_training(arr))\n",
    "\n",
    "arr = [\n",
    "    [10,40,70],\n",
    "    [20,50,80],\n",
    "    [30,60,90]\n",
    "]\n",
    "# EXPECTED RES = 210\n",
    "print(ninja_training(arr))\n",
    "\n",
    "arr = [[18,11,19],[4,13,7],[1,8,13]]\n",
    "print(ninja_training(arr)) # 45\n",
    "\n",
    "arr = [[10,50,1],[5,100,11]]\n",
    "print(ninja_training(arr)) # 110"
   ]
  },
  {
   "cell_type": "markdown",
   "id": "1d62a972",
   "metadata": {},
   "source": [
    "#### Unique Paths"
   ]
  },
  {
   "cell_type": "code",
   "execution_count": 6,
   "id": "fb09b4cb",
   "metadata": {},
   "outputs": [],
   "source": [
    "def uniquePaths( m: int, n: int) -> int:\n",
    "    grid = [[0 for _ in range(n)] for _ in range(m)]\n",
    "    \n",
    "    for i in range(m):\n",
    "        for j in range(n):\n",
    "            if i==0 and j==0:\n",
    "                grid[i][j] = 1\n",
    "            elif i==0 or j==0: # you are on top row or left most row(you can reach 0,0 in only 1 way i.e move all left/up)\n",
    "                grid[i][j] = 1\n",
    "            else:\n",
    "                grid[i][j] = grid[i-1][j] + grid[i][j-1]\n",
    "    print(*grid, sep=\"\\n\")\n",
    "    return grid[m-1][n-1]\n",
    "            \n",
    "    "
   ]
  },
  {
   "cell_type": "code",
   "execution_count": 7,
   "id": "0be48e76",
   "metadata": {},
   "outputs": [
    {
     "name": "stdout",
     "output_type": "stream",
     "text": [
      "[1, 1, 1, 1, 1, 1, 1]\n",
      "[1, 2, 3, 4, 5, 6, 7]\n",
      "[1, 3, 6, 10, 15, 21, 28]\n"
     ]
    },
    {
     "data": {
      "text/plain": [
       "28"
      ]
     },
     "execution_count": 7,
     "metadata": {},
     "output_type": "execute_result"
    }
   ],
   "source": [
    "uniquePaths(3,7) # RES=28"
   ]
  },
  {
   "cell_type": "markdown",
   "id": "3eefc5e9",
   "metadata": {},
   "source": [
    "#### Unique Paths II (With Obstacles)"
   ]
  },
  {
   "cell_type": "code",
   "execution_count": 13,
   "id": "2d819653",
   "metadata": {},
   "outputs": [],
   "source": [
    "\n",
    "def uniquePathsWithObstacles(obstacleGrid):\n",
    "    m = len(obstacleGrid)\n",
    "    n = len(obstacleGrid[0])\n",
    "    grid = [[0 for _ in range(n)] for _ in range(m)]\n",
    "\n",
    "        \n",
    "    if obstacleGrid[0][0]==1 or obstacleGrid[m-1][n-1]==1:\n",
    "        return 0\n",
    "    \n",
    "    for i in range(m):\n",
    "        for j in range(n):\n",
    "            if obstacleGrid[i][j] == 1:\n",
    "                grid[i][j] = 0\n",
    "            elif i==0 and j==0:\n",
    "                grid[i][j] = 1\n",
    "            # elif i==0 or j==0: You cant say you can move all lefts/ups as there may be obstacles in between\n",
    "            #     grid[i][j] = 1\n",
    "            else:\n",
    "                grid[i][j] = grid[i-1][j] + grid[i][j-1]\n",
    "    return grid[m-1][n-1]\n"
   ]
  },
  {
   "cell_type": "code",
   "execution_count": 17,
   "id": "ec9416ad",
   "metadata": {},
   "outputs": [
    {
     "name": "stdout",
     "output_type": "stream",
     "text": [
      "2\n",
      "0\n"
     ]
    }
   ],
   "source": [
    "print(uniquePathsWithObstacles([[0,0,0],[0,1,0],[0,0,0]])) # RES = 2\n",
    "\n",
    "print(uniquePathsWithObstacles([[0,0],[1,1],[0,0]])) # RES=0"
   ]
  },
  {
   "cell_type": "markdown",
   "id": "1427b302",
   "metadata": {},
   "source": [
    "#### Minimum Path Sum"
   ]
  },
  {
   "cell_type": "code",
   "execution_count": 18,
   "id": "88a12ec0",
   "metadata": {},
   "outputs": [],
   "source": [
    "\n",
    "def minPathSum(grid) -> int:\n",
    "    nr = len(grid)\n",
    "    nc = len(grid[0])\n",
    "    \n",
    "    dp = [[0 for _ in range(nc)] for _ in range(nr)]\n",
    "    \n",
    "    for i in range(nr):\n",
    "        for j in range(nc):\n",
    "            if i==0 and j==0:\n",
    "                dp[i][j] = grid[i][j]\n",
    "            elif j==0: # upward movement is possible\n",
    "                dp[i][j] = grid[i][j] + dp[i-1][j]\n",
    "            elif i==0: # only left movement is possible\n",
    "                dp[i][j] = grid[i][j] + dp[i][j-1]\n",
    "            else: # both up and left are possible\n",
    "                dp[i][j] = grid[i][j] + min(dp[i-1][j], dp[i][j-1])\n",
    "    print(*dp, sep=\"\\n\")\n",
    "    \n",
    "    return dp[nr-1][nc-1]"
   ]
  },
  {
   "cell_type": "code",
   "execution_count": 19,
   "id": "107bb8d9",
   "metadata": {},
   "outputs": [
    {
     "name": "stdout",
     "output_type": "stream",
     "text": [
      "[1, 4, 5]\n",
      "[2, 7, 6]\n",
      "[6, 8, 7]\n"
     ]
    },
    {
     "data": {
      "text/plain": [
       "7"
      ]
     },
     "execution_count": 19,
     "metadata": {},
     "output_type": "execute_result"
    }
   ],
   "source": [
    "arr = [[1,3,1],[1,5,1],[4,2,1]] # res = 7\n",
    "minPathSum(arr)"
   ]
  },
  {
   "cell_type": "markdown",
   "id": "75c251fe",
   "metadata": {},
   "source": [
    "#### Triangle Min Sum path (Fixed Start, Variable End)"
   ]
  },
  {
   "cell_type": "code",
   "execution_count": 26,
   "id": "71d41d75",
   "metadata": {},
   "outputs": [],
   "source": [
    "def traingle_minimum_total(triangle) -> int:\n",
    "    n = len(triangle)\n",
    "    \n",
    "    dp = [[0 for _ in range(x+1)] for x in range(n)]\n",
    "    dp[0][0] = triangle[0][0]\n",
    "    \n",
    "    for i in range(1,n):\n",
    "        prev_row_len = len(dp[i-1])\n",
    "        for j in range(len(dp[i])):\n",
    "            prev_res1 = float('inf')\n",
    "            prev_res2 = float('inf')\n",
    "            if j >= 0 and j < prev_row_len:\n",
    "                prev_res1 = dp[i-1][j]\n",
    "            if j-1 >= 0 and j-1 < prev_row_len:\n",
    "                prev_res2 = dp[i-1][j-1]\n",
    "            dp[i][j] = triangle[i][j] + min(prev_res1, prev_res2)\n",
    "    \n",
    "    print(*dp, sep=\"\\n\")\n",
    "    return min(dp[-1])\n",
    "            \n",
    "            "
   ]
  },
  {
   "cell_type": "code",
   "execution_count": 27,
   "id": "f9ee879a",
   "metadata": {},
   "outputs": [
    {
     "name": "stdout",
     "output_type": "stream",
     "text": [
      "[2]\n",
      "[5, 6]\n",
      "[11, 10, 13]\n",
      "[15, 11, 18, 16]\n"
     ]
    },
    {
     "data": {
      "text/plain": [
       "11"
      ]
     },
     "execution_count": 27,
     "metadata": {},
     "output_type": "execute_result"
    }
   ],
   "source": [
    "arr = [[2],[3,4],[6,5,7],[4,1,8,3]] # Res = 11\n",
    "\n",
    "traingle_minimum_total(arr)"
   ]
  },
  {
   "cell_type": "markdown",
   "id": "cad72a35",
   "metadata": {},
   "source": [
    "#### Min Falling Path Sum (Variable start,end)\n"
   ]
  },
  {
   "cell_type": "code",
   "execution_count": 30,
   "id": "3b2e478f",
   "metadata": {},
   "outputs": [],
   "source": [
    "def minFallingPathSum( matrix) -> int:\n",
    "    n = len(matrix)\n",
    "    dp = [[0 for _ in range(n)] for _ in range(n)]\n",
    "    dp[0] = matrix[0]\n",
    "    \n",
    "    for i in range(1,n):\n",
    "        for j in range(n):\n",
    "            # up direction is gauranteed, but diagonal up-left/right may overflow\n",
    "            diag1 = float('inf')\n",
    "            diag2 = float('inf')\n",
    "            \n",
    "            if (j-1) >= 0 and (j-1) < n:\n",
    "                diag1 = dp[i-1][j-1]\n",
    "            if (j+1) >= 0 and (j+1) < n:\n",
    "                diag2 = dp[i-1][j+1]\n",
    "            \n",
    "            dp[i][j] = matrix[i][j] + min([dp[i-1][j], diag1, diag2])\n",
    "            \n",
    "    return min(dp[-1])\n",
    "    "
   ]
  },
  {
   "cell_type": "code",
   "execution_count": 31,
   "id": "3fa89ec1",
   "metadata": {},
   "outputs": [
    {
     "name": "stdout",
     "output_type": "stream",
     "text": [
      "13\n",
      "-48\n"
     ]
    }
   ],
   "source": [
    "print(minFallingPathSum([[2,1,3],[6,5,4],[7,8,9]])) # res=13\n",
    "\n",
    "print(minFallingPathSum([[-48]])) # res = -48"
   ]
  },
  {
   "cell_type": "code",
   "execution_count": 300,
   "id": "b23568b3",
   "metadata": {},
   "outputs": [],
   "source": [
    "def subsetSumToK(n, k, arr):\n",
    "    dp = [[False for _ in range(k+1)] for _ in range(n)]\n",
    "\n",
    "    for i in range(n):\n",
    "        for j in range(k+1):\n",
    "            if j == 0:\n",
    "                dp[i][j] = True\n",
    "            elif i == 0:\n",
    "                dp[i][j] = (arr[i] == j)\n",
    "            else:\n",
    "                if arr[i] > j:\n",
    "                    dp[i][j] = dp[i-1][j]\n",
    "                else:\n",
    "                    dp[i][j] = dp[i-1][j] or dp[i-1][j-arr[i]]\n",
    "\n",
    "    # printList(dp)\n",
    "    return dp[n-1][k]\n"
   ]
  },
  {
   "cell_type": "code",
   "execution_count": 301,
   "id": "d44af75f",
   "metadata": {},
   "outputs": [
    {
     "data": {
      "text/plain": [
       "True"
      ]
     },
     "execution_count": 301,
     "metadata": {},
     "output_type": "execute_result"
    }
   ],
   "source": [
    "arr = [4,3,2,1]\n",
    "subsetSumToK(len(arr),5,arr)"
   ]
  },
  {
   "cell_type": "markdown",
   "id": "0da455ac",
   "metadata": {},
   "source": [
    "#### Dice Rolls with Target sum"
   ]
  },
  {
   "cell_type": "markdown",
   "id": "f9d89e61",
   "metadata": {},
   "source": [
    "https://leetcode.com/problems/number-of-dice-rolls-with-target-sum/ <br>\n",
    "\n",
    "You have n dice and each die has k faces numbered from 1 to k.\n",
    "Given three integers n, k, and target, return the number of possible ways (out of the kn total ways) to roll the dice so the sum of the face-up numbers equals target"
   ]
  },
  {
   "cell_type": "code",
   "execution_count": 270,
   "id": "d8ae86f9",
   "metadata": {},
   "outputs": [],
   "source": [
    "def dice_rolls(n, k, target):\n",
    "    # print(n,target)\n",
    "    idx = (n,target)\n",
    "    if n==1: # you have only 1 roll n can get [1..k]\n",
    "        return 1 if target <= k else 0\n",
    "\n",
    "    roll_count = 0\n",
    "    for i in range(1,k+1):\n",
    "        rem_target = target-i\n",
    "        if rem_target > 0: # tar<0:Cant Pick | tar==0: you reached without all throws (Not correct as you need to use all throws)\n",
    "            roll_count += dice_rolls(n-1, k, rem_target)\n",
    "    return roll_count\n"
   ]
  },
  {
   "cell_type": "code",
   "execution_count": 284,
   "id": "e5657134",
   "metadata": {},
   "outputs": [],
   "source": [
    "class Solution:\n",
    "    dp = {}\n",
    "    \n",
    "    def __init__(self):\n",
    "        self.dp = {}\n",
    "\n",
    "    def dice_rolls(self, n, k, target):\n",
    "        idx = (n,target)\n",
    "        if idx in self.dp:\n",
    "            return self.dp[idx]\n",
    "\n",
    "        if n==1: # you have only 1 roll n can get [1..k]\n",
    "            res =  1 if target <= k else 0\n",
    "            self.dp[idx] = res\n",
    "            return res\n",
    "\n",
    "        roll_count = 0\n",
    "        for i in range(1,k+1):\n",
    "            rem_target = target-i\n",
    "            if rem_target > 0: # tar<0:Cant Pick | tar==0: you reached without all throws (Not correct as you need to use all throws)\n",
    "                roll_count += self.dice_rolls(n-1, k, rem_target)  % ((10**9)+7)\n",
    "                \n",
    "        roll_count = roll_count % ((10**9)+7)\n",
    "        self.dp[idx] = roll_count\n",
    "        return roll_count\n"
   ]
  },
  {
   "cell_type": "code",
   "execution_count": 296,
   "id": "7011bfd2",
   "metadata": {},
   "outputs": [],
   "source": [
    "def dice_roll_tabular(n,k,target):\n",
    "    dp = [[0 for _ in range(target+1)] for _ in range(n+1)]\n",
    "\n",
    "    for i in range(1,n+1):\n",
    "        for j in range(target+1):\n",
    "            if i==1:\n",
    "                dp[i][j] = 1 if j <= k else 0\n",
    "            else:\n",
    "                r_count = 0\n",
    "                for x in range(1,k+1):\n",
    "                    if (j-x) > 0:\n",
    "                        r_count += (dp[i-1][j-x])% (10**9+7)\n",
    "                        r_count = r_count % (10**9+7)\n",
    "                dp[i][j] = r_count \n",
    "\n",
    "    return dp[n][target]"
   ]
  },
  {
   "cell_type": "code",
   "execution_count": 299,
   "id": "544dd2ce",
   "metadata": {},
   "outputs": [
    {
     "name": "stdout",
     "output_type": "stream",
     "text": [
      "6\n",
      "6\n",
      "6\n"
     ]
    }
   ],
   "source": [
    "print(dice_rolls(2,6,7))\n",
    "print(Solution().dice_rolls(2,6,7))\n",
    "print(dice_roll_tabular(2,6,7))"
   ]
  },
  {
   "cell_type": "code",
   "execution_count": 298,
   "id": "8dd67a13",
   "metadata": {},
   "outputs": [
    {
     "name": "stdout",
     "output_type": "stream",
     "text": [
      "1\n",
      "1\n",
      "1\n"
     ]
    }
   ],
   "source": [
    "print(dice_rolls(2,5,10))\n",
    "print(Solution().dice_rolls(2,5,10))\n",
    "print(dice_roll_tabular(2,5,10))"
   ]
  },
  {
   "cell_type": "code",
   "execution_count": 1,
   "id": "e6600840",
   "metadata": {},
   "outputs": [],
   "source": [
    "# TODO"
   ]
  },
  {
   "cell_type": "markdown",
   "id": "b20883a3",
   "metadata": {},
   "source": [
    "#### Coin Change"
   ]
  },
  {
   "cell_type": "markdown",
   "id": "541fd8bf",
   "metadata": {},
   "source": [
    "https://leetcode.com/problems/coin-change/\n",
    "\n",
    "Greedy Approach doesnt work here -> Use Unbounded Knapsack"
   ]
  },
  {
   "cell_type": "code",
   "execution_count": 30,
   "id": "0059a1de",
   "metadata": {},
   "outputs": [],
   "source": [
    "def min_coin_change(coins, amount):\n",
    "    n = len(coins) \n",
    "    dp = [float('inf') for _ in range(amount+1)] # initially we asume we need INF coins to make amount\n",
    "    dp[0] = 0\n",
    "\n",
    "    for cur_amount in range(1,amount+1):\n",
    "        for coin in coins:\n",
    "            if coin > cur_amount: # make sure coins is sorted | else iterate all elements\n",
    "                break\n",
    "            rem_amount = cur_amount - coin\n",
    "            if dp[rem_amount] != float('inf'):\n",
    "                dp[cur_amount] = min(dp[cur_amount], 1+dp[rem_amount])\n",
    "    \n",
    "    return dp[amount] if dp[amount] != float('inf') else -1\n"
   ]
  },
  {
   "cell_type": "code",
   "execution_count": 31,
   "id": "445d7abe",
   "metadata": {},
   "outputs": [
    {
     "data": {
      "text/plain": [
       "3"
      ]
     },
     "execution_count": 31,
     "metadata": {},
     "output_type": "execute_result"
    }
   ],
   "source": [
    "arr = [1,2,5]\n",
    "target = 11 # res = 3\n",
    "\n",
    "min_coin_change(arr, target)"
   ]
  },
  {
   "cell_type": "markdown",
   "id": "33454a78",
   "metadata": {},
   "source": [
    "#### Coin Change - Count possible ways to make change given inf coins"
   ]
  },
  {
   "cell_type": "code",
   "execution_count": 18,
   "id": "0e6de2bb",
   "metadata": {},
   "outputs": [],
   "source": [
    "def numberOfWays(coins,n,target):\n",
    "    dp = [[0 for _ in range(target+1)] for _ in range(n)]\n",
    "    \n",
    "    for i in range(0,n):\n",
    "        for j in range(target+1):\n",
    "            if j==0:\n",
    "                dp[i][j] = 1\n",
    "            elif i==0: # if you can pick only first coin, then 1 if you can get target usning n nos of that coin\n",
    "                dp[i][j] = 1 if j%coins[0] == 0 else 0\n",
    "            elif coins[i] > j:\n",
    "                dp[i][j] = dp[i-1][j]\n",
    "            else:\n",
    "                dp[i][j] = dp[i-1][j] + dp[i][j-coins[i]]\n",
    "                \n",
    "    print(*dp,sep=\"\\n\")\n",
    "    return dp[n-1][target]"
   ]
  },
  {
   "cell_type": "code",
   "execution_count": 19,
   "id": "e8733405",
   "metadata": {},
   "outputs": [
    {
     "name": "stdout",
     "output_type": "stream",
     "text": [
      "[1, 1, 1, 1, 1]\n",
      "[1, 1, 2, 2, 3]\n",
      "[1, 1, 2, 3, 4]\n",
      "4\n",
      "[1, 0, 1, 0, 1, 0, 1, 0, 1, 0, 1]\n",
      "[1, 0, 1, 0, 1, 1, 1, 1, 1, 1, 2]\n",
      "[1, 0, 1, 1, 1, 2, 2, 2, 3, 3, 4]\n",
      "[1, 0, 1, 1, 1, 2, 3, 2, 4, 4, 5]\n",
      "5\n"
     ]
    }
   ],
   "source": [
    "coins = [1,2,3]\n",
    "target = 4\n",
    "\n",
    "print(numberOfWays(coins, len(coins), target))\n",
    "\n",
    "coins = [2,5,3,6]\n",
    "target = 10\n",
    "print(numberOfWays(coins, len(coins), target))"
   ]
  },
  {
   "cell_type": "markdown",
   "id": "9bdedf2d-0efa-4be6-825a-5f14e1593324",
   "metadata": {},
   "source": [
    "#### Edit Distance"
   ]
  },
  {
   "cell_type": "markdown",
   "id": "15a76011-18b8-4959-ab6a-490da0bbf8de",
   "metadata": {},
   "source": [
    "Given two strings `word1` and `word2`, return the minimum number of operations required to convert word1 to word2.\n",
    "You have the following three operations permitted on a word:\n",
    "- Insert a character | Delete a character | Replace a character"
   ]
  },
  {
   "cell_type": "code",
   "execution_count": 73,
   "id": "4140372a-561e-48f0-a914-60bb57e7c6b2",
   "metadata": {},
   "outputs": [],
   "source": [
    "def edit_distance(s1, s2, m, n):\n",
    "    if m == 0: # s1 is empty, then ED = len(s2)\n",
    "        return n\n",
    "    elif n==0:\n",
    "        return m\n",
    "    \n",
    "    if s1[m-1] == s2[n-1]: # no ops needed as they are sma\n",
    "        return edit_distance(s1,s2,m-1,n-1)\n",
    "    else:\n",
    "        # +1 as in all case you perform 1 operation(insert/delete/replace)\n",
    "        return 1 + min([\n",
    "            edit_distance(s1,s2,m,n-1), # insert char in s1 to match s2 ending\n",
    "            edit_distance(s1,s2,m-1,n), # delete char from s1\n",
    "            edit_distance(s1,s2,m-1,n-1) # replace last char in s1 with matching one of s2\n",
    "        ])"
   ]
  },
  {
   "cell_type": "code",
   "execution_count": 77,
   "id": "f22e085f-2127-4cf0-82a8-dd10723df62d",
   "metadata": {},
   "outputs": [],
   "source": [
    "def edit_distance_dp(s1,s2):\n",
    "    m = len(s1)\n",
    "    n = len(s2)\n",
    "    \n",
    "    dp = [[0 for _ in range(n+1)] for _ in range(m+1)]\n",
    "    \n",
    "    for i in range(m+1):\n",
    "        for j in range(n+1):\n",
    "            if i==0:\n",
    "                dp[i][j] = j\n",
    "            elif j==0:\n",
    "                dp[i][j] = i\n",
    "            elif s1[i-1] == s2[j-1]:\n",
    "                dp[i][j] = dp[i-1][j-1]\n",
    "            else:\n",
    "                dp[i][j] =  1 + min([\n",
    "                    dp[i-1][j], # delete\n",
    "                    dp[i][j-1], # insert\n",
    "                    dp[i-1][j-1] # replace\n",
    "                ])\n",
    "    return dp[m][n]"
   ]
  },
  {
   "cell_type": "code",
   "execution_count": 92,
   "id": "5d513b24-cb72-43a5-83f8-e6086f1ca370",
   "metadata": {},
   "outputs": [],
   "source": [
    "def edit_dist_dp_1_index(s1,s2):\n",
    "    m = len(s1)\n",
    "    n = len(s2)\n",
    "    dp = [[0 for _ in range(n)] for _ in range(m)]\n",
    "    \n",
    "    for i in range(m):\n",
    "        for j in range(n):\n",
    "            if i==0 and j==0: # if only 1 char left in both\n",
    "                dp[i][j] = 0 if s1[i]==s2[j] else 1\n",
    "            elif i==0 or j==0: # one has 1 char n other has more than 1\n",
    "                res = 0 if s1[i]==s2[j] else 1 # if last char are same, then dp = left chars in longer string\n",
    "                dp[i][j] = res + (max(i,j))\n",
    "            elif s1[i] == s2[j]:\n",
    "                dp[i][j] = dp[i-1][j-1]\n",
    "            else:\n",
    "                dp[i][j] = 1 + min(dp[i][j-1],dp[i-1][j],dp[i-1][j-1])\n",
    "    return dp[m-1][n-1]"
   ]
  },
  {
   "cell_type": "code",
   "execution_count": 93,
   "id": "8a980d90-90a7-43f8-9782-9bc711513c9e",
   "metadata": {},
   "outputs": [
    {
     "name": "stdout",
     "output_type": "stream",
     "text": [
      "3\n",
      "3\n",
      "3 \n",
      "\n",
      "5\n",
      "5\n",
      "5 \n",
      "\n"
     ]
    }
   ],
   "source": [
    "word1,word2  = \"horse\",\"ros\"\n",
    "print(edit_distance(word1, word2, len(word1), len(word2)))\n",
    "print(edit_dist_dp_1_index(word1, word2))\n",
    "print(edit_distance_dp(word1, word2),\"\\n\")\n",
    "\n",
    "word1,word2  = \"intention\",\"execution\"\n",
    "print(edit_distance(word1, word2, len(word1), len(word2)))\n",
    "print(edit_dist_dp_1_index(word1, word2))\n",
    "print(edit_distance_dp(word1, word2),\"\\n\")"
   ]
  },
  {
   "cell_type": "markdown",
   "id": "bf07b4a1-6788-4f8e-814e-42bd3f670335",
   "metadata": {},
   "source": [
    "#### Longest Increasing Subsequence"
   ]
  },
  {
   "cell_type": "markdown",
   "id": "7a187072-62ba-46c6-9672-7a8bdd007bff",
   "metadata": {},
   "source": [
    "**Variations of LCS**\n",
    "1. **Minimum no of deletions to make array sorted** <br>\n",
    "   Min Deletions = len(arr) - LIS(arr)\n",
    "2. **Maximum Increasing Subsequence Sum**<br>\n",
    "   - DP[i] -> Max sum of IS ending at `i`\n",
    "   - Same logic, but in internal for loop instead of max_len pick max_sum\n",
    "3. **Maximum Length Bitonic Subsequence**<br>\n",
    "   - Bitonic : Increasing than decreasing (only one peak)\n",
    "   - Solution: Two dp arrays -> LIS and LDS\n",
    "       1. LIS[i] - length of longest IS ending at i\n",
    "       2. LDS[i] - Lenght of lontest Decreasing Subseq starting from i (Populated by reverse traversal L<-R)\n",
    "   - Max len = max(`LDS[i]`+`LCS[i]`-1) \n",
    "   - Why? `lis` gives max increasing subseq till `i,` n `lds` gives max decreasing subseq starting from `i`. Here, `i` is considered as peak"
   ]
  },
  {
   "cell_type": "code",
   "execution_count": 2,
   "id": "5ea86845-dba5-4b11-b466-14013bf81ba3",
   "metadata": {},
   "outputs": [],
   "source": [
    "def LIS(arr):\n",
    "    n = len(arr)\n",
    "    dp = [0 for _ in range(n)]\n",
    "\n",
    "    # DP[i] -> maximum length of LIS ending at index i\n",
    "    dp[0] = 1\n",
    "\n",
    "    for i in range(1,n):\n",
    "        ele = arr[i]\n",
    "        cur_len = 1\n",
    "        for j in range(i):\n",
    "            if arr[j] < ele: # you can only take nos before arr[i] (increasing subsequence)\n",
    "                cur_len = max(cur_len, 1+dp[j])\n",
    "        dp[i] = cur_len\n",
    "\n",
    "\n",
    "    return max(dp)"
   ]
  },
  {
   "cell_type": "code",
   "execution_count": 3,
   "id": "a3e3ae64-a853-438c-888d-bcffae0e4f61",
   "metadata": {},
   "outputs": [
    {
     "name": "stdout",
     "output_type": "stream",
     "text": [
      "6\n"
     ]
    }
   ],
   "source": [
    "arr = [1,3,6,7,9,4,10,5,6]\n",
    "print(LIS(arr))\n"
   ]
  },
  {
   "cell_type": "markdown",
   "id": "0e127e05",
   "metadata": {},
   "source": [
    "#### Longest Palindromic Substring"
   ]
  },
  {
   "cell_type": "markdown",
   "id": "9d22d1bf",
   "metadata": {},
   "source": [
    "- https://www.youtube.com/watch?v=UflHuQj6MVA\n",
    "- https://www.geeksforgeeks.org/longest-palindrome-substring-set-1/\n",
    " <br>\n",
    "1. if len(str) == 1, then its a palindrome <br>\n",
    "2. if len(str) == 2, & str[start] == str[end] => then its palindrome <br>\n",
    "3. len(str) > 2, (str[start]==str[end]) && is_palindrome(str[start+1:end-1])  <br>\n",
    "ababa -> a==a and is_palindrome(bab) <br> <br>\n",
    "Here, in our DP table -> i=startIndex, j=endIndex\n",
    "- We first fill dp[i][j] where i==j with 1 [Len == 1]\n",
    "- Then fill dp[i][j] where (j-i)=1 [Len == 2]\n",
    "- Fill remaining Lengths"
   ]
  },
  {
   "cell_type": "code",
   "execution_count": 44,
   "id": "ec223112",
   "metadata": {},
   "outputs": [],
   "source": [
    "def LPS(str):\n",
    "    n = len(str)\n",
    "    dp = [[False for _ in range(n)] for _ in range(n)]\n",
    "    \n",
    "    i = 0 # fill str with len == 1\n",
    "    while i<n:\n",
    "        dp[i][i] = True\n",
    "        i +=1\n",
    "\n",
    "    i=1 # fill str with len==2\n",
    "    while i<n:\n",
    "        if str[i-1] == str[i]:\n",
    "            dp[i-1][i] = True\n",
    "        i += 1\n",
    "\n",
    "    k = 3\n",
    "    for k in range(3,n):\n",
    "        for startIndex in range(0,n-k+1):\n",
    "            endIndex = startIndex + k -1\n",
    "            if str[startIndex] == str[endIndex] and dp[startIndex+1][endIndex-1]:\n",
    "                dp[startIndex][endIndex] = True\n",
    "\n",
    "\n",
    "    \n",
    "    print(*dp,sep=\"\\n\")"
   ]
  },
  {
   "cell_type": "code",
   "execution_count": 45,
   "id": "91bbf943",
   "metadata": {},
   "outputs": [
    {
     "name": "stdout",
     "output_type": "stream",
     "text": [
      "[True, False, False, False, False]\n",
      "[False, True, False, True, False]\n",
      "[False, False, True, False, False]\n",
      "[False, False, False, True, False]\n",
      "[False, False, False, False, True]\n"
     ]
    }
   ],
   "source": [
    "str = \"forgeeksskeegfor\"\n",
    "str = \"xwowy\"\n",
    "LPS(str)"
   ]
  },
  {
   "cell_type": "markdown",
   "id": "3f370d7e-f1de-4f67-a671-3ae8f78414c3",
   "metadata": {},
   "source": [
    "#### Longest Increasing Subsequence Sum"
   ]
  },
  {
   "cell_type": "markdown",
   "id": "edc263b6-3892-4923-a1ef-7bc4233c0b7a",
   "metadata": {},
   "source": [
    "Variation : https://leetcode.com/problems/best-team-with-no-conflicts/ <br>\n",
    "Here, its not strictly increasing -> less than or increasing"
   ]
  },
  {
   "cell_type": "code",
   "execution_count": 82,
   "id": "cdb83494-69cf-411a-9dff-c65e8bae8240",
   "metadata": {},
   "outputs": [],
   "source": [
    "def LIS_sum(arr):\n",
    "    n = len(arr)\n",
    "    dp = [0 for _ in range(n)]\n",
    "    dp[0] = arr[0]\n",
    "    \n",
    "    for i in range(1,n):\n",
    "        cur_ele = arr[i]\n",
    "        for j in range(i):\n",
    "            if arr[j]<arr[i]:\n",
    "                dp[i] = max(dp[i],cur_ele+dp[j])\n",
    "    print(dp)\n",
    "    return max(dp)"
   ]
  },
  {
   "cell_type": "code",
   "execution_count": 83,
   "id": "771cfb13-2919-4a01-bf19-b920d2d35bd2",
   "metadata": {},
   "outputs": [
    {
     "name": "stdout",
     "output_type": "stream",
     "text": [
      "[1, 102, 3, 6, 106, 10, 15]\n",
      "106\n"
     ]
    }
   ],
   "source": [
    "arr = [1, 101, 2, 3, 100, 4, 5] # res = 106\n",
    "print(LIS_sum(arr))\n"
   ]
  },
  {
   "cell_type": "markdown",
   "id": "994331a4",
   "metadata": {},
   "source": [
    "#### Egg Drop Puzzle"
   ]
  },
  {
   "cell_type": "markdown",
   "id": "a9d0e9a2",
   "metadata": {},
   "source": [
    "https://leetcode.com/problems/super-egg-drop/discuss/159079/Python-DP-from-kn2-to-knlogn-to-kn <br>\n",
    "https://www.youtube.com/watch?v=S49zeUjeUL0&list=PL_z_8CaSLPWekqhdCPmFohncHwz8TY2Go&index=42"
   ]
  },
  {
   "cell_type": "markdown",
   "id": "547c34dc",
   "metadata": {},
   "source": [
    "Brute-Force DP -> Will give TLE"
   ]
  },
  {
   "cell_type": "code",
   "execution_count": 33,
   "id": "5983b199",
   "metadata": {},
   "outputs": [],
   "source": [
    "def egg_drop(self, E, F): \n",
    "    \"\"\"_summary_\n",
    "\n",
    "    Args:\n",
    "        E : No of eggs\n",
    "        F : No of floors\n",
    "\n",
    "    \"\"\"\n",
    "    \n",
    "    dp = [[0 for _ in range(F+1)] for _ in range(E+1)]\n",
    "    \n",
    "    for e in range(2,E+1):\n",
    "        for f in range(2,F+1):\n",
    "            if e==0:\n",
    "                dp[e][f] = 0\n",
    "                continue\n",
    "            elif e==1:\n",
    "                dp[e][f] = f\n",
    "                continue\n",
    "            elif f<=1:\n",
    "                dp[e][f] = f\n",
    "                continue\n",
    "                \n",
    "            min_moves = float('inf')\n",
    "            for cur_f in range(1,f+1): # check all places you can drop first egg from [1..k]\n",
    "                worst_case = 1 + max( \n",
    "                    dp[e-1][cur_f-1], # breaks -> check below part\n",
    "                    dp[e][f-cur_f] # doesnt break -> check top part above cur_f\n",
    "                )\n",
    "                min_moves = min(min_moves, worst_case)\n",
    "            dp[e][f] = min_moves\n",
    "    # print(*dp,\"\\n\",sep=\"\\n\")\n",
    "    return dp[E][F]"
   ]
  },
  {
   "cell_type": "code",
   "execution_count": null,
   "id": "cec269ef",
   "metadata": {},
   "outputs": [],
   "source": []
  },
  {
   "cell_type": "markdown",
   "id": "8bcc6e9a",
   "metadata": {},
   "source": [
    "## Linked List"
   ]
  },
  {
   "cell_type": "code",
   "execution_count": 5,
   "id": "0e243d69",
   "metadata": {},
   "outputs": [],
   "source": [
    "class ListNode:\n",
    "    def __init__(self, val=0, next=None):\n",
    "        self.val = val\n",
    "        self.next = next\n",
    "    \n",
    "    def __str__(self):\n",
    "        return str(self.val)\n",
    "\n",
    "def printLL(head):\n",
    "    while head:\n",
    "        print(head.val,end=\"->\")\n",
    "        head = head.next\n",
    "    print()\n"
   ]
  },
  {
   "cell_type": "markdown",
   "id": "d87d320c",
   "metadata": {},
   "source": [
    "#### Middle of linkedlist"
   ]
  },
  {
   "cell_type": "code",
   "execution_count": 6,
   "id": "1558b3c9",
   "metadata": {},
   "outputs": [],
   "source": [
    "\n",
    "def middleNode(head):\n",
    "    slow = head\n",
    "    fast = head\n",
    "    \n",
    "    while fast and fast.next:\n",
    "        slow = slow.next\n",
    "        fast = fast.next.next\n",
    "    \n",
    "    return slow\n",
    "        \n",
    "        "
   ]
  },
  {
   "cell_type": "code",
   "execution_count": 7,
   "id": "0b501686",
   "metadata": {},
   "outputs": [
    {
     "name": "stdout",
     "output_type": "stream",
     "text": [
      "1->2->3->4->5->\n",
      "3\n"
     ]
    }
   ],
   "source": [
    "head = ListNode(1)\n",
    "head.next = ListNode(2)\n",
    "head.next.next = ListNode(3)\n",
    "head.next.next.next = ListNode(4)\n",
    "head.next.next.next.next = ListNode(5)\n",
    "\n",
    "printLL(head)\n",
    "\n",
    "print(middleNode(head))"
   ]
  },
  {
   "cell_type": "markdown",
   "id": "9d92c4b8",
   "metadata": {},
   "source": [
    "#### Remove Nth node from last"
   ]
  },
  {
   "cell_type": "markdown",
   "id": "ead84d81",
   "metadata": {},
   "source": [
    "**Logic**\n",
    "**Solution 1** : find len(LL) -> iterate to N-nth node <br>\n",
    "**Solution 2** : <br>\n",
    "INIT slow = head<br>\n",
    "INIT fast = head -> move fast n times<br>\n",
    "iterate slow and fast normally (increment by 1)<br>\n",
    "When fast reaches end -> slow = answer<br><br>\n",
    "\n",
    "**Logic**\n",
    "You init `fast` by `n` steps ahead of head, that means `slow` is `n` steps behind `fast` i.e fast-n<br>\n",
    "Then u increment both. When `fast` reaches end, `slow` will have reached `end-n` since it was lagging by `n` steps when we had started"
   ]
  },
  {
   "cell_type": "code",
   "execution_count": null,
   "id": "6d31ac04",
   "metadata": {},
   "outputs": [],
   "source": [
    "\n",
    "def removeNthFromEnd(self, head, n):\n",
    "    slow = head\n",
    "    fast = head\n",
    "    \n",
    "    \n",
    "    for _ in range(n):\n",
    "        fast = fast.next\n",
    "    \n",
    "    if not fast: # [1,2,3] n=3 -> fast will be at None, that means slow is already at (N-n)th position\n",
    "        return head.next\n",
    "    \n",
    "    while fast and fast.next:\n",
    "        slow = slow.next\n",
    "        fast = fast.next\n",
    "    \n",
    "    \n",
    "    slow.next = slow.next.next\n",
    "    return head\n",
    "        "
   ]
  },
  {
   "cell_type": "markdown",
   "id": "be49c37a",
   "metadata": {},
   "source": [
    "#### Reverse a Linked List"
   ]
  },
  {
   "cell_type": "code",
   "execution_count": 1,
   "id": "b1a50e9b",
   "metadata": {},
   "outputs": [],
   "source": [
    "\n",
    "def reverseList(self, head):\n",
    "    prev = None\n",
    "    cur = head \n",
    "    \n",
    "    while cur:\n",
    "        next_node = cur.next\n",
    "        cur.next = prev\n",
    "        prev = cur\n",
    "        cur = next_node\n",
    "        \n",
    "    return prev"
   ]
  },
  {
   "cell_type": "code",
   "execution_count": 14,
   "id": "3f03e51c",
   "metadata": {},
   "outputs": [],
   "source": [
    "def reverse_list_recursive(head):\n",
    "    if not head.next:\n",
    "        return head\n",
    "    \n",
    "    res = reverse_list_recursive(head.next)\n",
    "    res.next = head\n",
    "    head.next = None\n",
    "\n",
    "    return head\n"
   ]
  },
  {
   "cell_type": "markdown",
   "id": "9ca02c04",
   "metadata": {},
   "source": [
    "#### Remove Duplicates from Sorted Linked List"
   ]
  },
  {
   "cell_type": "code",
   "execution_count": 3,
   "id": "e2a5d74f",
   "metadata": {},
   "outputs": [],
   "source": [
    "\n",
    "class Solution:\n",
    "    def deleteDuplicates(self, head):\n",
    "        HEAD = head\n",
    "        node = head\n",
    "        \n",
    "        if not node:\n",
    "            return node\n",
    "        \n",
    "        while node and node.next:\n",
    "            if node.val == node.next.val: # even if you find duplicate it will get next in next iteration\n",
    "                node.next = node.next.next\n",
    "            else: # MAIN PART -> \n",
    "                node = node.next\n",
    "        \n",
    "        return HEAD"
   ]
  },
  {
   "cell_type": "markdown",
   "id": "bc66de4b",
   "metadata": {},
   "source": [
    "### Merge 2 Sorted Linked Lists [Extra Space]"
   ]
  },
  {
   "cell_type": "code",
   "execution_count": 17,
   "id": "fbcdc38e",
   "metadata": {},
   "outputs": [],
   "source": [
    "class Solution:\n",
    "        \n",
    "    def mergeTwoLists(self, head1, head2):\n",
    "        resHead = ListNode(0)\n",
    "        res_root = resHead\n",
    "        \n",
    "        while head1 and head2:\n",
    "            if head1.val <= head2.val:\n",
    "                resHead.next = ListNode(head1.val)\n",
    "                head1 = head1.next\n",
    "            else:\n",
    "                resHead.next = ListNode(head2.val)\n",
    "                head2 = head2.next\n",
    "            \n",
    "            \n",
    "            resHead = resHead.next\n",
    "        \n",
    "        if head1 and head2: # both lists exhausted\n",
    "            return res_root.next\n",
    "        \n",
    "        if head1: # only one list exhausted another one remains\n",
    "            resHead.next = head1\n",
    "        else:\n",
    "            resHead.next = head2\n",
    "            \n",
    "        return res_root.next"
   ]
  },
  {
   "cell_type": "markdown",
   "id": "03e30400",
   "metadata": {},
   "source": [
    "### Linked List Cycle\n"
   ]
  },
  {
   "cell_type": "code",
   "execution_count": 18,
   "id": "3b3dbd07",
   "metadata": {},
   "outputs": [],
   "source": [
    "def hasCycle(head):\n",
    "    slow = head\n",
    "    fast = head\n",
    "    \n",
    "    while fast and fast.next:\n",
    "        slow = slow.next\n",
    "        fast = fast.next.next\n",
    "        \n",
    "        if slow == fast:\n",
    "            return True\n",
    "    return False\n",
    "    "
   ]
  },
  {
   "cell_type": "markdown",
   "id": "1e329d34",
   "metadata": {},
   "source": [
    "### Linked List Cycle II - Detect Start of Cycle"
   ]
  },
  {
   "cell_type": "markdown",
   "id": "0f3b6b20",
   "metadata": {},
   "source": [
    "**Core Idea -> SlowFast + Index**\n",
    "1. L -> length of cycle (Find it)\n",
    "2. X,Y -> Head\n",
    "3. Move Y `L` times, then move both `Y` and `X` by 1 until they meet\n",
    "4. They meet at start of Linked List\n",
    "\n",
    "**Why?** <br>\n",
    "Lets say length of cycle is `k`, then initially `Y` is `k` times ahead of `X`<br>\n",
    "So always while iterating `Y` is `k` times ahead of `X`<br>\n",
    "**When they meet?** <br>\n",
    "They can only meet at start of cycle -> Only in this case `Y` is `k` ahead of `Y` and they meet since it traverses loop and returns back<br><br>\n",
    "\n",
    "**How to find len(cycle)?** <br>\n",
    "Slow-Fast approah until they meet\n",
    "Keep `slow` constant n move `Fast` by 1 until it meets `slow` again = length of cycle*"
   ]
  },
  {
   "cell_type": "code",
   "execution_count": 19,
   "id": "6aaaac5b",
   "metadata": {},
   "outputs": [],
   "source": [
    "class Solution:\n",
    "    def get_cycle_length(self, head):\n",
    "        slow = head\n",
    "        fast = head\n",
    "        cycle_len = 1\n",
    "        \n",
    "        while fast and fast.next:\n",
    "            slow = slow.next\n",
    "            fast = fast.next.next\n",
    "            \n",
    "            if slow == fast: # loop found\n",
    "                fast = fast.next\n",
    "                while slow != fast:\n",
    "                    fast = fast.next\n",
    "                    cycle_len += 1\n",
    "                    \n",
    "                return cycle_len\n",
    "            \n",
    "        return cycle_len\n",
    "                \n",
    "    def detectCycle(self, head):\n",
    "        slow = head\n",
    "        fast = head\n",
    "        \n",
    "        cycle_len = self.get_cycle_length(head) \n",
    "        if cycle_len == -1:\n",
    "            return None\n",
    "        \n",
    "        x, y = head, head\n",
    "        \n",
    "        # move x by cycle_length times\n",
    "        for i in range(cycle_len):\n",
    "            x = x.next\n",
    "        \n",
    "        while True:\n",
    "            if x==y:\n",
    "                return x\n",
    "            \n",
    "            x = x.next\n",
    "            y = y.next\n",
    "        "
   ]
  },
  {
   "cell_type": "markdown",
   "id": "4b644f68",
   "metadata": {},
   "source": [
    "**Another Approach** <br>\n",
    "Works internally based on previous logic only<br>\n",
    "1. Slow-Fast pointer until they meet<br>\n",
    "2. Reset slow = head, increment slow,fast by 1 till they meet<br>\n",
    "3. Where they meet == start of loop<br><br>\n",
    "https://leetcode.com/problems/linked-list-cycle-ii/discuss/1701055/JavaC%2B%2BPython-best-explanation-ever-happen's-for-this-problem <br>"
   ]
  },
  {
   "cell_type": "code",
   "execution_count": 20,
   "id": "25590db3",
   "metadata": {},
   "outputs": [],
   "source": [
    "class Solution:              \n",
    "    def detectCycle(self, head):\n",
    "        if not head or not head.next:\n",
    "            return None\n",
    "        \n",
    "        slow = head\n",
    "        fast = head\n",
    "        \n",
    "        while fast and fast.next:\n",
    "            slow = slow.next\n",
    "            fast = fast.next.next\n",
    "            \n",
    "            if slow==fast:\n",
    "                slow = head\n",
    "                while slow != fast:\n",
    "                    fast = fast.next\n",
    "                    slow = slow.next\n",
    "                return slow\n",
    "        \n",
    "        return None"
   ]
  },
  {
   "cell_type": "markdown",
   "id": "2008d588",
   "metadata": {},
   "source": [
    "## Binary Search"
   ]
  },
  {
   "cell_type": "markdown",
   "id": "e9193b62",
   "metadata": {},
   "source": [
    "#### Binary Search"
   ]
  },
  {
   "cell_type": "code",
   "execution_count": 35,
   "id": "612b2ffb",
   "metadata": {},
   "outputs": [],
   "source": [
    "def bin_search(arr, target, start=None, end=None) -> int:\n",
    "    n = len(arr)\n",
    "    lo = start if start else 0\n",
    "    hi = end if end else n-1\n",
    "\n",
    "    if hi == lo and arr[hi]==target: # IMPORTANT -> [5], [4] \n",
    "        return lo\n",
    "\n",
    "    while lo <= hi: # IMPORTANT -> (use <= if key lies first or last index)\n",
    "        mid = lo + ((hi-lo)//2)\n",
    "        if arr[mid] == target:\n",
    "            return mid\n",
    "        elif arr[mid] > target:\n",
    "            hi = mid-1\n",
    "        else:\n",
    "            lo = mid+1\n",
    "    return -1\n"
   ]
  },
  {
   "cell_type": "code",
   "execution_count": null,
   "id": "b874b95e",
   "metadata": {},
   "outputs": [
    {
     "data": {
      "text/plain": [
       "0"
      ]
     },
     "metadata": {},
     "output_type": "display_data"
    }
   ],
   "source": [
    "arr = [2,5]\n",
    "bin_search(arr,2)"
   ]
  },
  {
   "cell_type": "code",
   "execution_count": null,
   "id": "6f79a36c",
   "metadata": {},
   "outputs": [
    {
     "data": {
      "text/plain": [
       "6"
      ]
     },
     "metadata": {},
     "output_type": "display_data"
    }
   ],
   "source": [
    "arr = [1,2,3,40,50,99,100]\n",
    "bin_search(arr, 100)"
   ]
  },
  {
   "cell_type": "markdown",
   "id": "d9206c99",
   "metadata": {},
   "source": [
    "#### First/Last Occurence in sorted array"
   ]
  },
  {
   "cell_type": "code",
   "execution_count": null,
   "id": "aa9bcaec",
   "metadata": {},
   "outputs": [],
   "source": [
    "def first_occurence(arr, target):\n",
    "    n = len(arr)\n",
    "    lo = 0\n",
    "    hi = n-1\n",
    "    firstOcc = -1\n",
    "\n",
    "    while lo<=hi:\n",
    "        mid = lo + ((hi-lo)//2)\n",
    "        if arr[mid]==target: # if same store and move left-side\n",
    "            firstOcc = mid\n",
    "            hi = mid-1\n",
    "        elif arr[mid] > target:\n",
    "            hi = mid-1\n",
    "        else:\n",
    "            lo = mid+1\n",
    "\n",
    "    return firstOcc\n",
    "\n",
    "\n",
    "def last_occurence(arr, target):\n",
    "    n = len(arr)\n",
    "    lo = 0\n",
    "    hi = n-1\n",
    "    lastOcc = -1\n",
    "\n",
    "    while lo<hi:\n",
    "        mid = lo + ((hi-lo)//2)\n",
    "        if arr[mid]==target: # if same store and move right-side\n",
    "            lastOcc = mid\n",
    "            lo = mid+1\n",
    "        elif arr[mid] > target:\n",
    "            hi = mid-1\n",
    "        else:\n",
    "            lo = mid+1\n",
    "\n",
    "    return lastOcc\n"
   ]
  },
  {
   "cell_type": "code",
   "execution_count": null,
   "id": "06fe319f",
   "metadata": {},
   "outputs": [
    {
     "name": "stdout",
     "output_type": "stream",
     "text": [
      "0\n",
      "3\n",
      "9 \n",
      "\n",
      "2\n",
      "7\n",
      "11\n"
     ]
    }
   ],
   "source": [
    "arr = [2,2,2,3,3,3,3,3,3,5,5,5,5]\n",
    "# arr = [2,2,3,3,3,5,5]\n",
    "print(first_occurence(arr,2))\n",
    "print(first_occurence(arr,3))\n",
    "print(first_occurence(arr,5),\"\\n\")\n",
    "\n",
    "print(last_occurence(arr,2))\n",
    "print(last_occurence(arr,3))\n",
    "print(last_occurence(arr,5))"
   ]
  },
  {
   "cell_type": "markdown",
   "id": "1607af97",
   "metadata": {},
   "source": [
    "#### Find Square root using BinSearch (Given exists)"
   ]
  },
  {
   "cell_type": "code",
   "execution_count": null,
   "id": "492c905d",
   "metadata": {},
   "outputs": [],
   "source": [
    "def get_square_root(n):\n",
    "    lo = 0\n",
    "    hi = n//2\n",
    "\n",
    "    n_iters = 0\n",
    "\n",
    "    while lo <= hi:\n",
    "        n_iters += 1\n",
    "        mid = lo + ((hi-lo)//2)\n",
    "\n",
    "        if mid**2 == n:\n",
    "            print(\"Iterations: \",n_iters,end=\" | -> Answer:\")\n",
    "            return mid\n",
    "        elif mid**2 > n:\n",
    "            hi = mid-1\n",
    "        else:\n",
    "            lo = mid+1\n",
    "\n",
    "    \n",
    "    return -1\n"
   ]
  },
  {
   "cell_type": "code",
   "execution_count": null,
   "id": "7b0480a6",
   "metadata": {},
   "outputs": [
    {
     "name": "stdout",
     "output_type": "stream",
     "text": [
      "Iterations:  4 | -> Answer:12\n",
      "Iterations:  10 | -> Answer:50\n"
     ]
    }
   ],
   "source": [
    "print(get_square_root(144))\n",
    "print(get_square_root(2500))"
   ]
  },
  {
   "cell_type": "markdown",
   "id": "2ded9579",
   "metadata": {},
   "source": [
    "#### Search in Rotate Sorted array\n"
   ]
  },
  {
   "cell_type": "markdown",
   "id": "539730b9",
   "metadata": {},
   "source": [
    "Steps : Find Pivot (Use Binary Search) -> Binary Search on left and right parts (which are already sorted)\n",
    "\n",
    "Pivot Ele : First element of right sorted array\n",
    "[4,5,6,1,2,3] pivot = 1"
   ]
  },
  {
   "cell_type": "code",
   "execution_count": 36,
   "id": "00109a96",
   "metadata": {},
   "outputs": [],
   "source": [
    "## LOGIC : if you plot both segments a[0] will alwaysbe greater than 'PIVOT' element\n",
    "def get_pivot_index(arr):\n",
    "    n = len(arr)\n",
    "    lo = 0\n",
    "    hi = n-1\n",
    "\n",
    "    while lo<hi:\n",
    "        mid = lo + ((hi-lo)//2)\n",
    "        if arr[mid] >= arr[0]:\n",
    "            lo = mid+1\n",
    "        else:\n",
    "            hi = mid #cur ele can be res, or some elements may be in left side\n",
    "\n",
    "    return lo\n",
    "\n",
    "def binary_seach_rotated(arr, key):\n",
    "    n = len(arr)\n",
    "    pivot_index = get_pivot_index(arr)\n",
    "\n",
    "    res1 = bin_search(arr[:pivot_index], key)\n",
    "    res2 = bin_search(arr[pivot_index:], key)\n",
    "\n",
    "    if res1 != -1:\n",
    "        return res1\n",
    "    elif res2 != -1:\n",
    "        return res2\n",
    "    return -1"
   ]
  },
  {
   "cell_type": "code",
   "execution_count": 39,
   "id": "66d3b901",
   "metadata": {},
   "outputs": [
    {
     "name": "stdout",
     "output_type": "stream",
     "text": [
      "1 -> 4\n"
     ]
    }
   ],
   "source": [
    "arr = [3,4,5,1,2] # pivot = 1\n",
    "\n",
    "res_index = binary_seach_rotated(arr, 4)\n",
    "print(res_index,\"->\", arr[res_index])\n"
   ]
  },
  {
   "cell_type": "markdown",
   "id": "76d2228b",
   "metadata": {},
   "source": [
    "#### Book Allocation Problem"
   ]
  },
  {
   "cell_type": "markdown",
   "id": "c71f7a53",
   "metadata": {},
   "source": [
    "**Question**<br>\n",
    "- https://www.codingninjas.com/codestudio/problems/allocate-books_1090540\n",
    "\n",
    "\n",
    "**Solutions**<br>\n",
    "- https://www.codingninjas.com/codestudio/library/book-allocation-problem<br>\n",
    "- https://www.youtube.com/watch?v=YTTdLgyqOLY&list=PLDzeHZWIZsTryvtXdMr6rPh4IDexB5NIA&index=15 <br>"
   ]
  },
  {
   "cell_type": "code",
   "execution_count": 6,
   "id": "4d6ea520",
   "metadata": {},
   "outputs": [],
   "source": [
    "# check if you can allocate to two students and get score as `score`\n",
    "# minimum of Max(partition_sum1, partition_sum2)\n",
    "\n",
    "def check_if_possible(arr, score, n_students):\n",
    "    \"\"\"\n",
    "    Check if you can give atmost score pages to each person\n",
    "    Why atmost? Because you take maximum of both the partitions\n",
    "    \"\"\"\n",
    "    count = 1\n",
    "    cur_score = 0\n",
    "    for i in range(len(arr)):\n",
    "        if cur_score + arr[i] <= score: # you can allocate this\n",
    "            cur_score += arr[i]\n",
    "        else:\n",
    "            count += 1\n",
    "            # more than 2 needed, or cur ele > score (you cant pick that only n you need to include all in answer)\n",
    "            if count>n_students or arr[i]>score:\n",
    "                return False\n",
    "            cur_score = arr[i]\n",
    "    return True\n",
    "\n",
    "            \n",
    "\n",
    "def allocate_books(arr, n_students=2):\n",
    "    if n_students == 1:\n",
    "        return sum(arr)\n",
    "    n = len(arr)\n",
    "    lo = 0 # min result\n",
    "    hi = sum(arr) # max result -> both min and max are not possible\n",
    "\n",
    "    temp_res = 0\n",
    "    while lo < hi:\n",
    "        mid = lo + ((hi-lo)//2)\n",
    "\n",
    "        if check_if_possible(arr, mid, n_students=n_students):\n",
    "            temp_res = mid\n",
    "            hi = mid\n",
    "        else:\n",
    "            lo = mid+1\n",
    "\n",
    "    return temp_res\n",
    "\n"
   ]
  },
  {
   "cell_type": "code",
   "execution_count": 7,
   "id": "9a9bd942",
   "metadata": {},
   "outputs": [
    {
     "data": {
      "text/plain": [
       "15"
      ]
     },
     "execution_count": 7,
     "metadata": {},
     "output_type": "execute_result"
    }
   ],
   "source": [
    "arr = [10, 20, 30, 40] \n",
    "# res = 60 -> 10,20,30|40 -> max(60|40)\n",
    "\n",
    "allocate_books([12 ,9, 3, 3, 15, 10, 2, 11,4 ], n_students = 5)"
   ]
  },
  {
   "cell_type": "code",
   "execution_count": 9,
   "id": "688499b0",
   "metadata": {},
   "outputs": [
    {
     "name": "stdout",
     "output_type": "stream",
     "text": [
      "19\n",
      "25\n",
      "8\n"
     ]
    }
   ],
   "source": [
    "print(allocate_books([4,5,10], 1))\n",
    "\n",
    "print(allocate_books([3,1,10,6,5], 1))\n",
    "\n",
    "print(allocate_books([8,2,6,8], 3))"
   ]
  },
  {
   "cell_type": "markdown",
   "id": "20587057",
   "metadata": {},
   "source": [
    "#### Aggresive Cows"
   ]
  },
  {
   "cell_type": "markdown",
   "id": "0259694a",
   "metadata": {},
   "source": [
    "#### First Bad Version"
   ]
  },
  {
   "cell_type": "markdown",
   "id": "27a761a5",
   "metadata": {},
   "source": [
    "[Leetcode Link](https://leetcode.com/problems/first-bad-version)\n",
    "- If one version is bad all versions following it will be bad\n",
    "- Suppose you have n versions [1, 2, ..., n] and you want to find out the first bad one, which causes all the following ones to be bad.\n",
    "- You are given an API bool isBadVersion(version) which returns whether version is bad. Implement a function to find the first bad version. You should minimize the number of calls to the API."
   ]
  },
  {
   "cell_type": "code",
   "execution_count": 1,
   "id": "2e45cb54",
   "metadata": {},
   "outputs": [],
   "source": [
    "\n",
    "def firstBadVersion(self, n: int) -> int:\n",
    "    lo = 1\n",
    "    hi = n\n",
    "    \n",
    "    if n == 1:\n",
    "        return 1\n",
    "    \n",
    "    while lo <= hi:\n",
    "        mid = lo + ((hi-lo)//2) \n",
    "        \n",
    "        if isBadVersion(mid): # if bad -> There may also be bad ones at the left\n",
    "            if not isBadVersion(mid-1):\n",
    "                return mid\n",
    "            hi = mid-1\n",
    "        else: # if not bad move right \n",
    "            lo = mid+1\n",
    "    "
   ]
  },
  {
   "cell_type": "markdown",
   "id": "e9c36b58",
   "metadata": {},
   "source": [
    "## Graphs"
   ]
  },
  {
   "cell_type": "markdown",
   "id": "8071bd2f",
   "metadata": {},
   "source": [
    "#### Max area of Islands"
   ]
  },
  {
   "cell_type": "markdown",
   "id": "0997e268",
   "metadata": {},
   "source": [
    "https://leetcode.com/problems/max-area-of-island/"
   ]
  },
  {
   "cell_type": "code",
   "execution_count": 59,
   "id": "1b0f2013",
   "metadata": {},
   "outputs": [],
   "source": [
    "class NumberIslands:\n",
    "    def __init__(self, arr):\n",
    "        self.arr = arr\n",
    "        self.nr = len(arr)\n",
    "        self.nc = len(arr[0])\n",
    "        self.vis = [[False for _ in range(self.nc)] for _ in range(self.nr)]\n",
    "        \n",
    "    def get_max_island(self):\n",
    "        maxLen = 0\n",
    "        for i in range(self.nr):\n",
    "            for j in range(self.nc):\n",
    "                if self.arr[i][j] == 1:\n",
    "                    islandLen = self.flood_fill(i,j)\n",
    "                    maxLen = max(maxLen, islandLen)\n",
    "        return maxLen\n",
    "\n",
    "    \n",
    "    def isValid(self, i, j):\n",
    "        return i>=0 and i<self.nr and j>=0 and j<self.nc   \n",
    "\n",
    "    def flood_fill(self, i,j, length=0):\n",
    "        if self.isValid(i,j) and self.arr[i][j]==1:\n",
    "            self.arr[i][j] = 0\n",
    "        \n",
    "            # Explore all four directions\n",
    "            return 1+ self.flood_fill(i+1,j) + self.flood_fill(i-1,j) +self.flood_fill(i,j+1) + self.flood_fill(i,j-1)\n",
    "        return 0\n",
    "            "
   ]
  },
  {
   "cell_type": "code",
   "execution_count": 60,
   "id": "c09275b4",
   "metadata": {},
   "outputs": [
    {
     "data": {
      "text/plain": [
       "6"
      ]
     },
     "execution_count": 60,
     "metadata": {},
     "output_type": "execute_result"
    }
   ],
   "source": [
    "grid = [\n",
    "    [0,0,1,0,0,0,0,1,0,0,0,0,0],\n",
    "    [0,0,0,0,0,0,0,1,1,1,0,0,0],\n",
    "    [0,1,1,0,1,0,0,0,0,0,0,0,0],\n",
    "    [0,1,0,0,1,1,0,0,1,0,1,0,0],\n",
    "    [0,1,0,0,1,1,0,0,1,1,1,0,0],\n",
    "    [0,0,0,0,0,0,0,0,0,0,1,0,0],\n",
    "    [0,0,0,0,0,0,0,1,1,1,0,0,0],\n",
    "    [0,0,0,0,0,0,0,1,1,0,0,0,0]\n",
    "] # SOL = 6\n",
    "\n",
    "NumberIslands(grid).get_max_island()"
   ]
  },
  {
   "cell_type": "markdown",
   "id": "ee7b6544",
   "metadata": {},
   "source": [
    "#### 01 Matrix"
   ]
  },
  {
   "cell_type": "markdown",
   "id": "fa8a4ce7",
   "metadata": {},
   "source": [
    "https://leetcode.com/problems/01-matrix/discuss/1369741/C%2B%2BJavaPython-BFS-DP-solutions-with-Picture-Clean-and-Concise-O(1)-Space <br>\n",
    "https://www.youtube.com/watch?v=lyLtgxUS910 <br><br>\n",
    "\n",
    "**Solution 1**: For each `1` apply BFS and get shortest distance to `0`<br>\n",
    "**Solution 2**: Reverse BFS (Simultaneous BFS)<br>\n",
    "Add all `0`s to a queue and start BFS <br>\n",
    "**NOTE**: When you run BFS you are assured that the first time you discover a node that itself will be the shortest distance. Hence, no need of using minimum search"
   ]
  },
  {
   "cell_type": "code",
   "execution_count": 4,
   "id": "ed238185",
   "metadata": {},
   "outputs": [],
   "source": [
    "class SolutionZeroOneMatrix:\n",
    "    def is_valid(self,i,j):\n",
    "        return i>=0 and i<self.nr and j>=0 and j<self.nc\n",
    "    \n",
    "    def updateMatrix(self, mat):\n",
    "        \n",
    "        self.nr = len(mat)\n",
    "        self.nc = len(mat[0])\n",
    "        dist = [[-1 for _ in range(self.nc)] for _ in range(self.nr)]\n",
    "        q = []\n",
    "        \n",
    "        # Add all zeros to Q and mark distance as 0, d=-1 for 1's\n",
    "        for i in range(self.nr):\n",
    "            for j in range(self.nc):\n",
    "                if mat[i][j] == 0:\n",
    "                    dist[i][j] = 0\n",
    "                    q.append((i,j))\n",
    "        \n",
    "        dx = [0,1,0,-1]\n",
    "        dy = [1,0,-1,0]\n",
    "        while q:\n",
    "            node = q.pop(0)\n",
    "            for i in range(4): # all 4 directions\n",
    "                x = node[0] + dx[i]\n",
    "                y = node[1] + dy[i]\n",
    "                if self.is_valid(x,y) and dist[x][y] == -1:\n",
    "                    dist[x][y] = 1 + dist[node[0]][node[1]]\n",
    "                    q.append((x,y))\n",
    "                \n",
    "        return dist\n",
    "        \n",
    "                    \n",
    "        "
   ]
  },
  {
   "cell_type": "markdown",
   "id": "71f07936",
   "metadata": {},
   "source": [
    "#### Rotten Oranges - Graph Approach"
   ]
  },
  {
   "cell_type": "markdown",
   "id": "1d70438d",
   "metadata": {},
   "source": [
    "https://leetcode.com/problems/rotting-oranges/"
   ]
  },
  {
   "cell_type": "code",
   "execution_count": null,
   "id": "1b2308a1",
   "metadata": {},
   "outputs": [],
   "source": [
    "class Solution:\n",
    "    \n",
    "    dx = [0,1,0,-1]\n",
    "    dy = [1,0,-1,0]\n",
    "    \n",
    "    def is_valid(self,i,j):\n",
    "        return i>=0 and i<self.nr and j>=0 and j<self.nc\n",
    "    \n",
    "                \n",
    "    \n",
    "    def orangesRotting(self, grid) -> int:\n",
    "        self.nr = len(grid)\n",
    "        self.nc = len(grid[0])\n",
    "        self.arr = grid\n",
    "        freshCount = 0\n",
    "        vis = [[False for _ in range(self.nc)] for _ in range(self.nr)]\n",
    "        n_rotten = 0\n",
    "        \n",
    "        q = []\n",
    "        \n",
    "        for i in range(self.nr):\n",
    "            for j in range(self.nc):\n",
    "                if grid[i][j] == 2:\n",
    "                    n_rotten += 1\n",
    "                    q.append((i,j))\n",
    "                elif grid[i][j] == 1:\n",
    "                    freshCount += 1\n",
    "        \n",
    "        # BFS with Multiple Sources/Rotten oranges\n",
    "        time = 0\n",
    "        while q and freshCount>0:\n",
    "            time += 1\n",
    "            for i in range(len(q)):\n",
    "                node = q.pop(0)\n",
    "                vis[node[0]][node[1]] = True\n",
    "                \n",
    "                for t in range(4):\n",
    "                    next_x = node[0]+self.dx[t]\n",
    "                    next_y = node[1]+self.dy[t]\n",
    "                    \n",
    "                    if self.is_valid(next_x,next_y):\n",
    "                        if grid[next_x][next_y] == 1 and not vis[next_x][next_y]:\n",
    "                            q.append((next_x, next_y))\n",
    "                            grid[next_x][next_y] = 2\n",
    "                            freshCount -= 1\n",
    "                            \n",
    "            # print(freshCount)\n",
    "            # print(*grid, sep=\"\\n\", end=\"\\n\\n\")\n",
    "        \n",
    "        return time if freshCount == 0 else -1\n",
    "        \n",
    "        \n",
    "        \n",
    "        "
   ]
  },
  {
   "cell_type": "markdown",
   "id": "d6591122",
   "metadata": {},
   "source": [
    "## Sliding Window"
   ]
  },
  {
   "cell_type": "markdown",
   "id": "35b1444f",
   "metadata": {},
   "source": [
    "#### Longest Substring Without Repeating Characters"
   ]
  },
  {
   "cell_type": "markdown",
   "id": "b258b48f",
   "metadata": {},
   "source": [
    "https://leetcode.com/problems/longest-substring-without-repeating-characters/"
   ]
  },
  {
   "cell_type": "code",
   "execution_count": 16,
   "id": "fb5e7650",
   "metadata": {},
   "outputs": [],
   "source": [
    "def remove_from_map_before(hMap, idx):\n",
    "\n",
    "    for key,val in list(hMap.items()):\n",
    "        if val <= idx:\n",
    "            del hMap[key]\n",
    "    return hMap\n",
    "\n",
    "def longest_substr(s):\n",
    "    arr = list(s)\n",
    "    n = len(arr)\n",
    "    hashmap = {}\n",
    "    maxLen = 0\n",
    "\n",
    "    for idx, x in enumerate(arr):\n",
    "        if x in hashmap:\n",
    "            maxLen = max(maxLen, len(hashmap))\n",
    "            hashmap = remove_from_map_before(hashmap, hashmap[x])\n",
    "\n",
    "        hashmap[x] = idx\n",
    "\n",
    "    return  max(maxLen, len(hashmap))\n"
   ]
  },
  {
   "cell_type": "code",
   "execution_count": 17,
   "id": "472c6f22",
   "metadata": {},
   "outputs": [],
   "source": [
    "def longest_distint_substr_optimal(s):\n",
    "    arr = list(s)\n",
    "    n = len(arr)\n",
    "\n",
    "    startIndex = 0\n",
    "    seenChars = {}\n",
    "    maxLen = 0\n",
    "\n",
    "    for i,x in enumerate(arr):\n",
    "        if x not in seenChars:\n",
    "            maxLen = max(maxLen, i-startIndex+1)\n",
    "        else:\n",
    "            if seenChars[x] < startIndex:\n",
    "                maxLen = max(maxLen, i-startIndex+1)\n",
    "            else:\n",
    "                startIndex = seenChars[x]+1\n",
    "\n",
    "        seenChars[x] = i\n",
    "    \n",
    "    return maxLen"
   ]
  },
  {
   "cell_type": "code",
   "execution_count": 22,
   "id": "8d7f57e1",
   "metadata": {},
   "outputs": [
    {
     "name": "stdout",
     "output_type": "stream",
     "text": [
      "3\n",
      "1\n",
      "3\n",
      "2\n",
      "3 \n",
      "------>\n",
      "3\n",
      "1\n",
      "3\n",
      "2\n",
      "3\n"
     ]
    }
   ],
   "source": [
    "print(longest_substr(\"abcabcbb\"))\n",
    "print(longest_substr(\"bbbbb\"))\n",
    "print(longest_substr(\"pwwkew\"))\n",
    "print(longest_substr(\"aab\"))\n",
    "print(longest_substr(\"dvdf\"),\"\\n------>\")\n",
    "\n",
    "print(longest_distint_substr_optimal(\"abcabcbb\"))\n",
    "print(longest_distint_substr_optimal(\"bbbbb\"))\n",
    "print(longest_distint_substr_optimal(\"pwwkew\"))\n",
    "print(longest_distint_substr_optimal(\"aab\"))\n",
    "print(longest_distint_substr_optimal(\"dvdf\"))"
   ]
  },
  {
   "cell_type": "markdown",
   "id": "7501aca8",
   "metadata": {},
   "source": [
    "#### Permutation in String"
   ]
  },
  {
   "cell_type": "markdown",
   "id": "3034c906",
   "metadata": {},
   "source": [
    "https://leetcode.com/problems/permutation-in-string/ <br>\n",
    "Check if `S2` contains a permutaion of `S1` <br><br>\n",
    "**Greedy Solution Idea** : if you find any char which is in `s1`, then check if string[i:i+len(s2)] is palindrome of s1 <br><br>\n",
    "**Sliding Window Idea** : we know `len(s1)`, so take sliding window of size `len(s1)` and slide it on `s2`. <br>\n",
    "At each window compare frequency of elements with `s1` to check if its palindrome"
   ]
  },
  {
   "cell_type": "code",
   "execution_count": 51,
   "id": "06f0c41f",
   "metadata": {},
   "outputs": [],
   "source": [
    "def check_perm(s, charMap):\n",
    "    # print(s)\n",
    "    for ch in s:\n",
    "        if ch not in charMap:\n",
    "            return False\n",
    "        charMap[ch] -= 1\n",
    "\n",
    "    for x in charMap.values():\n",
    "        if x != 0:\n",
    "            return False\n",
    "    return True\n",
    "\n",
    "\n",
    "def check_permute(s1, s2):\n",
    "    s1 = list(s1)\n",
    "    s2 = list(s2)\n",
    "    n1 = len(s1)\n",
    "    n2 = len(s2)\n",
    "\n",
    "    strMap = dict()\n",
    "    for ch in s1:\n",
    "        strMap[ch] = strMap.get(ch, 0) + 1\n",
    "\n",
    "    for i, x in enumerate(s2):\n",
    "        if x in strMap and ((i+n1) <= n2):\n",
    "            if check_perm(s2[i:i+n1], strMap.copy()):\n",
    "                return True\n",
    "\n",
    "    return False\n"
   ]
  },
  {
   "cell_type": "code",
   "execution_count": 52,
   "id": "46985308",
   "metadata": {},
   "outputs": [
    {
     "name": "stdout",
     "output_type": "stream",
     "text": [
      "['a', 'k']\n",
      "['b', 'k']\n",
      "['a', 'b']\n"
     ]
    },
    {
     "data": {
      "text/plain": [
       "True"
      ]
     },
     "execution_count": 52,
     "metadata": {},
     "output_type": "execute_result"
    }
   ],
   "source": [
    "check_permute(\"ab\",\"akkkkbkjkjkab\")"
   ]
  },
  {
   "cell_type": "markdown",
   "id": "9c28a351",
   "metadata": {},
   "source": [
    "## Trees\n"
   ]
  },
  {
   "cell_type": "markdown",
   "id": "c53c696a",
   "metadata": {},
   "source": [
    "YT Trees Playlist : https://www.youtube.com/playlist?list=PLgUwDviBIf0q8Hkd7bK2Bpryj2xVJk8Vk"
   ]
  },
  {
   "cell_type": "code",
   "execution_count": 4,
   "id": "b2922c4e",
   "metadata": {},
   "outputs": [],
   "source": [
    "class TreeNode:\n",
    "    def __init__(self,val = 0, left=None, right=None):\n",
    "        self.left = left\n",
    "        self.right = right\n",
    "        self.val = val"
   ]
  },
  {
   "cell_type": "code",
   "execution_count": 5,
   "id": "95764486",
   "metadata": {},
   "outputs": [],
   "source": [
    "'''\n",
    "      1\n",
    "  2      3\n",
    " 4 5    6 7\n",
    "'''\n",
    "n4 = TreeNode(4)\n",
    "n5 = TreeNode(5)\n",
    "n6 = TreeNode(6)\n",
    "n7 = TreeNode(7)\n",
    "\n",
    "n2 = TreeNode(2,n4,n5)\n",
    "n3 = TreeNode(3,n6,n7)\n",
    "\n",
    "root_node = TreeNode(1,n2,n3)"
   ]
  },
  {
   "cell_type": "markdown",
   "id": "c3e557d7",
   "metadata": {},
   "source": [
    "#### BFS and DFS"
   ]
  },
  {
   "cell_type": "markdown",
   "id": "7bf78e27",
   "metadata": {},
   "source": [
    "**Stack : LIFO** <br>\n",
    "push -> list.append(val) <br>\n",
    "pop -> list.pop() <br>\n",
    " <br>\n",
    "**Queue : FIFO** <br>\n",
    "push -> list.appen(val) <br>\n",
    "pop -> list.pop(0) <br>"
   ]
  },
  {
   "cell_type": "code",
   "execution_count": 6,
   "id": "c8e9ab30",
   "metadata": {},
   "outputs": [],
   "source": [
    "def dfs_postorder(root):\n",
    "    if root == None:\n",
    "        return \n",
    "    dfs_postorder(root.left)\n",
    "    dfs_postorder(root.right)\n",
    "    print(root.val,end=\" -> \")\n",
    "\n",
    "\n",
    "def bfs(root):\n",
    "    q = []\n",
    "    q.append(root)\n",
    "\n",
    "    while q:\n",
    "        node = q.pop(0)\n",
    "        print(node.val, end=\" -> \")\n",
    "        if node.left:\n",
    "            q.append(node.left)\n",
    "        if node.right:\n",
    "            q.append(node.right)\n",
    "\n",
    "    "
   ]
  },
  {
   "cell_type": "code",
   "execution_count": 7,
   "id": "190c0985",
   "metadata": {},
   "outputs": [
    {
     "name": "stdout",
     "output_type": "stream",
     "text": [
      "4 -> 5 -> 2 -> 6 -> 7 -> 3 -> 1 -> None\n",
      "1 -> 2 -> 3 -> 4 -> 5 -> 6 -> 7 -> None\n"
     ]
    }
   ],
   "source": [
    "print(dfs_postorder(root_node))\n",
    "print(bfs(root_node))"
   ]
  },
  {
   "cell_type": "code",
   "execution_count": 9,
   "id": "f5a5b6ad",
   "metadata": {},
   "outputs": [
    {
     "data": {
      "text/plain": [
       "list"
      ]
     },
     "execution_count": 9,
     "metadata": {},
     "output_type": "execute_result"
    }
   ],
   "source": [
    "arr = [1]\n",
    "type(arr)"
   ]
  },
  {
   "cell_type": "markdown",
   "id": "08e3a9ac",
   "metadata": {},
   "source": [
    "#### Merge 2 binary trees"
   ]
  },
  {
   "cell_type": "markdown",
   "id": "6d5f33d4",
   "metadata": {},
   "source": [
    "https://leetcode.com/problems/merge-two-binary-trees/"
   ]
  },
  {
   "cell_type": "code",
   "execution_count": 1,
   "id": "053db0dc",
   "metadata": {},
   "outputs": [],
   "source": [
    "class Solution:\n",
    "    def mergeTrees(self, root1, root2):\n",
    "        if not root1:\n",
    "            return root2\n",
    "        if not root2:\n",
    "            return root1\n",
    "        \n",
    "        root1.val += root2.val\n",
    "        root1.left = self.mergeTrees(root2.left, root1.left)\n",
    "        root1.right = self.mergeTrees(root2.right, root1.right)\n",
    "        \n",
    "        return root1\n",
    "        "
   ]
  },
  {
   "cell_type": "markdown",
   "id": "b7394f75",
   "metadata": {},
   "source": [
    "####  Populating Next Right Pointers in Each Node"
   ]
  },
  {
   "cell_type": "markdown",
   "id": "b086ce79",
   "metadata": {},
   "source": [
    "**Solution:** https://leetcode.com/problems/populating-next-right-pointers-in-each-node/discuss/1654181"
   ]
  },
  {
   "cell_type": "code",
   "execution_count": 22,
   "id": "32485dc7",
   "metadata": {},
   "outputs": [
    {
     "data": {
      "image/png": "[encoded data removed]",
      "text/plain": [
       "<IPython.core.display.Image object>"
      ]
     },
     "execution_count": 22,
     "metadata": {
      "image/png": {
       "height": 200,
       "width": 600
      }
     },
     "output_type": "execute_result"
    }
   ],
   "source": [
    "\n",
    "url = 'https://assets.leetcode.com/uploads/2019/02/14/116_sample.png'\n",
    "Disp.Image(requests.get(url).content, width=600, height=200)"
   ]
  },
  {
   "cell_type": "code",
   "execution_count": 23,
   "id": "9971288f",
   "metadata": {},
   "outputs": [],
   "source": [
    "\n",
    "def connect(self, root):\n",
    "    if not root:\n",
    "        return\n",
    "    \n",
    "    q = [root]\n",
    "    while q:\n",
    "        lvl_len = len(q)\n",
    "        for idx in range(lvl_len):\n",
    "\n",
    "            node = q.pop(0)            \n",
    "            if node.left:\n",
    "                q.append(node.left)\n",
    "            if node.right:\n",
    "                q.append(node.right)\n",
    "            \n",
    "            if idx == (lvl_len-1): # last node in current level\n",
    "                node.next = None\n",
    "            else:\n",
    "                node.next = q[0] # non-last node -> q[0] (Because you pop cur_node hence next will at position 0)\n",
    "                print(node.val, \"->\", q[0].val)\n",
    "                \n",
    "    return root\n",
    "    "
   ]
  },
  {
   "cell_type": "code",
   "execution_count": 1,
   "id": "a8cd5b6e",
   "metadata": {},
   "outputs": [
    {
     "data": {
      "text/plain": [
       "True"
      ]
     },
     "execution_count": 1,
     "metadata": {},
     "output_type": "execute_result"
    }
   ],
   "source": [
    "float('inf') in [float('inf'),2,3]"
   ]
  },
  {
   "cell_type": "markdown",
   "id": "505c500f",
   "metadata": {},
   "source": [
    "#### Morris Traversal"
   ]
  },
  {
   "cell_type": "code",
   "execution_count": null,
   "id": "f75914ca",
   "metadata": {},
   "outputs": [],
   "source": []
  },
  {
   "cell_type": "markdown",
   "id": "82676b4d",
   "metadata": {},
   "source": [
    "#### Construct BT using Inorder + Preorder"
   ]
  },
  {
   "cell_type": "markdown",
   "id": "5c6fc0d2",
   "metadata": {},
   "source": [
    "https://www.geeksforgeeks.org/construct-tree-from-given-inorder-and-preorder-traversal/ <br><br>"
   ]
  },
  {
   "cell_type": "code",
   "execution_count": 10,
   "id": "2e0752bd",
   "metadata": {},
   "outputs": [
    {
     "data": {
      "image/jpeg": "[encoded data removed]",
      "text/plain": [
       "<IPython.core.display.Image object>"
      ]
     },
     "execution_count": 10,
     "metadata": {
      "image/jpeg": {
       "height": 200,
       "width": 200
      }
     },
     "output_type": "execute_result"
    }
   ],
   "source": [
    "url = 'https://assets.leetcode.com/uploads/2021/02/19/tree.jpg'\n",
    "Disp.Image(requests.get(url).content, width=200, height=200)"
   ]
  },
  {
   "cell_type": "markdown",
   "id": "a84082b5",
   "metadata": {},
   "source": [
    "Postorder: [9,15,7,20,3] <br>\n",
    "Preorder: [3,9,20,15,7]<br>\n",
    "Inorder: [9,3,15,20,7]<br><br>\n",
    "\n",
    "Preoder: Root -> Left -> Right<br>\n",
    "Postorder: Left -> Right -> Root<br>"
   ]
  },
  {
   "cell_type": "code",
   "execution_count": 5,
   "id": "0683e4cb",
   "metadata": {},
   "outputs": [],
   "source": [
    "\n",
    "class Solution:\n",
    "    def search_list(self, arr, val):\n",
    "        # returns index of val\n",
    "        for i,x in enumerate(arr):\n",
    "            if val == x:\n",
    "                return i\n",
    "        return -1\n",
    "    \n",
    "    def build_subtree(self, in_start, in_end):\n",
    "        if in_start > in_end:\n",
    "            return None\n",
    "        \n",
    "        # find root from preorder\n",
    "        cur_root = TreeNode(self.preorder[self.pre_start_index])\n",
    "        self.pre_start_index += 1\n",
    "        \n",
    "        # check if only node left in inorder\n",
    "        if in_start == in_end:\n",
    "            return cur_root\n",
    "                      \n",
    "        # Get the index of cur_root in inorder -> to split the array\n",
    "        cur_root_index = self.search_list(self.inorder, cur_root.val)\n",
    "        # build sub-trees\n",
    "        cur_root.left = self.build_subtree(in_start, cur_root_index-1)\n",
    "        cur_root.right = self.build_subtree(cur_root_index+1, in_end)\n",
    "                      \n",
    "        return cur_root\n",
    "        \n",
    "    def buildTree(self, preorder, inorder):\n",
    "        self.inorder = inorder\n",
    "        self.preorder = preorder\n",
    "        self.pre_start_index = 0 # GLOBAL\n",
    "                      \n",
    "        return self.build_subtree(0,len(inorder)-1)\n",
    "        "
   ]
  },
  {
   "cell_type": "markdown",
   "id": "c0c7e89f",
   "metadata": {},
   "source": [
    "#### Built BT from Inorder + Postorder"
   ]
  },
  {
   "cell_type": "markdown",
   "id": "a552f9ec",
   "metadata": {},
   "source": [
    "**Change from In + Pre**<br>\n",
    "- In in+pre we first call method on `left_subtree` and then on `right_subtree`.<br>\n",
    "- Initially we reverse postorder so that we dont have to reverse traverse.<br>\n",
    "- Here we first we call on `right_subtree` and then on `left_subtree`<br><br>\n",
    "**Why?**<br> Preorder traverses [Root -> Left -> Right] whereas<br> Postorder does [left -> Right -> Root => REVERSED => Root -> Right -> Left] <br>\n",
    "Since pre|post start_index is global and we increment it in each call, we need to follow this approach"
   ]
  },
  {
   "cell_type": "code",
   "execution_count": 14,
   "id": "956e4e6b",
   "metadata": {},
   "outputs": [],
   "source": [
    "\n",
    "class Solution:\n",
    "    def search_list(self, arr, val):\n",
    "        # returns index of val\n",
    "        for i,x in enumerate(arr):\n",
    "            if val == x:\n",
    "                return i\n",
    "        return -1\n",
    "    \n",
    "    def build_subtree(self, in_start, in_end):\n",
    "        if in_start > in_end:\n",
    "            return None\n",
    "        \n",
    "        # find root from preorder\n",
    "        cur_root = TreeNode(self.postorder[self.post_start_index])\n",
    "        self.post_start_index += 1\n",
    "        \n",
    "        # check if only node left in inorder\n",
    "        if in_start == in_end:\n",
    "            return cur_root\n",
    "                      \n",
    "        # Get the index of cur_root in inorder -> to split the array\n",
    "        cur_root_index = self.search_list(self.inorder, cur_root.val)\n",
    "        # build sub-trees\n",
    "        cur_root.right = self.build_subtree(cur_root_index+1, in_end)\n",
    "        cur_root.left = self.build_subtree(in_start, cur_root_index-1)\n",
    "        \n",
    "                      \n",
    "        return cur_root\n",
    "    \n",
    "    def buildTree(self, inorder, postorder):\n",
    "        self.inorder = inorder\n",
    "        self.postorder = list(reversed(postorder))\n",
    "        self.post_start_index = 0 # GLOBAL\n",
    "                      \n",
    "        return self.build_subtree(0,len(inorder)-1)\n",
    "        "
   ]
  },
  {
   "cell_type": "markdown",
   "id": "a98db555",
   "metadata": {},
   "source": [
    "#### Right View of Binary Tree"
   ]
  },
  {
   "cell_type": "code",
   "execution_count": 34,
   "id": "a0909bd8",
   "metadata": {},
   "outputs": [],
   "source": [
    "\n",
    "    def rightSideView(self, root):\n",
    "        if root is None:\n",
    "            return []\n",
    "        elif root.left is None and root.right is None:\n",
    "            return [root.val]\n",
    "        \n",
    "        q = []\n",
    "        q.append(root)\n",
    "        right_view = []\n",
    "        \n",
    "        while q:\n",
    "            cur_lvl_len = len(q)\n",
    "            for i in range(cur_lvl_len):\n",
    "                node = q.pop(0)\n",
    "                if node.left:\n",
    "                    q.append(node.left)\n",
    "                if node.right:\n",
    "                    q.append(node.right)\n",
    "                    \n",
    "                if i == cur_lvl_len-1:\n",
    "                    right_view.append(node.val)\n",
    "        \n",
    "        return right_view\n",
    "        \n",
    "        "
   ]
  },
  {
   "cell_type": "markdown",
   "id": "76dd6cdd",
   "metadata": {},
   "source": [
    "#### Check Valid BST"
   ]
  },
  {
   "cell_type": "markdown",
   "id": "34d528ca",
   "metadata": {},
   "source": [
    "Valid BST: For each node all elements in left-subtree are < node.val AND elements in right subtree are > node.val"
   ]
  },
  {
   "cell_type": "code",
   "execution_count": 32,
   "id": "ac17642c",
   "metadata": {},
   "outputs": [],
   "source": [
    "class Solution:\n",
    "    \n",
    "    def check_valid(self, root, min_bound, max_bound):\n",
    "        if root is None:\n",
    "            return True\n",
    "        \n",
    "        cur_val = root.val\n",
    "        if root.val >= max_bound or root.val <= min_bound:\n",
    "            return False\n",
    "        \n",
    "        return self.check_valid(root.left, min_bound, cur_val) and self.check_valid(root.right, cur_val, max_bound)\n",
    "            \n",
    "        \n",
    "    def isValidBST(self, root) -> bool:\n",
    "        return self.check_valid(root, float('-inf'), float('inf'))"
   ]
  },
  {
   "cell_type": "markdown",
   "id": "c31ded59",
   "metadata": {},
   "source": [
    "#### Balanced Binary Tree"
   ]
  },
  {
   "cell_type": "markdown",
   "id": "102336fd",
   "metadata": {},
   "source": [
    "A BT is balanced if at all nodes,<br> abs(height of left subtree - height of right subtree) <= 1 (either same, or differ by 1)"
   ]
  },
  {
   "cell_type": "code",
   "execution_count": 30,
   "id": "7b2bc366",
   "metadata": {},
   "outputs": [],
   "source": [
    "# NAIVE APPROACH\n",
    "class Solution:\n",
    "    def check_height(self, root):\n",
    "        if root is None:\n",
    "            return 0\n",
    "        return 1 + max(self.check_height(root.left),self.check_height(root.right))\n",
    "    \n",
    "    def isBalanced(self, root):\n",
    "        if root is None:\n",
    "            return True\n",
    "        if abs(self.check_height(root.left)-self.check_height(root.right)) >= 2:\n",
    "            return False\n",
    "        \n",
    "        return self.isBalanced(root.left) and self.isBalanced(root.right)\n",
    "        "
   ]
  },
  {
   "cell_type": "markdown",
   "id": "8cc3b301",
   "metadata": {},
   "source": [
    "#### Diameter of a BT"
   ]
  },
  {
   "cell_type": "markdown",
   "id": "9463230f",
   "metadata": {},
   "source": [
    "**Diameter** -> Max length of the path between two nodes (This path may or may not pass throuhg the root node) <br>\n",
    "\n",
    "At each node you have path,<br>\n",
    "1. path = 1 + max_height(left_subtree) + max_height(right_subtree)<br>\n",
    "2. len(path) = no_of_nodes - 1<br><br>\n",
    "So, to calculate this max_path_len we use a global/class variable<br>\n",
    "And our function returns the max_height at each node<br>\n",
    "-> Consider our function works like find_height at each node, and in between we add a line to check if the path formed is the maximum length one<br><br>\n",
    "\n",
    "**CORE IDEA**<br>\n",
    "For each node, diameter_including_this_node =  1 + max_height(left_subtree) + max_height(right_subtree) - 1(Question correction)<br>\n"
   ]
  },
  {
   "cell_type": "code",
   "execution_count": 33,
   "id": "b35ceb94",
   "metadata": {},
   "outputs": [],
   "source": [
    "\n",
    "class Solution:\n",
    "    cur_max = 0\n",
    "    def find_diameter(self, node):\n",
    "        if node is None:\n",
    "            return 0\n",
    "        \n",
    "        left_diameter = self.find_diameter(node.left)\n",
    "        right_diameter = self.find_diameter(node.right)\n",
    "        \n",
    "        # check what if you include current node as well (l->cur->r = len = 2)\n",
    "        self.cur_max = max(self.cur_max, left_diameter+right_diameter)\n",
    "        \n",
    "        # returns the max height till this node\n",
    "        return 1+ max(left_diameter, right_diameter)\n",
    "    \n",
    "    def diameterOfBinaryTree(self, root) -> int:\n",
    "        self.find_diameter(root)\n",
    "        return self.cur_max\n",
    "        \n",
    "        "
   ]
  },
  {
   "cell_type": "markdown",
   "id": "5d11cab8",
   "metadata": {},
   "source": [
    "#### Trim a BST"
   ]
  },
  {
   "cell_type": "markdown",
   "id": "6e05d531",
   "metadata": {},
   "source": [
    "https://leetcode.com/problems/trim-a-binary-search-tree/ <br>\n",
    "Given a BST and its max,min values remove nodes which are not supposed to be in that BST"
   ]
  },
  {
   "cell_type": "code",
   "execution_count": 4,
   "id": "7c666843",
   "metadata": {},
   "outputs": [],
   "source": [
    "def trimBST(root, low: int, high: int):\n",
    "    if root is None:\n",
    "        return None\n",
    "    \n",
    "    # prune\n",
    "    if root.val<low: # if val<min -> left subtree will also be < min \n",
    "        return trimBST(root.right, low, high) \n",
    "    elif root.val>high: # if val<max -> right subtree will also be > max\n",
    "        return trimBST(root.left, low, high)\n",
    "    else:\n",
    "        root.left = trimBST(root.left, low, high)\n",
    "        root.right = trimBST(root.right,low, high)\n",
    "        return root\n",
    "    "
   ]
  },
  {
   "cell_type": "markdown",
   "id": "4ea18fbb",
   "metadata": {},
   "source": [
    "#### Convert BST to Greater BST"
   ]
  },
  {
   "cell_type": "markdown",
   "id": "1812d0e0",
   "metadata": {},
   "source": [
    "https://leetcode.com/problems/convert-bst-to-greater-tree <br>\n",
    "Given the root of a Binary Search Tree (BST), convert it to a Greater Tree such that every key of the original BST is changed to the original key plus the sum of all keys greater than the original key in BST. <br><br>\n",
    "\n",
    "**Solution** : You first visit right_most node of tree, n then subsequently keep on adding to suffix sum and also update left node<br>\n",
    "If node is right_node -> val = val + sum(right_nodes)<br>\n",
    "if Node is left_node -> val = val + parent_node_val + sum(right_node)<br>"
   ]
  },
  {
   "cell_type": "code",
   "execution_count": 2,
   "id": "9ae0014c",
   "metadata": {},
   "outputs": [],
   "source": [
    "\n",
    "class Solution:\n",
    "    suffix_sum = 0\n",
    "    \n",
    "    def fill_bst(self, node):\n",
    "        if node: #not None\n",
    "            self.fill_bst(node.right)\n",
    "            node.val += self.suffix_sum\n",
    "            self.suffix_sum = node.val\n",
    "            self.fill_bst(node.left)\n",
    "            \n",
    "        \n",
    "    def convertBST(self, root):\n",
    "        self.fill_bst(root)\n",
    "        return root\n",
    "        "
   ]
  },
  {
   "cell_type": "markdown",
   "id": "17c0adfe",
   "metadata": {},
   "source": [
    "#### Kth Smallest Element in a BST"
   ]
  },
  {
   "cell_type": "markdown",
   "id": "1d05595a",
   "metadata": {},
   "source": [
    "Inorder traversal of BST -> Elements in sorted order"
   ]
  },
  {
   "cell_type": "code",
   "execution_count": 1,
   "id": "65bf1963",
   "metadata": {},
   "outputs": [],
   "source": [
    "class Solution:\n",
    "    count = 0\n",
    "    ans = 0\n",
    "\n",
    "    # INORDER TRAVERSAL VISITS IN SORTED ORDER\n",
    "    def inorder(self, node, k):\n",
    "        if node is None:\n",
    "            return \n",
    "        \n",
    "        self.inorder(node.left, k)\n",
    "        self.count += 1\n",
    "        if self.count == k:\n",
    "            self.ans = node.val\n",
    "            return\n",
    "        self.inorder(node.right, k)\n",
    "        \n",
    "    def kthSmallest(self, root, k):\n",
    "        self.count = 0\n",
    "        self.inorder(root, k)\n",
    "        return self.ans\n",
    "        "
   ]
  },
  {
   "cell_type": "markdown",
   "id": "34e2ff88",
   "metadata": {},
   "source": [
    "## Backtracking + Recursion"
   ]
  },
  {
   "cell_type": "markdown",
   "id": "e1f14777",
   "metadata": {},
   "source": [
    "#### Print all Substrings"
   ]
  },
  {
   "cell_type": "code",
   "execution_count": 154,
   "id": "cf9d5453",
   "metadata": {},
   "outputs": [],
   "source": [
    "def substring(processed, unprocessed):\n",
    "    if len(unprocessed) == 0:\n",
    "        print(processed, end=\" -> \")\n",
    "        return \n",
    "    \n",
    "    fChar = unprocessed[0]\n",
    "    unprocessed = unprocessed[1:]\n",
    "    substring(processed+fChar, unprocessed)\n",
    "    substring(processed, unprocessed)"
   ]
  },
  {
   "cell_type": "code",
   "execution_count": 155,
   "id": "8175068b",
   "metadata": {},
   "outputs": [
    {
     "name": "stdout",
     "output_type": "stream",
     "text": [
      "abc -> ab -> ac -> a -> bc -> b -> c ->  -> "
     ]
    }
   ],
   "source": [
    "substring(\"\",\"abc\")"
   ]
  },
  {
   "cell_type": "markdown",
   "id": "e487e1a4",
   "metadata": {},
   "source": [
    "#### Permutations of String"
   ]
  },
  {
   "cell_type": "markdown",
   "id": "688f58fe",
   "metadata": {},
   "source": [
    "- Use Processed|Unprocessed Approach here <br>\n",
    "- Pick first element from UP and add it in all possible places in Processed <br>\n",
    "- There are len(P)+1 ways to place it in Proccesed string <br>\n",
    "(ab|cd) -> c -> (cab,acb,abc | d)"
   ]
  },
  {
   "cell_type": "code",
   "execution_count": 179,
   "id": "f75bb966",
   "metadata": {},
   "outputs": [],
   "source": [
    "res = []\n",
    "\n",
    "def permute(p, up):\n",
    "    global res\n",
    "\n",
    "    if len(up) == 0:\n",
    "        res.append(p)\n",
    "        return\n",
    "    \n",
    "    ch = up[0]\n",
    "    up = up[1:]\n",
    "\n",
    "    # ABC ch=X\n",
    "    permute(ch+p, up) # XABC\n",
    "    for i in range(len(p)):\n",
    "        permute(p[:i+1] + ch + p[i+1:], up)\n",
    "    permute(p+ch, up) # ABCX\n",
    "\n"
   ]
  },
  {
   "cell_type": "code",
   "execution_count": 180,
   "id": "c0e54771",
   "metadata": {},
   "outputs": [
    {
     "name": "stdout",
     "output_type": "stream",
     "text": [
      "120\n"
     ]
    }
   ],
   "source": [
    "permute(\"\",\"abcd\")\n",
    "\n",
    "print(len(res))"
   ]
  },
  {
   "cell_type": "markdown",
   "id": "a6bfbec6",
   "metadata": {},
   "source": [
    "#### Letter Combination of Phone Number"
   ]
  },
  {
   "cell_type": "code",
   "execution_count": 224,
   "id": "83ca0fb3",
   "metadata": {},
   "outputs": [],
   "source": [
    "n_map = {\n",
    "    \"2\": [ch for ch in \"abc\"],\n",
    "    \"3\": [ch for ch in \"def\"],\n",
    "    \"4\": [ch for ch in \"ghi\"],\n",
    "    \"5\": [ch for ch in \"jkl\"],\n",
    "    \"6\": [ch for ch in \"mno\"],\n",
    "    \"7\": [ch for ch in \"pqrs\"],\n",
    "    \"8\": [ch for ch in \"tuv\"],\n",
    "    \"9\": [ch for ch in \"wxyz\"]\n",
    "}\n",
    "\n",
    "def phone_comb(p, up, n_map):\n",
    "    if len(up) == 0:\n",
    "        print(p)\n",
    "        return\n",
    "    \n",
    "    cur_num = up[0]\n",
    "    up = up[1:]\n",
    "\n",
    "    for ch in n_map[cur_num]:\n",
    "        phone_comb(p+ch, up, n_map)\n"
   ]
  },
  {
   "cell_type": "code",
   "execution_count": 225,
   "id": "176543d1",
   "metadata": {},
   "outputs": [],
   "source": [
    "# RETURN ALL COMBINATIONS AS LIST\n",
    "def phone_comb_iter(p, up, n_map):\n",
    "    if len(up) == 0:\n",
    "        return [p] if p!=\"\" else []\n",
    "    \n",
    "    cur_num = up[0]\n",
    "    up = up[1:]\n",
    "\n",
    "    res = []\n",
    "    for ch in n_map[cur_num]:\n",
    "        res.extend(phone_comb_iter(p+ch, up, n_map))\n",
    "\n",
    "    return res"
   ]
  },
  {
   "cell_type": "code",
   "execution_count": 226,
   "id": "3c23488b",
   "metadata": {},
   "outputs": [
    {
     "data": {
      "text/plain": [
       "['ad', 'ae', 'af', 'bd', 'be', 'bf', 'cd', 'ce', 'cf']"
      ]
     },
     "execution_count": 226,
     "metadata": {},
     "output_type": "execute_result"
    }
   ],
   "source": [
    "phone_comb_iter(\"\",\"23\",n_map)"
   ]
  },
  {
   "cell_type": "markdown",
   "id": "930e0d93",
   "metadata": {},
   "source": [
    "#### Subsets II"
   ]
  },
  {
   "cell_type": "code",
   "execution_count": 61,
   "id": "ac8fb3fa",
   "metadata": {},
   "outputs": [],
   "source": [
    "# res = set()\n",
    "\n",
    "def subsets_2(p, up):\n",
    "    if len(up) == 0:\n",
    "        print(p)\n",
    "        # res.add(p)\n",
    "        return\n",
    "\n",
    "    ch = up[0]\n",
    "    up = up[1:]\n",
    "\n",
    "    subsets_2(p,up)\n",
    "    subsets_2([*p, ch],up)"
   ]
  },
  {
   "cell_type": "code",
   "execution_count": 62,
   "id": "c72b2b03",
   "metadata": {},
   "outputs": [
    {
     "name": "stdout",
     "output_type": "stream",
     "text": [
      "[]\n",
      "[2]\n",
      "[2]\n",
      "[2, 2]\n",
      "[1]\n",
      "[1, 2]\n",
      "[1, 2]\n",
      "[1, 2, 2]\n"
     ]
    }
   ],
   "source": [
    "arr = [1,2,3]\n",
    "\n",
    "subsets_2([],[1,2,2])"
   ]
  },
  {
   "cell_type": "markdown",
   "id": "0f9713cc",
   "metadata": {},
   "source": [
    "#### N-Queens"
   ]
  },
  {
   "cell_type": "markdown",
   "id": "734e61ba",
   "metadata": {},
   "source": [
    "- Queen can move Diagonally, Up or Down. <br>\n",
    "- We keep on filling row by row, so for each placement we need to check fo attack from other queens only in top rows"
   ]
  },
  {
   "cell_type": "code",
   "execution_count": 1,
   "id": "def2ca4b",
   "metadata": {},
   "outputs": [],
   "source": [
    "class Solution:\n",
    "    def is_valid(self, row, col, board):\n",
    "        nr = len(board)\n",
    "        nc = len(board[0])\n",
    "\n",
    "        # Check top only previous rows\n",
    "        for i in range(row):\n",
    "            if board[i][col]:\n",
    "                return False\n",
    "            \n",
    "        # Check right-top diagonals\"\n",
    "        i = row-1\n",
    "        j = col+1\n",
    "        while j<nc:\n",
    "            # print(i,j)\n",
    "            if board[i][j]:\n",
    "                return False\n",
    "            i = i-1\n",
    "            j = j+1\n",
    "        \n",
    "        # Check left-top diagonals\n",
    "        i = row-1\n",
    "        j = col-1\n",
    "        while j>=0:\n",
    "            # print(i,j)\n",
    "            if board[i][j]:\n",
    "                return False\n",
    "            i = i-1\n",
    "            j = j-1\n",
    "            \n",
    "        return True\n",
    "\n",
    "    \n",
    "    def n_queen(self, row, board):\n",
    "        nr = len(board)\n",
    "        nc = len(board[0])\n",
    "\n",
    "        if row == nr:\n",
    "            print(*board,\"\\n\\n\", sep=\"\\n\")\n",
    "            return\n",
    "        \n",
    "        # place in all cells of row and check\n",
    "        for j in range(nc):\n",
    "            if self.is_valid(row, j, board):\n",
    "                board[row][j] = True # mark as vis\n",
    "                self.n_queen(row+1,board)  # try to place in next row\n",
    "                board[row][j] = False # unmark after exploring\n",
    "        \n",
    "        return\n",
    "    \n",
    "    def solve_n_queen(self, n):\n",
    "        board = [[False for _ in range(n)] for _ in range(n)]\n",
    "        self.n_queen(0, board)\n"
   ]
  },
  {
   "cell_type": "code",
   "execution_count": 2,
   "id": "c5e70c06",
   "metadata": {},
   "outputs": [
    {
     "name": "stdout",
     "output_type": "stream",
     "text": [
      "[True]\n",
      "\n",
      "\n",
      "\n"
     ]
    }
   ],
   "source": [
    "Solution().solve_n_queen(1)"
   ]
  },
  {
   "cell_type": "markdown",
   "id": "6bfd68b7",
   "metadata": {},
   "source": [
    "#### Sudoku Solver"
   ]
  },
  {
   "cell_type": "markdown",
   "id": "eb7df0e2",
   "metadata": {},
   "source": [
    "**How to rStart and cStart of which inner square (i,j) Lies**<hr>\n",
    "k = sqrt(N) [k=size of each sub-square] <br>\n",
    "rStart = (i//k) * k <br>\n",
    "cStart = (j//k) * k <br> <hr>\n",
    "\n",
    "Check that row:  <br>\n",
    "for rStart -> rStart+k: <br>\n",
    "&nbsp;&nbsp; for cStart -> cStart+k: <br>"
   ]
  },
  {
   "cell_type": "code",
   "execution_count": 1,
   "id": "fbf91227",
   "metadata": {},
   "outputs": [],
   "source": [
    "import math\n",
    "\n",
    "class SudokuSolution:\n",
    "    def __init__(self):\n",
    "        # ideally empty cells have '0' and all nos are in string format\n",
    "        pass\n",
    "\n",
    "    def find_first_slot(self, board):\n",
    "        for i in range(len(board)):\n",
    "            for j in range(len(board)):\n",
    "                if board[i][j] == '0':\n",
    "                    return (i,j)\n",
    "        return (None, None)\n",
    "    \n",
    "    def is_safe(self, row, col, num, board):\n",
    "        n = len(board)\n",
    "\n",
    "        for i in range(n): # CHECK ROW + COL\n",
    "            if board[row][i] == num or board[i][col]==num:\n",
    "                return False\n",
    "\n",
    "        # check sub_square\n",
    "        k = int(math.sqrt(n))\n",
    "        sRow = (row//k)*k\n",
    "        sCol = (col//k)*k\n",
    "\n",
    "        for i in range(sRow, sRow+k):\n",
    "            for j in range(sCol, sCol+k):\n",
    "                if board[i][j] == num:\n",
    "                    return False\n",
    "                \n",
    "        return True\n",
    "\n",
    "    def print_solution(self, board):\n",
    "        print(*board,\"\\n\", sep=\"\\n\")\n",
    "\n",
    "\n",
    "    def solve(self, board):\n",
    "        n = len(board)\n",
    "        sRow, sCol = self.find_first_slot(board)   # find first Non-Empty cell\n",
    "        if not sRow and not sCol: # no slots -> Solved\n",
    "            self.print_solution(board)\n",
    "            return True\n",
    "\n",
    "        for fill_num in range(1,n+1):\n",
    "            fill_num  = str(fill_num)\n",
    "            if self.is_safe(sRow, sCol, fill_num, board):\n",
    "\n",
    "                board[sRow][sCol] = fill_num\n",
    "                if self.solve(board):\n",
    "                    return True\n",
    "                board[sRow][sCol] = '0'\n",
    "        return False\n"
   ]
  },
  {
   "cell_type": "code",
   "execution_count": null,
   "id": "0ede10d1",
   "metadata": {},
   "outputs": [],
   "source": [
    "def print_first_palindrome(n):\n",
    "    while n==0:\n",
    "        for i in range(10):\n",
    "            print(i)\n",
    "\n",
    "\n",
    "def bfs(graph, src):\n",
    "    vis = []\n",
    "    vis.append(src)\n",
    "\n",
    "    #mark all the unvisited nodes and then visit them one by one\n",
    "    while vis:\n",
    "        node = vis.pop()\n",
    "        "
   ]
  },
  {
   "cell_type": "code",
   "execution_count": null,
   "id": "48a82066",
   "metadata": {},
   "outputs": [
    {
     "name": "stdout",
     "output_type": "stream",
     "text": [
      "['5', '3', '4', '6', '7', '8', '9', '1', '2']\n",
      "['6', '7', '2', '1', '9', '5', '3', '4', '8']\n",
      "['1', '9', '8', '3', '4', '2', '5', '6', '7']\n",
      "['8', '5', '9', '7', '6', '1', '4', '2', '3']\n",
      "['4', '2', '6', '8', '5', '3', '7', '9', '1']\n",
      "['7', '1', '3', '9', '2', '4', '8', '5', '6']\n",
      "['9', '6', '1', '5', '3', '7', '2', '8', '4']\n",
      "['2', '8', '7', '4', '1', '9', '6', '3', '5']\n",
      "['3', '4', '5', '2', '8', '6', '1', '7', '9']\n",
      "\n",
      "\n"
     ]
    },
    {
     "data": {
      "text/plain": [
       "True"
      ]
     },
     "execution_count": 17,
     "metadata": {},
     "output_type": "execute_result"
    }
   ],
   "source": [
    "board = [\n",
    "   [\"5\",\"3\",\"0\",\"0\",\"7\",\"0\",\"0\",\"0\",\"0\"],\n",
    "   [\"6\",\"0\",\"0\",\"1\",\"9\",\"5\",\"0\",\"0\",\"0\"],\n",
    "   [\"0\",\"9\",\"8\",\"0\",\"0\",\"0\",\"0\",\"6\",\"0\"],\n",
    "   [\"8\",\"0\",\"0\",\"0\",\"6\",\"0\",\"0\",\"0\",\"3\"],\n",
    "   [\"4\",\"0\",\"0\",\"8\",\"0\",\"3\",\"0\",\"0\",\"1\"],\n",
    "   [\"7\",\"0\",\"0\",\"0\",\"2\",\"0\",\"0\",\"0\",\"6\"],\n",
    "   [\"0\",\"6\",\"0\",\"0\",\"0\",\"0\",\"2\",\"8\",\"0\"],\n",
    "   [\"0\",\"0\",\"0\",\"4\",\"1\",\"9\",\"0\",\"0\",\"5\"],\n",
    "   [\"0\",\"0\",\"0\",\"0\",\"8\",\"0\",\"0\",\"7\",\"9\"]\n",
    "]\n",
    "\n",
    "SudokuSolution().solve(board)\n"
   ]
  },
  {
   "cell_type": "markdown",
   "id": "6870ceaa",
   "metadata": {},
   "source": [
    "## GKG Practice Questions"
   ]
  },
  {
   "cell_type": "markdown",
   "id": "0deba2b5",
   "metadata": {},
   "source": [
    "#### Return Largest & Second Largest Element in O(N)"
   ]
  },
  {
   "cell_type": "code",
   "execution_count": 46,
   "id": "b22a0223",
   "metadata": {},
   "outputs": [],
   "source": [
    "def largestAndSecondLargest(arr):\n",
    "\n",
    "        res = arr[0]\n",
    "        second_res = -1\n",
    "    \n",
    "        for x in arr[1:]:\n",
    "            if x > res:\n",
    "                second_res = res\n",
    "                res = x\n",
    "            elif x<res:\n",
    "                if second_res == -1:\n",
    "                    second_res = x\n",
    "                elif x > second_res:\n",
    "                    second_res = x\n",
    "                    \n",
    "        return res,second_res"
   ]
  },
  {
   "cell_type": "code",
   "execution_count": 47,
   "id": "89851393",
   "metadata": {},
   "outputs": [
    {
     "name": "stdout",
     "output_type": "stream",
     "text": [
      "(5, 4)\n",
      "(2, 1)\n",
      "(2, 1)\n",
      "(2, -1)\n"
     ]
    }
   ],
   "source": [
    "arr = [1,2,3,4,5]\n",
    "print(largestAndSecondLargest(arr))\n",
    "\n",
    "arr = [2,2,2,0,2,1]\n",
    "print(largestAndSecondLargest(arr))\n",
    "\n",
    "arr = [2,2,2,1,2,0]\n",
    "print(largestAndSecondLargest(arr))\n",
    "\n",
    "arr = [2,2,2,2,2,2]\n",
    "print(largestAndSecondLargest(arr))\n"
   ]
  },
  {
   "cell_type": "markdown",
   "id": "c5a0807e",
   "metadata": {},
   "source": [
    "#### Trap Rainwater"
   ]
  },
  {
   "cell_type": "code",
   "execution_count": 48,
   "id": "be66168e",
   "metadata": {},
   "outputs": [],
   "source": [
    "def trappingWater(arr,n):\n",
    "    left = [0 for _ in range(n)]\n",
    "    right = [0 for _ in range(n)]\n",
    "    \n",
    "    left[0] = arr[0]\n",
    "    for i in range(1,n):\n",
    "        left[i] = max(left[i-1],arr[i])\n",
    "        \n",
    "    right[-1] = arr[-1]\n",
    "    for i in reversed(range(0,n-1)):\n",
    "        right[i] = max(right[i+1],arr[i])\n",
    "        \n",
    "    total_water = 0\n",
    "    for i in range(n):\n",
    "        total_water += min(left[i],right[i])-arr[i]\n",
    "    \n",
    "    return total_water"
   ]
  },
  {
   "cell_type": "code",
   "execution_count": 49,
   "id": "5073e8cf",
   "metadata": {},
   "outputs": [
    {
     "data": {
      "text/plain": [
       "10"
      ]
     },
     "execution_count": 49,
     "metadata": {},
     "output_type": "execute_result"
    }
   ],
   "source": [
    "trappingWater([7,4,0,9],4)"
   ]
  },
  {
   "cell_type": "markdown",
   "id": "966dd097",
   "metadata": {},
   "source": [
    "#### Phone Keypad Dialing"
   ]
  },
  {
   "cell_type": "code",
   "execution_count": 50,
   "id": "c058aa6d",
   "metadata": {},
   "outputs": [],
   "source": [
    "class Solution:\n",
    "    result = []\n",
    "    key_chars = {\n",
    "        2 : list(\"abc\"), \n",
    "        3 : list(\"def\"),\n",
    "        4 : list(\"ghi\"),\n",
    "        5 : list(\"jkl\"),\n",
    "        6 : list(\"mno\"),\n",
    "        7 : list(\"pqrs\"),\n",
    "        8 : list(\"tuv\"),\n",
    "        9 : list(\"wxyz\")\n",
    "    }\n",
    "    \n",
    "    def get_possible_ways(self, up,p):\n",
    "        # up -> list, p -> String initially empty\n",
    "        if len(up) == 0:\n",
    "            self.result.append(p)\n",
    "            return\n",
    "        \n",
    "        cur_n = up[0]\n",
    "        up = up[1:]\n",
    "        \n",
    "        for ch in self.key_chars[cur_n]:\n",
    "            self.get_possible_ways(up,p+ch)\n",
    "        \n",
    "        \n",
    "    #Function to find list of all words possible by pressing given numbers.\n",
    "    def possibleWords(self,a,N):\n",
    "        self.get_possible_ways(a,\"\")\n",
    "        return self.result"
   ]
  },
  {
   "cell_type": "code",
   "execution_count": 51,
   "id": "58cffffa",
   "metadata": {},
   "outputs": [
    {
     "name": "stdout",
     "output_type": "stream",
     "text": [
      "aag aah aai abg abh abi acg ach aci bag bah bai bbg bbh bbi bcg bch bci cag cah cai cbg cbh cbi ccg cch cci\n"
     ]
    }
   ],
   "source": [
    "arr = [2,2,4]\n",
    "print(*Solution().possibleWords(arr, len(arr)),sep=\" \")"
   ]
  },
  {
   "cell_type": "markdown",
   "id": "6d7f1944",
   "metadata": {},
   "source": [
    "#### Print Powerset of String (lexographically ordered)"
   ]
  },
  {
   "cell_type": "code",
   "execution_count": 52,
   "id": "2f157dbf",
   "metadata": {},
   "outputs": [],
   "source": [
    "# Basically L-> Iteration | You either include cur_index or dont in result | Print once all indices are visited (Either picked or not doesnt matter)\n",
    "def powerSet(S, cur_pick_index, cur_string):\n",
    "    if cur_pick_index == len(S):\n",
    "        print(cur_string)\n",
    "        return \n",
    "    \n",
    "    powerSet(S, cur_pick_index+1, cur_string+ S[cur_pick_index])\n",
    "    powerSet(S, cur_pick_index+1, cur_string)\n",
    "\n"
   ]
  },
  {
   "cell_type": "code",
   "execution_count": 54,
   "id": "8e84364a",
   "metadata": {},
   "outputs": [
    {
     "name": "stdout",
     "output_type": "stream",
     "text": [
      "abc\n",
      "ab\n",
      "ac\n",
      "a\n",
      "bc\n",
      "b\n",
      "c\n",
      "\n"
     ]
    }
   ],
   "source": [
    "s = \"xxyzz\" # a ab abc ac b bc c\n",
    "s = \"abc\"\n",
    "\n",
    "powerSet(s, 0,\"\")"
   ]
  },
  {
   "cell_type": "markdown",
   "id": "b501de3d",
   "metadata": {},
   "source": [
    "#### Maximize Index Distance"
   ]
  },
  {
   "cell_type": "markdown",
   "id": "21e0f3d7",
   "metadata": {},
   "source": [
    "Given an array A[] of N positive integers. The task is to find the maximum of j - i subjected to the constraint of A[i] < A[j] and i < j.\n",
    "\n",
    "**Solution**\n",
    "1. Sort array based on val n store (idx,val); [(index,val),.......] <br>\n",
    "2. Now automatically the first condition is fulfilled i.e all elements before `x` are less than `x` since we sorted it <br>\n",
    "3. Now traverse this sorted array, n check which index pair gives max distance <br>\n",
    "   At index `i` max_len = cur_index - smallest index before `i` or till `i` <br>"
   ]
  },
  {
   "cell_type": "markdown",
   "id": "09fe0607",
   "metadata": {},
   "source": [
    "DRY RUN\n",
    "1. arr = [34, 8, 10, 3, 2, 80, 30, 33, 1]\n",
    "2. arr = [(0, 34), (1, 8), (2, 10), (3, 3), (4, 2), (5, 80), (6, 30), (7, 33), (8, 1)]\n",
    "3. Sorting acc to values : [(8, 1), (4, 2), (3, 3), (1, 8), (2, 10), (6, 30), (7, 33), (0, 34), (5, 80)]\n",
    "4. Indices : [8, 4, 3, 1, 2, 6, 7, 0, 5]\n",
    "\n",
    "Now in indices find `i,j` such that `j-i` in maximized which is same as <br>\n",
    "For each index `j` find an index before it and lowest -> `j`-`lowest_index_before_j` <br>\n",
    "Here we for sure know that `arr[i]`<=`arr[j]` because array is sorted acc to values first"
   ]
  },
  {
   "cell_type": "code",
   "execution_count": 55,
   "id": "ba0192b6",
   "metadata": {},
   "outputs": [],
   "source": [
    "def maxIndexDiff(arr):\n",
    "    arr = list(enumerate(arr)) # [index,val]\n",
    "    print(arr)\n",
    "    arr = sorted(arr, key=lambda x : x[1])\n",
    "    print(arr)\n",
    "\n",
    "    min_index = float('inf')\n",
    "    max_diff = -1\n",
    "\n",
    "    for index, val in arr:\n",
    "        min_index = min(min_index,index)\n",
    "        max_diff = max(max_diff, index-min_index)\n",
    "    \n",
    "    return max_diff\n"
   ]
  },
  {
   "cell_type": "code",
   "execution_count": 56,
   "id": "0b153851",
   "metadata": {},
   "outputs": [
    {
     "name": "stdout",
     "output_type": "stream",
     "text": [
      "[(0, 34), (1, 8), (2, 10), (3, 3), (4, 2), (5, 80), (6, 30), (7, 33), (8, 1)]\n",
      "[(8, 1), (4, 2), (3, 3), (1, 8), (2, 10), (6, 30), (7, 33), (0, 34), (5, 80)]\n"
     ]
    },
    {
     "data": {
      "text/plain": [
       "6"
      ]
     },
     "execution_count": 56,
     "metadata": {},
     "output_type": "execute_result"
    }
   ],
   "source": [
    "arr = [34, 8, 10, 3, 2, 80, 30, 33, 1]\n",
    "maxIndexDiff(arr)"
   ]
  },
  {
   "cell_type": "markdown",
   "id": "efea1b4a-6a02-48d2-bd86-847149ee3f89",
   "metadata": {
    "tags": []
   },
   "source": [
    "#### Kadanes Algorithm - I"
   ]
  },
  {
   "cell_type": "markdown",
   "id": "7876408c-fa34-490a-92a1-ab3e6479fcb1",
   "metadata": {},
   "source": [
    "1. For each index return `max subarray sum till index i` | DP array <br>\n",
    "2. Max Subarray sum"
   ]
  },
  {
   "cell_type": "code",
   "execution_count": 20,
   "id": "8b4a7b8b-90bb-44b5-ad21-cda83be8b65c",
   "metadata": {},
   "outputs": [],
   "source": [
    "def kadanes_I(arr):\n",
    "    n = len(arr)\n",
    "    dp = [arr[0]]\n",
    "    cur_max = arr[0]\n",
    "    max_till_now = arr[0]\n",
    "\n",
    "    for x in arr[1:]:\n",
    "        cur_max = max(cur_max+x, x)\n",
    "        max_till_now = max(max_till_now, cur_max)\n",
    "        dp.append(cur_max)\n",
    "\n",
    "    print(*dp,sep=\" \")\n",
    "    return max_till_now"
   ]
  },
  {
   "cell_type": "code",
   "execution_count": 21,
   "id": "f3679f08-fa8d-4760-a43f-6abac61e519e",
   "metadata": {},
   "outputs": [
    {
     "name": "stdout",
     "output_type": "stream",
     "text": [
      "5 3 0 32 27 92\n",
      "92\n",
      "-9 -8 8 11 7\n",
      "11\n"
     ]
    }
   ],
   "source": [
    "arr = [5,-2,-3,32,-5,65] # 5 3 0 32 27 92 -> 92\n",
    "print(kadanes_I(arr))\n",
    "\n",
    "arr = [-9,-8,8,3,-4] # -9 -8 8 11 7 -> 11\n",
    "print(kadanes_I(arr))"
   ]
  },
  {
   "cell_type": "markdown",
   "id": "c823dc58-12f6-46cc-869d-9be337255ff5",
   "metadata": {
    "tags": []
   },
   "source": [
    "#### Kadanes on non-neighboring"
   ]
  },
  {
   "cell_type": "markdown",
   "id": "930c7a50-a965-4bd9-8df9-b46d50628ebf",
   "metadata": {},
   "source": [
    "**Solution** <br>\n",
    "At each index, you can either include it or not\n",
    "1. include -> then you cant include previous element and include this or only include this<br>\n",
    "   `max(max_exclude[i-1]+arr[i], arr[i])`\n",
    "2. exclude -> If you cant include, then return max_sum before this index<br>\n",
    "   `max(max_exclude[i-1]+arr[i], arr[i])`\n",
    "   \n",
    "**Note**: Even and odd arrys wont work. Why? Becuase you can also choose 0 2 4 11 13 16 18 <br>"
   ]
  },
  {
   "cell_type": "code",
   "execution_count": 23,
   "id": "59f64b7b-0d9d-422c-87d2-6a42cfa26042",
   "metadata": {},
   "outputs": [],
   "source": [
    "#Function to return the maximum sum without adding adjacent elements.\n",
    "def kadanes_II(arr):\n",
    "    n = len(arr)\n",
    "    res = 0\n",
    "    max_include = [0 for _ in range(n)]\n",
    "    max_exclude = [0 for _ in range(n)]\n",
    "\n",
    "    max_include[0] = arr[0]\n",
    "    max_exclude[0] = float('-inf')\n",
    "\n",
    "    for i in range(1,n):\n",
    "        # if you include i, then obvioiusly you cant include i-1\n",
    "        max_include[i] = max(max_exclude[i-1]+arr[i], arr[i])\n",
    "        # if you dont include i, then results are max upto i-1\n",
    "        max_exclude[i] =max(max_exclude[i-1]+arr[i], arr[i])\n",
    "        res = max(max_include[i], max_exclude[i])\n",
    "\n",
    "    return res\n"
   ]
  },
  {
   "cell_type": "code",
   "execution_count": 24,
   "id": "f38ac638-a83d-47a7-97c0-9e53c3979d15",
   "metadata": {},
   "outputs": [
    {
     "name": "stdout",
     "output_type": "stream",
     "text": [
      "34\n"
     ]
    }
   ],
   "source": [
    "arr = [int(x) for x in \"6 4 7 8 4 7 1 7 3 6\".split()]\n",
    "print(kadanes_II(arr))"
   ]
  },
  {
   "cell_type": "code",
   "execution_count": null,
   "id": "678bc675-c18b-4865-907a-4c34535a132e",
   "metadata": {},
   "outputs": [],
   "source": []
  },
  {
   "cell_type": "code",
   "execution_count": null,
   "id": "cd428764-918f-47ae-8f12-afe682fc2329",
   "metadata": {},
   "outputs": [],
   "source": []
  },
  {
   "cell_type": "code",
   "execution_count": null,
   "id": "a52a980b-974e-4835-9fd6-c5ef6538162f",
   "metadata": {},
   "outputs": [],
   "source": []
  },
  {
   "cell_type": "code",
   "execution_count": null,
   "id": "1f3672b7-04ad-469e-8c16-bff81a75669b",
   "metadata": {},
   "outputs": [],
   "source": []
  },
  {
   "cell_type": "code",
   "execution_count": null,
   "id": "8501fdf1-e9be-41ce-ab44-a99b9ba1f957",
   "metadata": {},
   "outputs": [],
   "source": []
  },
  {
   "cell_type": "code",
   "execution_count": null,
   "id": "bd0f495f-6ef3-4ed9-b4fc-1d66e7558fc3",
   "metadata": {},
   "outputs": [],
   "source": []
  },
  {
   "cell_type": "code",
   "execution_count": null,
   "id": "968783c2-e6c5-4514-a736-99cad4a0b455",
   "metadata": {},
   "outputs": [],
   "source": []
  },
  {
   "cell_type": "code",
   "execution_count": null,
   "id": "0eef2c04-3492-4f13-9076-714583985153",
   "metadata": {},
   "outputs": [],
   "source": []
  },
  {
   "cell_type": "code",
   "execution_count": null,
   "id": "3265c0d5",
   "metadata": {},
   "outputs": [],
   "source": []
  }
 ],
 "metadata": {
  "kernelspec": {
   "display_name": "Python 3 (ipykernel)",
   "language": "python",
   "name": "python3"
  },
  "language_info": {
   "codemirror_mode": {
    "name": "ipython",
    "version": 3
   },
   "file_extension": ".py",
   "mimetype": "text/x-python",
   "name": "python",
   "nbconvert_exporter": "python",
   "pygments_lexer": "ipython3",
   "version": "3.9.7"
  }
 },
 "nbformat": 4,
 "nbformat_minor": 5
}
