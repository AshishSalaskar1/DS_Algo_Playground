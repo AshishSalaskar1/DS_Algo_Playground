{
 "cells": [
  {
   "cell_type": "code",
   "execution_count": 1,
   "id": "c2d5730b-0725-4267-9bf0-cd2eef711567",
   "metadata": {},
   "outputs": [],
   "source": [
    "import numpy as np\n",
    "import pandas as pd\n"
   ]
  },
  {
   "cell_type": "markdown",
   "id": "ae6e8ffa",
   "metadata": {},
   "source": [
    "## Arrays"
   ]
  },
  {
   "cell_type": "markdown",
   "id": "f93c7d61",
   "metadata": {},
   "source": [
    "#### Maximum Subarray Sum"
   ]
  },
  {
   "cell_type": "markdown",
   "id": "ca43196e",
   "metadata": {},
   "source": [
    "Cant use Kadanes, as it gives min sum as 0 and doesnt take into consideration negative sums <br>\n",
    "This handles even when all elements are -ve -> max_sum also wud be negative"
   ]
  },
  {
   "cell_type": "code",
   "execution_count": 1,
   "id": "ae4acae7",
   "metadata": {},
   "outputs": [],
   "source": [
    "def max_subarray_sum(arr):\n",
    "    max_so_far = arr[0]\n",
    "    max_ending_here = arr[0]\n",
    "\n",
    "    for x in arr[1:]:\n",
    "        max_ending_here = max(max_ending_here+x,x) # either include this ele or take only this ele\n",
    "        max_so_far = max(max_so_far, max_ending_here)\n",
    "    \n",
    "    return max_so_far"
   ]
  },
  {
   "cell_type": "code",
   "execution_count": 6,
   "id": "531ae4db",
   "metadata": {},
   "outputs": [
    {
     "name": "stdout",
     "output_type": "stream",
     "text": [
      "7\n",
      "-1\n"
     ]
    }
   ],
   "source": [
    "arr = [-2, -3, 4, -1, -2, 1, 5, -3]\n",
    "print(max_subarray_sum(arr))\n",
    "\n",
    "arr = [-2, -3, -4, -1, -2, -11, -5, -3]\n",
    "print(max_subarray_sum(arr))"
   ]
  },
  {
   "cell_type": "markdown",
   "id": "6d83c82b",
   "metadata": {},
   "source": [
    "#### Maximum Length Even Odd subarray"
   ]
  },
  {
   "cell_type": "markdown",
   "id": "d04eaa95",
   "metadata": {},
   "source": [
    "Same approach as Kadanes, <br>\n",
    "At each step check if you can continue the previous subarray (even odd length), <br>\n",
    "If you cant do so, then reset length and start the new Even-Odd subarray from current position <br"
   ]
  },
  {
   "cell_type": "code",
   "execution_count": 3,
   "id": "6659edc9",
   "metadata": {},
   "outputs": [],
   "source": [
    "def max_even_odd_subarray(arr):\n",
    "    n = len(arr)\n",
    "    res = 1\n",
    "    cur_len = 1\n",
    "\n",
    "    for i in range(n):\n",
    "        # check if cur element can be added to older sequence\n",
    "        if (arr[i]%2 == 0 and arr[i-1]%2 != 0) or (arr[i]%2 != 0 and arr[i-1]%2 == 0): # can be added\n",
    "            cur_len += 1\n",
    "            res = max(res, cur_len)\n",
    "        else: #start new subarray from here\n",
    "            cur_len = 1\n",
    "    return res\n"
   ]
  },
  {
   "cell_type": "code",
   "execution_count": 4,
   "id": "c1a9dce1",
   "metadata": {},
   "outputs": [
    {
     "name": "stdout",
     "output_type": "stream",
     "text": [
      "3\n"
     ]
    }
   ],
   "source": [
    "arr = [5, 10, 20, 6, 3, 8]\n",
    "print(max_even_odd_subarray(arr))"
   ]
  },
  {
   "cell_type": "markdown",
   "id": "1a1dbc64",
   "metadata": {},
   "source": [
    "#### Maximum Circular Subarray Sum"
   ]
  },
  {
   "cell_type": "markdown",
   "id": "f81de893",
   "metadata": {},
   "source": [
    "arr = [1,2,-2,4,5] -> you can use join last and first -> [4,5,1,2,-2] <br>\n",
    "Max = MAX(Max of normal array, max of circular subarray)<br>\n",
    "\n",
    "`max of circular subarray` = `SUM` - `min_value_subarray in between`<br>\n",
    "\n",
    "[1,2,-2,4,5] -> min is -2 -> [1,2] -2 [4,5] -> you can reverse and add [5,4,1,2] <br>\n",
    "[1,2,-4,2,-6,4,5] -> min = [-2, 2, -6] = -8 -> [1,2][-4,2,-6][4,5] -> [5,4,1,2,] <br>"
   ]
  },
  {
   "cell_type": "code",
   "execution_count": null,
   "metadata": {},
   "outputs": [],
   "source": []
  },
  {
   "cell_type": "markdown",
   "id": "327c1443",
   "metadata": {},
   "source": [
    "## Matrix"
   ]
  },
  {
   "cell_type": "markdown",
   "id": "1a2d9a52",
   "metadata": {},
   "source": [
    "#### Spiral Matrix"
   ]
  },
  {
   "cell_type": "code",
   "execution_count": 27,
   "id": "8bc31139",
   "metadata": {},
   "outputs": [],
   "source": [
    "def spiral(arr):\n",
    "    nr = len(arr) - 1\n",
    "    nc = len(arr[0]) - 1\n",
    "\n",
    "    rStart, rEnd = 0, nr\n",
    "    cStart, cEnd = 0, nc\n",
    "\n",
    "    res = []\n",
    "    \n",
    "    while rStart<=rEnd and cStart<=cEnd:\n",
    "        for i in range(cStart, cEnd+1):\n",
    "            res.append(arr[rStart][i])\n",
    "        rStart += 1\n",
    "        \n",
    "        for i in range(rStart, rEnd+1):\n",
    "            res.append(arr[i][cEnd])\n",
    "        cEnd -= 1\n",
    "        \n",
    "        if rStart <= rEnd:\n",
    "            for i in reversed(range(cStart, cEnd+1)):\n",
    "                res.append(arr[rEnd][i])\n",
    "            rEnd -= 1\n",
    "        \n",
    "        if cStart <= cEnd:\n",
    "            for i in reversed(range(rStart, rEnd+1)):\n",
    "                res.append(arr[i][cStart])\n",
    "            \n",
    "            cStart += 1\n",
    "    return res\n",
    "\n",
    "            \n"
   ]
  },
  {
   "cell_type": "code",
   "execution_count": 29,
   "id": "cd81b517",
   "metadata": {},
   "outputs": [
    {
     "name": "stdout",
     "output_type": "stream",
     "text": [
      "[1, 2, 3, 6, 9, 8, 7, 4, 5]\n",
      "[1, 2, 3, 14, 34, 34, 9, 8, 7, 4, 5, 6]\n"
     ]
    }
   ],
   "source": [
    "arr = [\n",
    "    [1, 2, 3],\n",
    "    [4, 5, 6],\n",
    "    [7, 8, 9]\n",
    "]\n",
    "\n",
    "arr1 = [\n",
    "    [1, 2, 3,14],\n",
    "    [4, 5, 6, 34],\n",
    "    [7, 8, 9, 34]\n",
    "]\n",
    "\n",
    "\n",
    "print(spiral(arr))\n",
    "print(spiral(arr1))"
   ]
  },
  {
   "cell_type": "markdown",
   "id": "a582582b",
   "metadata": {},
   "source": [
    "#### Spiral Matrix II"
   ]
  },
  {
   "cell_type": "markdown",
   "id": "93f55172",
   "metadata": {},
   "source": [
    "Given `n` -> fill a `nxn` matrix spirally from 1 to n*n"
   ]
  },
  {
   "cell_type": "code",
   "execution_count": 32,
   "id": "e9006650",
   "metadata": {},
   "outputs": [],
   "source": [
    "\n",
    "def generate_spiral_matrix(n):\n",
    "    fill_ele = 1\n",
    "    arr = [[0 for _ in range(n)] for _ in range(n)]\n",
    "    \n",
    "    nr = len(arr) - 1\n",
    "    nc = len(arr[0]) - 1\n",
    "\n",
    "    rStart, rEnd = 0, nr\n",
    "    cStart, cEnd = 0, nc\n",
    "\n",
    "    res = []\n",
    "\n",
    "    while rStart<=rEnd and cStart<=cEnd:\n",
    "        for i in range(cStart, cEnd+1):\n",
    "            arr[rStart][i] = fill_ele\n",
    "            fill_ele += 1\n",
    "        rStart += 1\n",
    "\n",
    "        for i in range(rStart, rEnd+1):\n",
    "            arr[i][cEnd] = fill_ele\n",
    "            fill_ele += 1\n",
    "        cEnd -= 1\n",
    "\n",
    "        if rStart <= rEnd:\n",
    "            for i in reversed(range(cStart, cEnd+1)):\n",
    "                arr[rEnd][i] = fill_ele\n",
    "                fill_ele += 1\n",
    "            rEnd -= 1\n",
    "\n",
    "        if cStart <= cEnd:\n",
    "            for i in reversed(range(rStart, rEnd+1)):\n",
    "                arr[i][cStart] = fill_ele\n",
    "                fill_ele += 1\n",
    "\n",
    "            cStart += 1\n",
    "    return arr\n",
    "\n",
    "    "
   ]
  },
  {
   "cell_type": "code",
   "execution_count": 37,
   "id": "2c5e4524",
   "metadata": {},
   "outputs": [
    {
     "name": "stdout",
     "output_type": "stream",
     "text": [
      "[1, 2, 3, 4]\n",
      "[12, 13, 14, 5]\n",
      "[11, 16, 15, 6]\n",
      "[10, 9, 8, 7]\n"
     ]
    }
   ],
   "source": [
    "res = generate_spiral_matrix(n=4)\n",
    "print(*res, sep=\"\\n\")"
   ]
  },
  {
   "cell_type": "markdown",
   "id": "d70e6229",
   "metadata": {},
   "source": [
    "## Dynamic Programming"
   ]
  },
  {
   "cell_type": "markdown",
   "id": "569064b6",
   "metadata": {},
   "source": [
    "#### Longest Palindrome Substring"
   ]
  },
  {
   "cell_type": "markdown",
   "id": "d3e4fee3",
   "metadata": {},
   "source": [
    "- https://www.youtube.com/watch?v=UflHuQj6MVA\n",
    "- https://www.geeksforgeeks.org/longest-palindrome-substring-set-1/\n",
    " <br>\n",
    "1. if len(str) == 1, then its a palindrome <br>\n",
    "2. if len(str) == 2, & str[start] == str[end] => then its palindrome <br>\n",
    "3. len(str) > 2, (str[start]==str[end]) && is_palindrome(str[start+1:end-1])  <br>\n",
    "ababa -> a==a and is_palindrome(bab) <br> <br>\n",
    "Here, in our DP table -> i=startIndex, j=endIndex\n",
    "- We first fill dp[i][j] where i==j with 1 [Len == 1]\n",
    "- Then fill dp[i][j] where (j-i)=1 [Len == 2]\n",
    "- Fill remaining Lengths"
   ]
  },
  {
   "cell_type": "code",
   "execution_count": null,
   "id": "2b5ee31e",
   "metadata": {},
   "outputs": [],
   "source": []
  },
  {
   "cell_type": "code",
   "execution_count": 30,
   "id": "dfff848b",
   "metadata": {},
   "outputs": [],
   "source": [
    "def LPS(str):\n",
    "    n = len(str)\n",
    "    dp = [[False for _ in range(n)] for _ in range(n)]\n",
    "    \n",
    "    i = 0 # fill str with len == 1\n",
    "    while i<n:\n",
    "        dp[i][i] = True\n",
    "        i +=1\n",
    "\n",
    "    i=1 # fill str with len==2\n",
    "    while i<n:\n",
    "        if str[i-1] == str[i]:\n",
    "            dp[i-1][i] = True\n",
    "        i += 1\n",
    "\n",
    "    k = 3\n",
    "    for k in range(3,n):\n",
    "        for startIndex in range(0,n-k+1):\n",
    "            endIndex = startIndex + k -1\n",
    "            if str[startIndex] == str[endIndex] and dp[startIndex+1][endIndex-1]:\n",
    "                dp[startIndex][endIndex] = True\n",
    "\n",
    "\n",
    "    \n",
    "    print(*dp,sep=\"\\n\")"
   ]
  },
  {
   "cell_type": "code",
   "execution_count": 31,
   "id": "85d0bf8b",
   "metadata": {},
   "outputs": [],
   "source": [
    "# 0 1 2 3 4 5 6\n",
    "k = 3"
   ]
  },
  {
   "cell_type": "code",
   "execution_count": 32,
   "id": "20e09961",
   "metadata": {},
   "outputs": [
    {
     "name": "stdout",
     "output_type": "stream",
     "text": [
      "[True, False, False, False, False]\n",
      "[False, True, False, True, False]\n",
      "[False, False, True, False, False]\n",
      "[False, False, False, True, False]\n",
      "[False, False, False, False, True]\n"
     ]
    }
   ],
   "source": [
    "str = \"forgeeksskeegfor\"\n",
    "str = \"xwowy\"\n",
    "LPS(str)"
   ]
  },
  {
   "cell_type": "code",
   "execution_count": null,
   "id": "fcce5687",
   "metadata": {},
   "outputs": [],
   "source": []
  }
 ],
 "metadata": {
  "kernelspec": {
   "display_name": "Python 3 (ipykernel)",
   "language": "python",
   "name": "python3"
  },
  "language_info": {
   "codemirror_mode": {
    "name": "ipython",
    "version": 3
   },
   "file_extension": ".py",
   "mimetype": "text/x-python",
   "name": "python",
   "nbconvert_exporter": "python",
   "pygments_lexer": "ipython3",
   "version": "3.9.7"
  }
 },
 "nbformat": 4,
 "nbformat_minor": 5
}
