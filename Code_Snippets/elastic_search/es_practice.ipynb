{
 "cells": [
  {
   "cell_type": "code",
   "execution_count": 40,
   "metadata": {},
   "outputs": [],
   "source": [
    "from elasticsearch import Elasticsearch, helpers\n",
    "import json"
   ]
  },
  {
   "attachments": {},
   "cell_type": "markdown",
   "metadata": {},
   "source": [
    "**Docs**\n",
    "- VIDEO: https://www.youtube.com/watch?v=C-JKcMM6IXE\n",
    "- Pagination: https://soumilshah1995.blogspot.com/2020/06/elk-pre-margin-0px-border-none-padding.html\n",
    "- Query Pagination: https://soumilshah1995.blogspot.com/2020/02/elastic-search-query-pagination-in.html\n",
    "- KNN on ES: https://soumilshah1995.blogspot.com/2020/05/knn-machine-learning-algorithm-on.html\n",
    "- Basics: https://soumilshah1995.blogspot.com/2020/01/getting-started-with-elastic-search-and.html"
   ]
  },
  {
   "attachments": {},
   "cell_type": "markdown",
   "metadata": {},
   "source": [
    "#### Setup and Connection"
   ]
  },
  {
   "cell_type": "code",
   "execution_count": 5,
   "metadata": {},
   "outputs": [],
   "source": [
    "config = {\n",
    "    \"host\": \"localhhost\",\n",
    "    \"port\": 9200\n",
    "}\n",
    "\n",
    "\n",
    "ELASTIC_PASSWORD = \"ivNbJFD-QHXZZZ3KhFPR\"\n",
    "CERT_FINGERPRINT  = \"aaef55be51c34aec52942c598356c1bc53b2fd17356efd029368151977b567bb\"\n",
    "CA_CERT_PATH = \"D:\\Program Files\\elasticsearch-8.7.0-windows-x86_64\\elasticsearch-8.7.0\\config\\certs\\http_ca.crt\"\n"
   ]
  },
  {
   "cell_type": "code",
   "execution_count": 6,
   "metadata": {},
   "outputs": [
    {
     "name": "stdout",
     "output_type": "stream",
     "text": [
      "{'name': 'HP-ASHISH', 'cluster_name': 'elasticsearch', 'cluster_uuid': 'bRWf0wh_SzWiIZUytRleiA', 'version': {'number': '8.7.0', 'build_flavor': 'default', 'build_type': 'zip', 'build_hash': '09520b59b6bc1057340b55750186466ea715e30e', 'build_date': '2023-03-27T16:31:09.816451435Z', 'build_snapshot': False, 'lucene_version': '9.5.0', 'minimum_wire_compatibility_version': '7.17.0', 'minimum_index_compatibility_version': '7.0.0'}, 'tagline': 'You Know, for Search'}\n",
      "True\n"
     ]
    }
   ],
   "source": [
    "# Create the client instance\n",
    "es = Elasticsearch(\n",
    "    \"https://localhost:9200\",\n",
    "    ca_certs=CA_CERT_PATH,\n",
    "    basic_auth=(\"elastic\", ELASTIC_PASSWORD)\n",
    ")\n",
    "\n",
    "# Successful response!\n",
    "print(es.info())\n",
    "print(es.ping())\n"
   ]
  },
  {
   "attachments": {},
   "cell_type": "markdown",
   "metadata": {},
   "source": [
    "#### Operations"
   ]
  },
  {
   "cell_type": "code",
   "execution_count": 7,
   "metadata": {},
   "outputs": [],
   "source": [
    "# CREATE INDEX and DELETE\n",
    "# es.indices.create(index=\"hello\")\n",
    "# es.indices.delete(index=\"hello\")"
   ]
  },
  {
   "cell_type": "code",
   "execution_count": 8,
   "metadata": {},
   "outputs": [
    {
     "name": "stdout",
     "output_type": "stream",
     "text": [
      "\n",
      "Existing indexes: \n",
      "-->.security-7\n",
      "-->.apm-custom-link\n",
      "-->.apm-agent-configuration\n",
      "-->.apm-source-map\n",
      "-->.kibana-event-log-8.7.0-000001\n",
      "-->.security-profile-8\n",
      "-->.kibana_security_session_1\n",
      "-->hello\n",
      "-->.kibana_task_manager_8.7.0_001\n",
      "-->.kibana_8.7.0_001\n"
     ]
    },
    {
     "name": "stderr",
     "output_type": "stream",
     "text": [
      "C:\\Users\\ashis\\AppData\\Local\\Temp/ipykernel_6960/908208679.py:2: ElasticsearchWarning: this request accesses system indices: [.security-7, .apm-custom-link, .apm-agent-configuration, .security-profile-8, .kibana_security_session_1, .kibana_task_manager_8.7.0_001, .kibana_8.7.0_001], but in a future major version, direct access to system indices will be prevented by default\n",
      "  existing_indexes = es.indices.get_alias(index=\"*\", pretty=True)\n"
     ]
    }
   ],
   "source": [
    "# display all existing indexes\n",
    "existing_indexes = es.indices.get_alias(index=\"*\", pretty=True)\n",
    "print(f\"\\nExisting indexes: \")\n",
    "for index in existing_indexes:\n",
    "    print(f\"-->{index}\")"
   ]
  },
  {
   "cell_type": "code",
   "execution_count": 9,
   "metadata": {},
   "outputs": [
    {
     "name": "stdout",
     "output_type": "stream",
     "text": [
      "{'took': 1, 'timed_out': False, '_shards': {'total': 1, 'successful': 1, 'skipped': 0, 'failed': 0}, 'hits': {'total': {'value': 0, 'relation': 'eq'}, 'max_score': None, 'hits': []}}\n"
     ]
    }
   ],
   "source": [
    "# check if index is available -> throws exception if index not found\n",
    "check_index = es.search(index=\"hello\")\n",
    "print(check_index)"
   ]
  },
  {
   "attachments": {},
   "cell_type": "markdown",
   "metadata": {},
   "source": [
    "#### Upload sample jsons"
   ]
  },
  {
   "attachments": {},
   "cell_type": "markdown",
   "metadata": {},
   "source": [
    "To upload multiple docs\n",
    "1. use generator convert into ELK format\n",
    "2. helpers.bulk(es, generator_name)\n",
    "\n",
    "\n",
    "Mappings: GET test_persons/_mapping\n",
    "SETTINGS: GET test_persons/_settings"
   ]
  },
  {
   "attachments": {},
   "cell_type": "markdown",
   "metadata": {},
   "source": [
    "1. check in kibana: `GET index_name/_search`"
   ]
  },
  {
   "cell_type": "code",
   "execution_count": 13,
   "metadata": {},
   "outputs": [],
   "source": [
    "e1={\n",
    "    \"first_name\":\"Soumil\",\n",
    "    \"last_name\":\"Shah\",\n",
    "    \"age\": 24,\n",
    "    \"about\": \"Full stack Software Developers \",\n",
    "    \"interests\": ['Youtube','music'],\n",
    "}\n",
    "\n",
    "e2={\n",
    "    \"first_name\":\"nitin\",\n",
    "    \"last_name\":\"Shah\",\n",
    "    \"age\": 58,\n",
    "    \"about\": \"Soumil father \",\n",
    "    \"interests\": ['Stock','Relax'],\n",
    "}"
   ]
  },
  {
   "cell_type": "code",
   "execution_count": 19,
   "metadata": {},
   "outputs": [],
   "source": [
    "es.indices.create(index=\"test_persons\")"
   ]
  },
  {
   "cell_type": "code",
   "execution_count": 20,
   "metadata": {},
   "outputs": [],
   "source": [
    "docs = [e1, e2]\n",
    "for id, doc in enumerate(docs):\n",
    "    # you can pass id param or let ES autogenerate \n",
    "    response = es.index(index='test_persons', document=doc)"
   ]
  },
  {
   "attachments": {},
   "cell_type": "markdown",
   "metadata": {},
   "source": [
    "##### Upload json files using bulk api"
   ]
  },
  {
   "cell_type": "code",
   "execution_count": 48,
   "metadata": {},
   "outputs": [
    {
     "name": "stdout",
     "output_type": "stream",
     "text": [
      "{'_id': '643ba51a8e8ded03a708e06e', 'index': 0, 'guid': '595a317e-fb56-4911-9fb7-ea14878f1a99', 'isActive': False, 'balance': '$3,700.46', 'picture': 'http://placehold.it/32x32', 'age': 39, 'eyeColor': 'green', 'name': 'Stafford Chen', 'gender': 'male', 'company': 'NIQUENT', 'email': 'staffordchen@niquent.com', 'phone': '+1 (858) 520-2687', 'address': '140 Grove Street, Hiko, Ohio, 3183', 'about': 'Reprehenderit amet ipsum elit culpa. Aliqua exercitation elit ullamco commodo veniam tempor exercitation elit incididunt voluptate laboris magna aliquip. Quis voluptate sint officia aute sint ipsum non culpa officia ea labore ad eu. Consequat voluptate fugiat ad culpa enim Lorem cillum pariatur deserunt pariatur do tempor.\\r\\n', 'registered': '2014-06-22T11:32:04 -06:-30', 'latitude': 53.245887, 'longitude': 91.978141, 'tags': ['mollit', 'fugiat', 'dolor', 'tempor', 'id', 'veniam', 'voluptate'], 'friends': [{'id': 0, 'name': 'Gibson Lindsey'}, {'id': 1, 'name': 'Bonnie Stokes'}, {'id': 2, 'name': 'Rodriguez Walton'}], 'greeting': 'Hello, Stafford Chen! You have 2 unread messages.', 'favoriteFruit': 'banana'}\n"
     ]
    }
   ],
   "source": [
    "# read json\n",
    "data = \"\"\n",
    "with open(\"./employees.json\") as f:\n",
    "    data = json.load(f)\n",
    "print(data[0])"
   ]
  },
  {
   "cell_type": "code",
   "execution_count": 52,
   "metadata": {},
   "outputs": [],
   "source": [
    "def elk_generator(json_docs):\n",
    "    for doc in data:\n",
    "        yield {\n",
    "            \"_index\":\"empl_test\" , # which index to insert doc into\n",
    "            \"_id\": doc.get(\"_id\"),\n",
    "            \"_source\": {\n",
    "                \"uuid\": doc.get(\"_id\",\"\"),\n",
    "                \"name\": doc.get(\"name\",\"\"),\n",
    "                \"address\": doc.get(\"address\",\"\"),\n",
    "                \"longitude\": doc.get(\"longitude\",0),\n",
    "                \"latitude\": doc.get(\"latitude\",0)\n",
    "                \n",
    "            }\n",
    "        }\n",
    "    "
   ]
  },
  {
   "cell_type": "code",
   "execution_count": 55,
   "metadata": {},
   "outputs": [],
   "source": [
    "# dtypes for ES: https://www.elastic.co/guide/en/elasticsearch/reference/current/sql-data-types.html\n",
    "\n",
    "upload_index_mappings = {\n",
    "      \"properties\":{\n",
    "        \"name\":{ \"type\": \"text\"},\n",
    "        \"address\":{\"type\": \"text\"},\n",
    "        \"uuid\":{\"type\": \"text\"},\n",
    "        \"latitude\":{\"type\": \"float\"},\n",
    "        \"longitude\":{ \"type\": \"float\"}\n",
    "      }\n",
    "}\n",
    "\n",
    "# create index with mappings\n",
    "es.indices.create(index=\"empl_test\", mappings=upload_index_mappings)"
   ]
  },
  {
   "cell_type": "code",
   "execution_count": 54,
   "metadata": {},
   "outputs": [
    {
     "name": "stdout",
     "output_type": "stream",
     "text": [
      "SUCCESFULLY INSERTED: \n",
      " (6, [])\n"
     ]
    }
   ],
   "source": [
    "# bulk import using bulk api\n",
    "elk_generator_obj = elk_generator(json_docs=data)\n",
    "\n",
    "try:\n",
    "    upload_response = helpers.bulk(client=es, actions=elk_generator_obj)\n",
    "    print(f\"SUCCESFULLY INSERTED: \\n {upload_response}\")\n",
    "except Exception as e:\n",
    "    print(e)"
   ]
  },
  {
   "cell_type": "code",
   "execution_count": null,
   "metadata": {},
   "outputs": [],
   "source": []
  }
 ],
 "metadata": {
  "kernelspec": {
   "display_name": "base",
   "language": "python",
   "name": "python3"
  },
  "language_info": {
   "codemirror_mode": {
    "name": "ipython",
    "version": 3
   },
   "file_extension": ".py",
   "mimetype": "text/x-python",
   "name": "python",
   "nbconvert_exporter": "python",
   "pygments_lexer": "ipython3",
   "version": "3.9.7"
  },
  "orig_nbformat": 4
 },
 "nbformat": 4,
 "nbformat_minor": 2
}
