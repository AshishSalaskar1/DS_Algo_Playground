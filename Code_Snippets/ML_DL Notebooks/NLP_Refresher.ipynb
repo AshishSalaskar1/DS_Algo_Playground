{
  "nbformat": 4,
  "nbformat_minor": 0,
  "metadata": {
    "colab": {
      "provenance": [],
      "collapsed_sections": [
        "6DFPq-h8-o7w",
        "VShdZM4dAH20",
        "gIwvHn-kmd-i",
        "WSSW1TpOnrv7"
      ]
    },
    "kernelspec": {
      "name": "python3",
      "display_name": "Python 3"
    },
    "language_info": {
      "name": "python"
    }
  },
  "cells": [
    {
      "cell_type": "code",
      "source": [
        "import nltk\n",
        "import re\n",
        "from collections import Counter\n",
        "from tqdm import tqdm\n",
        "from scipy.sparse import csr_matrix\n",
        "import math\n",
        "import operator\n",
        "from sklearn.preprocessing import normalize\n",
        "import numpy as np\n",
        "import pandas as pd\n",
        "# nltk.download('all')"
      ],
      "metadata": {
        "id": "_GNckHdj-v6H"
      },
      "execution_count": null,
      "outputs": []
    },
    {
      "cell_type": "markdown",
      "source": [
        "- https://www.youtube.com/watch?v=okcqWyAzo4k&list=PLtCBuHKmdxOefxJhd6u8KY9vTN8G5D5yG\n",
        "\n",
        "- https://www.youtube.com/watch?v=JpxCt3kvbLk&list=PLZoTAELRMXVMdJ5sqbCK2LiM0HhQVWNzm"
      ],
      "metadata": {
        "id": "CGq-dQTxAvDK"
      }
    },
    {
      "cell_type": "markdown",
      "source": [
        "## Tokenization"
      ],
      "metadata": {
        "id": "6DFPq-h8-o7w"
      }
    },
    {
      "cell_type": "code",
      "execution_count": null,
      "metadata": {
        "id": "2RFpxe5T-WXn"
      },
      "outputs": [],
      "source": [
        "text = \"\"\"\n",
        "In Indian history, our nation has come across a situation, all at a time, an ascending economic trajectory, continuously rising foreign exchange reserves, increasing domestic investment with investors’ confidence rising steadily, global successes of Indian managerial and entrepreneurial talents, global recognition of technological competence, energy of 540 million youth, umbilical connectivities of more than 25 million people of Indian origin in various parts of the planet and the interest shown by many developed countries to invest in our engineers and scientists through setting up of new Research and Development Centres in India.\n",
        "\n",
        "The distinction between the public and the private sectors and the illusory primacy of one over the other is vanishing. Also, there is a trend that many young people are opting for creating new enterprises instead of being mere employees.\n",
        "\n",
        "Providing leadership for the one billion people with multi-cultural, multi-language and multi-religious backgrounds is indeed the core competence of our nation. Our technological competence and value systems with civilisational heritage are highly respected by the world community. Also, Foreign Institutional Investors find investing in India attractive as the returns are high and assured. Indian industrialists are also investing abroad and opening new business ventures.\n",
        "\"\"\""
      ]
    },
    {
      "cell_type": "code",
      "source": [
        "# SENTENCE TOKENIZER\n",
        "sent = nltk.sent_tokenize(text)\n",
        "print(sent)"
      ],
      "metadata": {
        "colab": {
          "base_uri": "https://localhost:8080/"
        },
        "id": "be_b5knl_W5U",
        "outputId": "5ca5601a-7bf5-49d9-9ca4-5999f5f297f2"
      },
      "execution_count": null,
      "outputs": [
        {
          "output_type": "stream",
          "name": "stdout",
          "text": [
            "['\\nIn Indian history, our nation has come across a situation, all at a time, an ascending economic trajectory, continuously rising foreign exchange reserves, increasing domestic investment with investors’ confidence rising steadily, global successes of Indian managerial and entrepreneurial talents, global recognition of technological competence, energy of 540 million youth, umbilical connectivities of more than 25 million people of Indian origin in various parts of the planet and the interest shown by many developed countries to invest in our engineers and scientists through setting up of new Research and Development Centres in India.', 'The distinction between the public and the private sectors and the illusory primacy of one over the other is vanishing.', 'Also, there is a trend that many young people are opting for creating new enterprises instead of being mere employees.', 'Providing leadership for the one billion people with multi-cultural, multi-language and multi-religious backgrounds is indeed the core competence of our nation.', 'Our technological competence and value systems with civilisational heritage are highly respected by the world community.', 'Also, Foreign Institutional Investors find investing in India attractive as the returns are high and assured.', 'Indian industrialists are also investing abroad and opening new business ventures.']\n"
          ]
        }
      ]
    },
    {
      "cell_type": "code",
      "source": [
        "# WORD TOKENIZER -> Removes Punctuations and then splits words\n",
        "word = nltk.word_tokenize(text)\n",
        "word"
      ],
      "metadata": {
        "colab": {
          "base_uri": "https://localhost:8080/"
        },
        "id": "iR9HS8c2_hma",
        "outputId": "96be9185-1525-4e54-9b11-de1cdbd78060"
      },
      "execution_count": null,
      "outputs": [
        {
          "output_type": "execute_result",
          "data": {
            "text/plain": [
              "['In',\n",
              " 'Indian',\n",
              " 'history',\n",
              " ',',\n",
              " 'our',\n",
              " 'nation',\n",
              " 'has',\n",
              " 'come',\n",
              " 'across',\n",
              " 'a',\n",
              " 'situation',\n",
              " ',',\n",
              " 'all',\n",
              " 'at',\n",
              " 'a',\n",
              " 'time',\n",
              " ',',\n",
              " 'an',\n",
              " 'ascending',\n",
              " 'economic',\n",
              " 'trajectory',\n",
              " ',',\n",
              " 'continuously',\n",
              " 'rising',\n",
              " 'foreign',\n",
              " 'exchange',\n",
              " 'reserves',\n",
              " ',',\n",
              " 'increasing',\n",
              " 'domestic',\n",
              " 'investment',\n",
              " 'with',\n",
              " 'investors',\n",
              " '’',\n",
              " 'confidence',\n",
              " 'rising',\n",
              " 'steadily',\n",
              " ',',\n",
              " 'global',\n",
              " 'successes',\n",
              " 'of',\n",
              " 'Indian',\n",
              " 'managerial',\n",
              " 'and',\n",
              " 'entrepreneurial',\n",
              " 'talents',\n",
              " ',',\n",
              " 'global',\n",
              " 'recognition',\n",
              " 'of',\n",
              " 'technological',\n",
              " 'competence',\n",
              " ',',\n",
              " 'energy',\n",
              " 'of',\n",
              " '540',\n",
              " 'million',\n",
              " 'youth',\n",
              " ',',\n",
              " 'umbilical',\n",
              " 'connectivities',\n",
              " 'of',\n",
              " 'more',\n",
              " 'than',\n",
              " '25',\n",
              " 'million',\n",
              " 'people',\n",
              " 'of',\n",
              " 'Indian',\n",
              " 'origin',\n",
              " 'in',\n",
              " 'various',\n",
              " 'parts',\n",
              " 'of',\n",
              " 'the',\n",
              " 'planet',\n",
              " 'and',\n",
              " 'the',\n",
              " 'interest',\n",
              " 'shown',\n",
              " 'by',\n",
              " 'many',\n",
              " 'developed',\n",
              " 'countries',\n",
              " 'to',\n",
              " 'invest',\n",
              " 'in',\n",
              " 'our',\n",
              " 'engineers',\n",
              " 'and',\n",
              " 'scientists',\n",
              " 'through',\n",
              " 'setting',\n",
              " 'up',\n",
              " 'of',\n",
              " 'new',\n",
              " 'Research',\n",
              " 'and',\n",
              " 'Development',\n",
              " 'Centres',\n",
              " 'in',\n",
              " 'India',\n",
              " '.',\n",
              " 'The',\n",
              " 'distinction',\n",
              " 'between',\n",
              " 'the',\n",
              " 'public',\n",
              " 'and',\n",
              " 'the',\n",
              " 'private',\n",
              " 'sectors',\n",
              " 'and',\n",
              " 'the',\n",
              " 'illusory',\n",
              " 'primacy',\n",
              " 'of',\n",
              " 'one',\n",
              " 'over',\n",
              " 'the',\n",
              " 'other',\n",
              " 'is',\n",
              " 'vanishing',\n",
              " '.',\n",
              " 'Also',\n",
              " ',',\n",
              " 'there',\n",
              " 'is',\n",
              " 'a',\n",
              " 'trend',\n",
              " 'that',\n",
              " 'many',\n",
              " 'young',\n",
              " 'people',\n",
              " 'are',\n",
              " 'opting',\n",
              " 'for',\n",
              " 'creating',\n",
              " 'new',\n",
              " 'enterprises',\n",
              " 'instead',\n",
              " 'of',\n",
              " 'being',\n",
              " 'mere',\n",
              " 'employees',\n",
              " '.',\n",
              " 'Providing',\n",
              " 'leadership',\n",
              " 'for',\n",
              " 'the',\n",
              " 'one',\n",
              " 'billion',\n",
              " 'people',\n",
              " 'with',\n",
              " 'multi-cultural',\n",
              " ',',\n",
              " 'multi-language',\n",
              " 'and',\n",
              " 'multi-religious',\n",
              " 'backgrounds',\n",
              " 'is',\n",
              " 'indeed',\n",
              " 'the',\n",
              " 'core',\n",
              " 'competence',\n",
              " 'of',\n",
              " 'our',\n",
              " 'nation',\n",
              " '.',\n",
              " 'Our',\n",
              " 'technological',\n",
              " 'competence',\n",
              " 'and',\n",
              " 'value',\n",
              " 'systems',\n",
              " 'with',\n",
              " 'civilisational',\n",
              " 'heritage',\n",
              " 'are',\n",
              " 'highly',\n",
              " 'respected',\n",
              " 'by',\n",
              " 'the',\n",
              " 'world',\n",
              " 'community',\n",
              " '.',\n",
              " 'Also',\n",
              " ',',\n",
              " 'Foreign',\n",
              " 'Institutional',\n",
              " 'Investors',\n",
              " 'find',\n",
              " 'investing',\n",
              " 'in',\n",
              " 'India',\n",
              " 'attractive',\n",
              " 'as',\n",
              " 'the',\n",
              " 'returns',\n",
              " 'are',\n",
              " 'high',\n",
              " 'and',\n",
              " 'assured',\n",
              " '.',\n",
              " 'Indian',\n",
              " 'industrialists',\n",
              " 'are',\n",
              " 'also',\n",
              " 'investing',\n",
              " 'abroad',\n",
              " 'and',\n",
              " 'opening',\n",
              " 'new',\n",
              " 'business',\n",
              " 'ventures',\n",
              " '.']"
            ]
          },
          "metadata": {},
          "execution_count": 15
        }
      ]
    },
    {
      "cell_type": "markdown",
      "source": [
        "## Stemming and Lemmatization"
      ],
      "metadata": {
        "id": "VShdZM4dAH20"
      }
    },
    {
      "cell_type": "markdown",
      "source": [
        "**Stemming**: Returns stem of word <br>\n",
        "**Lemmatization**: Returns stem but meaningful words"
      ],
      "metadata": {
        "id": "PzKXZ7ysANzt"
      }
    },
    {
      "cell_type": "code",
      "source": [
        "from nltk.stem import PorterStemmer, WordNetLemmatizer, SnowballStemmer\n",
        "from nltk.corpus import stopwords"
      ],
      "metadata": {
        "id": "5lL3k5lh_39i"
      },
      "execution_count": null,
      "outputs": []
    },
    {
      "cell_type": "code",
      "source": [
        "# remove stopwords\n",
        "sents = nltk.sent_tokenize(text)\n",
        "print(sents[0])\n",
        "for i,sent in enumerate(sents):\n",
        "  sents[i] = \" \".join([word for word in sent.split(\" \") if word not in set(stopwords.words('english'))])\n",
        "print(sents[0])"
      ],
      "metadata": {
        "colab": {
          "base_uri": "https://localhost:8080/"
        },
        "id": "qSzAmjDMFtxz",
        "outputId": "5c7c5545-c00b-4ce2-b94d-c198c52757c5"
      },
      "execution_count": null,
      "outputs": [
        {
          "output_type": "stream",
          "name": "stdout",
          "text": [
            "\n",
            "In Indian history, our nation has come across a situation, all at a time, an ascending economic trajectory, continuously rising foreign exchange reserves, increasing domestic investment with investors’ confidence rising steadily, global successes of Indian managerial and entrepreneurial talents, global recognition of technological competence, energy of 540 million youth, umbilical connectivities of more than 25 million people of Indian origin in various parts of the planet and the interest shown by many developed countries to invest in our engineers and scientists through setting up of new Research and Development Centres in India.\n",
            "\n",
            "In Indian history, nation come across situation, time, ascending economic trajectory, continuously rising foreign exchange reserves, increasing domestic investment investors’ confidence rising steadily, global successes Indian managerial entrepreneurial talents, global recognition technological competence, energy 540 million youth, umbilical connectivities 25 million people Indian origin various parts planet interest shown many developed countries invest engineers scientists setting new Research Development Centres India.\n"
          ]
        }
      ]
    },
    {
      "cell_type": "code",
      "source": [
        "WordNetLemmatizer().lemmatize(\"studying\")"
      ],
      "metadata": {
        "colab": {
          "base_uri": "https://localhost:8080/",
          "height": 35
        },
        "id": "FEkIqd5YKMMg",
        "outputId": "5fbf125b-2c79-498c-a453-ac198ec4c419"
      },
      "execution_count": null,
      "outputs": [
        {
          "output_type": "execute_result",
          "data": {
            "text/plain": [
              "'studying'"
            ],
            "application/vnd.google.colaboratory.intrinsic+json": {
              "type": "string"
            }
          },
          "metadata": {},
          "execution_count": 46
        }
      ]
    },
    {
      "cell_type": "code",
      "source": [
        "words = [\"cries\",\"studies\",\"rocks\",\"better\",\"history\", \"historical\",\"run\",\"runner\",\"running\",\"ran\"]\n",
        "\n",
        "\n",
        "stemmer = SnowballStemmer(language='english')\n",
        "print(\"Stemming\\n\")\n",
        "for word in words:\n",
        "  print(word,\"->\",stemmer.stem(word))\n",
        "\n",
        "lemma = WordNetLemmatizer()\n",
        "print(\"\\nLemmatization\\n\")\n",
        "for word in words:\n",
        "  print(word,\"->\",lemma.lemmatize(word))"
      ],
      "metadata": {
        "colab": {
          "base_uri": "https://localhost:8080/"
        },
        "id": "BgZkdojuF-uT",
        "outputId": "4fc4dec4-54ce-4c03-a5fb-c606dc37e924"
      },
      "execution_count": null,
      "outputs": [
        {
          "output_type": "stream",
          "name": "stdout",
          "text": [
            "Stemming\n",
            "\n",
            "cries -> cri\n",
            "studies -> studi\n",
            "rocks -> rock\n",
            "better -> better\n",
            "history -> histori\n",
            "historical -> histor\n",
            "run -> run\n",
            "runner -> runner\n",
            "running -> run\n",
            "ran -> ran\n",
            "\n",
            "Lemmatization\n",
            "\n",
            "cries -> cry\n",
            "studies -> study\n",
            "rocks -> rock\n",
            "better -> better\n",
            "history -> history\n",
            "historical -> historical\n",
            "run -> run\n",
            "runner -> runner\n",
            "running -> running\n",
            "ran -> ran\n"
          ]
        }
      ]
    },
    {
      "cell_type": "markdown",
      "source": [
        "### BoW"
      ],
      "metadata": {
        "id": "i2fErICSl5iE"
      }
    },
    {
      "cell_type": "code",
      "source": [
        "from collections import Counter\n",
        "from scipy.sparse import csr_matrix\n",
        "from tqdm import tqdm"
      ],
      "metadata": {
        "id": "cy6eJyB6mTwg"
      },
      "execution_count": null,
      "outputs": []
    },
    {
      "cell_type": "code",
      "source": [
        "def fit(dataset):    \n",
        "    unique_words = set() # at first we will initialize an empty set\n",
        "    # check if its list type or not\n",
        "    if isinstance(dataset, (list,)):\n",
        "        for row in dataset: # for each review in the dataset\n",
        "            for word in row.split(\" \"): # for each word in the review. #split method converts a string into list of words\n",
        "                if len(word) < 2:\n",
        "                    continue\n",
        "                unique_words.add(word)\n",
        "        unique_words = sorted(list(unique_words))\n",
        "        vocab = {j:i for i,j in enumerate(unique_words)}\n",
        "        \n",
        "        return vocab\n",
        "    else:\n",
        "        print(\"you need to pass list of sentance\")"
      ],
      "metadata": {
        "id": "nqO6MG8SG3Qd"
      },
      "execution_count": null,
      "outputs": []
    },
    {
      "cell_type": "code",
      "source": [
        "vocab = fit([\"abc def aaa prq\", \"lmn pqr aaaaaaa aaa abbb baaa\"])\n",
        "print(vocab)"
      ],
      "metadata": {
        "colab": {
          "base_uri": "https://localhost:8080/"
        },
        "id": "mFn9WoV0mG1z",
        "outputId": "9e1fe8d4-bf41-482b-af25-d49383ce5455"
      },
      "execution_count": null,
      "outputs": [
        {
          "output_type": "stream",
          "name": "stdout",
          "text": [
            "{'aaa': 0, 'aaaaaaa': 1, 'abbb': 2, 'abc': 3, 'baaa': 4, 'def': 5, 'lmn': 6, 'pqr': 7, 'prq': 8}\n"
          ]
        }
      ]
    },
    {
      "cell_type": "code",
      "source": [
        "def transform(dataset,vocab):\n",
        "    rows = []\n",
        "    columns = []\n",
        "    values = []\n",
        "    if isinstance(dataset, (list,)):\n",
        "        for idx, row in enumerate(tqdm(dataset)): \n",
        "            word_freq = dict(Counter(row.split()))\n",
        "            for word, freq in word_freq.items():               \n",
        "                if len(word) < 2:\n",
        "                    continue\n",
        "                col_index = vocab.get(word, -1) \n",
        "                if col_index !=-1:\n",
        "                    rows.append(idx)\n",
        "                    columns.append(col_index)\n",
        "                    values.append(freq)\n",
        "        return csr_matrix((values, (rows,columns)), shape=(len(dataset),len(vocab)))\n",
        "    else:\n",
        "        print(\"you need to pass list of strings\")"
      ],
      "metadata": {
        "id": "V7PEnrIEmISL"
      },
      "execution_count": null,
      "outputs": []
    },
    {
      "cell_type": "code",
      "source": [
        "strings = [\"the method of lagrange multipliers is the economists workhorse for solving optimization problems\",\n",
        "           \"the technique is a centerpiece of economic theory but unfortunately its usually taught poorly\"]\n",
        "vocab = fit(strings)\n",
        "print(list(vocab.keys()))\n",
        "print()\n",
        "print(transform(strings, vocab).toarray())"
      ],
      "metadata": {
        "colab": {
          "base_uri": "https://localhost:8080/"
        },
        "id": "43lw0Go9mQwz",
        "outputId": "6cfc815d-a871-4b9a-fb6f-328fc6796ca2"
      },
      "execution_count": null,
      "outputs": [
        {
          "output_type": "stream",
          "name": "stdout",
          "text": [
            "['but', 'centerpiece', 'economic', 'economists', 'for', 'is', 'its', 'lagrange', 'method', 'multipliers', 'of', 'optimization', 'poorly', 'problems', 'solving', 'taught', 'technique', 'the', 'theory', 'unfortunately', 'usually', 'workhorse']\n",
            "\n"
          ]
        },
        {
          "output_type": "stream",
          "name": "stderr",
          "text": [
            "100%|██████████| 2/2 [00:00<00:00, 8895.66it/s]"
          ]
        },
        {
          "output_type": "stream",
          "name": "stdout",
          "text": [
            "[[0 0 0 1 1 1 0 1 1 1 1 1 0 1 1 0 0 2 0 0 0 1]\n",
            " [1 1 1 0 0 1 1 0 0 0 1 0 1 0 0 1 1 1 1 1 1 0]]\n"
          ]
        },
        {
          "output_type": "stream",
          "name": "stderr",
          "text": [
            "\n"
          ]
        }
      ]
    },
    {
      "cell_type": "markdown",
      "source": [
        "#### Compare with Inbuilt function"
      ],
      "metadata": {
        "id": "gIwvHn-kmd-i"
      }
    },
    {
      "cell_type": "code",
      "source": [
        "from sklearn.feature_extraction.text import CountVectorizer\n",
        "\n",
        "vec = CountVectorizer(analyzer='word')\n",
        "\n",
        "vec.fit(strings)\n",
        "feature_matrix_2 = vec.transform(strings)\n",
        "print(feature_matrix_2.toarray())"
      ],
      "metadata": {
        "colab": {
          "base_uri": "https://localhost:8080/"
        },
        "id": "N40Z2xAumW6S",
        "outputId": "fc98c199-fe05-40c2-b09f-c15dadb74299"
      },
      "execution_count": null,
      "outputs": [
        {
          "output_type": "stream",
          "name": "stdout",
          "text": [
            "[[0 0 0 1 1 1 0 1 1 1 1 1 0 1 1 0 0 2 0 0 0 1]\n",
            " [1 1 1 0 0 1 1 0 0 0 1 0 1 0 0 1 1 1 1 1 1 0]]\n"
          ]
        }
      ]
    },
    {
      "cell_type": "markdown",
      "source": [
        "## TFIDF"
      ],
      "metadata": {
        "id": "WSSW1TpOnrv7"
      }
    },
    {
      "cell_type": "code",
      "source": [
        "from collections import Counter\n",
        "from tqdm import tqdm\n",
        "from scipy.sparse import csr_matrix\n",
        "import math\n",
        "import operator\n",
        "from sklearn.preprocessing import normalize\n",
        "import numpy"
      ],
      "metadata": {
        "id": "dsV7b0ukn9xy"
      },
      "execution_count": null,
      "outputs": []
    },
    {
      "cell_type": "code",
      "source": [
        "corpus = [\n",
        "     'this is the first document',\n",
        "     'this document is the second document',\n",
        "     'and this is the third one',\n",
        "     'is this the first document',\n",
        "]"
      ],
      "metadata": {
        "id": "5lFqeIHLmfub"
      },
      "execution_count": null,
      "outputs": []
    },
    {
      "cell_type": "code",
      "source": [
        "from sklearn.feature_extraction.text import TfidfVectorizer\n",
        "vectorizer = TfidfVectorizer()\n",
        "vectorizer.fit(corpus)\n",
        "skl_output = vectorizer.transform(corpus)\n",
        "\n",
        "print(vectorizer.get_feature_names_out())\n",
        "print(vectorizer.idf_)"
      ],
      "metadata": {
        "colab": {
          "base_uri": "https://localhost:8080/"
        },
        "id": "DLBEhnIDnzEd",
        "outputId": "79337a2f-7655-4e6a-dfb9-92a21c4a47ca"
      },
      "execution_count": null,
      "outputs": [
        {
          "output_type": "stream",
          "name": "stdout",
          "text": [
            "['and' 'document' 'first' 'is' 'one' 'second' 'the' 'third' 'this']\n",
            "[1.91629073 1.22314355 1.51082562 1.         1.91629073 1.91629073\n",
            " 1.         1.91629073 1.        ]\n"
          ]
        }
      ]
    },
    {
      "cell_type": "code",
      "source": [
        "def fit(dataset):\n",
        "  unique_words = set()\n",
        "  if isinstance(dataset, (list,)):\n",
        "    for row in dataset:\n",
        "      for word in row.split(\" \"):\n",
        "        if len(word) < 2:\n",
        "          continue\n",
        "        unique_words.add(word)\n",
        "    unique_words = sorted(list(unique_words))\n",
        "    vocab = {j:i for i,j in enumerate(unique_words)}\n",
        "    return vocab\n",
        "  else:\n",
        "    print(\"Enter list of sentences\")\n"
      ],
      "metadata": {
        "id": "vehGelL0n3g0"
      },
      "execution_count": null,
      "outputs": []
    },
    {
      "cell_type": "code",
      "source": [
        "vocab = fit(corpus)\n",
        "vocab"
      ],
      "metadata": {
        "colab": {
          "base_uri": "https://localhost:8080/"
        },
        "id": "MiHoPr7On_Ks",
        "outputId": "35d0e4d5-3669-4645-f6c6-7da83207fd36"
      },
      "execution_count": null,
      "outputs": [
        {
          "output_type": "execute_result",
          "data": {
            "text/plain": [
              "{'and': 0,\n",
              " 'document': 1,\n",
              " 'first': 2,\n",
              " 'is': 3,\n",
              " 'one': 4,\n",
              " 'second': 5,\n",
              " 'the': 6,\n",
              " 'third': 7,\n",
              " 'this': 8}"
            ]
          },
          "metadata": {},
          "execution_count": 28
        }
      ]
    },
    {
      "cell_type": "code",
      "source": [
        "def get_idf(vocab,dataset):\n",
        "  n = len(dataset)\n",
        "  idf = {i:n for i in vocab.keys()}\n",
        "\n",
        "  count_words = []\n",
        "  if isinstance(dataset, (list,)):\n",
        "    # save count_dicts of each row\n",
        "    for row in dataset:\n",
        "      word_freq = dict(Counter(row.split()))\n",
        "      count_words.append(word_freq)\n",
        "    \n",
        "    #calculate idfs\n",
        "    for word in vocab.keys():\n",
        "      count = 0\n",
        "      for x in count_words:\n",
        "        if word in x.keys():\n",
        "          count += 1\n",
        "      idf[word] = 1 + math.log((1+n)/(1+count))\n",
        "    # print(idf)\n",
        "    return idf\n",
        "  else:\n",
        "    print(\"Enter list of sentences\")"
      ],
      "metadata": {
        "id": "iCmQXn-5oAM8"
      },
      "execution_count": null,
      "outputs": []
    },
    {
      "cell_type": "code",
      "source": [
        "idfs = get_idf(vocab,corpus)"
      ],
      "metadata": {
        "id": "B0yuxr97oBLU"
      },
      "execution_count": null,
      "outputs": []
    },
    {
      "cell_type": "code",
      "source": [
        "# transform\n",
        "def transform(dataset, vocab, idfs):\n",
        "  rows = []\n",
        "  cols = []\n",
        "  vals = []\n",
        "  for idx,row in enumerate(dataset):\n",
        "    words = [w for w in row.split(\" \") if len(w)>1]\n",
        "    word_freq = dict(Counter(words))\n",
        "\n",
        "    # calculate tf*idf\n",
        "    for word,freq in word_freq.items():\n",
        "      rows.append(idx);\n",
        "      cols.append(vocab.get(word,-1))\n",
        "      vals.append( (freq/len(words)) * (idfs[word]) )\n",
        "  \n",
        "  print(rows,cols,vals,sep=\"\\n\")\n",
        "  return csr_matrix((vals, (rows,cols)), shape=(len(dataset),len(vocab)))\n",
        "      \n"
      ],
      "metadata": {
        "id": "5tN3KSU0oCTb"
      },
      "execution_count": null,
      "outputs": []
    },
    {
      "cell_type": "code",
      "source": [
        "res = transform(corpus,vocab,idfs)"
      ],
      "metadata": {
        "colab": {
          "base_uri": "https://localhost:8080/"
        },
        "id": "O4jOG1dsoDSs",
        "outputId": "c0c0b034-1641-4417-c101-f9204ccbb470"
      },
      "execution_count": null,
      "outputs": [
        {
          "output_type": "stream",
          "name": "stdout",
          "text": [
            "[0, 0, 0, 0, 0, 1, 1, 1, 1, 1, 2, 2, 2, 2, 2, 2, 3, 3, 3, 3, 3]\n",
            "[8, 3, 6, 2, 1, 8, 1, 3, 6, 5, 0, 8, 3, 6, 7, 4, 3, 8, 6, 2, 1]\n",
            "[0.2, 0.2, 0.2, 0.3021651247531982, 0.24462871026284194, 0.16666666666666666, 0.40771451710473655, 0.16666666666666666, 0.16666666666666666, 0.3193817886456925, 0.3193817886456925, 0.16666666666666666, 0.16666666666666666, 0.16666666666666666, 0.3193817886456925, 0.3193817886456925, 0.2, 0.2, 0.2, 0.3021651247531982, 0.24462871026284194]\n"
          ]
        }
      ]
    },
    {
      "cell_type": "code",
      "source": [
        "\n",
        "print(\"\\n--Vocabulary--\")\n",
        "print(\"SKLEARN : \",vectorizer.get_feature_names())\n",
        "print(\"CUSTOM   :\" ,list(vocab.keys()))\n",
        "\n",
        "#idfs\n",
        "print(\"\\n--IDF VALUES--\")\n",
        "print(\"SKLEARN : \",list(vectorizer.idf_))\n",
        "print(\"CUSTOM   :\" ,list(idfs.values()))\n",
        "\n",
        "#output shape\n",
        "print(\"\\n--OUTPUT SHAPE--\")\n",
        "print(\"SKLEARN : \",skl_output.shape)\n",
        "print(\"CUSTOM   :\" ,res.shape)\n",
        "\n",
        "# tf-idf value for first row\n",
        "print(\"\\n--TF-IDF of First Sentence--\")\n",
        "print(\"SKLEARN : \",skl_output[0].toarray())\n",
        "print(\"CUSTOM   :\" ,res[0].toarray())\n"
      ],
      "metadata": {
        "colab": {
          "base_uri": "https://localhost:8080/"
        },
        "id": "BkurwCbioEj8",
        "outputId": "41a72a5a-5c08-4b28-c880-983baec8a753"
      },
      "execution_count": null,
      "outputs": [
        {
          "output_type": "stream",
          "name": "stdout",
          "text": [
            "\n",
            "--Vocabulary--\n",
            "SKLEARN :  ['and', 'document', 'first', 'is', 'one', 'second', 'the', 'third', 'this']\n",
            "CUSTOM   : ['and', 'document', 'first', 'is', 'one', 'second', 'the', 'third', 'this']\n",
            "\n",
            "--IDF VALUES--\n",
            "SKLEARN :  [1.916290731874155, 1.2231435513142097, 1.5108256237659907, 1.0, 1.916290731874155, 1.916290731874155, 1.0, 1.916290731874155, 1.0]\n",
            "CUSTOM   : [1.916290731874155, 1.2231435513142097, 1.5108256237659907, 1.0, 1.916290731874155, 1.916290731874155, 1.0, 1.916290731874155, 1.0]\n",
            "\n",
            "--OUTPUT SHAPE--\n",
            "SKLEARN :  (4, 9)\n",
            "CUSTOM   : (4, 9)\n",
            "\n",
            "--TF-IDF of First Sentence--\n",
            "SKLEARN :  [[0.         0.46979139 0.58028582 0.38408524 0.         0.\n",
            "  0.38408524 0.         0.38408524]]\n",
            "CUSTOM   : [[0.         0.24462871 0.30216512 0.2        0.         0.\n",
            "  0.2        0.         0.2       ]]\n"
          ]
        },
        {
          "output_type": "stream",
          "name": "stderr",
          "text": [
            "/usr/local/lib/python3.7/dist-packages/sklearn/utils/deprecation.py:87: FutureWarning: Function get_feature_names is deprecated; get_feature_names is deprecated in 1.0 and will be removed in 1.2. Please use get_feature_names_out instead.\n",
            "  warnings.warn(msg, category=FutureWarning)\n"
          ]
        }
      ]
    },
    {
      "cell_type": "markdown",
      "source": [
        "## Word2Vec\n"
      ],
      "metadata": {
        "id": "3KP6WIpPr3XX"
      }
    },
    {
      "cell_type": "markdown",
      "source": [],
      "metadata": {
        "id": "gC0bAOBkZsvk"
      }
    },
    {
      "cell_type": "code",
      "source": [
        "import nltk\n",
        "from nltk.tokenize import sent_tokenize, word_tokenize\n",
        "import warnings\n",
        "\n",
        "warnings.filterwarnings(action = 'ignore')\n",
        "\n",
        "import gensim\n",
        "from gensim.models import Word2Vec\n",
        "nltk.download('punkt')"
      ],
      "metadata": {
        "colab": {
          "base_uri": "https://localhost:8080/"
        },
        "id": "XuwD78jRsFgd",
        "outputId": "e34e1db2-9234-4c66-91cb-7bd61efec582"
      },
      "execution_count": null,
      "outputs": [
        {
          "output_type": "stream",
          "name": "stdout",
          "text": [
            "[nltk_data] Downloading package punkt to /root/nltk_data...\n",
            "[nltk_data]   Unzipping tokenizers/punkt.zip.\n"
          ]
        },
        {
          "output_type": "execute_result",
          "data": {
            "text/plain": [
              "True"
            ]
          },
          "metadata": {},
          "execution_count": 33
        }
      ]
    },
    {
      "cell_type": "code",
      "source": [
        "\n",
        "\n",
        "sample = open(\"alice_text.txt\", \"r\")\n",
        "s = sample.read()\n",
        "f = s.replace(\"\\n\", \" \")\n",
        "\n",
        "data = []\n",
        "for i in sent_tokenize(f):\n",
        "\ttemp = []\n",
        "\tfor j in word_tokenize(i):\n",
        "\t\ttemp.append(j.lower())\n",
        "\tdata.append(temp)\n",
        "\n",
        "model1 = gensim.models.Word2Vec(data, min_count = 1,size = 100, window = 5)"
      ],
      "metadata": {
        "id": "bhsDqdLNoJbU"
      },
      "execution_count": null,
      "outputs": []
    },
    {
      "cell_type": "code",
      "source": [
        "# Print results\n",
        "print(\"Cosine similarity between 'alice' \" +\"and 'wonderland' - CBOW : \",\tmodel1.similarity('alice', 'wonderland'))\n",
        "print(\"Cosine similarity between 'alice' \" +\"and 'machines' - CBOW : \",\tmodel1.similarity('alice', 'machines'))\n"
      ],
      "metadata": {
        "colab": {
          "base_uri": "https://localhost:8080/"
        },
        "id": "XshRmO5hsO4u",
        "outputId": "ee293b70-a62b-45bc-8051-fa2d7ccfed9b"
      },
      "execution_count": null,
      "outputs": [
        {
          "output_type": "stream",
          "name": "stdout",
          "text": [
            "Cosine similarity between 'alice' and 'wonderland' - CBOW :  0.9992894\n",
            "Cosine similarity between 'alice' and 'machines' - CBOW :  0.9716141\n"
          ]
        }
      ]
    },
    {
      "cell_type": "code",
      "source": [
        "# Create Skip Gram model\n",
        "model2 = gensim.models.Word2Vec(data, min_count = 1, size = 100,window = 5, sg = 1)\n",
        "\n",
        "# Print results\n",
        "print(\"Cosine similarity between 'alice' \" +\"and 'wonderland' - Skip Gram : \",model2.similarity('alice', 'wonderland'))\n",
        "print(\"Cosine similarity between 'alice' \" +\"and 'machines' - Skip Gram : \",model2.similarity('alice', 'machines'))\n"
      ],
      "metadata": {
        "colab": {
          "base_uri": "https://localhost:8080/"
        },
        "id": "KECXVhF9r8v_",
        "outputId": "2dc7792c-de75-4865-e045-d923bb282bc9"
      },
      "execution_count": null,
      "outputs": [
        {
          "output_type": "stream",
          "name": "stdout",
          "text": [
            "Cosine similarity between 'alice' and 'wonderland' - Skip Gram :  0.8776449\n",
            "Cosine similarity between 'alice' and 'machines' - Skip Gram :  0.8770036\n"
          ]
        }
      ]
    },
    {
      "cell_type": "code",
      "source": [
        "my_dict = dict({})\n",
        "for idx, key in enumerate(model1.wv.vocab):\n",
        "    my_dict[key] = model1.wv[key]"
      ],
      "metadata": {
        "id": "X5v63F_DscnO"
      },
      "execution_count": null,
      "outputs": []
    },
    {
      "cell_type": "code",
      "source": [
        "my_dict[\"alice\"]"
      ],
      "metadata": {
        "colab": {
          "base_uri": "https://localhost:8080/"
        },
        "id": "k3Eo-ogQsn6H",
        "outputId": "64f19e61-0569-4253-dc3b-e5e6a6e7ef60"
      },
      "execution_count": null,
      "outputs": [
        {
          "output_type": "execute_result",
          "data": {
            "text/plain": [
              "array([ 0.4164409 , -0.19738589,  0.11067086, -0.6248553 , -0.08285171,\n",
              "       -0.17073992,  0.3349277 ,  0.29170617, -0.15590815, -0.05479072,\n",
              "       -0.9159177 ,  0.15339078, -0.31803453, -0.25251183, -0.98786414,\n",
              "       -0.04000729, -0.5188635 ,  0.05297922,  0.2754833 , -0.51460886,\n",
              "       -0.6097381 , -0.0845284 , -0.4949017 ,  0.5365055 ,  0.30108255,\n",
              "        0.3793318 , -0.14200695, -0.37151414,  0.1686856 ,  0.04746228,\n",
              "       -1.1411417 , -0.06251722, -0.26207617, -0.3501414 , -0.9410542 ,\n",
              "       -0.2816504 , -0.2307448 ,  0.07344933,  0.04322067,  0.3464532 ,\n",
              "       -0.02681896, -0.07210601, -0.89420694,  0.24857305,  0.08488134,\n",
              "        0.23495656, -0.34183902,  0.28411585,  0.13595052,  0.4587112 ,\n",
              "        0.3624266 , -0.97399706,  0.39266124, -0.01000801, -0.2147474 ,\n",
              "        0.02262375, -0.321964  , -0.0858183 ,  1.0291909 ,  0.02293139,\n",
              "       -0.25787887, -0.17944294,  0.4773817 ,  0.05202195,  0.49253115,\n",
              "        0.30045518, -0.15832713,  0.4646548 ,  0.16346993, -0.06481327,\n",
              "        0.14029613, -0.26357493, -0.02885157, -0.1617049 , -0.22698948,\n",
              "       -0.07793361,  0.26677376,  0.23821901,  0.62452394, -0.12146927,\n",
              "        0.3111417 , -0.19038452,  0.51797694,  0.1830769 ,  0.3787363 ,\n",
              "        0.63671863,  0.59751934, -0.10204757, -0.3822786 ,  0.3816786 ,\n",
              "       -0.7235221 , -0.74486905,  0.02960693,  0.5927555 ,  0.35702223,\n",
              "        0.13988662,  0.06703568, -0.4189283 ,  0.665624  ,  0.02238312],\n",
              "      dtype=float32)"
            ]
          },
          "metadata": {},
          "execution_count": 48
        }
      ]
    },
    {
      "cell_type": "markdown",
      "source": [
        "### CBOW Implementation"
      ],
      "metadata": {
        "id": "nLQTfpBsuvh0"
      }
    },
    {
      "cell_type": "code",
      "source": [
        "import keras\n",
        "keras.__version__"
      ],
      "metadata": {
        "id": "SiHaACp1KgsQ",
        "outputId": "91f89ec2-f305-435e-d246-06c8422db851",
        "colab": {
          "base_uri": "https://localhost:8080/",
          "height": 35
        }
      },
      "execution_count": null,
      "outputs": [
        {
          "output_type": "execute_result",
          "data": {
            "text/plain": [
              "'2.8.0'"
            ],
            "application/vnd.google.colaboratory.intrinsic+json": {
              "type": "string"
            }
          },
          "metadata": {},
          "execution_count": 135
        }
      ]
    },
    {
      "cell_type": "markdown",
      "source": [
        "https://www.kdnuggets.com/2018/04/implementing-deep-learning-methods-feature-engineering-text-data-cbow.html"
      ],
      "metadata": {
        "id": "0dzRKXDB0OpM"
      }
    },
    {
      "cell_type": "code",
      "source": [
        "norm_bible = pd.read_csv(\"t_bbe.csv\")[\"t\"].values\n",
        "norm_bible = norm_bible[:10]"
      ],
      "metadata": {
        "id": "BYuCZmeTvv6V"
      },
      "execution_count": null,
      "outputs": []
    },
    {
      "cell_type": "code",
      "source": [
        "from keras.preprocessing import text\n",
        "from keras.utils import np_utils\n",
        "from keras.preprocessing import sequence\n",
        "\n",
        "tokenizer = text.Tokenizer()\n",
        "tokenizer.fit_on_texts(norm_bible)\n",
        "word2id = tokenizer.word_index\n",
        "\n",
        "# build vocabulary of unique words\n",
        "word2id['PAD'] = 0\n",
        "id2word = {v:k for k, v in word2id.items()}\n",
        "wids = [[word2id[w] for w in text.text_to_word_sequence(doc)] for doc in norm_bible]\n",
        "\n",
        "vocab_size = len(word2id)\n",
        "embed_size = 100\n",
        "window_size = 2 # context window size\n",
        "\n",
        "print('Vocabulary Size:', vocab_size)\n",
        "print('Vocabulary Sample:', list(word2id.items())[50:60])"
      ],
      "metadata": {
        "id": "diIs07t4spI-",
        "colab": {
          "base_uri": "https://localhost:8080/"
        },
        "outputId": "81596a08-cac1-42ea-c603-8a27a7cfdeed"
      },
      "execution_count": null,
      "outputs": [
        {
          "output_type": "stream",
          "name": "stdout",
          "text": [
            "Vocabulary Size: 65\n",
            "Vocabulary Sample: [('night', 51), ('solid', 52), ('stretching', 53), ('parting', 54), ('from', 55), ('for', 56), ('those', 57), ('second', 58), ('come', 59), ('one', 60)]\n"
          ]
        }
      ]
    },
    {
      "cell_type": "code",
      "source": [
        "def generate_context_word_pairs(corpus, window_size, vocab_size):\n",
        "    context_length = window_size*2\n",
        "    for words in corpus:\n",
        "        sentence_length = len(words)\n",
        "        for index, word in enumerate(words):\n",
        "            context_words = []\n",
        "            label_word   = []            \n",
        "            start = index - window_size\n",
        "            end = index + window_size + 1\n",
        "            \n",
        "            context_words.append([words[i] for i in range(start, end) if 0 <= i < sentence_length and i != index])\n",
        "            label_word.append(word)\n",
        "\n",
        "            x = sequence.pad_sequences(context_words, maxlen=context_length)\n",
        "            y = np_utils.to_categorical(label_word, vocab_size)\n",
        "            yield (x, y)"
      ],
      "metadata": {
        "id": "DHoUr3ZPu7ew"
      },
      "execution_count": null,
      "outputs": []
    },
    {
      "cell_type": "code",
      "source": [
        "# Test this out for some samples\n",
        "i = 0\n",
        "for x, y in generate_context_word_pairs(corpus=wids, window_size=window_size, vocab_size=vocab_size):\n",
        "    if i==1:\n",
        "      print(\"Dimensions:\" ,x.shape, y.shape)\n",
        "      print(x)\n",
        "    if 0 not in x[0]:\n",
        "        #numpy.argwhere() function is used to find the indices of array elements that are non-zero, grouped by element.\n",
        "        print('Context (X):', [id2word[w] for w in x[0]], '-> Target (Y):', id2word[np.argwhere(y[0])[0][0]])\n",
        "    \n",
        "        if i == 10:\n",
        "            break\n",
        "        i += 1"
      ],
      "metadata": {
        "colab": {
          "base_uri": "https://localhost:8080/"
        },
        "id": "Pzj6DjZ9wg3q",
        "outputId": "f670c3ad-5e81-4508-8897-c7c56dbd90b0"
      },
      "execution_count": null,
      "outputs": [
        {
          "output_type": "stream",
          "name": "stdout",
          "text": [
            "Context (X): ['at', 'the', 'god', 'made'] -> Target (Y): first\n",
            "Dimensions: (1, 4) (1, 65)\n",
            "[[ 1 22 12  1]]\n",
            "Context (X): ['the', 'first', 'made', 'the'] -> Target (Y): god\n",
            "Context (X): ['first', 'god', 'the', 'heaven'] -> Target (Y): made\n",
            "Context (X): ['god', 'made', 'heaven', 'and'] -> Target (Y): the\n",
            "Context (X): ['made', 'the', 'and', 'the'] -> Target (Y): heaven\n",
            "Context (X): ['the', 'heaven', 'the', 'earth'] -> Target (Y): and\n",
            "Context (X): ['and', 'the', 'was', 'waste'] -> Target (Y): earth\n",
            "Context (X): ['the', 'earth', 'waste', 'and'] -> Target (Y): was\n",
            "Context (X): ['earth', 'was', 'and', 'without'] -> Target (Y): waste\n",
            "Context (X): ['was', 'waste', 'without', 'form'] -> Target (Y): and\n",
            "Context (X): ['waste', 'and', 'form', 'and'] -> Target (Y): without\n"
          ]
        }
      ]
    },
    {
      "cell_type": "code",
      "source": [
        "import keras.backend as K\n",
        "import tensorflow as tf\n",
        "from keras.models import Sequential\n",
        "from keras.layers import Dense, Embedding, Lambda\n",
        "\n",
        "# build CBOW architecture\n",
        "cbow = Sequential()\n",
        "cbow.add(Embedding(input_dim=vocab_size, output_dim=embed_size, input_length=window_size*2))\n",
        "cbow.add(Lambda(lambda x: K.mean(x, axis=1), output_shape=(embed_size,)))\n",
        "cbow.add(Dense(vocab_size, activation='softmax'))\n",
        "cbow.compile(loss='categorical_crossentropy', optimizer='rmsprop')\n",
        "\n",
        "# view model summary\n",
        "print(cbow.summary())\n",
        "tf.keras.utils.plot_model(cbow,show_shapes=True)"
      ],
      "metadata": {
        "colab": {
          "base_uri": "https://localhost:8080/",
          "height": 700
        },
        "id": "o7TlZ_R7zF3k",
        "outputId": "8e1d3f96-a23b-407c-b5af-d1776ca69e82"
      },
      "execution_count": null,
      "outputs": [
        {
          "output_type": "stream",
          "name": "stdout",
          "text": [
            "Model: \"sequential_53\"\n",
            "_________________________________________________________________\n",
            " Layer (type)                Output Shape              Param #   \n",
            "=================================================================\n",
            " embedding_42 (Embedding)    (None, 4, 100)            6500      \n",
            "                                                                 \n",
            " lambda_8 (Lambda)           (None, 100)               0         \n",
            "                                                                 \n",
            " dense_15 (Dense)            (None, 65)                6565      \n",
            "                                                                 \n",
            "=================================================================\n",
            "Total params: 13,065\n",
            "Trainable params: 13,065\n",
            "Non-trainable params: 0\n",
            "_________________________________________________________________\n",
            "None\n"
          ]
        },
        {
          "output_type": "execute_result",
          "data": {
            "text/plain": [
              "<IPython.core.display.Image object>"
            ],
            "image/png": "[encoded data removed]"
          },
          "metadata": {},
          "execution_count": 132
        }
      ]
    },
    {
      "cell_type": "code",
      "source": [
        "a = np.ones(shape=(4,100))\n",
        "print(a.shape)\n",
        "print(\"ALONG COL: \", np.mean(a, axis=0).shape) # along column\n",
        "print(\"ALONG ROW: \",np.mean(a, axis=1).shape) # along row"
      ],
      "metadata": {
        "colab": {
          "base_uri": "https://localhost:8080/"
        },
        "id": "4i4Hsz_mzIMU",
        "outputId": "85e611ff-52bf-457a-f8d9-65672b6f7851"
      },
      "execution_count": null,
      "outputs": [
        {
          "output_type": "stream",
          "name": "stdout",
          "text": [
            "(4, 100)\n",
            "ALONG COL:  (100,)\n",
            "ALONG ROW:  (4,)\n"
          ]
        }
      ]
    },
    {
      "cell_type": "code",
      "source": [
        "for epoch in range(1, 6):\n",
        "    loss = 0.\n",
        "    i = 0\n",
        "    for x, y in generate_context_word_pairs(corpus=wids, window_size=window_size, vocab_size=vocab_size):\n",
        "        i += 1\n",
        "        loss += cbow.train_on_batch(x, y)\n",
        "        if i % 100000 == 0:\n",
        "            print('Processed {} (context, word) pairs'.format(i))\n",
        "\n",
        "    print('Epoch:', epoch, '\\tLoss:', loss)\n",
        "    print()"
      ],
      "metadata": {
        "colab": {
          "base_uri": "https://localhost:8080/"
        },
        "id": "SsBTToHP0Duk",
        "outputId": "3af8237f-f510-42bb-9181-5aee145b9b1f"
      },
      "execution_count": null,
      "outputs": [
        {
          "output_type": "stream",
          "name": "stdout",
          "text": [
            "Epoch: 1 \tLoss: 13793.789850950241\n",
            "\n",
            "Epoch: 2 \tLoss: 12435.307305328548\n",
            "\n",
            "Epoch: 3 \tLoss: 11968.230405502021\n",
            "\n",
            "Epoch: 4 \tLoss: 11821.73350750655\n",
            "\n",
            "Epoch: 5 \tLoss: 12141.205444065854\n",
            "\n"
          ]
        }
      ]
    },
    {
      "cell_type": "markdown",
      "source": [
        "- At the end of the training process, the Embedding layers learns its weights such that its shape = `(vocab_size, req_embedding_size)`\n",
        "- We can use this as `(1,rem_embedding_size)` vector for each of the words in our vocab"
      ],
      "metadata": {
        "id": "wnFy9hEoyHJQ"
      }
    },
    {
      "cell_type": "code",
      "source": [
        "weights = cbow.get_weights()[0]  # get weights of embedding layer\n",
        "weights = weights[1:]\n",
        "print(weights.shape)\n",
        "\n",
        "pd.DataFrame(weights, index=list(id2word.values())[1:]).head()"
      ],
      "metadata": {
        "colab": {
          "base_uri": "https://localhost:8080/",
          "height": 317
        },
        "id": "Qbx_IMhX0T08",
        "outputId": "511e3c39-78af-46be-9b5c-d670d6dcdb42"
      },
      "execution_count": null,
      "outputs": [
        {
          "output_type": "stream",
          "name": "stdout",
          "text": [
            "(395, 100)\n"
          ]
        },
        {
          "output_type": "execute_result",
          "data": {
            "text/plain": [
              "           0         1         2         3         4         5         6   \\\n",
              "and -0.009413 -0.025887 -0.012114  0.041273 -0.014006  0.033322  0.031894   \n",
              "of  -0.036384 -0.039683  0.032023 -0.043578 -0.010405 -0.011117 -0.000572   \n",
              "to  -0.004759 -0.039369 -0.010719  0.028021 -0.008996 -0.006326 -0.018818   \n",
              "god  0.000334 -0.031644 -0.026008 -0.006454 -0.046918  0.016973  0.018859   \n",
              "was -0.007864  0.015378  0.005407  0.044840  0.020681 -0.012138  0.021403   \n",
              "\n",
              "           7         8         9   ...        90        91        92  \\\n",
              "and -0.016584 -0.029400  0.002279  ...  0.038472  0.024831 -0.021734   \n",
              "of  -0.023201  0.022809  0.045260  ...  0.036989 -0.012626 -0.037852   \n",
              "to  -0.049169  0.021303 -0.039061  ...  0.039908 -0.002381 -0.004808   \n",
              "god -0.013218 -0.003844  0.017256  ...  0.010329  0.039109 -0.024540   \n",
              "was  0.012156  0.013335 -0.018094  ... -0.024711  0.040726  0.021933   \n",
              "\n",
              "           93        94        95        96        97        98        99  \n",
              "and -0.037517  0.034412 -0.008134  0.011016 -0.003710  0.038512 -0.049009  \n",
              "of  -0.040493  0.008539 -0.018230 -0.027292  0.014918 -0.000670  0.007078  \n",
              "to  -0.049915 -0.004923 -0.007212  0.039065  0.004695  0.047263  0.004194  \n",
              "god -0.030561 -0.015815 -0.000267  0.017669 -0.038071  0.001110 -0.007021  \n",
              "was  0.031170  0.017144 -0.039862  0.016942 -0.005695 -0.035437 -0.001842  \n",
              "\n",
              "[5 rows x 100 columns]"
            ],
            "text/html": [
              "\n",
              "  <div id=\"df-d6e4f98b-a04a-4ae2-80af-14770ca28725\">\n",
              "    <div class=\"colab-df-container\">\n",
              "      <div>\n",
              "<style scoped>\n",
              "    .dataframe tbody tr th:only-of-type {\n",
              "        vertical-align: middle;\n",
              "    }\n",
              "\n",
              "    .dataframe tbody tr th {\n",
              "        vertical-align: top;\n",
              "    }\n",
              "\n",
              "    .dataframe thead th {\n",
              "        text-align: right;\n",
              "    }\n",
              "</style>\n",
              "<table border=\"1\" class=\"dataframe\">\n",
              "  <thead>\n",
              "    <tr style=\"text-align: right;\">\n",
              "      <th></th>\n",
              "      <th>0</th>\n",
              "      <th>1</th>\n",
              "      <th>2</th>\n",
              "      <th>3</th>\n",
              "      <th>4</th>\n",
              "      <th>5</th>\n",
              "      <th>6</th>\n",
              "      <th>7</th>\n",
              "      <th>8</th>\n",
              "      <th>9</th>\n",
              "      <th>...</th>\n",
              "      <th>90</th>\n",
              "      <th>91</th>\n",
              "      <th>92</th>\n",
              "      <th>93</th>\n",
              "      <th>94</th>\n",
              "      <th>95</th>\n",
              "      <th>96</th>\n",
              "      <th>97</th>\n",
              "      <th>98</th>\n",
              "      <th>99</th>\n",
              "    </tr>\n",
              "  </thead>\n",
              "  <tbody>\n",
              "    <tr>\n",
              "      <th>and</th>\n",
              "      <td>-0.009413</td>\n",
              "      <td>-0.025887</td>\n",
              "      <td>-0.012114</td>\n",
              "      <td>0.041273</td>\n",
              "      <td>-0.014006</td>\n",
              "      <td>0.033322</td>\n",
              "      <td>0.031894</td>\n",
              "      <td>-0.016584</td>\n",
              "      <td>-0.029400</td>\n",
              "      <td>0.002279</td>\n",
              "      <td>...</td>\n",
              "      <td>0.038472</td>\n",
              "      <td>0.024831</td>\n",
              "      <td>-0.021734</td>\n",
              "      <td>-0.037517</td>\n",
              "      <td>0.034412</td>\n",
              "      <td>-0.008134</td>\n",
              "      <td>0.011016</td>\n",
              "      <td>-0.003710</td>\n",
              "      <td>0.038512</td>\n",
              "      <td>-0.049009</td>\n",
              "    </tr>\n",
              "    <tr>\n",
              "      <th>of</th>\n",
              "      <td>-0.036384</td>\n",
              "      <td>-0.039683</td>\n",
              "      <td>0.032023</td>\n",
              "      <td>-0.043578</td>\n",
              "      <td>-0.010405</td>\n",
              "      <td>-0.011117</td>\n",
              "      <td>-0.000572</td>\n",
              "      <td>-0.023201</td>\n",
              "      <td>0.022809</td>\n",
              "      <td>0.045260</td>\n",
              "      <td>...</td>\n",
              "      <td>0.036989</td>\n",
              "      <td>-0.012626</td>\n",
              "      <td>-0.037852</td>\n",
              "      <td>-0.040493</td>\n",
              "      <td>0.008539</td>\n",
              "      <td>-0.018230</td>\n",
              "      <td>-0.027292</td>\n",
              "      <td>0.014918</td>\n",
              "      <td>-0.000670</td>\n",
              "      <td>0.007078</td>\n",
              "    </tr>\n",
              "    <tr>\n",
              "      <th>to</th>\n",
              "      <td>-0.004759</td>\n",
              "      <td>-0.039369</td>\n",
              "      <td>-0.010719</td>\n",
              "      <td>0.028021</td>\n",
              "      <td>-0.008996</td>\n",
              "      <td>-0.006326</td>\n",
              "      <td>-0.018818</td>\n",
              "      <td>-0.049169</td>\n",
              "      <td>0.021303</td>\n",
              "      <td>-0.039061</td>\n",
              "      <td>...</td>\n",
              "      <td>0.039908</td>\n",
              "      <td>-0.002381</td>\n",
              "      <td>-0.004808</td>\n",
              "      <td>-0.049915</td>\n",
              "      <td>-0.004923</td>\n",
              "      <td>-0.007212</td>\n",
              "      <td>0.039065</td>\n",
              "      <td>0.004695</td>\n",
              "      <td>0.047263</td>\n",
              "      <td>0.004194</td>\n",
              "    </tr>\n",
              "    <tr>\n",
              "      <th>god</th>\n",
              "      <td>0.000334</td>\n",
              "      <td>-0.031644</td>\n",
              "      <td>-0.026008</td>\n",
              "      <td>-0.006454</td>\n",
              "      <td>-0.046918</td>\n",
              "      <td>0.016973</td>\n",
              "      <td>0.018859</td>\n",
              "      <td>-0.013218</td>\n",
              "      <td>-0.003844</td>\n",
              "      <td>0.017256</td>\n",
              "      <td>...</td>\n",
              "      <td>0.010329</td>\n",
              "      <td>0.039109</td>\n",
              "      <td>-0.024540</td>\n",
              "      <td>-0.030561</td>\n",
              "      <td>-0.015815</td>\n",
              "      <td>-0.000267</td>\n",
              "      <td>0.017669</td>\n",
              "      <td>-0.038071</td>\n",
              "      <td>0.001110</td>\n",
              "      <td>-0.007021</td>\n",
              "    </tr>\n",
              "    <tr>\n",
              "      <th>was</th>\n",
              "      <td>-0.007864</td>\n",
              "      <td>0.015378</td>\n",
              "      <td>0.005407</td>\n",
              "      <td>0.044840</td>\n",
              "      <td>0.020681</td>\n",
              "      <td>-0.012138</td>\n",
              "      <td>0.021403</td>\n",
              "      <td>0.012156</td>\n",
              "      <td>0.013335</td>\n",
              "      <td>-0.018094</td>\n",
              "      <td>...</td>\n",
              "      <td>-0.024711</td>\n",
              "      <td>0.040726</td>\n",
              "      <td>0.021933</td>\n",
              "      <td>0.031170</td>\n",
              "      <td>0.017144</td>\n",
              "      <td>-0.039862</td>\n",
              "      <td>0.016942</td>\n",
              "      <td>-0.005695</td>\n",
              "      <td>-0.035437</td>\n",
              "      <td>-0.001842</td>\n",
              "    </tr>\n",
              "  </tbody>\n",
              "</table>\n",
              "<p>5 rows × 100 columns</p>\n",
              "</div>\n",
              "      <button class=\"colab-df-convert\" onclick=\"convertToInteractive('df-d6e4f98b-a04a-4ae2-80af-14770ca28725')\"\n",
              "              title=\"Convert this dataframe to an interactive table.\"\n",
              "              style=\"display:none;\">\n",
              "        \n",
              "  <svg xmlns=\"http://www.w3.org/2000/svg\" height=\"24px\"viewBox=\"0 0 24 24\"\n",
              "       width=\"24px\">\n",
              "    <path d=\"M0 0h24v24H0V0z\" fill=\"none\"/>\n",
              "    <path d=\"M18.56 5.44l.94 2.06.94-2.06 2.06-.94-2.06-.94-.94-2.06-.94 2.06-2.06.94zm-11 1L8.5 8.5l.94-2.06 2.06-.94-2.06-.94L8.5 2.5l-.94 2.06-2.06.94zm10 10l.94 2.06.94-2.06 2.06-.94-2.06-.94-.94-2.06-.94 2.06-2.06.94z\"/><path d=\"M17.41 7.96l-1.37-1.37c-.4-.4-.92-.59-1.43-.59-.52 0-1.04.2-1.43.59L10.3 9.45l-7.72 7.72c-.78.78-.78 2.05 0 2.83L4 21.41c.39.39.9.59 1.41.59.51 0 1.02-.2 1.41-.59l7.78-7.78 2.81-2.81c.8-.78.8-2.07 0-2.86zM5.41 20L4 18.59l7.72-7.72 1.47 1.35L5.41 20z\"/>\n",
              "  </svg>\n",
              "      </button>\n",
              "      \n",
              "  <style>\n",
              "    .colab-df-container {\n",
              "      display:flex;\n",
              "      flex-wrap:wrap;\n",
              "      gap: 12px;\n",
              "    }\n",
              "\n",
              "    .colab-df-convert {\n",
              "      background-color: #E8F0FE;\n",
              "      border: none;\n",
              "      border-radius: 50%;\n",
              "      cursor: pointer;\n",
              "      display: none;\n",
              "      fill: #1967D2;\n",
              "      height: 32px;\n",
              "      padding: 0 0 0 0;\n",
              "      width: 32px;\n",
              "    }\n",
              "\n",
              "    .colab-df-convert:hover {\n",
              "      background-color: #E2EBFA;\n",
              "      box-shadow: 0px 1px 2px rgba(60, 64, 67, 0.3), 0px 1px 3px 1px rgba(60, 64, 67, 0.15);\n",
              "      fill: #174EA6;\n",
              "    }\n",
              "\n",
              "    [theme=dark] .colab-df-convert {\n",
              "      background-color: #3B4455;\n",
              "      fill: #D2E3FC;\n",
              "    }\n",
              "\n",
              "    [theme=dark] .colab-df-convert:hover {\n",
              "      background-color: #434B5C;\n",
              "      box-shadow: 0px 1px 3px 1px rgba(0, 0, 0, 0.15);\n",
              "      filter: drop-shadow(0px 1px 2px rgba(0, 0, 0, 0.3));\n",
              "      fill: #FFFFFF;\n",
              "    }\n",
              "  </style>\n",
              "\n",
              "      <script>\n",
              "        const buttonEl =\n",
              "          document.querySelector('#df-d6e4f98b-a04a-4ae2-80af-14770ca28725 button.colab-df-convert');\n",
              "        buttonEl.style.display =\n",
              "          google.colab.kernel.accessAllowed ? 'block' : 'none';\n",
              "\n",
              "        async function convertToInteractive(key) {\n",
              "          const element = document.querySelector('#df-d6e4f98b-a04a-4ae2-80af-14770ca28725');\n",
              "          const dataTable =\n",
              "            await google.colab.kernel.invokeFunction('convertToInteractive',\n",
              "                                                     [key], {});\n",
              "          if (!dataTable) return;\n",
              "\n",
              "          const docLinkHtml = 'Like what you see? Visit the ' +\n",
              "            '<a target=\"_blank\" href=https://colab.research.google.com/notebooks/data_table.ipynb>data table notebook</a>'\n",
              "            + ' to learn more about interactive tables.';\n",
              "          element.innerHTML = '';\n",
              "          dataTable['output_type'] = 'display_data';\n",
              "          await google.colab.output.renderOutput(dataTable, element);\n",
              "          const docLink = document.createElement('div');\n",
              "          docLink.innerHTML = docLinkHtml;\n",
              "          element.appendChild(docLink);\n",
              "        }\n",
              "      </script>\n",
              "    </div>\n",
              "  </div>\n",
              "  "
            ]
          },
          "metadata": {},
          "execution_count": 116
        }
      ]
    },
    {
      "cell_type": "markdown",
      "source": [
        "### Skipgram"
      ],
      "metadata": {
        "id": "X5w1NU3vrSoa"
      }
    },
    {
      "cell_type": "markdown",
      "source": [
        "https://www.kdnuggets.com/2018/04/implementing-deep-learning-methods-feature-engineering-text-data-skip-gram.html"
      ],
      "metadata": {
        "id": "mLeHptL7rUYP"
      }
    },
    {
      "cell_type": "code",
      "source": [
        "from keras.preprocessing.sequence import skipgrams\n",
        "\n",
        "skip_grams = [skipgrams(wid, vocabulary_size=vocab_size, window_size=10) for wid in wids]\n",
        "\n",
        "pairs, labels = skip_grams[0][0], skip_grams[0][1]\n",
        "for i in range(10):\n",
        "    print(\"({:s} ({:d}), {:s} ({:d})) -> {:d}\".format(\n",
        "          id2word[pairs[i][0]], pairs[i][0], \n",
        "          id2word[pairs[i][1]], pairs[i][1], \n",
        "          labels[i]))"
      ],
      "metadata": {
        "colab": {
          "base_uri": "https://localhost:8080/"
        },
        "id": "iJAvGIrJ0W-k",
        "outputId": "7d0cd4e9-24ce-4d44-9a83-1160cb14a264"
      },
      "execution_count": null,
      "outputs": [
        {
          "output_type": "stream",
          "name": "stdout",
          "text": [
            "(at (140), the (1)) -> 1\n",
            "(made (19), young (360)) -> 0\n",
            "(and (2), the (1)) -> 1\n",
            "(first (141), the (1)) -> 1\n",
            "(god (5), the (1)) -> 1\n",
            "(god (5), tree (38)) -> 0\n",
            "(heaven (48), the (1)) -> 1\n",
            "(the (1), themselves (313)) -> 0\n",
            "(at (140), and (2)) -> 1\n",
            "(first (141), and (2)) -> 1\n"
          ]
        }
      ]
    },
    {
      "cell_type": "code",
      "source": [
        "from keras.layers import Input\n",
        "from keras.models import Model\n",
        "from keras.layers.embeddings import Embedding\n",
        "from keras.layers.core import Dense, Reshape\n",
        "from keras.layers import dot\n",
        "\n",
        "input_target = Input((1,))\n",
        "input_context = Input((1,))\n",
        "\n",
        "embedding_word = Embedding(vocab_size, embed_size, input_length=1, name='embedding_word')\n",
        "embedding_context = Embedding(vocab_size, embed_size, input_length=1, name='embedding_context')\n",
        "\n",
        "word_embedding = embedding_word(input_target)\n",
        "word_embedding = Reshape((embed_size,))(word_embedding)\n",
        "context_embedding = embedding_context(input_context)\n",
        "context_embedding = Reshape((embed_size,))(context_embedding)\n",
        " \n",
        "dot_product = dot([word_embedding, context_embedding], axes=1)\n",
        "dot_product = Reshape((1,))(dot_product)\n",
        "\n",
        "# add the sigmoid output layer\n",
        "output = Dense(1, activation='sigmoid')(dot_product)\n",
        "\n",
        "model = Model(inputs=[input_target, input_context], outputs=output)\n",
        "model.compile(loss='mean_squared_error', optimizer='rmsprop')\n",
        "\n",
        "# view model summary\n",
        "print(model.summary())\n"
      ],
      "metadata": {
        "colab": {
          "base_uri": "https://localhost:8080/"
        },
        "id": "xlUkA3NErgCL",
        "outputId": "36d08af8-a671-47fa-8c11-296d56e51b03"
      },
      "execution_count": null,
      "outputs": [
        {
          "output_type": "stream",
          "name": "stdout",
          "text": [
            "Model: \"model_4\"\n",
            "__________________________________________________________________________________________________\n",
            " Layer (type)                   Output Shape         Param #     Connected to                     \n",
            "==================================================================================================\n",
            " input_13 (InputLayer)          [(None, 1)]          0           []                               \n",
            "                                                                                                  \n",
            " input_14 (InputLayer)          [(None, 1)]          0           []                               \n",
            "                                                                                                  \n",
            " embedding_word (Embedding)     (None, 1, 100)       39600       ['input_13[0][0]']               \n",
            "                                                                                                  \n",
            " embedding_context (Embedding)  (None, 1, 100)       39600       ['input_14[0][0]']               \n",
            "                                                                                                  \n",
            " reshape_52 (Reshape)           (None, 100)          0           ['embedding_word[0][0]']         \n",
            "                                                                                                  \n",
            " reshape_53 (Reshape)           (None, 100)          0           ['embedding_context[0][0]']      \n",
            "                                                                                                  \n",
            " dot_15 (Dot)                   (None, 1)            0           ['reshape_52[0][0]',             \n",
            "                                                                  'reshape_53[0][0]']             \n",
            "                                                                                                  \n",
            " reshape_54 (Reshape)           (None, 1)            0           ['dot_15[0][0]']                 \n",
            "                                                                                                  \n",
            " dense_14 (Dense)               (None, 1)            2           ['reshape_54[0][0]']             \n",
            "                                                                                                  \n",
            "==================================================================================================\n",
            "Total params: 79,202\n",
            "Trainable params: 79,202\n",
            "Non-trainable params: 0\n",
            "__________________________________________________________________________________________________\n",
            "None\n"
          ]
        }
      ]
    },
    {
      "cell_type": "code",
      "source": [
        "tf.keras.utils.plot_model(model, show_shapes=True)"
      ],
      "metadata": {
        "colab": {
          "base_uri": "https://localhost:8080/",
          "height": 636
        },
        "id": "NXDYCWcXtvTr",
        "outputId": "ade24de8-8ff0-468c-b4ce-58ed990b235b"
      },
      "execution_count": null,
      "outputs": [
        {
          "output_type": "execute_result",
          "data": {
            "text/plain": [
              "<IPython.core.display.Image object>"
            ],
            "image/png": "[encoded data removed]"
          },
          "metadata": {},
          "execution_count": 104
        }
      ]
    },
    {
      "cell_type": "code",
      "source": [
        "for epoch in range(1, 6):\n",
        "    loss = 0\n",
        "    for i, elem in enumerate(skip_grams):\n",
        "        pair_first_elem = np.array(list(zip(*elem[0]))[0], dtype='int32')\n",
        "        pair_second_elem = np.array(list(zip(*elem[0]))[1], dtype='int32')\n",
        "        labels = np.array(elem[1], dtype='int32')\n",
        "        X = [pair_first_elem, pair_second_elem]\n",
        "        Y = labels\n",
        "        if i % 10000 == 0:\n",
        "            print('Processed {} (skip_first, skip_second, relevance) pairs'.format(i))\n",
        "        loss += model.train_on_batch(X,Y)  \n",
        "\n",
        "    print('Epoch:', epoch, 'Loss:', loss)"
      ],
      "metadata": {
        "colab": {
          "base_uri": "https://localhost:8080/"
        },
        "id": "0tTR7prluivE",
        "outputId": "f5e5711c-cd3b-4d00-9715-4613e3a55e8c"
      },
      "execution_count": null,
      "outputs": [
        {
          "output_type": "stream",
          "name": "stdout",
          "text": [
            "Processed 0 (skip_first, skip_second, relevance) pairs\n",
            "Epoch: 1 Loss: 24.90896011888981\n",
            "Processed 0 (skip_first, skip_second, relevance) pairs\n",
            "Epoch: 2 Loss: 23.8640066832304\n",
            "Processed 0 (skip_first, skip_second, relevance) pairs\n",
            "Epoch: 3 Loss: 21.612057134509087\n",
            "Processed 0 (skip_first, skip_second, relevance) pairs\n",
            "Epoch: 4 Loss: 19.630773216485977\n",
            "Processed 0 (skip_first, skip_second, relevance) pairs\n",
            "Epoch: 5 Loss: 18.416018277406693\n"
          ]
        }
      ]
    },
    {
      "cell_type": "code",
      "source": [
        "model.layers"
      ],
      "metadata": {
        "colab": {
          "base_uri": "https://localhost:8080/"
        },
        "id": "U32r-zfYwICL",
        "outputId": "8e09c037-bec0-45ca-8ce7-2cb4f7b42f6d"
      },
      "execution_count": null,
      "outputs": [
        {
          "output_type": "execute_result",
          "data": {
            "text/plain": [
              "[<keras.engine.input_layer.InputLayer at 0x7f8f2e661b90>,\n",
              " <keras.engine.input_layer.InputLayer at 0x7f8f2f041d90>,\n",
              " <keras.layers.embeddings.Embedding at 0x7f8fb89d5b50>,\n",
              " <keras.layers.embeddings.Embedding at 0x7f8f2a14b590>,\n",
              " <keras.layers.core.reshape.Reshape at 0x7f8f2eeb9d10>,\n",
              " <keras.layers.core.reshape.Reshape at 0x7f8fb8684a50>,\n",
              " <keras.layers.merge.Dot at 0x7f8f298f69d0>,\n",
              " <keras.layers.core.reshape.Reshape at 0x7f8f2f059310>,\n",
              " <keras.layers.core.dense.Dense at 0x7f8f298fc790>]"
            ]
          },
          "metadata": {},
          "execution_count": 106
        }
      ]
    },
    {
      "cell_type": "code",
      "source": [
        "final_word_embeddings = model.layers[3].get_weights()[0]\n",
        "print(final_word_embeddings.shape)\n",
        "pd.DataFrame(final_word_embeddings, index=id2word.values()).head()"
      ],
      "metadata": {
        "colab": {
          "base_uri": "https://localhost:8080/",
          "height": 317
        },
        "id": "HAtTGiQnxs1B",
        "outputId": "338c4ec3-45a1-4aff-a94d-5f32657e8f7a"
      },
      "execution_count": null,
      "outputs": [
        {
          "output_type": "stream",
          "name": "stdout",
          "text": [
            "(396, 100)\n"
          ]
        },
        {
          "output_type": "execute_result",
          "data": {
            "text/plain": [
              "           0         1         2         3         4         5         6   \\\n",
              "the  0.025230 -0.017016 -0.035782 -0.040716 -0.046681 -0.030588  0.027890   \n",
              "and -0.437458  0.375812 -0.412510  0.358369 -0.440884  0.416330  0.345062   \n",
              "of  -0.413667  0.394209 -0.366518  0.434141 -0.428521  0.360222  0.381465   \n",
              "to  -0.298803  0.363294 -0.332233  0.343325 -0.345885  0.318641  0.313027   \n",
              "god -0.268799  0.220918 -0.236159  0.207489 -0.207012  0.174209  0.164505   \n",
              "\n",
              "           7         8         9   ...        90        91        92  \\\n",
              "the  0.034946  0.007377 -0.002916  ...  0.018670 -0.025798  0.035206   \n",
              "and -0.356645  0.416243  0.368175  ...  0.396446 -0.421902  0.462659   \n",
              "of  -0.412004  0.366733  0.430459  ...  0.382291 -0.439990  0.435660   \n",
              "to  -0.275592  0.298526  0.300109  ...  0.317640 -0.387663  0.377193   \n",
              "god -0.253161  0.248925  0.199667  ...  0.260534 -0.233245  0.228461   \n",
              "\n",
              "           93        94        95        96        97        98        99  \n",
              "the  0.009027  0.000596 -0.006401  0.003939 -0.015269 -0.011894  0.006102  \n",
              "and  0.383853  0.465079  0.452720 -0.372542 -0.440348  0.458958  0.452200  \n",
              "of   0.426383  0.356345  0.441070 -0.433912 -0.434681  0.459577  0.381301  \n",
              "to   0.303729  0.388261  0.387222 -0.352699 -0.336817  0.318030  0.329915  \n",
              "god  0.273816  0.253398  0.181836 -0.214506 -0.199486  0.226661  0.173013  \n",
              "\n",
              "[5 rows x 100 columns]"
            ],
            "text/html": [
              "\n",
              "  <div id=\"df-5f4545aa-b6d9-4992-9a46-8b4df4ce7894\">\n",
              "    <div class=\"colab-df-container\">\n",
              "      <div>\n",
              "<style scoped>\n",
              "    .dataframe tbody tr th:only-of-type {\n",
              "        vertical-align: middle;\n",
              "    }\n",
              "\n",
              "    .dataframe tbody tr th {\n",
              "        vertical-align: top;\n",
              "    }\n",
              "\n",
              "    .dataframe thead th {\n",
              "        text-align: right;\n",
              "    }\n",
              "</style>\n",
              "<table border=\"1\" class=\"dataframe\">\n",
              "  <thead>\n",
              "    <tr style=\"text-align: right;\">\n",
              "      <th></th>\n",
              "      <th>0</th>\n",
              "      <th>1</th>\n",
              "      <th>2</th>\n",
              "      <th>3</th>\n",
              "      <th>4</th>\n",
              "      <th>5</th>\n",
              "      <th>6</th>\n",
              "      <th>7</th>\n",
              "      <th>8</th>\n",
              "      <th>9</th>\n",
              "      <th>...</th>\n",
              "      <th>90</th>\n",
              "      <th>91</th>\n",
              "      <th>92</th>\n",
              "      <th>93</th>\n",
              "      <th>94</th>\n",
              "      <th>95</th>\n",
              "      <th>96</th>\n",
              "      <th>97</th>\n",
              "      <th>98</th>\n",
              "      <th>99</th>\n",
              "    </tr>\n",
              "  </thead>\n",
              "  <tbody>\n",
              "    <tr>\n",
              "      <th>the</th>\n",
              "      <td>0.025230</td>\n",
              "      <td>-0.017016</td>\n",
              "      <td>-0.035782</td>\n",
              "      <td>-0.040716</td>\n",
              "      <td>-0.046681</td>\n",
              "      <td>-0.030588</td>\n",
              "      <td>0.027890</td>\n",
              "      <td>0.034946</td>\n",
              "      <td>0.007377</td>\n",
              "      <td>-0.002916</td>\n",
              "      <td>...</td>\n",
              "      <td>0.018670</td>\n",
              "      <td>-0.025798</td>\n",
              "      <td>0.035206</td>\n",
              "      <td>0.009027</td>\n",
              "      <td>0.000596</td>\n",
              "      <td>-0.006401</td>\n",
              "      <td>0.003939</td>\n",
              "      <td>-0.015269</td>\n",
              "      <td>-0.011894</td>\n",
              "      <td>0.006102</td>\n",
              "    </tr>\n",
              "    <tr>\n",
              "      <th>and</th>\n",
              "      <td>-0.437458</td>\n",
              "      <td>0.375812</td>\n",
              "      <td>-0.412510</td>\n",
              "      <td>0.358369</td>\n",
              "      <td>-0.440884</td>\n",
              "      <td>0.416330</td>\n",
              "      <td>0.345062</td>\n",
              "      <td>-0.356645</td>\n",
              "      <td>0.416243</td>\n",
              "      <td>0.368175</td>\n",
              "      <td>...</td>\n",
              "      <td>0.396446</td>\n",
              "      <td>-0.421902</td>\n",
              "      <td>0.462659</td>\n",
              "      <td>0.383853</td>\n",
              "      <td>0.465079</td>\n",
              "      <td>0.452720</td>\n",
              "      <td>-0.372542</td>\n",
              "      <td>-0.440348</td>\n",
              "      <td>0.458958</td>\n",
              "      <td>0.452200</td>\n",
              "    </tr>\n",
              "    <tr>\n",
              "      <th>of</th>\n",
              "      <td>-0.413667</td>\n",
              "      <td>0.394209</td>\n",
              "      <td>-0.366518</td>\n",
              "      <td>0.434141</td>\n",
              "      <td>-0.428521</td>\n",
              "      <td>0.360222</td>\n",
              "      <td>0.381465</td>\n",
              "      <td>-0.412004</td>\n",
              "      <td>0.366733</td>\n",
              "      <td>0.430459</td>\n",
              "      <td>...</td>\n",
              "      <td>0.382291</td>\n",
              "      <td>-0.439990</td>\n",
              "      <td>0.435660</td>\n",
              "      <td>0.426383</td>\n",
              "      <td>0.356345</td>\n",
              "      <td>0.441070</td>\n",
              "      <td>-0.433912</td>\n",
              "      <td>-0.434681</td>\n",
              "      <td>0.459577</td>\n",
              "      <td>0.381301</td>\n",
              "    </tr>\n",
              "    <tr>\n",
              "      <th>to</th>\n",
              "      <td>-0.298803</td>\n",
              "      <td>0.363294</td>\n",
              "      <td>-0.332233</td>\n",
              "      <td>0.343325</td>\n",
              "      <td>-0.345885</td>\n",
              "      <td>0.318641</td>\n",
              "      <td>0.313027</td>\n",
              "      <td>-0.275592</td>\n",
              "      <td>0.298526</td>\n",
              "      <td>0.300109</td>\n",
              "      <td>...</td>\n",
              "      <td>0.317640</td>\n",
              "      <td>-0.387663</td>\n",
              "      <td>0.377193</td>\n",
              "      <td>0.303729</td>\n",
              "      <td>0.388261</td>\n",
              "      <td>0.387222</td>\n",
              "      <td>-0.352699</td>\n",
              "      <td>-0.336817</td>\n",
              "      <td>0.318030</td>\n",
              "      <td>0.329915</td>\n",
              "    </tr>\n",
              "    <tr>\n",
              "      <th>god</th>\n",
              "      <td>-0.268799</td>\n",
              "      <td>0.220918</td>\n",
              "      <td>-0.236159</td>\n",
              "      <td>0.207489</td>\n",
              "      <td>-0.207012</td>\n",
              "      <td>0.174209</td>\n",
              "      <td>0.164505</td>\n",
              "      <td>-0.253161</td>\n",
              "      <td>0.248925</td>\n",
              "      <td>0.199667</td>\n",
              "      <td>...</td>\n",
              "      <td>0.260534</td>\n",
              "      <td>-0.233245</td>\n",
              "      <td>0.228461</td>\n",
              "      <td>0.273816</td>\n",
              "      <td>0.253398</td>\n",
              "      <td>0.181836</td>\n",
              "      <td>-0.214506</td>\n",
              "      <td>-0.199486</td>\n",
              "      <td>0.226661</td>\n",
              "      <td>0.173013</td>\n",
              "    </tr>\n",
              "  </tbody>\n",
              "</table>\n",
              "<p>5 rows × 100 columns</p>\n",
              "</div>\n",
              "      <button class=\"colab-df-convert\" onclick=\"convertToInteractive('df-5f4545aa-b6d9-4992-9a46-8b4df4ce7894')\"\n",
              "              title=\"Convert this dataframe to an interactive table.\"\n",
              "              style=\"display:none;\">\n",
              "        \n",
              "  <svg xmlns=\"http://www.w3.org/2000/svg\" height=\"24px\"viewBox=\"0 0 24 24\"\n",
              "       width=\"24px\">\n",
              "    <path d=\"M0 0h24v24H0V0z\" fill=\"none\"/>\n",
              "    <path d=\"M18.56 5.44l.94 2.06.94-2.06 2.06-.94-2.06-.94-.94-2.06-.94 2.06-2.06.94zm-11 1L8.5 8.5l.94-2.06 2.06-.94-2.06-.94L8.5 2.5l-.94 2.06-2.06.94zm10 10l.94 2.06.94-2.06 2.06-.94-2.06-.94-.94-2.06-.94 2.06-2.06.94z\"/><path d=\"M17.41 7.96l-1.37-1.37c-.4-.4-.92-.59-1.43-.59-.52 0-1.04.2-1.43.59L10.3 9.45l-7.72 7.72c-.78.78-.78 2.05 0 2.83L4 21.41c.39.39.9.59 1.41.59.51 0 1.02-.2 1.41-.59l7.78-7.78 2.81-2.81c.8-.78.8-2.07 0-2.86zM5.41 20L4 18.59l7.72-7.72 1.47 1.35L5.41 20z\"/>\n",
              "  </svg>\n",
              "      </button>\n",
              "      \n",
              "  <style>\n",
              "    .colab-df-container {\n",
              "      display:flex;\n",
              "      flex-wrap:wrap;\n",
              "      gap: 12px;\n",
              "    }\n",
              "\n",
              "    .colab-df-convert {\n",
              "      background-color: #E8F0FE;\n",
              "      border: none;\n",
              "      border-radius: 50%;\n",
              "      cursor: pointer;\n",
              "      display: none;\n",
              "      fill: #1967D2;\n",
              "      height: 32px;\n",
              "      padding: 0 0 0 0;\n",
              "      width: 32px;\n",
              "    }\n",
              "\n",
              "    .colab-df-convert:hover {\n",
              "      background-color: #E2EBFA;\n",
              "      box-shadow: 0px 1px 2px rgba(60, 64, 67, 0.3), 0px 1px 3px 1px rgba(60, 64, 67, 0.15);\n",
              "      fill: #174EA6;\n",
              "    }\n",
              "\n",
              "    [theme=dark] .colab-df-convert {\n",
              "      background-color: #3B4455;\n",
              "      fill: #D2E3FC;\n",
              "    }\n",
              "\n",
              "    [theme=dark] .colab-df-convert:hover {\n",
              "      background-color: #434B5C;\n",
              "      box-shadow: 0px 1px 3px 1px rgba(0, 0, 0, 0.15);\n",
              "      filter: drop-shadow(0px 1px 2px rgba(0, 0, 0, 0.3));\n",
              "      fill: #FFFFFF;\n",
              "    }\n",
              "  </style>\n",
              "\n",
              "      <script>\n",
              "        const buttonEl =\n",
              "          document.querySelector('#df-5f4545aa-b6d9-4992-9a46-8b4df4ce7894 button.colab-df-convert');\n",
              "        buttonEl.style.display =\n",
              "          google.colab.kernel.accessAllowed ? 'block' : 'none';\n",
              "\n",
              "        async function convertToInteractive(key) {\n",
              "          const element = document.querySelector('#df-5f4545aa-b6d9-4992-9a46-8b4df4ce7894');\n",
              "          const dataTable =\n",
              "            await google.colab.kernel.invokeFunction('convertToInteractive',\n",
              "                                                     [key], {});\n",
              "          if (!dataTable) return;\n",
              "\n",
              "          const docLinkHtml = 'Like what you see? Visit the ' +\n",
              "            '<a target=\"_blank\" href=https://colab.research.google.com/notebooks/data_table.ipynb>data table notebook</a>'\n",
              "            + ' to learn more about interactive tables.';\n",
              "          element.innerHTML = '';\n",
              "          dataTable['output_type'] = 'display_data';\n",
              "          await google.colab.output.renderOutput(dataTable, element);\n",
              "          const docLink = document.createElement('div');\n",
              "          docLink.innerHTML = docLinkHtml;\n",
              "          element.appendChild(docLink);\n",
              "        }\n",
              "      </script>\n",
              "    </div>\n",
              "  </div>\n",
              "  "
            ]
          },
          "metadata": {},
          "execution_count": 115
        }
      ]
    },
    {
      "cell_type": "code",
      "source": [],
      "metadata": {
        "id": "k6jC5upwv9B1"
      },
      "execution_count": null,
      "outputs": []
    }
  ]
}