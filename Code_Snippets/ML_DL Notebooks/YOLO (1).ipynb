{
  "nbformat": 4,
  "nbformat_minor": 0,
  "metadata": {
    "colab": {
      "provenance": [],
      "collapsed_sections": []
    },
    "kernelspec": {
      "name": "python3",
      "display_name": "Python 3"
    },
    "language_info": {
      "name": "python"
    },
    "accelerator": "GPU"
  },
  "cells": [
    {
      "cell_type": "code",
      "execution_count": null,
      "metadata": {
        "id": "NxYbNwoqjkxK"
      },
      "outputs": [],
      "source": [
        "!git clone https://github.com/ultralytics/yolov5.git"
      ]
    },
    {
      "cell_type": "code",
      "source": [
        "# !gdown --id \"1Azsjfu4m486IARks3s5PJmc-gh6Nx0Cr\"\n",
        "!gdown --id \"1OLERAXFgxqAE6tbLBGS_YNva4iNSq20l\"\n",
        "!unzip ikea_dataset_3000.zip -d \"yolov5/\""
      ],
      "metadata": {
        "id": "IR5p7_Ukk5vi"
      },
      "execution_count": null,
      "outputs": []
    },
    {
      "cell_type": "code",
      "source": [
        "%cd yolov5"
      ],
      "metadata": {
        "colab": {
          "base_uri": "https://localhost:8080/"
        },
        "id": "ww0pJsLaj2PL",
        "outputId": "d306484a-c96c-4f66-a8ff-fe45a5d93745"
      },
      "execution_count": null,
      "outputs": [
        {
          "output_type": "stream",
          "name": "stdout",
          "text": [
            "/content/yolov5/yolov5\n"
          ]
        }
      ]
    },
    {
      "cell_type": "code",
      "source": [
        "!pip install -r requirements.txt"
      ],
      "metadata": {
        "id": "WkdmOYoEkDm6"
      },
      "execution_count": null,
      "outputs": []
    },
    {
      "cell_type": "markdown",
      "source": [
        "##  Custom Training Code"
      ],
      "metadata": {
        "id": "Ny587xa7kJ3g"
      }
    },
    {
      "cell_type": "code",
      "source": [
        "# !python train.py --img 640 --batch 8 --epochs 20 --data coco128.yaml --weights yolov5m.pt --name yolov5s_results_new_dataset  --cache\n",
        "# !python detect.py --weights runs/train/yolov5s_results_new_dataset5/weights/best.pt --img 416 --conf 0.4 --source /content/drive/MyDrive/YOLO/test/image"
      ],
      "metadata": {
        "id": "iG4hTSvslUB3"
      },
      "execution_count": null,
      "outputs": []
    },
    {
      "cell_type": "code",
      "source": [
        "!python train.py --img 640 --batch 8 --epochs 15 --data ikea_dataset.yaml --weights yolov5m.pt --optimizer \"adam\" --cache"
      ],
      "metadata": {
        "id": "sAQg2V7awa7a",
        "outputId": "2d9bdfbe-207f-4b0b-e650-cde66bfa497c",
        "colab": {
          "base_uri": "https://localhost:8080/"
        }
      },
      "execution_count": null,
      "outputs": [
        {
          "output_type": "stream",
          "name": "stdout",
          "text": [
            "usage: train.py [-h] [--weights WEIGHTS] [--cfg CFG] [--data DATA] [--hyp HYP]\n",
            "                [--epochs EPOCHS] [--batch-size BATCH_SIZE] [--imgsz IMGSZ]\n",
            "                [--rect] [--resume [RESUME]] [--nosave] [--noval]\n",
            "                [--noautoanchor] [--noplots] [--evolve [EVOLVE]]\n",
            "                [--bucket BUCKET] [--cache [CACHE]] [--image-weights]\n",
            "                [--device DEVICE] [--multi-scale] [--single-cls]\n",
            "                [--optimizer {SGD,Adam,AdamW}] [--sync-bn] [--workers WORKERS]\n",
            "                [--project PROJECT] [--name NAME] [--exist-ok] [--quad]\n",
            "                [--cos-lr] [--label-smoothing LABEL_SMOOTHING]\n",
            "                [--patience PATIENCE] [--freeze FREEZE [FREEZE ...]]\n",
            "                [--save-period SAVE_PERIOD] [--local_rank LOCAL_RANK]\n",
            "                [--entity ENTITY] [--upload_dataset [UPLOAD_DATASET]]\n",
            "                [--bbox_interval BBOX_INTERVAL]\n",
            "                [--artifact_alias ARTIFACT_ALIAS]\n",
            "train.py: error: argument --optimizer: invalid choice: 'adam' (choose from 'SGD', 'Adam', 'AdamW')\n"
          ]
        }
      ]
    },
    {
      "cell_type": "code",
      "source": [
        "!python train.py --img 640 --batch 8 --epochs 15 --data ikea_dataset.yaml --weights yolov5m.pt --cache"
      ],
      "metadata": {
        "id": "jMUQgM7VkGKK"
      },
      "execution_count": null,
      "outputs": []
    },
    {
      "cell_type": "code",
      "source": [
        "# save experiment results as zip\n",
        "!zip -r yolo_ikea_exp3.zip \"/content/yolov5/runs/train/exp3\" -x \"/content/yolov5/runs/train/exp3/weights/*\""
      ],
      "metadata": {
        "id": "v0WLYmYbkMP3"
      },
      "execution_count": null,
      "outputs": []
    },
    {
      "cell_type": "markdown",
      "source": [
        "#### PreProcess"
      ],
      "metadata": {
        "id": "i-4jstr-54X0"
      }
    },
    {
      "cell_type": "code",
      "source": [
        "!zip -r yolo_ikea_640_3k.zip \"/content/yolov5/runs/train/exp2\""
      ],
      "metadata": {
        "id": "r6k6Z0mwo6o-"
      },
      "execution_count": null,
      "outputs": []
    },
    {
      "cell_type": "code",
      "source": [
        "!cp yolo_ikea_640_3k.zip \"/content/drive/MyDrive/Datasets/\""
      ],
      "metadata": {
        "id": "-VsfF5qEJYln",
        "colab": {
          "base_uri": "https://localhost:8080/"
        },
        "outputId": "50ee804f-b4aa-4e2c-b748-91e6b48744be"
      },
      "execution_count": null,
      "outputs": [
        {
          "output_type": "stream",
          "name": "stdout",
          "text": [
            "cp: cannot stat 'yolo_ikea_640_3k.zip': No such file or directory\n"
          ]
        }
      ]
    },
    {
      "cell_type": "markdown",
      "source": [
        "## Prediction/Inference"
      ],
      "metadata": {
        "id": "VFymrRYraRY8"
      }
    },
    {
      "cell_type": "code",
      "source": [
        "!python detect.py --source 'https://www.youtube.com/watch?v=sSK3V3tVsE8'\n",
        "                   "
      ],
      "metadata": {
        "id": "oP_OZpmHJemc"
      },
      "execution_count": null,
      "outputs": []
    },
    {
      "cell_type": "markdown",
      "source": [
        "### images to video"
      ],
      "metadata": {
        "id": "OxTDLhMZcqbw"
      }
    },
    {
      "cell_type": "code",
      "source": [
        "import cv2\n",
        "import numpy as np\n",
        "import glob\n",
        "\n",
        "img_array = []\n",
        "for filename in glob.glob('C:/New folder/Images/*.jpg'):\n",
        "    img = cv2.imread(filename)\n",
        "    height, width, layers = img.shape\n",
        "    size = (width,height)\n",
        "    img_array.append(img)\n",
        "\n",
        "\n",
        "out = cv2.VideoWriter('project.avi',cv2.VideoWriter_fourcc(*'DIVX'), 15, size)\n",
        " \n",
        "for i in range(len(img_array)):\n",
        "    out.write(img_array[i])\n",
        "out.release()"
      ],
      "metadata": {
        "id": "NrKxGBa1aTbY"
      },
      "execution_count": null,
      "outputs": []
    },
    {
      "cell_type": "code",
      "source": [
        "!ls -lh runs/detect/exp6"
      ],
      "metadata": {
        "colab": {
          "base_uri": "https://localhost:8080/"
        },
        "id": "uQfHNZbNc3tZ",
        "outputId": "f4ca5212-d3fe-4322-fe5a-7ff09e7888c0"
      },
      "execution_count": null,
      "outputs": [
        {
          "output_type": "stream",
          "name": "stdout",
          "text": [
            "total 91M\n",
            "-rw-r--r-- 1 root root 91M Jun  9 12:31 watch_v_sSK3V3tVsE8.mp4\n"
          ]
        }
      ]
    },
    {
      "cell_type": "code",
      "source": [],
      "metadata": {
        "id": "ubGxtKerc4R3"
      },
      "execution_count": null,
      "outputs": []
    }
  ]
}