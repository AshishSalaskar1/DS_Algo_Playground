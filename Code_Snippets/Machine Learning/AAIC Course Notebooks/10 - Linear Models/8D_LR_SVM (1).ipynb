{
  "nbformat": 4,
  "nbformat_minor": 0,
  "metadata": {
    "kernelspec": {
      "display_name": "Python 3",
      "language": "python",
      "name": "python3"
    },
    "language_info": {
      "codemirror_mode": {
        "name": "ipython",
        "version": 3
      },
      "file_extension": ".py",
      "mimetype": "text/x-python",
      "name": "python",
      "nbconvert_exporter": "python",
      "pygments_lexer": "ipython3",
      "version": "3.6.8"
    },
    "colab": {
      "name": "8D_LR_SVM.ipynb",
      "provenance": [],
      "collapsed_sections": [
        "UlSkfbQM-sHq",
        "4cQP-sHC-sHu",
        "_J0zpxAl-3X2",
        "CxGBeYc1F4Cy",
        "i4d4Zh9yF_zG"
      ],
      "toc_visible": true
    }
  },
  "cells": [
    {
      "cell_type": "markdown",
      "metadata": {
        "id": "86Tvnj5UblTy"
      },
      "source": [
        "## Task-D: Collinear features and their effect on linear models"
      ]
    },
    {
      "cell_type": "code",
      "metadata": {
        "id": "qn_eOn2EblT3"
      },
      "source": [
        "%matplotlib inline\n",
        "import warnings\n",
        "warnings.filterwarnings(\"ignore\")\n",
        "import pandas as pd\n",
        "import numpy as np\n",
        "from sklearn.datasets import load_iris\n",
        "from sklearn.linear_model import SGDClassifier\n",
        "from sklearn.model_selection import GridSearchCV\n",
        "import seaborn as sns\n",
        "import matplotlib.pyplot as plt\n",
        "from sklearn.metrics import accuracy_score\n",
        "import math"
      ],
      "execution_count": 1,
      "outputs": []
    },
    {
      "cell_type": "code",
      "metadata": {
        "id": "VMoYWIayblUB"
      },
      "source": [
        "data = pd.read_csv('task_d.csv')"
      ],
      "execution_count": 2,
      "outputs": []
    },
    {
      "cell_type": "code",
      "metadata": {
        "id": "RfStXG4tblUI",
        "colab": {
          "base_uri": "https://localhost:8080/",
          "height": 196
        },
        "outputId": "00dc5f80-0354-479e-9e88-bda665173d3b"
      },
      "source": [
        "data.head()"
      ],
      "execution_count": 3,
      "outputs": [
        {
          "output_type": "execute_result",
          "data": {
            "text/html": [
              "<div>\n",
              "<style scoped>\n",
              "    .dataframe tbody tr th:only-of-type {\n",
              "        vertical-align: middle;\n",
              "    }\n",
              "\n",
              "    .dataframe tbody tr th {\n",
              "        vertical-align: top;\n",
              "    }\n",
              "\n",
              "    .dataframe thead th {\n",
              "        text-align: right;\n",
              "    }\n",
              "</style>\n",
              "<table border=\"1\" class=\"dataframe\">\n",
              "  <thead>\n",
              "    <tr style=\"text-align: right;\">\n",
              "      <th></th>\n",
              "      <th>x</th>\n",
              "      <th>y</th>\n",
              "      <th>z</th>\n",
              "      <th>x*x</th>\n",
              "      <th>2*y</th>\n",
              "      <th>2*z+3*x*x</th>\n",
              "      <th>w</th>\n",
              "      <th>target</th>\n",
              "    </tr>\n",
              "  </thead>\n",
              "  <tbody>\n",
              "    <tr>\n",
              "      <th>0</th>\n",
              "      <td>-0.581066</td>\n",
              "      <td>0.841837</td>\n",
              "      <td>-1.012978</td>\n",
              "      <td>-0.604025</td>\n",
              "      <td>0.841837</td>\n",
              "      <td>-0.665927</td>\n",
              "      <td>-0.536277</td>\n",
              "      <td>0</td>\n",
              "    </tr>\n",
              "    <tr>\n",
              "      <th>1</th>\n",
              "      <td>-0.894309</td>\n",
              "      <td>-0.207835</td>\n",
              "      <td>-1.012978</td>\n",
              "      <td>-0.883052</td>\n",
              "      <td>-0.207835</td>\n",
              "      <td>-0.917054</td>\n",
              "      <td>-0.522364</td>\n",
              "      <td>0</td>\n",
              "    </tr>\n",
              "    <tr>\n",
              "      <th>2</th>\n",
              "      <td>-1.207552</td>\n",
              "      <td>0.212034</td>\n",
              "      <td>-1.082312</td>\n",
              "      <td>-1.150918</td>\n",
              "      <td>0.212034</td>\n",
              "      <td>-1.166507</td>\n",
              "      <td>0.205738</td>\n",
              "      <td>0</td>\n",
              "    </tr>\n",
              "    <tr>\n",
              "      <th>3</th>\n",
              "      <td>-1.364174</td>\n",
              "      <td>0.002099</td>\n",
              "      <td>-0.943643</td>\n",
              "      <td>-1.280666</td>\n",
              "      <td>0.002099</td>\n",
              "      <td>-1.266540</td>\n",
              "      <td>-0.665720</td>\n",
              "      <td>0</td>\n",
              "    </tr>\n",
              "    <tr>\n",
              "      <th>4</th>\n",
              "      <td>-0.737687</td>\n",
              "      <td>1.051772</td>\n",
              "      <td>-1.012978</td>\n",
              "      <td>-0.744934</td>\n",
              "      <td>1.051772</td>\n",
              "      <td>-0.792746</td>\n",
              "      <td>-0.735054</td>\n",
              "      <td>0</td>\n",
              "    </tr>\n",
              "  </tbody>\n",
              "</table>\n",
              "</div>"
            ],
            "text/plain": [
              "          x         y         z  ...  2*z+3*x*x         w  target\n",
              "0 -0.581066  0.841837 -1.012978  ...  -0.665927 -0.536277       0\n",
              "1 -0.894309 -0.207835 -1.012978  ...  -0.917054 -0.522364       0\n",
              "2 -1.207552  0.212034 -1.082312  ...  -1.166507  0.205738       0\n",
              "3 -1.364174  0.002099 -0.943643  ...  -1.266540 -0.665720       0\n",
              "4 -0.737687  1.051772 -1.012978  ...  -0.792746 -0.735054       0\n",
              "\n",
              "[5 rows x 8 columns]"
            ]
          },
          "metadata": {
            "tags": []
          },
          "execution_count": 3
        }
      ]
    },
    {
      "cell_type": "code",
      "metadata": {
        "id": "sJx669nc7ynE"
      },
      "source": [
        "feature_labels = list(data.columns[:-1])"
      ],
      "execution_count": 4,
      "outputs": []
    },
    {
      "cell_type": "code",
      "metadata": {
        "id": "JIIuomCkblUP"
      },
      "source": [
        "X = data.drop(['target'], axis=1).values\n",
        "Y = data['target'].values\n",
        "\n",
        "from sklearn.model_selection import train_test_split\n",
        "\n",
        "X_train, X_test, y_train, y_test = train_test_split(X, Y, test_size=0.33, random_state=0)"
      ],
      "execution_count": 5,
      "outputs": []
    },
    {
      "cell_type": "markdown",
      "metadata": {
        "id": "Ydm98u3EblUU"
      },
      "source": [
        "### Doing perturbation test to check the presence of collinearity  \n",
        "\n",
        "#### Task: 1 Logistic Regression\n",
        "<pre>\n",
        "\n",
        "\n",
        "1. <b>Finding the Correlation between the features</b>\n",
        "    a. check the correlation between the features\n",
        "    b. plot heat map of correlation matrix using seaborn heatmap\n",
        "2. <b>Finding the best model for the given data</b>\n",
        "    a. Train Logistic regression on data(X,Y) that we have created in the above cell\n",
        "    b. Find the best hyper prameter alpha with hyper parameter tuning using k-fold cross validation (grid search CV or         \n",
        "    random search CV make sure you choose the alpha in log space)\n",
        "    c. Creat a new Logistic regression with the best alpha\n",
        "    (search for how to get the best hyper parameter value), name the best model as 'best_model'\n",
        "    \n",
        "3. <b>Getting the weights with the original data</b>\n",
        "    a. train the 'best_model' with X, Y\n",
        "    b. Check the accuracy of the model 'best_model_accuracy'\n",
        "    c. Get the weights W using best_model.coef_\n",
        "\n",
        "4. <b>Modifying original data</b>\n",
        "    a. Add a noise(order of 10^-2) to each element of X \n",
        "    and get the new data set X' (X' = X + e)\n",
        "    b. Train the same 'best_model' with data (X', Y)\n",
        "    c. Check the accuracy of the model 'best_model_accuracy_edited'\n",
        "    d. Get the weights W' using best_model.coef_\n",
        "    \n",
        "5. <b> Checking deviations in metric and weights </b>\n",
        "    a. find the difference between 'best_model_accuracy_edited' and 'best_model_accuracy'\n",
        "    b. find the absolute change between each value of W and W' ==> |(W-W')|\n",
        "    c. print the top 4 features which have higher % change in weights \n",
        "    compare to the other feature\n",
        "\n",
        "</pre>\n",
        "\n",
        "#### Task: 2 Linear SVM\n",
        "\n",
        "<pre>\n",
        "1. Do the same steps (2, 3, 4, 5) we have done in the above task 1.\n",
        "</pre>\n",
        "\n",
        "<strong><font color='red'>Do write the observations based on the results you get from the deviations of weights in both Logistic Regression and linear SVM</font></strong>"
      ]
    },
    {
      "cell_type": "markdown",
      "metadata": {
        "id": "j5xJDVNC-wwW"
      },
      "source": [
        "## Corelation of features"
      ]
    },
    {
      "cell_type": "code",
      "metadata": {
        "id": "Lai8wXU1pmSb",
        "colab": {
          "base_uri": "https://localhost:8080/"
        },
        "outputId": "3a9f58aa-255f-4c85-93fe-0ffc475070f4"
      },
      "source": [
        "corr = data.corr()\r\n",
        "print(corr)"
      ],
      "execution_count": 6,
      "outputs": [
        {
          "output_type": "stream",
          "text": [
            "                  x         y         z  ...  2*z+3*x*x         w    target\n",
            "x          1.000000 -0.205926  0.812458  ...   0.996252  0.583277  0.728290\n",
            "y         -0.205926  1.000000 -0.602663  ...  -0.261123 -0.401790 -0.690684\n",
            "z          0.812458 -0.602663  1.000000  ...   0.847163  0.674486  0.969990\n",
            "x*x        0.997947 -0.209289  0.807137  ...   0.997457  0.583803  0.719570\n",
            "2*y       -0.205926  1.000000 -0.602663  ...  -0.261123 -0.401790 -0.690684\n",
            "2*z+3*x*x  0.996252 -0.261123  0.847163  ...   1.000000  0.606860  0.764729\n",
            "w          0.583277 -0.401790  0.674486  ...   0.606860  1.000000  0.641750\n",
            "target     0.728290 -0.690684  0.969990  ...   0.764729  0.641750  1.000000\n",
            "\n",
            "[8 rows x 8 columns]\n"
          ],
          "name": "stdout"
        }
      ]
    },
    {
      "cell_type": "code",
      "metadata": {
        "colab": {
          "base_uri": "https://localhost:8080/",
          "height": 504
        },
        "id": "BlwNw6o1_gnv",
        "outputId": "441bfaa3-6c1a-4bc4-f16a-1ced80a65feb"
      },
      "source": [
        "fig, ax = plt.subplots(figsize=(8,8))         # Sample figsize in inches\r\n",
        "sns.heatmap(data.corr(),annot= True,vmin=-1, vmax=1, center= 0,cmap= 'coolwarm', ax =ax)"
      ],
      "execution_count": 7,
      "outputs": [
        {
          "output_type": "execute_result",
          "data": {
            "text/plain": [
              "<matplotlib.axes._subplots.AxesSubplot at 0x7f25d648a9e8>"
            ]
          },
          "metadata": {
            "tags": []
          },
          "execution_count": 7
        },
        {
          "output_type": "display_data",
          "data": {
            "image/png": "[encoded data removed]",
            "text/plain": [
              "<Figure size 576x576 with 2 Axes>"
            ]
          },
          "metadata": {
            "tags": [],
            "needs_background": "light"
          }
        }
      ]
    },
    {
      "cell_type": "markdown",
      "metadata": {
        "id": "Oq9R0tOR-sHm"
      },
      "source": [
        "# Task 1 : Logistic Regression"
      ]
    },
    {
      "cell_type": "markdown",
      "metadata": {
        "id": "yHkoHCMz-sHn"
      },
      "source": [
        "## Finding the best model for the given data"
      ]
    },
    {
      "cell_type": "code",
      "metadata": {
        "colab": {
          "base_uri": "https://localhost:8080/"
        },
        "id": "jrPUoT9m-sHo",
        "outputId": "c13fafdb-b7f5-4fd4-edb2-e3f671702356"
      },
      "source": [
        "# alphas = list(np.logspace(1,4,num=10))\r\n",
        "alphas = [0.0001,0.001,0.09,0.01,0.1,1,50,100,1000]\r\n",
        "param = {\"alpha\" : alphas}\r\n",
        "\r\n",
        "hyp = GridSearchCV(SGDClassifier(loss=\"log\"), param_grid=param,cv=5)\r\n",
        "hyp.fit(X_train,y_train)"
      ],
      "execution_count": 8,
      "outputs": [
        {
          "output_type": "execute_result",
          "data": {
            "text/plain": [
              "GridSearchCV(cv=5, error_score=nan,\n",
              "             estimator=SGDClassifier(alpha=0.0001, average=False,\n",
              "                                     class_weight=None, early_stopping=False,\n",
              "                                     epsilon=0.1, eta0=0.0, fit_intercept=True,\n",
              "                                     l1_ratio=0.15, learning_rate='optimal',\n",
              "                                     loss='log', max_iter=1000,\n",
              "                                     n_iter_no_change=5, n_jobs=None,\n",
              "                                     penalty='l2', power_t=0.5,\n",
              "                                     random_state=None, shuffle=True, tol=0.001,\n",
              "                                     validation_fraction=0.1, verbose=0,\n",
              "                                     warm_start=False),\n",
              "             iid='deprecated', n_jobs=None,\n",
              "             param_grid={'alpha': [0.0001, 0.001, 0.09, 0.01, 0.1, 1, 50, 100,\n",
              "                                   1000]},\n",
              "             pre_dispatch='2*n_jobs', refit=True, return_train_score=False,\n",
              "             scoring=None, verbose=0)"
            ]
          },
          "metadata": {
            "tags": []
          },
          "execution_count": 8
        }
      ]
    },
    {
      "cell_type": "code",
      "metadata": {
        "colab": {
          "base_uri": "https://localhost:8080/"
        },
        "id": "NQC8iRAL-sHp",
        "outputId": "f2f1fc5c-9fd8-4976-fc49-91011d22320b"
      },
      "source": [
        "print(\"Best value of alpha: \" ,hyp.best_params_)"
      ],
      "execution_count": 9,
      "outputs": [
        {
          "output_type": "stream",
          "text": [
            "Best value of alpha:  {'alpha': 0.001}\n"
          ],
          "name": "stdout"
        }
      ]
    },
    {
      "cell_type": "code",
      "metadata": {
        "id": "DMRMtfp6-sHq"
      },
      "source": [
        "best_model = SGDClassifier(loss = \"log\",alpha = 0.001)"
      ],
      "execution_count": 10,
      "outputs": []
    },
    {
      "cell_type": "markdown",
      "metadata": {
        "id": "UlSkfbQM-sHq"
      },
      "source": [
        "##  Getting the weights with the original data"
      ]
    },
    {
      "cell_type": "code",
      "metadata": {
        "colab": {
          "base_uri": "https://localhost:8080/"
        },
        "id": "mxhL2C1t-sHr",
        "outputId": "7acfa215-5ffc-4fd5-aaec-290e1a942159"
      },
      "source": [
        "best_model.fit(X_train,y_train)"
      ],
      "execution_count": 11,
      "outputs": [
        {
          "output_type": "execute_result",
          "data": {
            "text/plain": [
              "SGDClassifier(alpha=0.001, average=False, class_weight=None,\n",
              "              early_stopping=False, epsilon=0.1, eta0=0.0, fit_intercept=True,\n",
              "              l1_ratio=0.15, learning_rate='optimal', loss='log', max_iter=1000,\n",
              "              n_iter_no_change=5, n_jobs=None, penalty='l2', power_t=0.5,\n",
              "              random_state=None, shuffle=True, tol=0.001,\n",
              "              validation_fraction=0.1, verbose=0, warm_start=False)"
            ]
          },
          "metadata": {
            "tags": []
          },
          "execution_count": 11
        }
      ]
    },
    {
      "cell_type": "code",
      "metadata": {
        "id": "wEltVurS-sHs"
      },
      "source": [
        "# best_model_accuracy = accuracy_score(Y,best_model.predict(X))\r\n",
        "# best_model_coef_ = best_model.coef_[0]\r\n",
        "best_model_accuracy = accuracy_score(y_test,best_model.predict(X_test))"
      ],
      "execution_count": 12,
      "outputs": []
    },
    {
      "cell_type": "code",
      "metadata": {
        "colab": {
          "base_uri": "https://localhost:8080/"
        },
        "id": "yVR4TBp0-sHt",
        "outputId": "fdc38332-4106-4e91-8b27-fd9a39e30ad1"
      },
      "source": [
        "print(\"Model Weights :\",best_model.coef_[0])\r\n",
        "best_model_weights = best_model.coef_[0]"
      ],
      "execution_count": 13,
      "outputs": [
        {
          "output_type": "stream",
          "text": [
            "Model Weights : [ 2.06224354 -1.83122882  4.06319327  1.74237383 -1.83122882  2.05871072\n",
            "  0.74369364]\n"
          ],
          "name": "stdout"
        }
      ]
    },
    {
      "cell_type": "markdown",
      "metadata": {
        "id": "4cQP-sHC-sHu"
      },
      "source": [
        "## Modifying original data"
      ]
    },
    {
      "cell_type": "code",
      "metadata": {
        "colab": {
          "base_uri": "https://localhost:8080/"
        },
        "id": "3eD8YPOy-sHu",
        "outputId": "90c02790-f778-4529-fefd-9d061a68a1c4"
      },
      "source": [
        "print(np.random.rand(1)/100)"
      ],
      "execution_count": 14,
      "outputs": [
        {
          "output_type": "stream",
          "text": [
            "[0.00121151]\n"
          ],
          "name": "stdout"
        }
      ]
    },
    {
      "cell_type": "code",
      "metadata": {
        "id": "xJ9WBT_f-sHv"
      },
      "source": [
        "# X_d = [x+ (np.random.rand(1)/100) for]\r\n",
        "X_mod = np.zeros_like(X_train)\r\n",
        "for i in range(len(X_train)):\r\n",
        "  for j in range(len(X_train[0])):\r\n",
        "    X_mod[i][j] =  X_train[i][j] + (np.random.rand(1))"
      ],
      "execution_count": 15,
      "outputs": []
    },
    {
      "cell_type": "code",
      "metadata": {
        "colab": {
          "base_uri": "https://localhost:8080/"
        },
        "id": "BH3rju_B-sHw",
        "outputId": "ba1ee4af-2a24-4f82-9ee4-cda224302691"
      },
      "source": [
        "best_model.fit(X_mod,y_train)"
      ],
      "execution_count": 16,
      "outputs": [
        {
          "output_type": "execute_result",
          "data": {
            "text/plain": [
              "SGDClassifier(alpha=0.001, average=False, class_weight=None,\n",
              "              early_stopping=False, epsilon=0.1, eta0=0.0, fit_intercept=True,\n",
              "              l1_ratio=0.15, learning_rate='optimal', loss='log', max_iter=1000,\n",
              "              n_iter_no_change=5, n_jobs=None, penalty='l2', power_t=0.5,\n",
              "              random_state=None, shuffle=True, tol=0.001,\n",
              "              validation_fraction=0.1, verbose=0, warm_start=False)"
            ]
          },
          "metadata": {
            "tags": []
          },
          "execution_count": 16
        }
      ]
    },
    {
      "cell_type": "code",
      "metadata": {
        "id": "8d0bwGVj-sHx"
      },
      "source": [
        "best_model_edited_accuracy = accuracy_score(y_test,best_model.predict(X_test))"
      ],
      "execution_count": 17,
      "outputs": []
    },
    {
      "cell_type": "code",
      "metadata": {
        "colab": {
          "base_uri": "https://localhost:8080/"
        },
        "id": "KRQ2aXpv-sHx",
        "outputId": "b09790f3-36fc-4fc7-a9b2-74900fb9206d"
      },
      "source": [
        "print(\"Model Weights :\",best_model.coef_[0])\r\n",
        "best_model_edited_weights= best_model.coef_[0]"
      ],
      "execution_count": 18,
      "outputs": [
        {
          "output_type": "stream",
          "text": [
            "Model Weights : [ 2.24095847 -3.2652303   4.86136624  1.42795158 -2.5661595   2.37436443\n",
            "  0.13434754]\n"
          ],
          "name": "stdout"
        }
      ]
    },
    {
      "cell_type": "markdown",
      "metadata": {
        "id": "mxlRJJh0-sHy"
      },
      "source": [
        "## Compare weights"
      ]
    },
    {
      "cell_type": "code",
      "metadata": {
        "colab": {
          "base_uri": "https://localhost:8080/"
        },
        "id": "gFRZNfrh-sHz",
        "outputId": "e9c8064c-2d10-4b09-b17e-3673c3c660c7"
      },
      "source": [
        "# Difference in accuracy\r\n",
        "print(\"Difference in accuracy : \",best_model_accuracy - best_model_edited_accuracy)"
      ],
      "execution_count": 19,
      "outputs": [
        {
          "output_type": "stream",
          "text": [
            "Difference in accuracy :  0.0\n"
          ],
          "name": "stdout"
        }
      ]
    },
    {
      "cell_type": "code",
      "metadata": {
        "colab": {
          "base_uri": "https://localhost:8080/"
        },
        "id": "D3UFsqwR-sH0",
        "outputId": "04a35651-1ee2-48e4-ede4-5dfa91054306"
      },
      "source": [
        "# absolute change in weights\r\n",
        "print(\"Change in weights: \",np.abs(best_model_weights-best_model_edited_weights))"
      ],
      "execution_count": 20,
      "outputs": [
        {
          "output_type": "stream",
          "text": [
            "Change in weights:  [0.17871493 1.43400148 0.79817297 0.31442225 0.73493068 0.31565371\n",
            " 0.6093461 ]\n"
          ],
          "name": "stdout"
        }
      ]
    },
    {
      "cell_type": "code",
      "metadata": {
        "colab": {
          "base_uri": "https://localhost:8080/"
        },
        "id": "nrI-bfWi-sH1",
        "outputId": "51e304ab-638e-4d98-f27a-95a9fd3f0207"
      },
      "source": [
        "# top 4 features which have higher % change in weights \r\n",
        "print(best_model_weights)\r\n",
        "print(best_model_edited_weights)"
      ],
      "execution_count": 21,
      "outputs": [
        {
          "output_type": "stream",
          "text": [
            "[ 2.06224354 -1.83122882  4.06319327  1.74237383 -1.83122882  2.05871072\n",
            "  0.74369364]\n",
            "[ 2.24095847 -3.2652303   4.86136624  1.42795158 -2.5661595   2.37436443\n",
            "  0.13434754]\n"
          ],
          "name": "stdout"
        }
      ]
    },
    {
      "cell_type": "code",
      "metadata": {
        "id": "YJRYUgiT-sH3"
      },
      "source": [
        "# calculate percent change\r\n",
        "percent_change = [ (np.abs(a-b)/np.abs(a))*100  for a,b in zip(best_model_weights,best_model_edited_weights)]\r\n",
        "percent_sort = np.argsort(percent_change)\r\n",
        "top_4 = percent_sort[::-1][:4]"
      ],
      "execution_count": 22,
      "outputs": []
    },
    {
      "cell_type": "code",
      "metadata": {
        "colab": {
          "base_uri": "https://localhost:8080/"
        },
        "id": "zOxsEyus-sH4",
        "outputId": "0e96d38f-6bc0-4d69-d8cf-5c014cb0b256"
      },
      "source": [
        "print(\"The top 4 features which had highest % change:\")\r\n",
        "for idx in top_4:\r\n",
        "  print(\"%s with %.3f%% change\"%(feature_labels[idx],percent_change[idx]))"
      ],
      "execution_count": 23,
      "outputs": [
        {
          "output_type": "stream",
          "text": [
            "The top 4 features which had highest % change:\n",
            "w with 81.935% change\n",
            "y with 78.308% change\n",
            "2*y with 40.133% change\n",
            "z with 19.644% change\n"
          ],
          "name": "stdout"
        }
      ]
    },
    {
      "cell_type": "markdown",
      "metadata": {
        "id": "_J0zpxAl-3X2"
      },
      "source": [
        "# Task 2 : Linear SVM"
      ]
    },
    {
      "cell_type": "code",
      "metadata": {
        "colab": {
          "base_uri": "https://localhost:8080/"
        },
        "id": "lsChY3MEBThF",
        "outputId": "ebd836af-ec9f-4ff8-fb3d-523ce2e3a92d"
      },
      "source": [
        "# alphas = list(np.logspace(1,4,num=10))\r\n",
        "alphas = [0.0001,0.001,0.09,0.01,0.1,1,50,100,1000]\r\n",
        "param = {\"alpha\" : alphas}\r\n",
        "\r\n",
        "hyp_svm = GridSearchCV(SGDClassifier(loss=\"hinge\"), param_grid=param,cv=5)\r\n",
        "hyp_svm.fit(X_train,y_train)"
      ],
      "execution_count": 24,
      "outputs": [
        {
          "output_type": "execute_result",
          "data": {
            "text/plain": [
              "GridSearchCV(cv=5, error_score=nan,\n",
              "             estimator=SGDClassifier(alpha=0.0001, average=False,\n",
              "                                     class_weight=None, early_stopping=False,\n",
              "                                     epsilon=0.1, eta0=0.0, fit_intercept=True,\n",
              "                                     l1_ratio=0.15, learning_rate='optimal',\n",
              "                                     loss='hinge', max_iter=1000,\n",
              "                                     n_iter_no_change=5, n_jobs=None,\n",
              "                                     penalty='l2', power_t=0.5,\n",
              "                                     random_state=None, shuffle=True, tol=0.001,\n",
              "                                     validation_fraction=0.1, verbose=0,\n",
              "                                     warm_start=False),\n",
              "             iid='deprecated', n_jobs=None,\n",
              "             param_grid={'alpha': [0.0001, 0.001, 0.09, 0.01, 0.1, 1, 50, 100,\n",
              "                                   1000]},\n",
              "             pre_dispatch='2*n_jobs', refit=True, return_train_score=False,\n",
              "             scoring=None, verbose=0)"
            ]
          },
          "metadata": {
            "tags": []
          },
          "execution_count": 24
        }
      ]
    },
    {
      "cell_type": "code",
      "metadata": {
        "colab": {
          "base_uri": "https://localhost:8080/"
        },
        "id": "I3mojr2SBaL1",
        "outputId": "3c40fd23-1f4d-4de1-8749-0fdb4a342dbb"
      },
      "source": [
        "print(\"Best value of alpha: \" ,hyp_svm.best_params_)"
      ],
      "execution_count": 25,
      "outputs": [
        {
          "output_type": "stream",
          "text": [
            "Best value of alpha:  {'alpha': 0.09}\n"
          ],
          "name": "stdout"
        }
      ]
    },
    {
      "cell_type": "code",
      "metadata": {
        "id": "XFaJcuRPFGCu"
      },
      "source": [
        "best_model_svm = SGDClassifier(loss = \"hinge\",alpha = 0.001)"
      ],
      "execution_count": 26,
      "outputs": []
    },
    {
      "cell_type": "markdown",
      "metadata": {
        "id": "CxGBeYc1F4Cy"
      },
      "source": [
        "##  Getting the weights with the original data"
      ]
    },
    {
      "cell_type": "code",
      "metadata": {
        "colab": {
          "base_uri": "https://localhost:8080/"
        },
        "id": "hh8vHRNCF6YA",
        "outputId": "dc82af87-3cac-451d-fcad-e1fddb504fd7"
      },
      "source": [
        "best_model_svm.fit(X_train,y_train)"
      ],
      "execution_count": 27,
      "outputs": [
        {
          "output_type": "execute_result",
          "data": {
            "text/plain": [
              "SGDClassifier(alpha=0.001, average=False, class_weight=None,\n",
              "              early_stopping=False, epsilon=0.1, eta0=0.0, fit_intercept=True,\n",
              "              l1_ratio=0.15, learning_rate='optimal', loss='hinge',\n",
              "              max_iter=1000, n_iter_no_change=5, n_jobs=None, penalty='l2',\n",
              "              power_t=0.5, random_state=None, shuffle=True, tol=0.001,\n",
              "              validation_fraction=0.1, verbose=0, warm_start=False)"
            ]
          },
          "metadata": {
            "tags": []
          },
          "execution_count": 27
        }
      ]
    },
    {
      "cell_type": "code",
      "metadata": {
        "id": "A8c6YO65E2lN"
      },
      "source": [
        "# best_model_accuracy = accuracy_score(Y,best_model.predict(X))\r\n",
        "# best_model_coef_ = best_model.coef_[0]\r\n",
        "best_model_accuracy_svm = accuracy_score(y_test,best_model.predict(X_test))"
      ],
      "execution_count": 28,
      "outputs": []
    },
    {
      "cell_type": "code",
      "metadata": {
        "colab": {
          "base_uri": "https://localhost:8080/"
        },
        "id": "yBg-Hfm0jVv0",
        "outputId": "23c0cfd4-dd62-424c-a4b5-c8d14eb55854"
      },
      "source": [
        "print(\"Model Weights :\",best_model_svm.coef_[0])\r\n",
        "best_model_weights_svm = best_model_svm.coef_[0]"
      ],
      "execution_count": 29,
      "outputs": [
        {
          "output_type": "stream",
          "text": [
            "Model Weights : [ 3.7080206  -3.89749944  6.05389537  3.64225674 -3.89749944  4.0089647\n",
            "  0.13523995]\n"
          ],
          "name": "stdout"
        }
      ]
    },
    {
      "cell_type": "markdown",
      "metadata": {
        "id": "i4d4Zh9yF_zG"
      },
      "source": [
        "## Modifying original data"
      ]
    },
    {
      "cell_type": "code",
      "metadata": {
        "id": "LfXdQCsVFu5e"
      },
      "source": [
        "# X_d = [x+ (np.random.rand(1)/100) for]\r\n",
        "X_mod = np.zeros_like(X_train)\r\n",
        "for i in range(len(X_train)):\r\n",
        "  for j in range(len(X_train[0])):\r\n",
        "    X_mod[i][j] =  X_train[i][j] + (np.random.rand(1))"
      ],
      "execution_count": 30,
      "outputs": []
    },
    {
      "cell_type": "code",
      "metadata": {
        "colab": {
          "base_uri": "https://localhost:8080/"
        },
        "id": "CE4QbAXZG5g8",
        "outputId": "15d0ef14-88ad-4b02-b6ea-d9e9d7718d37"
      },
      "source": [
        "best_model_svm.fit(X_mod,y_train)"
      ],
      "execution_count": 31,
      "outputs": [
        {
          "output_type": "execute_result",
          "data": {
            "text/plain": [
              "SGDClassifier(alpha=0.001, average=False, class_weight=None,\n",
              "              early_stopping=False, epsilon=0.1, eta0=0.0, fit_intercept=True,\n",
              "              l1_ratio=0.15, learning_rate='optimal', loss='hinge',\n",
              "              max_iter=1000, n_iter_no_change=5, n_jobs=None, penalty='l2',\n",
              "              power_t=0.5, random_state=None, shuffle=True, tol=0.001,\n",
              "              validation_fraction=0.1, verbose=0, warm_start=False)"
            ]
          },
          "metadata": {
            "tags": []
          },
          "execution_count": 31
        }
      ]
    },
    {
      "cell_type": "code",
      "metadata": {
        "id": "wRyjjO74Hy0W"
      },
      "source": [
        "best_model_edited_accuracy_svm = accuracy_score(y_test,best_model_svm.predict(X_test))"
      ],
      "execution_count": 32,
      "outputs": []
    },
    {
      "cell_type": "code",
      "metadata": {
        "id": "fVHvUOREIBct",
        "colab": {
          "base_uri": "https://localhost:8080/"
        },
        "outputId": "f35a8e93-887b-4e8c-c47d-26579cf7bfc1"
      },
      "source": [
        "print(\"Model Weights :\",best_model_svm.coef_[0])\r\n",
        "best_model_edited_weights_svm= best_model_svm.coef_[0]"
      ],
      "execution_count": 33,
      "outputs": [
        {
          "output_type": "stream",
          "text": [
            "Model Weights : [ 2.78976581 -2.03102938  4.53088393  3.07773338 -4.32140672  3.39711635\n",
            "  3.06039283]\n"
          ],
          "name": "stdout"
        }
      ]
    },
    {
      "cell_type": "markdown",
      "metadata": {
        "id": "7r2BuZQgkAdt"
      },
      "source": [
        "## Compare weights"
      ]
    },
    {
      "cell_type": "code",
      "metadata": {
        "id": "e1VkC6W1qcV3",
        "colab": {
          "base_uri": "https://localhost:8080/"
        },
        "outputId": "05dcd97d-8faa-43f8-e045-e9f22c3f5f09"
      },
      "source": [
        "# Difference in accuracy\r\n",
        "print(\"Difference in accuracy : \",best_model_accuracy - best_model_edited_accuracy)"
      ],
      "execution_count": 34,
      "outputs": [
        {
          "output_type": "stream",
          "text": [
            "Difference in accuracy :  0.0\n"
          ],
          "name": "stdout"
        }
      ]
    },
    {
      "cell_type": "code",
      "metadata": {
        "colab": {
          "base_uri": "https://localhost:8080/"
        },
        "id": "Wd-7oXNtkJ8l",
        "outputId": "9b476d1d-dfa6-4a70-b4a9-2c6722c436b4"
      },
      "source": [
        "# absolute change in weights\r\n",
        "print(\"Change in weights: \",np.abs(best_model_weights_svm-best_model_edited_weights))"
      ],
      "execution_count": 35,
      "outputs": [
        {
          "output_type": "stream",
          "text": [
            "Change in weights:  [1.46706213e+00 6.32269146e-01 1.19252913e+00 2.21430516e+00\n",
            " 1.33133994e+00 1.63460027e+00 8.92413656e-04]\n"
          ],
          "name": "stdout"
        }
      ]
    },
    {
      "cell_type": "code",
      "metadata": {
        "colab": {
          "base_uri": "https://localhost:8080/"
        },
        "id": "QwNAt7F8keyG",
        "outputId": "8a278098-29b3-48f6-a7d6-91b67b988a22"
      },
      "source": [
        "# top 4 features which have higher % change in weights \r\n",
        "print(best_model_weights_svm)\r\n",
        "print(best_model_edited_weights_svm)"
      ],
      "execution_count": 36,
      "outputs": [
        {
          "output_type": "stream",
          "text": [
            "[ 3.7080206  -3.89749944  6.05389537  3.64225674 -3.89749944  4.0089647\n",
            "  0.13523995]\n",
            "[ 2.78976581 -2.03102938  4.53088393  3.07773338 -4.32140672  3.39711635\n",
            "  3.06039283]\n"
          ],
          "name": "stdout"
        }
      ]
    },
    {
      "cell_type": "code",
      "metadata": {
        "id": "xRMMYo3clKIX"
      },
      "source": [
        "# calculate percent change\r\n",
        "percent_change_svm = [ (np.abs(a-b)/np.abs(a))*100  for a,b in zip(best_model_weights_svm,best_model_edited_weights_svm)]\r\n",
        "percent_sort_svm = np.argsort(percent_change_svm)\r\n",
        "top_4_svm = percent_sort_svm[::-1][:4]"
      ],
      "execution_count": 37,
      "outputs": []
    },
    {
      "cell_type": "code",
      "metadata": {
        "colab": {
          "base_uri": "https://localhost:8080/"
        },
        "id": "ftA0ushdmK72",
        "outputId": "53e7f9a1-6404-4573-c53d-259d141c0936"
      },
      "source": [
        "print(\"The top 4 features which had highest % change:\")\r\n",
        "for idx in top_4_svm:\r\n",
        "  print(\"%s with %.3f%% change\"%(feature_labels[idx],percent_change_svm[idx]))"
      ],
      "execution_count": 38,
      "outputs": [
        {
          "output_type": "stream",
          "text": [
            "The top 4 features which had highest % change:\n",
            "w with 2162.935% change\n",
            "y with 47.889% change\n",
            "z with 25.158% change\n",
            "x with 24.764% change\n"
          ],
          "name": "stdout"
        }
      ]
    },
    {
      "cell_type": "code",
      "metadata": {
        "id": "v2QTEiyL64xZ"
      },
      "source": [
        ""
      ],
      "execution_count": 38,
      "outputs": []
    },
    {
      "cell_type": "markdown",
      "metadata": {
        "id": "n9QnxMhe6_Rg"
      },
      "source": [
        "# Observations"
      ]
    },
    {
      "cell_type": "markdown",
      "metadata": {
        "id": "ji3rAA3o7hG3"
      },
      "source": [
        "* We get the highest percentage deviation of weights for these features in case of SVM\r\n",
        "\r\n",
        "| Feature | Percentage Change |\r\n",
        "----------|-------------------|\r\n",
        "w  | 91.322% \r\n",
        "z  | 63.757% \r\n",
        "x*x | 57.470% \r\n",
        "y  |28.886% \r\n",
        "\r\n",
        "* We get the highest percentage deviation of weights for these features in case of Logistic Regression\r\n",
        "\r\n",
        "| Feature | Percentage Change |\r\n",
        "----------|-------------------|\r\n",
        "w | 66.564% |\r\n",
        "y | 45.096% |\r\n",
        "z | 29.705% |\r\n",
        "2*y | 27.908% |\r\n"
      ]
    },
    {
      "cell_type": "markdown",
      "metadata": {
        "id": "drQ_DdmR8XPb"
      },
      "source": [
        "- In both cases feature 'w' had highest percentage deviation, which is a result of presence of multicolinearity\r\n",
        "- If incase we would have picked 'w' as the most important or least important feature during training and ignored the presence of colinearity, then even if our dataset changed a little our previous obsercation about 'w' would be totally wrong as it can change by 91% in case of SVM as we observed in our experiment. "
      ]
    },
    {
      "cell_type": "markdown",
      "metadata": {
        "id": "Y5AV8Lek9DFt"
      },
      "source": [
        "* In both the algorithms, we can say that the weight values change drastically even when a small change appears in the dataset which confirms that the data contains colinearity and hence we cant use the weights obtained for getting the feature importances."
      ]
    },
    {
      "cell_type": "code",
      "metadata": {
        "id": "vLBlVxO78LZB"
      },
      "source": [
        ""
      ],
      "execution_count": 38,
      "outputs": []
    }
  ]
}