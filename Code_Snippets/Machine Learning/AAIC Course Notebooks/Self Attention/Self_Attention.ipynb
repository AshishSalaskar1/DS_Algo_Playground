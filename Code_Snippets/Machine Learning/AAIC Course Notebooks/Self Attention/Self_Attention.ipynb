{
  "nbformat": 4,
  "nbformat_minor": 0,
  "metadata": {
    "colab": {
      "name": "COL_Submitted_Seq2SeqImplementation__Assignment_NEW.ipynb",
      "provenance": [],
      "collapsed_sections": [],
      "machine_shape": "hm"
    },
    "kernelspec": {
      "display_name": "Python 3",
      "language": "python",
      "name": "python3"
    },
    "language_info": {
      "codemirror_mode": {
        "name": "ipython",
        "version": 3
      },
      "file_extension": ".py",
      "mimetype": "text/x-python",
      "name": "python",
      "nbconvert_exporter": "python",
      "pygments_lexer": "ipython3",
      "version": "3.7.4"
    },
    "accelerator": "GPU"
  },
  "cells": [
    {
      "cell_type": "markdown",
      "metadata": {
        "id": "fwPL0hIlGKoA"
      },
      "source": [
        "# <font color='red'>**Sequence to sequence implementation**</font>"
      ]
    },
    {
      "cell_type": "markdown",
      "metadata": {
        "id": "-nYHE_1ck2az"
      },
      "source": [
        "**There will be some functions that start with the word \"grader\" ex: grader_check_encoder(), grader_check_attention(), grader_onestepdecoder() etc, you should not change those function definition.<br><br>Every Grader function has to return True.**\n",
        "\n",
        "**Note 1:**  There are many blogs on the attention mechanisum which might be misleading you,\n",
        " so do read the references completly and after that only please check the internet.\n",
        " The best things is to read the research papers and try to implement it on your own. \n",
        "\n",
        "**Note 2:** To complete this assignment, the reference that are mentioned will be enough.\n",
        "\n",
        "**Note 3:** If you are starting this assignment, you might have completed minimum of 20 assignment.\n",
        " If  you are still not able to implement this algorithm you might have rushed in the previous assignments \n",
        "with out learning much and didn't spend your time productively."
      ]
    },
    {
      "cell_type": "markdown",
      "metadata": {
        "id": "QyfZo8fmLOec"
      },
      "source": [
        "## Task -1: Simple Encoder and Decoder\n",
        "Implement simple Encoder-Decoder model"
      ]
    },
    {
      "cell_type": "markdown",
      "metadata": {
        "id": "IvNSZXNkkOkO"
      },
      "source": [
        "1. Download the **Italian** to **English** translation dataset from <a href=\"http://www.manythings.org/anki/ita-eng.zip\">here</a>\n",
        "\n",
        "2. You will find **ita.txt** file in that ZIP, \n",
        "you can read that data using python and preprocess that data this way only: \n",
        "<img src='https://i.imgur.com/z0j79Jf.png'>    \n",
        "    \n",
        "3. You have to implement a simple Encoder and Decoder architecture  \n",
        "\n",
        "4. Use BLEU score as metric to evaluate your model. You can use any loss function you need.\n",
        "\n",
        "5. You have to use Tensorboard to plot the Graph, Scores and histograms of gradients. \n",
        "\n",
        "6.  a. Check the reference notebook <br>\n",
        "    b. <a href=\"https://medium.com/analytics-vidhya/understand-sequence-to-sequence-models-in-a-more-intuitive-way-1d517d8795bb\">Resource 2</a>\n",
        "    \n",
        "\n"
      ]
    },
    {
      "cell_type": "code",
      "metadata": {
        "id": "p9jsu5D92jso",
        "colab": {
          "base_uri": "https://localhost:8080/"
        },
        "outputId": "972e2bfc-1736-4b25-d5a1-e99c0a6229f0"
      },
      "source": [
        "!nvidia-smi"
      ],
      "execution_count": 1,
      "outputs": [
        {
          "output_type": "stream",
          "text": [
            "Sun Jul 11 13:22:14 2021       \n",
            "+-----------------------------------------------------------------------------+\n",
            "| NVIDIA-SMI 470.42.01    Driver Version: 460.32.03    CUDA Version: 11.2     |\n",
            "|-------------------------------+----------------------+----------------------+\n",
            "| GPU  Name        Persistence-M| Bus-Id        Disp.A | Volatile Uncorr. ECC |\n",
            "| Fan  Temp  Perf  Pwr:Usage/Cap|         Memory-Usage | GPU-Util  Compute M. |\n",
            "|                               |                      |               MIG M. |\n",
            "|===============================+======================+======================|\n",
            "|   0  Tesla T4            Off  | 00000000:00:04.0 Off |                    0 |\n",
            "| N/A   55C    P8    10W /  70W |      0MiB / 15109MiB |      0%      Default |\n",
            "|                               |                      |                  N/A |\n",
            "+-------------------------------+----------------------+----------------------+\n",
            "                                                                               \n",
            "+-----------------------------------------------------------------------------+\n",
            "| Processes:                                                                  |\n",
            "|  GPU   GI   CI        PID   Type   Process name                  GPU Memory |\n",
            "|        ID   ID                                                   Usage      |\n",
            "|=============================================================================|\n",
            "|  No running processes found                                                 |\n",
            "+-----------------------------------------------------------------------------+\n"
          ],
          "name": "stdout"
        }
      ]
    },
    {
      "cell_type": "code",
      "metadata": {
        "id": "Vtkp7s6R2Odu"
      },
      "source": [
        "import matplotlib.pyplot as plt\n",
        "%matplotlib inline\n",
        "# import seaborn as sns\n",
        "import pandas as pd\n",
        "import re\n",
        "import tensorflow as tf\n",
        "from tensorflow.keras.layers import Embedding, LSTM, Dense, Reshape, Softmax, Dot, Concatenate\n",
        "from tensorflow.keras.models import Model\n",
        "from tensorflow.keras.preprocessing.text import Tokenizer\n",
        "from tensorflow.keras.preprocessing.sequence import pad_sequences\n",
        "import numpy as np\n",
        "import seaborn as sns"
      ],
      "execution_count": 2,
      "outputs": []
    },
    {
      "cell_type": "markdown",
      "metadata": {
        "id": "3k_AlAuKJqVA"
      },
      "source": [
        "<font color='blue'>**Load the data**</font>"
      ]
    },
    {
      "cell_type": "code",
      "metadata": {
        "id": "fU80Ao-AGaob",
        "colab": {
          "base_uri": "https://localhost:8080/"
        },
        "outputId": "b6191ff5-93e3-4d55-b5ea-534c64edd99b"
      },
      "source": [
        "!wget http://www.manythings.org/anki/ita-eng.zip\n",
        "!unzip ita-eng.zip"
      ],
      "execution_count": 3,
      "outputs": [
        {
          "output_type": "stream",
          "text": [
            "--2021-07-11 13:22:22--  http://www.manythings.org/anki/ita-eng.zip\n",
            "Resolving www.manythings.org (www.manythings.org)... 104.21.55.222, 172.67.173.198, 2606:4700:3031::6815:37de, ...\n",
            "Connecting to www.manythings.org (www.manythings.org)|104.21.55.222|:80... connected.\n",
            "HTTP request sent, awaiting response... 200 OK\n",
            "Length: 7692825 (7.3M) [application/zip]\n",
            "Saving to: ‘ita-eng.zip’\n",
            "\n",
            "ita-eng.zip         100%[===================>]   7.34M  22.8MB/s    in 0.3s    \n",
            "\n",
            "2021-07-11 13:22:22 (22.8 MB/s) - ‘ita-eng.zip’ saved [7692825/7692825]\n",
            "\n",
            "Archive:  ita-eng.zip\n",
            "  inflating: ita.txt                 \n",
            "  inflating: _about.txt              \n"
          ],
          "name": "stdout"
        }
      ]
    },
    {
      "cell_type": "code",
      "metadata": {
        "id": "3tQzC4qw1lOP",
        "colab": {
          "base_uri": "https://localhost:8080/",
          "height": 214
        },
        "outputId": "b0bef92f-d18a-4aec-e348-12abb5ce0c54"
      },
      "source": [
        "with open('ita.txt', 'r', encoding=\"utf8\") as f:\n",
        "    eng=[]\n",
        "    ita=[]\n",
        "    for i in f.readlines():\n",
        "        eng.append(i.split(\"\\t\")[0])\n",
        "        ita.append(i.split(\"\\t\")[1])\n",
        "data = pd.DataFrame(data=list(zip(eng, ita)), columns=['english','italian'])\n",
        "print(data.shape)\n",
        "data.head()"
      ],
      "execution_count": 4,
      "outputs": [
        {
          "output_type": "stream",
          "text": [
            "(350360, 2)\n"
          ],
          "name": "stdout"
        },
        {
          "output_type": "execute_result",
          "data": {
            "text/html": [
              "<div>\n",
              "<style scoped>\n",
              "    .dataframe tbody tr th:only-of-type {\n",
              "        vertical-align: middle;\n",
              "    }\n",
              "\n",
              "    .dataframe tbody tr th {\n",
              "        vertical-align: top;\n",
              "    }\n",
              "\n",
              "    .dataframe thead th {\n",
              "        text-align: right;\n",
              "    }\n",
              "</style>\n",
              "<table border=\"1\" class=\"dataframe\">\n",
              "  <thead>\n",
              "    <tr style=\"text-align: right;\">\n",
              "      <th></th>\n",
              "      <th>english</th>\n",
              "      <th>italian</th>\n",
              "    </tr>\n",
              "  </thead>\n",
              "  <tbody>\n",
              "    <tr>\n",
              "      <th>0</th>\n",
              "      <td>Hi.</td>\n",
              "      <td>Ciao!</td>\n",
              "    </tr>\n",
              "    <tr>\n",
              "      <th>1</th>\n",
              "      <td>Hi.</td>\n",
              "      <td>Ciao.</td>\n",
              "    </tr>\n",
              "    <tr>\n",
              "      <th>2</th>\n",
              "      <td>Run!</td>\n",
              "      <td>Corri!</td>\n",
              "    </tr>\n",
              "    <tr>\n",
              "      <th>3</th>\n",
              "      <td>Run!</td>\n",
              "      <td>Corra!</td>\n",
              "    </tr>\n",
              "    <tr>\n",
              "      <th>4</th>\n",
              "      <td>Run!</td>\n",
              "      <td>Correte!</td>\n",
              "    </tr>\n",
              "  </tbody>\n",
              "</table>\n",
              "</div>"
            ],
            "text/plain": [
              "  english   italian\n",
              "0     Hi.     Ciao!\n",
              "1     Hi.     Ciao.\n",
              "2    Run!    Corri!\n",
              "3    Run!    Corra!\n",
              "4    Run!  Correte!"
            ]
          },
          "metadata": {
            "tags": []
          },
          "execution_count": 4
        }
      ]
    },
    {
      "cell_type": "markdown",
      "metadata": {
        "id": "vmGWTdRmKRph"
      },
      "source": [
        "<font color='blue'>**Preprocess data**</font>"
      ]
    },
    {
      "cell_type": "code",
      "metadata": {
        "id": "9QqElB_nKZos",
        "colab": {
          "base_uri": "https://localhost:8080/",
          "height": 196
        },
        "outputId": "7df61fca-487b-4d25-e719-9ade207c7cea"
      },
      "source": [
        "def decontractions(phrase):\n",
        "    \"\"\"decontracted takes text and convert contractions into natural form.\n",
        "     ref: https://stackoverflow.com/questions/19790188/expanding-english-language-contractions-in-python/47091490#47091490\"\"\"\n",
        "    # specific\n",
        "    phrase = re.sub(r\"won\\'t\", \"will not\", phrase)\n",
        "    phrase = re.sub(r\"can\\'t\", \"can not\", phrase)\n",
        "    phrase = re.sub(r\"won\\’t\", \"will not\", phrase)\n",
        "    phrase = re.sub(r\"can\\’t\", \"can not\", phrase)\n",
        "\n",
        "    # general\n",
        "    phrase = re.sub(r\"n\\'t\", \" not\", phrase)\n",
        "    phrase = re.sub(r\"\\'re\", \" are\", phrase)\n",
        "    phrase = re.sub(r\"\\'s\", \" is\", phrase)\n",
        "    phrase = re.sub(r\"\\'d\", \" would\", phrase)\n",
        "    phrase = re.sub(r\"\\'ll\", \" will\", phrase)\n",
        "    phrase = re.sub(r\"\\'t\", \" not\", phrase)\n",
        "    phrase = re.sub(r\"\\'ve\", \" have\", phrase)\n",
        "    phrase = re.sub(r\"\\'m\", \" am\", phrase)\n",
        "\n",
        "    phrase = re.sub(r\"n\\’t\", \" not\", phrase)\n",
        "    phrase = re.sub(r\"\\’re\", \" are\", phrase)\n",
        "    phrase = re.sub(r\"\\’s\", \" is\", phrase)\n",
        "    phrase = re.sub(r\"\\’d\", \" would\", phrase)\n",
        "    phrase = re.sub(r\"\\’ll\", \" will\", phrase)\n",
        "    phrase = re.sub(r\"\\’t\", \" not\", phrase)\n",
        "    phrase = re.sub(r\"\\’ve\", \" have\", phrase)\n",
        "    phrase = re.sub(r\"\\’m\", \" am\", phrase)\n",
        "\n",
        "    return phrase\n",
        "\n",
        "def preprocess(text):\n",
        "    text = decontractions(text)\n",
        "    text = re.sub('[^A-Za-z0-9 ]+', '', text)\n",
        "    return text\n",
        "\n",
        "def preprocess_ita(text):\n",
        "    text = text.lower()\n",
        "    text = decontractions(text)\n",
        "    text = re.sub('[$)\\?\"’.°!;\\'€%:,(/]', '', text)\n",
        "    text = re.sub('\\u200b', ' ', text)\n",
        "    text = re.sub('\\xa0', ' ', text)\n",
        "    text = re.sub('-', ' ', text)\n",
        "    return text\n",
        "\n",
        "\n",
        "data['english'] = data['english'].apply(preprocess)\n",
        "data['italian'] = data['italian'].apply(preprocess_ita)\n",
        "data.head()"
      ],
      "execution_count": 5,
      "outputs": [
        {
          "output_type": "execute_result",
          "data": {
            "text/html": [
              "<div>\n",
              "<style scoped>\n",
              "    .dataframe tbody tr th:only-of-type {\n",
              "        vertical-align: middle;\n",
              "    }\n",
              "\n",
              "    .dataframe tbody tr th {\n",
              "        vertical-align: top;\n",
              "    }\n",
              "\n",
              "    .dataframe thead th {\n",
              "        text-align: right;\n",
              "    }\n",
              "</style>\n",
              "<table border=\"1\" class=\"dataframe\">\n",
              "  <thead>\n",
              "    <tr style=\"text-align: right;\">\n",
              "      <th></th>\n",
              "      <th>english</th>\n",
              "      <th>italian</th>\n",
              "    </tr>\n",
              "  </thead>\n",
              "  <tbody>\n",
              "    <tr>\n",
              "      <th>0</th>\n",
              "      <td>Hi</td>\n",
              "      <td>ciao</td>\n",
              "    </tr>\n",
              "    <tr>\n",
              "      <th>1</th>\n",
              "      <td>Hi</td>\n",
              "      <td>ciao</td>\n",
              "    </tr>\n",
              "    <tr>\n",
              "      <th>2</th>\n",
              "      <td>Run</td>\n",
              "      <td>corri</td>\n",
              "    </tr>\n",
              "    <tr>\n",
              "      <th>3</th>\n",
              "      <td>Run</td>\n",
              "      <td>corra</td>\n",
              "    </tr>\n",
              "    <tr>\n",
              "      <th>4</th>\n",
              "      <td>Run</td>\n",
              "      <td>correte</td>\n",
              "    </tr>\n",
              "  </tbody>\n",
              "</table>\n",
              "</div>"
            ],
            "text/plain": [
              "  english  italian\n",
              "0      Hi     ciao\n",
              "1      Hi     ciao\n",
              "2     Run    corri\n",
              "3     Run    corra\n",
              "4     Run  correte"
            ]
          },
          "metadata": {
            "tags": []
          },
          "execution_count": 5
        }
      ]
    },
    {
      "cell_type": "code",
      "metadata": {
        "id": "HlzyjTy02oCd"
      },
      "source": [
        "ita_lengths = data['italian'].str.split().apply(len)\n",
        "eng_lengths = data['english'].str.split().apply(len)"
      ],
      "execution_count": 6,
      "outputs": []
    },
    {
      "cell_type": "code",
      "metadata": {
        "id": "u8556LoG2vUM",
        "colab": {
          "base_uri": "https://localhost:8080/",
          "height": 196
        },
        "outputId": "c5ef2ce0-7a37-4303-ae2d-e3ed7e8272bb"
      },
      "source": [
        "data['italian_len'] = data['italian'].str.split().apply(len)\n",
        "data = data[data['italian_len'] < 20]\n",
        "\n",
        "data['english_len'] = data['english'].str.split().apply(len)\n",
        "data = data[data['english_len'] < 20]\n",
        "\n",
        "data['english_inp'] = '<start> ' + data['english'].astype(str)\n",
        "data['english_out'] = data['english'].astype(str) + ' <end>'\n",
        "\n",
        "data = data.drop(['english','italian_len','english_len'], axis=1)\n",
        "# only for the first sentance add a toke <end> so that we will have <end> in tokenizer\n",
        "data.head()"
      ],
      "execution_count": 7,
      "outputs": [
        {
          "output_type": "execute_result",
          "data": {
            "text/html": [
              "<div>\n",
              "<style scoped>\n",
              "    .dataframe tbody tr th:only-of-type {\n",
              "        vertical-align: middle;\n",
              "    }\n",
              "\n",
              "    .dataframe tbody tr th {\n",
              "        vertical-align: top;\n",
              "    }\n",
              "\n",
              "    .dataframe thead th {\n",
              "        text-align: right;\n",
              "    }\n",
              "</style>\n",
              "<table border=\"1\" class=\"dataframe\">\n",
              "  <thead>\n",
              "    <tr style=\"text-align: right;\">\n",
              "      <th></th>\n",
              "      <th>italian</th>\n",
              "      <th>english_inp</th>\n",
              "      <th>english_out</th>\n",
              "    </tr>\n",
              "  </thead>\n",
              "  <tbody>\n",
              "    <tr>\n",
              "      <th>0</th>\n",
              "      <td>ciao</td>\n",
              "      <td>&lt;start&gt; Hi</td>\n",
              "      <td>Hi &lt;end&gt;</td>\n",
              "    </tr>\n",
              "    <tr>\n",
              "      <th>1</th>\n",
              "      <td>ciao</td>\n",
              "      <td>&lt;start&gt; Hi</td>\n",
              "      <td>Hi &lt;end&gt;</td>\n",
              "    </tr>\n",
              "    <tr>\n",
              "      <th>2</th>\n",
              "      <td>corri</td>\n",
              "      <td>&lt;start&gt; Run</td>\n",
              "      <td>Run &lt;end&gt;</td>\n",
              "    </tr>\n",
              "    <tr>\n",
              "      <th>3</th>\n",
              "      <td>corra</td>\n",
              "      <td>&lt;start&gt; Run</td>\n",
              "      <td>Run &lt;end&gt;</td>\n",
              "    </tr>\n",
              "    <tr>\n",
              "      <th>4</th>\n",
              "      <td>correte</td>\n",
              "      <td>&lt;start&gt; Run</td>\n",
              "      <td>Run &lt;end&gt;</td>\n",
              "    </tr>\n",
              "  </tbody>\n",
              "</table>\n",
              "</div>"
            ],
            "text/plain": [
              "   italian  english_inp english_out\n",
              "0     ciao   <start> Hi    Hi <end>\n",
              "1     ciao   <start> Hi    Hi <end>\n",
              "2    corri  <start> Run   Run <end>\n",
              "3    corra  <start> Run   Run <end>\n",
              "4  correte  <start> Run   Run <end>"
            ]
          },
          "metadata": {
            "tags": []
          },
          "execution_count": 7
        }
      ]
    },
    {
      "cell_type": "code",
      "metadata": {
        "id": "o5J6FTOG2x1U",
        "colab": {
          "base_uri": "https://localhost:8080/",
          "height": 345
        },
        "outputId": "91cccdb0-d059-4b28-f677-4eaaea8a5b14"
      },
      "source": [
        "data.sample(10)"
      ],
      "execution_count": 8,
      "outputs": [
        {
          "output_type": "execute_result",
          "data": {
            "text/html": [
              "<div>\n",
              "<style scoped>\n",
              "    .dataframe tbody tr th:only-of-type {\n",
              "        vertical-align: middle;\n",
              "    }\n",
              "\n",
              "    .dataframe tbody tr th {\n",
              "        vertical-align: top;\n",
              "    }\n",
              "\n",
              "    .dataframe thead th {\n",
              "        text-align: right;\n",
              "    }\n",
              "</style>\n",
              "<table border=\"1\" class=\"dataframe\">\n",
              "  <thead>\n",
              "    <tr style=\"text-align: right;\">\n",
              "      <th></th>\n",
              "      <th>italian</th>\n",
              "      <th>english_inp</th>\n",
              "      <th>english_out</th>\n",
              "    </tr>\n",
              "  </thead>\n",
              "  <tbody>\n",
              "    <tr>\n",
              "      <th>99198</th>\n",
              "      <td>non sei mia amica</td>\n",
              "      <td>&lt;start&gt; You are not my friend</td>\n",
              "      <td>You are not my friend &lt;end&gt;</td>\n",
              "    </tr>\n",
              "    <tr>\n",
              "      <th>102728</th>\n",
              "      <td>vengo qua ogni giorno</td>\n",
              "      <td>&lt;start&gt; I come here every day</td>\n",
              "      <td>I come here every day &lt;end&gt;</td>\n",
              "    </tr>\n",
              "    <tr>\n",
              "      <th>216062</th>\n",
              "      <td>non era facile trovare loro</td>\n",
              "      <td>&lt;start&gt; It was not easy to find gold</td>\n",
              "      <td>It was not easy to find gold &lt;end&gt;</td>\n",
              "    </tr>\n",
              "    <tr>\n",
              "      <th>122107</th>\n",
              "      <td>è chiaro a tutti</td>\n",
              "      <td>&lt;start&gt; It is clear to everyone</td>\n",
              "      <td>It is clear to everyone &lt;end&gt;</td>\n",
              "    </tr>\n",
              "    <tr>\n",
              "      <th>154422</th>\n",
              "      <td>ora cominciamo la partita</td>\n",
              "      <td>&lt;start&gt; Now let is begin the game</td>\n",
              "      <td>Now let is begin the game &lt;end&gt;</td>\n",
              "    </tr>\n",
              "    <tr>\n",
              "      <th>102143</th>\n",
              "      <td>hey dovè andato tom</td>\n",
              "      <td>&lt;start&gt; Hey where did Tom go</td>\n",
              "      <td>Hey where did Tom go &lt;end&gt;</td>\n",
              "    </tr>\n",
              "    <tr>\n",
              "      <th>264812</th>\n",
              "      <td>spero davvero che ti sia piaciuta la cena</td>\n",
              "      <td>&lt;start&gt; I do hope you enjoyed the dinner</td>\n",
              "      <td>I do hope you enjoyed the dinner &lt;end&gt;</td>\n",
              "    </tr>\n",
              "    <tr>\n",
              "      <th>105379</th>\n",
              "      <td>io sarò impegnato domani</td>\n",
              "      <td>&lt;start&gt; I will be busy tomorrow</td>\n",
              "      <td>I will be busy tomorrow &lt;end&gt;</td>\n",
              "    </tr>\n",
              "    <tr>\n",
              "      <th>229619</th>\n",
              "      <td>io andrò a trovare tom domani</td>\n",
              "      <td>&lt;start&gt; I am going to see Tom tomorrow</td>\n",
              "      <td>I am going to see Tom tomorrow &lt;end&gt;</td>\n",
              "    </tr>\n",
              "    <tr>\n",
              "      <th>249271</th>\n",
              "      <td>perché siete così educate</td>\n",
              "      <td>&lt;start&gt; Why are you being so courteous</td>\n",
              "      <td>Why are you being so courteous &lt;end&gt;</td>\n",
              "    </tr>\n",
              "  </tbody>\n",
              "</table>\n",
              "</div>"
            ],
            "text/plain": [
              "                                          italian  ...                             english_out\n",
              "99198                           non sei mia amica  ...             You are not my friend <end>\n",
              "102728                      vengo qua ogni giorno  ...             I come here every day <end>\n",
              "216062                non era facile trovare loro  ...      It was not easy to find gold <end>\n",
              "122107                           è chiaro a tutti  ...           It is clear to everyone <end>\n",
              "154422                  ora cominciamo la partita  ...         Now let is begin the game <end>\n",
              "102143                        hey dovè andato tom  ...              Hey where did Tom go <end>\n",
              "264812  spero davvero che ti sia piaciuta la cena  ...  I do hope you enjoyed the dinner <end>\n",
              "105379                   io sarò impegnato domani  ...           I will be busy tomorrow <end>\n",
              "229619              io andrò a trovare tom domani  ...    I am going to see Tom tomorrow <end>\n",
              "249271                  perché siete così educate  ...    Why are you being so courteous <end>\n",
              "\n",
              "[10 rows x 3 columns]"
            ]
          },
          "metadata": {
            "tags": []
          },
          "execution_count": 8
        }
      ]
    },
    {
      "cell_type": "markdown",
      "metadata": {
        "id": "m5L8ZhCi8Fs9"
      },
      "source": [
        "## Tokenizer"
      ]
    },
    {
      "cell_type": "code",
      "metadata": {
        "id": "pSRfvhlb8LcD"
      },
      "source": [
        "from sklearn.model_selection import train_test_split\n",
        "train, validation = train_test_split(data, test_size=0.2,random_state=0)"
      ],
      "execution_count": 9,
      "outputs": []
    },
    {
      "cell_type": "code",
      "metadata": {
        "colab": {
          "base_uri": "https://localhost:8080/"
        },
        "id": "49LFOumv_ysG",
        "outputId": "2102ae33-31b3-421c-9b96-5ebd1baeff13"
      },
      "source": [
        "!gdown --id \"1B7420H8cRMhufU4MfrOcNAiPTWv09wcc\"\n",
        "!gdown --id \"1nki-SdUOFHhXgEwp6qSkMWSwMeJKloSf\""
      ],
      "execution_count": 10,
      "outputs": [
        {
          "output_type": "stream",
          "text": [
            "Downloading...\n",
            "From: https://drive.google.com/uc?id=1B7420H8cRMhufU4MfrOcNAiPTWv09wcc\n",
            "To: /content/train_attention.csv\n",
            "27.9MB [00:00, 89.1MB/s]\n",
            "Downloading...\n",
            "From: https://drive.google.com/uc?id=1nki-SdUOFHhXgEwp6qSkMWSwMeJKloSf\n",
            "To: /content/validation_attention.csv\n",
            "6.98MB [00:00, 59.5MB/s]\n"
          ],
          "name": "stdout"
        }
      ]
    },
    {
      "cell_type": "code",
      "metadata": {
        "id": "JYNmdaamc9_e"
      },
      "source": [
        "# train.to_csv(\"train_attention.csv\",index=None)\n",
        "# validation.to_csv(\"validation_attention.csv\",index=None)\n",
        "\n",
        "# !cp \"train_attention.csv\" \"/content/drive/MyDrive/datasets\"\n",
        "# !cp \"validation_attention.csv\" \"/content/drive/MyDrive/datasets\"\n",
        "\n",
        "train = pd.read_csv(\"train_attention.csv\")\n",
        "validation = pd.read_csv(\"validation_attention.csv\")"
      ],
      "execution_count": 11,
      "outputs": []
    },
    {
      "cell_type": "code",
      "metadata": {
        "id": "S7yXaG8k8Ml5",
        "colab": {
          "base_uri": "https://localhost:8080/"
        },
        "outputId": "03bdcd6d-181b-47b5-f8bc-6c9e108ccf7e"
      },
      "source": [
        "print(train.shape, validation.shape)\n",
        "# for one sentence we will be adding <end> token so that the tokanizer learns the word <end>\n",
        "# with this we can use only one tokenizer for both encoder output and decoder output\n",
        "train.iloc[0]['english_inp']= str(train.iloc[0]['english_inp'])+' <end>'\n",
        "train.iloc[0]['english_out']= str(train.iloc[0]['english_out'])+' <end>'"
      ],
      "execution_count": 12,
      "outputs": [
        {
          "output_type": "stream",
          "text": [
            "(279900, 3) (69975, 3)\n"
          ],
          "name": "stdout"
        }
      ]
    },
    {
      "cell_type": "code",
      "metadata": {
        "id": "IAJoNGfr8ZPG",
        "colab": {
          "base_uri": "https://localhost:8080/",
          "height": 196
        },
        "outputId": "78f2f265-4a4d-4362-ec2d-6f6087b10b3c"
      },
      "source": [
        "train.head()"
      ],
      "execution_count": 13,
      "outputs": [
        {
          "output_type": "execute_result",
          "data": {
            "text/html": [
              "<div>\n",
              "<style scoped>\n",
              "    .dataframe tbody tr th:only-of-type {\n",
              "        vertical-align: middle;\n",
              "    }\n",
              "\n",
              "    .dataframe tbody tr th {\n",
              "        vertical-align: top;\n",
              "    }\n",
              "\n",
              "    .dataframe thead th {\n",
              "        text-align: right;\n",
              "    }\n",
              "</style>\n",
              "<table border=\"1\" class=\"dataframe\">\n",
              "  <thead>\n",
              "    <tr style=\"text-align: right;\">\n",
              "      <th></th>\n",
              "      <th>italian</th>\n",
              "      <th>english_inp</th>\n",
              "      <th>english_out</th>\n",
              "    </tr>\n",
              "  </thead>\n",
              "  <tbody>\n",
              "    <tr>\n",
              "      <th>0</th>\n",
              "      <td>è ovvio che lui ha ragione</td>\n",
              "      <td>&lt;start&gt; It is obvious that he is right &lt;end&gt; &lt;...</td>\n",
              "      <td>It is obvious that he is right &lt;end&gt; &lt;end&gt; &lt;end&gt;</td>\n",
              "    </tr>\n",
              "    <tr>\n",
              "      <th>1</th>\n",
              "      <td>trovai il mio portafoglio smarrito</td>\n",
              "      <td>&lt;start&gt; I found my lost wallet</td>\n",
              "      <td>I found my lost wallet &lt;end&gt;</td>\n",
              "    </tr>\n",
              "    <tr>\n",
              "      <th>2</th>\n",
              "      <td>tu sei spericolato</td>\n",
              "      <td>&lt;start&gt; You are reckless</td>\n",
              "      <td>You are reckless &lt;end&gt;</td>\n",
              "    </tr>\n",
              "    <tr>\n",
              "      <th>3</th>\n",
              "      <td>nessuno ti capirà</td>\n",
              "      <td>&lt;start&gt; No one is going to understand you</td>\n",
              "      <td>No one is going to understand you &lt;end&gt;</td>\n",
              "    </tr>\n",
              "    <tr>\n",
              "      <th>4</th>\n",
              "      <td>morditi la lingua</td>\n",
              "      <td>&lt;start&gt; Bite your tongue</td>\n",
              "      <td>Bite your tongue &lt;end&gt;</td>\n",
              "    </tr>\n",
              "  </tbody>\n",
              "</table>\n",
              "</div>"
            ],
            "text/plain": [
              "                              italian  ...                                       english_out\n",
              "0          è ovvio che lui ha ragione  ...  It is obvious that he is right <end> <end> <end>\n",
              "1  trovai il mio portafoglio smarrito  ...                      I found my lost wallet <end>\n",
              "2                  tu sei spericolato  ...                            You are reckless <end>\n",
              "3                   nessuno ti capirà  ...           No one is going to understand you <end>\n",
              "4                   morditi la lingua  ...                            Bite your tongue <end>\n",
              "\n",
              "[5 rows x 3 columns]"
            ]
          },
          "metadata": {
            "tags": []
          },
          "execution_count": 13
        }
      ]
    },
    {
      "cell_type": "code",
      "metadata": {
        "id": "643DDFNi8Fde"
      },
      "source": [
        "tknizer_ita = Tokenizer(filters='!\"#$%&()*+,-./:;=?@[\\\\]^_`{|}~\\t\\n')\n",
        "tknizer_ita.fit_on_texts(train['italian'].values)\n",
        "tknizer_eng = Tokenizer(filters='!\"#$%&()*+,-./:;=?@[\\\\]^_`{|}~\\t\\n')\n",
        "tknizer_eng.fit_on_texts(train['english_inp'].values)"
      ],
      "execution_count": 14,
      "outputs": []
    },
    {
      "cell_type": "code",
      "metadata": {
        "id": "vzgLpzJ-8gcY",
        "colab": {
          "base_uri": "https://localhost:8080/"
        },
        "outputId": "8d9dead6-8212-4b77-e987-b33b46949fbe"
      },
      "source": [
        "vocab_size_eng=len(tknizer_eng.word_index.keys())\n",
        "print(vocab_size_eng)\n",
        "vocab_size_ita=len(tknizer_ita.word_index.keys())\n",
        "print(vocab_size_ita)"
      ],
      "execution_count": 15,
      "outputs": [
        {
          "output_type": "stream",
          "text": [
            "13001\n",
            "26424\n"
          ],
          "name": "stdout"
        }
      ]
    },
    {
      "cell_type": "code",
      "metadata": {
        "id": "UqX4HLxq8iDn",
        "colab": {
          "base_uri": "https://localhost:8080/"
        },
        "outputId": "a84466e2-b965-472b-83ba-d62ba72a5786"
      },
      "source": [
        " tknizer_eng.word_index['<start>'], tknizer_eng.word_index['<end>']"
      ],
      "execution_count": 16,
      "outputs": [
        {
          "output_type": "execute_result",
          "data": {
            "text/plain": [
              "(1, 8480)"
            ]
          },
          "metadata": {
            "tags": []
          },
          "execution_count": 16
        }
      ]
    },
    {
      "cell_type": "code",
      "metadata": {
        "colab": {
          "base_uri": "https://localhost:8080/"
        },
        "id": "kkyWKGfo9GGF",
        "outputId": "1314b64a-80e1-4c5b-da3e-36b0eca5918a"
      },
      "source": [
        "!wget https://www.dropbox.com/s/ddkmtqz01jc024u/glove.6B.100d.txt"
      ],
      "execution_count": 17,
      "outputs": [
        {
          "output_type": "stream",
          "text": [
            "--2021-07-11 13:22:56--  https://www.dropbox.com/s/ddkmtqz01jc024u/glove.6B.100d.txt\n",
            "Resolving www.dropbox.com (www.dropbox.com)... 162.125.6.18, 2620:100:6019:18::a27d:412\n",
            "Connecting to www.dropbox.com (www.dropbox.com)|162.125.6.18|:443... connected.\n",
            "HTTP request sent, awaiting response... 301 Moved Permanently\n",
            "Location: /s/raw/ddkmtqz01jc024u/glove.6B.100d.txt [following]\n",
            "--2021-07-11 13:22:56--  https://www.dropbox.com/s/raw/ddkmtqz01jc024u/glove.6B.100d.txt\n",
            "Reusing existing connection to www.dropbox.com:443.\n",
            "HTTP request sent, awaiting response... 302 Found\n",
            "Location: https://uc4b345e395f837f8c50c6403da7.dl.dropboxusercontent.com/cd/0/inline/BSEzV1NzDUWORm938xgjk26Rh9ExQZM5bNip1NJ9NFtQZN3kII7t7HpNgza_2nyl3rShoCzJZs9t3xaLd1Wod6vMnkG_XcWIdANTi5fBFudTCUyVFdxatGiiuiqJFTXtKA007IdbD9g-7z1XaVDG76ie/file# [following]\n",
            "--2021-07-11 13:22:56--  https://uc4b345e395f837f8c50c6403da7.dl.dropboxusercontent.com/cd/0/inline/BSEzV1NzDUWORm938xgjk26Rh9ExQZM5bNip1NJ9NFtQZN3kII7t7HpNgza_2nyl3rShoCzJZs9t3xaLd1Wod6vMnkG_XcWIdANTi5fBFudTCUyVFdxatGiiuiqJFTXtKA007IdbD9g-7z1XaVDG76ie/file\n",
            "Resolving uc4b345e395f837f8c50c6403da7.dl.dropboxusercontent.com (uc4b345e395f837f8c50c6403da7.dl.dropboxusercontent.com)... 162.125.6.15, 2620:100:6019:15::a27d:40f\n",
            "Connecting to uc4b345e395f837f8c50c6403da7.dl.dropboxusercontent.com (uc4b345e395f837f8c50c6403da7.dl.dropboxusercontent.com)|162.125.6.15|:443... connected.\n",
            "HTTP request sent, awaiting response... 200 OK\n",
            "Length: 347116733 (331M) [text/plain]\n",
            "Saving to: ‘glove.6B.100d.txt’\n",
            "\n",
            "glove.6B.100d.txt   100%[===================>] 331.04M   131MB/s    in 2.5s    \n",
            "\n",
            "2021-07-11 13:22:59 (131 MB/s) - ‘glove.6B.100d.txt’ saved [347116733/347116733]\n",
            "\n"
          ],
          "name": "stdout"
        }
      ]
    },
    {
      "cell_type": "code",
      "metadata": {
        "id": "r6ZA3h929Bf0"
      },
      "source": [
        "embeddings_index = dict()\n",
        "f = open('glove.6B.100d.txt')\n",
        "for line in f:\n",
        "    values = line.split()\n",
        "    word = values[0]\n",
        "    coefs = np.asarray(values[1:], dtype='float32')\n",
        "    embeddings_index[word] = coefs\n",
        "f.close()\n",
        "\n",
        "embedding_matrix = np.zeros((vocab_size_eng+1, 100))\n",
        "for word, i in tknizer_eng.word_index.items():\n",
        "    embedding_vector = embeddings_index.get(word)\n",
        "    if embedding_vector is not None:\n",
        "        embedding_matrix[i] = embedding_vector"
      ],
      "execution_count": 18,
      "outputs": []
    },
    {
      "cell_type": "markdown",
      "metadata": {
        "id": "S8RDrP4xKabR"
      },
      "source": [
        "## <font color='blue'>**Implement custom encoder decoder**</font>"
      ]
    },
    {
      "cell_type": "code",
      "metadata": {
        "id": "YtCni9R__bal"
      },
      "source": [
        "class Dataset:\n",
        "    def __init__(self, data, tknizer_ita, tknizer_eng, max_len):\n",
        "        self.encoder_inps = data['italian'].values\n",
        "        self.decoder_inps = data['english_inp'].values\n",
        "        self.decoder_outs = data['english_out'].values\n",
        "        self.tknizer_eng = tknizer_eng\n",
        "        self.tknizer_ita = tknizer_ita\n",
        "        self.max_len = max_len\n",
        "\n",
        "    def __getitem__(self, i):\n",
        "        self.encoder_seq = self.tknizer_ita.texts_to_sequences([self.encoder_inps[i]]) # need to pass list of values\n",
        "        self.decoder_inp_seq = self.tknizer_eng.texts_to_sequences([self.decoder_inps[i]])\n",
        "        self.decoder_out_seq = self.tknizer_eng.texts_to_sequences([self.decoder_outs[i]])\n",
        "\n",
        "        self.encoder_seq = pad_sequences(self.encoder_seq, maxlen=self.max_len, dtype='int32', padding='post')\n",
        "        self.decoder_inp_seq = pad_sequences(self.decoder_inp_seq, maxlen=self.max_len, dtype='int32', padding='post')\n",
        "        self.decoder_out_seq = pad_sequences(self.decoder_out_seq, maxlen=self.max_len, dtype='int32', padding='post')\n",
        "        return self.encoder_seq, self.decoder_inp_seq, self.decoder_out_seq\n",
        "\n",
        "    def __len__(self): # your model.fit_gen requires this function\n",
        "        return len(self.encoder_inps)\n",
        "\n",
        "    \n",
        "class Dataloder(tf.keras.utils.Sequence):    \n",
        "    def __init__(self, dataset, batch_size=1):\n",
        "        self.dataset = dataset\n",
        "        self.batch_size = batch_size\n",
        "        self.indexes = np.arange(len(self.dataset.encoder_inps))\n",
        "\n",
        "\n",
        "    def __getitem__(self, i):\n",
        "        start = i * self.batch_size\n",
        "        stop = (i + 1) * self.batch_size\n",
        "        data = []\n",
        "        for j in range(start, stop):\n",
        "            data.append(self.dataset[j])\n",
        "\n",
        "        batch = [np.squeeze(np.stack(samples, axis=1), axis=0) for samples in zip(*data)]\n",
        "        # we are creating data like ([italian, english_inp], english_out) these are already converted into seq\n",
        "        return tuple([[batch[0],batch[1]],batch[2]])\n",
        "\n",
        "    def __len__(self):  # your model.fit_gen requires this function\n",
        "        return len(self.indexes) // self.batch_size\n",
        "\n",
        "    def on_epoch_end(self):\n",
        "        self.indexes = np.random.permutation(self.indexes)"
      ],
      "execution_count": 19,
      "outputs": []
    },
    {
      "cell_type": "code",
      "metadata": {
        "colab": {
          "base_uri": "https://localhost:8080/"
        },
        "id": "TWIoZF5IAXYB",
        "outputId": "ed678090-0049-49b3-cfc0-099009dc4090"
      },
      "source": [
        "print(len(tknizer_ita.word_counts))\n",
        "print(len(tknizer_eng.word_counts))"
      ],
      "execution_count": 20,
      "outputs": [
        {
          "output_type": "stream",
          "text": [
            "26424\n",
            "13001\n"
          ],
          "name": "stdout"
        }
      ]
    },
    {
      "cell_type": "code",
      "metadata": {
        "colab": {
          "base_uri": "https://localhost:8080/"
        },
        "id": "HPlq-5GOAThA",
        "outputId": "97764b03-35c8-4b02-92d3-5ccf65b02349"
      },
      "source": [
        "train_dataset = Dataset(train, tknizer_ita, tknizer_eng, 20)\n",
        "test_dataset  = Dataset(validation, tknizer_ita, tknizer_eng, 20)\n",
        "\n",
        "train_dataloader = Dataloder(train_dataset, batch_size=1024)\n",
        "test_dataloader = Dataloder(test_dataset, batch_size=1024)\n",
        "\n",
        "\n",
        "print(train_dataloader[0][0][0].shape, train_dataloader[0][0][1].shape, train_dataloader[0][1].shape)\n",
        "\n",
        "# train_dataloader[0][0][0] -> eng_input (not available in testing)\n",
        "# train_dataloader[0][0][0] -> eng_out (sentence to predict)"
      ],
      "execution_count": 21,
      "outputs": [
        {
          "output_type": "stream",
          "text": [
            "(1024, 20) (1024, 20) (1024, 20)\n"
          ],
          "name": "stdout"
        }
      ]
    },
    {
      "cell_type": "markdown",
      "metadata": {
        "id": "A45uc0JILMlV"
      },
      "source": [
        "<font color='blue'>**Encoder**</font>"
      ]
    },
    {
      "cell_type": "code",
      "metadata": {
        "id": "9cex2XfCLOew"
      },
      "source": [
        "class Encoder(tf.keras.Model):\n",
        "    '''\n",
        "    Encoder model -- That takes a input sequence and returns encoder-outputs,encoder_final_state_h,encoder_final_state_c\n",
        "    '''\n",
        "\n",
        "    def __init__(self,inp_vocab_size,embedding_size,lstm_size,input_length):\n",
        "        #Initialize Embedding layer\n",
        "        #Intialize Encoder LSTM layer\n",
        "        super().__init__()\n",
        "        self.inp_vocab_size = inp_vocab_size\n",
        "        self.embedding_size = embedding_size\n",
        "        self.input_length = input_length\n",
        "        self.lstm_units= lstm_size\n",
        "        self.lstm_output = 0\n",
        "        self.lstm_state_h=0\n",
        "        self.lstm_state_c=0\n",
        "        \n",
        "    def build(self, input_shape):\n",
        "        self.embedding = Embedding(input_dim=self.inp_vocab_size, output_dim=self.embedding_size, input_length=self.input_length,\n",
        "                           mask_zero=True, name=\"embedding_layer_encoder\")\n",
        "        self.lstm = LSTM(self.lstm_units, return_state=True, return_sequences=True, name=\"Encoder_LSTM\")\n",
        "\n",
        "\n",
        "    def call(self,input_sequence,states=[]):\n",
        "        '''\n",
        "          This function takes a sequence input and the initial states of the encoder.\n",
        "          Pass the input_sequence input to the Embedding layer, Pass the embedding layer ouput to encoder_lstm\n",
        "          returns -- encoder_output, last time step's hidden and cell state\n",
        "        '''\n",
        "        input_embedding = self.embedding(input_sequence)\n",
        "        self.lstm_output, self.lstm_state_h, self.lstm_state_c = self.lstm(input_embedding)\n",
        "        return self.lstm_output, self.lstm_state_h, self.lstm_state_c\n",
        "\n",
        "    def initialize_states(self,batch_size):\n",
        "      '''\n",
        "      Given a batch size it will return intial hidden state and intial cell state.\n",
        "      If batch size is 32- Hidden state is zeros of size [32,lstm_units], cell state zeros is of size [32,lstm_units]\n",
        "      '''\n",
        "      return np.zeros(shape=(batch_size,self.lstm_units))\n",
        "      \n"
      ],
      "execution_count": 22,
      "outputs": []
    },
    {
      "cell_type": "code",
      "metadata": {
        "colab": {
          "base_uri": "https://localhost:8080/"
        },
        "id": "UROHV3Co6Yi0",
        "outputId": "310348b7-09c9-4732-b5cc-7c61e79fbc30"
      },
      "source": [
        "np.zeros(shape=(2000,64)).shape"
      ],
      "execution_count": 23,
      "outputs": [
        {
          "output_type": "execute_result",
          "data": {
            "text/plain": [
              "(2000, 64)"
            ]
          },
          "metadata": {
            "tags": []
          },
          "execution_count": 23
        }
      ]
    },
    {
      "cell_type": "markdown",
      "metadata": {
        "id": "EtbOI3VwLOe0"
      },
      "source": [
        "<font color='orange'>**Grader function - 1**</font>"
      ]
    },
    {
      "cell_type": "code",
      "metadata": {
        "id": "ziSqOgmhLOe1",
        "colab": {
          "base_uri": "https://localhost:8080/"
        },
        "outputId": "73d5cf66-7ab0-4154-c419-d6bd8d6df49f"
      },
      "source": [
        "def grader_check_encoder():\n",
        "    '''\n",
        "        vocab-size: Unique words of the input language,\n",
        "        embedding_size: output embedding dimension for each word after embedding layer,\n",
        "        lstm_size: Number of lstm units,\n",
        "        input_length: Length of the input sentence,\n",
        "        batch_size\n",
        "    '''\n",
        "    vocab_size=10\n",
        "    embedding_size=20\n",
        "    lstm_size=32\n",
        "    input_length=10\n",
        "    batch_size=16\n",
        "    #Intialzing encoder \n",
        "    encoder=Encoder(vocab_size,embedding_size,lstm_size,input_length)\n",
        "    input_sequence=tf.random.uniform(shape=[batch_size,input_length],maxval=vocab_size,minval=0,dtype=tf.int32)\n",
        "    print(\"Input seq : \",input_sequence.shape)\n",
        "    #Intializing encoder initial states\n",
        "    initial_state=encoder.initialize_states(batch_size)\n",
        "    \n",
        "    encoder_output,state_h,state_c=encoder(input_sequence,initial_state)\n",
        "    \n",
        "    assert(encoder_output.shape==(batch_size,input_length,lstm_size) and state_h.shape==(batch_size,lstm_size) and state_c.shape==(batch_size,lstm_size))\n",
        "    return True\n",
        "print(grader_check_encoder())"
      ],
      "execution_count": 24,
      "outputs": [
        {
          "output_type": "stream",
          "text": [
            "Input seq :  (16, 10)\n",
            "True\n"
          ],
          "name": "stdout"
        }
      ]
    },
    {
      "cell_type": "code",
      "metadata": {
        "id": "x1ES1-sJLOe4"
      },
      "source": [
        "class Decoder(tf.keras.Model):\n",
        "    '''\n",
        "    Encoder model -- That takes a input sequence and returns output sequence\n",
        "    '''\n",
        "\n",
        "    def __init__(self,out_vocab_size,embedding_size,lstm_size,input_length):\n",
        "\n",
        "        #Initialize Embedding layer\n",
        "        #Intialize Decoder LSTM layer\n",
        "        super().__init__()\n",
        "        self.out_vocab_size = out_vocab_size\n",
        "        self.embedding_size = embedding_size\n",
        "        self.dec_units = lstm_size\n",
        "        self.input_length = input_length\n",
        "\n",
        "    def build(self, input_shape):\n",
        "        self.embedding = Embedding(input_dim=self.out_vocab_size, output_dim=self.embedding_size, input_length=self.input_length,\n",
        "                           mask_zero=True, name=\"embedding_layer_decoder\")\n",
        "        self.lstm = LSTM(self.dec_units, return_sequences=True, return_state=True, name=\"Decoder_LSTM\")\n",
        "\n",
        "\n",
        "    def call(self,input_sequence,initial_states):\n",
        "        '''\n",
        "          This function takes a sequence input and the initial states of the encoder.\n",
        "          Pass the input_sequence input to the Embedding layer, Pass the embedding layer ouput to decoder_lstm\n",
        "        \n",
        "          returns -- decoder_output,decoder_final_state_h,decoder_final_state_c\n",
        "        '''\n",
        "        target_embed = self.embedding(input_sequence)\n",
        "        # print(\"Dec-Target Embedding shape: \",target_embed.shape)\n",
        "        # print(\"Dec-Initial stape: \",initial_states[0].shape,initial_states[1].shape)\n",
        "        # print(initial_states.shape)\n",
        "        # decoder_output, decoder_final_state_h,decoder_final_state_c = self.lstm(target_embedd, initial_state=[state_h, state_c])\n",
        "        decoder_output, decoder_final_state_h,decoder_final_state_c = self.lstm(target_embed, initial_state=initial_states)\n",
        "        return decoder_output, decoder_final_state_h, decoder_final_state_c \n",
        "      \n"
      ],
      "execution_count": 25,
      "outputs": []
    },
    {
      "cell_type": "markdown",
      "metadata": {
        "id": "Hq-I0SUbLOe8"
      },
      "source": [
        "<font color='orange'>**Grader function - 2**</font>"
      ]
    },
    {
      "cell_type": "code",
      "metadata": {
        "id": "0B0gokgKLOe8",
        "colab": {
          "base_uri": "https://localhost:8080/"
        },
        "outputId": "7050b090-b181-4691-e56b-a6044a94285f"
      },
      "source": [
        "def grader_decoder():\n",
        "    '''\n",
        "        out_vocab_size: Unique words of the target language,\n",
        "        embedding_size: output embedding dimension for each word after embedding layer,\n",
        "        dec_units: Number of lstm units in decoder,\n",
        "        input_length: Length of the input sentence,\n",
        "        batch_size\n",
        "    '''\n",
        "    out_vocab_size=13 \n",
        "    embedding_dim=12 \n",
        "    input_length=10\n",
        "    dec_units=16 \n",
        "    batch_size=32\n",
        "    \n",
        "    target_sentences=tf.random.uniform(shape=(batch_size,input_length),maxval=10,minval=0,dtype=tf.int32)\n",
        "    encoder_output=tf.random.uniform(shape=[batch_size,input_length,dec_units])\n",
        "    state_h=tf.random.uniform(shape=[batch_size,dec_units])\n",
        "    state_c=tf.random.uniform(shape=[batch_size,dec_units])\n",
        "    states=[state_h,state_c]\n",
        "    decoder=Decoder(out_vocab_size, embedding_dim, dec_units,input_length )\n",
        "    print(target_sentences.shape)\n",
        "    output,_,_=decoder(target_sentences, states)\n",
        "    assert(output.shape==(batch_size,input_length,dec_units))\n",
        "    return True\n",
        "print(grader_decoder())\n"
      ],
      "execution_count": 26,
      "outputs": [
        {
          "output_type": "stream",
          "text": [
            "(32, 10)\n",
            "True\n"
          ],
          "name": "stdout"
        }
      ]
    },
    {
      "cell_type": "code",
      "metadata": {
        "id": "BXrIj4scLOe_"
      },
      "source": [
        "class Encoder_decoder(tf.keras.Model):\n",
        "    \n",
        "    def __init__(self,encoder_inputs_length,decoder_inputs_length, ita_vocab_size, eng_vocab_size):\n",
        "        \n",
        "        super().__init__() \n",
        "        self.encoder_inputs_length =encoder_inputs_length\n",
        "        self.decoder_inputs_length = decoder_inputs_length\n",
        "        self.output_vocab_size = eng_vocab_size\n",
        "        self.input_vocab_size  = ita_vocab_size\n",
        "\n",
        "        \n",
        "    \n",
        "    def build(self, input_shape):\n",
        "      # self,inp_vocab_size,embedding_size,lstm_size,input_length)\n",
        "      self.encoder = Encoder(inp_vocab_size=self.input_vocab_size, embedding_size=20, input_length=self.encoder_inputs_length, lstm_size=64)\n",
        "      # (self,out_vocab_size,embedding_size,lstm_size,input_length)\n",
        "      self.decoder = Decoder(out_vocab_size=self.output_vocab_size, embedding_size=20, input_length=self.decoder_inputs_length, lstm_size=64)\n",
        "      self.dense   = Dense(self.output_vocab_size, activation='softmax',name=\"Enc_Dec_Dense\")\n",
        "\n",
        "\n",
        "    def call(self,data):\n",
        "        '''\n",
        "        A. Pass the input sequence to Encoder layer -- Return encoder_output,encoder_final_state_h,encoder_final_state_c\n",
        "        B. Pass the target sequence to Decoder layer with intial states as encoder_final_state_h,encoder_final_state_C\n",
        "        C. Pass the decoder_outputs into Dense layer\n",
        "        Return decoder_outputs\n",
        "        '''\n",
        "        input,output = data[0], data[1]\n",
        "        encoder_output, encoder_h, encoder_c = self.encoder(input, self.encoder.initialize_states(batch_size=1024)) # you need to pass states too\n",
        "        decoder_output, decoder_h, decoder_h= self.decoder(output, [encoder_h, encoder_c])\n",
        "        output= self.dense(decoder_output)\n",
        "        return output\n",
        "        \n",
        "        "
      ],
      "execution_count": 27,
      "outputs": []
    },
    {
      "cell_type": "code",
      "metadata": {
        "id": "zl_deiKcYrPO"
      },
      "source": [
        "train_dataset = Dataset(train, tknizer_ita, tknizer_eng, 20)\n",
        "test_dataset  = Dataset(validation, tknizer_ita, tknizer_eng, 20)\n",
        "\n",
        "train_dataloader = Dataloder(train_dataset, batch_size=1024)\n",
        "test_dataloader = Dataloder(test_dataset, batch_size=1024)\n"
      ],
      "execution_count": 34,
      "outputs": []
    },
    {
      "cell_type": "code",
      "metadata": {
        "id": "7V2r8TKttZO0"
      },
      "source": [
        "file_path = \"simple_attention.h5\"\n",
        "model_checkpoint_callback = tf.keras.callbacks.ModelCheckpoint(\n",
        "    filepath=file_path,\n",
        "    save_weights_only=True,\n",
        "    monitor='loss',\n",
        "    mode='auto',\n",
        "    save_best_only=False,\n",
        "    save_freq='epoch')\n",
        "\n",
        "model.load_weights(\"/content/simple_attention_30.h5\")\n",
        "\n",
        "class SaveDrive(tf.keras.callbacks.Callback):\n",
        "   def on_epoch_end(self, epoch, logs=None):\n",
        "        !cp \"simple_attention.h5\" \"drive/MyDrive/datasets\""
      ],
      "execution_count": 40,
      "outputs": []
    },
    {
      "cell_type": "code",
      "metadata": {
        "id": "rk7kgDdk4rHU"
      },
      "source": [
        "# encoder_inputs_length,decoder_inputs_length, output_vocab_size, eng_vocab_size\n",
        "model  = Encoder_decoder(encoder_inputs_length=20,decoder_inputs_length=20,ita_vocab_size=vocab_size_ita+1, eng_vocab_size = vocab_size_eng+1)\n",
        "optimizer = tf.keras.optimizers.Adam()\n",
        "model.compile(optimizer=optimizer,loss='sparse_categorical_crossentropy')"
      ],
      "execution_count": 36,
      "outputs": []
    },
    {
      "cell_type": "code",
      "metadata": {
        "colab": {
          "base_uri": "https://localhost:8080/"
        },
        "id": "SYK33GesAeYc",
        "outputId": "0d0ee49f-21cc-4c97-983f-01896c59d09c"
      },
      "source": [
        "tf.config.run_functions_eagerly(True)\n",
        "model_hist = model.fit_generator(train_dataloader, epochs=30, validation_data=test_dataloader, callbacks=[model_checkpoint_callback, SaveDrive()])\n",
        "# model.summary()\n"
      ],
      "execution_count": null,
      "outputs": [
        {
          "output_type": "stream",
          "text": [
            "/usr/local/lib/python3.7/dist-packages/tensorflow/python/keras/engine/training.py:1940: UserWarning: `Model.fit_generator` is deprecated and will be removed in a future version. Please use `Model.fit`, which supports generators.\n",
            "  warnings.warn('`Model.fit_generator` is deprecated and '\n",
            "/usr/local/lib/python3.7/dist-packages/tensorflow/python/data/ops/dataset_ops.py:3704: UserWarning: Even though the `tf.config.experimental_run_functions_eagerly` option is set, this option does not apply to tf.data functions. To force eager execution of tf.data functions, please use `tf.data.experimental.enable.debug_mode()`.\n",
            "  \"Even though the `tf.config.experimental_run_functions_eagerly` \"\n"
          ],
          "name": "stderr"
        },
        {
          "output_type": "stream",
          "text": [
            "Epoch 1/30\n",
            "273/273 [==============================] - 104s 382ms/step - loss: 2.0659 - val_loss: 1.8046\n",
            "Epoch 2/30\n",
            "273/273 [==============================] - 104s 381ms/step - loss: 1.7453 - val_loss: 1.6617\n",
            "Epoch 3/30\n",
            "273/273 [==============================] - 104s 381ms/step - loss: 1.6190 - val_loss: 1.5763\n",
            "Epoch 4/30\n",
            "273/273 [==============================] - 105s 383ms/step - loss: 1.5395 - val_loss: 1.4940\n",
            "Epoch 5/30\n",
            "273/273 [==============================] - 104s 381ms/step - loss: 1.4546 - val_loss: 1.4137\n",
            "Epoch 6/30\n",
            "273/273 [==============================] - 104s 381ms/step - loss: 1.3748 - val_loss: 1.3360\n",
            "Epoch 7/30\n",
            "273/273 [==============================] - 103s 379ms/step - loss: 1.2889 - val_loss: 1.2479\n",
            "Epoch 8/30\n",
            "273/273 [==============================] - 104s 382ms/step - loss: 1.2051 - val_loss: 1.1759\n",
            "Epoch 9/30\n",
            "273/273 [==============================] - 104s 382ms/step - loss: 1.1384 - val_loss: 1.1181\n",
            "Epoch 10/30\n",
            "273/273 [==============================] - 104s 381ms/step - loss: 1.0799 - val_loss: 1.0639\n",
            "Epoch 11/30\n",
            "273/273 [==============================] - 104s 381ms/step - loss: 1.0275 - val_loss: 1.0177\n",
            "Epoch 12/30\n",
            "273/273 [==============================] - 105s 383ms/step - loss: 0.9796 - val_loss: 0.9741\n",
            "Epoch 13/30\n",
            "273/273 [==============================] - 104s 381ms/step - loss: 0.9349 - val_loss: 0.9343\n",
            "Epoch 14/30\n",
            "273/273 [==============================] - 104s 382ms/step - loss: 0.8942 - val_loss: 0.8991\n",
            "Epoch 15/30\n",
            "273/273 [==============================] - 104s 382ms/step - loss: 0.8580 - val_loss: 0.8687\n",
            "Epoch 16/30\n",
            "273/273 [==============================] - 105s 383ms/step - loss: 0.8261 - val_loss: 0.8411\n",
            "Epoch 17/30\n",
            "273/273 [==============================] - 104s 382ms/step - loss: 0.7973 - val_loss: 0.8167\n",
            "Epoch 18/30\n",
            "273/273 [==============================] - 104s 382ms/step - loss: 0.7711 - val_loss: 0.7952\n",
            "Epoch 19/30\n",
            "273/273 [==============================] - 104s 381ms/step - loss: 0.7467 - val_loss: 0.7744\n",
            "Epoch 20/30\n",
            "273/273 [==============================] - 105s 383ms/step - loss: 0.7243 - val_loss: 0.7556\n",
            "Epoch 21/30\n",
            "273/273 [==============================] - 105s 383ms/step - loss: 0.7035 - val_loss: 0.7385\n",
            "Epoch 22/30\n",
            "273/273 [==============================] - 104s 382ms/step - loss: 0.6836 - val_loss: 0.7218\n",
            "Epoch 23/30\n",
            "273/273 [==============================] - 104s 382ms/step - loss: 0.6645 - val_loss: 0.7059\n",
            "Epoch 24/30\n",
            "273/273 [==============================] - 104s 383ms/step - loss: 0.6464 - val_loss: 0.6905\n",
            "Epoch 25/30\n",
            "273/273 [==============================] - 104s 381ms/step - loss: 0.6293 - val_loss: 0.6765\n",
            "Epoch 26/30\n",
            "273/273 [==============================] - 104s 382ms/step - loss: 0.6133 - val_loss: 0.6642\n",
            "Epoch 27/30\n",
            "273/273 [==============================] - 104s 381ms/step - loss: 0.5985 - val_loss: 0.6517\n",
            "Epoch 28/30\n",
            "273/273 [==============================] - 105s 383ms/step - loss: 0.5845 - val_loss: 0.6404\n",
            "Epoch 29/30\n",
            "273/273 [==============================] - 104s 381ms/step - loss: 0.5713 - val_loss: 0.6302\n",
            "Epoch 30/30\n",
            "273/273 [==============================] - 104s 382ms/step - loss: 0.5588 - val_loss: 0.6198\n"
          ],
          "name": "stdout"
        }
      ]
    },
    {
      "cell_type": "code",
      "metadata": {
        "id": "kcL61dJXLOfB",
        "colab": {
          "base_uri": "https://localhost:8080/"
        },
        "outputId": "cc333ea7-9aca-4da6-c001-5016441df568"
      },
      "source": [
        "# Create an object of encoder_decoder Model class, \n",
        "# Compile the model and fit the model\n",
        "model.layers"
      ],
      "execution_count": 41,
      "outputs": [
        {
          "output_type": "execute_result",
          "data": {
            "text/plain": [
              "[<__main__.Encoder at 0x7ff002857650>,\n",
              " <__main__.Decoder at 0x7ff002a25910>,\n",
              " <tensorflow.python.keras.layers.core.Dense at 0x7ff002a25d50>]"
            ]
          },
          "metadata": {
            "tags": []
          },
          "execution_count": 41
        }
      ]
    },
    {
      "cell_type": "code",
      "metadata": {
        "id": "SkARSlZgLOfE"
      },
      "source": [
        "def predict(input_sentence):\n",
        "  '''\n",
        "  A. Given input sentence, convert the sentence into integers using tokenizer used earlier\n",
        "  B. Pass the input_sequence to encoder. we get encoder_outputs, last time step hidden and cell state\n",
        "  C. Initialize index of <start> as input to decoder. and encoder final states as input_states to decoder\n",
        "  D. till we reach max_length of decoder or till the model predicted word <end>:\n",
        "         predicted_out,state_h,state_c=model.layers[1](dec_input,states)\n",
        "         pass the predicted_out to the dense layer\n",
        "         update the states=[state_h,state_c]\n",
        "         And get the index of the word with maximum probability of the dense layer output, using the tokenizer(word index) get the word and then store it in a string.\n",
        "         Update the input_to_decoder with current predictions\n",
        "  F. Return the predicted sentence\n",
        "  '''\n",
        "  input_length = 20\n",
        "  lstm_units = 64\n",
        "  encoder_seq = tknizer_ita.texts_to_sequences([input_sentence]) # need to pass list of values\n",
        "  encoder_seq = pad_sequences(encoder_seq, maxlen=input_length, dtype='int32', padding='post')\n",
        "  # print(\"TOKENIZED DATA :\",encoder_seq.shape)\n",
        "\n",
        "  encoder_output, enc_h, enc_c  = model.layers[0](encoder_seq, np.zeros(shape=(1,64)))\n",
        "  # print(\"ENCODER OUTPUT SHAPES: \",encoder_output.shape, enc_h.shape, enc_c.shape)\n",
        "\n",
        "  dec_input = np.array([[1]+[0]*19]) # max_len=20 and index of <start> is 1\n",
        "  # print(dec_input.shape)\n",
        "  states = [enc_h, enc_c]\n",
        "  result_sentence = \"\"\n",
        "\n",
        "  # print(\"DECODER PART STARTS....\")\n",
        "  for i in range(20):\n",
        "    # print(dec_input[0])\n",
        "    predicted_out,state_h,state_c=model.layers[1](dec_input,states)\n",
        "    dense_op = model.layers[2](predicted_out)\n",
        "    states = [state_h,state_c] #update states to be used in next iter\n",
        "\n",
        "    pred_index = np.argmax(dense_op.numpy()[0][0])\n",
        "    pred_word = tknizer_eng.index_word[pred_index] # get predicted word \n",
        "    if pred_word == \"<end>\":\n",
        "      break\n",
        "    result_sentence += pred_word+\" \"\n",
        "    # print(\"Output for TS %d = %s\"%(i, str(pred_word)))\n",
        "\n",
        "    # give index of pred_word as input to next timestep\n",
        "    dec_input[0][i] = pred_index\n",
        "\n",
        "  return result_sentence\n",
        "\n",
        "\n",
        "\n",
        "\n",
        "\n"
      ],
      "execution_count": 42,
      "outputs": []
    },
    {
      "cell_type": "code",
      "metadata": {
        "id": "EKAVqZ2fztki"
      },
      "source": [
        "import nltk.translate.bleu_score as bleu\n",
        "import random\n",
        "\n",
        "\n",
        "def aveg_bleu_scores(test_data,n):\n",
        "  sample_list = random.sample(range(len(test_data)),n)\n",
        "  average_bleu = 0\n",
        "  pred_data = []\n",
        "\n",
        "  for i in sample_list:\n",
        "    test_sentence, true_sentence = test_data.iloc[i,[0,1]]\n",
        "    pred_sentence = predict(test_sentence)\n",
        "    bleu_score = bleu.sentence_bleu([true_sentence.split()],pred_sentence.split())\n",
        "    average_bleu += bleu_score\n",
        "\n",
        "    pred_data.append((true_sentence, pred_sentence))\n",
        "  \n",
        "  return (average_bleu/n, pred_data)\n"
      ],
      "execution_count": 44,
      "outputs": []
    },
    {
      "cell_type": "code",
      "metadata": {
        "colab": {
          "base_uri": "https://localhost:8080/"
        },
        "id": "wLDfx7Fg06Cr",
        "outputId": "6938dbc6-a5f0-4e2c-ef44-31ae6cfc88ab"
      },
      "source": [
        "# Predict on 1000 random sentences on test data and calculate the average BLEU score of these sentences.\n",
        "# https://www.nltk.org/_modules/nltk/translate/bleu_score.html\n",
        "import warnings\n",
        "warnings.filterwarnings('ignore')\n",
        "\n",
        "test_df = validation.copy()\n",
        "test_df = test_df[[\"italian\",\"english_out\"]]\n",
        "test_df[\"english_out\"] = test_df[\"english_out\"].apply(lambda x: x.split(\"<end>\")[0])\n",
        "\n",
        "average_score, all_scored = aveg_bleu_scores(test_df,1000)\n",
        "print(\"BLEU Score: \",average_score)"
      ],
      "execution_count": 75,
      "outputs": [
        {
          "output_type": "stream",
          "text": [
            "BLEU Score:  0.5506953149031838\n"
          ],
          "name": "stdout"
        }
      ]
    },
    {
      "cell_type": "markdown",
      "metadata": {
        "id": "CxWFDxZXLOfJ"
      },
      "source": [
        " "
      ]
    },
    {
      "cell_type": "markdown",
      "metadata": {
        "id": "yZhX3K9GLOfJ"
      },
      "source": [
        "## Task -2: Including Attention mechanisum"
      ]
    },
    {
      "cell_type": "markdown",
      "metadata": {
        "id": "Q3d7GeBMGbsJ"
      },
      "source": [
        "1. Use the preprocessed data from Task-1\n",
        "\n",
        "2. You have to implement an Encoder and Decoder architecture with  \n",
        "attention as discussed in the reference notebook.\n",
        "\n",
        "    * Encoder   - with 1 layer LSTM <br>\n",
        "    * Decoder   - with 1 layer LSTM<br>\n",
        "    * attention -  (Please refer the <a href= 'https://drive.google.com/file/d/1z_bnc-3aubKawbR6q8wyI6Mh5ho2R1aZ/view?usp=sharing'>**reference notebook**</a> to know more about the attention mechanism.)\n",
        "3. In Global attention, we have 3 types of scoring functions(as discussed in the reference notebook).\n",
        " As a part of this assignment **you need to create 3 models for each scoring function**\n",
        "<img src='https://i.imgur.com/iD2jZo3.png'>\n",
        "\n",
        "    * In model 1 you need to implemnt \"dot\" score function\n",
        "    * In model 2 you need to implemnt \"general\" score function\n",
        "    * In model 3 you need to implemnt \"concat\" score function.<br>\n",
        "    \n",
        " **Please do add the markdown titles for each model so that we can have a better look at the code and verify.**\n",
        "4. It is mandatory to train the model with simple model.fit() only, Donot train the model with custom GradientTape()\n",
        "\n",
        "5. Using attention weights, you can plot the attention plots, \n",
        "please plot those for 2-3 examples. You can check about those in <a href=\"https://www.tensorflow.org/tutorials/text/nmt_with_attention#translate\">this</a>\n"
      ]
    },
    {
      "cell_type": "markdown",
      "metadata": {
        "id": "PU4KIsGxLOfK"
      },
      "source": [
        "### <font color='blue'>**Implement custom encoder decoder and attention layers**</font>"
      ]
    },
    {
      "cell_type": "markdown",
      "metadata": {
        "id": "TMm3ADQDLOfK"
      },
      "source": [
        "<font color='blue'>**Encoder**</font>"
      ]
    },
    {
      "cell_type": "code",
      "metadata": {
        "id": "Lx_5NA24KzRp"
      },
      "source": [
        "class Encoder(tf.keras.Model):\n",
        "    '''\n",
        "    Encoder model -- That takes a input sequence and returns output sequence\n",
        "    '''\n",
        "\n",
        "    def __init__(self,inp_vocab_size,embedding_size,lstm_size,input_length):\n",
        "      super().__init__()\n",
        "      self.inp_vocab_size = inp_vocab_size\n",
        "      self.embedding_size = embedding_size\n",
        "      self.lstm_size = lstm_size\n",
        "      self.input_length = input_length\n",
        "    \n",
        "    def build(self, input_shape):\n",
        "      self.embedding = Embedding(input_dim=self.inp_vocab_size, output_dim=self.embedding_size,\n",
        "                                 input_length = self.input_length, mask_zero=True,name=\"Encoder_Embedding_Layer\")\n",
        "      self.lstm = LSTM(units=self.lstm_size, return_state = True, return_sequences=True, name=\"Encoder_LSTM_Layer\")\n",
        "\n",
        "    def call(self,input_sequence,states):\n",
        "      '''\n",
        "          This function takes a sequence input and the initial states of the encoder.\n",
        "          Pass the input_sequence input to the Embedding layer, Pass the embedding layer ouput to encoder_lstm\n",
        "          returns -- All encoder_outputs, last time steps hidden and cell state\n",
        "      '''\n",
        "      embed = self.embedding(input_sequence)\n",
        "      encoder_output, encoder_h, encoder_c = self.lstm(embed,initial_state=[states[0], states[1]])\n",
        "      return encoder_output, encoder_h, encoder_c\n",
        "\n",
        "    \n",
        "    def initialize_states(self,batch_size):\n",
        "      '''\n",
        "      Given a batch size it will return intial hidden state and intial cell state.\n",
        "      If batch size is 32- Hidden state is zeros of size [32,lstm_units], cell state zeros is of size [32,lstm_units]\n",
        "      '''\n",
        "      initial_h = np.zeros(shape=(batch_size, self.lstm_size))\n",
        "      initial_c = np.zeros(shape=(batch_size, self.lstm_size))\n",
        "\n",
        "      initial_h = tf.convert_to_tensor(initial_h, dtype=tf.float32)\n",
        "      initial_c = tf.convert_to_tensor(initial_c, dtype=tf.float32)\n",
        "\n",
        "      return (initial_h, initial_c)\n",
        "      \n"
      ],
      "execution_count": 76,
      "outputs": []
    },
    {
      "cell_type": "markdown",
      "metadata": {
        "id": "4ub9aN-hK244"
      },
      "source": [
        "<font color='cyan'>**Grader function - 1**</font>"
      ]
    },
    {
      "cell_type": "code",
      "metadata": {
        "id": "wRoe65b9LB0D",
        "colab": {
          "base_uri": "https://localhost:8080/"
        },
        "outputId": "d2813d80-6d67-4679-9967-48a982e44d28"
      },
      "source": [
        "def grader_check_encoder():\n",
        "    \n",
        "    '''\n",
        "        vocab-size: Unique words of the input language,\n",
        "        embedding_size: output embedding dimension for each word after embedding layer,\n",
        "        lstm_size: Number of lstm units in encoder,\n",
        "        input_length: Length of the input sentence,\n",
        "        batch_size\n",
        "    '''\n",
        "    \n",
        "    vocab_size=10\n",
        "    embedding_size=20\n",
        "    lstm_size=32\n",
        "    input_length=10\n",
        "    batch_size=16\n",
        "    encoder=Encoder(vocab_size,embedding_size,lstm_size,input_length)\n",
        "    input_sequence=tf.random.uniform(shape=[batch_size,input_length],maxval=vocab_size,minval=0,dtype=tf.int32)\n",
        "    initial_state=encoder.initialize_states(batch_size)\n",
        "    encoder_output,state_h,state_c=encoder(input_sequence,initial_state)\n",
        "    \n",
        "    assert(encoder_output.shape==(batch_size,input_length,lstm_size) and state_h.shape==(batch_size,lstm_size) and state_c.shape==(batch_size,lstm_size))\n",
        "    return True\n",
        "print(grader_check_encoder())"
      ],
      "execution_count": 77,
      "outputs": [
        {
          "output_type": "stream",
          "text": [
            "True\n"
          ],
          "name": "stdout"
        }
      ]
    },
    {
      "cell_type": "markdown",
      "metadata": {
        "id": "lXn278lhLYRM"
      },
      "source": [
        "<font color='blue'>**Attention**</font>"
      ]
    },
    {
      "cell_type": "code",
      "metadata": {
        "colab": {
          "base_uri": "https://localhost:8080/"
        },
        "id": "X4NUF2RYM-59",
        "outputId": "99551b73-baec-4128-bd12-fb9fa94bd4a1"
      },
      "source": [
        "a = tf.ones(shape=(1,20,1))\n",
        "tf.squeeze(a, axis=-1).shape"
      ],
      "execution_count": 78,
      "outputs": [
        {
          "output_type": "execute_result",
          "data": {
            "text/plain": [
              "TensorShape([1, 20])"
            ]
          },
          "metadata": {
            "tags": []
          },
          "execution_count": 78
        }
      ]
    },
    {
      "cell_type": "code",
      "metadata": {
        "id": "ikzOvqRvYRRH"
      },
      "source": [
        "class Attention(tf.keras.layers.Layer):\n",
        "  '''\n",
        "    Class the calculates score based on the scoring_function using Bahdanu attention mechanism.\n",
        "  '''\n",
        "  def __init__(self,scoring_function, att_units):\n",
        "    super().__init__()\n",
        "    self.scoring_function = scoring_function\n",
        "    self.att_units = att_units\n",
        "\n",
        "\n",
        "    # Please go through the reference notebook and research paper to complete the scoring functions\n",
        "    if self.scoring_function=='dot':\n",
        "      # Intialize variables needed for Dot score function here\n",
        "      pass\n",
        "    if scoring_function == 'general':\n",
        "      # Intialize variables needed for General score function here\n",
        "      pass\n",
        "    elif scoring_function == 'concat':\n",
        "      # Intialize variables needed for Concat score function here\n",
        "      pass\n",
        "  \n",
        "  \n",
        "  def build(self, input_shape):\n",
        "    self.softmax = Softmax()\n",
        "    \n",
        "  def call(self,decoder_hidden_state,encoder_output):\n",
        "    '''\n",
        "      Attention mechanism takes two inputs current step -- decoder_hidden_state and all the encoder_outputs.\n",
        "      * Based on the scoring function we will find the score or similarity between decoder_hidden_state and encoder_output.\n",
        "        Multiply the score function with your encoder_outputs to get the context vector.\n",
        "        Function returns context vector and attention weights(softmax - scores)\n",
        "    '''\n",
        "    \n",
        "    if self.scoring_function == 'dot':\n",
        "\n",
        "        decoder_hidden_state = Reshape(target_shape=(decoder_hidden_state.shape[1],1))(decoder_hidden_state)\n",
        "        dot_layer = Dot(axes=(2,1))([encoder_output,decoder_hidden_state])\n",
        "        dot_layer = tf.squeeze(dot_layer)\n",
        "\n",
        "        softmax_layer = self.softmax(dot_layer)\n",
        "\n",
        "        # weighted context_vector\n",
        "        weights_squeezed = softmax_layer # bat,timesteps\n",
        "        encoder_ops = encoder_output # bat,timesteps,enc_units\n",
        "\n",
        "        # multiply weights and add to get context_vector\n",
        "        weights = tf.expand_dims(weights_squeezed, axis=-1)\n",
        "        multiply_weights = tf.multiply(encoder_ops, weights)\n",
        "\n",
        "        context_vector = tf.math.reduce_sum(multiply_weights, axis=-2)\n",
        "\n",
        "        return context_vector, weights\n",
        "        \n",
        "    elif self.scoring_function == 'general':\n",
        "      decoder_hidden_state = Dense(encoder_output.shape[-1])(decoder_hidden_state)\n",
        "      # print(\"1: \",decoder_hidden_state.shape)\n",
        "      decoder_hidden_state = Reshape(target_shape=(decoder_hidden_state.shape[1],1))(decoder_hidden_state)\n",
        "      # print(\"2: \",decoder_hidden_state.shape)\n",
        "\n",
        "      dot_layer = Dot(axes=(2,1))([encoder_output,decoder_hidden_state])\n",
        "      # print(\"3 : \",dot_layer.shape)\n",
        "      squeezed_dot_layer = tf.squeeze(dot_layer, axis=-1)\n",
        "      # print(\"4a : \",squeezed_dot_layer.shape)\n",
        "      softmax_layer_weights = Softmax()(squeezed_dot_layer) # bat, timesteps\n",
        "      # print(\"4b : \",softmax_layer_weights.shape)\n",
        "\n",
        "      # encoder_ops = encoder_output.numpy() # bat,timesteps,enc_units\n",
        "      # multiply weights and add to get context_vector\n",
        "      # print(softmax_layer_weights.shape)\n",
        "      weights = Reshape(target_shape=(softmax_layer_weights.shape[1],1))(softmax_layer_weights) # bat,timesteps, 1\n",
        "      multiply_weights = tf.multiply(encoder_output, weights)\n",
        "      context_vector = tf.math.reduce_sum(multiply_weights, axis=-2)\n",
        "\n",
        "      return context_vector, weights\n",
        "\n",
        "    elif self.scoring_function == 'concat':\n",
        "      k = 64\n",
        "      encoder_timesteps = encoder_output.shape[1]\n",
        "\n",
        "      dense_d = Dense(k)(decoder_hidden_state) #bat, K\n",
        "      dense_e = Dense(k)(encoder_output) # bat,time_steps, K\n",
        "\n",
        "      # concat and tanH\n",
        "      expand = tf.expand_dims(dense_d,axis=1)\n",
        "      tiled = tf.tile(expand, multiples=[1,encoder_timesteps,1])\n",
        "      concat = tf.concat([dense_e, tiled], axis=-1) #bat,time_steps, 2*K\n",
        "\n",
        "      tanh = tf.keras.activations.tanh(concat) #bat,time_steps, 2*K\n",
        "      w = Dense(1)(tanh) #bat,time_steps, 1\n",
        "\n",
        "      # multiply weights and add to get context_vector\n",
        "      weights = Reshape(target_shape=(w.shape[1],1))(w) # bat,timesteps, 1\n",
        "      multiply_weights = tf.multiply(encoder_output, weights)\n",
        "      context_vector = tf.math.reduce_sum(multiply_weights, axis=-2)\n",
        "\n",
        "      return context_vector, weights\n",
        "      \n",
        "    \n",
        "    \n",
        "    "
      ],
      "execution_count": 79,
      "outputs": []
    },
    {
      "cell_type": "markdown",
      "metadata": {
        "id": "ExQDlxI9LuqK"
      },
      "source": [
        "<font color='cyan'>**Grader function - 2**</font>"
      ]
    },
    {
      "cell_type": "code",
      "metadata": {
        "id": "51x50h_TLrl9",
        "colab": {
          "base_uri": "https://localhost:8080/"
        },
        "outputId": "90a91252-d1d6-47b1-f705-35aa6865af16"
      },
      "source": [
        "def grader_check_attention(scoring_fun):\n",
        "    \n",
        "    ''' \n",
        "        att_units: Used in matrix multiplications for scoring functions,\n",
        "        input_length: Length of the input sentence,\n",
        "        batch_size\n",
        "    '''\n",
        "    \n",
        "    input_length=10\n",
        "    batch_size=16\n",
        "    att_units=32\n",
        "    \n",
        "    state_h=tf.random.uniform(shape=[batch_size,att_units])\n",
        "    encoder_output=tf.random.uniform(shape=[batch_size,input_length,att_units])\n",
        "    attention=Attention(scoring_fun,att_units)\n",
        "    context_vector,attention_weights=attention(state_h,encoder_output)\n",
        "    assert(context_vector.shape==(batch_size,att_units) and attention_weights.shape==(batch_size,input_length,1))\n",
        "    return True\n",
        "\n",
        "print(grader_check_attention('dot'))\n",
        "print(grader_check_attention('general'))\n",
        "print(grader_check_attention('concat'))"
      ],
      "execution_count": 80,
      "outputs": [
        {
          "output_type": "stream",
          "text": [
            "True\n",
            "True\n",
            "True\n"
          ],
          "name": "stdout"
        }
      ]
    },
    {
      "cell_type": "markdown",
      "metadata": {
        "id": "ic-FNEbfL2DN"
      },
      "source": [
        "<font color='blue'>**OneStepDecoder**</font>"
      ]
    },
    {
      "cell_type": "code",
      "metadata": {
        "id": "Kc8m7lmOL097"
      },
      "source": [
        "class One_Step_Decoder(tf.keras.Model):\n",
        "  def __init__(self,tar_vocab_size, embedding_dim, input_length, dec_units ,score_fun ,att_units):\n",
        "    super().__init__()\n",
        "    self.tar_vocab_size = tar_vocab_size\n",
        "    self.embedding_dim = embedding_dim\n",
        "    self.input_length = input_length \n",
        "    self.dec_units = dec_units\n",
        "    self.score_fun = score_fun\n",
        "    self.att_units = att_units\n",
        "\n",
        "    # Initialize decoder embedding layer, LSTM and any other objects needed\n",
        "  def build(self,input_shape):\n",
        "    self.embedding = Embedding(input_dim=self.tar_vocab_size, output_dim=self.embedding_dim,\n",
        "                              input_length=self.input_length, mask_zero=True,name=\"OHE_Embedding\")\n",
        "    self.lstm = LSTM(units=self.dec_units,return_state = True, return_sequences=True, name=\"OHE_LSTM_Layer\")\n",
        "    self.attention = Attention(self.score_fun,self.att_units)\n",
        "    self.dense_layer = Dense(self.tar_vocab_size)\n",
        "\n",
        "\n",
        "  def call(self,input_to_decoder, encoder_output, state_h,state_c):\n",
        "    '''\n",
        "        One step decoder mechanisim step by step:\n",
        "      A. Pass the input_to_decoder to the embedding layer and then get the output(batch_size,1,embedding_dim)\n",
        "      B. Using the encoder_output and decoder hidden state, compute the context vector.\n",
        "      C. Concat the context vector with the step A output\n",
        "      D. Pass the Step-C output to LSTM/GRU and get the decoder output and states(hidden and cell state)\n",
        "      E. Pass the decoder output to dense layer(vocab size) and store the result into output.\n",
        "      F. Return the states from step D, output from Step E, attention weights from Step -B\n",
        "    '''\n",
        "\n",
        "    embed = self.embedding(input_to_decoder) #32,1,12\n",
        "    context_vector, weights = self.attention(state_h, encoder_output) #32,16\n",
        "    context_vector_exp = tf.expand_dims(context_vector, axis=1) #32,16 -> 32,1,16\n",
        "    concat = tf.concat([embed,context_vector_exp],axis=-1) #32,1,28 \n",
        "\n",
        "    decoder_output, decoder_h, decoder_c = self.lstm(concat, initial_state=[state_h, state_c]) #(32, 1, 16) (32, 16)\n",
        "    dense = self.dense_layer(decoder_output)  #(32, 1, 13)\n",
        "\n",
        "    output = tf.squeeze(dense)  #(32, 1, 13) -> (32,13)\n",
        "    # return output, state_h, state_c, weights, context_vector\n",
        "    return output, decoder_h, decoder_c, weights, context_vector\n",
        "    \n"
      ],
      "execution_count": 82,
      "outputs": []
    },
    {
      "cell_type": "markdown",
      "metadata": {
        "id": "R_I8I4EIMAXq"
      },
      "source": [
        "<font color='cyan'>**Grader function - 3**</font>"
      ]
    },
    {
      "cell_type": "code",
      "metadata": {
        "id": "uLEXhChnMC1k",
        "colab": {
          "base_uri": "https://localhost:8080/"
        },
        "outputId": "700b9a0f-5efe-4f67-a242-572829992058"
      },
      "source": [
        "def grader_onestepdecoder(score_fun):  \n",
        "    '''\n",
        "        tar_vocab_size: Unique words of the target language,\n",
        "        embedding_dim: output embedding dimension for each word after embedding layer,\n",
        "        dec_units: Number of lstm units in decoder,\n",
        "        att_units: Used in matrix multiplications for scoring functions in attention class,\n",
        "        input_length: Length of the target sentence,\n",
        "        batch_size   \n",
        "    '''\n",
        "    tar_vocab_size=13 \n",
        "    embedding_dim=12 \n",
        "    input_length=10\n",
        "    dec_units=16 \n",
        "    att_units=16\n",
        "    batch_size=32\n",
        "    onestepdecoder=One_Step_Decoder(tar_vocab_size, embedding_dim, input_length, dec_units ,score_fun ,att_units)\n",
        "    input_to_decoder=tf.random.uniform(shape=(batch_size,1),maxval=10,minval=0,dtype=tf.int32)\n",
        "    encoder_output=tf.random.uniform(shape=[batch_size,input_length,dec_units])\n",
        "    state_h=tf.random.uniform(shape=[batch_size,dec_units])\n",
        "    state_c=tf.random.uniform(shape=[batch_size,dec_units])\n",
        "    output,state_h,state_c,attention_weights,context_vector=onestepdecoder(input_to_decoder,encoder_output,state_h,state_c)\n",
        "    assert(output.shape==(batch_size,tar_vocab_size))\n",
        "    assert(state_h.shape==(batch_size,dec_units))\n",
        "    assert(state_c.shape==(batch_size,dec_units))\n",
        "    assert(attention_weights.shape==(batch_size,input_length,1))\n",
        "    assert(context_vector.shape==(batch_size,dec_units))\n",
        "    return True\n",
        "    \n",
        "print(grader_onestepdecoder('dot'))\n",
        "print(grader_onestepdecoder('general'))\n",
        "print(grader_onestepdecoder('concat'))\n",
        "    "
      ],
      "execution_count": 83,
      "outputs": [
        {
          "output_type": "stream",
          "text": [
            "True\n",
            "True\n",
            "True\n"
          ],
          "name": "stdout"
        }
      ]
    },
    {
      "cell_type": "markdown",
      "metadata": {
        "id": "6FHrurjUMGAi"
      },
      "source": [
        "<font color='blue'>**Decoder**</font>"
      ]
    },
    {
      "cell_type": "code",
      "metadata": {
        "id": "NV-x31rj6Hc4"
      },
      "source": [
        "class Decoder(tf.keras.Model):\n",
        "    def __init__(self,out_vocab_size, embedding_dim, input_length, dec_units ,score_fun ,att_units):\n",
        "      #Intialize necessary variables and create an object from the class onestepdecoder\n",
        "      super().__init__()\n",
        "      self.out_vocab_size = out_vocab_size\n",
        "      self.embedding_dim = embedding_dim\n",
        "      self.input_length = input_length \n",
        "      self.dec_units = dec_units\n",
        "      self.score_fun = score_fun\n",
        "      self.att_units = att_units\n",
        "\n",
        "    def build(self, input_shape):\n",
        "      self.onestepdecoder = One_Step_Decoder(self.out_vocab_size, self.embedding_dim, \n",
        "                                             self.input_length, self.dec_units, self.score_fun, self.att_units)\n",
        "\n",
        "        \n",
        "    def call(self, input_to_decoder,encoder_output,decoder_hidden_state,decoder_cell_state ):\n",
        "\n",
        "      #Initialize an empty Tensor array, that will store the outputs at each and every time step\n",
        "      tf_output = tf.TensorArray(dtype=tf.float32, size=self.input_length, name=\"tf_output_array\")\n",
        "      \n",
        "      #Iterate till the length of the decoder input\n",
        "      for timestep in range(self.input_length):\n",
        "        # Call onestepdecoder for each token in decoder_input\n",
        "        output,state_h,state_c,attention_weights,context_vector = self.onestepdecoder(input_to_decoder[:,timestep:timestep+1],\n",
        "                                                                                      encoder_output,decoder_hidden_state,decoder_cell_state)\n",
        "        tf_output = tf_output.write(timestep, output)\n",
        "        decoder_hidden_state = state_h\n",
        "        decoder_cell_state = state_c\n",
        "      \n",
        "      # Return the tensor array\n",
        "      tf_output = tf.transpose(tf_output.stack(),[1,0,2])\n",
        "      return tf_output\n",
        "        \n",
        "        "
      ],
      "execution_count": 84,
      "outputs": []
    },
    {
      "cell_type": "markdown",
      "metadata": {
        "id": "FxrL-P8bMJH6"
      },
      "source": [
        "<font color='cyan'>**Grader function - 4**</font>"
      ]
    },
    {
      "cell_type": "code",
      "metadata": {
        "id": "rtbx6onFMJXb",
        "colab": {
          "base_uri": "https://localhost:8080/"
        },
        "outputId": "c2531185-f54c-49c0-df5a-365d26fd297e"
      },
      "source": [
        "def grader_decoder(score_fun):\n",
        "    \n",
        "    '''\n",
        "        out_vocab_size: Unique words of the target language,\n",
        "        embedding_dim: output embedding dimension for each word after embedding layer,\n",
        "        dec_units: Number of lstm units in decoder,\n",
        "        att_units: Used in matrix multiplications for scoring functions in attention class,\n",
        "        input_length: Length of the target sentence,\n",
        "        batch_size\n",
        "        \n",
        "    \n",
        "    '''\n",
        "    \n",
        "    out_vocab_size=13 \n",
        "    embedding_dim=12 \n",
        "    input_length=11\n",
        "    dec_units=16 \n",
        "    att_units=16\n",
        "    batch_size=32\n",
        "    \n",
        "    target_sentences=tf.random.uniform(shape=(batch_size,input_length),maxval=10,minval=0,dtype=tf.int32)\n",
        "    encoder_output=tf.random.uniform(shape=[batch_size,input_length,dec_units])\n",
        "    state_h=tf.random.uniform(shape=[batch_size,dec_units])\n",
        "    state_c=tf.random.uniform(shape=[batch_size,dec_units])\n",
        "    \n",
        "    decoder=Decoder(out_vocab_size, embedding_dim, input_length, dec_units ,score_fun ,att_units)\n",
        "    output=decoder(target_sentences,encoder_output, state_h, state_c)\n",
        "    assert(output.shape==(batch_size,input_length,out_vocab_size))\n",
        "    return True\n",
        "print(grader_decoder('dot'))\n",
        "print(grader_decoder('general'))\n",
        "print(grader_decoder('concat'))"
      ],
      "execution_count": 85,
      "outputs": [
        {
          "output_type": "stream",
          "text": [
            "True\n",
            "True\n",
            "True\n"
          ],
          "name": "stdout"
        }
      ]
    },
    {
      "cell_type": "markdown",
      "metadata": {
        "id": "fC1T1EOoMTqC"
      },
      "source": [
        "<font color='blue'>**Encoder Decoder model**</font>"
      ]
    },
    {
      "cell_type": "code",
      "metadata": {
        "id": "FfqBIe20MT3D"
      },
      "source": [
        "class encoder_decoder(tf.keras.Model):\n",
        "  def __init__(self,inp_vocab_size,out_vocab_size, embedding_size,lstm_size, input_length, scoring_fun, att_units,batch_size):\n",
        "    #Intialize objects from encoder decoder\n",
        "    super().__init__()\n",
        "    self.inp_vocab_size = inp_vocab_size\n",
        "    self.out_vocab_size = out_vocab_size\n",
        "    self.embedding_size = embedding_size\n",
        "    self.lstm_size = lstm_size\n",
        "    self.input_length = input_length\n",
        "    self.scoring_fun = scoring_fun\n",
        "    self.att_units = att_units\n",
        "    self.batch_size = batch_size\n",
        "\n",
        "  def build(self, input_shape):\n",
        "    self.encoder = Encoder(self.inp_vocab_size,self.embedding_size,self.lstm_size,self.input_length)\n",
        "    self.decoder=Decoder(self.out_vocab_size, self.embedding_size, self.input_length, self.lstm_size ,self.scoring_fun ,self.att_units)\n",
        "\n",
        "\n",
        "  def call(self,data):\n",
        "    #Intialize encoder states, Pass the encoder_sequence to the embedding layer\n",
        "    # Decoder initial states are encoder final states, Initialize it accordingly\n",
        "    # Pass the decoder sequence,encoder_output,decoder states to Decoder\n",
        "    # return the decoder output\n",
        "    input_sequences, target_sentences = data[0], data[1]\n",
        "    enc_initial_state = self.encoder.initialize_states(self.batch_size)\n",
        "    encoder_output, state_h, state_c = self.encoder(input_sequences,enc_initial_state)\n",
        "\n",
        "    # teacher training\n",
        "    decoder_output = self.decoder(target_sentences,encoder_output, state_h, state_c)\n",
        "    return decoder_output\n",
        "\n"
      ],
      "execution_count": 86,
      "outputs": []
    },
    {
      "cell_type": "markdown",
      "metadata": {
        "id": "WVRxB-FDMJWL"
      },
      "source": [
        "<font color='blue'>**Custom loss function**</font>"
      ]
    },
    {
      "cell_type": "code",
      "metadata": {
        "id": "QY_3izrXMs8y"
      },
      "source": [
        "\n",
        "# Refer https://www.tensorflow.org/tutorials/text/nmt_with_attention#define_the_optimizer_and_the_loss_function\n",
        "\n",
        "def custom_lossfunction(targets,logits):\n",
        "  loss_object = tf.keras.losses.SparseCategoricalCrossentropy(\n",
        "    from_logits=True, reduction='none')\n",
        "  mask = tf.math.logical_not(tf.math.equal(targets, 0))\n",
        "  loss_ = loss_object(targets, logits)\n",
        "  mask = tf.cast(mask, dtype=loss_.dtype)\n",
        "  loss_ *= mask\n",
        "  return tf.reduce_mean(loss_)\n",
        "\n",
        "\n",
        "optimizer = tf.keras.optimizers.Adam(learning_rate=0.01)"
      ],
      "execution_count": 87,
      "outputs": []
    },
    {
      "cell_type": "markdown",
      "metadata": {
        "id": "2QlbWAqNNlqe"
      },
      "source": [
        "# Training Model with Dot "
      ]
    },
    {
      "cell_type": "code",
      "metadata": {
        "colab": {
          "base_uri": "https://localhost:8080/"
        },
        "id": "bAhFPrK-V0Ox",
        "outputId": "3758a456-5552-4ad4-b6f1-e71aae5f7ed2"
      },
      "source": [
        "train_dataset = Dataset(train, tknizer_ita, tknizer_eng, 20)\n",
        "test_dataset  = Dataset(validation, tknizer_ita, tknizer_eng, 20)\n",
        "train_dataloader = Dataloder(train_dataset, batch_size=512)\n",
        "test_dataloader = Dataloder(test_dataset, batch_size=512)\n",
        "print(train_dataloader[0][0][0].shape, train_dataloader[0][0][1].shape, train_dataloader[0][1].shape)\n",
        "\n",
        "file_path = \"attention_general.h5\"\n",
        "model_checkpoint_callback = tf.keras.callbacks.ModelCheckpoint(\n",
        "    filepath=file_path,\n",
        "    save_weights_only=True,\n",
        "    monitor='loss',\n",
        "    mode='auto',\n",
        "    save_best_only=False,\n",
        "    save_freq='epoch')\n",
        "\n",
        "class SaveDrive(tf.keras.callbacks.Callback):\n",
        "   def on_epoch_end(self, epoch, logs=None):\n",
        "        !cp \"attention_40_Plus.h5\" \"drive/MyDrive/Datasets\""
      ],
      "execution_count": 88,
      "outputs": [
        {
          "output_type": "stream",
          "text": [
            "(512, 20) (512, 20) (512, 20)\n"
          ],
          "name": "stdout"
        }
      ]
    },
    {
      "cell_type": "code",
      "metadata": {
        "id": "PbfINkUiVcGO"
      },
      "source": [
        "model_dot = encoder_decoder(inp_vocab_size=vocab_size_ita+1,\n",
        "                        out_vocab_size=vocab_size_eng+1, \n",
        "                        embedding_size=20,\n",
        "                        lstm_size=32,\n",
        "                        input_length=20, \n",
        "                        scoring_fun='dot',\n",
        "                        att_units=32,\n",
        "                        batch_size=512)\n",
        "\n",
        "model_dot.compile(optimizer=optimizer, \n",
        "                  loss=custom_lossfunction)"
      ],
      "execution_count": 89,
      "outputs": []
    },
    {
      "cell_type": "code",
      "metadata": {
        "id": "G1TzjW9vONO4"
      },
      "source": [
        "# Loading the model trained previously for 80 epochs\n",
        "model_dot.load_weights(\"/content/attention_latest_Jul_10_80_Epochs.h5\")\n",
        "\n",
        "class SaveDrive(tf.keras.callbacks.Callback):\n",
        "   def on_epoch_end(self, epoch, logs=None):\n",
        "        !cp \"attention_40_Plus.h5\" \"drive/MyDrive/Datasets\""
      ],
      "execution_count": 92,
      "outputs": []
    },
    {
      "cell_type": "code",
      "metadata": {
        "id": "QDceWNnBWPRH"
      },
      "source": [
        "tf.config.run_functions_eagerly(True)\n",
        "hist_dot = model_dot.fit_generator(train_dataloader, \n",
        "                                   epochs=30, \n",
        "                                   validation_data=test_dataloader,\n",
        "                                   callbacks = [model_checkpoint_callback,SaveDrive()])"
      ],
      "execution_count": 93,
      "outputs": []
    },
    {
      "cell_type": "markdown",
      "metadata": {
        "id": "6DpC9zlzMcXp"
      },
      "source": [
        "## <font color='blue'>**Inference**</font>"
      ]
    },
    {
      "cell_type": "markdown",
      "metadata": {
        "id": "Z5NhESYyMW_t"
      },
      "source": [
        "<font color='blue'>**Plot attention weights**</font>"
      ]
    },
    {
      "cell_type": "code",
      "metadata": {
        "id": "wwN8tqHJP32H"
      },
      "source": [
        "import matplotlib.ticker as ticker\n",
        "\n",
        "def plot_attention(attention, sentence, predicted_sentence):\n",
        "  sentence = [\"<start>\"]+sentence.split()+[\"<end>\"]\n",
        "  predicted_sentence = predicted_sentence.split()[:-1] + ['<end>']\n",
        "  fig = plt.figure(figsize=(7, 7))\n",
        "  ax = fig.add_subplot(1, 1, 1)\n",
        "\n",
        "  attention = attention[:len(predicted_sentence), :len(sentence)]\n",
        "  ax.matshow(attention, cmap='viridis', vmin=0.0)\n",
        "  fontdict = {'fontsize': 14}\n",
        "\n",
        "  ax.set_xticklabels([''] + sentence, fontdict=fontdict, rotation=90)\n",
        "  ax.set_yticklabels([''] + predicted_sentence, fontdict=fontdict)\n",
        "  ax.xaxis.set_major_locator(ticker.MultipleLocator(1))\n",
        "  ax.yaxis.set_major_locator(ticker.MultipleLocator(1))\n",
        "\n",
        "  ax.set_xlabel('Input text')\n",
        "  ax.set_ylabel('Output text')\n",
        "  plt.suptitle('Attention weights')"
      ],
      "execution_count": 98,
      "outputs": []
    },
    {
      "cell_type": "markdown",
      "metadata": {
        "id": "e1IhdBrgQYJr"
      },
      "source": [
        "<font color='blue'>**Predict the sentence translation**</font>"
      ]
    },
    {
      "cell_type": "code",
      "metadata": {
        "id": "MP3kLZoPMvSu"
      },
      "source": [
        "def predict(input_sentence):\n",
        "  '''\n",
        "  A. Given input sentence, convert the sentence into integers using tokenizer used earlier\n",
        "  B. Pass the input_sequence to encoder. we get encoder_outputs, last time step hidden and cell state\n",
        "  C. Initialize index of <start> as input to decoder. and encoder final states as input_states to onestepdecoder.\n",
        "  D. till we reach max_length of decoder or till the model predicted word <end>:\n",
        "         predictions, input_states, attention_weights = model.layers[1].onestepdecoder(input_to_decoder, encoder_output, input_states)\n",
        "         Save the attention weights\n",
        "         And get the word using the tokenizer(word index) and then store it in a string.\n",
        "  E. Call plot_attention(#params)\n",
        "  F. Return the predicted sentence\n",
        "  \n",
        "  '''\n",
        "  input_length = 20\n",
        "  lstm_units = 32\n",
        "  batch_size = 1\n",
        "\n",
        "  encoder_seq = tknizer_ita.texts_to_sequences([input_sentence]) # need to pass list of values\n",
        "  encoder_seq = pad_sequences(encoder_seq, maxlen=input_length, dtype='int32', padding='post')\n",
        "  encoder_output, state_h, state_c = model_dot.layers[0](encoder_seq, model_dot.layers[0].initialize_states(batch_size))\n",
        "\n",
        "  cur_vec = np.ones((1,1))\n",
        "  cur_vec[0,0] = tknizer_eng.word_index['<start>']\n",
        "  result_sentence = \"\"\n",
        "  weights_arr = []\n",
        "\n",
        "  for i in range(20):\n",
        "    predictions,dec_state_h,dec_state_c,attention_weights,context_vector = model_dot.layers[1].onestepdecoder(cur_vec, encoder_output, state_h, state_c)\n",
        "    cur_vec = np.reshape(np.argmax(predictions),(1,1))\n",
        "    state_h = dec_state_h\n",
        "    state_c = dec_state_c\n",
        "    index= np.argmax(predictions)\n",
        "    weights_arr.append(attention_weights.numpy())\n",
        "    \n",
        "    if i==0:\n",
        "      # print(index)\n",
        "      continue\n",
        "\n",
        "    if tknizer_eng.index_word[index] == \"<end>\":\n",
        "      return result_sentence,np.array(weights_arr)\n",
        "    result_sentence += tknizer_eng.index_word[index] + \" \"\n",
        "    \n",
        "  # print(weights_arr)\n",
        "  return result_sentence,np.array(weights_arr)\n"
      ],
      "execution_count": 99,
      "outputs": []
    },
    {
      "cell_type": "code",
      "metadata": {
        "colab": {
          "base_uri": "https://localhost:8080/",
          "height": 1000
        },
        "id": "mAMNgoWqK4gu",
        "outputId": "68e27146-791e-4d7d-9883-6e379aa80e7a"
      },
      "source": [
        "for index in np.random.randint(1,1000,5):\n",
        "  ita_sentence = test_df.iloc[index][\"italian\"]\n",
        "  res,att = predict(ita_sentence)\n",
        "  att = np.sum(att, axis=-1)\n",
        "  plot_attention(att, ita_sentence, res)"
      ],
      "execution_count": 105,
      "outputs": [
        {
          "output_type": "display_data",
          "data": {
            "image/png": "[encoded data removed]",
            "text/plain": [
              "<Figure size 504x504 with 1 Axes>"
            ]
          },
          "metadata": {
            "tags": [],
            "needs_background": "light"
          }
        },
        {
          "output_type": "display_data",
          "data": {
            "image/png": "[encoded data removed]",
            "text/plain": [
              "<Figure size 504x504 with 1 Axes>"
            ]
          },
          "metadata": {
            "tags": [],
            "needs_background": "light"
          }
        },
        {
          "output_type": "display_data",
          "data": {
            "image/png": "[encoded data removed]",
            "text/plain": [
              "<Figure size 504x504 with 1 Axes>"
            ]
          },
          "metadata": {
            "tags": [],
            "needs_background": "light"
          }
        },
        {
          "output_type": "display_data",
          "data": {
            "image/png": "[encoded data removed]",
            "text/plain": [
              "<Figure size 504x504 with 1 Axes>"
            ]
          },
          "metadata": {
            "tags": [],
            "needs_background": "light"
          }
        },
        {
          "output_type": "display_data",
          "data": {
            "image/png": "[encoded data removed]",
            "text/plain": [
              "<Figure size 504x504 with 1 Axes>"
            ]
          },
          "metadata": {
            "tags": [],
            "needs_background": "light"
          }
        }
      ]
    },
    {
      "cell_type": "markdown",
      "metadata": {
        "id": "jmxIVOOQPWMu"
      },
      "source": [
        "<font color='blue'>**Calculate BLEU score**</font>"
      ]
    },
    {
      "cell_type": "code",
      "metadata": {
        "id": "vjr8pRvVQjXv"
      },
      "source": [
        "from nltk.translate.bleu_score import SmoothingFunction\n",
        "smoothie = SmoothingFunction().method1\n",
        "\n",
        "def aveg_bleu_scores(test_data,n):\n",
        "  sample_list = random.sample(range(len(test_data)),n)\n",
        "  average_bleu = 0\n",
        "  pred_data = []\n",
        "  individual_bleu = []\n",
        "\n",
        "  for i in sample_list:\n",
        "    test_sentence, true_sentence = test_data.iloc[i,[0,1]]\n",
        "    pred_sentence, att = predict(test_sentence)\n",
        "    bleu_score = bleu.sentence_bleu([true_sentence.split()],pred_sentence.split())\n",
        "    average_bleu += bleu_score\n",
        "\n",
        "    # pred_data.append((true_sentence, pred_sentence))\n",
        "    individual_bleu.append(bleu_score)\n",
        "  \n",
        "  return average_bleu/n, individual_bleu"
      ],
      "execution_count": 106,
      "outputs": []
    },
    {
      "cell_type": "code",
      "metadata": {
        "id": "0iHiLdROM23l",
        "colab": {
          "base_uri": "https://localhost:8080/"
        },
        "outputId": "888bd56d-7bfb-4ff0-8dff-c7c4af1abd5a"
      },
      "source": [
        "#Create an object of your custom model.\n",
        "#Compile and train your model on dot scoring function.\n",
        "# Visualize few sentences randomly in Test data\n",
        "# Predict on 1000 random sentences on test data and calculate the average BLEU score of these sentences.\n",
        "# https://www.nltk.org/_modules/nltk/translate/bleu_score.html\n",
        "import nltk.translate.bleu_score as bleu\n",
        "import random\n",
        "\n",
        "test_df = validation.copy()\n",
        "test_df = test_df[[\"italian\",\"english_out\"]]\n",
        "test_df[\"english_out\"] = test_df[\"english_out\"].apply(lambda x: x.split(\"<end>\")[0])\n",
        "\n",
        "avg_score, individual_score = aveg_bleu_scores(test_df,1000)\n",
        "print(\"Average BLEU score: \",avg_score)"
      ],
      "execution_count": 115,
      "outputs": [
        {
          "output_type": "stream",
          "text": [
            "Average BLEU score:  0.6775453021317511\n"
          ],
          "name": "stdout"
        }
      ]
    },
    {
      "cell_type": "markdown",
      "metadata": {
        "id": "3zp3Ck-_Z27b"
      },
      "source": [
        "# Training Model with General "
      ]
    },
    {
      "cell_type": "code",
      "metadata": {
        "colab": {
          "base_uri": "https://localhost:8080/"
        },
        "id": "jEP6qaFVZ27g",
        "outputId": "a6933bd1-43f6-4bf8-9e65-4a440b31897e"
      },
      "source": [
        "train_dataset = Dataset(train, tknizer_ita, tknizer_eng, 20)\n",
        "test_dataset  = Dataset(validation, tknizer_ita, tknizer_eng, 20)\n",
        "train_dataloader = Dataloder(train_dataset, batch_size=512)\n",
        "test_dataloader = Dataloder(test_dataset, batch_size=512)\n",
        "print(train_dataloader[0][0][0].shape, train_dataloader[0][0][1].shape, train_dataloader[0][1].shape)"
      ],
      "execution_count": 116,
      "outputs": [
        {
          "output_type": "stream",
          "text": [
            "(512, 20) (512, 20) (512, 20)\n"
          ],
          "name": "stdout"
        }
      ]
    },
    {
      "cell_type": "code",
      "metadata": {
        "id": "7jpFA5ldZ27i"
      },
      "source": [
        "# file_path = \"test/Attention_2_{epoch:04d}.h5\"\n",
        "file_path = \"attention_general.h5\"\n",
        "model_checkpoint_callback = tf.keras.callbacks.ModelCheckpoint(\n",
        "    filepath=file_path,\n",
        "    save_weights_only=True,\n",
        "    monitor='loss',\n",
        "    mode='auto',\n",
        "    save_best_only=False,\n",
        "    save_freq='epoch')\n",
        "\n",
        "model_general = encoder_decoder(inp_vocab_size=vocab_size_ita+1,\n",
        "                        out_vocab_size=vocab_size_eng+1, \n",
        "                        embedding_size=20,\n",
        "                        lstm_size=32,\n",
        "                        input_length=20, \n",
        "                        scoring_fun='general',\n",
        "                        att_units=32,\n",
        "                        batch_size=512)\n",
        "\n",
        "model_general.compile(optimizer=optimizer, \n",
        "                  loss=custom_lossfunction)"
      ],
      "execution_count": 117,
      "outputs": []
    },
    {
      "cell_type": "code",
      "metadata": {
        "id": "6az8hx3yZ27j"
      },
      "source": [
        "# Load model weights trained for 50 epochs\n",
        "model_general.load_weights(\"attention_general_fast_50.h5\")\n",
        "\n",
        "class SaveDrive(tf.keras.callbacks.Callback):\n",
        "   def on_epoch_end(self, epoch, logs=None):\n",
        "        !cp \"attention_general.h5\" \"drive/MyDrive/Datasets\""
      ],
      "execution_count": 122,
      "outputs": []
    },
    {
      "cell_type": "code",
      "metadata": {
        "id": "bkww5xagZ27k"
      },
      "source": [
        "tf.config.run_functions_eagerly(True)\n",
        "hist_general = model_general.fit_generator(train_dataloader, \n",
        "                                   epochs=30, \n",
        "                                   validation_data=test_dataloader,\n",
        "                                   callbacks = [model_checkpoint_callback, SaveDrive()])"
      ],
      "execution_count": 123,
      "outputs": []
    },
    {
      "cell_type": "markdown",
      "metadata": {
        "id": "MGqTAX0aZ27p"
      },
      "source": [
        "## <font color='blue'>**Inference**</font>"
      ]
    },
    {
      "cell_type": "markdown",
      "metadata": {
        "id": "0g9nhf2SZ27q"
      },
      "source": [
        "<font color='blue'>**Plot attention weights**</font>"
      ]
    },
    {
      "cell_type": "markdown",
      "metadata": {
        "id": "V952P5RTZ27r"
      },
      "source": [
        "<font color='blue'>**Predict the sentence translation**</font>"
      ]
    },
    {
      "cell_type": "code",
      "metadata": {
        "colab": {
          "base_uri": "https://localhost:8080/"
        },
        "id": "WEUxrr6bBi3N",
        "outputId": "db736511-7883-4055-f653-d6d74cf5f5b7"
      },
      "source": [
        "model_general.layers"
      ],
      "execution_count": 124,
      "outputs": [
        {
          "output_type": "execute_result",
          "data": {
            "text/plain": [
              "[<__main__.Encoder at 0x7fedc73d8910>, <__main__.Decoder at 0x7fedc5d3d250>]"
            ]
          },
          "metadata": {
            "tags": []
          },
          "execution_count": 124
        }
      ]
    },
    {
      "cell_type": "code",
      "metadata": {
        "id": "ZWmc7ldeZ27r"
      },
      "source": [
        "def predict_general(input_sentence):\n",
        "  '''\n",
        "  A. Given input sentence, convert the sentence into integers using tokenizer used earlier\n",
        "  B. Pass the input_sequence to encoder. we get encoder_outputs, last time step hidden and cell state\n",
        "  C. Initialize index of <start> as input to decoder. and encoder final states as input_states to onestepdecoder.\n",
        "  D. till we reach max_length of decoder or till the model predicted word <end>:\n",
        "         predictions, input_states, attention_weights = model.layers[1].onestepdecoder(input_to_decoder, encoder_output, input_states)\n",
        "         Save the attention weights\n",
        "         And get the word using the tokenizer(word index) and then store it in a string.\n",
        "  E. Call plot_attention(#params)\n",
        "  F. Return the predicted sentence\n",
        "  \n",
        "  '''\n",
        "  input_length = 20\n",
        "  lstm_units = 32\n",
        "  batch_size = 1\n",
        "\n",
        "  encoder_seq = tknizer_ita.texts_to_sequences([input_sentence]) # need to pass list of values\n",
        "  encoder_seq = pad_sequences(encoder_seq, maxlen=input_length, dtype='int32', padding='post')\n",
        "  encoder_output, state_h, state_c = model_general.layers[0](encoder_seq, model_general.layers[0].initialize_states(batch_size))\n",
        "\n",
        "  cur_vec = np.ones((1,1))\n",
        "  cur_vec[0,0] = tknizer_eng.word_index['<start>']\n",
        "  result_sentence = \"\"\n",
        "  weights_arr = []\n",
        "\n",
        "  for i in range(20):\n",
        "    predictions,dec_state_h,dec_state_c,attention_weights,context_vector = model_general.layers[1].onestepdecoder(cur_vec, encoder_output, state_h, state_c)\n",
        "    cur_vec = np.reshape(np.argmax(predictions),(1,1))\n",
        "    state_h = dec_state_h\n",
        "    state_c = dec_state_c\n",
        "    index= np.argmax(predictions)\n",
        "    weights_arr.append(attention_weights.numpy()[0])\n",
        "        \n",
        "    if i==0:\n",
        "      # print(index)\n",
        "      continue\n",
        "\n",
        "    if tknizer_eng.index_word[index] == \"<end>\":\n",
        "      return result_sentence,np.array(weights_arr)\n",
        "    result_sentence += tknizer_eng.index_word[index] + \" \"\n",
        "    \n",
        "  # print(weights_arr)\n",
        "  return result_sentence,np.array(weights_arr)\n"
      ],
      "execution_count": 126,
      "outputs": []
    },
    {
      "cell_type": "code",
      "metadata": {
        "id": "wyQMgiFdYKAy"
      },
      "source": [
        "import matplotlib.ticker as ticker\n",
        "\n",
        "def plot_attention_general(sentence):\n",
        "  predicted_sentence, attention = predict_general(sentence)\n",
        "  attention = np.sum(attention, axis=-1)\n",
        "  sentence = [\"<start>\"]+sentence.split()+[\"<end>\"]\n",
        "  predicted_sentence = predicted_sentence.split()[:-1] + ['<end>']\n",
        "  fig = plt.figure(figsize=(7, 7))\n",
        "  ax = fig.add_subplot(1, 1, 1)\n",
        "\n",
        "  attention = attention[:len(predicted_sentence), :len(sentence)]\n",
        "  ax.matshow(attention, cmap='viridis', vmin=0.0)\n",
        "  fontdict = {'fontsize': 14}\n",
        "\n",
        "  ax.set_xticklabels([''] + sentence, fontdict=fontdict, rotation=90)\n",
        "  ax.set_yticklabels([''] + predicted_sentence, fontdict=fontdict)\n",
        "  ax.xaxis.set_major_locator(ticker.MultipleLocator(1))\n",
        "  ax.yaxis.set_major_locator(ticker.MultipleLocator(1))\n",
        "\n",
        "  ax.set_xlabel('Input text')\n",
        "  ax.set_ylabel('Output text')\n",
        "  plt.suptitle('Attention weights')"
      ],
      "execution_count": 127,
      "outputs": []
    },
    {
      "cell_type": "code",
      "metadata": {
        "colab": {
          "base_uri": "https://localhost:8080/",
          "height": 1000
        },
        "id": "jZtBxMqRZ27s",
        "outputId": "e6279d89-8e92-4c3e-df6b-262e5c449880"
      },
      "source": [
        "for index in np.random.randint(1,1000,5):\n",
        "  ita_sentence = test_df.iloc[index][\"italian\"]\n",
        "  plot_attention_general(ita_sentence)"
      ],
      "execution_count": 129,
      "outputs": [
        {
          "output_type": "display_data",
          "data": {
            "image/png": "[encoded data removed]",
            "text/plain": [
              "<Figure size 504x504 with 1 Axes>"
            ]
          },
          "metadata": {
            "tags": [],
            "needs_background": "light"
          }
        },
        {
          "output_type": "display_data",
          "data": {
            "image/png": "[encoded data removed]",
            "text/plain": [
              "<Figure size 504x504 with 1 Axes>"
            ]
          },
          "metadata": {
            "tags": [],
            "needs_background": "light"
          }
        },
        {
          "output_type": "display_data",
          "data": {
            "image/png": "[encoded data removed]",
            "text/plain": [
              "<Figure size 504x504 with 1 Axes>"
            ]
          },
          "metadata": {
            "tags": [],
            "needs_background": "light"
          }
        },
        {
          "output_type": "display_data",
          "data": {
            "image/png": "[encoded data removed]",
            "text/plain": [
              "<Figure size 504x504 with 1 Axes>"
            ]
          },
          "metadata": {
            "tags": [],
            "needs_background": "light"
          }
        },
        {
          "output_type": "display_data",
          "data": {
            "image/png": "[encoded data removed]",
            "text/plain": [
              "<Figure size 504x504 with 1 Axes>"
            ]
          },
          "metadata": {
            "tags": [],
            "needs_background": "light"
          }
        }
      ]
    },
    {
      "cell_type": "markdown",
      "metadata": {
        "id": "X-1PjmE6Z27t"
      },
      "source": [
        "<font color='blue'>**Calculate BLEU score**</font>"
      ]
    },
    {
      "cell_type": "code",
      "metadata": {
        "id": "W1cFXMQJYzoC"
      },
      "source": [
        "from nltk.translate.bleu_score import SmoothingFunction\n",
        "smoothie = SmoothingFunction().method1\n",
        "\n",
        "def aveg_bleu_scores_general(test_data,n):\n",
        "  sample_list = random.sample(range(len(test_data)),n)\n",
        "  average_bleu = 0\n",
        "  pred_data = []\n",
        "  individual_bleu = []\n",
        "\n",
        "  for i in sample_list:\n",
        "    test_sentence, true_sentence = test_data.iloc[i,[0,1]]\n",
        "    pred_sentence, att = predict_general(test_sentence)\n",
        "    bleu_score = bleu.sentence_bleu([true_sentence.split()],pred_sentence.split())\n",
        "    average_bleu += bleu_score\n",
        "\n",
        "    # pred_data.append((true_sentence, pred_sentence))\n",
        "    individual_bleu.append(bleu_score)\n",
        "  \n",
        "  return average_bleu/n, individual_bleu"
      ],
      "execution_count": 130,
      "outputs": []
    },
    {
      "cell_type": "code",
      "metadata": {
        "colab": {
          "base_uri": "https://localhost:8080/"
        },
        "id": "tIj59fwaZ27u",
        "outputId": "7b994412-a0ee-4c2e-9cc7-36fbad3488c4"
      },
      "source": [
        "import nltk.translate.bleu_score as bleu\n",
        "import random\n",
        "\n",
        "test_df = validation.copy()\n",
        "test_df = test_df[[\"italian\",\"english_out\"]]\n",
        "test_df[\"english_out\"] = test_df[\"english_out\"].apply(lambda x: x.split(\"<end>\")[0])\n",
        "\n",
        "avg_score, individual_score = aveg_bleu_scores_general(test_df,1000)\n",
        "print(\"Average BLEU Score: \",avg_score)"
      ],
      "execution_count": 134,
      "outputs": [
        {
          "output_type": "stream",
          "text": [
            "Average BLEU Score:  0.5599070673098394\n"
          ],
          "name": "stdout"
        }
      ]
    },
    {
      "cell_type": "markdown",
      "metadata": {
        "id": "TiNSGs9WfNRj"
      },
      "source": [
        "# Training Model with Concat "
      ]
    },
    {
      "cell_type": "code",
      "metadata": {
        "colab": {
          "base_uri": "https://localhost:8080/"
        },
        "id": "7i5-E9U3fNRk",
        "outputId": "b620ee61-84fa-4d87-eda1-adaea4345e10"
      },
      "source": [
        "train_dataset = Dataset(train, tknizer_ita, tknizer_eng, 20)\n",
        "test_dataset  = Dataset(validation, tknizer_ita, tknizer_eng, 20)\n",
        "train_dataloader = Dataloder(train_dataset, batch_size=512)\n",
        "test_dataloader = Dataloder(test_dataset, batch_size=512)\n",
        "print(train_dataloader[0][0][0].shape, train_dataloader[0][0][1].shape, train_dataloader[0][1].shape)"
      ],
      "execution_count": 136,
      "outputs": [
        {
          "output_type": "stream",
          "text": [
            "(512, 20) (512, 20) (512, 20)\n"
          ],
          "name": "stdout"
        }
      ]
    },
    {
      "cell_type": "code",
      "metadata": {
        "id": "v08KLt1zfNRl"
      },
      "source": [
        "# file_path = \"test/Attention_2_{epoch:04d}.h5\"\n",
        "file_path = \"concat_general.h5\"\n",
        "model_checkpoint_callback = tf.keras.callbacks.ModelCheckpoint(\n",
        "    filepath=file_path,\n",
        "    save_weights_only=True,\n",
        "    monitor='loss',\n",
        "    mode='auto',\n",
        "    save_best_only=False,\n",
        "    save_freq='epoch')\n",
        "\n",
        "model_concat = encoder_decoder(inp_vocab_size=vocab_size_ita+1,\n",
        "                        out_vocab_size=vocab_size_eng+1, \n",
        "                        embedding_size=20,\n",
        "                        lstm_size=32,\n",
        "                        input_length=20, \n",
        "                        scoring_fun='concat',\n",
        "                        att_units=32,\n",
        "                        batch_size=512)\n",
        "\n",
        "model_concat.compile(optimizer=optimizer, \n",
        "                  loss=custom_lossfunction)"
      ],
      "execution_count": 137,
      "outputs": []
    },
    {
      "cell_type": "code",
      "metadata": {
        "id": "FHbwnrfpfNRm"
      },
      "source": [
        "# Model weights trained for 30+30 = 60 epochs\n",
        "model_concat.load_weights(\"/content/attention_concat_60.h5\")\n",
        "\n",
        "class SaveDrive(tf.keras.callbacks.Callback):\n",
        "   def on_epoch_end(self, epoch, logs=None):\n",
        "        !cp \"concat_general.h5\" \"drive/MyDrive/Datasets\""
      ],
      "execution_count": 145,
      "outputs": []
    },
    {
      "cell_type": "code",
      "metadata": {
        "colab": {
          "base_uri": "https://localhost:8080/"
        },
        "id": "lWqmT2tHfNRm",
        "outputId": "5556eee3-6de4-41a9-ccc1-a8ab6fd74b16"
      },
      "source": [
        "tf.config.run_functions_eagerly(True)\n",
        "hist_gconcat = model_concat.fit_generator(train_dataloader, \n",
        "                                   epochs=30, \n",
        "                                   validation_data=test_dataloader,\n",
        "                                   callbacks = [model_checkpoint_callback, SaveDrive()])"
      ],
      "execution_count": null,
      "outputs": [
        {
          "output_type": "stream",
          "text": [
            "/usr/local/lib/python3.7/dist-packages/tensorflow/python/keras/engine/training.py:1940: UserWarning: `Model.fit_generator` is deprecated and will be removed in a future version. Please use `Model.fit`, which supports generators.\n",
            "  warnings.warn('`Model.fit_generator` is deprecated and '\n",
            "/usr/local/lib/python3.7/dist-packages/tensorflow/python/data/ops/dataset_ops.py:3704: UserWarning: Even though the `tf.config.experimental_run_functions_eagerly` option is set, this option does not apply to tf.data functions. To force eager execution of tf.data functions, please use `tf.data.experimental.enable.debug_mode()`.\n",
            "  \"Even though the `tf.config.experimental_run_functions_eagerly` \"\n"
          ],
          "name": "stderr"
        },
        {
          "output_type": "stream",
          "text": [
            "Epoch 1/30\n",
            "546/546 [==============================] - 364s 667ms/step - loss: 0.5840 - val_loss: 0.6256\n",
            "Epoch 2/30\n",
            "546/546 [==============================] - 365s 669ms/step - loss: 0.5489 - val_loss: 0.6026\n",
            "Epoch 3/30\n",
            "546/546 [==============================] - 365s 669ms/step - loss: 0.5208 - val_loss: 0.5833\n",
            "Epoch 4/30\n",
            "546/546 [==============================] - 364s 667ms/step - loss: 0.4974 - val_loss: 0.5669\n",
            "Epoch 5/30\n",
            "546/546 [==============================] - 364s 667ms/step - loss: 0.4781 - val_loss: 0.5515\n",
            "Epoch 6/30\n",
            "546/546 [==============================] - 365s 669ms/step - loss: 0.4621 - val_loss: 0.5406\n",
            "Epoch 7/30\n",
            "546/546 [==============================] - 362s 663ms/step - loss: 0.4487 - val_loss: 0.5349\n",
            "Epoch 8/30\n",
            "546/546 [==============================] - 363s 665ms/step - loss: 0.4374 - val_loss: 0.5269\n",
            "Epoch 9/30\n",
            "546/546 [==============================] - 361s 662ms/step - loss: 0.4273 - val_loss: 0.5218\n",
            "Epoch 10/30\n",
            "546/546 [==============================] - 360s 660ms/step - loss: 0.4184 - val_loss: 0.5130\n",
            "Epoch 11/30\n",
            "546/546 [==============================] - 360s 659ms/step - loss: 0.4112 - val_loss: 0.5127\n",
            "Epoch 12/30\n",
            "546/546 [==============================] - 360s 659ms/step - loss: 0.4043 - val_loss: 0.5053\n",
            "Epoch 13/30\n",
            "546/546 [==============================] - 359s 658ms/step - loss: 0.3976 - val_loss: 0.5035\n",
            "Epoch 14/30\n",
            "546/546 [==============================] - 359s 658ms/step - loss: 0.3920 - val_loss: 0.4984\n",
            "Epoch 15/30\n",
            "546/546 [==============================] - 360s 659ms/step - loss: 0.3868 - val_loss: 0.4952\n",
            "Epoch 16/30\n",
            "546/546 [==============================] - 360s 660ms/step - loss: 0.3823 - val_loss: 0.4949\n",
            "Epoch 17/30\n",
            "546/546 [==============================] - 362s 664ms/step - loss: 0.3780 - val_loss: 0.4943\n",
            "Epoch 18/30\n",
            "546/546 [==============================] - 364s 667ms/step - loss: 0.3739 - val_loss: 0.4911\n",
            "Epoch 19/30\n",
            "546/546 [==============================] - 366s 670ms/step - loss: 0.3698 - val_loss: 0.4851\n",
            "Epoch 20/30\n",
            "546/546 [==============================] - 367s 672ms/step - loss: 0.3661 - val_loss: 0.4843\n",
            "Epoch 21/30\n",
            "546/546 [==============================] - 368s 674ms/step - loss: 0.3628 - val_loss: 0.4823\n",
            "Epoch 22/30\n",
            "546/546 [==============================] - 369s 675ms/step - loss: 0.3598 - val_loss: 0.4814\n",
            "Epoch 23/30\n",
            "546/546 [==============================] - 366s 670ms/step - loss: 0.3573 - val_loss: 0.4787\n",
            "Epoch 24/30\n",
            "546/546 [==============================] - 366s 670ms/step - loss: 0.3540 - val_loss: 0.4807\n",
            "Epoch 25/30\n",
            "546/546 [==============================] - 364s 668ms/step - loss: 0.3515 - val_loss: 0.4760\n",
            "Epoch 26/30\n",
            "546/546 [==============================] - 365s 669ms/step - loss: 0.3489 - val_loss: 0.4798\n",
            "Epoch 27/30\n",
            "546/546 [==============================] - 366s 671ms/step - loss: 0.3469 - val_loss: 0.4760\n",
            "Epoch 28/30\n",
            "546/546 [==============================] - 367s 672ms/step - loss: 0.3445 - val_loss: 0.4767\n",
            "Epoch 29/30\n",
            "546/546 [==============================] - 370s 677ms/step - loss: 0.3424 - val_loss: 0.4765\n",
            "Epoch 30/30\n",
            "546/546 [==============================] - 367s 673ms/step - loss: 0.3406 - val_loss: 0.4714\n"
          ],
          "name": "stdout"
        }
      ]
    },
    {
      "cell_type": "code",
      "metadata": {
        "colab": {
          "base_uri": "https://localhost:8080/",
          "height": 265
        },
        "id": "8f8eLLwSfNRn",
        "outputId": "8d24f1c3-a92b-43e7-e92b-0732c6a81f03"
      },
      "source": [
        "   # model_dot.save_weights(\"dot_512_01.h5\")\n",
        "plt.plot(range(30),hist_gconcat.history[\"loss\"])\n",
        "plt.plot(range(30),hist_gconcat.history[\"val_loss\"])\n",
        "plt.legend([\"Train Loss\",\"Validation Loss\"])\n",
        "plt.show()"
      ],
      "execution_count": null,
      "outputs": [
        {
          "output_type": "display_data",
          "data": {
            "image/png": "[encoded data removed]",
            "text/plain": [
              "<Figure size 432x288 with 1 Axes>"
            ]
          },
          "metadata": {
            "tags": [],
            "needs_background": "light"
          }
        }
      ]
    },
    {
      "cell_type": "code",
      "metadata": {
        "id": "VhkKs8h9Q_8o"
      },
      "source": [
        "model_concat.save_weights(\"attention_concat_60.h5\")"
      ],
      "execution_count": 141,
      "outputs": []
    },
    {
      "cell_type": "markdown",
      "metadata": {
        "id": "Ep2MmarFfNRo"
      },
      "source": [
        "## <font color='blue'>**Inference**</font>"
      ]
    },
    {
      "cell_type": "markdown",
      "metadata": {
        "id": "CM7DNPH5fNRo"
      },
      "source": [
        "<font color='blue'>**Plot attention weights**</font>"
      ]
    },
    {
      "cell_type": "markdown",
      "metadata": {
        "id": "2lCk8cX6fNRo"
      },
      "source": [
        "<font color='blue'>**Predict the sentence translation**</font>"
      ]
    },
    {
      "cell_type": "code",
      "metadata": {
        "colab": {
          "base_uri": "https://localhost:8080/"
        },
        "id": "s4YQ2skkfNRp",
        "outputId": "80e00894-fcb4-406d-c322-eb5e1fcf8246"
      },
      "source": [
        "model_concat.layers"
      ],
      "execution_count": 153,
      "outputs": [
        {
          "output_type": "execute_result",
          "data": {
            "text/plain": [
              "[<__main__.Encoder at 0x7fedc58f3310>, <__main__.Decoder at 0x7fedc58f3250>]"
            ]
          },
          "metadata": {
            "tags": []
          },
          "execution_count": 153
        }
      ]
    },
    {
      "cell_type": "code",
      "metadata": {
        "id": "ed6inygLfNRp"
      },
      "source": [
        "def predict_concat(input_sentence):\n",
        "  '''\n",
        "  A. Given input sentence, convert the sentence into integers using tokenizer used earlier\n",
        "  B. Pass the input_sequence to encoder. we get encoder_outputs, last time step hidden and cell state\n",
        "  C. Initialize index of <start> as input to decoder. and encoder final states as input_states to onestepdecoder.\n",
        "  D. till we reach max_length of decoder or till the model predicted word <end>:\n",
        "         predictions, input_states, attention_weights = model.layers[1].onestepdecoder(input_to_decoder, encoder_output, input_states)\n",
        "         Save the attention weights\n",
        "         And get the word using the tokenizer(word index) and then store it in a string.\n",
        "  E. Call plot_attention(#params)\n",
        "  F. Return the predicted sentence\n",
        "  \n",
        "  '''\n",
        "  input_length = 20\n",
        "  lstm_units = 32\n",
        "  batch_size = 1\n",
        "\n",
        "  encoder_seq = tknizer_ita.texts_to_sequences([input_sentence]) # need to pass list of values\n",
        "  encoder_seq = pad_sequences(encoder_seq, maxlen=input_length, dtype='int32', padding='post')\n",
        "  encoder_output, state_h, state_c = model_concat.layers[0](encoder_seq, model_concat.layers[0].initialize_states(batch_size))\n",
        "\n",
        "  cur_vec = np.ones((1,1))\n",
        "  cur_vec[0,0] = tknizer_eng.word_index['<start>']\n",
        "  result_sentence = \"\"\n",
        "  weights_arr = []\n",
        "\n",
        "  for i in range(20):\n",
        "    predictions,dec_state_h,dec_state_c,attention_weights,context_vector = model_concat.layers[1].onestepdecoder(cur_vec, encoder_output, state_h, state_c)\n",
        "    cur_vec = np.reshape(np.argmax(predictions),(1,1))\n",
        "    state_h = dec_state_h\n",
        "    state_c = dec_state_c\n",
        "    index= np.argmax(predictions)\n",
        "    weights_arr.append(attention_weights.numpy()[0])\n",
        "        \n",
        "    if i==0:\n",
        "      # print(index)\n",
        "      continue\n",
        "\n",
        "    if tknizer_eng.index_word[index] == \"<end>\":\n",
        "      return result_sentence,np.array(weights_arr)\n",
        "    result_sentence += tknizer_eng.index_word[index] + \" \"\n",
        "    \n",
        "  # print(weights_arr)\n",
        "  return result_sentence,np.array(weights_arr)\n"
      ],
      "execution_count": 158,
      "outputs": []
    },
    {
      "cell_type": "code",
      "metadata": {
        "id": "k1erP1uPfNRq"
      },
      "source": [
        "import matplotlib.ticker as ticker\n",
        "\n",
        "def plot_attention_concat(sentence):\n",
        "  predicted_sentence, attention = predict_concat(sentence)\n",
        "  attention = np.sum(attention, axis=-1)\n",
        "  sentence = [\"<start>\"]+sentence.split()+[\"<end>\"]\n",
        "  predicted_sentence = predicted_sentence.split()[:-1] + ['<end>']\n",
        "  fig = plt.figure(figsize=(7, 7))\n",
        "  ax = fig.add_subplot(1, 1, 1)\n",
        "\n",
        "  attention = attention[:len(predicted_sentence), :len(sentence)]\n",
        "  ax.matshow(attention, cmap='viridis', vmin=0.0)\n",
        "  fontdict = {'fontsize': 14}\n",
        "\n",
        "  ax.set_xticklabels([''] + sentence, fontdict=fontdict, rotation=90)\n",
        "  ax.set_yticklabels([''] + predicted_sentence, fontdict=fontdict)\n",
        "  ax.xaxis.set_major_locator(ticker.MultipleLocator(1))\n",
        "  ax.yaxis.set_major_locator(ticker.MultipleLocator(1))\n",
        "\n",
        "  ax.set_xlabel('Input text')\n",
        "  ax.set_ylabel('Output text')\n",
        "  plt.suptitle('Attention weights')"
      ],
      "execution_count": 159,
      "outputs": []
    },
    {
      "cell_type": "code",
      "metadata": {
        "colab": {
          "base_uri": "https://localhost:8080/",
          "height": 1000
        },
        "id": "zj5tm0GEfNRr",
        "outputId": "03326354-f4c4-47ec-88eb-34ea8a7d6e9c"
      },
      "source": [
        "for index in np.random.randint(1000,1500,5):\n",
        "  ita_sentence = test_df.iloc[index][\"italian\"]\n",
        "  plot_attention_concat(ita_sentence)"
      ],
      "execution_count": 181,
      "outputs": [
        {
          "output_type": "display_data",
          "data": {
            "image/png": "[encoded data removed]",
            "text/plain": [
              "<Figure size 504x504 with 1 Axes>"
            ]
          },
          "metadata": {
            "tags": [],
            "needs_background": "light"
          }
        },
        {
          "output_type": "display_data",
          "data": {
            "image/png": "[encoded data removed]",
            "text/plain": [
              "<Figure size 504x504 with 1 Axes>"
            ]
          },
          "metadata": {
            "tags": [],
            "needs_background": "light"
          }
        },
        {
          "output_type": "display_data",
          "data": {
            "image/png": "[encoded data removed]",
            "text/plain": [
              "<Figure size 504x504 with 1 Axes>"
            ]
          },
          "metadata": {
            "tags": [],
            "needs_background": "light"
          }
        },
        {
          "output_type": "display_data",
          "data": {
            "image/png": "[encoded data removed]",
            "text/plain": [
              "<Figure size 504x504 with 1 Axes>"
            ]
          },
          "metadata": {
            "tags": [],
            "needs_background": "light"
          }
        },
        {
          "output_type": "display_data",
          "data": {
            "image/png": "[encoded data removed]",
            "text/plain": [
              "<Figure size 504x504 with 1 Axes>"
            ]
          },
          "metadata": {
            "tags": [],
            "needs_background": "light"
          }
        }
      ]
    },
    {
      "cell_type": "markdown",
      "metadata": {
        "id": "0ZNAGhuEfNRr"
      },
      "source": [
        "<font color='blue'>**Calculate BLEU score**</font>"
      ]
    },
    {
      "cell_type": "code",
      "metadata": {
        "id": "uSduvVvefNRr"
      },
      "source": [
        "from nltk.translate.bleu_score import SmoothingFunction\n",
        "smoothie = SmoothingFunction().method1\n",
        "\n",
        "def aveg_bleu_scores_general(test_data,n):\n",
        "  sample_list = random.sample(range(len(test_data)),n)\n",
        "  average_bleu = 0\n",
        "  pred_data = []\n",
        "  individual_bleu = []\n",
        "\n",
        "  for i in sample_list:\n",
        "    test_sentence, true_sentence = test_data.iloc[i,[0,1]]\n",
        "    pred_sentence, att = predict_general(test_sentence)\n",
        "    bleu_score = bleu.sentence_bleu([true_sentence.split()],pred_sentence.split())\n",
        "    average_bleu += bleu_score\n",
        "\n",
        "    # pred_data.append((true_sentence, pred_sentence))\n",
        "    individual_bleu.append(bleu_score)\n",
        "  \n",
        "  return average_bleu/n, individual_bleu"
      ],
      "execution_count": 168,
      "outputs": []
    },
    {
      "cell_type": "code",
      "metadata": {
        "colab": {
          "base_uri": "https://localhost:8080/"
        },
        "id": "zRYA8aKafNRs",
        "outputId": "ca3cb5fa-8408-492c-e33e-036dd361fa71"
      },
      "source": [
        "import nltk.translate.bleu_score as bleu\n",
        "import random\n",
        "\n",
        "test_df = validation.copy()\n",
        "test_df = test_df[[\"italian\",\"english_out\"]]\n",
        "test_df[\"english_out\"] = test_df[\"english_out\"].apply(lambda x: x.split(\"<end>\")[0])\n",
        "\n",
        "avg_score, individual_score = aveg_bleu_scores_general(test_df,1000)\n",
        "print(\"Average BLEU score : \",avg_score)"
      ],
      "execution_count": 188,
      "outputs": [
        {
          "output_type": "stream",
          "text": [
            "Average BLEU score :  0.5921551651429544\n"
          ],
          "name": "stdout"
        }
      ]
    },
    {
      "cell_type": "code",
      "metadata": {
        "colab": {
          "base_uri": "https://localhost:8080/"
        },
        "id": "tC-5TRHe7Uah",
        "outputId": "60f347ad-d986-4b4a-a7a4-8792fa9c87c7"
      },
      "source": [
        "!jupyter nbconvert --to html \"/content/Self_Attention.ipynb\""
      ],
      "execution_count": 190,
      "outputs": [
        {
          "output_type": "stream",
          "text": [
            "[NbConvertApp] Converting notebook /content/Self_Attention.ipynb to html\n",
            "[NbConvertApp] Writing 841729 bytes to /content/Self_Attention.html\n"
          ],
          "name": "stdout"
        }
      ]
    },
    {
      "cell_type": "code",
      "metadata": {
        "id": "iVfXP5fu8308"
      },
      "source": [
        ""
      ],
      "execution_count": null,
      "outputs": []
    }
  ]
}