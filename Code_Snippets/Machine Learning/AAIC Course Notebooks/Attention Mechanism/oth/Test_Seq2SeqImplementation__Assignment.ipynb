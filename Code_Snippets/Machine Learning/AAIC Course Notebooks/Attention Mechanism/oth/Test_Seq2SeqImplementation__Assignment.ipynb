{
  "nbformat": 4,
  "nbformat_minor": 0,
  "metadata": {
    "colab": {
      "name": "3_Seq2SeqImplementation__Assignment.ipynb",
      "provenance": [],
      "collapsed_sections": [],
      "machine_shape": "hm"
    },
    "kernelspec": {
      "display_name": "Python 3",
      "language": "python",
      "name": "python3"
    },
    "language_info": {
      "codemirror_mode": {
        "name": "ipython",
        "version": 3
      },
      "file_extension": ".py",
      "mimetype": "text/x-python",
      "name": "python",
      "nbconvert_exporter": "python",
      "pygments_lexer": "ipython3",
      "version": "3.7.4"
    },
    "accelerator": "GPU"
  },
  "cells": [
    {
      "cell_type": "markdown",
      "metadata": {
        "id": "fwPL0hIlGKoA"
      },
      "source": [
        "# <font color='red'>**Sequence to sequence implementation**</font>"
      ]
    },
    {
      "cell_type": "markdown",
      "metadata": {
        "id": "-nYHE_1ck2az"
      },
      "source": [
        "**There will be some functions that start with the word \"grader\" ex: grader_check_encoder(), grader_check_attention(), grader_onestepdecoder() etc, you should not change those function definition.<br><br>Every Grader function has to return True.**\n",
        "\n",
        "**Note 1:**  There are many blogs on the attention mechanisum which might be misleading you,\n",
        " so do read the references completly and after that only please check the internet.\n",
        " The best things is to read the research papers and try to implement it on your own. \n",
        "\n",
        "**Note 2:** To complete this assignment, the reference that are mentioned will be enough.\n",
        "\n",
        "**Note 3:** If you are starting this assignment, you might have completed minimum of 20 assignment.\n",
        " If  you are still not able to implement this algorithm you might have rushed in the previous assignments \n",
        "with out learning much and didn't spend your time productively."
      ]
    },
    {
      "cell_type": "markdown",
      "metadata": {
        "id": "QyfZo8fmLOec"
      },
      "source": [
        "## Task -1: Simple Encoder and Decoder\n",
        "Implement simple Encoder-Decoder model"
      ]
    },
    {
      "cell_type": "markdown",
      "metadata": {
        "id": "IvNSZXNkkOkO"
      },
      "source": [
        "1. Download the **Italian** to **English** translation dataset from <a href=\"http://www.manythings.org/anki/ita-eng.zip\">here</a>\n",
        "\n",
        "2. You will find **ita.txt** file in that ZIP, \n",
        "you can read that data using python and preprocess that data this way only: \n",
        "<img src='https://i.imgur.com/z0j79Jf.png'>    \n",
        "    \n",
        "3. You have to implement a simple Encoder and Decoder architecture  \n",
        "\n",
        "4. Use BLEU score as metric to evaluate your model. You can use any loss function you need.\n",
        "\n",
        "5. You have to use Tensorboard to plot the Graph, Scores and histograms of gradients. \n",
        "\n",
        "6.  a. Check the reference notebook <br>\n",
        "    b. <a href=\"https://medium.com/analytics-vidhya/understand-sequence-to-sequence-models-in-a-more-intuitive-way-1d517d8795bb\">Resource 2</a>\n",
        "    \n",
        "\n"
      ]
    },
    {
      "cell_type": "code",
      "metadata": {
        "id": "p9jsu5D92jso",
        "colab": {
          "base_uri": "https://localhost:8080/"
        },
        "outputId": "2930d8f2-af80-49dd-aeb9-b2b40ef31155"
      },
      "source": [
        "!nvidia-smi"
      ],
      "execution_count": 1,
      "outputs": [
        {
          "output_type": "stream",
          "text": [
            "Sun May 30 14:35:01 2021       \n",
            "+-----------------------------------------------------------------------------+\n",
            "| NVIDIA-SMI 465.19.01    Driver Version: 460.32.03    CUDA Version: 11.2     |\n",
            "|-------------------------------+----------------------+----------------------+\n",
            "| GPU  Name        Persistence-M| Bus-Id        Disp.A | Volatile Uncorr. ECC |\n",
            "| Fan  Temp  Perf  Pwr:Usage/Cap|         Memory-Usage | GPU-Util  Compute M. |\n",
            "|                               |                      |               MIG M. |\n",
            "|===============================+======================+======================|\n",
            "|   0  Tesla P100-PCIE...  Off  | 00000000:00:04.0 Off |                    0 |\n",
            "| N/A   43C    P0    29W / 250W |      0MiB / 16280MiB |      0%      Default |\n",
            "|                               |                      |                  N/A |\n",
            "+-------------------------------+----------------------+----------------------+\n",
            "                                                                               \n",
            "+-----------------------------------------------------------------------------+\n",
            "| Processes:                                                                  |\n",
            "|  GPU   GI   CI        PID   Type   Process name                  GPU Memory |\n",
            "|        ID   ID                                                   Usage      |\n",
            "|=============================================================================|\n",
            "|  No running processes found                                                 |\n",
            "+-----------------------------------------------------------------------------+\n"
          ],
          "name": "stdout"
        }
      ]
    },
    {
      "cell_type": "code",
      "metadata": {
        "id": "Vtkp7s6R2Odu"
      },
      "source": [
        "import matplotlib.pyplot as plt\n",
        "%matplotlib inline\n",
        "# import seaborn as sns\n",
        "import pandas as pd\n",
        "import re\n",
        "import tensorflow as tf\n",
        "from tensorflow.keras.layers import Embedding, LSTM, Dense, Reshape, Softmax, Dot, Concatenate\n",
        "from tensorflow.keras.models import Model\n",
        "from tensorflow.keras.preprocessing.text import Tokenizer\n",
        "from tensorflow.keras.preprocessing.sequence import pad_sequences\n",
        "import numpy as np\n",
        "import seaborn as sns"
      ],
      "execution_count": 2,
      "outputs": []
    },
    {
      "cell_type": "markdown",
      "metadata": {
        "id": "3k_AlAuKJqVA"
      },
      "source": [
        "<font color='blue'>**Load the data**</font>"
      ]
    },
    {
      "cell_type": "code",
      "metadata": {
        "id": "fU80Ao-AGaob",
        "colab": {
          "base_uri": "https://localhost:8080/"
        },
        "outputId": "64112bbf-d1a7-4228-eb97-b60ca3a473ee"
      },
      "source": [
        "!wget http://www.manythings.org/anki/ita-eng.zip\n",
        "!unzip ita-eng.zip"
      ],
      "execution_count": 3,
      "outputs": [
        {
          "output_type": "stream",
          "text": [
            "--2021-05-30 14:35:11--  http://www.manythings.org/anki/ita-eng.zip\n",
            "Resolving www.manythings.org (www.manythings.org)... 104.21.55.222, 172.67.173.198, 2606:4700:3031::6815:37de, ...\n",
            "Connecting to www.manythings.org (www.manythings.org)|104.21.55.222|:80... connected.\n",
            "HTTP request sent, awaiting response... 200 OK\n",
            "Length: 7567445 (7.2M) [application/zip]\n",
            "Saving to: ‘ita-eng.zip’\n",
            "\n",
            "ita-eng.zip         100%[===================>]   7.22M  6.63MB/s    in 1.1s    \n",
            "\n",
            "2021-05-30 14:35:13 (6.63 MB/s) - ‘ita-eng.zip’ saved [7567445/7567445]\n",
            "\n",
            "Archive:  ita-eng.zip\n",
            "  inflating: ita.txt                 \n",
            "  inflating: _about.txt              \n"
          ],
          "name": "stdout"
        }
      ]
    },
    {
      "cell_type": "code",
      "metadata": {
        "id": "3tQzC4qw1lOP",
        "colab": {
          "base_uri": "https://localhost:8080/",
          "height": 214
        },
        "outputId": "62c4e2a9-d00c-4ee7-a87f-8051bf5e7faf"
      },
      "source": [
        "with open('ita.txt', 'r', encoding=\"utf8\") as f:\n",
        "    eng=[]\n",
        "    ita=[]\n",
        "    for i in f.readlines():\n",
        "        eng.append(i.split(\"\\t\")[0])\n",
        "        ita.append(i.split(\"\\t\")[1])\n",
        "data = pd.DataFrame(data=list(zip(eng, ita)), columns=['english','italian'])\n",
        "print(data.shape)\n",
        "data.head()"
      ],
      "execution_count": 4,
      "outputs": [
        {
          "output_type": "stream",
          "text": [
            "(345244, 2)\n"
          ],
          "name": "stdout"
        },
        {
          "output_type": "execute_result",
          "data": {
            "text/html": [
              "<div>\n",
              "<style scoped>\n",
              "    .dataframe tbody tr th:only-of-type {\n",
              "        vertical-align: middle;\n",
              "    }\n",
              "\n",
              "    .dataframe tbody tr th {\n",
              "        vertical-align: top;\n",
              "    }\n",
              "\n",
              "    .dataframe thead th {\n",
              "        text-align: right;\n",
              "    }\n",
              "</style>\n",
              "<table border=\"1\" class=\"dataframe\">\n",
              "  <thead>\n",
              "    <tr style=\"text-align: right;\">\n",
              "      <th></th>\n",
              "      <th>english</th>\n",
              "      <th>italian</th>\n",
              "    </tr>\n",
              "  </thead>\n",
              "  <tbody>\n",
              "    <tr>\n",
              "      <th>0</th>\n",
              "      <td>Hi.</td>\n",
              "      <td>Ciao!</td>\n",
              "    </tr>\n",
              "    <tr>\n",
              "      <th>1</th>\n",
              "      <td>Run!</td>\n",
              "      <td>Corri!</td>\n",
              "    </tr>\n",
              "    <tr>\n",
              "      <th>2</th>\n",
              "      <td>Run!</td>\n",
              "      <td>Corra!</td>\n",
              "    </tr>\n",
              "    <tr>\n",
              "      <th>3</th>\n",
              "      <td>Run!</td>\n",
              "      <td>Correte!</td>\n",
              "    </tr>\n",
              "    <tr>\n",
              "      <th>4</th>\n",
              "      <td>Who?</td>\n",
              "      <td>Chi?</td>\n",
              "    </tr>\n",
              "  </tbody>\n",
              "</table>\n",
              "</div>"
            ],
            "text/plain": [
              "  english   italian\n",
              "0     Hi.     Ciao!\n",
              "1    Run!    Corri!\n",
              "2    Run!    Corra!\n",
              "3    Run!  Correte!\n",
              "4    Who?      Chi?"
            ]
          },
          "metadata": {
            "tags": []
          },
          "execution_count": 4
        }
      ]
    },
    {
      "cell_type": "markdown",
      "metadata": {
        "id": "vmGWTdRmKRph"
      },
      "source": [
        "<font color='blue'>**Preprocess data**</font>"
      ]
    },
    {
      "cell_type": "code",
      "metadata": {
        "id": "9QqElB_nKZos",
        "colab": {
          "base_uri": "https://localhost:8080/",
          "height": 196
        },
        "outputId": "3568e318-ed8e-4289-e551-46487ffd9eff"
      },
      "source": [
        "def decontractions(phrase):\n",
        "    \"\"\"decontracted takes text and convert contractions into natural form.\n",
        "     ref: https://stackoverflow.com/questions/19790188/expanding-english-language-contractions-in-python/47091490#47091490\"\"\"\n",
        "    # specific\n",
        "    phrase = re.sub(r\"won\\'t\", \"will not\", phrase)\n",
        "    phrase = re.sub(r\"can\\'t\", \"can not\", phrase)\n",
        "    phrase = re.sub(r\"won\\’t\", \"will not\", phrase)\n",
        "    phrase = re.sub(r\"can\\’t\", \"can not\", phrase)\n",
        "\n",
        "    # general\n",
        "    phrase = re.sub(r\"n\\'t\", \" not\", phrase)\n",
        "    phrase = re.sub(r\"\\'re\", \" are\", phrase)\n",
        "    phrase = re.sub(r\"\\'s\", \" is\", phrase)\n",
        "    phrase = re.sub(r\"\\'d\", \" would\", phrase)\n",
        "    phrase = re.sub(r\"\\'ll\", \" will\", phrase)\n",
        "    phrase = re.sub(r\"\\'t\", \" not\", phrase)\n",
        "    phrase = re.sub(r\"\\'ve\", \" have\", phrase)\n",
        "    phrase = re.sub(r\"\\'m\", \" am\", phrase)\n",
        "\n",
        "    phrase = re.sub(r\"n\\’t\", \" not\", phrase)\n",
        "    phrase = re.sub(r\"\\’re\", \" are\", phrase)\n",
        "    phrase = re.sub(r\"\\’s\", \" is\", phrase)\n",
        "    phrase = re.sub(r\"\\’d\", \" would\", phrase)\n",
        "    phrase = re.sub(r\"\\’ll\", \" will\", phrase)\n",
        "    phrase = re.sub(r\"\\’t\", \" not\", phrase)\n",
        "    phrase = re.sub(r\"\\’ve\", \" have\", phrase)\n",
        "    phrase = re.sub(r\"\\’m\", \" am\", phrase)\n",
        "\n",
        "    return phrase\n",
        "\n",
        "def preprocess(text):\n",
        "    text = decontractions(text)\n",
        "    text = re.sub('[^A-Za-z0-9 ]+', '', text)\n",
        "    return text\n",
        "\n",
        "def preprocess_ita(text):\n",
        "    text = text.lower()\n",
        "    text = decontractions(text)\n",
        "    text = re.sub('[$)\\?\"’.°!;\\'€%:,(/]', '', text)\n",
        "    text = re.sub('\\u200b', ' ', text)\n",
        "    text = re.sub('\\xa0', ' ', text)\n",
        "    text = re.sub('-', ' ', text)\n",
        "    return text\n",
        "\n",
        "\n",
        "data['english'] = data['english'].apply(preprocess)\n",
        "data['italian'] = data['italian'].apply(preprocess_ita)\n",
        "data.head()"
      ],
      "execution_count": 5,
      "outputs": [
        {
          "output_type": "execute_result",
          "data": {
            "text/html": [
              "<div>\n",
              "<style scoped>\n",
              "    .dataframe tbody tr th:only-of-type {\n",
              "        vertical-align: middle;\n",
              "    }\n",
              "\n",
              "    .dataframe tbody tr th {\n",
              "        vertical-align: top;\n",
              "    }\n",
              "\n",
              "    .dataframe thead th {\n",
              "        text-align: right;\n",
              "    }\n",
              "</style>\n",
              "<table border=\"1\" class=\"dataframe\">\n",
              "  <thead>\n",
              "    <tr style=\"text-align: right;\">\n",
              "      <th></th>\n",
              "      <th>english</th>\n",
              "      <th>italian</th>\n",
              "    </tr>\n",
              "  </thead>\n",
              "  <tbody>\n",
              "    <tr>\n",
              "      <th>0</th>\n",
              "      <td>Hi</td>\n",
              "      <td>ciao</td>\n",
              "    </tr>\n",
              "    <tr>\n",
              "      <th>1</th>\n",
              "      <td>Run</td>\n",
              "      <td>corri</td>\n",
              "    </tr>\n",
              "    <tr>\n",
              "      <th>2</th>\n",
              "      <td>Run</td>\n",
              "      <td>corra</td>\n",
              "    </tr>\n",
              "    <tr>\n",
              "      <th>3</th>\n",
              "      <td>Run</td>\n",
              "      <td>correte</td>\n",
              "    </tr>\n",
              "    <tr>\n",
              "      <th>4</th>\n",
              "      <td>Who</td>\n",
              "      <td>chi</td>\n",
              "    </tr>\n",
              "  </tbody>\n",
              "</table>\n",
              "</div>"
            ],
            "text/plain": [
              "  english  italian\n",
              "0      Hi     ciao\n",
              "1     Run    corri\n",
              "2     Run    corra\n",
              "3     Run  correte\n",
              "4     Who      chi"
            ]
          },
          "metadata": {
            "tags": []
          },
          "execution_count": 5
        }
      ]
    },
    {
      "cell_type": "code",
      "metadata": {
        "id": "HlzyjTy02oCd"
      },
      "source": [
        "ita_lengths = data['italian'].str.split().apply(len)\n",
        "eng_lengths = data['english'].str.split().apply(len)"
      ],
      "execution_count": 6,
      "outputs": []
    },
    {
      "cell_type": "code",
      "metadata": {
        "id": "u8556LoG2vUM",
        "colab": {
          "base_uri": "https://localhost:8080/",
          "height": 196
        },
        "outputId": "3073208d-fbd8-4ca7-abbe-76db1fb6ff04"
      },
      "source": [
        "data['italian_len'] = data['italian'].str.split().apply(len)\n",
        "data = data[data['italian_len'] < 20]\n",
        "\n",
        "data['english_len'] = data['english'].str.split().apply(len)\n",
        "data = data[data['english_len'] < 20]\n",
        "\n",
        "data['english_inp'] = '<start> ' + data['english'].astype(str)\n",
        "data['english_out'] = data['english'].astype(str) + ' <end>'\n",
        "\n",
        "data = data.drop(['english','italian_len','english_len'], axis=1)\n",
        "# only for the first sentance add a toke <end> so that we will have <end> in tokenizer\n",
        "data.head()"
      ],
      "execution_count": 7,
      "outputs": [
        {
          "output_type": "execute_result",
          "data": {
            "text/html": [
              "<div>\n",
              "<style scoped>\n",
              "    .dataframe tbody tr th:only-of-type {\n",
              "        vertical-align: middle;\n",
              "    }\n",
              "\n",
              "    .dataframe tbody tr th {\n",
              "        vertical-align: top;\n",
              "    }\n",
              "\n",
              "    .dataframe thead th {\n",
              "        text-align: right;\n",
              "    }\n",
              "</style>\n",
              "<table border=\"1\" class=\"dataframe\">\n",
              "  <thead>\n",
              "    <tr style=\"text-align: right;\">\n",
              "      <th></th>\n",
              "      <th>italian</th>\n",
              "      <th>english_inp</th>\n",
              "      <th>english_out</th>\n",
              "    </tr>\n",
              "  </thead>\n",
              "  <tbody>\n",
              "    <tr>\n",
              "      <th>0</th>\n",
              "      <td>ciao</td>\n",
              "      <td>&lt;start&gt; Hi</td>\n",
              "      <td>Hi &lt;end&gt;</td>\n",
              "    </tr>\n",
              "    <tr>\n",
              "      <th>1</th>\n",
              "      <td>corri</td>\n",
              "      <td>&lt;start&gt; Run</td>\n",
              "      <td>Run &lt;end&gt;</td>\n",
              "    </tr>\n",
              "    <tr>\n",
              "      <th>2</th>\n",
              "      <td>corra</td>\n",
              "      <td>&lt;start&gt; Run</td>\n",
              "      <td>Run &lt;end&gt;</td>\n",
              "    </tr>\n",
              "    <tr>\n",
              "      <th>3</th>\n",
              "      <td>correte</td>\n",
              "      <td>&lt;start&gt; Run</td>\n",
              "      <td>Run &lt;end&gt;</td>\n",
              "    </tr>\n",
              "    <tr>\n",
              "      <th>4</th>\n",
              "      <td>chi</td>\n",
              "      <td>&lt;start&gt; Who</td>\n",
              "      <td>Who &lt;end&gt;</td>\n",
              "    </tr>\n",
              "  </tbody>\n",
              "</table>\n",
              "</div>"
            ],
            "text/plain": [
              "   italian  english_inp english_out\n",
              "0     ciao   <start> Hi    Hi <end>\n",
              "1    corri  <start> Run   Run <end>\n",
              "2    corra  <start> Run   Run <end>\n",
              "3  correte  <start> Run   Run <end>\n",
              "4      chi  <start> Who   Who <end>"
            ]
          },
          "metadata": {
            "tags": []
          },
          "execution_count": 7
        }
      ]
    },
    {
      "cell_type": "code",
      "metadata": {
        "id": "o5J6FTOG2x1U",
        "colab": {
          "base_uri": "https://localhost:8080/",
          "height": 412
        },
        "outputId": "9629c158-4f97-4952-fb2b-fb3814302c05"
      },
      "source": [
        "data.sample(10)"
      ],
      "execution_count": 8,
      "outputs": [
        {
          "output_type": "execute_result",
          "data": {
            "text/html": [
              "<div>\n",
              "<style scoped>\n",
              "    .dataframe tbody tr th:only-of-type {\n",
              "        vertical-align: middle;\n",
              "    }\n",
              "\n",
              "    .dataframe tbody tr th {\n",
              "        vertical-align: top;\n",
              "    }\n",
              "\n",
              "    .dataframe thead th {\n",
              "        text-align: right;\n",
              "    }\n",
              "</style>\n",
              "<table border=\"1\" class=\"dataframe\">\n",
              "  <thead>\n",
              "    <tr style=\"text-align: right;\">\n",
              "      <th></th>\n",
              "      <th>italian</th>\n",
              "      <th>english_inp</th>\n",
              "      <th>english_out</th>\n",
              "    </tr>\n",
              "  </thead>\n",
              "  <tbody>\n",
              "    <tr>\n",
              "      <th>122311</th>\n",
              "      <td>la radio non funziona</td>\n",
              "      <td>&lt;start&gt; The radio does not work</td>\n",
              "      <td>The radio does not work &lt;end&gt;</td>\n",
              "    </tr>\n",
              "    <tr>\n",
              "      <th>69375</th>\n",
              "      <td>tu non sei serio</td>\n",
              "      <td>&lt;start&gt; You are not serious</td>\n",
              "      <td>You are not serious &lt;end&gt;</td>\n",
              "    </tr>\n",
              "    <tr>\n",
              "      <th>110414</th>\n",
              "      <td>noi non possiamo trainare questa macchina</td>\n",
              "      <td>&lt;start&gt; We can not tow this car</td>\n",
              "      <td>We can not tow this car &lt;end&gt;</td>\n",
              "    </tr>\n",
              "    <tr>\n",
              "      <th>25459</th>\n",
              "      <td>ehi posso aiutare</td>\n",
              "      <td>&lt;start&gt; Hey can I help</td>\n",
              "      <td>Hey can I help &lt;end&gt;</td>\n",
              "    </tr>\n",
              "    <tr>\n",
              "      <th>255524</th>\n",
              "      <td>tom se ne occuperà</td>\n",
              "      <td>&lt;start&gt; Tom is going to take care of it</td>\n",
              "      <td>Tom is going to take care of it &lt;end&gt;</td>\n",
              "    </tr>\n",
              "    <tr>\n",
              "      <th>174528</th>\n",
              "      <td>voi dovete essere ottimisti</td>\n",
              "      <td>&lt;start&gt; You have to be optimistic</td>\n",
              "      <td>You have to be optimistic &lt;end&gt;</td>\n",
              "    </tr>\n",
              "    <tr>\n",
              "      <th>81155</th>\n",
              "      <td>faremmo meglio ad andare tom</td>\n",
              "      <td>&lt;start&gt; We would better go Tom</td>\n",
              "      <td>We would better go Tom &lt;end&gt;</td>\n",
              "    </tr>\n",
              "    <tr>\n",
              "      <th>12494</th>\n",
              "      <td>li avevo dimenticati</td>\n",
              "      <td>&lt;start&gt; I forgot them</td>\n",
              "      <td>I forgot them &lt;end&gt;</td>\n",
              "    </tr>\n",
              "    <tr>\n",
              "      <th>219050</th>\n",
              "      <td>quando avete finito il lavoro</td>\n",
              "      <td>&lt;start&gt; When did you finish the work</td>\n",
              "      <td>When did you finish the work &lt;end&gt;</td>\n",
              "    </tr>\n",
              "    <tr>\n",
              "      <th>201622</th>\n",
              "      <td>tom è qui per proteggere mary</td>\n",
              "      <td>&lt;start&gt; Tom is here to protect Mary</td>\n",
              "      <td>Tom is here to protect Mary &lt;end&gt;</td>\n",
              "    </tr>\n",
              "  </tbody>\n",
              "</table>\n",
              "</div>"
            ],
            "text/plain": [
              "                                          italian  ...                            english_out\n",
              "122311                      la radio non funziona  ...          The radio does not work <end>\n",
              "69375                            tu non sei serio  ...              You are not serious <end>\n",
              "110414  noi non possiamo trainare questa macchina  ...          We can not tow this car <end>\n",
              "25459                           ehi posso aiutare  ...                   Hey can I help <end>\n",
              "255524                         tom se ne occuperà  ...  Tom is going to take care of it <end>\n",
              "174528                voi dovete essere ottimisti  ...        You have to be optimistic <end>\n",
              "81155                faremmo meglio ad andare tom  ...           We would better go Tom <end>\n",
              "12494                        li avevo dimenticati  ...                    I forgot them <end>\n",
              "219050              quando avete finito il lavoro  ...     When did you finish the work <end>\n",
              "201622              tom è qui per proteggere mary  ...      Tom is here to protect Mary <end>\n",
              "\n",
              "[10 rows x 3 columns]"
            ]
          },
          "metadata": {
            "tags": []
          },
          "execution_count": 8
        }
      ]
    },
    {
      "cell_type": "markdown",
      "metadata": {
        "id": "m5L8ZhCi8Fs9"
      },
      "source": [
        "## Tokenizer"
      ]
    },
    {
      "cell_type": "code",
      "metadata": {
        "id": "pSRfvhlb8LcD"
      },
      "source": [
        "from sklearn.model_selection import train_test_split\n",
        "train, validation = train_test_split(data, test_size=0.2)"
      ],
      "execution_count": 9,
      "outputs": []
    },
    {
      "cell_type": "code",
      "metadata": {
        "id": "S7yXaG8k8Ml5",
        "colab": {
          "base_uri": "https://localhost:8080/"
        },
        "outputId": "ad141016-6407-4376-cb0e-28a66656f004"
      },
      "source": [
        "print(train.shape, validation.shape)\n",
        "# for one sentence we will be adding <end> token so that the tokanizer learns the word <end>\n",
        "# with this we can use only one tokenizer for both encoder output and decoder output\n",
        "train.iloc[0]['english_inp']= str(train.iloc[0]['english_inp'])+' <end>'\n",
        "train.iloc[0]['english_out']= str(train.iloc[0]['english_out'])+' <end>'"
      ],
      "execution_count": 10,
      "outputs": [
        {
          "output_type": "stream",
          "text": [
            "(275852, 3) (68964, 3)\n"
          ],
          "name": "stdout"
        }
      ]
    },
    {
      "cell_type": "code",
      "metadata": {
        "id": "IAJoNGfr8ZPG",
        "colab": {
          "base_uri": "https://localhost:8080/",
          "height": 196
        },
        "outputId": "8017b977-36b0-41f4-de94-0bd92faafda1"
      },
      "source": [
        "train.head()"
      ],
      "execution_count": 11,
      "outputs": [
        {
          "output_type": "execute_result",
          "data": {
            "text/html": [
              "<div>\n",
              "<style scoped>\n",
              "    .dataframe tbody tr th:only-of-type {\n",
              "        vertical-align: middle;\n",
              "    }\n",
              "\n",
              "    .dataframe tbody tr th {\n",
              "        vertical-align: top;\n",
              "    }\n",
              "\n",
              "    .dataframe thead th {\n",
              "        text-align: right;\n",
              "    }\n",
              "</style>\n",
              "<table border=\"1\" class=\"dataframe\">\n",
              "  <thead>\n",
              "    <tr style=\"text-align: right;\">\n",
              "      <th></th>\n",
              "      <th>italian</th>\n",
              "      <th>english_inp</th>\n",
              "      <th>english_out</th>\n",
              "    </tr>\n",
              "  </thead>\n",
              "  <tbody>\n",
              "    <tr>\n",
              "      <th>311020</th>\n",
              "      <td>tutte le mie figlie vogliono andare a boston</td>\n",
              "      <td>&lt;start&gt; All of my children want to go to Bosto...</td>\n",
              "      <td>All of my children want to go to Boston &lt;end&gt; ...</td>\n",
              "    </tr>\n",
              "    <tr>\n",
              "      <th>106806</th>\n",
              "      <td>dica a tom che non sono a casa</td>\n",
              "      <td>&lt;start&gt; Tell Tom I am not home</td>\n",
              "      <td>Tell Tom I am not home &lt;end&gt;</td>\n",
              "    </tr>\n",
              "    <tr>\n",
              "      <th>124058</th>\n",
              "      <td>tom non è più vivo</td>\n",
              "      <td>&lt;start&gt; Tom is no longer alive</td>\n",
              "      <td>Tom is no longer alive &lt;end&gt;</td>\n",
              "    </tr>\n",
              "    <tr>\n",
              "      <th>138134</th>\n",
              "      <td>ti staranno guardando</td>\n",
              "      <td>&lt;start&gt; They will be watching you</td>\n",
              "      <td>They will be watching you &lt;end&gt;</td>\n",
              "    </tr>\n",
              "    <tr>\n",
              "      <th>7312</th>\n",
              "      <td>chiami qualcuno</td>\n",
              "      <td>&lt;start&gt; Call someone</td>\n",
              "      <td>Call someone &lt;end&gt;</td>\n",
              "    </tr>\n",
              "  </tbody>\n",
              "</table>\n",
              "</div>"
            ],
            "text/plain": [
              "                                             italian  ...                                        english_out\n",
              "311020  tutte le mie figlie vogliono andare a boston  ...  All of my children want to go to Boston <end> ...\n",
              "106806                dica a tom che non sono a casa  ...                       Tell Tom I am not home <end>\n",
              "124058                            tom non è più vivo  ...                       Tom is no longer alive <end>\n",
              "138134                         ti staranno guardando  ...                    They will be watching you <end>\n",
              "7312                                 chiami qualcuno  ...                                 Call someone <end>\n",
              "\n",
              "[5 rows x 3 columns]"
            ]
          },
          "metadata": {
            "tags": []
          },
          "execution_count": 11
        }
      ]
    },
    {
      "cell_type": "code",
      "metadata": {
        "id": "643DDFNi8Fde"
      },
      "source": [
        "tknizer_ita = Tokenizer(filters='!\"#$%&()*+,-./:;=?@[\\\\]^_`{|}~\\t\\n')\n",
        "tknizer_ita.fit_on_texts(train['italian'].values)\n",
        "tknizer_eng = Tokenizer(filters='!\"#$%&()*+,-./:;=?@[\\\\]^_`{|}~\\t\\n')\n",
        "tknizer_eng.fit_on_texts(train['english_inp'].values)"
      ],
      "execution_count": 92,
      "outputs": []
    },
    {
      "cell_type": "code",
      "metadata": {
        "id": "6rTodkqnWSHS",
        "colab": {
          "base_uri": "https://localhost:8080/"
        },
        "outputId": "979621e5-1a42-4891-899b-416d122e1a3c"
      },
      "source": [
        "train['italian'].values"
      ],
      "execution_count": 93,
      "outputs": [
        {
          "output_type": "execute_result",
          "data": {
            "text/plain": [
              "array(['tutte le mie figlie vogliono andare a boston',\n",
              "       'dica a tom che non sono a casa', 'tom non è più vivo', ...,\n",
              "       'sono molto felice di incontrarla oggi', 'sembrate intelligenti',\n",
              "       'ci hanno trattati come persone di famiglia'], dtype=object)"
            ]
          },
          "metadata": {
            "tags": []
          },
          "execution_count": 93
        }
      ]
    },
    {
      "cell_type": "code",
      "metadata": {
        "id": "vzgLpzJ-8gcY",
        "colab": {
          "base_uri": "https://localhost:8080/"
        },
        "outputId": "58c8b039-36c1-4051-a0c4-d0539cecea66"
      },
      "source": [
        "vocab_size_eng=len(tknizer_eng.word_index.keys())\n",
        "print(vocab_size_eng)\n",
        "vocab_size_ita=len(tknizer_ita.word_index.keys())\n",
        "print(vocab_size_ita)"
      ],
      "execution_count": 94,
      "outputs": [
        {
          "output_type": "stream",
          "text": [
            "12816\n",
            "26224\n"
          ],
          "name": "stdout"
        }
      ]
    },
    {
      "cell_type": "code",
      "metadata": {
        "id": "UqX4HLxq8iDn",
        "colab": {
          "base_uri": "https://localhost:8080/"
        },
        "outputId": "df3e43d3-a857-4c7a-9d50-88afe9f758ee"
      },
      "source": [
        "tknizer_eng.word_index['<start>'], tknizer_eng.word_index['<end>']"
      ],
      "execution_count": 91,
      "outputs": [
        {
          "output_type": "execute_result",
          "data": {
            "text/plain": [
              "(1, 10103)"
            ]
          },
          "metadata": {
            "tags": []
          },
          "execution_count": 91
        }
      ]
    },
    {
      "cell_type": "code",
      "metadata": {
        "colab": {
          "base_uri": "https://localhost:8080/"
        },
        "id": "kkyWKGfo9GGF",
        "outputId": "4594707e-1f28-4b90-9a24-450d6bbad5c0"
      },
      "source": [
        "!wget https://www.dropbox.com/s/ddkmtqz01jc024u/glove.6B.100d.txt"
      ],
      "execution_count": null,
      "outputs": [
        {
          "output_type": "stream",
          "text": [
            "--2021-05-26 08:40:23--  https://www.dropbox.com/s/ddkmtqz01jc024u/glove.6B.100d.txt\n",
            "Resolving www.dropbox.com (www.dropbox.com)... 162.125.80.18, 2620:100:601c:18::a27d:612\n",
            "Connecting to www.dropbox.com (www.dropbox.com)|162.125.80.18|:443... connected.\n",
            "HTTP request sent, awaiting response... 301 Moved Permanently\n",
            "Location: /s/raw/ddkmtqz01jc024u/glove.6B.100d.txt [following]\n",
            "--2021-05-26 08:40:24--  https://www.dropbox.com/s/raw/ddkmtqz01jc024u/glove.6B.100d.txt\n",
            "Reusing existing connection to www.dropbox.com:443.\n",
            "HTTP request sent, awaiting response... 302 Found\n",
            "Location: https://ucc42d30e4f55c7000b9573f4972.dl.dropboxusercontent.com/cd/0/inline/BPOEuc_DvZ_syGkCJmLjYCCgMQYfrtBdyNtbcfPTGHpvk3Tp8vqEhZdlFWXB5YAfZ8w-6bJZWNKGY0vnm2vu4UQkTS-Mhw0qXH_WECa0FKu6F3Owyiof00ZpnVrhzk_pDbZhzezcQzMwb3r1ktBf7JCs/file# [following]\n",
            "--2021-05-26 08:40:25--  https://ucc42d30e4f55c7000b9573f4972.dl.dropboxusercontent.com/cd/0/inline/BPOEuc_DvZ_syGkCJmLjYCCgMQYfrtBdyNtbcfPTGHpvk3Tp8vqEhZdlFWXB5YAfZ8w-6bJZWNKGY0vnm2vu4UQkTS-Mhw0qXH_WECa0FKu6F3Owyiof00ZpnVrhzk_pDbZhzezcQzMwb3r1ktBf7JCs/file\n",
            "Resolving ucc42d30e4f55c7000b9573f4972.dl.dropboxusercontent.com (ucc42d30e4f55c7000b9573f4972.dl.dropboxusercontent.com)... 162.125.6.15, 2620:100:601c:15::a27d:60f\n",
            "Connecting to ucc42d30e4f55c7000b9573f4972.dl.dropboxusercontent.com (ucc42d30e4f55c7000b9573f4972.dl.dropboxusercontent.com)|162.125.6.15|:443... connected.\n",
            "HTTP request sent, awaiting response... 200 OK\n",
            "Length: 347116733 (331M) [text/plain]\n",
            "Saving to: ‘glove.6B.100d.txt’\n",
            "\n",
            "glove.6B.100d.txt   100%[===================>] 331.04M   135MB/s    in 2.5s    \n",
            "\n",
            "2021-05-26 08:40:28 (135 MB/s) - ‘glove.6B.100d.txt’ saved [347116733/347116733]\n",
            "\n"
          ],
          "name": "stdout"
        }
      ]
    },
    {
      "cell_type": "code",
      "metadata": {
        "id": "r6ZA3h929Bf0"
      },
      "source": [
        "embeddings_index = dict()\n",
        "f = open('glove.6B.100d.txt')\n",
        "for line in f:\n",
        "    values = line.split()\n",
        "    word = values[0]\n",
        "    coefs = np.asarray(values[1:], dtype='float32')\n",
        "    embeddings_index[word] = coefs\n",
        "f.close()\n",
        "\n",
        "embedding_matrix = np.zeros((vocab_size_eng+1, 100))\n",
        "for word, i in tknizer_eng.word_index.items():\n",
        "    embedding_vector = embeddings_index.get(word)\n",
        "    if embedding_vector is not None:\n",
        "        embedding_matrix[i] = embedding_vector"
      ],
      "execution_count": null,
      "outputs": []
    },
    {
      "cell_type": "markdown",
      "metadata": {
        "id": "S8RDrP4xKabR"
      },
      "source": [
        "## <font color='blue'>**Implement custom encoder decoder**</font>"
      ]
    },
    {
      "cell_type": "code",
      "metadata": {
        "id": "YtCni9R__bal"
      },
      "source": [
        "class Dataset:\n",
        "    def __init__(self, data, tknizer_ita, tknizer_eng, max_len):\n",
        "        self.encoder_inps = data['italian'].values\n",
        "        self.decoder_inps = data['english_inp'].values\n",
        "        self.decoder_outs = data['english_out'].values\n",
        "        self.tknizer_eng = tknizer_eng\n",
        "        self.tknizer_ita = tknizer_ita\n",
        "        self.max_len = max_len\n",
        "\n",
        "    def __getitem__(self, i):\n",
        "        self.encoder_seq = self.tknizer_ita.texts_to_sequences([self.encoder_inps[i]]) # need to pass list of values\n",
        "        self.decoder_inp_seq = self.tknizer_eng.texts_to_sequences([self.decoder_inps[i]])\n",
        "        self.decoder_out_seq = self.tknizer_eng.texts_to_sequences([self.decoder_outs[i]])\n",
        "\n",
        "        self.encoder_seq = pad_sequences(self.encoder_seq, maxlen=self.max_len, dtype='int32', padding='post')\n",
        "        self.decoder_inp_seq = pad_sequences(self.decoder_inp_seq, maxlen=self.max_len, dtype='int32', padding='post')\n",
        "        self.decoder_out_seq = pad_sequences(self.decoder_out_seq, maxlen=self.max_len, dtype='int32', padding='post')\n",
        "        return self.encoder_seq, self.decoder_inp_seq, self.decoder_out_seq\n",
        "\n",
        "    def __len__(self): # your model.fit_gen requires this function\n",
        "        return len(self.encoder_inps)\n",
        "\n",
        "    \n",
        "class Dataloder(tf.keras.utils.Sequence):    \n",
        "    def __init__(self, dataset, batch_size=1):\n",
        "        self.dataset = dataset\n",
        "        self.batch_size = batch_size\n",
        "        self.indexes = np.arange(len(self.dataset.encoder_inps))\n",
        "\n",
        "\n",
        "    def __getitem__(self, i):\n",
        "        start = i * self.batch_size\n",
        "        stop = (i + 1) * self.batch_size\n",
        "        data = []\n",
        "        for j in range(start, stop):\n",
        "            data.append(self.dataset[j])\n",
        "\n",
        "        batch = [np.squeeze(np.stack(samples, axis=1), axis=0) for samples in zip(*data)]\n",
        "        # we are creating data like ([italian, english_inp], english_out) these are already converted into seq\n",
        "        return tuple([[batch[0],batch[1]],batch[2]])\n",
        "\n",
        "    def __len__(self):  # your model.fit_gen requires this function\n",
        "        return len(self.indexes) // self.batch_size\n",
        "\n",
        "    def on_epoch_end(self):\n",
        "        self.indexes = np.random.permutation(self.indexes)"
      ],
      "execution_count": 16,
      "outputs": []
    },
    {
      "cell_type": "code",
      "metadata": {
        "colab": {
          "base_uri": "https://localhost:8080/"
        },
        "id": "TWIoZF5IAXYB",
        "outputId": "3596cb55-40a5-4491-deb9-72bdc4c28a59"
      },
      "source": [
        "print(len(tknizer_ita.word_counts))\n",
        "print(len(tknizer_eng.word_counts))"
      ],
      "execution_count": null,
      "outputs": [
        {
          "output_type": "stream",
          "text": [
            "26300\n",
            "12887\n"
          ],
          "name": "stdout"
        }
      ]
    },
    {
      "cell_type": "code",
      "metadata": {
        "colab": {
          "base_uri": "https://localhost:8080/"
        },
        "id": "HPlq-5GOAThA",
        "outputId": "c0e1c514-eb0d-4e75-bda5-2c5734f5689d"
      },
      "source": [
        "train_dataset = Dataset(train, tknizer_ita, tknizer_eng, 20)\n",
        "test_dataset  = Dataset(validation, tknizer_ita, tknizer_eng, 20)\n",
        "\n",
        "train_dataloader = Dataloder(train_dataset, batch_size=1024)\n",
        "test_dataloader = Dataloder(test_dataset, batch_size=1024)\n",
        "\n",
        "\n",
        "print(train_dataloader[0][0][0].shape, train_dataloader[0][0][1].shape, train_dataloader[0][1].shape)\n",
        "\n",
        "# train_dataloader[0][0][0] -> eng_input (not available in testing)\n",
        "# train_dataloader[0][0][0] -> eng_out (sentence to predict)"
      ],
      "execution_count": null,
      "outputs": [
        {
          "output_type": "stream",
          "text": [
            "(1024, 20) (1024, 20) (1024, 20)\n"
          ],
          "name": "stdout"
        }
      ]
    },
    {
      "cell_type": "markdown",
      "metadata": {
        "id": "A45uc0JILMlV"
      },
      "source": [
        "<font color='blue'>**Encoder**</font>"
      ]
    },
    {
      "cell_type": "code",
      "metadata": {
        "id": "9cex2XfCLOew"
      },
      "source": [
        "class Encoder(tf.keras.Model):\n",
        "    '''\n",
        "    Encoder model -- That takes a input sequence and returns encoder-outputs,encoder_final_state_h,encoder_final_state_c\n",
        "    '''\n",
        "\n",
        "    def __init__(self,inp_vocab_size,embedding_size,lstm_size,input_length):\n",
        "        #Initialize Embedding layer\n",
        "        #Intialize Encoder LSTM layer\n",
        "        super().__init__()\n",
        "        self.inp_vocab_size = inp_vocab_size\n",
        "        self.embedding_size = embedding_size\n",
        "        self.input_length = input_length\n",
        "        self.lstm_units= lstm_size\n",
        "        self.lstm_output = 0\n",
        "        self.lstm_state_h=0\n",
        "        self.lstm_state_c=0\n",
        "        \n",
        "    def build(self, input_shape):\n",
        "        self.embedding = Embedding(input_dim=self.inp_vocab_size, output_dim=self.embedding_size, input_length=self.input_length,\n",
        "                           mask_zero=True, name=\"embedding_layer_encoder\")\n",
        "        self.lstm = LSTM(self.lstm_units, return_state=True, return_sequences=True, name=\"Encoder_LSTM\")\n",
        "\n",
        "\n",
        "    def call(self,input_sequence,states=[]):\n",
        "        '''\n",
        "          This function takes a sequence input and the initial states of the encoder.\n",
        "          Pass the input_sequence input to the Embedding layer, Pass the embedding layer ouput to encoder_lstm\n",
        "          returns -- encoder_output, last time step's hidden and cell state\n",
        "        '''\n",
        "        input_embedding = self.embedding(input_sequence)\n",
        "        self.lstm_output, self.lstm_state_h, self.lstm_state_c = self.lstm(input_embedding)\n",
        "        return self.lstm_output, self.lstm_state_h, self.lstm_state_c\n",
        "\n",
        "    def initialize_states(self,batch_size):\n",
        "      '''\n",
        "      Given a batch size it will return intial hidden state and intial cell state.\n",
        "      If batch size is 32- Hidden state is zeros of size [32,lstm_units], cell state zeros is of size [32,lstm_units]\n",
        "      '''\n",
        "      return np.zeros(shape=(batch_size,self.lstm_units))\n",
        "      \n"
      ],
      "execution_count": null,
      "outputs": []
    },
    {
      "cell_type": "code",
      "metadata": {
        "colab": {
          "base_uri": "https://localhost:8080/"
        },
        "id": "UROHV3Co6Yi0",
        "outputId": "c9e15afb-8a6f-4946-b503-3dbb2f43cfd9"
      },
      "source": [
        "np.zeros(shape=(2000,64)).shape"
      ],
      "execution_count": null,
      "outputs": [
        {
          "output_type": "execute_result",
          "data": {
            "text/plain": [
              "(2000, 64)"
            ]
          },
          "metadata": {
            "tags": []
          },
          "execution_count": 82
        }
      ]
    },
    {
      "cell_type": "markdown",
      "metadata": {
        "id": "EtbOI3VwLOe0"
      },
      "source": [
        "<font color='orange'>**Grader function - 1**</font>"
      ]
    },
    {
      "cell_type": "code",
      "metadata": {
        "id": "ziSqOgmhLOe1",
        "colab": {
          "base_uri": "https://localhost:8080/"
        },
        "outputId": "1d146059-087f-42a4-c010-0c2ded5e4ee5"
      },
      "source": [
        "def grader_check_encoder():\n",
        "    '''\n",
        "        vocab-size: Unique words of the input language,\n",
        "        embedding_size: output embedding dimension for each word after embedding layer,\n",
        "        lstm_size: Number of lstm units,\n",
        "        input_length: Length of the input sentence,\n",
        "        batch_size\n",
        "    '''\n",
        "    vocab_size=10\n",
        "    embedding_size=20\n",
        "    lstm_size=32\n",
        "    input_length=10\n",
        "    batch_size=16\n",
        "    #Intialzing encoder \n",
        "    encoder=Encoder(vocab_size,embedding_size,lstm_size,input_length)\n",
        "    input_sequence=tf.random.uniform(shape=[batch_size,input_length],maxval=vocab_size,minval=0,dtype=tf.int32)\n",
        "    print(\"Input seq : \",input_sequence.shape)\n",
        "    #Intializing encoder initial states\n",
        "    initial_state=encoder.initialize_states(batch_size)\n",
        "    \n",
        "    encoder_output,state_h,state_c=encoder(input_sequence,initial_state)\n",
        "    \n",
        "    assert(encoder_output.shape==(batch_size,input_length,lstm_size) and state_h.shape==(batch_size,lstm_size) and state_c.shape==(batch_size,lstm_size))\n",
        "    return True\n",
        "print(grader_check_encoder())"
      ],
      "execution_count": null,
      "outputs": [
        {
          "output_type": "stream",
          "text": [
            "Input seq :  (16, 10)\n",
            "True\n"
          ],
          "name": "stdout"
        }
      ]
    },
    {
      "cell_type": "code",
      "metadata": {
        "id": "x1ES1-sJLOe4"
      },
      "source": [
        "class Decoder(tf.keras.Model):\n",
        "    '''\n",
        "    Encoder model -- That takes a input sequence and returns output sequence\n",
        "    '''\n",
        "\n",
        "    def __init__(self,out_vocab_size,embedding_size,lstm_size,input_length):\n",
        "\n",
        "        #Initialize Embedding layer\n",
        "        #Intialize Decoder LSTM layer\n",
        "        super().__init__()\n",
        "        self.out_vocab_size = out_vocab_size\n",
        "        self.embedding_size = embedding_size\n",
        "        self.dec_units = lstm_size\n",
        "        self.input_length = input_length\n",
        "\n",
        "    def build(self, input_shape):\n",
        "        self.embedding = Embedding(input_dim=self.out_vocab_size, output_dim=self.embedding_size, input_length=self.input_length,\n",
        "                           mask_zero=True, name=\"embedding_layer_decoder\")\n",
        "        self.lstm = LSTM(self.dec_units, return_sequences=True, return_state=True, name=\"Decoder_LSTM\")\n",
        "\n",
        "\n",
        "    def call(self,input_sequence,initial_states):\n",
        "        '''\n",
        "          This function takes a sequence input and the initial states of the encoder.\n",
        "          Pass the input_sequence input to the Embedding layer, Pass the embedding layer ouput to decoder_lstm\n",
        "        \n",
        "          returns -- decoder_output,decoder_final_state_h,decoder_final_state_c\n",
        "        '''\n",
        "        target_embed = self.embedding(input_sequence)\n",
        "        # print(\"Dec-Target Embedding shape: \",target_embed.shape)\n",
        "        # print(\"Dec-Initial stape: \",initial_states[0].shape,initial_states[1].shape)\n",
        "        # print(initial_states.shape)\n",
        "        # decoder_output, decoder_final_state_h,decoder_final_state_c = self.lstm(target_embedd, initial_state=[state_h, state_c])\n",
        "        decoder_output, decoder_final_state_h,decoder_final_state_c = self.lstm(target_embed, initial_state=initial_states)\n",
        "        return decoder_output, decoder_final_state_h, decoder_final_state_c \n",
        "      \n"
      ],
      "execution_count": null,
      "outputs": []
    },
    {
      "cell_type": "markdown",
      "metadata": {
        "id": "Hq-I0SUbLOe8"
      },
      "source": [
        "<font color='orange'>**Grader function - 2**</font>"
      ]
    },
    {
      "cell_type": "code",
      "metadata": {
        "id": "0B0gokgKLOe8",
        "colab": {
          "base_uri": "https://localhost:8080/"
        },
        "outputId": "23d13326-042a-4dc5-9f29-9653579fc3c5"
      },
      "source": [
        "def grader_decoder():\n",
        "    '''\n",
        "        out_vocab_size: Unique words of the target language,\n",
        "        embedding_size: output embedding dimension for each word after embedding layer,\n",
        "        dec_units: Number of lstm units in decoder,\n",
        "        input_length: Length of the input sentence,\n",
        "        batch_size\n",
        "    '''\n",
        "    out_vocab_size=13 \n",
        "    embedding_dim=12 \n",
        "    input_length=10\n",
        "    dec_units=16 \n",
        "    batch_size=32\n",
        "    \n",
        "    target_sentences=tf.random.uniform(shape=(batch_size,input_length),maxval=10,minval=0,dtype=tf.int32)\n",
        "    encoder_output=tf.random.uniform(shape=[batch_size,input_length,dec_units])\n",
        "    state_h=tf.random.uniform(shape=[batch_size,dec_units])\n",
        "    state_c=tf.random.uniform(shape=[batch_size,dec_units])\n",
        "    states=[state_h,state_c]\n",
        "    decoder=Decoder(out_vocab_size, embedding_dim, dec_units,input_length )\n",
        "    print(target_sentences.shape)\n",
        "    output,_,_=decoder(target_sentences, states)\n",
        "    assert(output.shape==(batch_size,input_length,dec_units))\n",
        "    return True\n",
        "print(grader_decoder())\n"
      ],
      "execution_count": null,
      "outputs": [
        {
          "output_type": "stream",
          "text": [
            "(32, 10)\n",
            "True\n"
          ],
          "name": "stdout"
        }
      ]
    },
    {
      "cell_type": "code",
      "metadata": {
        "id": "BXrIj4scLOe_"
      },
      "source": [
        "class Encoder_decoder(tf.keras.Model):\n",
        "    \n",
        "    def __init__(self,encoder_inputs_length,decoder_inputs_length, ita_vocab_size, eng_vocab_size):\n",
        "        \n",
        "        super().__init__() \n",
        "        self.encoder_inputs_length =encoder_inputs_length\n",
        "        self.decoder_inputs_length = decoder_inputs_length\n",
        "        self.output_vocab_size = eng_vocab_size\n",
        "        self.input_vocab_size  = ita_vocab_size\n",
        "\n",
        "        \n",
        "    \n",
        "    def build(self, input_shape):\n",
        "      # self,inp_vocab_size,embedding_size,lstm_size,input_length)\n",
        "      self.encoder = Encoder(inp_vocab_size=self.input_vocab_size, embedding_size=20, input_length=self.encoder_inputs_length, lstm_size=64)\n",
        "      # (self,out_vocab_size,embedding_size,lstm_size,input_length)\n",
        "      self.decoder = Decoder(out_vocab_size=self.output_vocab_size, embedding_size=20, input_length=self.decoder_inputs_length, lstm_size=64)\n",
        "      self.dense   = Dense(self.output_vocab_size, activation='softmax',name=\"Enc_Dec_Dense\")\n",
        "\n",
        "\n",
        "    def call(self,data):\n",
        "        '''\n",
        "        A. Pass the input sequence to Encoder layer -- Return encoder_output,encoder_final_state_h,encoder_final_state_c\n",
        "        B. Pass the target sequence to Decoder layer with intial states as encoder_final_state_h,encoder_final_state_C\n",
        "        C. Pass the decoder_outputs into Dense layer\n",
        "        Return decoder_outputs\n",
        "        '''\n",
        "        input,output = data[0], data[1]\n",
        "        encoder_output, encoder_h, encoder_c = self.encoder(input, self.encoder.initialize_states(batch_size=1024)) # you need to pass states too\n",
        "        decoder_output, decoder_h, decoder_h= self.decoder(output, [encoder_h, encoder_c])\n",
        "        output= self.dense(decoder_output)\n",
        "        return output\n",
        "        \n",
        "        "
      ],
      "execution_count": null,
      "outputs": []
    },
    {
      "cell_type": "code",
      "metadata": {
        "id": "zl_deiKcYrPO"
      },
      "source": [
        "train_dataset = Dataset(train, tknizer_ita, tknizer_eng, 20)\n",
        "test_dataset  = Dataset(validation, tknizer_ita, tknizer_eng, 20)\n",
        "\n",
        "train_dataloader = Dataloder(train_dataset, batch_size=1024)\n",
        "test_dataloader = Dataloder(test_dataset, batch_size=1024)\n"
      ],
      "execution_count": null,
      "outputs": []
    },
    {
      "cell_type": "code",
      "metadata": {
        "colab": {
          "base_uri": "https://localhost:8080/"
        },
        "id": "rk7kgDdk4rHU",
        "outputId": "115b62cb-43d9-4c8e-e21d-669e3bd2f91b"
      },
      "source": [
        "print(vocab_size_ita)\n",
        "print(vocab_size_eng)"
      ],
      "execution_count": null,
      "outputs": [
        {
          "output_type": "stream",
          "text": [
            "26300\n",
            "12887\n"
          ],
          "name": "stdout"
        }
      ]
    },
    {
      "cell_type": "code",
      "metadata": {
        "colab": {
          "base_uri": "https://localhost:8080/"
        },
        "id": "SYK33GesAeYc",
        "outputId": "81cc040e-06ee-4e07-f23a-d3d520d144bb"
      },
      "source": [
        "# encoder_inputs_length,decoder_inputs_length, output_vocab_size, eng_vocab_size\n",
        "model  = Encoder_decoder(encoder_inputs_length=20,decoder_inputs_length=20,ita_vocab_size=vocab_size_ita+1, eng_vocab_size = vocab_size_eng+1)\n",
        "optimizer = tf.keras.optimizers.Adam()\n",
        "model.compile(optimizer=optimizer,loss='sparse_categorical_crossentropy')\n",
        "\n",
        "model.fit_generator(train_dataloader, epochs=2, validation_data=test_dataloader)\n",
        "# model.summary()\n"
      ],
      "execution_count": null,
      "outputs": [
        {
          "output_type": "stream",
          "text": [
            "/usr/local/lib/python3.7/dist-packages/tensorflow/python/keras/engine/training.py:1940: UserWarning: `Model.fit_generator` is deprecated and will be removed in a future version. Please use `Model.fit`, which supports generators.\n",
            "  warnings.warn('`Model.fit_generator` is deprecated and '\n",
            "/usr/local/lib/python3.7/dist-packages/tensorflow/python/data/ops/dataset_ops.py:3704: UserWarning: Even though the `tf.config.experimental_run_functions_eagerly` option is set, this option does not apply to tf.data functions. To force eager execution of tf.data functions, please use `tf.data.experimental.enable.debug_mode()`.\n",
            "  \"Even though the `tf.config.experimental_run_functions_eagerly` \"\n"
          ],
          "name": "stderr"
        },
        {
          "output_type": "stream",
          "text": [
            "Epoch 1/2\n",
            "269/269 [==============================] - 72s 267ms/step - loss: 2.0735 - val_loss: 1.8107\n",
            "Epoch 2/2\n",
            "269/269 [==============================] - 72s 267ms/step - loss: 1.7630 - val_loss: 1.6816\n"
          ],
          "name": "stdout"
        },
        {
          "output_type": "execute_result",
          "data": {
            "text/plain": [
              "<tensorflow.python.keras.callbacks.History at 0x7f98280afc90>"
            ]
          },
          "metadata": {
            "tags": []
          },
          "execution_count": 90
        }
      ]
    },
    {
      "cell_type": "code",
      "metadata": {
        "id": "kcL61dJXLOfB",
        "colab": {
          "base_uri": "https://localhost:8080/"
        },
        "outputId": "df35daeb-87f1-41a1-e2c8-be44303cdf61"
      },
      "source": [
        "# Create an object of encoder_decoder Model class, \n",
        "# Compile the model and fit the model\n",
        "model.layers"
      ],
      "execution_count": null,
      "outputs": [
        {
          "output_type": "execute_result",
          "data": {
            "text/plain": [
              "[<__main__.Encoder at 0x7f98281dd990>,\n",
              " <__main__.Decoder at 0x7f98281dd190>,\n",
              " <tensorflow.python.keras.layers.core.Dense at 0x7f982818a190>]"
            ]
          },
          "metadata": {
            "tags": []
          },
          "execution_count": 91
        }
      ]
    },
    {
      "cell_type": "code",
      "metadata": {
        "id": "SkARSlZgLOfE"
      },
      "source": [
        "def predict(input_sentence):\n",
        "  '''\n",
        "  A. Given input sentence, convert the sentence into integers using tokenizer used earlier\n",
        "  B. Pass the input_sequence to encoder. we get encoder_outputs, last time step hidden and cell state\n",
        "  C. Initialize index of <start> as input to decoder. and encoder final states as input_states to decoder\n",
        "  D. till we reach max_length of decoder or till the model predicted word <end>:\n",
        "         predicted_out,state_h,state_c=model.layers[1](dec_input,states)\n",
        "         pass the predicted_out to the dense layer\n",
        "         update the states=[state_h,state_c]\n",
        "         And get the index of the word with maximum probability of the dense layer output, using the tokenizer(word index) get the word and then store it in a string.\n",
        "         Update the input_to_decoder with current predictions\n",
        "  F. Return the predicted sentence\n",
        "  '''\n",
        "  input_length = 20\n",
        "  lstm_units = 64\n",
        "  encoder_seq = tknizer_ita.texts_to_sequences([input_sentence]) # need to pass list of values\n",
        "  encoder_seq = pad_sequences(encoder_seq, maxlen=input_length, dtype='int32', padding='post')\n",
        "  # print(\"TOKENIZED DATA :\",encoder_seq.shape)\n",
        "\n",
        "  encoder_output, enc_h, enc_c  = model.layers[0](encoder_seq, np.zeros(shape=(1,64)))\n",
        "  # print(\"ENCODER OUTPUT SHAPES: \",encoder_output.shape, enc_h.shape, enc_c.shape)\n",
        "\n",
        "  dec_input = np.array([[1]+[0]*19]) # max_len=20 and index of <start> is 1\n",
        "  # print(dec_input.shape)\n",
        "  states = [enc_h, enc_c]\n",
        "  result_sentence = \"\"\n",
        "\n",
        "  # print(\"DECODER PART STARTS....\")\n",
        "  for i in range(20):\n",
        "    # print(dec_input[0])\n",
        "    predicted_out,state_h,state_c=model.layers[1](dec_input,states)\n",
        "    dense_op = model.layers[2](predicted_out)\n",
        "    states = [state_h,state_c] #update states to be used in next iter\n",
        "\n",
        "    pred_index = np.argmax(dense_op.numpy()[0][0])\n",
        "    pred_word = tknizer_eng.index_word[pred_index] # get predicted word \n",
        "    if pred_word == \"<end>\":\n",
        "      break\n",
        "    result_sentence += pred_word+\" \"\n",
        "    # print(\"Output for TS %d = %s\"%(i, str(pred_word)))\n",
        "\n",
        "    # give index of pred_word as input to next timestep\n",
        "    dec_input[0][i] = pred_index\n",
        "\n",
        "  return result_sentence\n",
        "\n",
        "\n",
        "\n",
        "\n",
        "\n"
      ],
      "execution_count": null,
      "outputs": []
    },
    {
      "cell_type": "code",
      "metadata": {
        "id": "LhL0d4erN1pY",
        "colab": {
          "base_uri": "https://localhost:8080/",
          "height": 36
        },
        "outputId": "f8ec940f-48d8-4103-bf7d-6171eb7d6f8a"
      },
      "source": [
        "res = predict(\"tom la sta leggendo\")\n",
        "res"
      ],
      "execution_count": null,
      "outputs": [
        {
          "output_type": "execute_result",
          "data": {
            "application/vnd.google.colaboratory.intrinsic+json": {
              "type": "string"
            },
            "text/plain": [
              "'i you '"
            ]
          },
          "metadata": {
            "tags": []
          },
          "execution_count": 93
        }
      ]
    },
    {
      "cell_type": "code",
      "metadata": {
        "id": "EKAVqZ2fztki"
      },
      "source": [
        "import nltk.translate.bleu_score as bleu\n",
        "import random\n",
        "\n",
        "\n",
        "def aveg_bleu_scores(test_data,n):\n",
        "  sample_list = random.sample(range(len(test_data)),n)\n",
        "  average_bleu = 0\n",
        "  pred_data = []\n",
        "\n",
        "  for i in sample_list:\n",
        "    test_sentence, true_sentence = test_data.iloc[i,[0,1]]\n",
        "    pred_sentence = predict(test_sentence)\n",
        "    bleu_score = bleu.sentence_bleu([true_sentence.split()],pred_sentence.split())\n",
        "    average_bleu += bleu_score\n",
        "\n",
        "    pred_data.append((true_sentence, pred_sentence))\n",
        "  \n",
        "  return (average_bleu/n, pred_data)\n",
        "\n"
      ],
      "execution_count": null,
      "outputs": []
    },
    {
      "cell_type": "code",
      "metadata": {
        "colab": {
          "base_uri": "https://localhost:8080/"
        },
        "id": "wLDfx7Fg06Cr",
        "outputId": "233b3fac-03fe-4f2a-f615-1a206198a0d7"
      },
      "source": [
        "# Predict on 1000 random sentences on test data and calculate the average BLEU score of these sentences.\n",
        "# https://www.nltk.org/_modules/nltk/translate/bleu_score.html\n",
        "import warnings\n",
        "warnings.filterwarnings('ignore')\n",
        "\n",
        "test_df = validation.copy()\n",
        "test_df = test_df[[\"italian\",\"english_out\"]]\n",
        "test_df[\"english_out\"] = test_df[\"english_out\"].apply(lambda x: x.split(\"<end>\")[0])\n",
        "\n",
        "\n",
        "res = aveg_bleu_scores(test_df,10)\n",
        "print(res[0])"
      ],
      "execution_count": null,
      "outputs": [
        {
          "output_type": "stream",
          "text": [
            "0.07598356856515925\n"
          ],
          "name": "stdout"
        }
      ]
    },
    {
      "cell_type": "markdown",
      "metadata": {
        "id": "CxWFDxZXLOfJ"
      },
      "source": [
        " "
      ]
    },
    {
      "cell_type": "markdown",
      "metadata": {
        "id": "yZhX3K9GLOfJ"
      },
      "source": [
        "## Task -2: Including Attention mechanisum"
      ]
    },
    {
      "cell_type": "markdown",
      "metadata": {
        "id": "Q3d7GeBMGbsJ"
      },
      "source": [
        "1. Use the preprocessed data from Task-1\n",
        "\n",
        "2. You have to implement an Encoder and Decoder architecture with  \n",
        "attention as discussed in the reference notebook.\n",
        "\n",
        "    * Encoder   - with 1 layer LSTM <br>\n",
        "    * Decoder   - with 1 layer LSTM<br>\n",
        "    * attention -  (Please refer the <a href= 'https://drive.google.com/file/d/1z_bnc-3aubKawbR6q8wyI6Mh5ho2R1aZ/view?usp=sharing'>**reference notebook**</a> to know more about the attention mechanism.)\n",
        "3. In Global attention, we have 3 types of scoring functions(as discussed in the reference notebook).\n",
        " As a part of this assignment **you need to create 3 models for each scoring function**\n",
        "<img src='https://i.imgur.com/iD2jZo3.png'>\n",
        "\n",
        "    * In model 1 you need to implemnt \"dot\" score function\n",
        "    * In model 2 you need to implemnt \"general\" score function\n",
        "    * In model 3 you need to implemnt \"concat\" score function.<br>\n",
        "    \n",
        " **Please do add the markdown titles for each model so that we can have a better look at the code and verify.**\n",
        "4. It is mandatory to train the model with simple model.fit() only, Donot train the model with custom GradientTape()\n",
        "\n",
        "5. Using attention weights, you can plot the attention plots, \n",
        "please plot those for 2-3 examples. You can check about those in <a href=\"https://www.tensorflow.org/tutorials/text/nmt_with_attention#translate\">this</a>\n",
        "\n",
        "6. The attention layer has to be written by yourself only. \n",
        "The main objective of this assignment is to read and implement a paper on yourself so please do it yourself.  \n",
        "\n",
        "7. Please implement the class **onestepdecoder** as mentioned in the assignment instructions.\n",
        "\n",
        "8. You can use any tf.Keras highlevel API's to build and train the models. \n",
        " Check the reference notebook for better understanding.\n",
        "\n",
        "9. Use BLEU score as metric to evaluate your model. You can use any loss function you need.\n",
        "\n",
        "10. You have to use Tensorboard to plot the Graph, Scores and histograms of gradients. \n",
        "\n",
        "11. Resources:\n",
        "    a. Check the reference notebook\n",
        "    b. <a href=\"https://jalammar.github.io/visualizing-neural-machine-translation-mechanics-of-seq2seq-models-with-attention/\">Resource 1</a>\n",
        "    c. <a href=\"https://www.tensorflow.org/tutorials/text/nmt_with_attention\">Resource 2</a>\n",
        "    d. <a href=\"https://stackoverflow.com/questions/44238154/what-is-the-difference-between-luong-attention-and-bahdanau-attention#:~:text=Luong%20attention%20used%20top%20hidden,hidden%20state%20at%20time%20t.\">Resource 3</a>\n",
        "    "
      ]
    },
    {
      "cell_type": "markdown",
      "metadata": {
        "id": "PU4KIsGxLOfK"
      },
      "source": [
        "### <font color='blue'>**Implement custom encoder decoder and attention layers**</font>"
      ]
    },
    {
      "cell_type": "markdown",
      "metadata": {
        "id": "TMm3ADQDLOfK"
      },
      "source": [
        "<font color='blue'>**Encoder**</font>"
      ]
    },
    {
      "cell_type": "code",
      "metadata": {
        "id": "Lx_5NA24KzRp"
      },
      "source": [
        "class Encoder(tf.keras.Model):\n",
        "    '''\n",
        "    Encoder model -- That takes a input sequence and returns output sequence\n",
        "    '''\n",
        "\n",
        "    def __init__(self,inp_vocab_size,embedding_size,lstm_size,input_length):\n",
        "      super().__init__()\n",
        "      self.inp_vocab_size = inp_vocab_size\n",
        "      self.embedding_size = embedding_size\n",
        "      self.lstm_size = lstm_size\n",
        "      self.input_length = input_length\n",
        "    \n",
        "    def build(self, input_shape):\n",
        "      self.embedding = Embedding(input_dim=self.inp_vocab_size, output_dim=self.embedding_size,\n",
        "                                 input_length = self.input_length, mask_zero=True,name=\"Encoder_Embedding_Layer\")\n",
        "      self.lstm = LSTM(units=self.lstm_size, return_state = True, return_sequences=True, name=\"Encoder_LSTM_Layer\")\n",
        "\n",
        "    def call(self,input_sequence,states):\n",
        "      '''\n",
        "          This function takes a sequence input and the initial states of the encoder.\n",
        "          Pass the input_sequence input to the Embedding layer, Pass the embedding layer ouput to encoder_lstm\n",
        "          returns -- All encoder_outputs, last time steps hidden and cell state\n",
        "      '''\n",
        "      embed = self.embedding(input_sequence)\n",
        "      encoder_output, encoder_h, encoder_c = self.lstm(embed)\n",
        "      return encoder_output, encoder_h, encoder_c\n",
        "\n",
        "    \n",
        "    def initialize_states(self,batch_size):\n",
        "      '''\n",
        "      Given a batch size it will return intial hidden state and intial cell state.\n",
        "      If batch size is 32- Hidden state is zeros of size [32,lstm_units], cell state zeros is of size [32,lstm_units]\n",
        "      '''\n",
        "      initial_h = np.zeros(shape=(batch_size, self.lstm_size))\n",
        "      initial_c = np.zeros(shape=(batch_size, self.lstm_size))\n",
        "\n",
        "      return (initial_h, initial_c)\n",
        "      \n"
      ],
      "execution_count": 17,
      "outputs": []
    },
    {
      "cell_type": "markdown",
      "metadata": {
        "id": "4ub9aN-hK244"
      },
      "source": [
        "<font color='cyan'>**Grader function - 1**</font>"
      ]
    },
    {
      "cell_type": "code",
      "metadata": {
        "id": "wRoe65b9LB0D",
        "colab": {
          "base_uri": "https://localhost:8080/"
        },
        "outputId": "d4bd5e45-2f81-4b58-8d40-67260afdd428"
      },
      "source": [
        "def grader_check_encoder():\n",
        "    \n",
        "    '''\n",
        "        vocab-size: Unique words of the input language,\n",
        "        embedding_size: output embedding dimension for each word after embedding layer,\n",
        "        lstm_size: Number of lstm units in encoder,\n",
        "        input_length: Length of the input sentence,\n",
        "        batch_size\n",
        "    '''\n",
        "    \n",
        "    vocab_size=10\n",
        "    embedding_size=20\n",
        "    lstm_size=32\n",
        "    input_length=10\n",
        "    batch_size=16\n",
        "    encoder=Encoder(vocab_size,embedding_size,lstm_size,input_length)\n",
        "    input_sequence=tf.random.uniform(shape=[batch_size,input_length],maxval=vocab_size,minval=0,dtype=tf.int32)\n",
        "    initial_state=encoder.initialize_states(batch_size)\n",
        "    encoder_output,state_h,state_c=encoder(input_sequence,initial_state)\n",
        "    \n",
        "    assert(encoder_output.shape==(batch_size,input_length,lstm_size) and state_h.shape==(batch_size,lstm_size) and state_c.shape==(batch_size,lstm_size))\n",
        "    return True\n",
        "print(grader_check_encoder())"
      ],
      "execution_count": 18,
      "outputs": [
        {
          "output_type": "stream",
          "text": [
            "True\n"
          ],
          "name": "stdout"
        }
      ]
    },
    {
      "cell_type": "markdown",
      "metadata": {
        "id": "lXn278lhLYRM"
      },
      "source": [
        "<font color='blue'>**Attention**</font>"
      ]
    },
    {
      "cell_type": "code",
      "metadata": {
        "id": "ikzOvqRvYRRH"
      },
      "source": [
        "class Attention(tf.keras.layers.Layer):\n",
        "  '''\n",
        "    Class the calculates score based on the scoring_function using Bahdanu attention mechanism.\n",
        "  '''\n",
        "  def __init__(self,scoring_function, att_units):\n",
        "    super().__init__()\n",
        "    self.scoring_function = scoring_function\n",
        "    self.att_units = att_units\n",
        "\n",
        "\n",
        "    # Please go through the reference notebook and research paper to complete the scoring functions\n",
        "    if self.scoring_function=='dot':\n",
        "      # Intialize variables needed for Dot score function here\n",
        "      pass\n",
        "    if scoring_function == 'general':\n",
        "      # Intialize variables needed for General score function here\n",
        "      pass\n",
        "    elif scoring_function == 'concat':\n",
        "      # Intialize variables needed for Concat score function here\n",
        "      pass\n",
        "  \n",
        "  \n",
        "  def call(self,decoder_hidden_state,encoder_output):\n",
        "    '''\n",
        "      Attention mechanism takes two inputs current step -- decoder_hidden_state and all the encoder_outputs.\n",
        "      * Based on the scoring function we will find the score or similarity between decoder_hidden_state and encoder_output.\n",
        "        Multiply the score function with your encoder_outputs to get the context vector.\n",
        "        Function returns context vector and attention weights(softmax - scores)\n",
        "    '''\n",
        "    \n",
        "    if self.scoring_function == 'dot':\n",
        "        # print(\"1.Hidden State : \",decoder_hidden_state.shape)\n",
        "        # print(\"2.Enc OUtput :\", encoder_output.shape)\n",
        "        decoder_hidden_state = Reshape(target_shape=(decoder_hidden_state.shape[1],1))(decoder_hidden_state)\n",
        "        # print(\"2.Hidden State resize: \",decoder_hidden_state.shape)\n",
        "\n",
        "        dot_layer = Dot(axes=(2,1))([encoder_output,decoder_hidden_state])\n",
        "        # print(\"3.Dot Product : \",dot_layer.shape)\n",
        "        dot_layer = tf.squeeze(dot_layer)\n",
        "        # print(\"3.Dot Product Reshape: \",dot_layer.shape)\n",
        "\n",
        "        softmax_layer = Softmax()(dot_layer)\n",
        "        # print(\"4.Softmax Layer :\",softmax_layer.shape)\n",
        "        # print(\"4->Sum after softmax: \",sum(x for x in softmax_layer[0].numpy()))\n",
        "\n",
        "        # weighted context_vector\n",
        "        weights_squeezed = softmax_layer # bat,timesteps\n",
        "        encoder_ops = encoder_output # bat,timesteps,enc_units\n",
        "\n",
        "        # multiply weights and add to get context_vector\n",
        "        # weights = Reshape(target_shape=(weights_squeezed.shape[1],1))(weights_squeezed) # bat,timesteps, 1\n",
        "        weights = tf.expand_dims(weights_squeezed, axis=-1)\n",
        "        multiply_weights = tf.multiply(encoder_ops, weights)\n",
        "        # print(\"5. After multiplying weights: \",multiply_weights.shape)\n",
        "\n",
        "        context_vector = tf.math.reduce_sum(multiply_weights, axis=-2)\n",
        "        # print(\"5. Context Vector: \",context_vector.shape)\n",
        "\n",
        "        return context_vector, weights\n",
        "        \n",
        "    elif self.scoring_function == 'general':\n",
        "      decoder_hidden_state = Dense(encoder_output.shape[-1])(decoder_hidden_state)\n",
        "      decoder_hidden_state = Reshape(target_shape=(decoder_hidden_state.shape[1],1))(decoder_hidden_state)\n",
        "\n",
        "      dot_layer = Dot(axes=(2,1))([encoder_output,decoder_hidden_state])\n",
        "      squeezed_dot_layer = tf.squeeze(dot_layer)\n",
        "      softmax_layer_weights = Softmax()(squeezed_dot_layer) # bat, timesteps\n",
        "\n",
        "      # encoder_ops = encoder_output.numpy() # bat,timesteps,enc_units\n",
        "\n",
        "      # multiply weights and add to get context_vector\n",
        "      weights = Reshape(target_shape=(softmax_layer_weights.shape[1],1))(softmax_layer_weights) # bat,timesteps, 1\n",
        "      multiply_weights = tf.multiply(encoder_output, weights)\n",
        "      context_vector = tf.math.reduce_sum(multiply_weights, axis=-2)\n",
        "\n",
        "      return context_vector, weights\n",
        "\n",
        "    elif self.scoring_function == 'concat':\n",
        "      k = 64\n",
        "      encoder_timesteps = encoder_output.shape[1]\n",
        "\n",
        "      dense_d = Dense(k)(decoder_hidden_state) #bat, K\n",
        "      dense_e = Dense(k)(encoder_output) # bat,time_steps, K\n",
        "\n",
        "      # concat and tanH\n",
        "      expand = tf.expand_dims(dense_d,axis=1)\n",
        "      tiled = tf.tile(expand, multiples=[1,encoder_timesteps,1])\n",
        "      concat = tf.concat([dense_e, tiled], axis=-1) #bat,time_steps, 2*K\n",
        "\n",
        "      tanh = tf.keras.activations.tanh(concat) #bat,time_steps, 2*K\n",
        "      w = Dense(1)(tanh) #bat,time_steps, 1\n",
        "\n",
        "      # multiply weights and add to get context_vector\n",
        "      weights = Reshape(target_shape=(w.shape[1],1))(w) # bat,timesteps, 1\n",
        "      multiply_weights = tf.multiply(encoder_output, weights)\n",
        "      context_vector = tf.math.reduce_sum(multiply_weights, axis=-2)\n",
        "\n",
        "      return context_vector, weights\n",
        "      \n",
        "    \n",
        "    \n",
        "    "
      ],
      "execution_count": 20,
      "outputs": []
    },
    {
      "cell_type": "markdown",
      "metadata": {
        "id": "ExQDlxI9LuqK"
      },
      "source": [
        "<font color='cyan'>**Grader function - 2**</font>"
      ]
    },
    {
      "cell_type": "code",
      "metadata": {
        "id": "51x50h_TLrl9",
        "colab": {
          "base_uri": "https://localhost:8080/"
        },
        "outputId": "f9ddbde9-33f8-4672-8f09-e50c9e63fb2e"
      },
      "source": [
        "def grader_check_attention(scoring_fun):\n",
        "    \n",
        "    ''' \n",
        "        att_units: Used in matrix multiplications for scoring functions,\n",
        "        input_length: Length of the input sentence,\n",
        "        batch_size\n",
        "    '''\n",
        "    \n",
        "    input_length=10\n",
        "    batch_size=16\n",
        "    att_units=32\n",
        "    \n",
        "    state_h=tf.random.uniform(shape=[batch_size,att_units])\n",
        "    encoder_output=tf.random.uniform(shape=[batch_size,input_length,att_units])\n",
        "    attention=Attention(scoring_fun,att_units)\n",
        "    context_vector,attention_weights=attention(state_h,encoder_output)\n",
        "    assert(context_vector.shape==(batch_size,att_units) and attention_weights.shape==(batch_size,input_length,1))\n",
        "    return True\n",
        "\n",
        "print(grader_check_attention('dot'))\n",
        "print(grader_check_attention('general'))\n",
        "print(grader_check_attention('concat'))"
      ],
      "execution_count": 21,
      "outputs": [
        {
          "output_type": "stream",
          "text": [
            "True\n",
            "True\n",
            "True\n"
          ],
          "name": "stdout"
        }
      ]
    },
    {
      "cell_type": "markdown",
      "metadata": {
        "id": "ic-FNEbfL2DN"
      },
      "source": [
        "<font color='blue'>**OneStepDecoder**</font>"
      ]
    },
    {
      "cell_type": "code",
      "metadata": {
        "id": "Kc8m7lmOL097"
      },
      "source": [
        "class One_Step_Decoder(tf.keras.Model):\n",
        "  def __init__(self,tar_vocab_size, embedding_dim, input_length, dec_units ,score_fun ,att_units):\n",
        "    super().__init__()\n",
        "    self.tar_vocab_size = tar_vocab_size\n",
        "    self.embedding_dim = embedding_dim\n",
        "    self.input_length = input_length \n",
        "    self.dec_units = dec_units\n",
        "    self.score_fun = score_fun\n",
        "    self.att_units = att_units\n",
        "\n",
        "    # Initialize decoder embedding layer, LSTM and any other objects needed\n",
        "  def build(self,input_shape):\n",
        "    self.embedding = Embedding(input_dim=self.tar_vocab_size, output_dim=self.embedding_dim,\n",
        "                              input_length=self.input_length, mask_zero=True,name=\"OHE_Embedding\")\n",
        "    self.lstm = LSTM(units=self.dec_units,return_state = True, return_sequences=True, name=\"OHE_LSTM_Layer\")\n",
        "    self.attention = Attention(self.score_fun,self.att_units)\n",
        "\n",
        "\n",
        "  def call(self,input_to_decoder, encoder_output, state_h,state_c):\n",
        "    '''\n",
        "        One step decoder mechanisim step by step:\n",
        "      A. Pass the input_to_decoder to the embedding layer and then get the output(batch_size,1,embedding_dim)\n",
        "      B. Using the encoder_output and decoder hidden state, compute the context vector.\n",
        "      C. Concat the context vector with the step A output\n",
        "      D. Pass the Step-C output to LSTM/GRU and get the decoder output and states(hidden and cell state)\n",
        "      E. Pass the decoder output to dense layer(vocab size) and store the result into output.\n",
        "      F. Return the states from step D, output from Step E, attention weights from Step -B\n",
        "    '''\n",
        "\n",
        "    embed = self.embedding(input_to_decoder) #32,1,12\n",
        "    context_vector, weights = self.attention(state_h, encoder_output) #32,16\n",
        "    context_vector_exp = tf.expand_dims(context_vector, axis=1) #32,16 -> 32,1,16\n",
        "    concat = tf.concat([embed,context_vector_exp],axis=-1) #32,1,28 \n",
        "\n",
        "    decoder_output, decoder_h, decoder_c = self.lstm(concat) #(32, 1, 16) (32, 16)\n",
        "    dense = Dense(self.tar_vocab_size)(decoder_output)  #(32, 1, 13)\n",
        "\n",
        "    output = tf.squeeze(dense)  #(32, 1, 13) -> (32,13)\n",
        "    # return output, state_h, state_c, weights, context_vector\n",
        "    return output, decoder_h, decoder_c, weights, context_vector\n",
        "    \n"
      ],
      "execution_count": 53,
      "outputs": []
    },
    {
      "cell_type": "markdown",
      "metadata": {
        "id": "R_I8I4EIMAXq"
      },
      "source": [
        "<font color='cyan'>**Grader function - 3**</font>"
      ]
    },
    {
      "cell_type": "code",
      "metadata": {
        "id": "uLEXhChnMC1k",
        "colab": {
          "base_uri": "https://localhost:8080/"
        },
        "outputId": "9603388a-1c6c-42ca-8cb3-e934fbf4f0f1"
      },
      "source": [
        "def grader_onestepdecoder(score_fun):  \n",
        "    '''\n",
        "        tar_vocab_size: Unique words of the target language,\n",
        "        embedding_dim: output embedding dimension for each word after embedding layer,\n",
        "        dec_units: Number of lstm units in decoder,\n",
        "        att_units: Used in matrix multiplications for scoring functions in attention class,\n",
        "        input_length: Length of the target sentence,\n",
        "        batch_size   \n",
        "    '''\n",
        "    tar_vocab_size=13 \n",
        "    embedding_dim=12 \n",
        "    input_length=10\n",
        "    dec_units=16 \n",
        "    att_units=16\n",
        "    batch_size=32\n",
        "    onestepdecoder=One_Step_Decoder(tar_vocab_size, embedding_dim, input_length, dec_units ,score_fun ,att_units)\n",
        "    input_to_decoder=tf.random.uniform(shape=(batch_size,1),maxval=10,minval=0,dtype=tf.int32)\n",
        "    encoder_output=tf.random.uniform(shape=[batch_size,input_length,dec_units])\n",
        "    state_h=tf.random.uniform(shape=[batch_size,dec_units])\n",
        "    state_c=tf.random.uniform(shape=[batch_size,dec_units])\n",
        "    output,state_h,state_c,attention_weights,context_vector=onestepdecoder(input_to_decoder,encoder_output,state_h,state_c)\n",
        "    assert(output.shape==(batch_size,tar_vocab_size))\n",
        "    assert(state_h.shape==(batch_size,dec_units))\n",
        "    assert(state_c.shape==(batch_size,dec_units))\n",
        "    assert(attention_weights.shape==(batch_size,input_length,1))\n",
        "    assert(context_vector.shape==(batch_size,dec_units))\n",
        "    return True\n",
        "    \n",
        "print(grader_onestepdecoder('dot'))\n",
        "print(grader_onestepdecoder('general'))\n",
        "print(grader_onestepdecoder('concat'))\n",
        "    "
      ],
      "execution_count": 54,
      "outputs": [
        {
          "output_type": "stream",
          "text": [
            "True\n",
            "True\n",
            "True\n"
          ],
          "name": "stdout"
        }
      ]
    },
    {
      "cell_type": "markdown",
      "metadata": {
        "id": "6FHrurjUMGAi"
      },
      "source": [
        "<font color='blue'>**Decoder**</font>"
      ]
    },
    {
      "cell_type": "code",
      "metadata": {
        "id": "NV-x31rj6Hc4"
      },
      "source": [
        "class Decoder(tf.keras.Model):\n",
        "    def __init__(self,out_vocab_size, embedding_dim, input_length, dec_units ,score_fun ,att_units):\n",
        "      #Intialize necessary variables and create an object from the class onestepdecoder\n",
        "      super().__init__()\n",
        "      self.out_vocab_size = out_vocab_size\n",
        "      self.embedding_dim = embedding_dim\n",
        "      self.input_length = input_length \n",
        "      self.dec_units = dec_units\n",
        "      self.score_fun = score_fun\n",
        "      self.att_units = att_units\n",
        "\n",
        "    def build(self, input_shape):\n",
        "      self.onestepdecoder = One_Step_Decoder(self.out_vocab_size, self.embedding_dim, \n",
        "                                             self.input_length, self.dec_units, self.score_fun, self.att_units)\n",
        "\n",
        "        \n",
        "    def call(self, input_to_decoder,encoder_output,decoder_hidden_state,decoder_cell_state ):\n",
        "\n",
        "      #Initialize an empty Tensor array, that will store the outputs at each and every time step\n",
        "      tf_output = tf.TensorArray(dtype=tf.float32, size=self.input_length, name=\"tf_output_array\")\n",
        "      \n",
        "      \n",
        "      #Iterate till the length of the decoder input\n",
        "      for timestep in range(self.input_length):\n",
        "        # Call onestepdecoder for each token in decoder_input\n",
        "        output,state_h,state_c,attention_weights,context_vector = self.onestepdecoder(input_to_decoder[:,timestep:timestep+1],\n",
        "                                                                                      encoder_output,decoder_hidden_state,decoder_cell_state)\n",
        "        tf_output = tf_output.write(timestep, output)\n",
        "        decoder_hidden_state = state_h\n",
        "        decoder_cell_state = state_c\n",
        "      \n",
        "      # Return the tensor array\n",
        "      tf_output = tf.transpose(tf_output.stack(),[1,0,2])\n",
        "      return tf_output\n",
        "        \n",
        "        "
      ],
      "execution_count": 55,
      "outputs": []
    },
    {
      "cell_type": "markdown",
      "metadata": {
        "id": "FxrL-P8bMJH6"
      },
      "source": [
        "<font color='cyan'>**Grader function - 4**</font>"
      ]
    },
    {
      "cell_type": "code",
      "metadata": {
        "id": "rtbx6onFMJXb",
        "colab": {
          "base_uri": "https://localhost:8080/"
        },
        "outputId": "d7ef8319-4752-49a3-cc29-666bc5a1b88d"
      },
      "source": [
        "def grader_decoder(score_fun):\n",
        "    \n",
        "    '''\n",
        "        out_vocab_size: Unique words of the target language,\n",
        "        embedding_dim: output embedding dimension for each word after embedding layer,\n",
        "        dec_units: Number of lstm units in decoder,\n",
        "        att_units: Used in matrix multiplications for scoring functions in attention class,\n",
        "        input_length: Length of the target sentence,\n",
        "        batch_size\n",
        "        \n",
        "    \n",
        "    '''\n",
        "    \n",
        "    out_vocab_size=13 \n",
        "    embedding_dim=12 \n",
        "    input_length=11\n",
        "    dec_units=16 \n",
        "    att_units=16\n",
        "    batch_size=32\n",
        "    \n",
        "    target_sentences=tf.random.uniform(shape=(batch_size,input_length),maxval=10,minval=0,dtype=tf.int32)\n",
        "    encoder_output=tf.random.uniform(shape=[batch_size,input_length,dec_units])\n",
        "    state_h=tf.random.uniform(shape=[batch_size,dec_units])\n",
        "    state_c=tf.random.uniform(shape=[batch_size,dec_units])\n",
        "    \n",
        "    decoder=Decoder(out_vocab_size, embedding_dim, input_length, dec_units ,score_fun ,att_units)\n",
        "    output=decoder(target_sentences,encoder_output, state_h, state_c)\n",
        "    assert(output.shape==(batch_size,input_length,out_vocab_size))\n",
        "    return True\n",
        "print(grader_decoder('dot'))\n",
        "print(grader_decoder('general'))\n",
        "print(grader_decoder('concat'))"
      ],
      "execution_count": 56,
      "outputs": [
        {
          "output_type": "stream",
          "text": [
            "True\n",
            "True\n",
            "True\n"
          ],
          "name": "stdout"
        }
      ]
    },
    {
      "cell_type": "markdown",
      "metadata": {
        "id": "fC1T1EOoMTqC"
      },
      "source": [
        "<font color='blue'>**Encoder Decoder model**</font>"
      ]
    },
    {
      "cell_type": "code",
      "metadata": {
        "id": "FfqBIe20MT3D"
      },
      "source": [
        "class encoder_decoder(tf.keras.Model):\n",
        "  def __init__(self,inp_vocab_size,out_vocab_size, embedding_size,lstm_size, input_length, scoring_fun, att_units,batch_size):\n",
        "    #Intialize objects from encoder decoder\n",
        "    super().__init__()\n",
        "    self.inp_vocab_size = inp_vocab_size\n",
        "    self.out_vocab_size = out_vocab_size\n",
        "    self.embedding_size = embedding_size\n",
        "    self.lstm_size = lstm_size\n",
        "    self.input_length = input_length\n",
        "    self.scoring_fun = scoring_fun\n",
        "    self.att_units = att_units\n",
        "    self.batch_size = batch_size\n",
        "\n",
        "  def build(self, input_shape):\n",
        "    self.encoder = Encoder(self.inp_vocab_size,self.embedding_size,self.lstm_size,self.input_length)\n",
        "    self.decoder=Decoder(self.out_vocab_size, self.embedding_size, self.input_length, self.lstm_size ,self.scoring_fun ,self.att_units)\n",
        "\n",
        "\n",
        "  def call(self,data):\n",
        "    #Intialize encoder states, Pass the encoder_sequence to the embedding layer\n",
        "    # Decoder initial states are encoder final states, Initialize it accordingly\n",
        "    # Pass the decoder sequence,encoder_output,decoder states to Decoder\n",
        "    # return the decoder output\n",
        "    input_sequences, target_sentences = data[0], data[1]\n",
        "    enc_initial_state = self.encoder.initialize_states(self.batch_size)\n",
        "    encoder_output, state_h, state_c = self.encoder(input_sequences,enc_initial_state)\n",
        "\n",
        "    # teacher training\n",
        "    decoder_output = self.decoder(target_sentences,encoder_output, state_h, state_c)\n",
        "    return decoder_output\n",
        "\n"
      ],
      "execution_count": 57,
      "outputs": []
    },
    {
      "cell_type": "markdown",
      "metadata": {
        "id": "WVRxB-FDMJWL"
      },
      "source": [
        "<font color='blue'>**Custom loss function**</font>"
      ]
    },
    {
      "cell_type": "code",
      "metadata": {
        "id": "QY_3izrXMs8y"
      },
      "source": [
        "\n",
        "# Refer https://www.tensorflow.org/tutorials/text/nmt_with_attention#define_the_optimizer_and_the_loss_function\n",
        "\n",
        "def custom_lossfunction(targets,logits):\n",
        "  loss_object = tf.keras.losses.SparseCategoricalCrossentropy(\n",
        "    from_logits=False, reduction='none')\n",
        "  mask = tf.math.logical_not(tf.math.equal(targets, 0))\n",
        "  loss_ = loss_object(targets, logits)\n",
        "  mask = tf.cast(mask, dtype=loss_.dtype)\n",
        "  loss_ *= mask\n",
        "  return tf.reduce_mean(loss_)\n",
        "\n",
        "\n",
        "optimizer = tf.keras.optimizers.Adam(learning_rate=0.01)"
      ],
      "execution_count": 58,
      "outputs": []
    },
    {
      "cell_type": "markdown",
      "metadata": {
        "id": "2QlbWAqNNlqe"
      },
      "source": [
        "# Training Model with Dot "
      ]
    },
    {
      "cell_type": "code",
      "metadata": {
        "colab": {
          "base_uri": "https://localhost:8080/"
        },
        "id": "bAhFPrK-V0Ox",
        "outputId": "027cbe7b-395b-44fe-d014-2ff78facb710"
      },
      "source": [
        "train_dataset = Dataset(train, tknizer_ita, tknizer_eng, 20)\n",
        "test_dataset  = Dataset(validation, tknizer_ita, tknizer_eng, 20)\n",
        "train_dataloader = Dataloder(train_dataset, batch_size=1024)\n",
        "test_dataloader = Dataloder(test_dataset, batch_size=1024)\n",
        "print(train_dataloader[0][0][0].shape, train_dataloader[0][0][1].shape, train_dataloader[0][1].shape)"
      ],
      "execution_count": 59,
      "outputs": [
        {
          "output_type": "stream",
          "text": [
            "(1024, 20) (1024, 20) (1024, 20)\n"
          ],
          "name": "stdout"
        }
      ]
    },
    {
      "cell_type": "code",
      "metadata": {
        "id": "PbfINkUiVcGO"
      },
      "source": [
        "model = encoder_decoder(inp_vocab_size=vocab_size_ita+1,\n",
        "                        out_vocab_size=vocab_size_eng+1, \n",
        "                        embedding_size=20,\n",
        "                        lstm_size=32,\n",
        "                        input_length=20, \n",
        "                        scoring_fun='dot',\n",
        "                        att_units=32,\n",
        "                        batch_size=1024)\n",
        "model.compile(optimizer=optimizer, loss=custom_lossfunction)"
      ],
      "execution_count": 60,
      "outputs": []
    },
    {
      "cell_type": "code",
      "metadata": {
        "colab": {
          "base_uri": "https://localhost:8080/"
        },
        "id": "QDceWNnBWPRH",
        "outputId": "0f33d283-dcf5-418b-ed9f-01916f8836b0"
      },
      "source": [
        "tf.config.run_functions_eagerly(True)\n",
        "model.fit_generator(train_dataloader, epochs=20, validation_data=test_dataloader)"
      ],
      "execution_count": 61,
      "outputs": [
        {
          "output_type": "stream",
          "text": [
            "/usr/local/lib/python3.7/dist-packages/tensorflow/python/keras/engine/training.py:1940: UserWarning: `Model.fit_generator` is deprecated and will be removed in a future version. Please use `Model.fit`, which supports generators.\n",
            "  warnings.warn('`Model.fit_generator` is deprecated and '\n",
            "/usr/local/lib/python3.7/dist-packages/tensorflow/python/data/ops/dataset_ops.py:3704: UserWarning: Even though the `tf.config.experimental_run_functions_eagerly` option is set, this option does not apply to tf.data functions. To force eager execution of tf.data functions, please use `tf.data.experimental.enable.debug_mode()`.\n",
            "  \"Even though the `tf.config.experimental_run_functions_eagerly` \"\n"
          ],
          "name": "stderr"
        },
        {
          "output_type": "stream",
          "text": [
            "Epoch 1/20\n",
            "269/269 [==============================] - 206s 767ms/step - loss: 4.6634 - val_loss: 4.7286\n",
            "Epoch 2/20\n",
            "269/269 [==============================] - 206s 766ms/step - loss: 4.7213 - val_loss: 4.7059\n",
            "Epoch 3/20\n",
            "269/269 [==============================] - 205s 763ms/step - loss: 4.6381 - val_loss: 3.4966\n",
            "Epoch 4/20\n",
            "269/269 [==============================] - 204s 760ms/step - loss: 3.3783 - val_loss: 3.2561\n",
            "Epoch 5/20\n",
            "269/269 [==============================] - 204s 758ms/step - loss: 3.2684 - val_loss: 3.2495\n",
            "Epoch 6/20\n",
            "269/269 [==============================] - 204s 759ms/step - loss: 3.2578 - val_loss: 3.2477\n",
            "Epoch 7/20\n",
            "269/269 [==============================] - 204s 760ms/step - loss: 3.2542 - val_loss: 3.2468\n",
            "Epoch 8/20\n",
            "269/269 [==============================] - 204s 758ms/step - loss: 3.2521 - val_loss: 3.2463\n",
            "Epoch 9/20\n",
            "269/269 [==============================] - 205s 762ms/step - loss: 3.2507 - val_loss: 3.2458\n",
            "Epoch 10/20\n",
            "269/269 [==============================] - 205s 761ms/step - loss: 3.2495 - val_loss: 3.2455\n",
            "Epoch 11/20\n",
            "269/269 [==============================] - 205s 760ms/step - loss: 3.2487 - val_loss: 3.2453\n",
            "Epoch 12/20\n",
            "269/269 [==============================] - 206s 767ms/step - loss: 3.2481 - val_loss: 3.2451\n",
            "Epoch 13/20\n",
            "269/269 [==============================] - 204s 757ms/step - loss: 3.2477 - val_loss: 3.2449\n",
            "Epoch 14/20\n",
            "269/269 [==============================] - 203s 755ms/step - loss: 3.2476 - val_loss: 3.2448\n",
            "Epoch 15/20\n",
            "269/269 [==============================] - 203s 754ms/step - loss: 3.2474 - val_loss: 3.2448\n",
            "Epoch 16/20\n",
            "269/269 [==============================] - 203s 754ms/step - loss: 3.2473 - val_loss: 3.2446\n",
            "Epoch 17/20\n",
            "269/269 [==============================] - 205s 763ms/step - loss: 3.2471 - val_loss: 3.2447\n",
            "Epoch 18/20\n",
            "269/269 [==============================] - 204s 757ms/step - loss: 3.2470 - val_loss: 3.2447\n",
            "Epoch 19/20\n",
            "269/269 [==============================] - 202s 752ms/step - loss: 3.2471 - val_loss: 3.2448\n",
            "Epoch 20/20\n",
            "269/269 [==============================] - 203s 753ms/step - loss: 3.2470 - val_loss: 3.2446\n"
          ],
          "name": "stdout"
        },
        {
          "output_type": "execute_result",
          "data": {
            "text/plain": [
              "<tensorflow.python.keras.callbacks.History at 0x7f682644f050>"
            ]
          },
          "metadata": {
            "tags": []
          },
          "execution_count": 61
        }
      ]
    },
    {
      "cell_type": "markdown",
      "metadata": {
        "id": "6DpC9zlzMcXp"
      },
      "source": [
        "## <font color='blue'>**Inference**</font>"
      ]
    },
    {
      "cell_type": "markdown",
      "metadata": {
        "id": "Z5NhESYyMW_t"
      },
      "source": [
        "<font color='blue'>**Plot attention weights**</font>"
      ]
    },
    {
      "cell_type": "code",
      "metadata": {
        "id": "wwN8tqHJP32H"
      },
      "source": [
        "import matplotlib.ticker as ticker\n",
        "\n",
        "def plot_attention(attention, sentence, predicted_sentence):\n",
        "  sentence = [\"<start>\"]+sentence.split()+[\"<end>\"]\n",
        "  predicted_sentence = predicted_sentence.split()[:-1] + ['<end>']\n",
        "  fig = plt.figure(figsize=(7, 7))\n",
        "  ax = fig.add_subplot(1, 1, 1)\n",
        "\n",
        "  attention = attention[:len(predicted_sentence), :len(sentence)]\n",
        "  ax.matshow(attention, cmap='viridis', vmin=0.0)\n",
        "  fontdict = {'fontsize': 14}\n",
        "\n",
        "  ax.set_xticklabels([''] + sentence, fontdict=fontdict, rotation=90)\n",
        "  ax.set_yticklabels([''] + predicted_sentence, fontdict=fontdict)\n",
        "  ax.xaxis.set_major_locator(ticker.MultipleLocator(1))\n",
        "  ax.yaxis.set_major_locator(ticker.MultipleLocator(1))\n",
        "\n",
        "  ax.set_xlabel('Input text')\n",
        "  ax.set_ylabel('Output text')\n",
        "  plt.suptitle('Attention weights')"
      ],
      "execution_count": 62,
      "outputs": []
    },
    {
      "cell_type": "markdown",
      "metadata": {
        "id": "e1IhdBrgQYJr"
      },
      "source": [
        "<font color='blue'>**Predict the sentence translation**</font>"
      ]
    },
    {
      "cell_type": "code",
      "metadata": {
        "id": "MP3kLZoPMvSu"
      },
      "source": [
        "def predict(input_sentence):\n",
        "  '''\n",
        "  A. Given input sentence, convert the sentence into integers using tokenizer used earlier\n",
        "  B. Pass the input_sequence to encoder. we get encoder_outputs, last time step hidden and cell state\n",
        "  C. Initialize index of <start> as input to decoder. and encoder final states as input_states to onestepdecoder.\n",
        "  D. till we reach max_length of decoder or till the model predicted word <end>:\n",
        "         predictions, input_states, attention_weights = model.layers[1].onestepdecoder(input_to_decoder, encoder_output, input_states)\n",
        "         Save the attention weights\n",
        "         And get the word using the tokenizer(word index) and then store it in a string.\n",
        "  E. Call plot_attention(#params)\n",
        "  F. Return the predicted sentence\n",
        "  '''\n",
        "  input_length = 20\n",
        "  lstm_units = 32\n",
        "  batch_size = 1\n",
        "\n",
        "  encoder_seq = tknizer_ita.texts_to_sequences([input_sentence]) # need to pass list of values\n",
        "  encoder_seq = pad_sequences(encoder_seq, maxlen=input_length, dtype='int32', padding='post')\n",
        "  encoder_output, state_h, state_c = model.layers[0](encoder_seq, model.layers[0].initialize_states(batch_size))\n",
        "\n",
        "  cur_vec = np.ones((1,1))\n",
        "  cur_vec[0,0] = tknizer_eng.word_index['<start>']\n",
        "  result_sentence = \"\"\n",
        "  weights_arr = []\n",
        "\n",
        "  for i in range(20):\n",
        "    predictions,dec_state_h,dec_state_c,attention_weights,context_vector = model.layers[1].onestepdecoder(cur_vec, encoder_output, state_h, state_c)\n",
        "    cur_vec = np.reshape(np.argmax(predictions),(1,1))\n",
        "    state_h = dec_state_h\n",
        "    state_c = dec_state_c\n",
        "    index= np.argmax(predictions)\n",
        "    weights_arr.append(attention_weights.numpy())\n",
        "    \n",
        "    if i==0:\n",
        "      print(index)\n",
        "      continue\n",
        "\n",
        "    if tknizer_eng.index_word[index] == \"<end>\":\n",
        "      return result_sentence\n",
        "    result_sentence += tknizer_eng.index_word[index] + \" \"\n",
        "    \n",
        "\n",
        "  return result_sentence,np.array(weights_arr)\n"
      ],
      "execution_count": 106,
      "outputs": []
    },
    {
      "cell_type": "code",
      "metadata": {
        "colab": {
          "base_uri": "https://localhost:8080/",
          "height": 53
        },
        "id": "5KmDDYkaB12z",
        "outputId": "653b8934-a18e-437f-b34e-659ed4594a27"
      },
      "source": [
        "ita_sentence = \"la radio non funziona\"\n",
        "res, att = predict(ita_sentence)\n",
        "att = np.sum(att, axis=-1)\n",
        "res"
      ],
      "execution_count": 107,
      "outputs": [
        {
          "output_type": "stream",
          "text": [
            "0\n"
          ],
          "name": "stdout"
        },
        {
          "output_type": "execute_result",
          "data": {
            "application/vnd.google.colaboratory.intrinsic+json": {
              "type": "string"
            },
            "text/plain": [
              "'caption hungover net oppose roast costume glanced bullied seat pigged amendment alternatives physician skinning hurts imitate gauge mats ducks '"
            ]
          },
          "metadata": {
            "tags": []
          },
          "execution_count": 107
        }
      ]
    },
    {
      "cell_type": "code",
      "metadata": {
        "colab": {
          "base_uri": "https://localhost:8080/"
        },
        "id": "_4sSCCyoYFjZ",
        "outputId": "b6bd667a-41d0-4d4c-f737-e866a9b1dc28"
      },
      "source": [
        "print(att[0])\n",
        "print(att[1])\n",
        "print(att[2])"
      ],
      "execution_count": 109,
      "outputs": [
        {
          "output_type": "stream",
          "text": [
            "[2.4874569e-04 1.5869090e-01 3.9412501e-01 4.4693533e-01 1.7963686e-13\n",
            " 1.7963686e-13 1.7963686e-13 1.7963686e-13 1.7963686e-13 1.7963686e-13\n",
            " 1.7963686e-13 1.7963686e-13 1.7963686e-13 1.7963686e-13 1.7963686e-13\n",
            " 1.7963686e-13 1.7963686e-13 1.7963686e-13 1.7963686e-13 1.7963686e-13]\n",
            "[0.05 0.05 0.05 0.05 0.05 0.05 0.05 0.05 0.05 0.05 0.05 0.05 0.05 0.05\n",
            " 0.05 0.05 0.05 0.05 0.05 0.05]\n",
            "[0.05 0.05 0.05 0.05 0.05 0.05 0.05 0.05 0.05 0.05 0.05 0.05 0.05 0.05\n",
            " 0.05 0.05 0.05 0.05 0.05 0.05]\n"
          ],
          "name": "stdout"
        }
      ]
    },
    {
      "cell_type": "code",
      "metadata": {
        "colab": {
          "base_uri": "https://localhost:8080/",
          "height": 493
        },
        "id": "mAMNgoWqK4gu",
        "outputId": "4e9c8e10-b025-44fa-9185-d457d5e74af4"
      },
      "source": [
        "plot_attention(att, ita_sentence, res)"
      ],
      "execution_count": 105,
      "outputs": [
        {
          "output_type": "display_data",
          "data": {
            "image/png": "[encoded data removed]",
            "text/plain": [
              "<Figure size 504x504 with 1 Axes>"
            ]
          },
          "metadata": {
            "tags": [],
            "needs_background": "light"
          }
        }
      ]
    },
    {
      "cell_type": "code",
      "metadata": {
        "id": "oVkHhcWPCAYp"
      },
      "source": [
        "# def plot_attention(inp_sentence, att):\n",
        "#   att = np.sum(att, axis=-1)\n",
        "#   # plt.figure(figsize=(8,3))\n",
        "#   # y_ticks = ita_sentence.split()\n",
        "#   # len_sen = len(y_ticks)\n",
        "#   # g = sns.barplot(y=list(range(len_sen)),x=att[:len_sen],palette=\"rocket_r\",orient='h')\n",
        "#   # g.set_yticklabels(y_ticks,rotation=0)\n",
        "#   # plt.title(\"Attention Weights Plot for :\"+ita_sentence)\n",
        "#   # plt.show()"
      ],
      "execution_count": 37,
      "outputs": []
    },
    {
      "cell_type": "markdown",
      "metadata": {
        "id": "jmxIVOOQPWMu"
      },
      "source": [
        "<font color='blue'>**Calculate BLEU score**</font>"
      ]
    },
    {
      "cell_type": "code",
      "metadata": {
        "id": "vjr8pRvVQjXv"
      },
      "source": [
        "def aveg_bleu_scores(test_data,n):\n",
        "  sample_list = random.sample(range(len(test_data)),n)\n",
        "  average_bleu = 0\n",
        "  pred_data = []\n",
        "  individual_bleu = []\n",
        "\n",
        "  for i in sample_list:\n",
        "    test_sentence, true_sentence = test_data.iloc[i,[0,1]]\n",
        "    pred_sentence, att = predict(test_sentence)\n",
        "    bleu_score = bleu.sentence_bleu([true_sentence.split()],pred_sentence.split())\n",
        "    average_bleu += bleu_score\n",
        "\n",
        "    # pred_data.append((true_sentence, pred_sentence))\n",
        "    individual_bleu.append(bleu_score)\n",
        "  \n",
        "  return average_bleu/n, individual_bleu"
      ],
      "execution_count": 77,
      "outputs": []
    },
    {
      "cell_type": "code",
      "metadata": {
        "id": "0iHiLdROM23l",
        "colab": {
          "base_uri": "https://localhost:8080/",
          "height": 358
        },
        "outputId": "10cc55c0-dcc1-47ac-91dd-7da2569595df"
      },
      "source": [
        "#Create an object of your custom model.\n",
        "#Compile and train your model on dot scoring function.\n",
        "# Visualize few sentences randomly in Test data\n",
        "# Predict on 1000 random sentences on test data and calculate the average BLEU score of these sentences.\n",
        "# https://www.nltk.org/_modules/nltk/translate/bleu_score.html\n",
        "import nltk.translate.bleu_score as bleu\n",
        "import random\n",
        "\n",
        "test_df = validation.copy()\n",
        "test_df = test_df[[\"italian\",\"english_out\"]]\n",
        "test_df[\"english_out\"] = test_df[\"english_out\"].apply(lambda x: x.split(\"<end>\")[0])\n",
        "\n",
        "avg_score, individual_score = aveg_bleu_scores(test_df,50)\n",
        "print(avg_score)\n",
        "print(individual_score)"
      ],
      "execution_count": 78,
      "outputs": [
        {
          "output_type": "error",
          "ename": "ValueError",
          "evalue": "ignored",
          "traceback": [
            "\u001b[0;31m---------------------------------------------------------------------------\u001b[0m",
            "\u001b[0;31mValueError\u001b[0m                                Traceback (most recent call last)",
            "\u001b[0;32m<ipython-input-78-1511c45eb06d>\u001b[0m in \u001b[0;36m<module>\u001b[0;34m()\u001b[0m\n\u001b[1;32m     11\u001b[0m \u001b[0mtest_df\u001b[0m\u001b[0;34m[\u001b[0m\u001b[0;34m\"english_out\"\u001b[0m\u001b[0;34m]\u001b[0m \u001b[0;34m=\u001b[0m \u001b[0mtest_df\u001b[0m\u001b[0;34m[\u001b[0m\u001b[0;34m\"english_out\"\u001b[0m\u001b[0;34m]\u001b[0m\u001b[0;34m.\u001b[0m\u001b[0mapply\u001b[0m\u001b[0;34m(\u001b[0m\u001b[0;32mlambda\u001b[0m \u001b[0mx\u001b[0m\u001b[0;34m:\u001b[0m \u001b[0mx\u001b[0m\u001b[0;34m.\u001b[0m\u001b[0msplit\u001b[0m\u001b[0;34m(\u001b[0m\u001b[0;34m\"<end>\"\u001b[0m\u001b[0;34m)\u001b[0m\u001b[0;34m[\u001b[0m\u001b[0;36m0\u001b[0m\u001b[0;34m]\u001b[0m\u001b[0;34m)\u001b[0m\u001b[0;34m\u001b[0m\u001b[0;34m\u001b[0m\u001b[0m\n\u001b[1;32m     12\u001b[0m \u001b[0;34m\u001b[0m\u001b[0m\n\u001b[0;32m---> 13\u001b[0;31m \u001b[0mavg_score\u001b[0m\u001b[0;34m,\u001b[0m \u001b[0mindividual_score\u001b[0m \u001b[0;34m=\u001b[0m \u001b[0maveg_bleu_scores\u001b[0m\u001b[0;34m(\u001b[0m\u001b[0mtest_df\u001b[0m\u001b[0;34m,\u001b[0m\u001b[0;36m50\u001b[0m\u001b[0;34m)\u001b[0m\u001b[0;34m\u001b[0m\u001b[0;34m\u001b[0m\u001b[0m\n\u001b[0m\u001b[1;32m     14\u001b[0m \u001b[0mprint\u001b[0m\u001b[0;34m(\u001b[0m\u001b[0mavg_score\u001b[0m\u001b[0;34m)\u001b[0m\u001b[0;34m\u001b[0m\u001b[0;34m\u001b[0m\u001b[0m\n\u001b[1;32m     15\u001b[0m \u001b[0mprint\u001b[0m\u001b[0;34m(\u001b[0m\u001b[0mindividual_score\u001b[0m\u001b[0;34m)\u001b[0m\u001b[0;34m\u001b[0m\u001b[0;34m\u001b[0m\u001b[0m\n",
            "\u001b[0;32m<ipython-input-77-5be946922538>\u001b[0m in \u001b[0;36maveg_bleu_scores\u001b[0;34m(test_data, n)\u001b[0m\n\u001b[1;32m      7\u001b[0m   \u001b[0;32mfor\u001b[0m \u001b[0mi\u001b[0m \u001b[0;32min\u001b[0m \u001b[0msample_list\u001b[0m\u001b[0;34m:\u001b[0m\u001b[0;34m\u001b[0m\u001b[0;34m\u001b[0m\u001b[0m\n\u001b[1;32m      8\u001b[0m     \u001b[0mtest_sentence\u001b[0m\u001b[0;34m,\u001b[0m \u001b[0mtrue_sentence\u001b[0m \u001b[0;34m=\u001b[0m \u001b[0mtest_data\u001b[0m\u001b[0;34m.\u001b[0m\u001b[0miloc\u001b[0m\u001b[0;34m[\u001b[0m\u001b[0mi\u001b[0m\u001b[0;34m,\u001b[0m\u001b[0;34m[\u001b[0m\u001b[0;36m0\u001b[0m\u001b[0;34m,\u001b[0m\u001b[0;36m1\u001b[0m\u001b[0;34m]\u001b[0m\u001b[0;34m]\u001b[0m\u001b[0;34m\u001b[0m\u001b[0;34m\u001b[0m\u001b[0m\n\u001b[0;32m----> 9\u001b[0;31m     \u001b[0mpred_sentence\u001b[0m\u001b[0;34m,\u001b[0m \u001b[0matt\u001b[0m \u001b[0;34m=\u001b[0m \u001b[0mpredict\u001b[0m\u001b[0;34m(\u001b[0m\u001b[0mtest_sentence\u001b[0m\u001b[0;34m)\u001b[0m\u001b[0;34m\u001b[0m\u001b[0;34m\u001b[0m\u001b[0m\n\u001b[0m\u001b[1;32m     10\u001b[0m     \u001b[0mbleu_score\u001b[0m \u001b[0;34m=\u001b[0m \u001b[0mbleu\u001b[0m\u001b[0;34m.\u001b[0m\u001b[0msentence_bleu\u001b[0m\u001b[0;34m(\u001b[0m\u001b[0;34m[\u001b[0m\u001b[0mtrue_sentence\u001b[0m\u001b[0;34m.\u001b[0m\u001b[0msplit\u001b[0m\u001b[0;34m(\u001b[0m\u001b[0;34m)\u001b[0m\u001b[0;34m]\u001b[0m\u001b[0;34m,\u001b[0m\u001b[0mpred_sentence\u001b[0m\u001b[0;34m.\u001b[0m\u001b[0msplit\u001b[0m\u001b[0;34m(\u001b[0m\u001b[0;34m)\u001b[0m\u001b[0;34m)\u001b[0m\u001b[0;34m\u001b[0m\u001b[0;34m\u001b[0m\u001b[0m\n\u001b[1;32m     11\u001b[0m     \u001b[0maverage_bleu\u001b[0m \u001b[0;34m+=\u001b[0m \u001b[0mbleu_score\u001b[0m\u001b[0;34m\u001b[0m\u001b[0;34m\u001b[0m\u001b[0m\n",
            "\u001b[0;31mValueError\u001b[0m: too many values to unpack (expected 2)"
          ]
        }
      ]
    },
    {
      "cell_type": "markdown",
      "metadata": {
        "id": "SWg2ferDQvT3"
      },
      "source": [
        "## Model Training with General"
      ]
    },
    {
      "cell_type": "code",
      "metadata": {
        "id": "4Rh9_w79M5JO"
      },
      "source": [
        "#Compile and train your model on general scoring function.\n",
        "# Visualize few sentences randomly in Test data\n",
        "# Predict on 1000 random sentences on test data and calculate the average BLEU score of these sentences.\n",
        "# https://www.nltk.org/_modules/nltk/translate/bleu_score.html"
      ],
      "execution_count": null,
      "outputs": []
    },
    {
      "cell_type": "markdown",
      "metadata": {
        "id": "VB1jRUqZQ9AM"
      },
      "source": [
        "<font color='blue'>**Repeat the same steps for Concat scoring function**</font>"
      ]
    },
    {
      "cell_type": "code",
      "metadata": {
        "id": "1kN9ZWViQNMB"
      },
      "source": [
        "#Compile and train your model on concat scoring function.\n",
        "# Visualize few sentences randomly in Test data\n",
        "# Predict on 1000 random sentences on test data and calculate the average BLEU score of these sentences.\n",
        "# https://www.nltk.org/_modules/nltk/translate/bleu_score.html"
      ],
      "execution_count": null,
      "outputs": []
    },
    {
      "cell_type": "code",
      "metadata": {
        "id": "Ff1lV0ITM6_p"
      },
      "source": [
        "# Write your observations on each of the scoring function"
      ],
      "execution_count": null,
      "outputs": []
    }
  ]
}