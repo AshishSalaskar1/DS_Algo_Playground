{
  "nbformat": 4,
  "nbformat_minor": 0,
  "metadata": {
    "colab": {
      "name": "FB_Assignment.ipynb",
      "provenance": [],
      "collapsed_sections": [
        "CeLwIrtRxd4J",
        "WGK8Kuv8iRG4",
        "tNjSpy2hUw5c",
        "BY1O92vmVZHT"
      ],
      "machine_shape": "hm"
    },
    "kernelspec": {
      "name": "python3",
      "display_name": "Python 3"
    }
  },
  "cells": [
    {
      "cell_type": "code",
      "metadata": {
        "colab": {
          "base_uri": "https://localhost:8080/"
        },
        "id": "C7ZfYy6xS8mR",
        "outputId": "523ad9a4-7cdb-435d-a160-1fc538f5a61c"
      },
      "source": [
        "!pip3 install xgboost"
      ],
      "execution_count": 2,
      "outputs": [
        {
          "output_type": "stream",
          "text": [
            "Requirement already satisfied: xgboost in /usr/local/lib/python3.7/dist-packages (0.90)\n",
            "Requirement already satisfied: scipy in /usr/local/lib/python3.7/dist-packages (from xgboost) (1.4.1)\n",
            "Requirement already satisfied: numpy in /usr/local/lib/python3.7/dist-packages (from xgboost) (1.19.5)\n"
          ],
          "name": "stdout"
        }
      ]
    },
    {
      "cell_type": "code",
      "metadata": {
        "id": "m3TZD2i6S5E_"
      },
      "source": [
        "#Importing Libraries\r\n",
        "# please do go through this python notebook: \r\n",
        "import warnings\r\n",
        "warnings.filterwarnings(\"ignore\")\r\n",
        "\r\n",
        "import csv\r\n",
        "import pandas as pd#pandas to create small dataframes \r\n",
        "import datetime #Convert to unix time\r\n",
        "import time #Convert to unix time\r\n",
        "# if numpy is not installed already : pip3 install numpy\r\n",
        "import numpy as np#Do aritmetic operations on arrays\r\n",
        "# matplotlib: used to plot graphs\r\n",
        "import matplotlib\r\n",
        "import matplotlib.pylab as plt\r\n",
        "import seaborn as sns#Plots\r\n",
        "from matplotlib import rcParams#Size of plots  \r\n",
        "from sklearn.cluster import MiniBatchKMeans, KMeans#Clustering\r\n",
        "import math\r\n",
        "import pickle\r\n",
        "import os\r\n",
        "# to install xgboost: pip3 install xgboost\r\n",
        "import xgboost as xgb\r\n",
        "\r\n",
        "import warnings\r\n",
        "import networkx as nx\r\n",
        "import pdb\r\n",
        "import pickle\r\n",
        "from pandas import HDFStore,DataFrame\r\n",
        "from pandas import read_hdf\r\n",
        "from scipy.sparse.linalg import svds, eigs\r\n",
        "import gc\r\n",
        "from tqdm import tqdm\r\n",
        "from sklearn.ensemble import RandomForestClassifier\r\n",
        "from sklearn.metrics import f1_score\r\n",
        "\r\n",
        "from sklearn.model_selection import GridSearchCV\r\n",
        "\r\n",
        "from plotly.offline import iplot\r\n",
        "import plotly.graph_objs as go\r\n",
        "\r\n"
      ],
      "execution_count": 180,
      "outputs": []
    },
    {
      "cell_type": "code",
      "metadata": {
        "colab": {
          "base_uri": "https://localhost:8080/"
        },
        "id": "7FUpDBotS5Kc",
        "outputId": "db8bf69b-bc57-4a27-d307-138873eeb04a"
      },
      "source": [
        "!gdown --id \"1fDJptlCFEWNV5UNGPc4geTykgFI3PDCV\"\r\n",
        "!gdown --id \"1pIO_nOg9XU0WUD10brRvrgyUXbY5gqMs\"\r\n",
        "!gdown --id \"1lcxzVZ0-MkPmoH3lS35Q8rRfrecKSXb1\"\r\n",
        "!gdown --id \"1_KN7S8zfHdrkRjRYOEtBxBVq8JrGxPXD\""
      ],
      "execution_count": 5,
      "outputs": [
        {
          "output_type": "stream",
          "text": [
            "Downloading...\n",
            "From: https://drive.google.com/uc?id=1fDJptlCFEWNV5UNGPc4geTykgFI3PDCV\n",
            "To: /content/storage_sample_stage4.h5\n",
            "103MB [00:01, 65.6MB/s] \n"
          ],
          "name": "stdout"
        }
      ]
    },
    {
      "cell_type": "code",
      "metadata": {
        "id": "-vde6zGVTPsy"
      },
      "source": [
        "from pandas import read_hdf\r\n",
        "df_train = read_hdf('storage_sample_stage4.h5', 'train_df',mode='r')\r\n",
        "df_test = read_hdf('storage_sample_stage4.h5', 'test_df',mode='r')"
      ],
      "execution_count": 11,
      "outputs": []
    },
    {
      "cell_type": "markdown",
      "metadata": {
        "id": "CeLwIrtRxd4J"
      },
      "source": [
        "# Featurization\r\n"
      ]
    },
    {
      "cell_type": "markdown",
      "metadata": {
        "id": "WGK8Kuv8iRG4"
      },
      "source": [
        "## Add missing Feature : num_followers_d"
      ]
    },
    {
      "cell_type": "code",
      "metadata": {
        "id": "dHtGqICliTxa"
      },
      "source": [
        "train_graph=nx.read_edgelist('train_after_eda.csv',delimiter=',',create_using=nx.DiGraph(),nodetype=int)"
      ],
      "execution_count": 103,
      "outputs": []
    },
    {
      "cell_type": "code",
      "metadata": {
        "id": "6VZU0vTbiU3d"
      },
      "source": [
        "train_d_followers = [len(set(train_graph.predecessors(dest_node))) for dest_node in df_train[\"destination_node\"].values]\r\n",
        "test_d_followers = [len(set(train_graph.predecessors(dest_node))) for dest_node in df_test[\"destination_node\"].values]"
      ],
      "execution_count": 104,
      "outputs": []
    },
    {
      "cell_type": "code",
      "metadata": {
        "id": "taODl2XEjdiS"
      },
      "source": [
        "df_train[\"num_followers_d\"] = train_d_followers\r\n",
        "df_test[\"num_followers_d\"] = test_d_followers"
      ],
      "execution_count": 106,
      "outputs": []
    },
    {
      "cell_type": "markdown",
      "metadata": {
        "id": "tNjSpy2hUw5c"
      },
      "source": [
        "## Add Feature : Preferential Attachment\r\n"
      ]
    },
    {
      "cell_type": "code",
      "metadata": {
        "id": "Rs1OfwUGUgKJ"
      },
      "source": [
        "df_train[\"pref_attach_followees\"] = df_train[\"num_followees_s\"]*df_train[\"num_followees_d\"]\r\n",
        "df_train[\"pref_attach_followers\"] = df_train[\"num_followers_s\"]*df_train[\"num_followers_d\"]\r\n",
        "\r\n",
        "df_test[\"pref_attach_followees\"] = df_test[\"num_followees_s\"]*df_test[\"num_followees_d\"]\r\n",
        "df_test[\"pref_attach_followers\"] = df_test[\"num_followers_s\"]*df_test[\"num_followers_d\"]"
      ],
      "execution_count": 120,
      "outputs": []
    },
    {
      "cell_type": "markdown",
      "metadata": {
        "id": "BY1O92vmVZHT"
      },
      "source": [
        "## Add Feature : svd_dot\r\n"
      ]
    },
    {
      "cell_type": "code",
      "metadata": {
        "id": "wylq_n99e1Hv"
      },
      "source": [
        "def compute_svd_dot(df_row):\r\n",
        "  svd_dot_u = (df_row[\"svd_u_s_1\"]*df_row[\"svd_u_d_1\"]) + \\\r\n",
        "              (df_row[\"svd_u_s_2\"]*df_row[\"svd_u_d_2\"]) + \\\r\n",
        "              (df_row[\"svd_u_s_3\"]*df_row[\"svd_u_d_3\"]) + \\\r\n",
        "              (df_row[\"svd_u_s_4\"]*df_row[\"svd_u_d_4\"]) + \\\r\n",
        "              (df_row[\"svd_u_s_5\"]*df_row[\"svd_u_d_5\"]) + \\\r\n",
        "              (df_row[\"svd_u_s_6\"]*df_row[\"svd_u_d_6\"])\r\n",
        "\r\n",
        "  svd_dot_v = (df_row[\"svd_v_s_1\"]*df_row[\"svd_v_d_1\"]) + \\\r\n",
        "              (df_row[\"svd_v_s_2\"]*df_row[\"svd_v_d_2\"]) + \\\r\n",
        "              (df_row[\"svd_v_s_3\"]*df_row[\"svd_v_d_3\"]) + \\\r\n",
        "              (df_row[\"svd_v_s_4\"]*df_row[\"svd_v_d_4\"]) + \\\r\n",
        "              (df_row[\"svd_v_s_5\"]*df_row[\"svd_v_d_5\"]) + \\\r\n",
        "              (df_row[\"svd_v_s_6\"]*df_row[\"svd_v_d_6\"])\r\n",
        "\r\n",
        "  return svd_dot_u, svd_dot_v\r\n"
      ],
      "execution_count": 109,
      "outputs": []
    },
    {
      "cell_type": "code",
      "metadata": {
        "colab": {
          "base_uri": "https://localhost:8080/"
        },
        "id": "QRbfukLgpFKo",
        "outputId": "b069292a-35ad-48e1-c500-317fea339f59"
      },
      "source": [
        "for index, row in tqdm(df_train.iterrows()):\r\n",
        "  df_train.loc[index,\"svd_dot_u\"] ,df_train.loc[index,\"svd_dot_v\"]= compute_svd_dot(row)\r\n",
        "\r\n",
        "for index, row in tqdm(df_test.iterrows()):\r\n",
        "  df_test.loc[index,\"svd_dot_u\"] ,df_test.loc[index,\"svd_dot_v\"] = compute_svd_dot(row)\r\n"
      ],
      "execution_count": 126,
      "outputs": [
        {
          "output_type": "stream",
          "text": [
            "100002it [03:00, 554.21it/s]\n",
            "50002it [01:03, 789.98it/s]\n"
          ],
          "name": "stderr"
        }
      ]
    },
    {
      "cell_type": "code",
      "metadata": {
        "colab": {
          "base_uri": "https://localhost:8080/",
          "height": 115
        },
        "id": "veeqEVCrqsrE",
        "outputId": "d18f235e-c105-4283-f740-ff214e862baa"
      },
      "source": [
        "df_test.head(1)"
      ],
      "execution_count": 127,
      "outputs": [
        {
          "output_type": "execute_result",
          "data": {
            "text/html": [
              "<div>\n",
              "<style scoped>\n",
              "    .dataframe tbody tr th:only-of-type {\n",
              "        vertical-align: middle;\n",
              "    }\n",
              "\n",
              "    .dataframe tbody tr th {\n",
              "        vertical-align: top;\n",
              "    }\n",
              "\n",
              "    .dataframe thead th {\n",
              "        text-align: right;\n",
              "    }\n",
              "</style>\n",
              "<table border=\"1\" class=\"dataframe\">\n",
              "  <thead>\n",
              "    <tr style=\"text-align: right;\">\n",
              "      <th></th>\n",
              "      <th>source_node</th>\n",
              "      <th>destination_node</th>\n",
              "      <th>indicator_link</th>\n",
              "      <th>jaccard_followers</th>\n",
              "      <th>jaccard_followees</th>\n",
              "      <th>cosine_followers</th>\n",
              "      <th>cosine_followees</th>\n",
              "      <th>num_followers_s</th>\n",
              "      <th>num_followees_s</th>\n",
              "      <th>num_followees_d</th>\n",
              "      <th>inter_followers</th>\n",
              "      <th>inter_followees</th>\n",
              "      <th>adar_index</th>\n",
              "      <th>follows_back</th>\n",
              "      <th>same_comp</th>\n",
              "      <th>shortest_path</th>\n",
              "      <th>weight_in</th>\n",
              "      <th>weight_out</th>\n",
              "      <th>weight_f1</th>\n",
              "      <th>weight_f2</th>\n",
              "      <th>weight_f3</th>\n",
              "      <th>weight_f4</th>\n",
              "      <th>page_rank_s</th>\n",
              "      <th>page_rank_d</th>\n",
              "      <th>katz_s</th>\n",
              "      <th>katz_d</th>\n",
              "      <th>hubs_s</th>\n",
              "      <th>hubs_d</th>\n",
              "      <th>authorities_s</th>\n",
              "      <th>authorities_d</th>\n",
              "      <th>svd_u_s_1</th>\n",
              "      <th>svd_u_s_2</th>\n",
              "      <th>svd_u_s_3</th>\n",
              "      <th>svd_u_s_4</th>\n",
              "      <th>svd_u_s_5</th>\n",
              "      <th>svd_u_s_6</th>\n",
              "      <th>svd_u_d_1</th>\n",
              "      <th>svd_u_d_2</th>\n",
              "      <th>svd_u_d_3</th>\n",
              "      <th>svd_u_d_4</th>\n",
              "      <th>svd_u_d_5</th>\n",
              "      <th>svd_u_d_6</th>\n",
              "      <th>svd_v_s_1</th>\n",
              "      <th>svd_v_s_2</th>\n",
              "      <th>svd_v_s_3</th>\n",
              "      <th>svd_v_s_4</th>\n",
              "      <th>svd_v_s_5</th>\n",
              "      <th>svd_v_s_6</th>\n",
              "      <th>svd_v_d_1</th>\n",
              "      <th>svd_v_d_2</th>\n",
              "      <th>svd_v_d_3</th>\n",
              "      <th>svd_v_d_4</th>\n",
              "      <th>svd_v_d_5</th>\n",
              "      <th>svd_v_d_6</th>\n",
              "      <th>num_followers_d</th>\n",
              "      <th>pref_attach_followers</th>\n",
              "      <th>pref_attach_followees</th>\n",
              "      <th>svd_dot_u</th>\n",
              "      <th>svd_dot_v</th>\n",
              "    </tr>\n",
              "  </thead>\n",
              "  <tbody>\n",
              "    <tr>\n",
              "      <th>0</th>\n",
              "      <td>848424</td>\n",
              "      <td>784690</td>\n",
              "      <td>1</td>\n",
              "      <td>0</td>\n",
              "      <td>0.0</td>\n",
              "      <td>0.029161</td>\n",
              "      <td>0.0</td>\n",
              "      <td>14</td>\n",
              "      <td>6</td>\n",
              "      <td>9</td>\n",
              "      <td>1</td>\n",
              "      <td>0</td>\n",
              "      <td>0.0</td>\n",
              "      <td>1</td>\n",
              "      <td>1</td>\n",
              "      <td>2</td>\n",
              "      <td>0.258199</td>\n",
              "      <td>0.377964</td>\n",
              "      <td>0.636163</td>\n",
              "      <td>0.09759</td>\n",
              "      <td>0.894362</td>\n",
              "      <td>1.014128</td>\n",
              "      <td>6.557971e-07</td>\n",
              "      <td>0.000002</td>\n",
              "      <td>0.000754</td>\n",
              "      <td>0.000786</td>\n",
              "      <td>3.243237e-16</td>\n",
              "      <td>1.745627e-16</td>\n",
              "      <td>2.969838e-15</td>\n",
              "      <td>9.269213e-14</td>\n",
              "      <td>-9.987979e-12</td>\n",
              "      <td>2.283676e-13</td>\n",
              "      <td>1.439968e-10</td>\n",
              "      <td>6.136162e-13</td>\n",
              "      <td>4.188171e-13</td>\n",
              "      <td>5.983361e-15</td>\n",
              "      <td>-1.026186e-11</td>\n",
              "      <td>5.316372e-13</td>\n",
              "      <td>5.843225e-10</td>\n",
              "      <td>1.166047e-13</td>\n",
              "      <td>2.253356e-11</td>\n",
              "      <td>3.220367e-15</td>\n",
              "      <td>-2.148852e-13</td>\n",
              "      <td>1.883148e-13</td>\n",
              "      <td>5.904807e-11</td>\n",
              "      <td>2.701538e-12</td>\n",
              "      <td>4.341620e-13</td>\n",
              "      <td>5.535503e-14</td>\n",
              "      <td>-9.994076e-10</td>\n",
              "      <td>5.791910e-10</td>\n",
              "      <td>3.512364e-07</td>\n",
              "      <td>2.486658e-09</td>\n",
              "      <td>2.771146e-09</td>\n",
              "      <td>1.727694e-12</td>\n",
              "      <td>18</td>\n",
              "      <td>252</td>\n",
              "      <td>54</td>\n",
              "      <td>8.425267e-20</td>\n",
              "      <td>2.074808e-17</td>\n",
              "    </tr>\n",
              "  </tbody>\n",
              "</table>\n",
              "</div>"
            ],
            "text/plain": [
              "   source_node  destination_node  ...     svd_dot_u     svd_dot_v\n",
              "0       848424            784690  ...  8.425267e-20  2.074808e-17\n",
              "\n",
              "[1 rows x 59 columns]"
            ]
          },
          "metadata": {
            "tags": []
          },
          "execution_count": 127
        }
      ]
    },
    {
      "cell_type": "code",
      "metadata": {
        "id": "zxq2azmcqH_P"
      },
      "source": [
        "# Save final train and test df \r\n",
        "df_train.to_csv(\"train_data.csv\",index=False)\r\n",
        "df_test.to_csv(\"test_data.csv\",index=False)"
      ],
      "execution_count": 128,
      "outputs": []
    },
    {
      "cell_type": "markdown",
      "metadata": {
        "id": "a32wsyCcxMOf"
      },
      "source": [
        "# XGBOOST Algorithm"
      ]
    },
    {
      "cell_type": "code",
      "metadata": {
        "id": "3QFJ2k-SymhC"
      },
      "source": [
        "X_train = pd.read_csv(\"train_data.csv\")\r\n",
        "X_test = pd.read_csv(\"test_data.csv\")\r\n",
        "y_train = X_train.indicator_link\r\n",
        "y_test = X_test.indicator_link\r\n",
        "\r\n",
        "X_train.drop(['source_node', 'destination_node','indicator_link'],axis=1,inplace=True)\r\n",
        "X_test.drop(['source_node', 'destination_node','indicator_link'],axis=1,inplace=True)\r\n",
        "\r\n",
        "X_train = X_train.values\r\n",
        "X_test = X_test.values\r\n",
        "y_train = y_train.values\r\n",
        "y_test = y_test.values"
      ],
      "execution_count": 153,
      "outputs": []
    },
    {
      "cell_type": "markdown",
      "metadata": {
        "id": "v_ZgI7Ty5m7X"
      },
      "source": [
        "## Hyperparamater Tuning"
      ]
    },
    {
      "cell_type": "code",
      "metadata": {
        "id": "ykH_3nS0qKOk"
      },
      "source": [
        "clf_xgb = xgb.XGBClassifier(objective = 'binary:logistic')\r\n",
        "\r\n",
        "param_dist = {\r\n",
        "'n_estimators': [1,5, 10],\r\n",
        "'max_depth': [3, 5, 8],\r\n",
        "}\r\n",
        "\r\n",
        "\r\n",
        "hyp_clf = GridSearchCV(clf_xgb, param_dist,cv=5, scoring = 'f1', return_train_score = True)"
      ],
      "execution_count": 186,
      "outputs": []
    },
    {
      "cell_type": "code",
      "metadata": {
        "colab": {
          "base_uri": "https://localhost:8080/"
        },
        "id": "t2Ex5t9CwrUs",
        "outputId": "86277497-4b06-4cd0-cdb8-531d20ad3ae6"
      },
      "source": [
        "hyp_clf.fit(X_train,y_train)"
      ],
      "execution_count": 187,
      "outputs": [
        {
          "output_type": "execute_result",
          "data": {
            "text/plain": [
              "GridSearchCV(cv=5, error_score=nan,\n",
              "             estimator=XGBClassifier(base_score=0.5, booster='gbtree',\n",
              "                                     colsample_bylevel=1, colsample_bynode=1,\n",
              "                                     colsample_bytree=1, gamma=0,\n",
              "                                     learning_rate=0.1, max_delta_step=0,\n",
              "                                     max_depth=3, min_child_weight=1,\n",
              "                                     missing=None, n_estimators=100, n_jobs=1,\n",
              "                                     nthread=None, objective='binary:logistic',\n",
              "                                     random_state=0, reg_alpha=0, reg_lambda=1,\n",
              "                                     scale_pos_weight=1, seed=None, silent=None,\n",
              "                                     subsample=1, verbosity=1),\n",
              "             iid='deprecated', n_jobs=None,\n",
              "             param_grid={'max_depth': [3, 5, 8], 'n_estimators': [1, 5, 10]},\n",
              "             pre_dispatch='2*n_jobs', refit=True, return_train_score=True,\n",
              "             scoring='f1', verbose=0)"
            ]
          },
          "metadata": {
            "tags": []
          },
          "execution_count": 187
        }
      ]
    },
    {
      "cell_type": "code",
      "metadata": {
        "id": "-_eyAmoF3Cpl"
      },
      "source": [
        "best_depth = hyp_clf.best_estimator_.max_depth\r\n",
        "best_n = hyp_clf.best_estimator_.n_estimators\r\n",
        "\r\n",
        "depth_vals = hyp_clf.cv_results_[\"param_max_depth\"]\r\n",
        "n_estimators_vals = hyp_clf.cv_results_[\"param_n_estimators\"]\r\n",
        "auc_vals_cv = hyp_clf.cv_results_[\"mean_test_score\"]\r\n",
        "auc_vals_train = hyp_clf.cv_results_[\"mean_train_score\"]"
      ],
      "execution_count": 188,
      "outputs": []
    },
    {
      "cell_type": "code",
      "metadata": {
        "colab": {
          "base_uri": "https://localhost:8080/"
        },
        "id": "JoL_2Tl34iyp",
        "outputId": "b316e146-7018-4b91-c715-9adfbd28b450"
      },
      "source": [
        "print(best_depth, best_n)"
      ],
      "execution_count": 191,
      "outputs": [
        {
          "output_type": "stream",
          "text": [
            "8 10\n"
          ],
          "name": "stdout"
        }
      ]
    },
    {
      "cell_type": "code",
      "metadata": {
        "colab": {
          "base_uri": "https://localhost:8080/",
          "height": 542
        },
        "id": "MERa8-aC3CiN",
        "outputId": "d2427aaf-1edf-4b1c-9160-0b9c3ab55f04"
      },
      "source": [
        "#3d plot : max_depth vs n_estimators vs f1_score\r\n",
        "trace1 = go.Scatter3d(x=depth_vals,y=n_estimators_vals,z=auc_vals_train, name = 'train')\r\n",
        "trace2 = go.Scatter3d(x=depth_vals,y=n_estimators_vals,z=auc_vals_cv, name = 'Cross validation')\r\n",
        "data = [trace1, trace2]\r\n",
        "layout =  go.Layout(scene = dict(xaxis = dict(title='max_depth'),\r\n",
        "          yaxis = dict(title='n_estimators'),\r\n",
        "          zaxis = dict(title='f1_Score'),))\r\n",
        "fig = go.Figure(data=data, layout=layout)\r\n",
        "iplot(fig, filename='3d-scatter-colorscale')\r\n"
      ],
      "execution_count": 190,
      "outputs": [
        {
          "output_type": "display_data",
          "data": {
            "text/html": [
              "<html>\n",
              "<head><meta charset=\"utf-8\" /></head>\n",
              "<body>\n",
              "    <div>\n",
              "            <script src=\"https://cdnjs.cloudflare.com/ajax/libs/mathjax/2.7.5/MathJax.js?config=TeX-AMS-MML_SVG\"></script><script type=\"text/javascript\">if (window.MathJax) {MathJax.Hub.Config({SVG: {font: \"STIX-Web\"}});}</script>\n",
              "                <script type=\"text/javascript\">window.PlotlyConfig = {MathJaxConfig: 'local'};</script>\n",
              "        <script src=\"https://cdn.plot.ly/plotly-latest.min.js\"></script>    \n",
              "            <div id=\"85bd02cc-ad53-46a5-b542-f9f4e17c20e1\" class=\"plotly-graph-div\" style=\"height:525px; width:100%;\"></div>\n",
              "            <script type=\"text/javascript\">\n",
              "                \n",
              "                    window.PLOTLYENV=window.PLOTLYENV || {};\n",
              "                    \n",
              "                if (document.getElementById(\"85bd02cc-ad53-46a5-b542-f9f4e17c20e1\")) {\n",
              "                    Plotly.newPlot(\n",
              "                        '85bd02cc-ad53-46a5-b542-f9f4e17c20e1',\n",
              "                        [{\"name\": \"train\", \"type\": \"scatter3d\", \"x\": [3, 3, 3, 5, 5, 5, 8, 8, 8], \"y\": [1, 5, 10, 1, 5, 10, 1, 5, 10], \"z\": [0.8938468891966762, 0.9120442055070065, 0.9198755015712475, 0.9260374809817833, 0.9280498787942871, 0.9291788061712698, 0.9681001414898143, 0.9715012201324115, 0.9724237599581509]}, {\"name\": \"Cross validation\", \"type\": \"scatter3d\", \"x\": [3, 3, 3, 5, 5, 5, 8, 8, 8], \"y\": [1, 5, 10, 1, 5, 10, 1, 5, 10], \"z\": [0.8936160673826702, 0.9114720909883219, 0.9196079176356793, 0.925999214079034, 0.9280345274661735, 0.9292068889611651, 0.9673132973078309, 0.9699972931021137, 0.9708699646966343]}],\n",
              "                        {\"scene\": {\"xaxis\": {\"title\": {\"text\": \"max_depth\"}}, \"yaxis\": {\"title\": {\"text\": \"n_estimators\"}}, \"zaxis\": {\"title\": {\"text\": \"f1_Score\"}}}, \"template\": {\"data\": {\"bar\": [{\"error_x\": {\"color\": \"#2a3f5f\"}, \"error_y\": {\"color\": \"#2a3f5f\"}, \"marker\": {\"line\": {\"color\": \"#E5ECF6\", \"width\": 0.5}}, \"type\": \"bar\"}], \"barpolar\": [{\"marker\": {\"line\": {\"color\": \"#E5ECF6\", \"width\": 0.5}}, \"type\": \"barpolar\"}], \"carpet\": [{\"aaxis\": {\"endlinecolor\": \"#2a3f5f\", \"gridcolor\": \"white\", \"linecolor\": \"white\", \"minorgridcolor\": \"white\", \"startlinecolor\": \"#2a3f5f\"}, \"baxis\": {\"endlinecolor\": \"#2a3f5f\", \"gridcolor\": \"white\", \"linecolor\": \"white\", \"minorgridcolor\": \"white\", \"startlinecolor\": \"#2a3f5f\"}, \"type\": \"carpet\"}], \"choropleth\": [{\"colorbar\": {\"outlinewidth\": 0, \"ticks\": \"\"}, \"type\": \"choropleth\"}], \"contour\": [{\"colorbar\": {\"outlinewidth\": 0, \"ticks\": \"\"}, \"colorscale\": [[0.0, \"#0d0887\"], [0.1111111111111111, \"#46039f\"], [0.2222222222222222, \"#7201a8\"], [0.3333333333333333, \"#9c179e\"], [0.4444444444444444, \"#bd3786\"], [0.5555555555555556, \"#d8576b\"], [0.6666666666666666, \"#ed7953\"], [0.7777777777777778, \"#fb9f3a\"], [0.8888888888888888, \"#fdca26\"], [1.0, \"#f0f921\"]], \"type\": \"contour\"}], \"contourcarpet\": [{\"colorbar\": {\"outlinewidth\": 0, \"ticks\": \"\"}, \"type\": \"contourcarpet\"}], \"heatmap\": [{\"colorbar\": {\"outlinewidth\": 0, \"ticks\": \"\"}, \"colorscale\": [[0.0, \"#0d0887\"], [0.1111111111111111, \"#46039f\"], [0.2222222222222222, \"#7201a8\"], [0.3333333333333333, \"#9c179e\"], [0.4444444444444444, \"#bd3786\"], [0.5555555555555556, \"#d8576b\"], [0.6666666666666666, \"#ed7953\"], [0.7777777777777778, \"#fb9f3a\"], [0.8888888888888888, \"#fdca26\"], [1.0, \"#f0f921\"]], \"type\": \"heatmap\"}], \"heatmapgl\": [{\"colorbar\": {\"outlinewidth\": 0, \"ticks\": \"\"}, \"colorscale\": [[0.0, \"#0d0887\"], [0.1111111111111111, \"#46039f\"], [0.2222222222222222, \"#7201a8\"], [0.3333333333333333, \"#9c179e\"], [0.4444444444444444, \"#bd3786\"], [0.5555555555555556, \"#d8576b\"], [0.6666666666666666, \"#ed7953\"], [0.7777777777777778, \"#fb9f3a\"], [0.8888888888888888, \"#fdca26\"], [1.0, \"#f0f921\"]], \"type\": \"heatmapgl\"}], \"histogram\": [{\"marker\": {\"colorbar\": {\"outlinewidth\": 0, \"ticks\": \"\"}}, \"type\": \"histogram\"}], \"histogram2d\": [{\"colorbar\": {\"outlinewidth\": 0, \"ticks\": \"\"}, \"colorscale\": [[0.0, \"#0d0887\"], [0.1111111111111111, \"#46039f\"], [0.2222222222222222, \"#7201a8\"], [0.3333333333333333, \"#9c179e\"], [0.4444444444444444, \"#bd3786\"], [0.5555555555555556, \"#d8576b\"], [0.6666666666666666, \"#ed7953\"], [0.7777777777777778, \"#fb9f3a\"], [0.8888888888888888, \"#fdca26\"], [1.0, \"#f0f921\"]], \"type\": \"histogram2d\"}], \"histogram2dcontour\": [{\"colorbar\": {\"outlinewidth\": 0, \"ticks\": \"\"}, \"colorscale\": [[0.0, \"#0d0887\"], [0.1111111111111111, \"#46039f\"], [0.2222222222222222, \"#7201a8\"], [0.3333333333333333, \"#9c179e\"], [0.4444444444444444, \"#bd3786\"], [0.5555555555555556, \"#d8576b\"], [0.6666666666666666, \"#ed7953\"], [0.7777777777777778, \"#fb9f3a\"], [0.8888888888888888, \"#fdca26\"], [1.0, \"#f0f921\"]], \"type\": \"histogram2dcontour\"}], \"mesh3d\": [{\"colorbar\": {\"outlinewidth\": 0, \"ticks\": \"\"}, \"type\": \"mesh3d\"}], \"parcoords\": [{\"line\": {\"colorbar\": {\"outlinewidth\": 0, \"ticks\": \"\"}}, \"type\": \"parcoords\"}], \"pie\": [{\"automargin\": true, \"type\": \"pie\"}], \"scatter\": [{\"marker\": {\"colorbar\": {\"outlinewidth\": 0, \"ticks\": \"\"}}, \"type\": \"scatter\"}], \"scatter3d\": [{\"line\": {\"colorbar\": {\"outlinewidth\": 0, \"ticks\": \"\"}}, \"marker\": {\"colorbar\": {\"outlinewidth\": 0, \"ticks\": \"\"}}, \"type\": \"scatter3d\"}], \"scattercarpet\": [{\"marker\": {\"colorbar\": {\"outlinewidth\": 0, \"ticks\": \"\"}}, \"type\": \"scattercarpet\"}], \"scattergeo\": [{\"marker\": {\"colorbar\": {\"outlinewidth\": 0, \"ticks\": \"\"}}, \"type\": \"scattergeo\"}], \"scattergl\": [{\"marker\": {\"colorbar\": {\"outlinewidth\": 0, \"ticks\": \"\"}}, \"type\": \"scattergl\"}], \"scattermapbox\": [{\"marker\": {\"colorbar\": {\"outlinewidth\": 0, \"ticks\": \"\"}}, \"type\": \"scattermapbox\"}], \"scatterpolar\": [{\"marker\": {\"colorbar\": {\"outlinewidth\": 0, \"ticks\": \"\"}}, \"type\": \"scatterpolar\"}], \"scatterpolargl\": [{\"marker\": {\"colorbar\": {\"outlinewidth\": 0, \"ticks\": \"\"}}, \"type\": \"scatterpolargl\"}], \"scatterternary\": [{\"marker\": {\"colorbar\": {\"outlinewidth\": 0, \"ticks\": \"\"}}, \"type\": \"scatterternary\"}], \"surface\": [{\"colorbar\": {\"outlinewidth\": 0, \"ticks\": \"\"}, \"colorscale\": [[0.0, \"#0d0887\"], [0.1111111111111111, \"#46039f\"], [0.2222222222222222, \"#7201a8\"], [0.3333333333333333, \"#9c179e\"], [0.4444444444444444, \"#bd3786\"], [0.5555555555555556, \"#d8576b\"], [0.6666666666666666, \"#ed7953\"], [0.7777777777777778, \"#fb9f3a\"], [0.8888888888888888, \"#fdca26\"], [1.0, \"#f0f921\"]], \"type\": \"surface\"}], \"table\": [{\"cells\": {\"fill\": {\"color\": \"#EBF0F8\"}, \"line\": {\"color\": \"white\"}}, \"header\": {\"fill\": {\"color\": \"#C8D4E3\"}, \"line\": {\"color\": \"white\"}}, \"type\": \"table\"}]}, \"layout\": {\"annotationdefaults\": {\"arrowcolor\": \"#2a3f5f\", \"arrowhead\": 0, \"arrowwidth\": 1}, \"coloraxis\": {\"colorbar\": {\"outlinewidth\": 0, \"ticks\": \"\"}}, \"colorscale\": {\"diverging\": [[0, \"#8e0152\"], [0.1, \"#c51b7d\"], [0.2, \"#de77ae\"], [0.3, \"#f1b6da\"], [0.4, \"#fde0ef\"], [0.5, \"#f7f7f7\"], [0.6, \"#e6f5d0\"], [0.7, \"#b8e186\"], [0.8, \"#7fbc41\"], [0.9, \"#4d9221\"], [1, \"#276419\"]], \"sequential\": [[0.0, \"#0d0887\"], [0.1111111111111111, \"#46039f\"], [0.2222222222222222, \"#7201a8\"], [0.3333333333333333, \"#9c179e\"], [0.4444444444444444, \"#bd3786\"], [0.5555555555555556, \"#d8576b\"], [0.6666666666666666, \"#ed7953\"], [0.7777777777777778, \"#fb9f3a\"], [0.8888888888888888, \"#fdca26\"], [1.0, \"#f0f921\"]], \"sequentialminus\": [[0.0, \"#0d0887\"], [0.1111111111111111, \"#46039f\"], [0.2222222222222222, \"#7201a8\"], [0.3333333333333333, \"#9c179e\"], [0.4444444444444444, \"#bd3786\"], [0.5555555555555556, \"#d8576b\"], [0.6666666666666666, \"#ed7953\"], [0.7777777777777778, \"#fb9f3a\"], [0.8888888888888888, \"#fdca26\"], [1.0, \"#f0f921\"]]}, \"colorway\": [\"#636efa\", \"#EF553B\", \"#00cc96\", \"#ab63fa\", \"#FFA15A\", \"#19d3f3\", \"#FF6692\", \"#B6E880\", \"#FF97FF\", \"#FECB52\"], \"font\": {\"color\": \"#2a3f5f\"}, \"geo\": {\"bgcolor\": \"white\", \"lakecolor\": \"white\", \"landcolor\": \"#E5ECF6\", \"showlakes\": true, \"showland\": true, \"subunitcolor\": \"white\"}, \"hoverlabel\": {\"align\": \"left\"}, \"hovermode\": \"closest\", \"mapbox\": {\"style\": \"light\"}, \"paper_bgcolor\": \"white\", \"plot_bgcolor\": \"#E5ECF6\", \"polar\": {\"angularaxis\": {\"gridcolor\": \"white\", \"linecolor\": \"white\", \"ticks\": \"\"}, \"bgcolor\": \"#E5ECF6\", \"radialaxis\": {\"gridcolor\": \"white\", \"linecolor\": \"white\", \"ticks\": \"\"}}, \"scene\": {\"xaxis\": {\"backgroundcolor\": \"#E5ECF6\", \"gridcolor\": \"white\", \"gridwidth\": 2, \"linecolor\": \"white\", \"showbackground\": true, \"ticks\": \"\", \"zerolinecolor\": \"white\"}, \"yaxis\": {\"backgroundcolor\": \"#E5ECF6\", \"gridcolor\": \"white\", \"gridwidth\": 2, \"linecolor\": \"white\", \"showbackground\": true, \"ticks\": \"\", \"zerolinecolor\": \"white\"}, \"zaxis\": {\"backgroundcolor\": \"#E5ECF6\", \"gridcolor\": \"white\", \"gridwidth\": 2, \"linecolor\": \"white\", \"showbackground\": true, \"ticks\": \"\", \"zerolinecolor\": \"white\"}}, \"shapedefaults\": {\"line\": {\"color\": \"#2a3f5f\"}}, \"ternary\": {\"aaxis\": {\"gridcolor\": \"white\", \"linecolor\": \"white\", \"ticks\": \"\"}, \"baxis\": {\"gridcolor\": \"white\", \"linecolor\": \"white\", \"ticks\": \"\"}, \"bgcolor\": \"#E5ECF6\", \"caxis\": {\"gridcolor\": \"white\", \"linecolor\": \"white\", \"ticks\": \"\"}}, \"title\": {\"x\": 0.05}, \"xaxis\": {\"automargin\": true, \"gridcolor\": \"white\", \"linecolor\": \"white\", \"ticks\": \"\", \"title\": {\"standoff\": 15}, \"zerolinecolor\": \"white\", \"zerolinewidth\": 2}, \"yaxis\": {\"automargin\": true, \"gridcolor\": \"white\", \"linecolor\": \"white\", \"ticks\": \"\", \"title\": {\"standoff\": 15}, \"zerolinecolor\": \"white\", \"zerolinewidth\": 2}}}},\n",
              "                        {\"responsive\": true}\n",
              "                    ).then(function(){\n",
              "                            \n",
              "var gd = document.getElementById('85bd02cc-ad53-46a5-b542-f9f4e17c20e1');\n",
              "var x = new MutationObserver(function (mutations, observer) {{\n",
              "        var display = window.getComputedStyle(gd).display;\n",
              "        if (!display || display === 'none') {{\n",
              "            console.log([gd, 'removed!']);\n",
              "            Plotly.purge(gd);\n",
              "            observer.disconnect();\n",
              "        }}\n",
              "}});\n",
              "\n",
              "// Listen for the removal of the full notebook cells\n",
              "var notebookContainer = gd.closest('#notebook-container');\n",
              "if (notebookContainer) {{\n",
              "    x.observe(notebookContainer, {childList: true});\n",
              "}}\n",
              "\n",
              "// Listen for the clearing of the current output cell\n",
              "var outputEl = gd.closest('.output');\n",
              "if (outputEl) {{\n",
              "    x.observe(outputEl, {childList: true});\n",
              "}}\n",
              "\n",
              "                        })\n",
              "                };\n",
              "                \n",
              "            </script>\n",
              "        </div>\n",
              "</body>\n",
              "</html>"
            ]
          },
          "metadata": {
            "tags": []
          }
        }
      ]
    },
    {
      "cell_type": "markdown",
      "metadata": {
        "id": "C4uzdIZc5s9N"
      },
      "source": [
        "## Model Building"
      ]
    },
    {
      "cell_type": "code",
      "metadata": {
        "colab": {
          "base_uri": "https://localhost:8080/"
        },
        "id": "CFZ0-W1V2Io7",
        "outputId": "f63492b0-8f30-4ec1-f60b-891893725b02"
      },
      "source": [
        "best_model = xgb.XGBClassifier(objective = 'binary:logistic',max_depth=best_depth,n_estimators = best_n)\r\n",
        "best_model.fit(X_train, y_train,eval_set=[(X_test, y_test)],eval_metric='auc')\r\n"
      ],
      "execution_count": 198,
      "outputs": [
        {
          "output_type": "stream",
          "text": [
            "[0]\tvalidation_0-auc:0.954186\n",
            "[1]\tvalidation_0-auc:0.954272\n",
            "[2]\tvalidation_0-auc:0.953754\n",
            "[3]\tvalidation_0-auc:0.953282\n",
            "[4]\tvalidation_0-auc:0.953875\n",
            "[5]\tvalidation_0-auc:0.95379\n",
            "[6]\tvalidation_0-auc:0.95353\n",
            "[7]\tvalidation_0-auc:0.954014\n",
            "[8]\tvalidation_0-auc:0.954407\n",
            "[9]\tvalidation_0-auc:0.954795\n"
          ],
          "name": "stdout"
        },
        {
          "output_type": "execute_result",
          "data": {
            "text/plain": [
              "XGBClassifier(base_score=0.5, booster='gbtree', colsample_bylevel=1,\n",
              "              colsample_bynode=1, colsample_bytree=1, gamma=0,\n",
              "              learning_rate=0.1, max_delta_step=0, max_depth=8,\n",
              "              min_child_weight=1, missing=None, n_estimators=10, n_jobs=1,\n",
              "              nthread=None, objective='binary:logistic', random_state=0,\n",
              "              reg_alpha=0, reg_lambda=1, scale_pos_weight=1, seed=None,\n",
              "              silent=None, subsample=1, verbosity=1)"
            ]
          },
          "metadata": {
            "tags": []
          },
          "execution_count": 198
        }
      ]
    },
    {
      "cell_type": "code",
      "metadata": {
        "id": "GioNeGhpnIIG"
      },
      "source": [
        "y_train_pred = best_model.predict(X_train)\r\n",
        "y_test_pred = best_model.predict(X_test)"
      ],
      "execution_count": 200,
      "outputs": []
    },
    {
      "cell_type": "markdown",
      "metadata": {
        "id": "JLwwLvJbqEpL"
      },
      "source": [
        "## Evaluating Results"
      ]
    },
    {
      "cell_type": "code",
      "metadata": {
        "colab": {
          "base_uri": "https://localhost:8080/"
        },
        "id": "XpMMpy4UoXNL",
        "outputId": "78be7fd2-c412-41ea-f48b-0ffe9ffa39da"
      },
      "source": [
        "from sklearn.metrics import f1_score\r\n",
        "print('Train f1 score',f1_score(y_train,y_train_pred))\r\n",
        "print('Test f1 score',f1_score(y_test,y_test_pred))"
      ],
      "execution_count": 201,
      "outputs": [
        {
          "output_type": "stream",
          "text": [
            "Train f1 score 0.9718951457100442\n",
            "Test f1 score 0.9333727660653175\n"
          ],
          "name": "stdout"
        }
      ]
    },
    {
      "cell_type": "code",
      "metadata": {
        "id": "cO00ZYI4omFZ"
      },
      "source": [
        "from sklearn.metrics import confusion_matrix\r\n",
        "def plot_confusion_matrix(test_y, predict_y):\r\n",
        "    C = confusion_matrix(test_y, predict_y)\r\n",
        "    \r\n",
        "    A =(((C.T)/(C.sum(axis=1))).T)\r\n",
        "    \r\n",
        "    B =(C/C.sum(axis=0))\r\n",
        "    plt.figure(figsize=(20,4))\r\n",
        "    \r\n",
        "    labels = [0,1]\r\n",
        "    # representing A in heatmap format\r\n",
        "    cmap=sns.light_palette(\"blue\")\r\n",
        "    plt.subplot(1, 3, 1)\r\n",
        "    sns.heatmap(C, annot=True, cmap=cmap, fmt=\".3f\", xticklabels=labels, yticklabels=labels)\r\n",
        "    plt.xlabel('Predicted Class')\r\n",
        "    plt.ylabel('Original Class')\r\n",
        "    plt.title(\"Confusion matrix\")\r\n",
        "    \r\n",
        "    plt.subplot(1, 3, 2)\r\n",
        "    sns.heatmap(B, annot=True, cmap=cmap, fmt=\".3f\", xticklabels=labels, yticklabels=labels)\r\n",
        "    plt.xlabel('Predicted Class')\r\n",
        "    plt.ylabel('Original Class')\r\n",
        "    plt.title(\"Precision matrix\")\r\n",
        "    \r\n",
        "    plt.subplot(1, 3, 3)\r\n",
        "    # representing B in heatmap format\r\n",
        "    sns.heatmap(A, annot=True, cmap=cmap, fmt=\".3f\", xticklabels=labels, yticklabels=labels)\r\n",
        "    plt.xlabel('Predicted Class')\r\n",
        "    plt.ylabel('Original Class')\r\n",
        "    plt.title(\"Recall matrix\")\r\n",
        "    \r\n",
        "    plt.show()"
      ],
      "execution_count": 202,
      "outputs": []
    },
    {
      "cell_type": "code",
      "metadata": {
        "colab": {
          "base_uri": "https://localhost:8080/",
          "height": 589
        },
        "id": "h2owAxdKpjUB",
        "outputId": "fa39e34a-3f94-41ce-cd14-d9796aab5d01"
      },
      "source": [
        "print('Train confusion_matrix')\r\n",
        "plot_confusion_matrix(y_train,y_train_pred)\r\n",
        "print('Test confusion_matrix')\r\n",
        "plot_confusion_matrix(y_test,y_test_pred)"
      ],
      "execution_count": 203,
      "outputs": [
        {
          "output_type": "stream",
          "text": [
            "Train confusion_matrix\n"
          ],
          "name": "stdout"
        },
        {
          "output_type": "display_data",
          "data": {
            "image/png": "[encoded data removed]",
            "text/plain": [
              "<Figure size 1440x288 with 6 Axes>"
            ]
          },
          "metadata": {
            "tags": [],
            "needs_background": "light"
          }
        },
        {
          "output_type": "stream",
          "text": [
            "Test confusion_matrix\n"
          ],
          "name": "stdout"
        },
        {
          "output_type": "display_data",
          "data": {
            "image/png": "[encoded data removed]",
            "text/plain": [
              "<Figure size 1440x288 with 6 Axes>"
            ]
          },
          "metadata": {
            "tags": [],
            "needs_background": "light"
          }
        }
      ]
    },
    {
      "cell_type": "code",
      "metadata": {
        "colab": {
          "base_uri": "https://localhost:8080/",
          "height": 295
        },
        "id": "Wki14MQWplA4",
        "outputId": "de6f3113-b5fc-4d83-da63-7dc0703e7c3d"
      },
      "source": [
        "from sklearn.metrics import roc_curve, auc\r\n",
        "fpr,tpr,ths = roc_curve(y_test,y_test_pred)\r\n",
        "auc_sc = auc(fpr, tpr)\r\n",
        "plt.plot(fpr, tpr, color='navy',label='ROC curve (area = %0.2f)' % auc_sc)\r\n",
        "plt.xlabel('False Positive Rate')\r\n",
        "plt.ylabel('True Positive Rate')\r\n",
        "plt.title('Receiver operating characteristic with test data')\r\n",
        "plt.legend()\r\n",
        "plt.show()"
      ],
      "execution_count": 204,
      "outputs": [
        {
          "output_type": "display_data",
          "data": {
            "image/png": "[encoded data removed]",
            "text/plain": [
              "<Figure size 432x288 with 1 Axes>"
            ]
          },
          "metadata": {
            "tags": [],
            "needs_background": "light"
          }
        }
      ]
    },
    {
      "cell_type": "code",
      "metadata": {
        "colab": {
          "base_uri": "https://localhost:8080/",
          "height": 730
        },
        "id": "eqUO1Cb0py0q",
        "outputId": "fbaa310c-82da-4ebc-9c29-2963bf7cc892"
      },
      "source": [
        "features = df_train.columns\r\n",
        "importances = best_model.feature_importances_\r\n",
        "indices = (np.argsort(importances))[-25:]\r\n",
        "plt.figure(figsize=(10,12))\r\n",
        "plt.title('Feature Importances')\r\n",
        "plt.barh(range(len(indices)), importances[indices], color='r', align='center')\r\n",
        "plt.yticks(range(len(indices)), [features[i] for i in indices])\r\n",
        "plt.xlabel('Relative Importance')\r\n",
        "plt.show()"
      ],
      "execution_count": 207,
      "outputs": [
        {
          "output_type": "display_data",
          "data": {
            "image/png": "[encoded data removed]",
            "text/plain": [
              "<Figure size 720x864 with 1 Axes>"
            ]
          },
          "metadata": {
            "tags": [],
            "needs_background": "light"
          }
        }
      ]
    },
    {
      "cell_type": "code",
      "metadata": {
        "id": "gimcsr2Hp0dZ"
      },
      "source": [
        ""
      ],
      "execution_count": 206,
      "outputs": []
    },
    {
      "cell_type": "markdown",
      "metadata": {
        "id": "Xm09QA4wtDoK"
      },
      "source": [
        "# Conclusion"
      ]
    },
    {
      "cell_type": "markdown",
      "metadata": {
        "id": "IF_utK09veea"
      },
      "source": [
        "<h2> STEPS Followed in the Case study</h2>\r\n",
        "\r\n",
        "- Dataset Generation\r\n",
        "\r\n",
        "  - Reading the dataset which is in the form <src_id,dest_id> . Let the indicator for the read points be = 1 (indicates src is connected to des)\r\n",
        "  - Using the read dataset, create a Graph using the Nodes provided and each <src_id,dest_id> indicating an edge in the graph\r\n",
        "  - Generate random <src,dest> pairs for which shortestPath(src,dest) > 2 and combine it with originally read dataset.The value of indicator is 0 (indicatind src and dest are not connected)\r\n",
        "\r\n",
        "- Once dataset is generated, split it into Train Data (75%) and Test Data(25%)\r\n",
        "\r\n",
        "<br>\r\n",
        "\r\n",
        "<h2> Featurization Part : </h2>\r\n",
        "\r\n",
        "The following features are calcualted and added as features\r\n",
        " -Followers and Followees of src and dest\r\n",
        "  - Similarity Measures : Jaccards Coeficient, Otsuka-Ochia Coefficient\r\n",
        "  - Page Rank\r\n",
        "  - Whether Src and dest belong to same Weakly Connected Component\r\n",
        "  - Adar Index\r\n",
        "  - Katz Centrality\r\n",
        "  - HITS\r\n",
        "  - Use singular value decomposition to get U and V.T each of size (1,6) for src and dest\r\n",
        "  - Weight Features\r\n",
        "  - Preferential Attachment\r\n",
        "  - SVD Dot features\r\n",
        "\r\n",
        "<h2> Model Building </h2>\r\n",
        "\r\n",
        "- The algorithm used here was XGBoost algorithm. \r\n",
        "- Hyperparamter tuning was done using Grid Search CV and the best parameters were found to be \r\n",
        "- max_depth=8,n_estimators = 10\r\n",
        "\r\n",
        "<h2> Final Results : </h2>\r\n",
        "\r\n",
        "- Train f1 score 0.9718951457100442\r\n",
        "- Test f1 score 0.9333727660653175\r\n",
        "\r\n",
        "\r\n",
        "\r\n",
        "\r\n",
        "\r\n"
      ]
    },
    {
      "cell_type": "code",
      "metadata": {
        "id": "TaUkGvm1tFVD"
      },
      "source": [
        ""
      ],
      "execution_count": null,
      "outputs": []
    }
  ]
}