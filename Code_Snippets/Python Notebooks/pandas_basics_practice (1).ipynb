{
  "cells": [
    {
      "cell_type": "code",
      "execution_count": null,
      "metadata": {
        "id": "eBjxpUC-pslc"
      },
      "outputs": [],
      "source": [
        "import pandas as pd\n",
        "import numpy as np"
      ]
    },
    {
      "cell_type": "markdown",
      "metadata": {
        "id": "WFYuAxS2hcu6"
      },
      "source": [
        "**Consider the following Python dictionary data and Python list labels:**\n",
        "\n",
        "data = {'birds': ['Cranes', 'Cranes', 'plovers', 'spoonbills', 'spoonbills', 'Cranes', 'plovers', 'Cranes', 'spoonbills', 'spoonbills'],\n",
        "        'age': [3.5, 4, 1.5, np.nan, 6, 3, 5.5, np.nan, 8, 4],\n",
        "        'visits': [2, 4, 3, 4, 3, 4, 2, 2, 3, 2],\n",
        "        'priority': ['yes', 'yes', 'no', 'yes', 'no', 'no', 'no', 'yes', 'no', 'no']}\n",
        "\n",
        "labels = ['a', 'b', 'c', 'd', 'e', 'f', 'g', 'h', 'i', 'j']\n"
      ]
    },
    {
      "cell_type": "markdown",
      "metadata": {
        "id": "KaY8jRX3hcu9"
      },
      "source": [
        "**1. Create a DataFrame birds from this dictionary data which has the index labels.**"
      ]
    },
    {
      "cell_type": "code",
      "execution_count": null,
      "metadata": {
        "id": "AWrM74tnhcu_"
      },
      "outputs": [],
      "source": [
        "data = {'birds': ['Cranes', 'Cranes', 'plovers', 'spoonbills', 'spoonbills', 'Cranes', 'plovers', 'Cranes', 'spoonbills', 'spoonbills'], 'age': [3.5, 4, 1.5, np.nan, 6, 3, 5.5, np.nan, 8, 4], 'visits': [2, 4, 3, 4, 3, 4, 2, 2, 3, 2], 'priority': ['yes', 'yes', 'no', 'yes', 'no', 'no', 'no', 'yes', 'no', 'no']}\n",
        "labels = ['a', 'b', 'c', 'd', 'e', 'f', 'g', 'h', 'i', 'j']"
      ]
    },
    {
      "cell_type": "markdown",
      "metadata": {
        "id": "31bQ4H55hcvG"
      },
      "source": [
        "**2. Display a summary of the basic information about birds DataFrame and its data.**"
      ]
    },
    {
      "cell_type": "code",
      "execution_count": null,
      "metadata": {
        "id": "PT7e5BiThcvI"
      },
      "outputs": [],
      "source": [
        "df = pd.DataFrame(data=data,index=labels)"
      ]
    },
    {
      "cell_type": "markdown",
      "metadata": {
        "id": "ppsyynzjhcvN"
      },
      "source": [
        "**3. Print the first 2 rows of the birds dataframe **"
      ]
    },
    {
      "cell_type": "code",
      "execution_count": null,
      "metadata": {
        "id": "mJtG2ES9hcvQ",
        "outputId": "be712604-7a13-4b8e-869d-ce1a5e61894a"
      },
      "outputs": [
        {
          "data": {
            "text/html": [
              "<div>\n",
              "<style scoped>\n",
              "    .dataframe tbody tr th:only-of-type {\n",
              "        vertical-align: middle;\n",
              "    }\n",
              "\n",
              "    .dataframe tbody tr th {\n",
              "        vertical-align: top;\n",
              "    }\n",
              "\n",
              "    .dataframe thead th {\n",
              "        text-align: right;\n",
              "    }\n",
              "</style>\n",
              "<table border=\"1\" class=\"dataframe\">\n",
              "  <thead>\n",
              "    <tr style=\"text-align: right;\">\n",
              "      <th></th>\n",
              "      <th>birds</th>\n",
              "      <th>age</th>\n",
              "      <th>visits</th>\n",
              "      <th>priority</th>\n",
              "    </tr>\n",
              "  </thead>\n",
              "  <tbody>\n",
              "    <tr>\n",
              "      <th>a</th>\n",
              "      <td>Cranes</td>\n",
              "      <td>3.5</td>\n",
              "      <td>2</td>\n",
              "      <td>yes</td>\n",
              "    </tr>\n",
              "    <tr>\n",
              "      <th>b</th>\n",
              "      <td>Cranes</td>\n",
              "      <td>4.0</td>\n",
              "      <td>4</td>\n",
              "      <td>yes</td>\n",
              "    </tr>\n",
              "  </tbody>\n",
              "</table>\n",
              "</div>"
            ],
            "text/plain": [
              "    birds  age  visits priority\n",
              "a  Cranes  3.5       2      yes\n",
              "b  Cranes  4.0       4      yes"
            ]
          },
          "execution_count": 92,
          "metadata": {},
          "output_type": "execute_result"
        }
      ],
      "source": [
        "df.head(2)"
      ]
    },
    {
      "cell_type": "markdown",
      "metadata": {
        "id": "331CiAQDhcvW"
      },
      "source": [
        "**4. Print all the rows with only 'birds' and 'age' columns from the dataframe**"
      ]
    },
    {
      "cell_type": "code",
      "execution_count": null,
      "metadata": {
        "id": "eJm1icJhhcvY",
        "outputId": "77570802-4761-4109-80ef-b9d8c0b610c8"
      },
      "outputs": [
        {
          "data": {
            "text/html": [
              "<div>\n",
              "<style scoped>\n",
              "    .dataframe tbody tr th:only-of-type {\n",
              "        vertical-align: middle;\n",
              "    }\n",
              "\n",
              "    .dataframe tbody tr th {\n",
              "        vertical-align: top;\n",
              "    }\n",
              "\n",
              "    .dataframe thead th {\n",
              "        text-align: right;\n",
              "    }\n",
              "</style>\n",
              "<table border=\"1\" class=\"dataframe\">\n",
              "  <thead>\n",
              "    <tr style=\"text-align: right;\">\n",
              "      <th></th>\n",
              "      <th>birds</th>\n",
              "      <th>age</th>\n",
              "    </tr>\n",
              "  </thead>\n",
              "  <tbody>\n",
              "    <tr>\n",
              "      <th>a</th>\n",
              "      <td>Cranes</td>\n",
              "      <td>3.5</td>\n",
              "    </tr>\n",
              "    <tr>\n",
              "      <th>b</th>\n",
              "      <td>Cranes</td>\n",
              "      <td>4.0</td>\n",
              "    </tr>\n",
              "    <tr>\n",
              "      <th>c</th>\n",
              "      <td>plovers</td>\n",
              "      <td>1.5</td>\n",
              "    </tr>\n",
              "    <tr>\n",
              "      <th>d</th>\n",
              "      <td>spoonbills</td>\n",
              "      <td>NaN</td>\n",
              "    </tr>\n",
              "    <tr>\n",
              "      <th>e</th>\n",
              "      <td>spoonbills</td>\n",
              "      <td>6.0</td>\n",
              "    </tr>\n",
              "    <tr>\n",
              "      <th>f</th>\n",
              "      <td>Cranes</td>\n",
              "      <td>3.0</td>\n",
              "    </tr>\n",
              "    <tr>\n",
              "      <th>g</th>\n",
              "      <td>plovers</td>\n",
              "      <td>5.5</td>\n",
              "    </tr>\n",
              "    <tr>\n",
              "      <th>h</th>\n",
              "      <td>Cranes</td>\n",
              "      <td>NaN</td>\n",
              "    </tr>\n",
              "    <tr>\n",
              "      <th>i</th>\n",
              "      <td>spoonbills</td>\n",
              "      <td>8.0</td>\n",
              "    </tr>\n",
              "    <tr>\n",
              "      <th>j</th>\n",
              "      <td>spoonbills</td>\n",
              "      <td>4.0</td>\n",
              "    </tr>\n",
              "  </tbody>\n",
              "</table>\n",
              "</div>"
            ],
            "text/plain": [
              "        birds  age\n",
              "a      Cranes  3.5\n",
              "b      Cranes  4.0\n",
              "c     plovers  1.5\n",
              "d  spoonbills  NaN\n",
              "e  spoonbills  6.0\n",
              "f      Cranes  3.0\n",
              "g     plovers  5.5\n",
              "h      Cranes  NaN\n",
              "i  spoonbills  8.0\n",
              "j  spoonbills  4.0"
            ]
          },
          "execution_count": 93,
          "metadata": {},
          "output_type": "execute_result"
        }
      ],
      "source": [
        "df[[\"birds\",\"age\"]]"
      ]
    },
    {
      "cell_type": "markdown",
      "metadata": {
        "id": "33v_rzNyhcvf"
      },
      "source": [
        "**5. select [2, 3, 7] rows and in columns ['birds', 'age', 'visits']**"
      ]
    },
    {
      "cell_type": "code",
      "execution_count": null,
      "metadata": {
        "id": "ia5weqCOhcvh",
        "outputId": "037b6e60-ad67-4461-c080-c5e711ccb3c6"
      },
      "outputs": [
        {
          "data": {
            "text/html": [
              "<div>\n",
              "<style scoped>\n",
              "    .dataframe tbody tr th:only-of-type {\n",
              "        vertical-align: middle;\n",
              "    }\n",
              "\n",
              "    .dataframe tbody tr th {\n",
              "        vertical-align: top;\n",
              "    }\n",
              "\n",
              "    .dataframe thead th {\n",
              "        text-align: right;\n",
              "    }\n",
              "</style>\n",
              "<table border=\"1\" class=\"dataframe\">\n",
              "  <thead>\n",
              "    <tr style=\"text-align: right;\">\n",
              "      <th></th>\n",
              "      <th>birds</th>\n",
              "      <th>age</th>\n",
              "      <th>visits</th>\n",
              "    </tr>\n",
              "  </thead>\n",
              "  <tbody>\n",
              "    <tr>\n",
              "      <th>c</th>\n",
              "      <td>plovers</td>\n",
              "      <td>1.5</td>\n",
              "      <td>3</td>\n",
              "    </tr>\n",
              "    <tr>\n",
              "      <th>d</th>\n",
              "      <td>spoonbills</td>\n",
              "      <td>NaN</td>\n",
              "      <td>4</td>\n",
              "    </tr>\n",
              "    <tr>\n",
              "      <th>h</th>\n",
              "      <td>Cranes</td>\n",
              "      <td>NaN</td>\n",
              "      <td>2</td>\n",
              "    </tr>\n",
              "  </tbody>\n",
              "</table>\n",
              "</div>"
            ],
            "text/plain": [
              "        birds  age  visits\n",
              "c     plovers  1.5       3\n",
              "d  spoonbills  NaN       4\n",
              "h      Cranes  NaN       2"
            ]
          },
          "execution_count": 94,
          "metadata": {},
          "output_type": "execute_result"
        }
      ],
      "source": [
        "df.iloc[[2,3,7]][['birds', 'age', 'visits']]"
      ]
    },
    {
      "cell_type": "markdown",
      "metadata": {
        "id": "uulxo5y-hcvo"
      },
      "source": [
        "**6. select the rows where the number of visits is less than 4**"
      ]
    },
    {
      "cell_type": "code",
      "execution_count": null,
      "metadata": {
        "id": "6Khj7LfZhcvq",
        "outputId": "4fb75243-7de2-4001-9c24-e4778cd63802"
      },
      "outputs": [
        {
          "data": {
            "text/html": [
              "<div>\n",
              "<style scoped>\n",
              "    .dataframe tbody tr th:only-of-type {\n",
              "        vertical-align: middle;\n",
              "    }\n",
              "\n",
              "    .dataframe tbody tr th {\n",
              "        vertical-align: top;\n",
              "    }\n",
              "\n",
              "    .dataframe thead th {\n",
              "        text-align: right;\n",
              "    }\n",
              "</style>\n",
              "<table border=\"1\" class=\"dataframe\">\n",
              "  <thead>\n",
              "    <tr style=\"text-align: right;\">\n",
              "      <th></th>\n",
              "      <th>birds</th>\n",
              "      <th>age</th>\n",
              "      <th>visits</th>\n",
              "      <th>priority</th>\n",
              "    </tr>\n",
              "  </thead>\n",
              "  <tbody>\n",
              "    <tr>\n",
              "      <th>a</th>\n",
              "      <td>Cranes</td>\n",
              "      <td>3.5</td>\n",
              "      <td>2</td>\n",
              "      <td>yes</td>\n",
              "    </tr>\n",
              "    <tr>\n",
              "      <th>c</th>\n",
              "      <td>plovers</td>\n",
              "      <td>1.5</td>\n",
              "      <td>3</td>\n",
              "      <td>no</td>\n",
              "    </tr>\n",
              "    <tr>\n",
              "      <th>e</th>\n",
              "      <td>spoonbills</td>\n",
              "      <td>6.0</td>\n",
              "      <td>3</td>\n",
              "      <td>no</td>\n",
              "    </tr>\n",
              "    <tr>\n",
              "      <th>g</th>\n",
              "      <td>plovers</td>\n",
              "      <td>5.5</td>\n",
              "      <td>2</td>\n",
              "      <td>no</td>\n",
              "    </tr>\n",
              "    <tr>\n",
              "      <th>h</th>\n",
              "      <td>Cranes</td>\n",
              "      <td>NaN</td>\n",
              "      <td>2</td>\n",
              "      <td>yes</td>\n",
              "    </tr>\n",
              "    <tr>\n",
              "      <th>i</th>\n",
              "      <td>spoonbills</td>\n",
              "      <td>8.0</td>\n",
              "      <td>3</td>\n",
              "      <td>no</td>\n",
              "    </tr>\n",
              "    <tr>\n",
              "      <th>j</th>\n",
              "      <td>spoonbills</td>\n",
              "      <td>4.0</td>\n",
              "      <td>2</td>\n",
              "      <td>no</td>\n",
              "    </tr>\n",
              "  </tbody>\n",
              "</table>\n",
              "</div>"
            ],
            "text/plain": [
              "        birds  age  visits priority\n",
              "a      Cranes  3.5       2      yes\n",
              "c     plovers  1.5       3       no\n",
              "e  spoonbills  6.0       3       no\n",
              "g     plovers  5.5       2       no\n",
              "h      Cranes  NaN       2      yes\n",
              "i  spoonbills  8.0       3       no\n",
              "j  spoonbills  4.0       2       no"
            ]
          },
          "execution_count": 95,
          "metadata": {},
          "output_type": "execute_result"
        }
      ],
      "source": [
        "df[df[\"visits\"]<4]"
      ]
    },
    {
      "cell_type": "markdown",
      "metadata": {
        "id": "sB8icEBVhcvy"
      },
      "source": [
        "**7. select the rows with columns ['birds', 'visits'] where the age is missing i.e NaN**"
      ]
    },
    {
      "cell_type": "code",
      "execution_count": null,
      "metadata": {
        "id": "dHoZ2z2ghcv2",
        "outputId": "8c1f89cc-b786-4eb4-eaae-71a37b615821"
      },
      "outputs": [
        {
          "data": {
            "text/html": [
              "<div>\n",
              "<style scoped>\n",
              "    .dataframe tbody tr th:only-of-type {\n",
              "        vertical-align: middle;\n",
              "    }\n",
              "\n",
              "    .dataframe tbody tr th {\n",
              "        vertical-align: top;\n",
              "    }\n",
              "\n",
              "    .dataframe thead th {\n",
              "        text-align: right;\n",
              "    }\n",
              "</style>\n",
              "<table border=\"1\" class=\"dataframe\">\n",
              "  <thead>\n",
              "    <tr style=\"text-align: right;\">\n",
              "      <th></th>\n",
              "      <th>birds</th>\n",
              "      <th>visits</th>\n",
              "    </tr>\n",
              "  </thead>\n",
              "  <tbody>\n",
              "    <tr>\n",
              "      <th>d</th>\n",
              "      <td>spoonbills</td>\n",
              "      <td>4</td>\n",
              "    </tr>\n",
              "    <tr>\n",
              "      <th>h</th>\n",
              "      <td>Cranes</td>\n",
              "      <td>2</td>\n",
              "    </tr>\n",
              "  </tbody>\n",
              "</table>\n",
              "</div>"
            ],
            "text/plain": [
              "        birds  visits\n",
              "d  spoonbills       4\n",
              "h      Cranes       2"
            ]
          },
          "execution_count": 96,
          "metadata": {},
          "output_type": "execute_result"
        }
      ],
      "source": [
        "df[df[\"age\"].isna()][['birds', 'visits']]"
      ]
    },
    {
      "cell_type": "markdown",
      "metadata": {
        "id": "sgiIkh1Ghcv-"
      },
      "source": [
        "**8. Select the rows where the birds is a Cranes and the age is less than 4**"
      ]
    },
    {
      "cell_type": "code",
      "execution_count": null,
      "metadata": {
        "id": "4of7A8gehcwC",
        "outputId": "b7cf2a45-1e14-47dc-d8ac-a4fdb3072568"
      },
      "outputs": [
        {
          "data": {
            "text/html": [
              "<div>\n",
              "<style scoped>\n",
              "    .dataframe tbody tr th:only-of-type {\n",
              "        vertical-align: middle;\n",
              "    }\n",
              "\n",
              "    .dataframe tbody tr th {\n",
              "        vertical-align: top;\n",
              "    }\n",
              "\n",
              "    .dataframe thead th {\n",
              "        text-align: right;\n",
              "    }\n",
              "</style>\n",
              "<table border=\"1\" class=\"dataframe\">\n",
              "  <thead>\n",
              "    <tr style=\"text-align: right;\">\n",
              "      <th></th>\n",
              "      <th>birds</th>\n",
              "      <th>age</th>\n",
              "      <th>visits</th>\n",
              "      <th>priority</th>\n",
              "    </tr>\n",
              "  </thead>\n",
              "  <tbody>\n",
              "    <tr>\n",
              "      <th>a</th>\n",
              "      <td>Cranes</td>\n",
              "      <td>3.5</td>\n",
              "      <td>2</td>\n",
              "      <td>yes</td>\n",
              "    </tr>\n",
              "    <tr>\n",
              "      <th>f</th>\n",
              "      <td>Cranes</td>\n",
              "      <td>3.0</td>\n",
              "      <td>4</td>\n",
              "      <td>no</td>\n",
              "    </tr>\n",
              "  </tbody>\n",
              "</table>\n",
              "</div>"
            ],
            "text/plain": [
              "    birds  age  visits priority\n",
              "a  Cranes  3.5       2      yes\n",
              "f  Cranes  3.0       4       no"
            ]
          },
          "execution_count": 97,
          "metadata": {},
          "output_type": "execute_result"
        }
      ],
      "source": [
        "df[(df[\"birds\"]=='Cranes') & (df[\"age\"]<4)]"
      ]
    },
    {
      "cell_type": "markdown",
      "metadata": {
        "id": "IZrFrd1AhcwH"
      },
      "source": [
        "**9. Select the rows the age is between 2 and 4(inclusive)**"
      ]
    },
    {
      "cell_type": "code",
      "execution_count": null,
      "metadata": {
        "id": "Ij6co9oJhcwT",
        "outputId": "1133dc56-f1e5-49e3-cfd3-2cfeb925e4db"
      },
      "outputs": [
        {
          "data": {
            "text/html": [
              "<div>\n",
              "<style scoped>\n",
              "    .dataframe tbody tr th:only-of-type {\n",
              "        vertical-align: middle;\n",
              "    }\n",
              "\n",
              "    .dataframe tbody tr th {\n",
              "        vertical-align: top;\n",
              "    }\n",
              "\n",
              "    .dataframe thead th {\n",
              "        text-align: right;\n",
              "    }\n",
              "</style>\n",
              "<table border=\"1\" class=\"dataframe\">\n",
              "  <thead>\n",
              "    <tr style=\"text-align: right;\">\n",
              "      <th></th>\n",
              "      <th>birds</th>\n",
              "      <th>age</th>\n",
              "      <th>visits</th>\n",
              "      <th>priority</th>\n",
              "    </tr>\n",
              "  </thead>\n",
              "  <tbody>\n",
              "    <tr>\n",
              "      <th>a</th>\n",
              "      <td>Cranes</td>\n",
              "      <td>3.5</td>\n",
              "      <td>2</td>\n",
              "      <td>yes</td>\n",
              "    </tr>\n",
              "    <tr>\n",
              "      <th>b</th>\n",
              "      <td>Cranes</td>\n",
              "      <td>4.0</td>\n",
              "      <td>4</td>\n",
              "      <td>yes</td>\n",
              "    </tr>\n",
              "    <tr>\n",
              "      <th>f</th>\n",
              "      <td>Cranes</td>\n",
              "      <td>3.0</td>\n",
              "      <td>4</td>\n",
              "      <td>no</td>\n",
              "    </tr>\n",
              "    <tr>\n",
              "      <th>j</th>\n",
              "      <td>spoonbills</td>\n",
              "      <td>4.0</td>\n",
              "      <td>2</td>\n",
              "      <td>no</td>\n",
              "    </tr>\n",
              "  </tbody>\n",
              "</table>\n",
              "</div>"
            ],
            "text/plain": [
              "        birds  age  visits priority\n",
              "a      Cranes  3.5       2      yes\n",
              "b      Cranes  4.0       4      yes\n",
              "f      Cranes  3.0       4       no\n",
              "j  spoonbills  4.0       2       no"
            ]
          },
          "execution_count": 98,
          "metadata": {},
          "output_type": "execute_result"
        }
      ],
      "source": [
        "df[df[\"age\"].between(2, 4, inclusive=True)]"
      ]
    },
    {
      "cell_type": "markdown",
      "metadata": {
        "id": "KvV1eyyehcwX"
      },
      "source": [
        "**10. Find the total number of visits of the bird Cranes**"
      ]
    },
    {
      "cell_type": "code",
      "execution_count": null,
      "metadata": {
        "id": "y5NyL569hcwY",
        "outputId": "b74e96b9-2662-4275-a9df-c1ab38f8d95f"
      },
      "outputs": [
        {
          "data": {
            "text/plain": [
              "12"
            ]
          },
          "execution_count": 99,
          "metadata": {},
          "output_type": "execute_result"
        }
      ],
      "source": [
        "df[df[\"birds\"]==\"Cranes\"][\"visits\"].sum()"
      ]
    },
    {
      "cell_type": "markdown",
      "metadata": {
        "id": "S-1B7oDehcwf"
      },
      "source": [
        "**11. Calculate the mean age for each different birds in dataframe.**"
      ]
    },
    {
      "cell_type": "code",
      "execution_count": null,
      "metadata": {
        "id": "ljKjf7nyhcwg",
        "outputId": "18bab24d-1d01-4463-f092-8530ba8e6c64"
      },
      "outputs": [
        {
          "data": {
            "text/plain": [
              "birds\n",
              "Cranes        3.5\n",
              "plovers       3.5\n",
              "spoonbills    6.0\n",
              "Name: age, dtype: float64"
            ]
          },
          "execution_count": 100,
          "metadata": {},
          "output_type": "execute_result"
        }
      ],
      "source": [
        "df.groupby(by = \"birds\")[\"age\"].mean()"
      ]
    },
    {
      "cell_type": "markdown",
      "metadata": {
        "id": "B5HIznnMhcwl"
      },
      "source": [
        "**12. Append a new row 'k' to dataframe with your choice of values for each column. Then delete that row to return the original DataFrame.**"
      ]
    },
    {
      "cell_type": "code",
      "execution_count": null,
      "metadata": {
        "id": "GDDd9mXEhcwm",
        "outputId": "14e86024-7993-40c3-cbca-97b99c4be16a"
      },
      "outputs": [
        {
          "data": {
            "text/html": [
              "<div>\n",
              "<style scoped>\n",
              "    .dataframe tbody tr th:only-of-type {\n",
              "        vertical-align: middle;\n",
              "    }\n",
              "\n",
              "    .dataframe tbody tr th {\n",
              "        vertical-align: top;\n",
              "    }\n",
              "\n",
              "    .dataframe thead th {\n",
              "        text-align: right;\n",
              "    }\n",
              "</style>\n",
              "<table border=\"1\" class=\"dataframe\">\n",
              "  <thead>\n",
              "    <tr style=\"text-align: right;\">\n",
              "      <th></th>\n",
              "      <th>birds</th>\n",
              "      <th>age</th>\n",
              "      <th>visits</th>\n",
              "      <th>priority</th>\n",
              "    </tr>\n",
              "  </thead>\n",
              "  <tbody>\n",
              "    <tr>\n",
              "      <th>a</th>\n",
              "      <td>Cranes</td>\n",
              "      <td>3.5</td>\n",
              "      <td>2</td>\n",
              "      <td>yes</td>\n",
              "    </tr>\n",
              "    <tr>\n",
              "      <th>b</th>\n",
              "      <td>Cranes</td>\n",
              "      <td>4.0</td>\n",
              "      <td>4</td>\n",
              "      <td>yes</td>\n",
              "    </tr>\n",
              "    <tr>\n",
              "      <th>c</th>\n",
              "      <td>plovers</td>\n",
              "      <td>1.5</td>\n",
              "      <td>3</td>\n",
              "      <td>no</td>\n",
              "    </tr>\n",
              "    <tr>\n",
              "      <th>d</th>\n",
              "      <td>spoonbills</td>\n",
              "      <td>NaN</td>\n",
              "      <td>4</td>\n",
              "      <td>yes</td>\n",
              "    </tr>\n",
              "    <tr>\n",
              "      <th>e</th>\n",
              "      <td>spoonbills</td>\n",
              "      <td>6.0</td>\n",
              "      <td>3</td>\n",
              "      <td>no</td>\n",
              "    </tr>\n",
              "    <tr>\n",
              "      <th>f</th>\n",
              "      <td>Cranes</td>\n",
              "      <td>3.0</td>\n",
              "      <td>4</td>\n",
              "      <td>no</td>\n",
              "    </tr>\n",
              "    <tr>\n",
              "      <th>g</th>\n",
              "      <td>plovers</td>\n",
              "      <td>5.5</td>\n",
              "      <td>2</td>\n",
              "      <td>no</td>\n",
              "    </tr>\n",
              "    <tr>\n",
              "      <th>h</th>\n",
              "      <td>Cranes</td>\n",
              "      <td>NaN</td>\n",
              "      <td>2</td>\n",
              "      <td>yes</td>\n",
              "    </tr>\n",
              "    <tr>\n",
              "      <th>i</th>\n",
              "      <td>spoonbills</td>\n",
              "      <td>8.0</td>\n",
              "      <td>3</td>\n",
              "      <td>no</td>\n",
              "    </tr>\n",
              "    <tr>\n",
              "      <th>j</th>\n",
              "      <td>spoonbills</td>\n",
              "      <td>4.0</td>\n",
              "      <td>2</td>\n",
              "      <td>no</td>\n",
              "    </tr>\n",
              "    <tr>\n",
              "      <th>k</th>\n",
              "      <td>Cranes</td>\n",
              "      <td>2.0</td>\n",
              "      <td>5</td>\n",
              "      <td>no</td>\n",
              "    </tr>\n",
              "  </tbody>\n",
              "</table>\n",
              "</div>"
            ],
            "text/plain": [
              "        birds  age  visits priority\n",
              "a      Cranes  3.5       2      yes\n",
              "b      Cranes  4.0       4      yes\n",
              "c     plovers  1.5       3       no\n",
              "d  spoonbills  NaN       4      yes\n",
              "e  spoonbills  6.0       3       no\n",
              "f      Cranes  3.0       4       no\n",
              "g     plovers  5.5       2       no\n",
              "h      Cranes  NaN       2      yes\n",
              "i  spoonbills  8.0       3       no\n",
              "j  spoonbills  4.0       2       no\n",
              "k      Cranes  2.0       5       no"
            ]
          },
          "execution_count": 101,
          "metadata": {},
          "output_type": "execute_result"
        }
      ],
      "source": [
        "df_row = pd.DataFrame({\"birds\":\"Cranes\", \"age\":2, \"visits\":5, \"priority\":\"no\"},index=[\"k\"])\n",
        "df_new = pd.concat([df1, df_row],axis=0)\n",
        "df_new"
      ]
    },
    {
      "cell_type": "code",
      "execution_count": null,
      "metadata": {
        "id": "ZNrg_7pspslo",
        "outputId": "0d29d6eb-5c9a-4e03-8b4d-4c5811140bd6"
      },
      "outputs": [
        {
          "data": {
            "text/html": [
              "<div>\n",
              "<style scoped>\n",
              "    .dataframe tbody tr th:only-of-type {\n",
              "        vertical-align: middle;\n",
              "    }\n",
              "\n",
              "    .dataframe tbody tr th {\n",
              "        vertical-align: top;\n",
              "    }\n",
              "\n",
              "    .dataframe thead th {\n",
              "        text-align: right;\n",
              "    }\n",
              "</style>\n",
              "<table border=\"1\" class=\"dataframe\">\n",
              "  <thead>\n",
              "    <tr style=\"text-align: right;\">\n",
              "      <th></th>\n",
              "      <th>birds</th>\n",
              "      <th>age</th>\n",
              "      <th>visits</th>\n",
              "      <th>priority</th>\n",
              "    </tr>\n",
              "  </thead>\n",
              "  <tbody>\n",
              "    <tr>\n",
              "      <th>a</th>\n",
              "      <td>Cranes</td>\n",
              "      <td>3.5</td>\n",
              "      <td>2</td>\n",
              "      <td>yes</td>\n",
              "    </tr>\n",
              "    <tr>\n",
              "      <th>b</th>\n",
              "      <td>Cranes</td>\n",
              "      <td>4.0</td>\n",
              "      <td>4</td>\n",
              "      <td>yes</td>\n",
              "    </tr>\n",
              "    <tr>\n",
              "      <th>c</th>\n",
              "      <td>plovers</td>\n",
              "      <td>1.5</td>\n",
              "      <td>3</td>\n",
              "      <td>no</td>\n",
              "    </tr>\n",
              "    <tr>\n",
              "      <th>d</th>\n",
              "      <td>spoonbills</td>\n",
              "      <td>NaN</td>\n",
              "      <td>4</td>\n",
              "      <td>yes</td>\n",
              "    </tr>\n",
              "    <tr>\n",
              "      <th>e</th>\n",
              "      <td>spoonbills</td>\n",
              "      <td>6.0</td>\n",
              "      <td>3</td>\n",
              "      <td>no</td>\n",
              "    </tr>\n",
              "    <tr>\n",
              "      <th>f</th>\n",
              "      <td>Cranes</td>\n",
              "      <td>3.0</td>\n",
              "      <td>4</td>\n",
              "      <td>no</td>\n",
              "    </tr>\n",
              "    <tr>\n",
              "      <th>g</th>\n",
              "      <td>plovers</td>\n",
              "      <td>5.5</td>\n",
              "      <td>2</td>\n",
              "      <td>no</td>\n",
              "    </tr>\n",
              "    <tr>\n",
              "      <th>h</th>\n",
              "      <td>Cranes</td>\n",
              "      <td>NaN</td>\n",
              "      <td>2</td>\n",
              "      <td>yes</td>\n",
              "    </tr>\n",
              "    <tr>\n",
              "      <th>i</th>\n",
              "      <td>spoonbills</td>\n",
              "      <td>8.0</td>\n",
              "      <td>3</td>\n",
              "      <td>no</td>\n",
              "    </tr>\n",
              "    <tr>\n",
              "      <th>j</th>\n",
              "      <td>spoonbills</td>\n",
              "      <td>4.0</td>\n",
              "      <td>2</td>\n",
              "      <td>no</td>\n",
              "    </tr>\n",
              "  </tbody>\n",
              "</table>\n",
              "</div>"
            ],
            "text/plain": [
              "        birds  age  visits priority\n",
              "a      Cranes  3.5       2      yes\n",
              "b      Cranes  4.0       4      yes\n",
              "c     plovers  1.5       3       no\n",
              "d  spoonbills  NaN       4      yes\n",
              "e  spoonbills  6.0       3       no\n",
              "f      Cranes  3.0       4       no\n",
              "g     plovers  5.5       2       no\n",
              "h      Cranes  NaN       2      yes\n",
              "i  spoonbills  8.0       3       no\n",
              "j  spoonbills  4.0       2       no"
            ]
          },
          "execution_count": 102,
          "metadata": {},
          "output_type": "execute_result"
        }
      ],
      "source": [
        "df_new.drop(index='k')"
      ]
    },
    {
      "cell_type": "markdown",
      "metadata": {
        "id": "_cLx6xLahcwq"
      },
      "source": [
        "**13. Find the number of each type of birds in dataframe (Counts)**"
      ]
    },
    {
      "cell_type": "code",
      "execution_count": null,
      "metadata": {
        "id": "aTHV8JJMhcws",
        "outputId": "7f589902-ad59-49c2-d749-486c5bda2ac6"
      },
      "outputs": [
        {
          "data": {
            "text/plain": [
              "spoonbills    4\n",
              "Cranes        4\n",
              "plovers       2\n",
              "Name: birds, dtype: int64"
            ]
          },
          "execution_count": 103,
          "metadata": {},
          "output_type": "execute_result"
        }
      ],
      "source": [
        "df[\"birds\"].value_counts()"
      ]
    },
    {
      "cell_type": "markdown",
      "metadata": {
        "id": "-SJ6OYuYhcww"
      },
      "source": [
        "**14. Sort dataframe (birds) first by the values in the 'age' in decending order, then by the value in the 'visits' column in ascending order.**"
      ]
    },
    {
      "cell_type": "code",
      "execution_count": null,
      "metadata": {
        "id": "1oeqEqBjhcwy",
        "outputId": "c1de7d9b-f5b2-46bb-99a8-655d9b7bcef5"
      },
      "outputs": [
        {
          "data": {
            "text/html": [
              "<div>\n",
              "<style scoped>\n",
              "    .dataframe tbody tr th:only-of-type {\n",
              "        vertical-align: middle;\n",
              "    }\n",
              "\n",
              "    .dataframe tbody tr th {\n",
              "        vertical-align: top;\n",
              "    }\n",
              "\n",
              "    .dataframe thead th {\n",
              "        text-align: right;\n",
              "    }\n",
              "</style>\n",
              "<table border=\"1\" class=\"dataframe\">\n",
              "  <thead>\n",
              "    <tr style=\"text-align: right;\">\n",
              "      <th></th>\n",
              "      <th>birds</th>\n",
              "      <th>age</th>\n",
              "      <th>visits</th>\n",
              "      <th>priority</th>\n",
              "    </tr>\n",
              "  </thead>\n",
              "  <tbody>\n",
              "    <tr>\n",
              "      <th>i</th>\n",
              "      <td>spoonbills</td>\n",
              "      <td>8.0</td>\n",
              "      <td>3</td>\n",
              "      <td>no</td>\n",
              "    </tr>\n",
              "    <tr>\n",
              "      <th>e</th>\n",
              "      <td>spoonbills</td>\n",
              "      <td>6.0</td>\n",
              "      <td>3</td>\n",
              "      <td>no</td>\n",
              "    </tr>\n",
              "    <tr>\n",
              "      <th>g</th>\n",
              "      <td>plovers</td>\n",
              "      <td>5.5</td>\n",
              "      <td>2</td>\n",
              "      <td>no</td>\n",
              "    </tr>\n",
              "    <tr>\n",
              "      <th>j</th>\n",
              "      <td>spoonbills</td>\n",
              "      <td>4.0</td>\n",
              "      <td>2</td>\n",
              "      <td>no</td>\n",
              "    </tr>\n",
              "    <tr>\n",
              "      <th>b</th>\n",
              "      <td>Cranes</td>\n",
              "      <td>4.0</td>\n",
              "      <td>4</td>\n",
              "      <td>yes</td>\n",
              "    </tr>\n",
              "    <tr>\n",
              "      <th>a</th>\n",
              "      <td>Cranes</td>\n",
              "      <td>3.5</td>\n",
              "      <td>2</td>\n",
              "      <td>yes</td>\n",
              "    </tr>\n",
              "    <tr>\n",
              "      <th>f</th>\n",
              "      <td>Cranes</td>\n",
              "      <td>3.0</td>\n",
              "      <td>4</td>\n",
              "      <td>no</td>\n",
              "    </tr>\n",
              "    <tr>\n",
              "      <th>c</th>\n",
              "      <td>plovers</td>\n",
              "      <td>1.5</td>\n",
              "      <td>3</td>\n",
              "      <td>no</td>\n",
              "    </tr>\n",
              "    <tr>\n",
              "      <th>h</th>\n",
              "      <td>Cranes</td>\n",
              "      <td>NaN</td>\n",
              "      <td>2</td>\n",
              "      <td>yes</td>\n",
              "    </tr>\n",
              "    <tr>\n",
              "      <th>d</th>\n",
              "      <td>spoonbills</td>\n",
              "      <td>NaN</td>\n",
              "      <td>4</td>\n",
              "      <td>yes</td>\n",
              "    </tr>\n",
              "  </tbody>\n",
              "</table>\n",
              "</div>"
            ],
            "text/plain": [
              "        birds  age  visits priority\n",
              "i  spoonbills  8.0       3       no\n",
              "e  spoonbills  6.0       3       no\n",
              "g     plovers  5.5       2       no\n",
              "j  spoonbills  4.0       2       no\n",
              "b      Cranes  4.0       4      yes\n",
              "a      Cranes  3.5       2      yes\n",
              "f      Cranes  3.0       4       no\n",
              "c     plovers  1.5       3       no\n",
              "h      Cranes  NaN       2      yes\n",
              "d  spoonbills  NaN       4      yes"
            ]
          },
          "execution_count": 104,
          "metadata": {},
          "output_type": "execute_result"
        }
      ],
      "source": [
        "df.sort_values(by=['age', 'visits'], ascending=[False, True])"
      ]
    },
    {
      "cell_type": "code",
      "execution_count": null,
      "metadata": {
        "id": "AAysprIwpslp",
        "outputId": "41773f8e-056e-444f-e3e1-8fc76e5ab2d2"
      },
      "outputs": [
        {
          "data": {
            "text/plain": [
              "i    spoonbills\n",
              "e    spoonbills\n",
              "g       plovers\n",
              "j    spoonbills\n",
              "b        Cranes\n",
              "a        Cranes\n",
              "f        Cranes\n",
              "c       plovers\n",
              "h        Cranes\n",
              "d    spoonbills\n",
              "Name: birds, dtype: object"
            ]
          },
          "execution_count": 105,
          "metadata": {},
          "output_type": "execute_result"
        }
      ],
      "source": [
        "df.sort_values(by=['age', 'visits'], ascending=[False, True])[\"birds\"]"
      ]
    },
    {
      "cell_type": "markdown",
      "metadata": {
        "id": "JaKj7ZQUhcw7"
      },
      "source": [
        "**15. Replace the priority column values with'yes' should be 1 and 'no' should be 0**"
      ]
    },
    {
      "cell_type": "code",
      "execution_count": null,
      "metadata": {
        "id": "AJAPYiIHhcw9",
        "outputId": "b39176cf-edce-4bdd-e2df-da2834b2dca2"
      },
      "outputs": [
        {
          "data": {
            "text/html": [
              "<div>\n",
              "<style scoped>\n",
              "    .dataframe tbody tr th:only-of-type {\n",
              "        vertical-align: middle;\n",
              "    }\n",
              "\n",
              "    .dataframe tbody tr th {\n",
              "        vertical-align: top;\n",
              "    }\n",
              "\n",
              "    .dataframe thead th {\n",
              "        text-align: right;\n",
              "    }\n",
              "</style>\n",
              "<table border=\"1\" class=\"dataframe\">\n",
              "  <thead>\n",
              "    <tr style=\"text-align: right;\">\n",
              "      <th></th>\n",
              "      <th>birds</th>\n",
              "      <th>age</th>\n",
              "      <th>visits</th>\n",
              "      <th>priority</th>\n",
              "    </tr>\n",
              "  </thead>\n",
              "  <tbody>\n",
              "    <tr>\n",
              "      <th>a</th>\n",
              "      <td>Cranes</td>\n",
              "      <td>3.5</td>\n",
              "      <td>2</td>\n",
              "      <td>1</td>\n",
              "    </tr>\n",
              "    <tr>\n",
              "      <th>b</th>\n",
              "      <td>Cranes</td>\n",
              "      <td>4.0</td>\n",
              "      <td>4</td>\n",
              "      <td>1</td>\n",
              "    </tr>\n",
              "    <tr>\n",
              "      <th>c</th>\n",
              "      <td>plovers</td>\n",
              "      <td>1.5</td>\n",
              "      <td>3</td>\n",
              "      <td>0</td>\n",
              "    </tr>\n",
              "    <tr>\n",
              "      <th>d</th>\n",
              "      <td>spoonbills</td>\n",
              "      <td>NaN</td>\n",
              "      <td>4</td>\n",
              "      <td>1</td>\n",
              "    </tr>\n",
              "    <tr>\n",
              "      <th>e</th>\n",
              "      <td>spoonbills</td>\n",
              "      <td>6.0</td>\n",
              "      <td>3</td>\n",
              "      <td>0</td>\n",
              "    </tr>\n",
              "    <tr>\n",
              "      <th>f</th>\n",
              "      <td>Cranes</td>\n",
              "      <td>3.0</td>\n",
              "      <td>4</td>\n",
              "      <td>0</td>\n",
              "    </tr>\n",
              "    <tr>\n",
              "      <th>g</th>\n",
              "      <td>plovers</td>\n",
              "      <td>5.5</td>\n",
              "      <td>2</td>\n",
              "      <td>0</td>\n",
              "    </tr>\n",
              "    <tr>\n",
              "      <th>h</th>\n",
              "      <td>Cranes</td>\n",
              "      <td>NaN</td>\n",
              "      <td>2</td>\n",
              "      <td>1</td>\n",
              "    </tr>\n",
              "    <tr>\n",
              "      <th>i</th>\n",
              "      <td>spoonbills</td>\n",
              "      <td>8.0</td>\n",
              "      <td>3</td>\n",
              "      <td>0</td>\n",
              "    </tr>\n",
              "    <tr>\n",
              "      <th>j</th>\n",
              "      <td>spoonbills</td>\n",
              "      <td>4.0</td>\n",
              "      <td>2</td>\n",
              "      <td>0</td>\n",
              "    </tr>\n",
              "  </tbody>\n",
              "</table>\n",
              "</div>"
            ],
            "text/plain": [
              "        birds  age  visits  priority\n",
              "a      Cranes  3.5       2         1\n",
              "b      Cranes  4.0       4         1\n",
              "c     plovers  1.5       3         0\n",
              "d  spoonbills  NaN       4         1\n",
              "e  spoonbills  6.0       3         0\n",
              "f      Cranes  3.0       4         0\n",
              "g     plovers  5.5       2         0\n",
              "h      Cranes  NaN       2         1\n",
              "i  spoonbills  8.0       3         0\n",
              "j  spoonbills  4.0       2         0"
            ]
          },
          "execution_count": 106,
          "metadata": {},
          "output_type": "execute_result"
        }
      ],
      "source": [
        "df[\"priority\"] = np.where(df[\"priority\"] == 'yes',1,0)\n",
        "df"
      ]
    },
    {
      "cell_type": "markdown",
      "metadata": {
        "id": "E2EFmujbhcxA"
      },
      "source": [
        "**16. In the 'birds' column, change the 'Cranes' entries to 'trumpeters'.**"
      ]
    },
    {
      "cell_type": "code",
      "execution_count": null,
      "metadata": {
        "id": "Bi29Cc6lhcxC",
        "outputId": "2d769698-19af-43d6-be65-09a11c0b12fe"
      },
      "outputs": [
        {
          "data": {
            "text/plain": [
              "a    trumpeters\n",
              "b    trumpeters\n",
              "c       plovers\n",
              "d    spoonbills\n",
              "e    spoonbills\n",
              "f    trumpeters\n",
              "g       plovers\n",
              "h    trumpeters\n",
              "i    spoonbills\n",
              "j    spoonbills\n",
              "Name: birds, dtype: object"
            ]
          },
          "execution_count": 108,
          "metadata": {},
          "output_type": "execute_result"
        }
      ],
      "source": [
        "df [\"birds\"] = df[\"birds\"].apply(lambda x:\"trumpeters\" if x==\"Cranes\" else x)\n",
        "df[\"birds\"]"
      ]
    }
  ],
  "metadata": {
    "colab": {
      "provenance": []
    },
    "kernelspec": {
      "display_name": "Python 3",
      "language": "python",
      "name": "python3"
    },
    "language_info": {
      "codemirror_mode": {
        "name": "ipython",
        "version": 3
      },
      "file_extension": ".py",
      "mimetype": "text/x-python",
      "name": "python",
      "nbconvert_exporter": "python",
      "pygments_lexer": "ipython3",
      "version": "3.8.5"
    }
  },
  "nbformat": 4,
  "nbformat_minor": 0
}