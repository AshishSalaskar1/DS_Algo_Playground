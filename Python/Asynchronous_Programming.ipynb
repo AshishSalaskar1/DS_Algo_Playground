{
 "cells": [
  {
   "cell_type": "code",
   "execution_count": null,
   "metadata": {},
   "outputs": [],
   "source": [
    "import asyncio\n",
    "import time"
   ]
  },
  {
   "cell_type": "markdown",
   "metadata": {},
   "source": [
    "### Where to use it?\n",
    "1. Multiprocessing: CPU intensive work - Memory sharing is hard\n",
    "2. Multithreading: Thread based workloads having common shared memory\n",
    "3. Async IO: You need to wait a lot in between for operations like API call, file reads"
   ]
  },
  {
   "cell_type": "markdown",
   "metadata": {},
   "source": [
    "###  Coroutines"
   ]
  },
  {
   "cell_type": "markdown",
   "metadata": {},
   "source": [
    "- You can `asyncio.run()` in Jupyter notebooks\n",
    "\n",
    "- Calling async functions return a `coroutine` object, this can then be awaited or passed to `asyncio.\n",
    "- Also, these coroutines when manually awaited or run, dont run parallely ( totally the code here takes 4 seconds, it should have taken only 2 if run paralelyl)"
   ]
  },
  {
   "cell_type": "code",
   "execution_count": null,
   "metadata": {},
   "outputs": [],
   "source": [
    "async def do_some_task(id, delay):\n",
    "    print(f\"Performing task {id} with delay of {delay} after this...\")\n",
    "    asyncio.sleep()\n",
    "    print(f\"Performed task {id} after delay of {delay}\")\n",
    "    return {\"data\": id}"
   ]
  },
  {
   "cell_type": "code",
   "execution_count": null,
   "metadata": {},
   "outputs": [],
   "source": [
    "async def main():\n",
    "    start_time = time.time()\n",
    "\n",
    "    task1 = do_some_task(1, 2) # 2 seconds delay\n",
    "    task2 = do_some_task(2, 2) # 2 seconds delay\n",
    "\n",
    "    res1 = await task1\n",
    "    print(res1)\n",
    "\n",
    "    res2 = await task2\n",
    "    print(res2)\n",
    "\n",
    "    print(f\"Total time taken: {time.time()-start_time}\")\n"
   ]
  },
  {
   "cell_type": "code",
   "execution_count": null,
   "metadata": {},
   "outputs": [],
   "source": [
    "asyncio.run(main())\n",
    "\n",
    "\"\"\"\n",
    "Performing task 1 with delay of 2 after this...\n",
    "Performed task 1 after delay of 2\n",
    "{'data': 1}\n",
    "Performing task 2 with delay of 2 after this...\n",
    "Performed task 2 after delay of 2\n",
    "{'data': 2}\n",
    "Total time taken: 4.014990329742432\n",
    "\"\"\""
   ]
  },
  {
   "cell_type": "markdown",
   "metadata": {},
   "source": [
    "### Tasks"
   ]
  },
  {
   "cell_type": "markdown",
   "metadata": {},
   "source": [
    "- Tasks can run paralelly ( just like threads )\n",
    "- BETER, use `TaskGroups`"
   ]
  },
  {
   "cell_type": "code",
   "execution_count": 6,
   "metadata": {},
   "outputs": [],
   "source": [
    "async def main():\n",
    "    start_time = time.time()\n",
    "\n",
    "    task1 = asyncio.create_task(do_some_task(1, 2))\n",
    "    task2 = asyncio.create_task(do_some_task(2, 2))\n",
    "\n",
    "    res1 = await task1\n",
    "    res2 = await task2\n",
    "\n",
    "    print(res1)\n",
    "    print(res2)\n",
    "\n",
    "    print(f\"Total time taken: {time.time()-start_time}\")"
   ]
  },
  {
   "cell_type": "code",
   "execution_count": null,
   "metadata": {},
   "outputs": [],
   "source": [
    "async def main():\n",
    "    start_time = time.time()\n",
    "\n",
    "    tasks = []\n",
    "    async with asyncio.TaskGroup() as tg:\n",
    "        tasks.append(tg.create_task(do_some_task(1, 2)))\n",
    "        tasks.append(tg.create_task(do_some_task(2, 2)))\n",
    "\n",
    "    results = [task.result() for task in tasks]\n",
    "    print(results)\n",
    "\n",
    "    print(f\"Total time taken: {time.time()-start_time}\")\n"
   ]
  },
  {
   "cell_type": "code",
   "execution_count": null,
   "metadata": {},
   "outputs": [],
   "source": [
    "\"\"\"\n",
    "Performing task 1 with delay of 2 after this...\n",
    "Performing task 2 with delay of 2 after this...\n",
    "Performed task 1 after delay of 2\n",
    "Performed task 2 after delay of 2\n",
    "{'data': 1}\n",
    "{'data': 2}\n",
    "Total time taken: 2.008986234664917\n",
    "\"\"\""
   ]
  },
  {
   "cell_type": "markdown",
   "metadata": {},
   "source": [
    "### TaskGroups with synchronized locks\n"
   ]
  },
  {
   "cell_type": "code",
   "execution_count": null,
   "metadata": {},
   "outputs": [],
   "source": [
    "import asyncio\n",
    "import time\n",
    "\n",
    "counter = 0\n",
    "lock = asyncio.Lock()\n",
    "\n",
    "async def do_some_task(id, delay):\n",
    "    global counter\n",
    "    async with lock:\n",
    "        print(f\"Performing task {id} with delay of {delay} after this...\")\n",
    "        await asyncio.sleep(delay)\n",
    "        print(f\"Performed task {id} after delay of {delay}\")\n",
    "        return {\"data\": id}\n",
    "\n",
    "\n",
    "async def main():\n",
    "    start_time = time.time()\n",
    "\n",
    "    tasks = []\n",
    "    async with asyncio.TaskGroup() as tg:\n",
    "        tasks.append(tg.create_task(do_some_task(1, 2)))\n",
    "        tasks.append(tg.create_task(do_some_task(2, 2)))\n",
    "\n",
    "    results = [task.result() for task in tasks]\n",
    "    print(results)\n",
    "\n",
    "    print(f\"Total time taken: {time.time()-start_time}\")\n",
    "\n",
    "\n",
    "\n",
    "asyncio.run(main())\n",
    "\"\"\"\n",
    "Performing task 1 with delay of 2 after this...\n",
    "Performed task 1 after delay of 2\n",
    "Performing task 2 with delay of 2 after this...\n",
    "Performed task 2 after delay of 2\n",
    "[{'data': 1}, {'data': 2}]\n",
    "Total time taken: 4.0154571533203125\n",
    "\"\"\""
   ]
  }
 ],
 "metadata": {
  "kernelspec": {
   "display_name": "base",
   "language": "python",
   "name": "python3"
  },
  "language_info": {
   "codemirror_mode": {
    "name": "ipython",
    "version": 3
   },
   "file_extension": ".py",
   "mimetype": "text/x-python",
   "name": "python",
   "nbconvert_exporter": "python",
   "pygments_lexer": "ipython3",
   "version": "3.12.3"
  }
 },
 "nbformat": 4,
 "nbformat_minor": 2
}
